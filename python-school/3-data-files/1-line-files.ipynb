{
 "cells": [
  {
   "cell_type": "markdown",
   "metadata": {},
   "source": [
    "# Generic text files\n",
    "\n",
    "## Introduction\n",
    "\n",
    "In these tutorials we will see how to load and write text files containing data in different formats:\n",
    "- line-delimited data\n",
    "- tabular data such as CSV\n",
    "- tree-like data such as JSON files."
   ]
  },
  {
   "cell_type": "markdown",
   "metadata": {},
   "source": [
    "## Line files\n",
    "\n",
    "Line files are typically text files which contain information grouped by lines. An example using historical characters might be like the following:\n",
    "\n",
    "```\n",
    "Leonardo\n",
    "da Vinci\n",
    "Sandro\n",
    "Botticelli\n",
    "Niccolò \n",
    "Macchiavelli\n",
    "```\n",
    "We can immediately see a regularity: first two lines contain data of Leonardo da Vinci, second one the name and then the surname. Successive lines instead have data of Sandro Botticelli, with again first the name and then the surname and so on.\n",
    "\n",
    "We might want to do a program that reads the lines and prints on the terminal names and surnames like the following:\n",
    "\n",
    "```\n",
    "Leonardo da Vinci \n",
    "Sandro Botticelli\n",
    "Niccolò Macchiavelli\n",
    "```\n",
    "\n",
    "To start having an approximation of the final result, we can open the file, read only the first line and print it:\n"
   ]
  },
  {
   "cell_type": "code",
   "execution_count": null,
   "metadata": {},
   "outputs": [
    {
     "name": "stdout",
     "output_type": "stream",
     "text": [
      "Leonardo\n",
      "\n"
     ]
    }
   ],
   "source": [
    "with open(\"data/people-simple.txt\", encoding=\"utf-8\") as file:\n",
    "    line = file.readline()\n",
    "    print(line)"
   ]
  },
  {
   "cell_type": "markdown",
   "metadata": {},
   "source": [
    "What happened? Let's examine the first rows:\n",
    "\n",
    "\n",
    "\n",
    "### The `open` function\n",
    "\n",
    "The command\n",
    "\n",
    "```python\n",
    "open(\"data/people-simple.txt\", encoding=\"utf-8\")\n",
    "```\n",
    "\n",
    "allows us to open the text file by telling Python the file path `'people-simple.txt'` and the encoding in which it was written (`encoding='utf-8'`). "
   ]
  },
  {
   "cell_type": "markdown",
   "metadata": {},
   "source": [
    "### The encoding\n",
    "\n",
    "Files on a computer are just a bunch of zeros and ones.\n",
    "Text files are no different, so what allows any program to interpret these zeros and ones into text is what's called the file encoding.\n",
    "Python being a program like any other, it needs to know with what encoding a text file was written to interpret it correctly.\n",
    "\n",
    "Most of the time though, you don't need to worry about it.\n",
    "When you open a file, first try not specifying any encoding.\n",
    "By default, Python assumes it's `utf-8`, which is the most common one.\n",
    "If it doesn't work, then you can try others.\n",
    "For example for files written in southern Europe with Windows you might try `encoding='latin-1'`.\n",
    "If you open a file written elsewhere, you might need other encodings.\n",
    "For more in-depth information, you can read [Dive into Python - Chapter 4 - Strings](https://diveintopython3.problemsolving.io/strings.html), and [Dive into Python - Chapter 11 - File](https://diveintopython3.problemsolving.io/files.html)."
   ]
  },
  {
   "cell_type": "markdown",
   "metadata": {},
   "source": [
    "### The `with` block\n",
    "\n",
    "The `with` defines a block with instructions inside:\n",
    "\n",
    "```python\n",
    "with open(\"data/people-simple.txt\", encoding=\"utf-8\") as f:\n",
    "    line = f.readline()\n",
    "    print(line)\n",
    "```\n",
    "\n",
    "`with` is used to create a *context* in which to execute the indented block of code that follows it.\n",
    "When we go back to the normal indentation level, we leave this context block.\n",
    "The context here is simply that a file is open, and that you can do stuff with it through the variable called `f`."
   ]
  },
  {
   "cell_type": "markdown",
   "metadata": {},
   "source": [
    "```{admonition} Question\n",
    "When we are out of this context, what happens then to the file and to the variable `f`?\n",
    "```"
   ]
  },
  {
   "cell_type": "markdown",
   "metadata": {},
   "source": [
    "```{admonition} Question\n",
    "Let's now see this in practice.\n",
    "Before running the following cell, try to guess what happens when we try reading another line with `f`.\n",
    "```"
   ]
  },
  {
   "cell_type": "code",
   "execution_count": null,
   "metadata": {
    "tags": [
     "raises-exception",
     "hide-output"
    ]
   },
   "outputs": [],
   "source": [
    "file.readline()"
   ]
  },
  {
   "cell_type": "markdown",
   "metadata": {},
   "source": [
    "Properly closing a file avoids to waste memory resources and creating hard to find paranormal errors. If you want to avoid hunting for never closed zombie files, always remember to open all files in `with` blocks! Furthermore, at the end of the row in the part `as f:` we assigned the file to a variable hereby called `f`, but we could have used any other name we liked."
   ]
  },
  {
   "cell_type": "markdown",
   "metadata": {},
   "source": [
    "```{warning}\n",
    "To indent the code, always use sequences of four white spaces. Sequences of only 2 spaces, even if allowed, are not recommended.\n",
    "```\n",
    "\n",
    "```{warning}\n",
    "Depending on the editor you use, by pressing `<Tab>` you might get a sequence o f white spaces like it happens in Jupyter (4 spaces which is the recommended length), or a special tabulation character (to avoid)! As annoying as this distinction might appear, remember it because it might generate very hard to find errors.\n",
    "```\n",
    "\n",
    "```{warning}\n",
    "In the commands to create blocks such as `with`, always remember to put the character of colon `:` at the end of the line!\n",
    "```"
   ]
  },
  {
   "cell_type": "markdown",
   "metadata": {},
   "source": [
    "### Reading in the file\n",
    "\n",
    "The command\n",
    "\n",
    "```\n",
    "    line = f.readline()\n",
    "```\n",
    "puts in the variable `line` the entire first line, like a string. Warning: the string will contain at the end the special character of line return!\n",
    "\n",
    "You might wonder where that `.readline()` comes from. Like everything in Python, our variable `f` which represents the file we just opened is an object, and like any object, depending on its type, it has particular methods we can use on it. In this case the method is `.readline()`. \n",
    "\n",
    "The following command prints the string content:\n",
    "\n",
    "```python\n",
    "    print(line) \n",
    "```"
   ]
  },
  {
   "cell_type": "markdown",
   "metadata": {},
   "source": [
    "**✪ 1.1 EXERCISE**: Try to rewrite here the block we've just seen, but this time printing the first two lines. Rewrite the code with the fingers, not with copy-paste! Pay attention to correct indentation with spaces in the block."
   ]
  },
  {
   "cell_type": "markdown",
   "metadata": {},
   "source": [
    "**✪ 1.2 EXERCISE**: you might be wondering what exactly is that `f`, and what exactly the method `readline` should be doing. When you find yourself in these situations, you might help yourself with functions `type` and `help`. This time, directly copy paste the same code here, but insert inside `with` block the commands:\n",
    "\n",
    "* `print(type(f))`\n",
    "* `help(f)`\n",
    "* `help(f.readline)`      # Attention: remember the f. before the readline !!\n",
    "\n",
    "Every time you add something, try to execute with Control+Enter and see what happens"
   ]
  },
  {
   "cell_type": "markdown",
   "metadata": {},
   "source": [
    "```{note}\n",
    "You can obtain an output similar to `help(object)` with the shortcut `object?`, try it! This works for any function or class, so it's extremely useful! Use it whenever you forget the arguments of a function. This is what is called an [IPython magic command](https://ipython.readthedocs.io/en/stable/interactive/magics.html), recognisable by the starting `%`. You may use them in an IPython session or Jupyter cell, but not in the basic Python interpreter (when you call `python`)!\n",
    "```"
   ]
  },
  {
   "cell_type": "markdown",
   "metadata": {},
   "source": [
    "\n",
    "First we put the content of the first line into the variable `line`, now we might put it in a variable with a more meaningful name, like `name`. Also, we can directly read the next row into the variable `surname` and then print the concatenation of both:\n"
   ]
  },
  {
   "cell_type": "code",
   "execution_count": null,
   "metadata": {},
   "outputs": [
    {
     "name": "stdout",
     "output_type": "stream",
     "text": [
      "Leonardo\n",
      " da Vinci\n",
      "\n"
     ]
    }
   ],
   "source": [
    "with open(\"data/people-simple.txt\") as file:\n",
    "    name = file.readline()\n",
    "    surname = file.readline()\n",
    "    print(f\"{name} {surname}\")"
   ]
  },
  {
   "cell_type": "markdown",
   "metadata": {},
   "source": [
    "**PROBLEM !** The printing puts a weird carriage return. Why is that? If you remember, first we said that `readline` reads the line content in a string adding to the end also the special newline character. To eliminate it, you can use the command `rstrip()`: \n"
   ]
  },
  {
   "cell_type": "code",
   "execution_count": null,
   "metadata": {},
   "outputs": [
    {
     "name": "stdout",
     "output_type": "stream",
     "text": [
      "Leonardo da Vinci\n"
     ]
    }
   ],
   "source": [
    "with open(\"data/people-simple.txt\") as file:\n",
    "    name = file.readline().rstrip()\n",
    "    surname = file.readline().rstrip()\n",
    "    print(f\"{name} {surname}\")"
   ]
  },
  {
   "cell_type": "markdown",
   "metadata": {},
   "source": [
    "**✪ 1.3 EXERCISE**: Again, rewrite the block above in the cell below, and execute the cell with Control+Enter.\n",
    "\n",
    "Question: what happens if you use `strip()` instead of `rstrip()`? What about `lstrip()`? Can you deduce the meaning of `r` and `l`? If you can't manage it, try to use python command `help` by calling `help(string.rstrip)`"
   ]
  },
  {
   "cell_type": "code",
   "execution_count": null,
   "metadata": {},
   "outputs": [
    {
     "name": "stdout",
     "output_type": "stream",
     "text": [
      "Leonardo da Vinci\n"
     ]
    }
   ],
   "source": [
    "with open(\"data/people-simple.txt\") as file:\n",
    "    name = file.readline().rstrip()\n",
    "    surname = file.readline().rstrip()\n",
    "    print(f\"{name} {surname}\")"
   ]
  },
  {
   "cell_type": "markdown",
   "metadata": {},
   "source": [
    "Very good, we have the first line ! Now we can read all the lines in sequence. To this end, we can use a `while` cycle:"
   ]
  },
  {
   "cell_type": "code",
   "execution_count": null,
   "metadata": {},
   "outputs": [
    {
     "name": "stdout",
     "output_type": "stream",
     "text": [
      "Leonardo da Vinci\n",
      "Sandro Botticelli\n",
      "Niccolò Macchiavelli\n"
     ]
    }
   ],
   "source": [
    "with open(\"data/people-simple.txt\") as file:\n",
    "    line = file.readline()\n",
    "    while line != \"\":\n",
    "        name = line.rstrip()\n",
    "        surname = file.readline().rstrip()\n",
    "        print(f\"{name} {surname}\")\n",
    "        line = file.readline()"
   ]
  },
  {
   "cell_type": "markdown",
   "metadata": {},
   "source": [
    "What did we do? First, we added a `while` cycle in a new block\n",
    "\n",
    "```{warning}\n",
    "In new block, since it is already within the external `with`, the instructions are indented of 8 spaces and not 4! If you use the wrong spaces, bad things happen !\n",
    "```\n",
    "\n",
    "We first read a line, and two cases are possible: \n",
    "\n",
    "a. we are the end of the file (or file is empty) : in this case  `readline()` call returns an empty string\n",
    "\n",
    "b. we are not at the end of the file: the first line is put as a string inside the variable `line`. Since Python internally uses a pointer to keep track at which position we are when reading inside the file, after the read such pointer is moved at the beginning of the next line. This way the next call to `readline()` will read a line from the new position.\n",
    "\n",
    "In `while` block we tell Python to continue the cycle as long as `line` is _not_ empty. If this is the case, inside the `while` block we parse the name from the line and put it in variable `name` (removing extra newline character with `rstrip()` as we did before), then we proceed reading the next line and parse the result inside the `surname` variable. Finally, we read again a line into the `line` variable so it will be ready for the next round of name extraction. If line is empty the cycle will terminate:\n",
    "\n",
    "\n",
    "```python\n",
    "while line != \"\":                   # enter cycle if line contains characters\n",
    "    name = line.rstrip()            # parses the name\n",
    "    surname = f.readline().rstrip()   # reads next line and parses surname\n",
    "    print(f\"{name} {surname}\")\n",
    "    line = f.readline()               # read next line\n",
    "```"
   ]
  },
  {
   "cell_type": "markdown",
   "metadata": {},
   "source": [
    "```{note}\n",
    "In Python there are [shorter ways](https://thispointer.com/5-different-ways-to-read-a-file-line-by-line-in-python/) \n",
    "to read a text file line by line, we used this approach to make explicit all passages.\n",
    "```"
   ]
  },
  {
   "cell_type": "markdown",
   "metadata": {},
   "source": [
    "**✪✪ 1.4 EXERCISE**: We just presented the approach above to make things explicit. However, there are two more idiomatic ways to iterate over lines which involve a `for` loop. Try to rewrite the code above, this time using a `for` loop.\n",
    "\n",
    "```{hint}\n",
    "Start by inspecting all methods of `f` using `dir(f)`, or the cell magic `?f.*`. Can you find the two methods that could help you? Also, experiment with random ideas of how to use the `for` loop, one of them might just work!\n",
    "```"
   ]
  },
  {
   "cell_type": "markdown",
   "metadata": {},
   "source": [
    "### Writing in the file"
   ]
  },
  {
   "cell_type": "markdown",
   "metadata": {},
   "source": [
    "If you want instead to *write* into a file, you should specify it from the moment you `open` it, using `\"w\"` as a second argument, like so:"
   ]
  },
  {
   "cell_type": "code",
   "execution_count": null,
   "metadata": {},
   "outputs": [],
   "source": [
    "with open(\"data/people-simple-new.txt\", \"w\") as file:\n",
    "    file.write(\"\")"
   ]
  },
  {
   "cell_type": "markdown",
   "metadata": {},
   "source": [
    "We passed the content of this new file to `f.write()`, which is here an empty string.\n",
    "Now let's read this file to check everything went correctly:"
   ]
  },
  {
   "cell_type": "code",
   "execution_count": null,
   "metadata": {},
   "outputs": [
    {
     "name": "stdout",
     "output_type": "stream",
     "text": [
      "\n"
     ]
    }
   ],
   "source": [
    "with open(\"data/people-simple-new.txt\", \"r\") as file:\n",
    "    print(file.read())"
   ]
  },
  {
   "cell_type": "markdown",
   "metadata": {},
   "source": [
    "That's an empty string indeed!\n",
    "\n",
    "```{warning}\n",
    "Always check that the path you're writing to does not point to an existing file that you'd like to keep!\n",
    "Otherwise you'll completely overwrite it, thus losing data!\n",
    "```"
   ]
  },
  {
   "cell_type": "markdown",
   "metadata": {},
   "source": [
    "**✪✪ 1.5 EXERCISE**: As above, get the full name of each historical character, but instead of printing it, store it into a list.\n",
    "Then use this list to write a new file `data/people-simple-new.txt`, containing on each line the full name of a historical character.\n",
    "Check things went as planned by reading in the file after writing to it.\n"
   ]
  },
  {
   "cell_type": "markdown",
   "metadata": {},
   "source": [
    "## Exercises - `people-complex` line file\n",
    "\n",
    "Look at the file `people-complex.txt`:\n",
    "\n",
    "```\n",
    "name: Leonardo\n",
    "surname: da Vinci\n",
    "birthdate: 1452-04-15\n",
    "name: Sandro\n",
    "surname: Botticelli\n",
    "birthdate: 1445-03-01\n",
    "name: Niccolò \n",
    "surname: Macchiavelli\n",
    "birthdate: 1469-05-03\n",
    "```\n",
    "Supposing to read the file to print this output, how would you do it? \n",
    "\n",
    "```\n",
    "Leonardo da Vinci, 1452-04-15\n",
    "Sandro Botticelli, 1445-03-01\n",
    "Niccolò Macchiavelli, 1469-05-03\n",
    "```"
   ]
  },
  {
   "cell_type": "markdown",
   "metadata": {},
   "source": [
    "```{hint}\n",
    "Each line is clearly split into two parts. Find the method you can use on a line to separate the line into these two parts. Then it'll be easy to extract the part you're interested in.\n",
    "```"
   ]
  },
  {
   "cell_type": "markdown",
   "metadata": {},
   "source": [
    "**✪ 1.5 EXERCISE**: Write here the solution of the exercise 'People complex'. Use either a `while` or a `for` loop, whichever you feel more comfortable with."
   ]
  },
  {
   "cell_type": "markdown",
   "metadata": {},
   "source": [
    "## Exercise -  `immersione-in-python-toc` line file\n",
    "\n",
    "✪✪✪ This exercise is more challenging, if you are a beginner you might skip it and go on to CSVs\n",
    "\n",
    "The book Dive into Python is nice and for the italian version there is a PDF, which has a problem though: if you try to print it, you will discover that the index is missing. Without despairing, we found a program to extract titles in a file as follows, but you will discover it is not exactly nice to see. Since we are Python ninjas, we decided to transform raw titles in a [real table of contents](data/immersione-in-python-toc.txt). Sure enough there are smarter ways to do this, like loading the pdf in Python with an appropriate module for pdfs, still this makes for an interesting exercise.\n",
    "\n",
    "You are given the file `immersione-in-python-toc.txt`:\n",
    "\n",
    "```\n",
    "BookmarkBegin\n",
    "BookmarkTitle: Il vostro primo programma Python\n",
    "BookmarkLevel: 1\n",
    "BookmarkPageNumber: 38\n",
    "BookmarkBegin\n",
    "BookmarkTitle: Immersione!\n",
    "BookmarkLevel: 2\n",
    "BookmarkPageNumber: 38\n",
    "BookmarkBegin\n",
    "BookmarkTitle: Dichiarare funzioni\n",
    "BookmarkLevel: 2\n",
    "BookmarkPageNumber: 41\n",
    "BookmarkBeginint\n",
    "BookmarkTitle: Argomenti opzionali e con nome\n",
    "BookmarkLevel: 3\n",
    "BookmarkPageNumber: 42\n",
    "BookmarkBegin\n",
    "BookmarkTitle: Scrivere codice leggibile\n",
    "BookmarkLevel: 2\n",
    "BookmarkPageNumber: 44\n",
    "BookmarkBegin\n",
    "BookmarkTitle: Stringhe di documentazione\n",
    "BookmarkLevel: 3\n",
    "BookmarkPageNumber: 44\n",
    "BookmarkBegin\n",
    "BookmarkTitle: Il percorso di ricerca di import\n",
    "BookmarkLevel: 2\n",
    "BookmarkPageNumber: 46\n",
    "BookmarkBegin\n",
    "BookmarkTitle: Ogni cosa &#232; un oggetto\n",
    "BookmarkLevel: 2\n",
    "BookmarkPageNumber: 47\n",
    "```\n",
    "\n",
    "Write a python program to print the following output:\n",
    "\n",
    "```\n",
    "   Il vostro primo programma Python  38\n",
    "      Immersione!  38\n",
    "      Dichiarare funzioni  41\n",
    "         Argomenti opzionali e con nome  42\n",
    "      Scrivere codice leggibile  44\n",
    "         Stringhe di documentazione  44\n",
    "      Il percorso di ricerca di import  46\n",
    "      Ogni cosa è un oggetto  47\n",
    "```\n",
    "\n",
    "For this exercise, you will need to insert in the output artificial spaces, in a qunatity determined by the rows `BookmarkLevel`\n",
    "\n",
    "\n",
    "**QUESTION**: what's that weird value `&#232;` at the end of the original file? Should we report it in the output?\n",
    "\n",
    "**HINT 1**: To convert a string into an integer number, use the function `int`:\n"
   ]
  },
  {
   "cell_type": "code",
   "execution_count": null,
   "metadata": {},
   "outputs": [],
   "source": [
    "x = '5'"
   ]
  },
  {
   "cell_type": "code",
   "execution_count": null,
   "metadata": {},
   "outputs": [
    {
     "data": {
      "text/plain": [
       "'5'"
      ]
     },
     "execution_count": null,
     "metadata": {},
     "output_type": "execute_result"
    }
   ],
   "source": [
    "x"
   ]
  },
  {
   "cell_type": "code",
   "execution_count": null,
   "metadata": {},
   "outputs": [
    {
     "data": {
      "text/plain": [
       "5"
      ]
     },
     "execution_count": null,
     "metadata": {},
     "output_type": "execute_result"
    }
   ],
   "source": [
    "int(x)"
   ]
  },
  {
   "cell_type": "markdown",
   "metadata": {},
   "source": [
    "```{warning}\n",
    "`int(x)` returns a value, and never modifies the argument `x`!  \n",
    "```"
   ]
  },
  {
   "cell_type": "markdown",
   "metadata": {},
   "source": [
    "**HINT 2**: To substitute a substring in a string, you can use the method `.replace`:"
   ]
  },
  {
   "cell_type": "code",
   "execution_count": null,
   "metadata": {},
   "outputs": [
    {
     "data": {
      "text/plain": [
       "'abHELLOe'"
      ]
     },
     "execution_count": null,
     "metadata": {},
     "output_type": "execute_result"
    }
   ],
   "source": [
    "x = \"abcde\"\n",
    "x.replace(\"cd\", \"HELLO\")"
   ]
  },
  {
   "cell_type": "markdown",
   "metadata": {},
   "source": [
    "**HINT 3**: while there is only one sequence to substitute, `replace` is fine, but if we had a million of horrible sequences like `&gt;`, `&#62;`, `&x3e;`, what should we do? As good data cleaners, we recognize these are [HTML escape sequences](https://corsidia.com/materia/web-design/caratterispecialihtml), so we could use  methods specific to sequences like [html.escape](https://docs.python.org/3/library/html.html#html.unescape). Try it instead of `replace` and check if it works!\n",
    "\n",
    "\n",
    "NOTE: Before using `html.unescape`, import the module `html` with the command: \n",
    "\n",
    "```python\n",
    "import html\n",
    "```"
   ]
  },
  {
   "cell_type": "markdown",
   "metadata": {},
   "source": [
    "**HINT 4**: To write _n_ copies of a character, use `*` like this:"
   ]
  },
  {
   "cell_type": "code",
   "execution_count": null,
   "metadata": {},
   "outputs": [
    {
     "data": {
      "text/plain": [
       "'bbbb'"
      ]
     },
     "execution_count": null,
     "metadata": {},
     "output_type": "execute_result"
    }
   ],
   "source": [
    "\"b\" * 4"
   ]
  },
  {
   "cell_type": "markdown",
   "metadata": {},
   "source": [
    "**IMPLEMENTATION**: Write here the solution for the line file `immersione-in-python-toc.txt`.\n"
   ]
  },
  {
   "cell_type": "code",
   "execution_count": null,
   "metadata": {},
   "outputs": [],
   "source": []
  }
 ],
 "metadata": {
  "kernelspec": {
   "display_name": "Python 3",
   "language": "python",
   "name": "python3"
  },
  "language_info": {
   "codemirror_mode": {
    "name": "ipython",
    "version": 3
   },
   "file_extension": ".py",
   "mimetype": "text/x-python",
   "name": "python",
   "nbconvert_exporter": "python",
   "pygments_lexer": "ipython3"
  },
  "toc": {
   "base_numbering": 1,
   "nav_menu": {},
   "number_sections": false,
   "sideBar": true,
   "skip_h1_title": false,
   "title_cell": "Table of Contents",
   "title_sidebar": "Contents",
   "toc_cell": false,
   "toc_position": {},
   "toc_section_display": true,
   "toc_window_display": true
  }
 },
 "nbformat": 4,
 "nbformat_minor": 2
}
