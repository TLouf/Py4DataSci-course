{
 "cells": [
  {
   "cell_type": "markdown",
   "id": "worst-going",
   "metadata": {},
   "source": [
    "# Challenges"
   ]
  },
  {
   "cell_type": "code",
   "execution_count": 1,
   "id": "db53fcb9",
   "metadata": {},
   "outputs": [],
   "source": [
    "import csv\n",
    "import json\n",
    "from pprint import pprint"
   ]
  },
  {
   "cell_type": "markdown",
   "id": "ce34ed3d",
   "metadata": {},
   "source": [
    "## Parsing challenge - Spam killer \n",
    "\n",
    "\n",
    "Roughly half of all emails sent in the world are spam.\n",
    "\n",
    "Enraged by the number of pointless messages arriving each day, you decide to develop the definitive spam filter."
   ]
  },
  {
   "cell_type": "markdown",
   "id": "61c89126",
   "metadata": {},
   "source": [
    "### Spam killer 1. mail reader\n",
    "\n",
    "A mail is a text file formatted as specified by standard [RFC 822](https://tools.ietf.org/html/rfc822) (you don't need to read the specs, but keep in mind RFC are typically specs!) \n",
    "\n",
    "A mail contains a certain number of fields, an empty line, and then the mail body:\n",
    "\n",
    "```\n",
    "Received: from forwarder@mailforeverybody.net\n",
    "Message-Id: <v121c0404ad6a23934739@>\n",
    "Mime-Version: 1.0\n",
    "Content-Type: text/plain; charset=\"us-ascii\"\n",
    "Date: Thursday, 4 Jun 2020 09:43:14 -0800\n",
    "To: noreply@softpython.org\n",
    "From: Harvey The Salesman <harvey@thegreatvacuum.com>\n",
    "Subject: DISCOUNTED Vacuum Cleaners\n",
    "Precedence: bulk\n",
    "\n",
    "Hi!\n",
    "Find the best offers on our website: thegreatvacuum.com !!!\n",
    "\n",
    "Cheers, \n",
    "Harvey\n",
    "```"
   ]
  },
  {
   "cell_type": "markdown",
   "id": "7228d429",
   "metadata": {},
   "source": [
    "Each field name is separated from the value by a colon `:` \n",
    "\n",
    "For example, in:\n",
    "\n",
    "```\n",
    "From: Harvey The Salesman <harvey@thegreatvacuum.com>\n",
    "```\n",
    "\n",
    "`From` is the field name, and `Harvey The Salesman <harvey@thegreatvacuum.com>` is the field value."
   ]
  },
  {
   "cell_type": "markdown",
   "id": "1629a4eb",
   "metadata": {},
   "source": [
    "Implement a function `read_mail(filename)` which parses a `mailn.txt` file and RETURN a dictionary holding all the field names\n",
    "\n",
    "- the body has no field name in the file: in the dictionary you can use `Body` as field name\n",
    "- **REMEMBER** to remove newlines from field values\n",
    "- **DO NOT** remove newlines from the body\n",
    "- **HINT**: Getting the body text right might be tricky, so first try just parsing the fields\n",
    "\n",
    "Example:\n",
    "\n",
    "```python\n",
    ">>> pprint(read_mail('mail1.txt'))\n",
    "\n",
    "{'Received': 'from forwarder@mailforeverybody.net',\n",
    " 'Message-Id': '<v121c0404ad6a23934739@>',\n",
    " 'Mime-Version': '1.0',\n",
    " 'Content-Type': 'text/plain; charset=\"us-ascii\"',\n",
    " 'Date': 'Thursday, 4 Jun 2020 09:43:14 -0800',\n",
    " 'To': 'noreply@softpython.org',\n",
    " 'From': 'Harvey The Salesman <harvey@thegreatvacuum.com>',\n",
    " 'Subject': 'DISCOUNTED Vacuum Cleaners',\n",
    " 'Precedence': 'bulk',\n",
    " 'Body': 'Hi!\\nFind the best offers on our website: thegreatvacuum.com !!!\\nCheers, \\nHarvey'}\n",
    "```"
   ]
  },
  {
   "cell_type": "code",
   "execution_count": 2,
   "id": "6c33b691-stripped",
   "metadata": {
    "tags": [
     "skip-execution"
    ]
   },
   "outputs": [
    {
     "ename": "Exception",
     "evalue": "TODO IMPLEMENT ME !",
     "output_type": "error",
     "traceback": [
      "\u001b[0;31m---------------------------------------------------------------------------\u001b[0m",
      "\u001b[0;31mException\u001b[0m                                 Traceback (most recent call last)",
      "Cell \u001b[0;32mIn[2], line 6\u001b[0m\n\u001b[1;32m      2\u001b[0m \u001b[38;5;250m    \u001b[39m\u001b[38;5;124;03m\"\"\"RETURN a NEW dictionary\"\"\"\u001b[39;00m\n\u001b[1;32m      3\u001b[0m     \u001b[38;5;28;01mraise\u001b[39;00m \u001b[38;5;167;01mException\u001b[39;00m(\u001b[38;5;124m\"\u001b[39m\u001b[38;5;124mTODO IMPLEMENT ME !\u001b[39m\u001b[38;5;124m\"\u001b[39m)\n\u001b[0;32m----> 6\u001b[0m pprint(\u001b[43mread_mail\u001b[49m\u001b[43m(\u001b[49m\u001b[38;5;124;43m\"\u001b[39;49m\u001b[38;5;124;43mmail1.txt\u001b[39;49m\u001b[38;5;124;43m\"\u001b[39;49m\u001b[43m)\u001b[49m)\n\u001b[1;32m      8\u001b[0m \u001b[38;5;28;01massert\u001b[39;00m read_mail(\u001b[38;5;124m\"\u001b[39m\u001b[38;5;124mmail1.txt\u001b[39m\u001b[38;5;124m\"\u001b[39m) \u001b[38;5;241m==\u001b[39m {\n\u001b[1;32m      9\u001b[0m     \u001b[38;5;124m\"\u001b[39m\u001b[38;5;124mBody\u001b[39m\u001b[38;5;124m\"\u001b[39m: \u001b[38;5;124m\"\u001b[39m\u001b[38;5;124mHi!\u001b[39m\u001b[38;5;130;01m\\n\u001b[39;00m\u001b[38;5;124m\"\u001b[39m\n\u001b[1;32m     10\u001b[0m     \u001b[38;5;124m\"\u001b[39m\u001b[38;5;124mFind the best offers on our website: thegreatvacuum.com !!!\u001b[39m\u001b[38;5;130;01m\\n\u001b[39;00m\u001b[38;5;124m\"\u001b[39m\n\u001b[0;32m   (...)\u001b[0m\n\u001b[1;32m     21\u001b[0m     \u001b[38;5;124m\"\u001b[39m\u001b[38;5;124mTo\u001b[39m\u001b[38;5;124m\"\u001b[39m: \u001b[38;5;124m\"\u001b[39m\u001b[38;5;124mnoreply@softpython.org\u001b[39m\u001b[38;5;124m\"\u001b[39m,\n\u001b[1;32m     22\u001b[0m }\n\u001b[1;32m     24\u001b[0m read_mail(\u001b[38;5;124m\"\u001b[39m\u001b[38;5;124mmail2.txt\u001b[39m\u001b[38;5;124m\"\u001b[39m) \u001b[38;5;241m==\u001b[39m {\n\u001b[1;32m     25\u001b[0m     \u001b[38;5;124m\"\u001b[39m\u001b[38;5;124mReceived\u001b[39m\u001b[38;5;124m\"\u001b[39m: \u001b[38;5;124m\"\u001b[39m\u001b[38;5;124mfrom mailman@networked-solutions.net\u001b[39m\u001b[38;5;124m\"\u001b[39m,\n\u001b[1;32m     26\u001b[0m     \u001b[38;5;124m\"\u001b[39m\u001b[38;5;124mMessage-Id\u001b[39m\u001b[38;5;124m\"\u001b[39m: \u001b[38;5;124m\"\u001b[39m\u001b[38;5;124m<v47gc04e7ad6a249f4539@>\u001b[39m\u001b[38;5;124m\"\u001b[39m,\n\u001b[0;32m   (...)\u001b[0m\n\u001b[1;32m     34\u001b[0m     \u001b[38;5;124m\"\u001b[39m\u001b[38;5;124mBody\u001b[39m\u001b[38;5;124m\"\u001b[39m: \u001b[38;5;124m\"\u001b[39m\u001b[38;5;124mCongratulations! You\u001b[39m\u001b[38;5;124m'\u001b[39m\u001b[38;5;124mve been crunching so many matrices \u001b[39m\u001b[38;5;130;01m\\n\u001b[39;00m\u001b[38;5;124mduring the job interview you deserve 20.000€ salary/month + benefits.\u001b[39m\u001b[38;5;130;01m\\n\u001b[39;00m\u001b[38;5;124mWe will install in your office three pinball machines \u001b[39m\u001b[38;5;130;01m\\n\u001b[39;00m\u001b[38;5;124mand a dispenser of M&Ms - which colors do you prefer?\u001b[39m\u001b[38;5;130;01m\\n\u001b[39;00m\u001b[38;5;124mBest,\u001b[39m\u001b[38;5;130;01m\\n\u001b[39;00m\u001b[38;5;124mYour Next Boss\u001b[39m\u001b[38;5;130;01m\\n\u001b[39;00m\u001b[38;5;124m\"\u001b[39m,\n\u001b[1;32m     35\u001b[0m }\n",
      "Cell \u001b[0;32mIn[2], line 3\u001b[0m, in \u001b[0;36mread_mail\u001b[0;34m(filename)\u001b[0m\n\u001b[1;32m      1\u001b[0m \u001b[38;5;28;01mdef\u001b[39;00m \u001b[38;5;21mread_mail\u001b[39m(filename):\n\u001b[1;32m      2\u001b[0m \u001b[38;5;250m    \u001b[39m\u001b[38;5;124;03m\"\"\"RETURN a NEW dictionary\"\"\"\u001b[39;00m\n\u001b[0;32m----> 3\u001b[0m     \u001b[38;5;28;01mraise\u001b[39;00m \u001b[38;5;167;01mException\u001b[39;00m(\u001b[38;5;124m\"\u001b[39m\u001b[38;5;124mTODO IMPLEMENT ME !\u001b[39m\u001b[38;5;124m\"\u001b[39m)\n",
      "\u001b[0;31mException\u001b[0m: TODO IMPLEMENT ME !"
     ]
    }
   ],
   "source": [
    "def read_mail(filename):\n",
    "    \"\"\"RETURN a NEW dictionary\"\"\"\n",
    "    raise Exception(\"TODO IMPLEMENT ME !\")\n",
    "\n",
    "\n",
    "pprint(read_mail(\"mail1.txt\"))\n",
    "\n",
    "assert read_mail(\"mail1.txt\") == {\n",
    "    \"Body\": \"Hi!\\n\"\n",
    "    \"Find the best offers on our website: thegreatvacuum.com !!!\\n\"\n",
    "    \"Cheers, \\n\"\n",
    "    \"Harvey\",\n",
    "    \"Content-Type\": 'text/plain; charset=\"us-ascii\"',\n",
    "    \"Date\": \"Thursday, 4 Jun 2020 09:43:14 -0800\",\n",
    "    \"From\": \"Harvey The Salesman <harvey@thegreatvacuum.com>\",\n",
    "    \"Message-Id\": \"<v121c0404ad6a23934739@>\",\n",
    "    \"Mime-Version\": \"1.0\",\n",
    "    \"Precedence\": \"bulk\",\n",
    "    \"Received\": \"from forwarder@mailforeverybody.net\",\n",
    "    \"Subject\": \"DISCOUNTED Vacuum Cleaners\",\n",
    "    \"To\": \"noreply@softpython.org\",\n",
    "}\n",
    "\n",
    "read_mail(\"mail2.txt\") == {\n",
    "    \"Received\": \"from mailman@networked-solutions.net\",\n",
    "    \"Message-Id\": \"<v47gc04e7ad6a249f4539@>\",\n",
    "    \"Mime-Version\": \"1.0\",\n",
    "    \"Content-Type\": 'text/plain; charset=\"us-ascii\"',\n",
    "    \"Date\": \"Tuesday, 7 Jul 2020 16:25:14 -0800\",\n",
    "    \"To\": \"info@softpython.org\",\n",
    "    \"From\": \"Mr Boss <head@overpaid-data-scientists.com>\",\n",
    "    \"Subject\": \"20K/month Job offer\",\n",
    "    \"Precedence\": \"bulk\",\n",
    "    \"Body\": \"Congratulations! You've been crunching so many matrices \\nduring the job interview you deserve 20.000€ salary/month + benefits.\\nWe will install in your office three pinball machines \\nand a dispenser of M&Ms - which colors do you prefer?\\nBest,\\nYour Next Boss\\n\",\n",
    "}"
   ]
  },
  {
   "cell_type": "markdown",
   "id": "fefcae7b",
   "metadata": {},
   "source": [
    "### Spam killer 2. running filters\n",
    "\n",
    "\n",
    "You defined various filters you want to run on the mails. Each filter is defined as a tuple containing a field name and a string to search for. If the field value contains the string, the mail is marked as spam.\n",
    "\n",
    "Write a function `run_filter` which takes filters as list of tuples and a list of mail files, and RETURN a report as a list of lists. \n",
    "It must have:\n",
    "\n",
    "* a header\n",
    "* rows\n",
    "* columns `Subject`, `From`\n",
    "* column `SPAM?`  as a boolean: `True` if any of the filters detected the mail as spam, `False` otherwise\n",
    "\n",
    "Example:\n",
    "\n",
    "```python\n",
    ">>> report = run_filters([('From', 'secret-encounters-at-night.com'),\n",
    "                          ('Body','offer') ],\n",
    "                         ['mail1.txt', 'mail2.txt', 'mail3.txt', 'mail4.txt'])\n",
    ">>> pprint(report, width=90)\n",
    "[['Subject', 'From', 'SPAM?'],\n",
    " ['DISCOUNTED Vacuum Cleaners', 'Harvey The Salesman <harvey@thegreatvacuum.com>', True],\n",
    " ['20K/month Job offer', 'Mr Boss <head@overpaid-data-scientists.com>', False],\n",
    " ['I noticed you ...', 'That lady  <lady@secret-encounters-at-night.com>', True],\n",
    " ['Some help with your thesis', 'John <john@yourfriends.net>', False]]\n",
    "```"
   ]
  },
  {
   "cell_type": "code",
   "execution_count": 3,
   "id": "81952fe8-stripped",
   "metadata": {
    "tags": [
     "skip-execution"
    ]
   },
   "outputs": [
    {
     "ename": "Exception",
     "evalue": "TODO IMPLEMENT ME !",
     "output_type": "error",
     "traceback": [
      "\u001b[0;31m---------------------------------------------------------------------------\u001b[0m",
      "\u001b[0;31mException\u001b[0m                                 Traceback (most recent call last)",
      "Cell \u001b[0;32mIn[3], line 6\u001b[0m\n\u001b[1;32m      2\u001b[0m \u001b[38;5;250m    \u001b[39m\u001b[38;5;124;03m\"\"\"RETURN a NEW list of lists\"\"\"\u001b[39;00m\n\u001b[1;32m      3\u001b[0m     \u001b[38;5;28;01mraise\u001b[39;00m \u001b[38;5;167;01mException\u001b[39;00m(\u001b[38;5;124m\"\u001b[39m\u001b[38;5;124mTODO IMPLEMENT ME !\u001b[39m\u001b[38;5;124m\"\u001b[39m)\n\u001b[0;32m----> 6\u001b[0m report1 \u001b[38;5;241m=\u001b[39m \u001b[43mrun_filters\u001b[49m\u001b[43m(\u001b[49m\n\u001b[1;32m      7\u001b[0m \u001b[43m    \u001b[49m\u001b[43m[\u001b[49m\u001b[43m(\u001b[49m\u001b[38;5;124;43m\"\u001b[39;49m\u001b[38;5;124;43mFrom\u001b[39;49m\u001b[38;5;124;43m\"\u001b[39;49m\u001b[43m,\u001b[49m\u001b[43m \u001b[49m\u001b[38;5;124;43m\"\u001b[39;49m\u001b[38;5;124;43msecret-encounters-at-night.com\u001b[39;49m\u001b[38;5;124;43m\"\u001b[39;49m\u001b[43m)\u001b[49m\u001b[43m,\u001b[49m\u001b[43m \u001b[49m\u001b[43m(\u001b[49m\u001b[38;5;124;43m\"\u001b[39;49m\u001b[38;5;124;43mBody\u001b[39;49m\u001b[38;5;124;43m\"\u001b[39;49m\u001b[43m,\u001b[49m\u001b[43m \u001b[49m\u001b[38;5;124;43m\"\u001b[39;49m\u001b[38;5;124;43moffer\u001b[39;49m\u001b[38;5;124;43m\"\u001b[39;49m\u001b[43m)\u001b[49m\u001b[43m]\u001b[49m\u001b[43m,\u001b[49m\n\u001b[1;32m      8\u001b[0m \u001b[43m    \u001b[49m\u001b[43m[\u001b[49m\u001b[38;5;124;43m\"\u001b[39;49m\u001b[38;5;124;43mmail1.txt\u001b[39;49m\u001b[38;5;124;43m\"\u001b[39;49m\u001b[43m,\u001b[49m\u001b[43m \u001b[49m\u001b[38;5;124;43m\"\u001b[39;49m\u001b[38;5;124;43mmail2.txt\u001b[39;49m\u001b[38;5;124;43m\"\u001b[39;49m\u001b[43m,\u001b[49m\u001b[43m \u001b[49m\u001b[38;5;124;43m\"\u001b[39;49m\u001b[38;5;124;43mmail3.txt\u001b[39;49m\u001b[38;5;124;43m\"\u001b[39;49m\u001b[43m,\u001b[49m\u001b[43m \u001b[49m\u001b[38;5;124;43m\"\u001b[39;49m\u001b[38;5;124;43mmail4.txt\u001b[39;49m\u001b[38;5;124;43m\"\u001b[39;49m\u001b[43m]\u001b[49m\u001b[43m,\u001b[49m\n\u001b[1;32m      9\u001b[0m \u001b[43m)\u001b[49m\n\u001b[1;32m     10\u001b[0m \u001b[38;5;28;01massert\u001b[39;00m report1 \u001b[38;5;241m==\u001b[39m [\n\u001b[1;32m     11\u001b[0m     [\u001b[38;5;124m\"\u001b[39m\u001b[38;5;124mSubject\u001b[39m\u001b[38;5;124m\"\u001b[39m, \u001b[38;5;124m\"\u001b[39m\u001b[38;5;124mFrom\u001b[39m\u001b[38;5;124m\"\u001b[39m, \u001b[38;5;124m\"\u001b[39m\u001b[38;5;124mSPAM?\u001b[39m\u001b[38;5;124m\"\u001b[39m],\n\u001b[1;32m     12\u001b[0m     [\n\u001b[0;32m   (...)\u001b[0m\n\u001b[1;32m     19\u001b[0m     [\u001b[38;5;124m\"\u001b[39m\u001b[38;5;124mSome help with your thesis\u001b[39m\u001b[38;5;124m\"\u001b[39m, \u001b[38;5;124m\"\u001b[39m\u001b[38;5;124mJohn <john@yourfriends.net>\u001b[39m\u001b[38;5;124m\"\u001b[39m, \u001b[38;5;28;01mFalse\u001b[39;00m],\n\u001b[1;32m     20\u001b[0m ]\n\u001b[1;32m     22\u001b[0m report2 \u001b[38;5;241m=\u001b[39m run_filters(\n\u001b[1;32m     23\u001b[0m     [(\u001b[38;5;124m\"\u001b[39m\u001b[38;5;124mFrom\u001b[39m\u001b[38;5;124m\"\u001b[39m, \u001b[38;5;124m\"\u001b[39m\u001b[38;5;124mvacuum\u001b[39m\u001b[38;5;124m\"\u001b[39m), (\u001b[38;5;124m\"\u001b[39m\u001b[38;5;124mFrom\u001b[39m\u001b[38;5;124m\"\u001b[39m, \u001b[38;5;124m\"\u001b[39m\u001b[38;5;124mGuru\u001b[39m\u001b[38;5;124m\"\u001b[39m)], [\u001b[38;5;124m\"\u001b[39m\u001b[38;5;124mmail4.txt\u001b[39m\u001b[38;5;124m\"\u001b[39m, \u001b[38;5;124m\"\u001b[39m\u001b[38;5;124mmail1.txt\u001b[39m\u001b[38;5;124m\"\u001b[39m, \u001b[38;5;124m\"\u001b[39m\u001b[38;5;124mmail5.txt\u001b[39m\u001b[38;5;124m\"\u001b[39m]\n\u001b[1;32m     24\u001b[0m )\n",
      "Cell \u001b[0;32mIn[3], line 3\u001b[0m, in \u001b[0;36mrun_filters\u001b[0;34m(filters, filenames)\u001b[0m\n\u001b[1;32m      1\u001b[0m \u001b[38;5;28;01mdef\u001b[39;00m \u001b[38;5;21mrun_filters\u001b[39m(filters, filenames):\n\u001b[1;32m      2\u001b[0m \u001b[38;5;250m    \u001b[39m\u001b[38;5;124;03m\"\"\"RETURN a NEW list of lists\"\"\"\u001b[39;00m\n\u001b[0;32m----> 3\u001b[0m     \u001b[38;5;28;01mraise\u001b[39;00m \u001b[38;5;167;01mException\u001b[39;00m(\u001b[38;5;124m\"\u001b[39m\u001b[38;5;124mTODO IMPLEMENT ME !\u001b[39m\u001b[38;5;124m\"\u001b[39m)\n",
      "\u001b[0;31mException\u001b[0m: TODO IMPLEMENT ME !"
     ]
    }
   ],
   "source": [
    "def run_filters(filters, filenames):\n",
    "    \"\"\"RETURN a NEW list of lists\"\"\"\n",
    "    raise Exception(\"TODO IMPLEMENT ME !\")\n",
    "\n",
    "\n",
    "report1 = run_filters(\n",
    "    [(\"From\", \"secret-encounters-at-night.com\"), (\"Body\", \"offer\")],\n",
    "    [\"mail1.txt\", \"mail2.txt\", \"mail3.txt\", \"mail4.txt\"],\n",
    ")\n",
    "assert report1 == [\n",
    "    [\"Subject\", \"From\", \"SPAM?\"],\n",
    "    [\n",
    "        \"DISCOUNTED Vacuum Cleaners\",\n",
    "        \"Harvey The Salesman <harvey@thegreatvacuum.com>\",\n",
    "        True,\n",
    "    ],\n",
    "    [\"20K/month Job offer\", \"Mr Boss <head@overpaid-data-scientists.com>\", False],\n",
    "    [\"I noticed you ...\", \"That lady  <lady@secret-encounters-at-night.com>\", True],\n",
    "    [\"Some help with your thesis\", \"John <john@yourfriends.net>\", False],\n",
    "]\n",
    "\n",
    "report2 = run_filters(\n",
    "    [(\"From\", \"vacuum\"), (\"From\", \"Guru\")], [\"mail4.txt\", \"mail1.txt\", \"mail5.txt\"]\n",
    ")\n",
    "assert report2 == [\n",
    "    [\"Subject\", \"From\", \"SPAM?\"],\n",
    "    [\"Some help with your thesis\", \"John <john@yourfriends.net>\", False],\n",
    "    [\n",
    "        \"DISCOUNTED Vacuum Cleaners\",\n",
    "        \"Harvey The Salesman <harvey@thegreatvacuum.com>\",\n",
    "        True,\n",
    "    ],\n",
    "    [\n",
    "        \"Is somebody stealing your domain?\",\n",
    "        \"Internet Guru  <service@cndomaintrouble.org>\",\n",
    "        True,\n",
    "    ],\n",
    "]"
   ]
  },
  {
   "cell_type": "markdown",
   "id": "fc93af7f",
   "metadata": {},
   "source": [
    "## Parsing challenge - Markdown\n",
    "\n",
    "Markdown is a language for writing documents, which allows writing plain text with additional syntax to express the way it should be formatted. Many editors support Markdown (Jupyter and Github included). For example, some Markdown text like this:\n",
    "\n",
    "```\n",
    "# My Heading\n",
    "\n",
    "some paragraph, so much interesting\n",
    "\n",
    "another paragraph, with a some bla bla\n",
    "\n",
    "# Another big heading\n",
    "\n",
    "There is **something notable** and then regular words.\n",
    "```"
   ]
  },
  {
   "cell_type": "markdown",
   "id": "4564152d",
   "metadata": {},
   "source": [
    "would be displayed in Jupyter like this:\n",
    "\n",
    "![](img/md_example.png)"
   ]
  },
  {
   "cell_type": "markdown",
   "id": "2ddf1b72",
   "metadata": {},
   "source": [
    "\n",
    "Try writing some Python code which reads a text file  with a subset of markdown syntax and translates it into suitable Python data structures. See [Markdown basic syntax](https://www.markdownguide.org/basic-syntax/)\n",
    "\n",
    "\n",
    "* **DO NOT** use special purpose libraries!\n",
    "* **IMPORTANT**: markdown supports arbitrary depth of subparagraphs: to keep things simple start supporting one level, then two. Doing more would require some kind of level tracking, which could be cumbersome to implement.\n",
    "\n",
    "Example - a possible model for the above text could be this one:"
   ]
  },
  {
   "cell_type": "code",
   "execution_count": 4,
   "id": "efba6b6b-stripped",
   "metadata": {},
   "outputs": [],
   "source": [
    "parsed = [\n",
    "    {\n",
    "        \"type\": \"header\",\n",
    "        \"level\": 1,\n",
    "        \"text\": \"My Heading\",\n",
    "        \"subelements\": [\n",
    "            {\n",
    "                \"type\": \"paragraph\",\n",
    "                \"level\": 2,\n",
    "                \"text\": \"some paragraph, so much interesting\",\n",
    "            },\n",
    "            {\n",
    "                \"type\": \"paragraph\",\n",
    "                \"level\": 2,\n",
    "                \"rich_text\": [(\"normal\", \"another paragraph, with a some bla bla\")],\n",
    "            },\n",
    "        ],\n",
    "    },\n",
    "    {\n",
    "        \"type\": \"header\",\n",
    "        \"level\": 1,\n",
    "        \"text\": \"Another big heading\",\n",
    "        \"subelements\": [\n",
    "            {\n",
    "                \"type\": \"paragraph\",\n",
    "                \"level\": 2,\n",
    "                \"rich_text\": [\n",
    "                    (\"normal\", \"There is\"),\n",
    "                    (\"bold\", \"something notable\"),\n",
    "                    (\"normal\", \"and then regular words.\"),\n",
    "                ],\n",
    "            }\n",
    "        ],\n",
    "    },\n",
    "]"
   ]
  },
  {
   "cell_type": "markdown",
   "id": "bc9934ec",
   "metadata": {},
   "source": [
    "\n",
    "## Parsing challenge - Other languages\n",
    "\n",
    "Try developing simple parsers for other languages, like:\n",
    "\n",
    "* JSON: [syntax](https://restfulapi.net/json-syntax/) (it's very similar to Python)\n",
    "* HTML web pages: [Basic syntax](https://marksheet.io/html-syntax.html)\n",
    "* YAML: [Wikipedia](https://en.wikipedia.org/wiki/YAML)\n",
    "* See others [lightweight markup languages](https://en.wikipedia.org/wiki/Lightweight_markup_language)\n",
    "\n",
    "\n",
    "**DO NOT** use special purpose libraries!\n",
    "\n",
    "**IMPORTANT**: Many of these languages support arbitrary depth of subparagraphs: to keep things simple start supporting one level, then two.  Doing more would require some kind of level tracking, which could be cumbersome to implement."
   ]
  },
  {
   "cell_type": "markdown",
   "id": "da493fd0",
   "metadata": {},
   "source": [
    "\n",
    "\n",
    "## CSV Challenge - Over the top\n",
    "\n",
    "With your friends, you're opening a start-up for tourists who like mountain hiking.\n",
    "\n",
    "You decide to focus on the north-east region of Italy and develop an app: one of the first tasks is to collect in a table all the mountain peaks with the names in italian, german, latitude, longitude and elevation.\n",
    "\n",
    "You take some data from OpenStreetMap ( [openstreetmap.org](https://openstreetmap.org) ) \n",
    "the free world map made by volunteers (_OSM_ for short). As data format, you choose an CSV export generated by [SLIPO Project](http://slipo.eu/)."
   ]
  },
  {
   "cell_type": "markdown",
   "id": "23c470c3",
   "metadata": {},
   "source": [
    "\n",
    "### Over the top 1. reading OpenStreetMap data\n",
    "\n",
    "Have a look at [osm.csv](data/osm.csv) file, try also to open it with [LibreOffice](https://www.libreoffice.org/) or Microsoft Office\n",
    " \n",
    "Then implement function `read_osm` which reads a given CSV file with a `csv.DictReader` and just PRINTS ONLY the peaks (with `pprint`).\n",
    "\n",
    "- At this stage you can just PRINT the whole retrieved dictionary, we will extract stuff later.\n",
    "\n",
    "You should see something like this: \n",
    "\n",
    "* **NOTE 1**: here we show only some printed rows:\n",
    "* **NOTE 2**: according to the python version you have, you might see instead regular dictionaries instead of `OrderedDict`\n",
    "\n",
    "```python\n",
    "OrderedDict([('ID', 'node/26862480'),\n",
    "             ('NAME', 'Alpe di Succiso'),\n",
    "             ('CATEGORY', 'TOURISM'),\n",
    "             ('SUBCATEGORY', 'PEAK'),\n",
    "             ('LON', '10.1955113'),\n",
    "             ('LAT', '44.3327854'),\n",
    "             ('SRID', '4326'),\n",
    "             ('WKT', 'POINT (10.195511300000001 44.332785400000006)'),\n",
    "             ('INTERNATIONAL_NAME', ''),\n",
    "             ('STREET', ''),\n",
    "             ('WIKIPEDIA', 'it:Alpe di Succiso'),\n",
    "             ('PHONE', ''),\n",
    "             ('CITY', ''),\n",
    "             ('EMAIL', ''),\n",
    "             ('ALTERNATIVE_NAME', ''),\n",
    "             ('OPENING_HOURS', ''),\n",
    "             ('DESCRIPTION', ''),\n",
    "             ('WEBSITE', ''),\n",
    "             ('LAST_UPDATE', ''),\n",
    "             ('OPERATOR', ''),\n",
    "             ('POSTCODE', ''),\n",
    "             ('COUNTRY', ''),\n",
    "             ('FAX', ''),\n",
    "             ('IMAGE', ''),\n",
    "             ('HOUSENUMBER', ''),\n",
    "             ('OTHER_TAGS',\n",
    "              '{\"PDOP\":\"1.87\",\"natural\":\"peak\",\"importance\":\"regional\",\"name\":\"Alpe '\n",
    "              'di '\n",
    "              'Succiso\",\"source\":\"survey\",\"wikidata\":\"Q1810954\",\"ele\":\"2016\"}')])\n",
    "OrderedDict([('ID', 'node/26862538'),\n",
    "             ('NAME', 'Becco di Filadonna'),\n",
    "             ('CATEGORY', 'TOURISM'),\n",
    "             ('SUBCATEGORY', 'PEAK'),\n",
    "             ('LON', '11.1934654'),\n",
    "             ('LAT', '45.9636324'),\n",
    "             ('SRID', '4326'),\n",
    "             .\n",
    "             .\n",
    "             .\n",
    "```             "
   ]
  },
  {
   "cell_type": "code",
   "execution_count": 5,
   "id": "5f00106b-stripped",
   "metadata": {
    "scrolled": false,
    "tags": [
     "skip-execution"
    ]
   },
   "outputs": [
    {
     "ename": "Exception",
     "evalue": "TODO IMPLEMENT ME !",
     "output_type": "error",
     "traceback": [
      "\u001b[0;31m---------------------------------------------------------------------------\u001b[0m",
      "\u001b[0;31mException\u001b[0m                                 Traceback (most recent call last)",
      "Cell \u001b[0;32mIn[5], line 4\u001b[0m\n\u001b[1;32m      1\u001b[0m \u001b[38;5;28;01mdef\u001b[39;00m \u001b[38;5;21mread_osm\u001b[39m(in_filename):    \n\u001b[1;32m      2\u001b[0m     \u001b[38;5;28;01mraise\u001b[39;00m \u001b[38;5;167;01mException\u001b[39;00m(\u001b[38;5;124m'\u001b[39m\u001b[38;5;124mTODO IMPLEMENT ME !\u001b[39m\u001b[38;5;124m'\u001b[39m)\n\u001b[0;32m----> 4\u001b[0m \u001b[43mread_osm\u001b[49m\u001b[43m(\u001b[49m\u001b[38;5;124;43m'\u001b[39;49m\u001b[38;5;124;43mdata/osm.csv\u001b[39;49m\u001b[38;5;124;43m'\u001b[39;49m\u001b[43m)\u001b[49m\n",
      "Cell \u001b[0;32mIn[5], line 2\u001b[0m, in \u001b[0;36mread_osm\u001b[0;34m(in_filename)\u001b[0m\n\u001b[1;32m      1\u001b[0m \u001b[38;5;28;01mdef\u001b[39;00m \u001b[38;5;21mread_osm\u001b[39m(in_filename):    \n\u001b[0;32m----> 2\u001b[0m     \u001b[38;5;28;01mraise\u001b[39;00m \u001b[38;5;167;01mException\u001b[39;00m(\u001b[38;5;124m'\u001b[39m\u001b[38;5;124mTODO IMPLEMENT ME !\u001b[39m\u001b[38;5;124m'\u001b[39m)\n",
      "\u001b[0;31mException\u001b[0m: TODO IMPLEMENT ME !"
     ]
    }
   ],
   "source": [
    "def read_osm(in_filename):    \n",
    "    raise Exception('TODO IMPLEMENT ME !')\n",
    "        \n",
    "read_osm('data/osm.csv')"
   ]
  },
  {
   "cell_type": "markdown",
   "id": "426d77d5",
   "metadata": {},
   "source": [
    "### Over the top 2. extract peak\n",
    "\n",
    "\n",
    "Implement function `extract_peak` which given a peak as a raw dictionary, RETURN the list of relevant values in this order: italian name, german name, latitude, longitude, elevation\n",
    "\n",
    "Note elevation, italian and german names are inside the field `other_tags` as `name:it`, `name:de`, `ele`\n",
    "\n",
    "- **WARNING 1**: `name:it` is not always present! In such cases use NAME field from the main dictionary\n",
    "- **WARNING 2**: `name:de` is not always present! In such cases put an empty string\n",
    "- **HINT**: the field `other_tags` looks very much like an embedded JSON. To parse it quickly, use the function [json.loads](https://docs.python.org/3/library/json.html), which takes a string as input and outputs a Python object, in this case you will obtain a dictionary. NOTE THE `s` at the end of `json.loads`!!"
   ]
  },
  {
   "cell_type": "markdown",
   "id": "1b851fb5",
   "metadata": {},
   "source": [
    "Example - given:\n",
    "\n",
    "```python\n",
    "d = OrderedDict([('ID', 'node/26862713'),\n",
    "                ('NAME', 'Cima Undici'),\n",
    "                ('CATEGORY', 'TOURISM'),\n",
    "                ('SUBCATEGORY', 'PEAK'),\n",
    "                ('LON', '12.3783333'),\n",
    "                ('LAT', '46.6363889'),\n",
    "                ('SRID', '4326'),\n",
    "                ('WKT', 'POINT (12.378333300000001 46.6363889)'),\n",
    "                ('INTERNATIONAL_NAME', ''),\n",
    "                ('STREET', ''),\n",
    "                ('WIKIPEDIA', 'it:Cima Undici'),\n",
    "                ('PHONE', ''),\n",
    "                ('CITY', ''),\n",
    "                ('EMAIL', ''),\n",
    "                ('ALTERNATIVE_NAME', ''),\n",
    "                ('OPENING_HOURS', ''),\n",
    "                ('DESCRIPTION', ''),\n",
    "                ('WEBSITE', ''),\n",
    "                ('LAST_UPDATE', ''),\n",
    "                ('OPERATOR', ''),\n",
    "                ('POSTCODE', ''),\n",
    "                ('COUNTRY', ''),\n",
    "                ('FAX', ''),\n",
    "                ('IMAGE', ''),\n",
    "                ('HOUSENUMBER', ''),\n",
    "                ('OTHER_TAGS',\n",
    "                '{\"name:de\":\"Elferkofel\",\"natural\":\"peak\",\"name\":\"Cima '\n",
    "                'Undici\",\"name:it\":\"Cima '\n",
    "                'Undici\",\"wikidata\":\"Q628931\",\"ele\":\"3090\"}')])\n",
    "```"
   ]
  },
  {
   "cell_type": "markdown",
   "id": "d9670e42",
   "metadata": {},
   "source": [
    "You should obtain:\n",
    "\n",
    "```python\n",
    ">>> extract_peak(d)\n",
    "['Cima Undici', 'Elferkofel', 46.6363889, 12.3783333, 3090.0]\n",
    "```\n",
    "\n",
    "**NOTE**: numbers should be numbers, not strings!"
   ]
  },
  {
   "cell_type": "code",
   "execution_count": null,
   "id": "72ca8c88-stripped",
   "metadata": {
    "tags": [
     "skip-execution"
    ]
   },
   "outputs": [],
   "source": [
    "def extract_peak(rawd):\n",
    "    \"\"\"Takes a dictionary and RETURN a list\n",
    "    \"\"\"    \n",
    "    raise Exception('TODO IMPLEMENT ME !')\n",
    "\n",
    "from collections import OrderedDict\n",
    "d = OrderedDict([('ID', 'node/26862713'),\n",
    "                ('NAME', 'Cima Undici'),\n",
    "                ('CATEGORY', 'TOURISM'),\n",
    "                ('SUBCATEGORY', 'PEAK'),\n",
    "                ('LON', '12.3783333'),\n",
    "                ('LAT', '46.6363889'),\n",
    "                ('SRID', '4326'),\n",
    "                ('WKT', 'POINT (12.378333300000001 46.6363889)'),\n",
    "                ('INTERNATIONAL_NAME', ''),\n",
    "                ('STREET', ''),\n",
    "                ('WIKIPEDIA', 'it:Cima Undici'),\n",
    "                ('PHONE', ''),\n",
    "                ('CITY', ''),\n",
    "                ('EMAIL', ''),\n",
    "                ('ALTERNATIVE_NAME', ''),\n",
    "                ('OPENING_HOURS', ''),\n",
    "                ('DESCRIPTION', ''),\n",
    "                ('WEBSITE', ''),\n",
    "                ('LAST_UPDATE', ''),\n",
    "                ('OPERATOR', ''),\n",
    "                ('POSTCODE', ''),\n",
    "                ('COUNTRY', ''),\n",
    "                ('FAX', ''),\n",
    "                ('IMAGE', ''),\n",
    "                ('HOUSENUMBER', ''),\n",
    "                ('OTHER_TAGS',\n",
    "                '{\"name:de\":\"Elferkofel\",\"natural\":\"peak\",\"name\":\"Cima '\n",
    "                'Undici\",\"name:it\":\"Cima '\n",
    "                'Undici\",\"wikidata\":\"Q628931\",\"ele\":\"3090\"}')])\n",
    "\n",
    "extract_peak(d)"
   ]
  },
  {
   "cell_type": "markdown",
   "id": "6bc1e045",
   "metadata": {},
   "source": [
    "### Over the top 3. write file\n",
    "\n",
    "Implement function `write_peaks`  so it calls `extract_peak` and writes the obtained lists into `peaks.csv` with a `csv.writer` (so this time we write lists, not dictionaries!)\n",
    "\n",
    "**REMEMBER** to put also the header\n",
    "\n",
    "First lines should be like (for complete expected file see [expected-peaks.csv](data/expected-peaks.csv))\n",
    "\n",
    "```\n",
    "name_it,name_de,latitude,longitude,elevation\n",
    "Alpe di Succiso,,44.3327854,10.1955113,2016.0\n",
    "Becco di Filadonna,,45.9636324,11.1934654,2150.0\n",
    "Bechei di Sopra,,46.6077439,12.0444775,2794.0\n",
    "Catinaccio d'Antermoia,Kesselkogel,46.4740893,11.6438283,3004.0\n",
    "Cima Ambrizzola,,46.4791667,12.0980556,2715.0\n",
    "Cima Bastioni,,46.4851159,12.2678531,2926.0\n",
    "Cima Brenta,,46.1797021,10.900036,3151.0\n",
    "Cima Cadin di San Lucano,,46.5776149,12.2882724,2839.0\n",
    "Cima d'Asta,,46.1766183,11.6052937,2847.0\n",
    "Cima dei Preti,,46.3423245,12.4210592,2707.0\n",
    "Cima della Vezzana,,46.2899137,11.8297409,3192.0\n",
    "Cima Dodici,,45.9976856,11.4680336,2337.0\n",
    "Cima Mora,,46.240557,12.3431523,1940.0\n",
    "Cima Palon,,45.7922301,11.1765372,2232.0\n",
    "Cima Pape,,46.3343734,11.9283766,2503.0\n",
    "Punta di mezzodì,,45.731185,11.1380772,1858.0\n",
    "Cima Presanella,Cima Presanella,46.2199321,10.6641189,3556.0\n",
    "Cima Rolle,Rollspitze,46.9463889,11.5077778,2800.0\n",
    "Cima Tosa,,46.1565222,10.8711276,3136.0\n",
    "Cima Undici,Elferkofel,46.6363889,12.3783333,3090.0\n",
    "  .\n",
    "  .\n",
    "```"
   ]
  },
  {
   "cell_type": "code",
   "execution_count": null,
   "id": "3e7a0d54-stripped",
   "metadata": {
    "tags": [
     "skip-execution"
    ]
   },
   "outputs": [],
   "source": [
    "def write_peaks(in_filename):    \n",
    "    raise Exception('TODO IMPLEMENT ME !')\n",
    "        \n",
    "write_peaks('data/osm.csv')"
   ]
  },
  {
   "cell_type": "code",
   "execution_count": null,
   "id": "nasty-sampling-stripped",
   "metadata": {
    "nbsphinx": "hidden"
   },
   "outputs": [],
   "source": []
  }
 ],
 "metadata": {
  "kernelspec": {
   "display_name": "Python 3 (ipykernel)",
   "language": "python",
   "name": "python3"
  },
  "language_info": {
   "codemirror_mode": {
    "name": "ipython",
    "version": 3
   },
   "file_extension": ".py",
   "mimetype": "text/x-python",
   "name": "python",
   "nbconvert_exporter": "python",
   "pygments_lexer": "ipython3",
   "version": "3.10.14"
  },
  "toc": {
   "base_numbering": 1,
   "nav_menu": {},
   "number_sections": false,
   "sideBar": true,
   "skip_h1_title": false,
   "title_cell": "Table of Contents",
   "title_sidebar": "Contents",
   "toc_cell": false,
   "toc_position": {},
   "toc_section_display": true,
   "toc_window_display": true
  }
 },
 "nbformat": 4,
 "nbformat_minor": 5
}
