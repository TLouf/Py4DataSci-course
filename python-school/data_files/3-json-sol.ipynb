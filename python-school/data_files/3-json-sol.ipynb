{
 "cells": [
  {
   "cell_type": "markdown",
   "metadata": {},
   "source": [
    "# JSON files"
   ]
  },
  {
   "cell_type": "markdown",
   "metadata": {},
   "source": [
    "JSON is a more elaborated format, widely used in the world of web applications.\n",
    "\n",
    "As for CSVs, Python has a dedicated built-in library to read them, let's start by importing it: "
   ]
  },
  {
   "cell_type": "code",
   "execution_count": 1,
   "metadata": {},
   "outputs": [],
   "source": [
    "import json\n",
    "from pprint import pprint"
   ]
  },
  {
   "cell_type": "markdown",
   "metadata": {},
   "source": [
    "A json is simply a text file, structured as _a tree_. \n",
    "\n",
    "Let's see an example, extracted from the data Bike sharing stations of Lavis municipality as found on dati.trentino: \n",
    "\n",
    "- Data source: [dati.trentino.it](https://dati.trentino.it/dataset/stazioni-bike-sharing-emotion-trentino) - Trasport Service of the Autonomous Province of Trento\n",
    "- License: [CC-BY 4.0](https://creativecommons.org/licenses/by/4.0/)"
   ]
  },
  {
   "cell_type": "code",
   "execution_count": 2,
   "metadata": {},
   "outputs": [
    {
     "name": "stdout",
     "output_type": "stream",
     "text": [
      "<class 'str'>\n",
      "{\"name\": [\"Grazioli\", \"Pressano\", \"Stazione RFI\"], \"address\": [\"Piazza Grazioli - Lavis\", \"Piazza della Croce - Pressano\", \"Via Stazione - Lavis\"], \"id\": [\"Grazioli - Lavis\", \"Pressano - Lavis\", \"Stazione RFI - Lavis\"], \"bikes\": [3, 2, 4], \"slots\": [7, 5, 6], \"totalSlots\": [10, 7, 10], \"position\": [[46.139732902099794, 11.111516155225331], [46.15368174037716, 11.106601229430453], [46.148180371138814, 11.096753997622727]]}\n"
     ]
    }
   ],
   "source": [
    "with open('data/bike-sharing-lavis-single.json') as f:\n",
    "    json_content = f.read()\n",
    "    print(type(json_content))\n",
    "    print(json_content)"
   ]
  },
  {
   "cell_type": "markdown",
   "metadata": {},
   "source": [
    "As you can see, the json format is very similar to data structures we already have in Python, such as strings, integer numbers, floats, lists and dictionaries. So the conversion to Python is almost always easy and painless, with the help of the `json` library."
   ]
  },
  {
   "cell_type": "markdown",
   "metadata": {},
   "source": [
    "\n",
    "\n",
    "This format is commonly used to save raw data collected from online sources. For instance, the most raw form of a post from Twitter, Wikipedia, Reddit, Telegram, or other sources is JSON. Since such objects may change with time -- let's say some billionaire buys one of these and decides to add the number of views on each post --, using this format allows them to send out data representing some type of object, without worrying about fields that may change over time. That is the power of this format: its flexibility. "
   ]
  },
  {
   "cell_type": "markdown",
   "metadata": {},
   "source": [
    "## JSON as a single dictionary"
   ]
  },
  {
   "cell_type": "markdown",
   "metadata": {},
   "source": [
    "The simplest way to read a JSON file is then by calling the function `json.load`, which interprets the json text file and converts it to a Python data structure:"
   ]
  },
  {
   "cell_type": "code",
   "execution_count": 3,
   "metadata": {},
   "outputs": [
    {
     "name": "stdout",
     "output_type": "stream",
     "text": [
      "<class 'dict'>\n",
      "{'address': ['Piazza Grazioli - Lavis',\n",
      "             'Piazza della Croce - Pressano',\n",
      "             'Via Stazione - Lavis'],\n",
      " 'bikes': [3, 2, 4],\n",
      " 'id': ['Grazioli - Lavis', 'Pressano - Lavis', 'Stazione RFI - Lavis'],\n",
      " 'name': ['Grazioli', 'Pressano', 'Stazione RFI'],\n",
      " 'position': [[46.139732902099794, 11.111516155225331],\n",
      "              [46.15368174037716, 11.106601229430453],\n",
      "              [46.148180371138814, 11.096753997622727]],\n",
      " 'slots': [7, 5, 6],\n",
      " 'totalSlots': [10, 7, 10]}\n"
     ]
    }
   ],
   "source": [
    "with open('data/bike-sharing-lavis-single.json') as f:\n",
    "    python_content = json.load(f)\n",
    "    \n",
    "print(type(python_content))\n",
    "pprint(python_content)"
   ]
  },
  {
   "cell_type": "markdown",
   "metadata": {},
   "source": [
    "Notice that what we've just read with the function `json.load` is not simple text anymore, but Python objects. For this json, the most external object is a dictionary (note the curly brackets at the file beginning and end). We can check using `type` on `python_content`:"
   ]
  },
  {
   "cell_type": "markdown",
   "metadata": {},
   "source": [
    "## JSON as list of dictionaries"
   ]
  },
  {
   "cell_type": "markdown",
   "metadata": {},
   "source": [
    "A JSON file can also take the form of a list of dictionaries, like:"
   ]
  },
  {
   "cell_type": "code",
   "execution_count": 4,
   "metadata": {},
   "outputs": [
    {
     "name": "stdout",
     "output_type": "stream",
     "text": [
      "<class 'list'>\n",
      "[{'address': 'Piazza Grazioli - Lavis',\n",
      "  'bikes': 3,\n",
      "  'id': 'Grazioli - Lavis',\n",
      "  'name': 'Grazioli',\n",
      "  'position': [46.139732902099794, 11.111516155225331],\n",
      "  'slots': 7,\n",
      "  'totalSlots': 10},\n",
      " {'address': 'Piazza della Croce - Pressano',\n",
      "  'bikes': 2,\n",
      "  'id': 'Pressano - Lavis',\n",
      "  'name': 'Pressano',\n",
      "  'position': [46.15368174037716, 11.106601229430453],\n",
      "  'slots': 5,\n",
      "  'totalSlots': 7},\n",
      " {'address': 'Via Stazione - Lavis',\n",
      "  'bikes': 4,\n",
      "  'id': 'Stazione RFI - Lavis',\n",
      "  'name': 'Stazione RFI',\n",
      "  'position': [46.148180371138814, 11.096753997622727],\n",
      "  'slots': 6,\n",
      "  'totalSlots': 10}]\n"
     ]
    }
   ],
   "source": [
    "with open('data/bike-sharing-lavis.json') as f:\n",
    "    python_content = json.load(f)\n",
    "\n",
    "print(type(python_content))\n",
    "pprint(python_content)"
   ]
  },
  {
   "cell_type": "markdown",
   "metadata": {},
   "source": [
    "By looking at the JSON closely, you will see it is a list of dictionaries. Thus, to access the first dictionary (that is, the one at zero-th index), we can write"
   ]
  },
  {
   "cell_type": "code",
   "execution_count": 5,
   "metadata": {},
   "outputs": [
    {
     "data": {
      "text/plain": [
       "{'name': 'Grazioli',\n",
       " 'address': 'Piazza Grazioli - Lavis',\n",
       " 'id': 'Grazioli - Lavis',\n",
       " 'bikes': 3,\n",
       " 'slots': 7,\n",
       " 'totalSlots': 10,\n",
       " 'position': [46.139732902099794, 11.111516155225331]}"
      ]
     },
     "execution_count": 5,
     "metadata": {},
     "output_type": "execute_result"
    }
   ],
   "source": [
    "python_content[0]"
   ]
  },
  {
   "cell_type": "markdown",
   "metadata": {},
   "source": [
    "We see it's the station in  Piazza Grazioli. To get the exact name, we will access the `'address'` key in the first dictionary:"
   ]
  },
  {
   "cell_type": "code",
   "execution_count": 6,
   "metadata": {},
   "outputs": [
    {
     "data": {
      "text/plain": [
       "'Piazza Grazioli - Lavis'"
      ]
     },
     "execution_count": 6,
     "metadata": {},
     "output_type": "execute_result"
    }
   ],
   "source": [
    "python_content[0]['address']"
   ]
  },
  {
   "cell_type": "markdown",
   "metadata": {},
   "source": [
    "To access the position, we will use the corresponding key:"
   ]
  },
  {
   "cell_type": "code",
   "execution_count": 7,
   "metadata": {},
   "outputs": [
    {
     "data": {
      "text/plain": [
       "[46.139732902099794, 11.111516155225331]"
      ]
     },
     "execution_count": 7,
     "metadata": {},
     "output_type": "execute_result"
    }
   ],
   "source": [
    "python_content[0]['position']"
   ]
  },
  {
   "cell_type": "markdown",
   "metadata": {},
   "source": [
    "Note how the position is a list itself. In JSON we can have arbitrarily branched trees, without necessarily a regular structure (although when we're generating a json it certainly helps maintaining a regular data scheme)."
   ]
  },
  {
   "cell_type": "markdown",
   "metadata": {},
   "source": [
    "## Newline-delimited JSONs\n",
    "\n",
    "There is a particular JSON file type which is called [`JSONL`](http://jsonlines.org/) (note the L for \"lines\" at the end), or `NDJSON` (ND for \"Newline-Delimited\"), which is a text file containing a sequence of lines, each representing a valid json object.\n",
    "\n",
    "Let's have a look at the file [employees.jsonl](data/employees.jsonl):"
   ]
  },
  {
   "cell_type": "markdown",
   "metadata": {},
   "source": [
    "```json\n",
    "{\"name\": \"Mario\", \"surname\":\"Rossi\"}\n",
    "{\"name\": \"Paolo\", \"surname\":\"Bianchi\"}\n",
    "{\"name\": \"Luca\", \"surname\":\"Verdi\"}\n",
    "```"
   ]
  },
  {
   "cell_type": "markdown",
   "metadata": {},
   "source": [
    "To read it, we can open the file, iterate over the text lines and then interpret each of them as a single JSON object:"
   ]
  },
  {
   "cell_type": "code",
   "execution_count": 8,
   "metadata": {},
   "outputs": [
    {
     "name": "stdout",
     "output_type": "stream",
     "text": [
      "Object  0\n",
      "{'name': 'Mario', 'surname': 'Rossi'}\n",
      "Object  1\n",
      "{'name': 'Paolo', 'surname': 'Bianchi'}\n",
      "Object  2\n",
      "{'name': 'Luca', 'surname': 'Verdi'}\n",
      "Object  3\n",
      "{'a': 'b'}\n",
      "Object  4\n",
      "{'a': 'b'}\n"
     ]
    }
   ],
   "source": [
    "with open('data/employees.jsonl') as f:\n",
    "    for i, line in enumerate(f):\n",
    "        python_content = json.loads(line)   # converts json text to a python object\n",
    "        print('Object ', i)\n",
    "        print(python_content)\n",
    "        i = i + 1   "
   ]
  },
  {
   "cell_type": "markdown",
   "metadata": {},
   "source": [
    "```{admonition} Question\n",
    "Here, we could also have first read all the lines with `f.readlines()`, and then iterated over them. Could you guess which option is better? Using `f.readlines()` or iterating over `f`? Why?\n",
    "```"
   ]
  },
  {
   "cell_type": "markdown",
   "metadata": {
    "tags": [
     "answer",
     "hide-input"
    ]
   },
   "source": [
    "```{admonition} Answer\n",
    ":class: tip dropdown\n",
    "\n",
    "Iterating over `f` is the recommended way to read such files, to limit your memory consumption. This way, no matter the file size, you'll be able to read it. It's actually kind of the whole point of putting data in this format!\n",
    "```"
   ]
  },
  {
   "cell_type": "markdown",
   "metadata": {},
   "source": [
    "In a line-delimited file, each line can be read completely independently from the previous one. Reversely, a new line can be added to the file with the same level of independence. For instance, let's say we wanted to add a new employee to the previous file, but this time we have information about their age. We can simply add them as follows:"
   ]
  },
  {
   "cell_type": "code",
   "execution_count": 9,
   "metadata": {},
   "outputs": [],
   "source": [
    "# We'll first simply copy the original file in order to let it intact:\n",
    "import shutil\n",
    "shutil.copyfile('data/employees.jsonl', 'data/employees_extended.jsonl')\n",
    "\n",
    "with open('data/employees_extended.jsonl', 'a') as f:\n",
    "    json_text = json.dumps({'name': 'Bob', 'surname': 'Ross', 'age': 42})\n",
    "    f.write(f\"{json_text}\\n\")"
   ]
  },
  {
   "cell_type": "markdown",
   "metadata": {},
   "source": [
    "Here we use the flag `\"a\"` to signify we want to _**a**ppend_ content to the file. This way, no need to read the whole file again in order to add content to it!\n",
    "We used `json.dumps` to transform our Python object into a valid JSON string -- hence the name, you're **dump**ing it into a **s**tring. We then write our JSON string into the file, adding the newline character `\\n` at the end to make room for a potential future dump.\n",
    "\n",
    "```{admonition} Question\n",
    "Which format do you think is better between a newline-delimited JSON and a list-of-dictionaries JSON? Why?\n",
    "```"
   ]
  },
  {
   "cell_type": "markdown",
   "metadata": {
    "tags": [
     "answer",
     "hide-input"
    ]
   },
   "source": [
    "```{admonition} Answer\n",
    ":class: tip dropdown\n",
    "The newline-delimited version: it makes it very easy to read or append a single line, independently of the rest of the file.\n",
    "```"
   ]
  }
 ],
 "metadata": {
  "kernelspec": {
   "display_name": "Python 3 (ipykernel)",
   "language": "python",
   "name": "python3"
  },
  "language_info": {
   "codemirror_mode": {
    "name": "ipython",
    "version": 3
   },
   "file_extension": ".py",
   "mimetype": "text/x-python",
   "name": "python",
   "nbconvert_exporter": "python",
   "pygments_lexer": "ipython3",
   "version": "3.10.14"
  },
  "toc": {
   "base_numbering": 1,
   "nav_menu": {},
   "number_sections": false,
   "sideBar": true,
   "skip_h1_title": false,
   "title_cell": "Table of Contents",
   "title_sidebar": "Contents",
   "toc_cell": false,
   "toc_position": {},
   "toc_section_display": true,
   "toc_window_display": true
  }
 },
 "nbformat": 4,
 "nbformat_minor": 2
}
