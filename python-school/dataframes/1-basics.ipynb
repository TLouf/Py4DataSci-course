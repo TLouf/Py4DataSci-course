{
 "cells": [
  {
   "cell_type": "markdown",
   "id": "d1fa173c",
   "metadata": {},
   "source": [
    "# The basics "
   ]
  },
  {
   "cell_type": "markdown",
   "id": "5b8b91e6",
   "metadata": {},
   "source": [
    "## Introduction\n",
    "\n",
    "Python gives powerful tools for data analysis - among the main ones we find [Polars](https://www.pola.rs/), which gives fast and flexible data structures, especially for interactive data analysis.\n",
    "\n",
    "Let's start off by importing it:"
   ]
  },
  {
   "cell_type": "code",
   "execution_count": 1,
   "id": "cb38eed2",
   "metadata": {},
   "outputs": [],
   "source": [
    "import polars as pl"
   ]
  },
  {
   "cell_type": "markdown",
   "id": "aff29c1d",
   "metadata": {},
   "source": [
    "## A dataframe?"
   ]
  },
  {
   "cell_type": "markdown",
   "id": "27fe412c",
   "metadata": {},
   "source": [
    "A dataframe is basically a table, that is a collection of columns, also called `Series`, which all contain the same number of cells -- meaning they're all of the same height. Generally, each row can be thought of as corresponding to one unit of study (one measurement, one individual, one geographical area, you name it), while each column corresponds to a specific attribute, or variable (name, size, age, description, creation date...). \n",
    "\n",
    "![](img/dataframe.png)\n",
    "\n",
    "In Polars, each column has a specific type (integer, string, date, but also list or dictionary!), similarly to NumPy arrays. And, [similarly to NumPy arrays](numpy_nan), they can take \"null\" values in certain rows, to represent an absence of data."
   ]
  },
  {
   "cell_type": "markdown",
   "id": "0803d07a",
   "metadata": {},
   "source": [
    "But how to create one in practice? Let's start with a simple example. The concept of a DataFrame is materialised in Polars in the `DataFrame` class, which we can instantiate (create) simply as follows:"
   ]
  },
  {
   "cell_type": "code",
   "execution_count": 2,
   "id": "b8957768",
   "metadata": {},
   "outputs": [
    {
     "data": {
      "text/html": [
       "<div><style>\n",
       ".dataframe > thead > tr,\n",
       ".dataframe > tbody > tr {\n",
       "  text-align: right;\n",
       "  white-space: pre-wrap;\n",
       "}\n",
       "</style>\n",
       "<small>shape: (0, 0)</small><table border=\"1\" class=\"dataframe\"><thead><tr></tr><tr></tr></thead><tbody></tbody></table></div>"
      ],
      "text/plain": [
       "shape: (0, 0)\n",
       "┌┐\n",
       "╞╡\n",
       "└┘"
      ]
     },
     "execution_count": 2,
     "metadata": {},
     "output_type": "execute_result"
    }
   ],
   "source": [
    "pl.DataFrame()"
   ]
  },
  {
   "cell_type": "markdown",
   "id": "e830c07b",
   "metadata": {},
   "source": [
    "Not much to be seen here, because we didn't pass it any data!\n",
    "\n",
    "```{admonition} Question\n",
    "Before running the cells below, try to guess what their output will look like. What are the column names? The values in each row?\n",
    "```\n",
    "\n",
    "Let's add some data in the form of a dictionary of lists:"
   ]
  },
  {
   "cell_type": "code",
   "execution_count": null,
   "id": "55d99d1d",
   "metadata": {
    "tags": [
     "hide-output"
    ]
   },
   "outputs": [],
   "source": [
    "df = pl.DataFrame(\n",
    "    {\n",
    "        \"name\": [\"Alice\", \"Bob\"],\n",
    "        \"age\": [78, None],\n",
    "    },\n",
    "    orient=\"col\",\n",
    ")\n",
    "df"
   ]
  },
  {
   "cell_type": "markdown",
   "id": "2fad4e9e",
   "metadata": {},
   "source": [
    "Or, equivalently, with a list of dictionaries:"
   ]
  },
  {
   "cell_type": "code",
   "execution_count": null,
   "id": "e9b77425",
   "metadata": {
    "tags": [
     "hide-output"
    ]
   },
   "outputs": [],
   "source": [
    "df = pl.DataFrame(\n",
    "    [\n",
    "        {\"name\": \"Alice\", \"age\": 78},\n",
    "        {\"name\": \"Bob\"},\n",
    "    ],\n",
    "    orient=\"row\",\n",
    ")\n",
    "df"
   ]
  },
  {
   "cell_type": "markdown",
   "id": "f5d2e5aa",
   "metadata": {},
   "source": [
    "```{admonition} Question\n",
    "In the second case, adding the `null` entry to the output enables Polars to comply with an important property of dataframes. Which one?\n",
    "```\n",
    "\n",
    "```{admonition} Answer\n",
    ":class: tip dropdown\n",
    "\n",
    "That columns -- or, equivalently, the rows -- should all have the same number of cells!\n",
    "```"
   ]
  },
  {
   "cell_type": "markdown",
   "id": "d51fd90f",
   "metadata": {},
   "source": [
    "## Ingesting data\n",
    "\n",
    "\n",
    "In most cases, you actually want to deal with an existing dataset, that you'd like to analyse.\n",
    "For this course, let's try analyzing data recording protests from around the globe, [collected as part of the Mass Mobilization project](https://dataverse.harvard.edu/dataset.xhtml?persistentId=doi:10.7910/DVN/HTTWYL). No need to download anything, the data are already in the repository in the form of a CSV file. So let's read our data, using `pl.read_csv`:"
   ]
  },
  {
   "cell_type": "code",
   "execution_count": 5,
   "id": "e60b7bf0",
   "metadata": {},
   "outputs": [
    {
     "data": {
      "text/html": [
       "<div><style>\n",
       ".dataframe > thead > tr,\n",
       ".dataframe > tbody > tr {\n",
       "  text-align: right;\n",
       "  white-space: pre-wrap;\n",
       "}\n",
       "</style>\n",
       "<small>shape: (17_145, 30)</small><table border=\"1\" class=\"dataframe\"><thead><tr><th>id</th><th>country</th><th>ccode</th><th>year</th><th>region</th><th>protest</th><th>protestnumber</th><th>startday</th><th>startmonth</th><th>startyear</th><th>endday</th><th>endmonth</th><th>endyear</th><th>protesterviolence</th><th>location</th><th>participants_category</th><th>participants</th><th>protesteridentity</th><th>protesterdemand1</th><th>protesterdemand2</th><th>protesterdemand3</th><th>protesterdemand4</th><th>stateresponse1</th><th>stateresponse2</th><th>stateresponse3</th><th>stateresponse4</th><th>stateresponse5</th><th>stateresponse6</th><th>stateresponse7</th><th>sources</th></tr><tr><td>i64</td><td>str</td><td>i64</td><td>i64</td><td>str</td><td>i64</td><td>i64</td><td>i64</td><td>i64</td><td>i64</td><td>i64</td><td>i64</td><td>i64</td><td>i64</td><td>str</td><td>str</td><td>str</td><td>str</td><td>str</td><td>str</td><td>str</td><td>str</td><td>str</td><td>str</td><td>str</td><td>str</td><td>str</td><td>str</td><td>str</td><td>str</td></tr></thead><tbody><tr><td>201990001</td><td>&quot;Canada&quot;</td><td>20</td><td>1990</td><td>&quot;North America&quot;</td><td>1</td><td>1</td><td>15</td><td>1</td><td>1990</td><td>15</td><td>1</td><td>1990</td><td>0</td><td>&quot;national&quot;</td><td>null</td><td>&quot;1000s&quot;</td><td>&quot;unspecified&quot;</td><td>&quot;political behavior, process&quot;</td><td>&quot;labor wage dispute&quot;</td><td>null</td><td>null</td><td>&quot;ignore&quot;</td><td>null</td><td>null</td><td>null</td><td>null</td><td>null</td><td>null</td><td>&quot;1. great canadian train journe…</td></tr><tr><td>201990002</td><td>&quot;Canada&quot;</td><td>20</td><td>1990</td><td>&quot;North America&quot;</td><td>1</td><td>2</td><td>25</td><td>6</td><td>1990</td><td>25</td><td>6</td><td>1990</td><td>0</td><td>&quot;Montreal, Quebec&quot;</td><td>null</td><td>&quot;1000&quot;</td><td>&quot;unspecified&quot;</td><td>&quot;political behavior, process&quot;</td><td>null</td><td>null</td><td>null</td><td>&quot;ignore&quot;</td><td>null</td><td>null</td><td>null</td><td>null</td><td>null</td><td>null</td><td>&quot;1. autonomy s cry revived in q…</td></tr><tr><td>201990003</td><td>&quot;Canada&quot;</td><td>20</td><td>1990</td><td>&quot;North America&quot;</td><td>1</td><td>3</td><td>1</td><td>7</td><td>1990</td><td>1</td><td>7</td><td>1990</td><td>0</td><td>&quot;Montreal, Quebec&quot;</td><td>null</td><td>&quot;500&quot;</td><td>&quot;separatist parti quebecois&quot;</td><td>&quot;political behavior, process&quot;</td><td>null</td><td>null</td><td>null</td><td>&quot;ignore&quot;</td><td>null</td><td>null</td><td>null</td><td>null</td><td>null</td><td>null</td><td>&quot;1. quebec protest after queen …</td></tr><tr><td>201990004</td><td>&quot;Canada&quot;</td><td>20</td><td>1990</td><td>&quot;North America&quot;</td><td>1</td><td>4</td><td>12</td><td>7</td><td>1990</td><td>6</td><td>9</td><td>1990</td><td>1</td><td>&quot;Montreal, Quebec&quot;</td><td>null</td><td>&quot;100s&quot;</td><td>&quot;mohawk indians&quot;</td><td>&quot;land farm issue&quot;</td><td>null</td><td>null</td><td>null</td><td>&quot;accomodation&quot;</td><td>null</td><td>null</td><td>null</td><td>null</td><td>null</td><td>null</td><td>&quot;1. indians gather as siege int…</td></tr><tr><td>201990005</td><td>&quot;Canada&quot;</td><td>20</td><td>1990</td><td>&quot;North America&quot;</td><td>1</td><td>5</td><td>14</td><td>8</td><td>1990</td><td>15</td><td>8</td><td>1990</td><td>1</td><td>&quot;Montreal, Quebec&quot;</td><td>null</td><td>&quot;950&quot;</td><td>&quot;local residents&quot;</td><td>&quot;political behavior, process&quot;</td><td>null</td><td>null</td><td>null</td><td>&quot;crowd dispersal&quot;</td><td>&quot;arrests&quot;</td><td>&quot;accomodation&quot;</td><td>null</td><td>null</td><td>null</td><td>null</td><td>&quot;1. dozens hurt in mohawk block…</td></tr><tr><td>&hellip;</td><td>&hellip;</td><td>&hellip;</td><td>&hellip;</td><td>&hellip;</td><td>&hellip;</td><td>&hellip;</td><td>&hellip;</td><td>&hellip;</td><td>&hellip;</td><td>&hellip;</td><td>&hellip;</td><td>&hellip;</td><td>&hellip;</td><td>&hellip;</td><td>&hellip;</td><td>&hellip;</td><td>&hellip;</td><td>&hellip;</td><td>&hellip;</td><td>&hellip;</td><td>&hellip;</td><td>&hellip;</td><td>&hellip;</td><td>&hellip;</td><td>&hellip;</td><td>&hellip;</td><td>&hellip;</td><td>&hellip;</td><td>&hellip;</td></tr><tr><td>9102017002</td><td>&quot;Papua New Guinea&quot;</td><td>910</td><td>2017</td><td>&quot;Oceania&quot;</td><td>1</td><td>2</td><td>15</td><td>7</td><td>2017</td><td>15</td><td>7</td><td>2017</td><td>1</td><td>&quot;Mount Hagen&quot;</td><td>&quot;50-99&quot;</td><td>&quot;50+&quot;</td><td>&quot;protesters opposed to counting…</td><td>&quot;political behavior, process&quot;</td><td>null</td><td>null</td><td>null</td><td>&quot;crowd dispersal&quot;</td><td>null</td><td>null</td><td>null</td><td>null</td><td>null</td><td>null</td><td>&quot;violence, chaos and fraud: fra…</td></tr><tr><td>9102017003</td><td>&quot;Papua New Guinea&quot;</td><td>910</td><td>2017</td><td>&quot;Oceania&quot;</td><td>1</td><td>3</td><td>31</td><td>10</td><td>2017</td><td>31</td><td>10</td><td>2017</td><td>0</td><td>&quot;Lorengau&quot;</td><td>&quot;100-999&quot;</td><td>&quot;About 100&quot;</td><td>&quot;locals&quot;</td><td>&quot;political behavior, process&quot;</td><td>null</td><td>null</td><td>null</td><td>&quot;ignore&quot;</td><td>null</td><td>null</td><td>null</td><td>null</td><td>null</td><td>null</td><td>&quot;refugees dig in as camp closes…</td></tr><tr><td>9102018000</td><td>&quot;Papua New Guinea&quot;</td><td>910</td><td>2018</td><td>&quot;Oceania&quot;</td><td>0</td><td>0</td><td>null</td><td>null</td><td>null</td><td>null</td><td>null</td><td>null</td><td>null</td><td>null</td><td>null</td><td>null</td><td>null</td><td>null</td><td>null</td><td>null</td><td>null</td><td>null</td><td>null</td><td>null</td><td>null</td><td>null</td><td>null</td><td>null</td><td>null</td></tr><tr><td>9102019000</td><td>&quot;Papua New Guinea&quot;</td><td>910</td><td>2019</td><td>&quot;Oceania&quot;</td><td>0</td><td>0</td><td>null</td><td>null</td><td>null</td><td>null</td><td>null</td><td>null</td><td>null</td><td>null</td><td>null</td><td>null</td><td>null</td><td>null</td><td>null</td><td>null</td><td>&quot;.&quot;</td><td>null</td><td>null</td><td>null</td><td>null</td><td>&quot;.&quot;</td><td>null</td><td>null</td><td>null</td></tr><tr><td>9102020000</td><td>&quot;Papua New Guinea&quot;</td><td>910</td><td>2020</td><td>&quot;Oceania&quot;</td><td>0</td><td>0</td><td>null</td><td>null</td><td>null</td><td>null</td><td>null</td><td>null</td><td>null</td><td>null</td><td>null</td><td>null</td><td>null</td><td>null</td><td>null</td><td>null</td><td>null</td><td>null</td><td>null</td><td>null</td><td>null</td><td>null</td><td>null</td><td>null</td><td>null</td></tr></tbody></table></div>"
      ],
      "text/plain": [
       "shape: (17_145, 30)\n",
       "┌────────────┬─────────────┬───────┬──────┬───┬─────────────┬────────────┬────────────┬────────────┐\n",
       "│ id         ┆ country     ┆ ccode ┆ year ┆ … ┆ staterespon ┆ staterespo ┆ staterespo ┆ sources    │\n",
       "│ ---        ┆ ---         ┆ ---   ┆ ---  ┆   ┆ se5         ┆ nse6       ┆ nse7       ┆ ---        │\n",
       "│ i64        ┆ str         ┆ i64   ┆ i64  ┆   ┆ ---         ┆ ---        ┆ ---        ┆ str        │\n",
       "│            ┆             ┆       ┆      ┆   ┆ str         ┆ str        ┆ str        ┆            │\n",
       "╞════════════╪═════════════╪═══════╪══════╪═══╪═════════════╪════════════╪════════════╪════════════╡\n",
       "│ 201990001  ┆ Canada      ┆ 20    ┆ 1990 ┆ … ┆ null        ┆ null       ┆ null       ┆ 1. great   │\n",
       "│            ┆             ┆       ┆      ┆   ┆             ┆            ┆            ┆ canadian   │\n",
       "│            ┆             ┆       ┆      ┆   ┆             ┆            ┆            ┆ train      │\n",
       "│            ┆             ┆       ┆      ┆   ┆             ┆            ┆            ┆ journe…    │\n",
       "│ 201990002  ┆ Canada      ┆ 20    ┆ 1990 ┆ … ┆ null        ┆ null       ┆ null       ┆ 1.         │\n",
       "│            ┆             ┆       ┆      ┆   ┆             ┆            ┆            ┆ autonomy s │\n",
       "│            ┆             ┆       ┆      ┆   ┆             ┆            ┆            ┆ cry        │\n",
       "│            ┆             ┆       ┆      ┆   ┆             ┆            ┆            ┆ revived in │\n",
       "│            ┆             ┆       ┆      ┆   ┆             ┆            ┆            ┆ q…         │\n",
       "│ 201990003  ┆ Canada      ┆ 20    ┆ 1990 ┆ … ┆ null        ┆ null       ┆ null       ┆ 1. quebec  │\n",
       "│            ┆             ┆       ┆      ┆   ┆             ┆            ┆            ┆ protest    │\n",
       "│            ┆             ┆       ┆      ┆   ┆             ┆            ┆            ┆ after      │\n",
       "│            ┆             ┆       ┆      ┆   ┆             ┆            ┆            ┆ queen …    │\n",
       "│ 201990004  ┆ Canada      ┆ 20    ┆ 1990 ┆ … ┆ null        ┆ null       ┆ null       ┆ 1. indians │\n",
       "│            ┆             ┆       ┆      ┆   ┆             ┆            ┆            ┆ gather as  │\n",
       "│            ┆             ┆       ┆      ┆   ┆             ┆            ┆            ┆ siege int… │\n",
       "│ 201990005  ┆ Canada      ┆ 20    ┆ 1990 ┆ … ┆ null        ┆ null       ┆ null       ┆ 1. dozens  │\n",
       "│            ┆             ┆       ┆      ┆   ┆             ┆            ┆            ┆ hurt in    │\n",
       "│            ┆             ┆       ┆      ┆   ┆             ┆            ┆            ┆ mohawk     │\n",
       "│            ┆             ┆       ┆      ┆   ┆             ┆            ┆            ┆ block…     │\n",
       "│ …          ┆ …           ┆ …     ┆ …    ┆ … ┆ …           ┆ …          ┆ …          ┆ …          │\n",
       "│ 9102017002 ┆ Papua New   ┆ 910   ┆ 2017 ┆ … ┆ null        ┆ null       ┆ null       ┆ violence,  │\n",
       "│            ┆ Guinea      ┆       ┆      ┆   ┆             ┆            ┆            ┆ chaos and  │\n",
       "│            ┆             ┆       ┆      ┆   ┆             ┆            ┆            ┆ fraud:     │\n",
       "│            ┆             ┆       ┆      ┆   ┆             ┆            ┆            ┆ fra…       │\n",
       "│ 9102017003 ┆ Papua New   ┆ 910   ┆ 2017 ┆ … ┆ null        ┆ null       ┆ null       ┆ refugees   │\n",
       "│            ┆ Guinea      ┆       ┆      ┆   ┆             ┆            ┆            ┆ dig in as  │\n",
       "│            ┆             ┆       ┆      ┆   ┆             ┆            ┆            ┆ camp       │\n",
       "│            ┆             ┆       ┆      ┆   ┆             ┆            ┆            ┆ closes…    │\n",
       "│ 9102018000 ┆ Papua New   ┆ 910   ┆ 2018 ┆ … ┆ null        ┆ null       ┆ null       ┆ null       │\n",
       "│            ┆ Guinea      ┆       ┆      ┆   ┆             ┆            ┆            ┆            │\n",
       "│ 9102019000 ┆ Papua New   ┆ 910   ┆ 2019 ┆ … ┆ .           ┆ null       ┆ null       ┆ null       │\n",
       "│            ┆ Guinea      ┆       ┆      ┆   ┆             ┆            ┆            ┆            │\n",
       "│ 9102020000 ┆ Papua New   ┆ 910   ┆ 2020 ┆ … ┆ null        ┆ null       ┆ null       ┆ null       │\n",
       "│            ┆ Guinea      ┆       ┆      ┆   ┆             ┆            ┆            ┆            │\n",
       "└────────────┴─────────────┴───────┴──────┴───┴─────────────┴────────────┴────────────┴────────────┘"
      ]
     },
     "execution_count": 5,
     "metadata": {},
     "output_type": "execute_result"
    }
   ],
   "source": [
    "protests = pl.read_csv(\"data/protests.csv\")\n",
    "protests"
   ]
  },
  {
   "cell_type": "markdown",
   "id": "345df9c6",
   "metadata": {},
   "source": [
    "Here it is!\n",
    "\n",
    "Note that here, we dealt with a simple, well-formatted file. In the wild (aka, \"the Internet\"), you will not always meet such well-behaved data. In that case you'll probably need to specify one of the (many) arguments of `read_csv`. Inspect the function to take a quick look! "
   ]
  },
  {
   "cell_type": "markdown",
   "id": "caef30c9",
   "metadata": {},
   "source": [
    "Not all data are in CSV format (and they shouldn't, it's a very slow-to-read and heavy file format!), so Polars provides a number of other functions to ingest data. They are all in the form `pl.read_<file-format>(path)`. Symmetrically, to write from a `DataFrame` to a file, the equivalent `.write_<file-format>(path)` are available.\n",
    "\n",
    "![](img/pl_input_output.png)"
   ]
  },
  {
   "cell_type": "markdown",
   "id": "51889c0f",
   "metadata": {},
   "source": [
    "```{tip}\n",
    "In case of doubt, choose the `.parquet` format to save your dataframes. It strikes a very good balance between file size and reading / writing time.\n",
    "```"
   ]
  },
  {
   "cell_type": "markdown",
   "id": "53a5d9a9",
   "metadata": {},
   "source": [
    "## Taking a glimpse"
   ]
  },
  {
   "cell_type": "markdown",
   "id": "6ec4eab9",
   "metadata": {},
   "source": [
    "The one DataFrame method you will probably use the most is `.head()`. It allows you to see the first 5 rows of the DataFrame, which is very useful to have a quick look at its current state:"
   ]
  },
  {
   "cell_type": "code",
   "execution_count": 6,
   "id": "25568534",
   "metadata": {},
   "outputs": [
    {
     "data": {
      "text/html": [
       "<div><style>\n",
       ".dataframe > thead > tr,\n",
       ".dataframe > tbody > tr {\n",
       "  text-align: right;\n",
       "  white-space: pre-wrap;\n",
       "}\n",
       "</style>\n",
       "<small>shape: (5, 30)</small><table border=\"1\" class=\"dataframe\"><thead><tr><th>id</th><th>country</th><th>ccode</th><th>year</th><th>region</th><th>protest</th><th>protestnumber</th><th>startday</th><th>startmonth</th><th>startyear</th><th>endday</th><th>endmonth</th><th>endyear</th><th>protesterviolence</th><th>location</th><th>participants_category</th><th>participants</th><th>protesteridentity</th><th>protesterdemand1</th><th>protesterdemand2</th><th>protesterdemand3</th><th>protesterdemand4</th><th>stateresponse1</th><th>stateresponse2</th><th>stateresponse3</th><th>stateresponse4</th><th>stateresponse5</th><th>stateresponse6</th><th>stateresponse7</th><th>sources</th></tr><tr><td>i64</td><td>str</td><td>i64</td><td>i64</td><td>str</td><td>i64</td><td>i64</td><td>i64</td><td>i64</td><td>i64</td><td>i64</td><td>i64</td><td>i64</td><td>i64</td><td>str</td><td>str</td><td>str</td><td>str</td><td>str</td><td>str</td><td>str</td><td>str</td><td>str</td><td>str</td><td>str</td><td>str</td><td>str</td><td>str</td><td>str</td><td>str</td></tr></thead><tbody><tr><td>201990001</td><td>&quot;Canada&quot;</td><td>20</td><td>1990</td><td>&quot;North America&quot;</td><td>1</td><td>1</td><td>15</td><td>1</td><td>1990</td><td>15</td><td>1</td><td>1990</td><td>0</td><td>&quot;national&quot;</td><td>null</td><td>&quot;1000s&quot;</td><td>&quot;unspecified&quot;</td><td>&quot;political behavior, process&quot;</td><td>&quot;labor wage dispute&quot;</td><td>null</td><td>null</td><td>&quot;ignore&quot;</td><td>null</td><td>null</td><td>null</td><td>null</td><td>null</td><td>null</td><td>&quot;1. great canadian train journe…</td></tr><tr><td>201990002</td><td>&quot;Canada&quot;</td><td>20</td><td>1990</td><td>&quot;North America&quot;</td><td>1</td><td>2</td><td>25</td><td>6</td><td>1990</td><td>25</td><td>6</td><td>1990</td><td>0</td><td>&quot;Montreal, Quebec&quot;</td><td>null</td><td>&quot;1000&quot;</td><td>&quot;unspecified&quot;</td><td>&quot;political behavior, process&quot;</td><td>null</td><td>null</td><td>null</td><td>&quot;ignore&quot;</td><td>null</td><td>null</td><td>null</td><td>null</td><td>null</td><td>null</td><td>&quot;1. autonomy s cry revived in q…</td></tr><tr><td>201990003</td><td>&quot;Canada&quot;</td><td>20</td><td>1990</td><td>&quot;North America&quot;</td><td>1</td><td>3</td><td>1</td><td>7</td><td>1990</td><td>1</td><td>7</td><td>1990</td><td>0</td><td>&quot;Montreal, Quebec&quot;</td><td>null</td><td>&quot;500&quot;</td><td>&quot;separatist parti quebecois&quot;</td><td>&quot;political behavior, process&quot;</td><td>null</td><td>null</td><td>null</td><td>&quot;ignore&quot;</td><td>null</td><td>null</td><td>null</td><td>null</td><td>null</td><td>null</td><td>&quot;1. quebec protest after queen …</td></tr><tr><td>201990004</td><td>&quot;Canada&quot;</td><td>20</td><td>1990</td><td>&quot;North America&quot;</td><td>1</td><td>4</td><td>12</td><td>7</td><td>1990</td><td>6</td><td>9</td><td>1990</td><td>1</td><td>&quot;Montreal, Quebec&quot;</td><td>null</td><td>&quot;100s&quot;</td><td>&quot;mohawk indians&quot;</td><td>&quot;land farm issue&quot;</td><td>null</td><td>null</td><td>null</td><td>&quot;accomodation&quot;</td><td>null</td><td>null</td><td>null</td><td>null</td><td>null</td><td>null</td><td>&quot;1. indians gather as siege int…</td></tr><tr><td>201990005</td><td>&quot;Canada&quot;</td><td>20</td><td>1990</td><td>&quot;North America&quot;</td><td>1</td><td>5</td><td>14</td><td>8</td><td>1990</td><td>15</td><td>8</td><td>1990</td><td>1</td><td>&quot;Montreal, Quebec&quot;</td><td>null</td><td>&quot;950&quot;</td><td>&quot;local residents&quot;</td><td>&quot;political behavior, process&quot;</td><td>null</td><td>null</td><td>null</td><td>&quot;crowd dispersal&quot;</td><td>&quot;arrests&quot;</td><td>&quot;accomodation&quot;</td><td>null</td><td>null</td><td>null</td><td>null</td><td>&quot;1. dozens hurt in mohawk block…</td></tr></tbody></table></div>"
      ],
      "text/plain": [
       "shape: (5, 30)\n",
       "┌───────────┬─────────┬───────┬──────┬───┬──────────────┬──────────────┬─────────────┬─────────────┐\n",
       "│ id        ┆ country ┆ ccode ┆ year ┆ … ┆ staterespons ┆ staterespons ┆ staterespon ┆ sources     │\n",
       "│ ---       ┆ ---     ┆ ---   ┆ ---  ┆   ┆ e5           ┆ e6           ┆ se7         ┆ ---         │\n",
       "│ i64       ┆ str     ┆ i64   ┆ i64  ┆   ┆ ---          ┆ ---          ┆ ---         ┆ str         │\n",
       "│           ┆         ┆       ┆      ┆   ┆ str          ┆ str          ┆ str         ┆             │\n",
       "╞═══════════╪═════════╪═══════╪══════╪═══╪══════════════╪══════════════╪═════════════╪═════════════╡\n",
       "│ 201990001 ┆ Canada  ┆ 20    ┆ 1990 ┆ … ┆ null         ┆ null         ┆ null        ┆ 1. great    │\n",
       "│           ┆         ┆       ┆      ┆   ┆              ┆              ┆             ┆ canadian    │\n",
       "│           ┆         ┆       ┆      ┆   ┆              ┆              ┆             ┆ train       │\n",
       "│           ┆         ┆       ┆      ┆   ┆              ┆              ┆             ┆ journe…     │\n",
       "│ 201990002 ┆ Canada  ┆ 20    ┆ 1990 ┆ … ┆ null         ┆ null         ┆ null        ┆ 1. autonomy │\n",
       "│           ┆         ┆       ┆      ┆   ┆              ┆              ┆             ┆ s cry       │\n",
       "│           ┆         ┆       ┆      ┆   ┆              ┆              ┆             ┆ revived in  │\n",
       "│           ┆         ┆       ┆      ┆   ┆              ┆              ┆             ┆ q…          │\n",
       "│ 201990003 ┆ Canada  ┆ 20    ┆ 1990 ┆ … ┆ null         ┆ null         ┆ null        ┆ 1. quebec   │\n",
       "│           ┆         ┆       ┆      ┆   ┆              ┆              ┆             ┆ protest     │\n",
       "│           ┆         ┆       ┆      ┆   ┆              ┆              ┆             ┆ after queen │\n",
       "│           ┆         ┆       ┆      ┆   ┆              ┆              ┆             ┆ …           │\n",
       "│ 201990004 ┆ Canada  ┆ 20    ┆ 1990 ┆ … ┆ null         ┆ null         ┆ null        ┆ 1. indians  │\n",
       "│           ┆         ┆       ┆      ┆   ┆              ┆              ┆             ┆ gather as   │\n",
       "│           ┆         ┆       ┆      ┆   ┆              ┆              ┆             ┆ siege int…  │\n",
       "│ 201990005 ┆ Canada  ┆ 20    ┆ 1990 ┆ … ┆ null         ┆ null         ┆ null        ┆ 1. dozens   │\n",
       "│           ┆         ┆       ┆      ┆   ┆              ┆              ┆             ┆ hurt in     │\n",
       "│           ┆         ┆       ┆      ┆   ┆              ┆              ┆             ┆ mohawk      │\n",
       "│           ┆         ┆       ┆      ┆   ┆              ┆              ┆             ┆ block…      │\n",
       "└───────────┴─────────┴───────┴──────┴───┴──────────────┴──────────────┴─────────────┴─────────────┘"
      ]
     },
     "execution_count": 6,
     "metadata": {},
     "output_type": "execute_result"
    }
   ],
   "source": [
    "protests.head()"
   ]
  },
  {
   "cell_type": "markdown",
   "id": "0e59c7de",
   "metadata": {},
   "source": [
    "```{note}\n",
    "In the rest of the course, whenever we wish to show the result of some computation, we'll append `.head()` to these computations to limit the size of the output. Remember to remove it if you wish to get the full result!\n",
    "```\n",
    "\n",
    "Also, you can get the list of column names using the `.columns` attribute:"
   ]
  },
  {
   "cell_type": "code",
   "execution_count": 7,
   "id": "6e82ead0",
   "metadata": {},
   "outputs": [
    {
     "data": {
      "text/plain": [
       "['id',\n",
       " 'country',\n",
       " 'ccode',\n",
       " 'year',\n",
       " 'region',\n",
       " 'protest',\n",
       " 'protestnumber',\n",
       " 'startday',\n",
       " 'startmonth',\n",
       " 'startyear',\n",
       " 'endday',\n",
       " 'endmonth',\n",
       " 'endyear',\n",
       " 'protesterviolence',\n",
       " 'location',\n",
       " 'participants_category',\n",
       " 'participants',\n",
       " 'protesteridentity',\n",
       " 'protesterdemand1',\n",
       " 'protesterdemand2',\n",
       " 'protesterdemand3',\n",
       " 'protesterdemand4',\n",
       " 'stateresponse1',\n",
       " 'stateresponse2',\n",
       " 'stateresponse3',\n",
       " 'stateresponse4',\n",
       " 'stateresponse5',\n",
       " 'stateresponse6',\n",
       " 'stateresponse7',\n",
       " 'sources']"
      ]
     },
     "execution_count": 7,
     "metadata": {},
     "output_type": "execute_result"
    }
   ],
   "source": [
    "protests.columns"
   ]
  },
  {
   "cell_type": "markdown",
   "id": "845863fc",
   "metadata": {},
   "source": [
    "And the shape of the frame (number of rows and columns) using `.shape`:"
   ]
  },
  {
   "cell_type": "code",
   "execution_count": 8,
   "id": "4d7b09d5",
   "metadata": {},
   "outputs": [
    {
     "data": {
      "text/plain": [
       "(17145, 30)"
      ]
     },
     "execution_count": 8,
     "metadata": {},
     "output_type": "execute_result"
    }
   ],
   "source": [
    "protests.shape"
   ]
  },
  {
   "cell_type": "markdown",
   "id": "42ee1cec",
   "metadata": {},
   "source": [
    "Finally, you can take a quick glimpse at it, featuring the two pieces of info we got above, plus the data types and a few values, with `.glimpse()`:"
   ]
  },
  {
   "cell_type": "code",
   "execution_count": 9,
   "id": "39cbd29e",
   "metadata": {},
   "outputs": [
    {
     "name": "stdout",
     "output_type": "stream",
     "text": [
      "Rows: 17145\n",
      "Columns: 30\n",
      "$ id                    <i64> 201990001, 201990002, 201990003, 201990004, 201990005, 201990006, 201991001, 201991002, 201992001, 201993001\n",
      "$ country               <str> 'Canada', 'Canada', 'Canada', 'Canada', 'Canada', 'Canada', 'Canada', 'Canada', 'Canada', 'Canada'\n",
      "$ ccode                 <i64> 20, 20, 20, 20, 20, 20, 20, 20, 20, 20\n",
      "$ year                  <i64> 1990, 1990, 1990, 1990, 1990, 1990, 1991, 1991, 1992, 1993\n",
      "$ region                <str> 'North America', 'North America', 'North America', 'North America', 'North America', 'North America', 'North America', 'North America', 'North America', 'North America'\n",
      "$ protest               <i64> 1, 1, 1, 1, 1, 1, 1, 1, 1, 1\n",
      "$ protestnumber         <i64> 1, 2, 3, 4, 5, 6, 1, 2, 1, 1\n",
      "$ startday              <i64> 15, 25, 1, 12, 14, 19, 10, 28, 4, 16\n",
      "$ startmonth            <i64> 1, 6, 7, 7, 8, 9, 9, 9, 5, 5\n",
      "$ startyear             <i64> 1990, 1990, 1990, 1990, 1990, 1990, 1991, 1991, 1992, 1993\n",
      "$ endday                <i64> 15, 25, 1, 6, 15, 19, 17, 2, 5, 16\n",
      "$ endmonth              <i64> 1, 6, 7, 9, 8, 9, 9, 10, 5, 5\n",
      "$ endyear               <i64> 1990, 1990, 1990, 1990, 1990, 1990, 1991, 1991, 1992, 1993\n",
      "$ protesterviolence     <i64> 0, 0, 0, 1, 1, 0, 0, 0, 1, 0\n",
      "$ location              <str> 'national', 'Montreal, Quebec', 'Montreal, Quebec', 'Montreal, Quebec', 'Montreal, Quebec', 'Kahnawake Reservation near Montreal, Quebec', 'national', 'national', 'Toronto', 'Ottawa'\n",
      "$ participants_category <str> None, None, None, None, None, None, None, None, None, None\n",
      "$ participants          <str> '1000s', '1000', '500', '100s', '950', '200', '110000', '110000', '1000', '10000s'\n",
      "$ protesteridentity     <str> 'unspecified', 'unspecified', 'separatist parti quebecois', 'mohawk indians', 'local residents', 'mohawk indians', 'public service alliance of canada', 'public service alliance of canada', 'gangs of black and white youths', 'unspecified'\n",
      "$ protesterdemand1      <str> 'political behavior, process', 'political behavior, process', 'political behavior, process', 'land farm issue', 'political behavior, process', 'police brutality', 'labor wage dispute', 'labor wage dispute', 'police brutality', 'political behavior, process'\n",
      "$ protesterdemand2      <str> 'labor wage dispute', None, None, None, None, None, None, None, None, None\n",
      "$ protesterdemand3      <str> None, None, None, None, None, None, None, None, None, None\n",
      "$ protesterdemand4      <str> None, None, None, None, None, None, None, None, None, None\n",
      "$ stateresponse1        <str> 'ignore', 'ignore', 'ignore', 'accomodation', 'crowd dispersal', 'crowd dispersal', 'ignore', 'ignore', 'arrests', 'ignore'\n",
      "$ stateresponse2        <str> None, None, None, None, 'arrests', 'shootings', None, None, None, None\n",
      "$ stateresponse3        <str> None, None, None, None, 'accomodation', None, None, None, None, None\n",
      "$ stateresponse4        <str> None, None, None, None, None, None, None, None, None, None\n",
      "$ stateresponse5        <str> None, None, None, None, None, None, None, None, None, None\n",
      "$ stateresponse6        <str> None, None, None, None, None, None, None, None, None, None\n",
      "$ stateresponse7        <str> None, None, None, None, None, None, None, None, None, None\n",
      "$ sources               <str> '1. great canadian train journeys into history; passenger rail system cut the times london , january 16 1990, tuesday, issue 63604., 427 words, from john best, ottawa;', '1. autonomy s cry revived in quebec the new york times, june 25, 1990, monday, late edition final, section a; page 3, column 4; foreign desk, 1014 words, by alessandra stanley, special to the new york times;', '1. quebec protest after queen calls for unity the times, july 2, 1990, monday, overseas news, 703 words, from john best in ottawa 2. in canada, royal rejection ; quebecois protesters turn out for queen elizabeth s visit the washington post, july 2, 1990, monday, final edition, style; page b1, 633 words, william claiborne, washington post foreign service;', '1. indians gather as siege intensifies; armed confrontation in canada reflects growing militancy the washington post, july 19, 1990, thursday, final edition, first section; page a25, 1330 words, william claiborne, washington post foreign service 2. canada to acquire site of mohawk land dispute the washington post, july 20, 1990, friday, final edition, first section; page a13, 824 words, william claiborne, washington post foreign service 3. mohawks, army still at standoff; bridge to montreal reopens to traffic the washington post, september 7, 1990, friday, final edition, first section; page a17, 1199 words, william claiborne, washington post foreign service;', '1. dozens hurt in mohawk blockade protest the times, august 14, 1990, tuesday, overseas news, 254 words, from john best in ottawa 2. canadians clash with police near a mohawk reservation the new york times, august 15, 1990, wednesday, late edition final, section a; page 16, column 6; foreign desk, 165 words, reuters;', '1. mohawks tear gassed in clash the washington post, september 19, 1990, wednesday, final edition, first section; page a17, 172 words, washington post foreign service;', '1. mulroney acts to crush strike by federal workers the new york times, september 17, 1991, tuesday, late edition final, section a; page 6; column 4; foreign desk, 761 words, by clyde h. farnsworth, special to the new york times 2. canadian strike to end but talks to go on the new york times, september 18, 1991, wednesday, late edition final, section a; page 9; column 2; foreign desk, 188 words, ap;', '1. the washington post, canada seeks to compel end of nationwide federal strike, william claiborne, washington post foreign service, october 1, 1991, tuesday, final edition, first section; page a15, 342 words;', '1. window smashing and looting spree erupts in toronto the new york times, may 5, 1992, tuesday, late edition final, section a; page 3; column 1; foreign desk 2. toronto rioters pelt police the times, may 6, 1992, wednesday, overseas news, 243 words, from john best in ottawa 3. the washington post, toronto debates causes of 2 days of violence; normally peaceful city shaken by gangs, william claiborne, washington post foreign service, may 7, 1992, thursday, final edition, first section; page a27, 685 word;', '1. canadians protest trade pact the new york times, may 16, 1993, sunday, late edition final, section 1; page 7; column 1; foreign desk, 50 words, reuters;'\n",
      "\n"
     ]
    }
   ],
   "source": [
    "protests.glimpse()"
   ]
  },
  {
   "cell_type": "markdown",
   "id": "8c473ae7",
   "metadata": {},
   "source": [
    "## Operations on columns\n",
    "\n",
    "Let's see now how to select, add and transform columns.\n",
    "\n",
    "### Selecting columns\n",
    "\n",
    "If we want a subset of columns, we pass the name of each column to `.select()`:"
   ]
  },
  {
   "cell_type": "code",
   "execution_count": 10,
   "id": "1b753800",
   "metadata": {},
   "outputs": [
    {
     "data": {
      "text/html": [
       "<div><style>\n",
       ".dataframe > thead > tr,\n",
       ".dataframe > tbody > tr {\n",
       "  text-align: right;\n",
       "  white-space: pre-wrap;\n",
       "}\n",
       "</style>\n",
       "<small>shape: (5, 3)</small><table border=\"1\" class=\"dataframe\"><thead><tr><th>id</th><th>country</th><th>year</th></tr><tr><td>i64</td><td>str</td><td>i64</td></tr></thead><tbody><tr><td>201990001</td><td>&quot;Canada&quot;</td><td>1990</td></tr><tr><td>201990002</td><td>&quot;Canada&quot;</td><td>1990</td></tr><tr><td>201990003</td><td>&quot;Canada&quot;</td><td>1990</td></tr><tr><td>201990004</td><td>&quot;Canada&quot;</td><td>1990</td></tr><tr><td>201990005</td><td>&quot;Canada&quot;</td><td>1990</td></tr></tbody></table></div>"
      ],
      "text/plain": [
       "shape: (5, 3)\n",
       "┌───────────┬─────────┬──────┐\n",
       "│ id        ┆ country ┆ year │\n",
       "│ ---       ┆ ---     ┆ ---  │\n",
       "│ i64       ┆ str     ┆ i64  │\n",
       "╞═══════════╪═════════╪══════╡\n",
       "│ 201990001 ┆ Canada  ┆ 1990 │\n",
       "│ 201990002 ┆ Canada  ┆ 1990 │\n",
       "│ 201990003 ┆ Canada  ┆ 1990 │\n",
       "│ 201990004 ┆ Canada  ┆ 1990 │\n",
       "│ 201990005 ┆ Canada  ┆ 1990 │\n",
       "└───────────┴─────────┴──────┘"
      ]
     },
     "execution_count": 10,
     "metadata": {},
     "output_type": "execute_result"
    }
   ],
   "source": [
    "protests.select('id', 'country', 'year').head()  "
   ]
  },
  {
   "cell_type": "markdown",
   "id": "88b6a64d",
   "metadata": {},
   "source": [
    "```{note}\n",
    "This does not change the original DataFrame, to save your selection, you need to assign to a new variable!\n",
    "```"
   ]
  },
  {
   "cell_type": "markdown",
   "id": "2119d9c6",
   "metadata": {},
   "source": [
    "![](img/df_select.png)"
   ]
  },
  {
   "cell_type": "markdown",
   "id": "4e99652c",
   "metadata": {},
   "source": [
    "### Selecting and modifying"
   ]
  },
  {
   "cell_type": "markdown",
   "id": "396ef547",
   "metadata": {},
   "source": [
    "Selecting columns is nice, but once they are selected, we will certainly want to do something with them, right? Like, how can we modify the values in them?\n",
    "\n",
    "But before going into that, let's see a slightly different way of selecting columns. The previous code is actually equivalent to:"
   ]
  },
  {
   "cell_type": "code",
   "execution_count": 11,
   "id": "da3d2ab6",
   "metadata": {},
   "outputs": [
    {
     "data": {
      "text/html": [
       "<div><style>\n",
       ".dataframe > thead > tr,\n",
       ".dataframe > tbody > tr {\n",
       "  text-align: right;\n",
       "  white-space: pre-wrap;\n",
       "}\n",
       "</style>\n",
       "<small>shape: (5, 3)</small><table border=\"1\" class=\"dataframe\"><thead><tr><th>id</th><th>country</th><th>year</th></tr><tr><td>i64</td><td>str</td><td>i64</td></tr></thead><tbody><tr><td>201990001</td><td>&quot;Canada&quot;</td><td>1990</td></tr><tr><td>201990002</td><td>&quot;Canada&quot;</td><td>1990</td></tr><tr><td>201990003</td><td>&quot;Canada&quot;</td><td>1990</td></tr><tr><td>201990004</td><td>&quot;Canada&quot;</td><td>1990</td></tr><tr><td>201990005</td><td>&quot;Canada&quot;</td><td>1990</td></tr></tbody></table></div>"
      ],
      "text/plain": [
       "shape: (5, 3)\n",
       "┌───────────┬─────────┬──────┐\n",
       "│ id        ┆ country ┆ year │\n",
       "│ ---       ┆ ---     ┆ ---  │\n",
       "│ i64       ┆ str     ┆ i64  │\n",
       "╞═══════════╪═════════╪══════╡\n",
       "│ 201990001 ┆ Canada  ┆ 1990 │\n",
       "│ 201990002 ┆ Canada  ┆ 1990 │\n",
       "│ 201990003 ┆ Canada  ┆ 1990 │\n",
       "│ 201990004 ┆ Canada  ┆ 1990 │\n",
       "│ 201990005 ┆ Canada  ┆ 1990 │\n",
       "└───────────┴─────────┴──────┘"
      ]
     },
     "execution_count": 11,
     "metadata": {},
     "output_type": "execute_result"
    }
   ],
   "source": [
    "protests.select(pl.col(\"id\", \"country\", \"year\")).head()"
   ]
  },
  {
   "cell_type": "markdown",
   "id": "c946a10f",
   "metadata": {},
   "source": [
    "But why bother calling `pl.col()` here, and what does it even do? To answer these questions, for now let's go back to our data and the glimpse we had above. See the `protesterviolence` column, that, as far as we can see, is only filled with zeros and ones? Would be nice to check if it's actually the case, because if it is, each value in this column can probably be treated as a boolean telling us whether part of the protesters used violence.\n",
    "\n",
    "Well this can simply be done by selecting the column with `pl.col()`, and then calling the `.unique()` method on it, as follows:"
   ]
  },
  {
   "cell_type": "code",
   "execution_count": 12,
   "id": "c7774781",
   "metadata": {},
   "outputs": [
    {
     "data": {
      "text/html": [
       "<div><style>\n",
       ".dataframe > thead > tr,\n",
       ".dataframe > tbody > tr {\n",
       "  text-align: right;\n",
       "  white-space: pre-wrap;\n",
       "}\n",
       "</style>\n",
       "<small>shape: (3, 1)</small><table border=\"1\" class=\"dataframe\"><thead><tr><th>protesterviolence</th></tr><tr><td>i64</td></tr></thead><tbody><tr><td>null</td></tr><tr><td>0</td></tr><tr><td>1</td></tr></tbody></table></div>"
      ],
      "text/plain": [
       "shape: (3, 1)\n",
       "┌───────────────────┐\n",
       "│ protesterviolence │\n",
       "│ ---               │\n",
       "│ i64               │\n",
       "╞═══════════════════╡\n",
       "│ null              │\n",
       "│ 0                 │\n",
       "│ 1                 │\n",
       "└───────────────────┘"
      ]
     },
     "execution_count": 12,
     "metadata": {},
     "output_type": "execute_result"
    }
   ],
   "source": [
    "protests.select(pl.col(\"protesterviolence\").unique())"
   ]
  },
  {
   "cell_type": "markdown",
   "id": "e6244daf",
   "metadata": {},
   "source": [
    "Calling `pl.col()` therefore enabled us to perform an operation on the selected column! And about the latter, it indeed turns out we only have zeros and ones in there, save some nulls that denote an absence of data."
   ]
  },
  {
   "cell_type": "markdown",
   "id": "2837963c",
   "metadata": {},
   "source": [
    "```{note}\n",
    "Putting zeros and ones to encode a boolean is actually a pretty common practice, you might come across this again!\n",
    "```\n",
    "\n",
    "```{note}\n",
    "It is usually better to start reading any documentation you can find about the dataset before making tests like these. In some situations though, there is no documentation, so you _have to_ make this kind of tests to validate your assumptions.\n",
    "```"
   ]
  },
  {
   "cell_type": "markdown",
   "id": "212c89ed",
   "metadata": {},
   "source": [
    "We can subsequently safely transform this integer column into a boolean one, using the `.cast()` method, and (optionally) renaming it using `.alias()`:"
   ]
  },
  {
   "cell_type": "code",
   "execution_count": 13,
   "id": "a782b744",
   "metadata": {},
   "outputs": [
    {
     "data": {
      "text/html": [
       "<div><style>\n",
       ".dataframe > thead > tr,\n",
       ".dataframe > tbody > tr {\n",
       "  text-align: right;\n",
       "  white-space: pre-wrap;\n",
       "}\n",
       "</style>\n",
       "<small>shape: (5, 1)</small><table border=\"1\" class=\"dataframe\"><thead><tr><th>There was protester violence</th></tr><tr><td>bool</td></tr></thead><tbody><tr><td>false</td></tr><tr><td>false</td></tr><tr><td>false</td></tr><tr><td>true</td></tr><tr><td>true</td></tr></tbody></table></div>"
      ],
      "text/plain": [
       "shape: (5, 1)\n",
       "┌──────────────────────────────┐\n",
       "│ There was protester violence │\n",
       "│ ---                          │\n",
       "│ bool                         │\n",
       "╞══════════════════════════════╡\n",
       "│ false                        │\n",
       "│ false                        │\n",
       "│ false                        │\n",
       "│ true                         │\n",
       "│ true                         │\n",
       "└──────────────────────────────┘"
      ]
     },
     "execution_count": 13,
     "metadata": {},
     "output_type": "execute_result"
    }
   ],
   "source": [
    "protests.select(pl.col(\"protesterviolence\").cast(bool).alias(\"There was protester violence\")).head()"
   ]
  },
  {
   "cell_type": "markdown",
   "id": "28c83a88",
   "metadata": {},
   "source": [
    "````{admonition} Question\n",
    "Why does the following code have absolutely no chance of producing the desired behaviour?\n",
    "\n",
    "```python\n",
    "protests.select(\"protesterviolence\".cast(bool))\n",
    "```\n",
    "````"
   ]
  },
  {
   "cell_type": "markdown",
   "id": "f4751ef7",
   "metadata": {},
   "source": [
    "So, to wrap this up, the `pl.col()` function of Polars is absolutely central: it creates an [`Expression`](https://docs.pola.rs/api/python/stable/reference/expressions/index.html), allowing you to call one of its many methods to perform computations on the selected column.\n",
    "\n",
    "![](img/df_select_modify.png)"
   ]
  },
  {
   "cell_type": "markdown",
   "id": "fa938218",
   "metadata": {},
   "source": [
    "### Adding columns\n",
    "\n",
    "To keep existing columns and add new ones, the `.with_columns()` method will come in handy. \n",
    "\n",
    "Let's first see how to add a new column using data from outside the dataframe:"
   ]
  },
  {
   "cell_type": "code",
   "execution_count": 14,
   "id": "c424191a",
   "metadata": {},
   "outputs": [
    {
     "data": {
      "text/html": [
       "<div><style>\n",
       ".dataframe > thead > tr,\n",
       ".dataframe > tbody > tr {\n",
       "  text-align: right;\n",
       "  white-space: pre-wrap;\n",
       "}\n",
       "</style>\n",
       "<small>shape: (5, 32)</small><table border=\"1\" class=\"dataframe\"><thead><tr><th>id</th><th>country</th><th>ccode</th><th>year</th><th>region</th><th>protest</th><th>protestnumber</th><th>startday</th><th>startmonth</th><th>startyear</th><th>endday</th><th>endmonth</th><th>endyear</th><th>protesterviolence</th><th>location</th><th>participants_category</th><th>participants</th><th>protesteridentity</th><th>protesterdemand1</th><th>protesterdemand2</th><th>protesterdemand3</th><th>protesterdemand4</th><th>stateresponse1</th><th>stateresponse2</th><th>stateresponse3</th><th>stateresponse4</th><th>stateresponse5</th><th>stateresponse6</th><th>stateresponse7</th><th>sources</th><th>from_scalar</th><th>from_series</th></tr><tr><td>i64</td><td>str</td><td>i64</td><td>i64</td><td>str</td><td>i64</td><td>i64</td><td>i64</td><td>i64</td><td>i64</td><td>i64</td><td>i64</td><td>i64</td><td>i64</td><td>str</td><td>str</td><td>str</td><td>str</td><td>str</td><td>str</td><td>str</td><td>str</td><td>str</td><td>str</td><td>str</td><td>str</td><td>str</td><td>str</td><td>str</td><td>str</td><td>str</td><td>i64</td></tr></thead><tbody><tr><td>201990001</td><td>&quot;Canada&quot;</td><td>20</td><td>1990</td><td>&quot;North America&quot;</td><td>1</td><td>1</td><td>15</td><td>1</td><td>1990</td><td>15</td><td>1</td><td>1990</td><td>0</td><td>&quot;national&quot;</td><td>null</td><td>&quot;1000s&quot;</td><td>&quot;unspecified&quot;</td><td>&quot;political behavior, process&quot;</td><td>&quot;labor wage dispute&quot;</td><td>null</td><td>null</td><td>&quot;ignore&quot;</td><td>null</td><td>null</td><td>null</td><td>null</td><td>null</td><td>null</td><td>&quot;1. great canadian train journe…</td><td>&quot;a&quot;</td><td>0</td></tr><tr><td>201990002</td><td>&quot;Canada&quot;</td><td>20</td><td>1990</td><td>&quot;North America&quot;</td><td>1</td><td>2</td><td>25</td><td>6</td><td>1990</td><td>25</td><td>6</td><td>1990</td><td>0</td><td>&quot;Montreal, Quebec&quot;</td><td>null</td><td>&quot;1000&quot;</td><td>&quot;unspecified&quot;</td><td>&quot;political behavior, process&quot;</td><td>null</td><td>null</td><td>null</td><td>&quot;ignore&quot;</td><td>null</td><td>null</td><td>null</td><td>null</td><td>null</td><td>null</td><td>&quot;1. autonomy s cry revived in q…</td><td>&quot;a&quot;</td><td>1</td></tr><tr><td>201990003</td><td>&quot;Canada&quot;</td><td>20</td><td>1990</td><td>&quot;North America&quot;</td><td>1</td><td>3</td><td>1</td><td>7</td><td>1990</td><td>1</td><td>7</td><td>1990</td><td>0</td><td>&quot;Montreal, Quebec&quot;</td><td>null</td><td>&quot;500&quot;</td><td>&quot;separatist parti quebecois&quot;</td><td>&quot;political behavior, process&quot;</td><td>null</td><td>null</td><td>null</td><td>&quot;ignore&quot;</td><td>null</td><td>null</td><td>null</td><td>null</td><td>null</td><td>null</td><td>&quot;1. quebec protest after queen …</td><td>&quot;a&quot;</td><td>2</td></tr><tr><td>201990004</td><td>&quot;Canada&quot;</td><td>20</td><td>1990</td><td>&quot;North America&quot;</td><td>1</td><td>4</td><td>12</td><td>7</td><td>1990</td><td>6</td><td>9</td><td>1990</td><td>1</td><td>&quot;Montreal, Quebec&quot;</td><td>null</td><td>&quot;100s&quot;</td><td>&quot;mohawk indians&quot;</td><td>&quot;land farm issue&quot;</td><td>null</td><td>null</td><td>null</td><td>&quot;accomodation&quot;</td><td>null</td><td>null</td><td>null</td><td>null</td><td>null</td><td>null</td><td>&quot;1. indians gather as siege int…</td><td>&quot;a&quot;</td><td>3</td></tr><tr><td>201990005</td><td>&quot;Canada&quot;</td><td>20</td><td>1990</td><td>&quot;North America&quot;</td><td>1</td><td>5</td><td>14</td><td>8</td><td>1990</td><td>15</td><td>8</td><td>1990</td><td>1</td><td>&quot;Montreal, Quebec&quot;</td><td>null</td><td>&quot;950&quot;</td><td>&quot;local residents&quot;</td><td>&quot;political behavior, process&quot;</td><td>null</td><td>null</td><td>null</td><td>&quot;crowd dispersal&quot;</td><td>&quot;arrests&quot;</td><td>&quot;accomodation&quot;</td><td>null</td><td>null</td><td>null</td><td>null</td><td>&quot;1. dozens hurt in mohawk block…</td><td>&quot;a&quot;</td><td>4</td></tr></tbody></table></div>"
      ],
      "text/plain": [
       "shape: (5, 32)\n",
       "┌───────────┬─────────┬───────┬──────┬───┬──────────────┬──────────────┬─────────────┬─────────────┐\n",
       "│ id        ┆ country ┆ ccode ┆ year ┆ … ┆ staterespons ┆ sources      ┆ from_scalar ┆ from_series │\n",
       "│ ---       ┆ ---     ┆ ---   ┆ ---  ┆   ┆ e7           ┆ ---          ┆ ---         ┆ ---         │\n",
       "│ i64       ┆ str     ┆ i64   ┆ i64  ┆   ┆ ---          ┆ str          ┆ str         ┆ i64         │\n",
       "│           ┆         ┆       ┆      ┆   ┆ str          ┆              ┆             ┆             │\n",
       "╞═══════════╪═════════╪═══════╪══════╪═══╪══════════════╪══════════════╪═════════════╪═════════════╡\n",
       "│ 201990001 ┆ Canada  ┆ 20    ┆ 1990 ┆ … ┆ null         ┆ 1. great     ┆ a           ┆ 0           │\n",
       "│           ┆         ┆       ┆      ┆   ┆              ┆ canadian     ┆             ┆             │\n",
       "│           ┆         ┆       ┆      ┆   ┆              ┆ train        ┆             ┆             │\n",
       "│           ┆         ┆       ┆      ┆   ┆              ┆ journe…      ┆             ┆             │\n",
       "│ 201990002 ┆ Canada  ┆ 20    ┆ 1990 ┆ … ┆ null         ┆ 1. autonomy  ┆ a           ┆ 1           │\n",
       "│           ┆         ┆       ┆      ┆   ┆              ┆ s cry        ┆             ┆             │\n",
       "│           ┆         ┆       ┆      ┆   ┆              ┆ revived in   ┆             ┆             │\n",
       "│           ┆         ┆       ┆      ┆   ┆              ┆ q…           ┆             ┆             │\n",
       "│ 201990003 ┆ Canada  ┆ 20    ┆ 1990 ┆ … ┆ null         ┆ 1. quebec    ┆ a           ┆ 2           │\n",
       "│           ┆         ┆       ┆      ┆   ┆              ┆ protest      ┆             ┆             │\n",
       "│           ┆         ┆       ┆      ┆   ┆              ┆ after queen  ┆             ┆             │\n",
       "│           ┆         ┆       ┆      ┆   ┆              ┆ …            ┆             ┆             │\n",
       "│ 201990004 ┆ Canada  ┆ 20    ┆ 1990 ┆ … ┆ null         ┆ 1. indians   ┆ a           ┆ 3           │\n",
       "│           ┆         ┆       ┆      ┆   ┆              ┆ gather as    ┆             ┆             │\n",
       "│           ┆         ┆       ┆      ┆   ┆              ┆ siege int…   ┆             ┆             │\n",
       "│ 201990005 ┆ Canada  ┆ 20    ┆ 1990 ┆ … ┆ null         ┆ 1. dozens    ┆ a           ┆ 4           │\n",
       "│           ┆         ┆       ┆      ┆   ┆              ┆ hurt in      ┆             ┆             │\n",
       "│           ┆         ┆       ┆      ┆   ┆              ┆ mohawk       ┆             ┆             │\n",
       "│           ┆         ┆       ┆      ┆   ┆              ┆ block…       ┆             ┆             │\n",
       "└───────────┴─────────┴───────┴──────┴───┴──────────────┴──────────────┴─────────────┴─────────────┘"
      ]
     },
     "execution_count": 14,
     "metadata": {},
     "output_type": "execute_result"
    }
   ],
   "source": [
    "protests.with_columns(\n",
    "    from_scalar=pl.lit(\"a\"),\n",
    "    from_series=pl.Series(list(range(protests.shape[0]))),\n",
    ").head()"
   ]
  },
  {
   "cell_type": "markdown",
   "id": "b6b33d81",
   "metadata": {},
   "source": [
    "We've covered two cases here:\n",
    "- when you'd like to have a column filled with the same value, you will need to specify you're providing the literal value you want in each row with `pl.lit()`,\n",
    "- when you want to provide directly all the distinct values to be put in rows, you will need `pl.Series()`."
   ]
  },
  {
   "cell_type": "markdown",
   "id": "b9bc5dec",
   "metadata": {},
   "source": [
    "Now, let's see how to add columns using the values from existing ones. We'll try to get the duration in days of all the protests in our dataset. To that end, let's first find out what columns could help us here:"
   ]
  },
  {
   "cell_type": "code",
   "execution_count": 15,
   "id": "372ee15f",
   "metadata": {},
   "outputs": [
    {
     "data": {
      "text/html": [
       "<div><style>\n",
       ".dataframe > thead > tr,\n",
       ".dataframe > tbody > tr {\n",
       "  text-align: right;\n",
       "  white-space: pre-wrap;\n",
       "}\n",
       "</style>\n",
       "<small>shape: (5, 30)</small><table border=\"1\" class=\"dataframe\"><thead><tr><th>id</th><th>country</th><th>ccode</th><th>year</th><th>region</th><th>protest</th><th>protestnumber</th><th>startday</th><th>startmonth</th><th>startyear</th><th>endday</th><th>endmonth</th><th>endyear</th><th>protesterviolence</th><th>location</th><th>participants_category</th><th>participants</th><th>protesteridentity</th><th>protesterdemand1</th><th>protesterdemand2</th><th>protesterdemand3</th><th>protesterdemand4</th><th>stateresponse1</th><th>stateresponse2</th><th>stateresponse3</th><th>stateresponse4</th><th>stateresponse5</th><th>stateresponse6</th><th>stateresponse7</th><th>sources</th></tr><tr><td>i64</td><td>str</td><td>i64</td><td>i64</td><td>str</td><td>i64</td><td>i64</td><td>i64</td><td>i64</td><td>i64</td><td>i64</td><td>i64</td><td>i64</td><td>i64</td><td>str</td><td>str</td><td>str</td><td>str</td><td>str</td><td>str</td><td>str</td><td>str</td><td>str</td><td>str</td><td>str</td><td>str</td><td>str</td><td>str</td><td>str</td><td>str</td></tr></thead><tbody><tr><td>201990001</td><td>&quot;Canada&quot;</td><td>20</td><td>1990</td><td>&quot;North America&quot;</td><td>1</td><td>1</td><td>15</td><td>1</td><td>1990</td><td>15</td><td>1</td><td>1990</td><td>0</td><td>&quot;national&quot;</td><td>null</td><td>&quot;1000s&quot;</td><td>&quot;unspecified&quot;</td><td>&quot;political behavior, process&quot;</td><td>&quot;labor wage dispute&quot;</td><td>null</td><td>null</td><td>&quot;ignore&quot;</td><td>null</td><td>null</td><td>null</td><td>null</td><td>null</td><td>null</td><td>&quot;1. great canadian train journe…</td></tr><tr><td>201990002</td><td>&quot;Canada&quot;</td><td>20</td><td>1990</td><td>&quot;North America&quot;</td><td>1</td><td>2</td><td>25</td><td>6</td><td>1990</td><td>25</td><td>6</td><td>1990</td><td>0</td><td>&quot;Montreal, Quebec&quot;</td><td>null</td><td>&quot;1000&quot;</td><td>&quot;unspecified&quot;</td><td>&quot;political behavior, process&quot;</td><td>null</td><td>null</td><td>null</td><td>&quot;ignore&quot;</td><td>null</td><td>null</td><td>null</td><td>null</td><td>null</td><td>null</td><td>&quot;1. autonomy s cry revived in q…</td></tr><tr><td>201990003</td><td>&quot;Canada&quot;</td><td>20</td><td>1990</td><td>&quot;North America&quot;</td><td>1</td><td>3</td><td>1</td><td>7</td><td>1990</td><td>1</td><td>7</td><td>1990</td><td>0</td><td>&quot;Montreal, Quebec&quot;</td><td>null</td><td>&quot;500&quot;</td><td>&quot;separatist parti quebecois&quot;</td><td>&quot;political behavior, process&quot;</td><td>null</td><td>null</td><td>null</td><td>&quot;ignore&quot;</td><td>null</td><td>null</td><td>null</td><td>null</td><td>null</td><td>null</td><td>&quot;1. quebec protest after queen …</td></tr><tr><td>201990004</td><td>&quot;Canada&quot;</td><td>20</td><td>1990</td><td>&quot;North America&quot;</td><td>1</td><td>4</td><td>12</td><td>7</td><td>1990</td><td>6</td><td>9</td><td>1990</td><td>1</td><td>&quot;Montreal, Quebec&quot;</td><td>null</td><td>&quot;100s&quot;</td><td>&quot;mohawk indians&quot;</td><td>&quot;land farm issue&quot;</td><td>null</td><td>null</td><td>null</td><td>&quot;accomodation&quot;</td><td>null</td><td>null</td><td>null</td><td>null</td><td>null</td><td>null</td><td>&quot;1. indians gather as siege int…</td></tr><tr><td>201990005</td><td>&quot;Canada&quot;</td><td>20</td><td>1990</td><td>&quot;North America&quot;</td><td>1</td><td>5</td><td>14</td><td>8</td><td>1990</td><td>15</td><td>8</td><td>1990</td><td>1</td><td>&quot;Montreal, Quebec&quot;</td><td>null</td><td>&quot;950&quot;</td><td>&quot;local residents&quot;</td><td>&quot;political behavior, process&quot;</td><td>null</td><td>null</td><td>null</td><td>&quot;crowd dispersal&quot;</td><td>&quot;arrests&quot;</td><td>&quot;accomodation&quot;</td><td>null</td><td>null</td><td>null</td><td>null</td><td>&quot;1. dozens hurt in mohawk block…</td></tr></tbody></table></div>"
      ],
      "text/plain": [
       "shape: (5, 30)\n",
       "┌───────────┬─────────┬───────┬──────┬───┬──────────────┬──────────────┬─────────────┬─────────────┐\n",
       "│ id        ┆ country ┆ ccode ┆ year ┆ … ┆ staterespons ┆ staterespons ┆ staterespon ┆ sources     │\n",
       "│ ---       ┆ ---     ┆ ---   ┆ ---  ┆   ┆ e5           ┆ e6           ┆ se7         ┆ ---         │\n",
       "│ i64       ┆ str     ┆ i64   ┆ i64  ┆   ┆ ---          ┆ ---          ┆ ---         ┆ str         │\n",
       "│           ┆         ┆       ┆      ┆   ┆ str          ┆ str          ┆ str         ┆             │\n",
       "╞═══════════╪═════════╪═══════╪══════╪═══╪══════════════╪══════════════╪═════════════╪═════════════╡\n",
       "│ 201990001 ┆ Canada  ┆ 20    ┆ 1990 ┆ … ┆ null         ┆ null         ┆ null        ┆ 1. great    │\n",
       "│           ┆         ┆       ┆      ┆   ┆              ┆              ┆             ┆ canadian    │\n",
       "│           ┆         ┆       ┆      ┆   ┆              ┆              ┆             ┆ train       │\n",
       "│           ┆         ┆       ┆      ┆   ┆              ┆              ┆             ┆ journe…     │\n",
       "│ 201990002 ┆ Canada  ┆ 20    ┆ 1990 ┆ … ┆ null         ┆ null         ┆ null        ┆ 1. autonomy │\n",
       "│           ┆         ┆       ┆      ┆   ┆              ┆              ┆             ┆ s cry       │\n",
       "│           ┆         ┆       ┆      ┆   ┆              ┆              ┆             ┆ revived in  │\n",
       "│           ┆         ┆       ┆      ┆   ┆              ┆              ┆             ┆ q…          │\n",
       "│ 201990003 ┆ Canada  ┆ 20    ┆ 1990 ┆ … ┆ null         ┆ null         ┆ null        ┆ 1. quebec   │\n",
       "│           ┆         ┆       ┆      ┆   ┆              ┆              ┆             ┆ protest     │\n",
       "│           ┆         ┆       ┆      ┆   ┆              ┆              ┆             ┆ after queen │\n",
       "│           ┆         ┆       ┆      ┆   ┆              ┆              ┆             ┆ …           │\n",
       "│ 201990004 ┆ Canada  ┆ 20    ┆ 1990 ┆ … ┆ null         ┆ null         ┆ null        ┆ 1. indians  │\n",
       "│           ┆         ┆       ┆      ┆   ┆              ┆              ┆             ┆ gather as   │\n",
       "│           ┆         ┆       ┆      ┆   ┆              ┆              ┆             ┆ siege int…  │\n",
       "│ 201990005 ┆ Canada  ┆ 20    ┆ 1990 ┆ … ┆ null         ┆ null         ┆ null        ┆ 1. dozens   │\n",
       "│           ┆         ┆       ┆      ┆   ┆              ┆              ┆             ┆ hurt in     │\n",
       "│           ┆         ┆       ┆      ┆   ┆              ┆              ┆             ┆ mohawk      │\n",
       "│           ┆         ┆       ┆      ┆   ┆              ┆              ┆             ┆ block…      │\n",
       "└───────────┴─────────┴───────┴──────┴───┴──────────────┴──────────────┴─────────────┴─────────────┘"
      ]
     },
     "execution_count": 15,
     "metadata": {},
     "output_type": "execute_result"
    }
   ],
   "source": [
    "protests.head()"
   ]
  },
  {
   "cell_type": "markdown",
   "id": "36e32f10",
   "metadata": {},
   "source": [
    "It does seem that the start and end day of each protest are each encoded in 3 columns of integers, respectively: `[\"startyear\", \"startmonth\", \"startday\"]`, and `[\"endyear\", \"endmonth\", \"endday\"]`. This makes it very annoying to compute the duration of protests, because, for instance, if a protest spans more than a month, we can't just subtract `\"endday\"` with `\"startday\"`, which are day numbers within their month. So let's first compute two new columns for the start and end date, with an actual `date` data type, which will save us a headache. Here we'll use the `pl.date()` function:"
   ]
  },
  {
   "cell_type": "code",
   "execution_count": 16,
   "id": "fb835762",
   "metadata": {},
   "outputs": [
    {
     "data": {
      "text/html": [
       "<div><style>\n",
       ".dataframe > thead > tr,\n",
       ".dataframe > tbody > tr {\n",
       "  text-align: right;\n",
       "  white-space: pre-wrap;\n",
       "}\n",
       "</style>\n",
       "<small>shape: (5, 32)</small><table border=\"1\" class=\"dataframe\"><thead><tr><th>id</th><th>country</th><th>ccode</th><th>year</th><th>region</th><th>protest</th><th>protestnumber</th><th>startday</th><th>startmonth</th><th>startyear</th><th>endday</th><th>endmonth</th><th>endyear</th><th>protesterviolence</th><th>location</th><th>participants_category</th><th>participants</th><th>protesteridentity</th><th>protesterdemand1</th><th>protesterdemand2</th><th>protesterdemand3</th><th>protesterdemand4</th><th>stateresponse1</th><th>stateresponse2</th><th>stateresponse3</th><th>stateresponse4</th><th>stateresponse5</th><th>stateresponse6</th><th>stateresponse7</th><th>sources</th><th>start_date</th><th>end_date</th></tr><tr><td>i64</td><td>str</td><td>i64</td><td>i64</td><td>str</td><td>i64</td><td>i64</td><td>i64</td><td>i64</td><td>i64</td><td>i64</td><td>i64</td><td>i64</td><td>i64</td><td>str</td><td>str</td><td>str</td><td>str</td><td>str</td><td>str</td><td>str</td><td>str</td><td>str</td><td>str</td><td>str</td><td>str</td><td>str</td><td>str</td><td>str</td><td>str</td><td>date</td><td>date</td></tr></thead><tbody><tr><td>201990001</td><td>&quot;Canada&quot;</td><td>20</td><td>1990</td><td>&quot;North America&quot;</td><td>1</td><td>1</td><td>15</td><td>1</td><td>1990</td><td>15</td><td>1</td><td>1990</td><td>0</td><td>&quot;national&quot;</td><td>null</td><td>&quot;1000s&quot;</td><td>&quot;unspecified&quot;</td><td>&quot;political behavior, process&quot;</td><td>&quot;labor wage dispute&quot;</td><td>null</td><td>null</td><td>&quot;ignore&quot;</td><td>null</td><td>null</td><td>null</td><td>null</td><td>null</td><td>null</td><td>&quot;1. great canadian train journe…</td><td>1990-01-15</td><td>1990-01-15</td></tr><tr><td>201990002</td><td>&quot;Canada&quot;</td><td>20</td><td>1990</td><td>&quot;North America&quot;</td><td>1</td><td>2</td><td>25</td><td>6</td><td>1990</td><td>25</td><td>6</td><td>1990</td><td>0</td><td>&quot;Montreal, Quebec&quot;</td><td>null</td><td>&quot;1000&quot;</td><td>&quot;unspecified&quot;</td><td>&quot;political behavior, process&quot;</td><td>null</td><td>null</td><td>null</td><td>&quot;ignore&quot;</td><td>null</td><td>null</td><td>null</td><td>null</td><td>null</td><td>null</td><td>&quot;1. autonomy s cry revived in q…</td><td>1990-06-25</td><td>1990-06-25</td></tr><tr><td>201990003</td><td>&quot;Canada&quot;</td><td>20</td><td>1990</td><td>&quot;North America&quot;</td><td>1</td><td>3</td><td>1</td><td>7</td><td>1990</td><td>1</td><td>7</td><td>1990</td><td>0</td><td>&quot;Montreal, Quebec&quot;</td><td>null</td><td>&quot;500&quot;</td><td>&quot;separatist parti quebecois&quot;</td><td>&quot;political behavior, process&quot;</td><td>null</td><td>null</td><td>null</td><td>&quot;ignore&quot;</td><td>null</td><td>null</td><td>null</td><td>null</td><td>null</td><td>null</td><td>&quot;1. quebec protest after queen …</td><td>1990-07-01</td><td>1990-07-01</td></tr><tr><td>201990004</td><td>&quot;Canada&quot;</td><td>20</td><td>1990</td><td>&quot;North America&quot;</td><td>1</td><td>4</td><td>12</td><td>7</td><td>1990</td><td>6</td><td>9</td><td>1990</td><td>1</td><td>&quot;Montreal, Quebec&quot;</td><td>null</td><td>&quot;100s&quot;</td><td>&quot;mohawk indians&quot;</td><td>&quot;land farm issue&quot;</td><td>null</td><td>null</td><td>null</td><td>&quot;accomodation&quot;</td><td>null</td><td>null</td><td>null</td><td>null</td><td>null</td><td>null</td><td>&quot;1. indians gather as siege int…</td><td>1990-07-12</td><td>1990-09-06</td></tr><tr><td>201990005</td><td>&quot;Canada&quot;</td><td>20</td><td>1990</td><td>&quot;North America&quot;</td><td>1</td><td>5</td><td>14</td><td>8</td><td>1990</td><td>15</td><td>8</td><td>1990</td><td>1</td><td>&quot;Montreal, Quebec&quot;</td><td>null</td><td>&quot;950&quot;</td><td>&quot;local residents&quot;</td><td>&quot;political behavior, process&quot;</td><td>null</td><td>null</td><td>null</td><td>&quot;crowd dispersal&quot;</td><td>&quot;arrests&quot;</td><td>&quot;accomodation&quot;</td><td>null</td><td>null</td><td>null</td><td>null</td><td>&quot;1. dozens hurt in mohawk block…</td><td>1990-08-14</td><td>1990-08-15</td></tr></tbody></table></div>"
      ],
      "text/plain": [
       "shape: (5, 32)\n",
       "┌───────────┬─────────┬───────┬──────┬───┬───────────────┬───────────────┬────────────┬────────────┐\n",
       "│ id        ┆ country ┆ ccode ┆ year ┆ … ┆ stateresponse ┆ sources       ┆ start_date ┆ end_date   │\n",
       "│ ---       ┆ ---     ┆ ---   ┆ ---  ┆   ┆ 7             ┆ ---           ┆ ---        ┆ ---        │\n",
       "│ i64       ┆ str     ┆ i64   ┆ i64  ┆   ┆ ---           ┆ str           ┆ date       ┆ date       │\n",
       "│           ┆         ┆       ┆      ┆   ┆ str           ┆               ┆            ┆            │\n",
       "╞═══════════╪═════════╪═══════╪══════╪═══╪═══════════════╪═══════════════╪════════════╪════════════╡\n",
       "│ 201990001 ┆ Canada  ┆ 20    ┆ 1990 ┆ … ┆ null          ┆ 1. great      ┆ 1990-01-15 ┆ 1990-01-15 │\n",
       "│           ┆         ┆       ┆      ┆   ┆               ┆ canadian      ┆            ┆            │\n",
       "│           ┆         ┆       ┆      ┆   ┆               ┆ train journe… ┆            ┆            │\n",
       "│ 201990002 ┆ Canada  ┆ 20    ┆ 1990 ┆ … ┆ null          ┆ 1. autonomy s ┆ 1990-06-25 ┆ 1990-06-25 │\n",
       "│           ┆         ┆       ┆      ┆   ┆               ┆ cry revived   ┆            ┆            │\n",
       "│           ┆         ┆       ┆      ┆   ┆               ┆ in q…         ┆            ┆            │\n",
       "│ 201990003 ┆ Canada  ┆ 20    ┆ 1990 ┆ … ┆ null          ┆ 1. quebec     ┆ 1990-07-01 ┆ 1990-07-01 │\n",
       "│           ┆         ┆       ┆      ┆   ┆               ┆ protest after ┆            ┆            │\n",
       "│           ┆         ┆       ┆      ┆   ┆               ┆ queen …       ┆            ┆            │\n",
       "│ 201990004 ┆ Canada  ┆ 20    ┆ 1990 ┆ … ┆ null          ┆ 1. indians    ┆ 1990-07-12 ┆ 1990-09-06 │\n",
       "│           ┆         ┆       ┆      ┆   ┆               ┆ gather as     ┆            ┆            │\n",
       "│           ┆         ┆       ┆      ┆   ┆               ┆ siege int…    ┆            ┆            │\n",
       "│ 201990005 ┆ Canada  ┆ 20    ┆ 1990 ┆ … ┆ null          ┆ 1. dozens     ┆ 1990-08-14 ┆ 1990-08-15 │\n",
       "│           ┆         ┆       ┆      ┆   ┆               ┆ hurt in       ┆            ┆            │\n",
       "│           ┆         ┆       ┆      ┆   ┆               ┆ mohawk block… ┆            ┆            │\n",
       "└───────────┴─────────┴───────┴──────┴───┴───────────────┴───────────────┴────────────┴────────────┘"
      ]
     },
     "execution_count": 16,
     "metadata": {},
     "output_type": "execute_result"
    }
   ],
   "source": [
    "protests = protests.with_columns(\n",
    "    pl.date(\"startyear\", \"startmonth\", \"startday\").alias(\"start_date\"),\n",
    "    pl.date(\"endyear\", \"endmonth\", \"endday\").alias(\"end_date\"),\n",
    ")\n",
    "protests.head()"
   ]
  },
  {
   "cell_type": "markdown",
   "id": "24e32bd5",
   "metadata": {},
   "source": [
    "And now we just have to subtract `\"start_date\"` from `\"end_date\"` to get our duration! There is one small problem though. As you can see from the result above, when a protest occurred over one day, the `start_date` and `end_date` are identical. There is a simple solution to that: we can add a duration of one day to every entry by adding `pl.duration(days=1)`. That works exactly like adding a scalar to a NumPy array: the value is added to each element. "
   ]
  },
  {
   "cell_type": "code",
   "execution_count": 17,
   "id": "136d41ca",
   "metadata": {},
   "outputs": [
    {
     "data": {
      "text/html": [
       "<div><style>\n",
       ".dataframe > thead > tr,\n",
       ".dataframe > tbody > tr {\n",
       "  text-align: right;\n",
       "  white-space: pre-wrap;\n",
       "}\n",
       "</style>\n",
       "<small>shape: (5, 33)</small><table border=\"1\" class=\"dataframe\"><thead><tr><th>id</th><th>country</th><th>ccode</th><th>year</th><th>region</th><th>protest</th><th>protestnumber</th><th>startday</th><th>startmonth</th><th>startyear</th><th>endday</th><th>endmonth</th><th>endyear</th><th>protesterviolence</th><th>location</th><th>participants_category</th><th>participants</th><th>protesteridentity</th><th>protesterdemand1</th><th>protesterdemand2</th><th>protesterdemand3</th><th>protesterdemand4</th><th>stateresponse1</th><th>stateresponse2</th><th>stateresponse3</th><th>stateresponse4</th><th>stateresponse5</th><th>stateresponse6</th><th>stateresponse7</th><th>sources</th><th>start_date</th><th>end_date</th><th>duration</th></tr><tr><td>i64</td><td>str</td><td>i64</td><td>i64</td><td>str</td><td>i64</td><td>i64</td><td>i64</td><td>i64</td><td>i64</td><td>i64</td><td>i64</td><td>i64</td><td>i64</td><td>str</td><td>str</td><td>str</td><td>str</td><td>str</td><td>str</td><td>str</td><td>str</td><td>str</td><td>str</td><td>str</td><td>str</td><td>str</td><td>str</td><td>str</td><td>str</td><td>date</td><td>date</td><td>duration[ms]</td></tr></thead><tbody><tr><td>201990001</td><td>&quot;Canada&quot;</td><td>20</td><td>1990</td><td>&quot;North America&quot;</td><td>1</td><td>1</td><td>15</td><td>1</td><td>1990</td><td>15</td><td>1</td><td>1990</td><td>0</td><td>&quot;national&quot;</td><td>null</td><td>&quot;1000s&quot;</td><td>&quot;unspecified&quot;</td><td>&quot;political behavior, process&quot;</td><td>&quot;labor wage dispute&quot;</td><td>null</td><td>null</td><td>&quot;ignore&quot;</td><td>null</td><td>null</td><td>null</td><td>null</td><td>null</td><td>null</td><td>&quot;1. great canadian train journe…</td><td>1990-01-15</td><td>1990-01-15</td><td>1d</td></tr><tr><td>201990002</td><td>&quot;Canada&quot;</td><td>20</td><td>1990</td><td>&quot;North America&quot;</td><td>1</td><td>2</td><td>25</td><td>6</td><td>1990</td><td>25</td><td>6</td><td>1990</td><td>0</td><td>&quot;Montreal, Quebec&quot;</td><td>null</td><td>&quot;1000&quot;</td><td>&quot;unspecified&quot;</td><td>&quot;political behavior, process&quot;</td><td>null</td><td>null</td><td>null</td><td>&quot;ignore&quot;</td><td>null</td><td>null</td><td>null</td><td>null</td><td>null</td><td>null</td><td>&quot;1. autonomy s cry revived in q…</td><td>1990-06-25</td><td>1990-06-25</td><td>1d</td></tr><tr><td>201990003</td><td>&quot;Canada&quot;</td><td>20</td><td>1990</td><td>&quot;North America&quot;</td><td>1</td><td>3</td><td>1</td><td>7</td><td>1990</td><td>1</td><td>7</td><td>1990</td><td>0</td><td>&quot;Montreal, Quebec&quot;</td><td>null</td><td>&quot;500&quot;</td><td>&quot;separatist parti quebecois&quot;</td><td>&quot;political behavior, process&quot;</td><td>null</td><td>null</td><td>null</td><td>&quot;ignore&quot;</td><td>null</td><td>null</td><td>null</td><td>null</td><td>null</td><td>null</td><td>&quot;1. quebec protest after queen …</td><td>1990-07-01</td><td>1990-07-01</td><td>1d</td></tr><tr><td>201990004</td><td>&quot;Canada&quot;</td><td>20</td><td>1990</td><td>&quot;North America&quot;</td><td>1</td><td>4</td><td>12</td><td>7</td><td>1990</td><td>6</td><td>9</td><td>1990</td><td>1</td><td>&quot;Montreal, Quebec&quot;</td><td>null</td><td>&quot;100s&quot;</td><td>&quot;mohawk indians&quot;</td><td>&quot;land farm issue&quot;</td><td>null</td><td>null</td><td>null</td><td>&quot;accomodation&quot;</td><td>null</td><td>null</td><td>null</td><td>null</td><td>null</td><td>null</td><td>&quot;1. indians gather as siege int…</td><td>1990-07-12</td><td>1990-09-06</td><td>57d</td></tr><tr><td>201990005</td><td>&quot;Canada&quot;</td><td>20</td><td>1990</td><td>&quot;North America&quot;</td><td>1</td><td>5</td><td>14</td><td>8</td><td>1990</td><td>15</td><td>8</td><td>1990</td><td>1</td><td>&quot;Montreal, Quebec&quot;</td><td>null</td><td>&quot;950&quot;</td><td>&quot;local residents&quot;</td><td>&quot;political behavior, process&quot;</td><td>null</td><td>null</td><td>null</td><td>&quot;crowd dispersal&quot;</td><td>&quot;arrests&quot;</td><td>&quot;accomodation&quot;</td><td>null</td><td>null</td><td>null</td><td>null</td><td>&quot;1. dozens hurt in mohawk block…</td><td>1990-08-14</td><td>1990-08-15</td><td>2d</td></tr></tbody></table></div>"
      ],
      "text/plain": [
       "shape: (5, 33)\n",
       "┌───────────┬─────────┬───────┬──────┬───┬────────────────┬────────────┬────────────┬──────────────┐\n",
       "│ id        ┆ country ┆ ccode ┆ year ┆ … ┆ sources        ┆ start_date ┆ end_date   ┆ duration     │\n",
       "│ ---       ┆ ---     ┆ ---   ┆ ---  ┆   ┆ ---            ┆ ---        ┆ ---        ┆ ---          │\n",
       "│ i64       ┆ str     ┆ i64   ┆ i64  ┆   ┆ str            ┆ date       ┆ date       ┆ duration[ms] │\n",
       "╞═══════════╪═════════╪═══════╪══════╪═══╪════════════════╪════════════╪════════════╪══════════════╡\n",
       "│ 201990001 ┆ Canada  ┆ 20    ┆ 1990 ┆ … ┆ 1. great       ┆ 1990-01-15 ┆ 1990-01-15 ┆ 1d           │\n",
       "│           ┆         ┆       ┆      ┆   ┆ canadian train ┆            ┆            ┆              │\n",
       "│           ┆         ┆       ┆      ┆   ┆ journe…        ┆            ┆            ┆              │\n",
       "│ 201990002 ┆ Canada  ┆ 20    ┆ 1990 ┆ … ┆ 1. autonomy s  ┆ 1990-06-25 ┆ 1990-06-25 ┆ 1d           │\n",
       "│           ┆         ┆       ┆      ┆   ┆ cry revived in ┆            ┆            ┆              │\n",
       "│           ┆         ┆       ┆      ┆   ┆ q…             ┆            ┆            ┆              │\n",
       "│ 201990003 ┆ Canada  ┆ 20    ┆ 1990 ┆ … ┆ 1. quebec      ┆ 1990-07-01 ┆ 1990-07-01 ┆ 1d           │\n",
       "│           ┆         ┆       ┆      ┆   ┆ protest after  ┆            ┆            ┆              │\n",
       "│           ┆         ┆       ┆      ┆   ┆ queen …        ┆            ┆            ┆              │\n",
       "│ 201990004 ┆ Canada  ┆ 20    ┆ 1990 ┆ … ┆ 1. indians     ┆ 1990-07-12 ┆ 1990-09-06 ┆ 57d          │\n",
       "│           ┆         ┆       ┆      ┆   ┆ gather as      ┆            ┆            ┆              │\n",
       "│           ┆         ┆       ┆      ┆   ┆ siege int…     ┆            ┆            ┆              │\n",
       "│ 201990005 ┆ Canada  ┆ 20    ┆ 1990 ┆ … ┆ 1. dozens hurt ┆ 1990-08-14 ┆ 1990-08-15 ┆ 2d           │\n",
       "│           ┆         ┆       ┆      ┆   ┆ in mohawk      ┆            ┆            ┆              │\n",
       "│           ┆         ┆       ┆      ┆   ┆ block…         ┆            ┆            ┆              │\n",
       "└───────────┴─────────┴───────┴──────┴───┴────────────────┴────────────┴────────────┴──────────────┘"
      ]
     },
     "execution_count": 17,
     "metadata": {},
     "output_type": "execute_result"
    }
   ],
   "source": [
    "protests = protests.with_columns(\n",
    "    duration=pl.col(\"end_date\") - pl.col(\"start_date\") + pl.duration(days=1)\n",
    ")\n",
    "protests.head()"
   ]
  },
  {
   "cell_type": "markdown",
   "id": "0c474668",
   "metadata": {},
   "source": [
    "```{note}\n",
    "Here we gave our column a name through the name of the keyword argument passed to `with_columns`. This is just another way to `.alias()`.\n",
    "```"
   ]
  },
  {
   "cell_type": "markdown",
   "id": "37608c3a",
   "metadata": {},
   "source": [
    "![](img/df_with_columns.png)"
   ]
  },
  {
   "cell_type": "markdown",
   "id": "ce171c5c",
   "metadata": {},
   "source": [
    "### Exercise: years of protest \n",
    "\n",
    "In the `protests` dataframe, create the two following integer columns:\n",
    "- `nr_years_calendar` indicating how many different calendar years each protest spanned,\n",
    "- `nr_years` indicating how many (actual) years the protest lasted "
   ]
  },
  {
   "cell_type": "code",
   "execution_count": 18,
   "id": "e13b5710",
   "metadata": {},
   "outputs": [
    {
     "data": {
      "text/html": [
       "<div><style>\n",
       ".dataframe > thead > tr,\n",
       ".dataframe > tbody > tr {\n",
       "  text-align: right;\n",
       "  white-space: pre-wrap;\n",
       "}\n",
       "</style>\n",
       "<small>shape: (17_145, 1)</small><table border=\"1\" class=\"dataframe\"><thead><tr><th>duration</th></tr><tr><td>duration[ms]</td></tr></thead><tbody><tr><td>1d</td></tr><tr><td>1d</td></tr><tr><td>1d</td></tr><tr><td>57d</td></tr><tr><td>2d</td></tr><tr><td>&hellip;</td></tr><tr><td>1d</td></tr><tr><td>1d</td></tr><tr><td>null</td></tr><tr><td>null</td></tr><tr><td>null</td></tr></tbody></table></div>"
      ],
      "text/plain": [
       "shape: (17_145, 1)\n",
       "┌──────────────┐\n",
       "│ duration     │\n",
       "│ ---          │\n",
       "│ duration[ms] │\n",
       "╞══════════════╡\n",
       "│ 1d           │\n",
       "│ 1d           │\n",
       "│ 1d           │\n",
       "│ 57d          │\n",
       "│ 2d           │\n",
       "│ …            │\n",
       "│ 1d           │\n",
       "│ 1d           │\n",
       "│ null         │\n",
       "│ null         │\n",
       "│ null         │\n",
       "└──────────────┘"
      ]
     },
     "execution_count": 18,
     "metadata": {},
     "output_type": "execute_result"
    }
   ],
   "source": [
    "protests.select(pl.col('duration'))"
   ]
  },
  {
   "cell_type": "markdown",
   "id": "ef63e5a2",
   "metadata": {},
   "source": [
    "```{hint}\n",
    "The second one is tricky: take into account that the column \"duration\" is a `Duration` data type. You'll need to head over to [the documentation on temporal expressions](https://docs.pola.rs/api/python/stable/reference/expressions/temporal.html), and search in particular for those that apply to a `Duration` to find a method that can help you out.\n",
    "```"
   ]
  },
  {
   "cell_type": "markdown",
   "id": "a3a93d8c",
   "metadata": {},
   "source": [
    "## Operations on rows\n",
    "\n",
    "If we consider the rows of a dataset, typically we may wish to select only some of them, change their order or add some new rows."
   ]
  },
  {
   "cell_type": "markdown",
   "id": "530541fa",
   "metadata": {},
   "source": [
    "### Selecting by row numbers\n",
    "\n",
    "The simplest way to select only certain rows is through their corresponding number, i.e., their vertical position in the frame. "
   ]
  },
  {
   "cell_type": "markdown",
   "id": "810a3dd8",
   "metadata": {},
   "source": [
    "For instance, you can select the first two or the three last rows in the corresponding following ways:"
   ]
  },
  {
   "cell_type": "code",
   "execution_count": 20,
   "id": "c348a746",
   "metadata": {
    "scrolled": false
   },
   "outputs": [
    {
     "data": {
      "text/html": [
       "<div><style>\n",
       ".dataframe > thead > tr,\n",
       ".dataframe > tbody > tr {\n",
       "  text-align: right;\n",
       "  white-space: pre-wrap;\n",
       "}\n",
       "</style>\n",
       "<small>shape: (2, 33)</small><table border=\"1\" class=\"dataframe\"><thead><tr><th>id</th><th>country</th><th>ccode</th><th>year</th><th>region</th><th>protest</th><th>protestnumber</th><th>startday</th><th>startmonth</th><th>startyear</th><th>endday</th><th>endmonth</th><th>endyear</th><th>protesterviolence</th><th>location</th><th>participants_category</th><th>participants</th><th>protesteridentity</th><th>protesterdemand1</th><th>protesterdemand2</th><th>protesterdemand3</th><th>protesterdemand4</th><th>stateresponse1</th><th>stateresponse2</th><th>stateresponse3</th><th>stateresponse4</th><th>stateresponse5</th><th>stateresponse6</th><th>stateresponse7</th><th>sources</th><th>start_date</th><th>end_date</th><th>duration</th></tr><tr><td>i64</td><td>str</td><td>i64</td><td>i64</td><td>str</td><td>i64</td><td>i64</td><td>i64</td><td>i64</td><td>i64</td><td>i64</td><td>i64</td><td>i64</td><td>i64</td><td>str</td><td>str</td><td>str</td><td>str</td><td>str</td><td>str</td><td>str</td><td>str</td><td>str</td><td>str</td><td>str</td><td>str</td><td>str</td><td>str</td><td>str</td><td>str</td><td>date</td><td>date</td><td>duration[ms]</td></tr></thead><tbody><tr><td>201990001</td><td>&quot;Canada&quot;</td><td>20</td><td>1990</td><td>&quot;North America&quot;</td><td>1</td><td>1</td><td>15</td><td>1</td><td>1990</td><td>15</td><td>1</td><td>1990</td><td>0</td><td>&quot;national&quot;</td><td>null</td><td>&quot;1000s&quot;</td><td>&quot;unspecified&quot;</td><td>&quot;political behavior, process&quot;</td><td>&quot;labor wage dispute&quot;</td><td>null</td><td>null</td><td>&quot;ignore&quot;</td><td>null</td><td>null</td><td>null</td><td>null</td><td>null</td><td>null</td><td>&quot;1. great canadian train journe…</td><td>1990-01-15</td><td>1990-01-15</td><td>1d</td></tr><tr><td>201990002</td><td>&quot;Canada&quot;</td><td>20</td><td>1990</td><td>&quot;North America&quot;</td><td>1</td><td>2</td><td>25</td><td>6</td><td>1990</td><td>25</td><td>6</td><td>1990</td><td>0</td><td>&quot;Montreal, Quebec&quot;</td><td>null</td><td>&quot;1000&quot;</td><td>&quot;unspecified&quot;</td><td>&quot;political behavior, process&quot;</td><td>null</td><td>null</td><td>null</td><td>&quot;ignore&quot;</td><td>null</td><td>null</td><td>null</td><td>null</td><td>null</td><td>null</td><td>&quot;1. autonomy s cry revived in q…</td><td>1990-06-25</td><td>1990-06-25</td><td>1d</td></tr></tbody></table></div>"
      ],
      "text/plain": [
       "shape: (2, 33)\n",
       "┌───────────┬─────────┬───────┬──────┬───┬────────────────┬────────────┬────────────┬──────────────┐\n",
       "│ id        ┆ country ┆ ccode ┆ year ┆ … ┆ sources        ┆ start_date ┆ end_date   ┆ duration     │\n",
       "│ ---       ┆ ---     ┆ ---   ┆ ---  ┆   ┆ ---            ┆ ---        ┆ ---        ┆ ---          │\n",
       "│ i64       ┆ str     ┆ i64   ┆ i64  ┆   ┆ str            ┆ date       ┆ date       ┆ duration[ms] │\n",
       "╞═══════════╪═════════╪═══════╪══════╪═══╪════════════════╪════════════╪════════════╪══════════════╡\n",
       "│ 201990001 ┆ Canada  ┆ 20    ┆ 1990 ┆ … ┆ 1. great       ┆ 1990-01-15 ┆ 1990-01-15 ┆ 1d           │\n",
       "│           ┆         ┆       ┆      ┆   ┆ canadian train ┆            ┆            ┆              │\n",
       "│           ┆         ┆       ┆      ┆   ┆ journe…        ┆            ┆            ┆              │\n",
       "│ 201990002 ┆ Canada  ┆ 20    ┆ 1990 ┆ … ┆ 1. autonomy s  ┆ 1990-06-25 ┆ 1990-06-25 ┆ 1d           │\n",
       "│           ┆         ┆       ┆      ┆   ┆ cry revived in ┆            ┆            ┆              │\n",
       "│           ┆         ┆       ┆      ┆   ┆ q…             ┆            ┆            ┆              │\n",
       "└───────────┴─────────┴───────┴──────┴───┴────────────────┴────────────┴────────────┴──────────────┘"
      ]
     },
     "execution_count": 20,
     "metadata": {},
     "output_type": "execute_result"
    }
   ],
   "source": [
    "protests.head(2)"
   ]
  },
  {
   "cell_type": "code",
   "execution_count": 21,
   "id": "1fde7d07",
   "metadata": {},
   "outputs": [
    {
     "data": {
      "text/html": [
       "<div><style>\n",
       ".dataframe > thead > tr,\n",
       ".dataframe > tbody > tr {\n",
       "  text-align: right;\n",
       "  white-space: pre-wrap;\n",
       "}\n",
       "</style>\n",
       "<small>shape: (3, 33)</small><table border=\"1\" class=\"dataframe\"><thead><tr><th>id</th><th>country</th><th>ccode</th><th>year</th><th>region</th><th>protest</th><th>protestnumber</th><th>startday</th><th>startmonth</th><th>startyear</th><th>endday</th><th>endmonth</th><th>endyear</th><th>protesterviolence</th><th>location</th><th>participants_category</th><th>participants</th><th>protesteridentity</th><th>protesterdemand1</th><th>protesterdemand2</th><th>protesterdemand3</th><th>protesterdemand4</th><th>stateresponse1</th><th>stateresponse2</th><th>stateresponse3</th><th>stateresponse4</th><th>stateresponse5</th><th>stateresponse6</th><th>stateresponse7</th><th>sources</th><th>start_date</th><th>end_date</th><th>duration</th></tr><tr><td>i64</td><td>str</td><td>i64</td><td>i64</td><td>str</td><td>i64</td><td>i64</td><td>i64</td><td>i64</td><td>i64</td><td>i64</td><td>i64</td><td>i64</td><td>i64</td><td>str</td><td>str</td><td>str</td><td>str</td><td>str</td><td>str</td><td>str</td><td>str</td><td>str</td><td>str</td><td>str</td><td>str</td><td>str</td><td>str</td><td>str</td><td>str</td><td>date</td><td>date</td><td>duration[ms]</td></tr></thead><tbody><tr><td>9102018000</td><td>&quot;Papua New Guinea&quot;</td><td>910</td><td>2018</td><td>&quot;Oceania&quot;</td><td>0</td><td>0</td><td>null</td><td>null</td><td>null</td><td>null</td><td>null</td><td>null</td><td>null</td><td>null</td><td>null</td><td>null</td><td>null</td><td>null</td><td>null</td><td>null</td><td>null</td><td>null</td><td>null</td><td>null</td><td>null</td><td>null</td><td>null</td><td>null</td><td>null</td><td>null</td><td>null</td><td>null</td></tr><tr><td>9102019000</td><td>&quot;Papua New Guinea&quot;</td><td>910</td><td>2019</td><td>&quot;Oceania&quot;</td><td>0</td><td>0</td><td>null</td><td>null</td><td>null</td><td>null</td><td>null</td><td>null</td><td>null</td><td>null</td><td>null</td><td>null</td><td>null</td><td>null</td><td>null</td><td>null</td><td>&quot;.&quot;</td><td>null</td><td>null</td><td>null</td><td>null</td><td>&quot;.&quot;</td><td>null</td><td>null</td><td>null</td><td>null</td><td>null</td><td>null</td></tr><tr><td>9102020000</td><td>&quot;Papua New Guinea&quot;</td><td>910</td><td>2020</td><td>&quot;Oceania&quot;</td><td>0</td><td>0</td><td>null</td><td>null</td><td>null</td><td>null</td><td>null</td><td>null</td><td>null</td><td>null</td><td>null</td><td>null</td><td>null</td><td>null</td><td>null</td><td>null</td><td>null</td><td>null</td><td>null</td><td>null</td><td>null</td><td>null</td><td>null</td><td>null</td><td>null</td><td>null</td><td>null</td><td>null</td></tr></tbody></table></div>"
      ],
      "text/plain": [
       "shape: (3, 33)\n",
       "┌────────────┬───────────┬───────┬──────┬───┬─────────┬────────────┬──────────┬──────────────┐\n",
       "│ id         ┆ country   ┆ ccode ┆ year ┆ … ┆ sources ┆ start_date ┆ end_date ┆ duration     │\n",
       "│ ---        ┆ ---       ┆ ---   ┆ ---  ┆   ┆ ---     ┆ ---        ┆ ---      ┆ ---          │\n",
       "│ i64        ┆ str       ┆ i64   ┆ i64  ┆   ┆ str     ┆ date       ┆ date     ┆ duration[ms] │\n",
       "╞════════════╪═══════════╪═══════╪══════╪═══╪═════════╪════════════╪══════════╪══════════════╡\n",
       "│ 9102018000 ┆ Papua New ┆ 910   ┆ 2018 ┆ … ┆ null    ┆ null       ┆ null     ┆ null         │\n",
       "│            ┆ Guinea    ┆       ┆      ┆   ┆         ┆            ┆          ┆              │\n",
       "│ 9102019000 ┆ Papua New ┆ 910   ┆ 2019 ┆ … ┆ null    ┆ null       ┆ null     ┆ null         │\n",
       "│            ┆ Guinea    ┆       ┆      ┆   ┆         ┆            ┆          ┆              │\n",
       "│ 9102020000 ┆ Papua New ┆ 910   ┆ 2020 ┆ … ┆ null    ┆ null       ┆ null     ┆ null         │\n",
       "│            ┆ Guinea    ┆       ┆      ┆   ┆         ┆            ┆          ┆              │\n",
       "└────────────┴───────────┴───────┴──────┴───┴─────────┴────────────┴──────────┴──────────────┘"
      ]
     },
     "execution_count": 21,
     "metadata": {},
     "output_type": "execute_result"
    }
   ],
   "source": [
    "protests.tail(3)"
   ]
  },
  {
   "cell_type": "markdown",
   "id": "a6121f1e",
   "metadata": {},
   "source": [
    "```{note}\n",
    "As shown earlier, if you call `.head()` or `.tail()` without any argument, they will show you 5 rows.\n",
    "```"
   ]
  },
  {
   "cell_type": "markdown",
   "id": "fd244a1e",
   "metadata": {},
   "source": [
    "It's also possible to select contiguous rows by using _slicing_, as we already did for [strings](https://en.softpython.org/strings/strings2-sol.html#Slices), [lists](https://en.softpython.org/lists/lists2-sol.html#Slices) and [arrays](array_select).\n",
    "\n",
    "For example, here we select two rows starting from the fifth (_included_):"
   ]
  },
  {
   "cell_type": "code",
   "execution_count": 22,
   "id": "ea89e51e",
   "metadata": {
    "scrolled": true
   },
   "outputs": [
    {
     "data": {
      "text/html": [
       "<div><style>\n",
       ".dataframe > thead > tr,\n",
       ".dataframe > tbody > tr {\n",
       "  text-align: right;\n",
       "  white-space: pre-wrap;\n",
       "}\n",
       "</style>\n",
       "<small>shape: (2, 33)</small><table border=\"1\" class=\"dataframe\"><thead><tr><th>id</th><th>country</th><th>ccode</th><th>year</th><th>region</th><th>protest</th><th>protestnumber</th><th>startday</th><th>startmonth</th><th>startyear</th><th>endday</th><th>endmonth</th><th>endyear</th><th>protesterviolence</th><th>location</th><th>participants_category</th><th>participants</th><th>protesteridentity</th><th>protesterdemand1</th><th>protesterdemand2</th><th>protesterdemand3</th><th>protesterdemand4</th><th>stateresponse1</th><th>stateresponse2</th><th>stateresponse3</th><th>stateresponse4</th><th>stateresponse5</th><th>stateresponse6</th><th>stateresponse7</th><th>sources</th><th>start_date</th><th>end_date</th><th>duration</th></tr><tr><td>i64</td><td>str</td><td>i64</td><td>i64</td><td>str</td><td>i64</td><td>i64</td><td>i64</td><td>i64</td><td>i64</td><td>i64</td><td>i64</td><td>i64</td><td>i64</td><td>str</td><td>str</td><td>str</td><td>str</td><td>str</td><td>str</td><td>str</td><td>str</td><td>str</td><td>str</td><td>str</td><td>str</td><td>str</td><td>str</td><td>str</td><td>str</td><td>date</td><td>date</td><td>duration[ms]</td></tr></thead><tbody><tr><td>201990006</td><td>&quot;Canada&quot;</td><td>20</td><td>1990</td><td>&quot;North America&quot;</td><td>1</td><td>6</td><td>19</td><td>9</td><td>1990</td><td>19</td><td>9</td><td>1990</td><td>0</td><td>&quot;Kahnawake Reservation near Mon…</td><td>null</td><td>&quot;200&quot;</td><td>&quot;mohawk indians&quot;</td><td>&quot;police brutality&quot;</td><td>null</td><td>null</td><td>null</td><td>&quot;crowd dispersal&quot;</td><td>&quot;shootings&quot;</td><td>null</td><td>null</td><td>null</td><td>null</td><td>null</td><td>&quot;1. mohawks tear gassed in clas…</td><td>1990-09-19</td><td>1990-09-19</td><td>1d</td></tr><tr><td>201991001</td><td>&quot;Canada&quot;</td><td>20</td><td>1991</td><td>&quot;North America&quot;</td><td>1</td><td>1</td><td>10</td><td>9</td><td>1991</td><td>17</td><td>9</td><td>1991</td><td>0</td><td>&quot;national&quot;</td><td>null</td><td>&quot;110000&quot;</td><td>&quot;public service alliance of can…</td><td>&quot;labor wage dispute&quot;</td><td>null</td><td>null</td><td>null</td><td>&quot;ignore&quot;</td><td>null</td><td>null</td><td>null</td><td>null</td><td>null</td><td>null</td><td>&quot;1. mulroney acts to crush stri…</td><td>1991-09-10</td><td>1991-09-17</td><td>8d</td></tr></tbody></table></div>"
      ],
      "text/plain": [
       "shape: (2, 33)\n",
       "┌───────────┬─────────┬───────┬──────┬───┬────────────────┬────────────┬────────────┬──────────────┐\n",
       "│ id        ┆ country ┆ ccode ┆ year ┆ … ┆ sources        ┆ start_date ┆ end_date   ┆ duration     │\n",
       "│ ---       ┆ ---     ┆ ---   ┆ ---  ┆   ┆ ---            ┆ ---        ┆ ---        ┆ ---          │\n",
       "│ i64       ┆ str     ┆ i64   ┆ i64  ┆   ┆ str            ┆ date       ┆ date       ┆ duration[ms] │\n",
       "╞═══════════╪═════════╪═══════╪══════╪═══╪════════════════╪════════════╪════════════╪══════════════╡\n",
       "│ 201990006 ┆ Canada  ┆ 20    ┆ 1990 ┆ … ┆ 1. mohawks     ┆ 1990-09-19 ┆ 1990-09-19 ┆ 1d           │\n",
       "│           ┆         ┆       ┆      ┆   ┆ tear gassed in ┆            ┆            ┆              │\n",
       "│           ┆         ┆       ┆      ┆   ┆ clas…          ┆            ┆            ┆              │\n",
       "│ 201991001 ┆ Canada  ┆ 20    ┆ 1991 ┆ … ┆ 1. mulroney    ┆ 1991-09-10 ┆ 1991-09-17 ┆ 8d           │\n",
       "│           ┆         ┆       ┆      ┆   ┆ acts to crush  ┆            ┆            ┆              │\n",
       "│           ┆         ┆       ┆      ┆   ┆ stri…          ┆            ┆            ┆              │\n",
       "└───────────┴─────────┴───────┴──────┴───┴────────────────┴────────────┴────────────┴──────────────┘"
      ]
     },
     "execution_count": 22,
     "metadata": {},
     "output_type": "execute_result"
    }
   ],
   "source": [
    "protests.slice(5, 2)"
   ]
  },
  {
   "cell_type": "markdown",
   "id": "7116e678",
   "metadata": {},
   "source": [
    "### Selecting rows fulfilling some conditions"
   ]
  },
  {
   "cell_type": "markdown",
   "id": "9c51819a",
   "metadata": {},
   "source": [
    "Selecting by row numbers is simple, but most of the time you do not know in which position the relevant rows are, as their relevance depends on one or more specific conditions.\n",
    "So let's see now how to filter data according to a condition they should satisfy.\n",
    "\n",
    "This can be done using the `.filter()` method of DataFrames. As argument, it takes an expression evaluated for each row. All rows for which the expression evaluates to `True` are then kept.\n",
    "\n",
    "So, for instance, to only keep rows corresponding to protests that happened in Italy:"
   ]
  },
  {
   "cell_type": "code",
   "execution_count": 23,
   "id": "d62e3253",
   "metadata": {},
   "outputs": [
    {
     "data": {
      "text/html": [
       "<div><style>\n",
       ".dataframe > thead > tr,\n",
       ".dataframe > tbody > tr {\n",
       "  text-align: right;\n",
       "  white-space: pre-wrap;\n",
       "}\n",
       "</style>\n",
       "<small>shape: (5, 33)</small><table border=\"1\" class=\"dataframe\"><thead><tr><th>id</th><th>country</th><th>ccode</th><th>year</th><th>region</th><th>protest</th><th>protestnumber</th><th>startday</th><th>startmonth</th><th>startyear</th><th>endday</th><th>endmonth</th><th>endyear</th><th>protesterviolence</th><th>location</th><th>participants_category</th><th>participants</th><th>protesteridentity</th><th>protesterdemand1</th><th>protesterdemand2</th><th>protesterdemand3</th><th>protesterdemand4</th><th>stateresponse1</th><th>stateresponse2</th><th>stateresponse3</th><th>stateresponse4</th><th>stateresponse5</th><th>stateresponse6</th><th>stateresponse7</th><th>sources</th><th>start_date</th><th>end_date</th><th>duration</th></tr><tr><td>i64</td><td>str</td><td>i64</td><td>i64</td><td>str</td><td>i64</td><td>i64</td><td>i64</td><td>i64</td><td>i64</td><td>i64</td><td>i64</td><td>i64</td><td>i64</td><td>str</td><td>str</td><td>str</td><td>str</td><td>str</td><td>str</td><td>str</td><td>str</td><td>str</td><td>str</td><td>str</td><td>str</td><td>str</td><td>str</td><td>str</td><td>str</td><td>date</td><td>date</td><td>duration[ms]</td></tr></thead><tbody><tr><td>3251990001</td><td>&quot;Italy&quot;</td><td>325</td><td>1990</td><td>&quot;Europe&quot;</td><td>1</td><td>1</td><td>13</td><td>7</td><td>1990</td><td>13</td><td>7</td><td>1990</td><td>1</td><td>&quot;Sicilian town of Ribera&quot;</td><td>&quot;100-999&quot;</td><td>&quot;&gt; 50&quot;</td><td>&quot;farmers&quot;</td><td>&quot;political behavior, process&quot;</td><td>null</td><td>null</td><td>null</td><td>&quot;ignore&quot;</td><td>null</td><td>null</td><td>null</td><td>null</td><td>null</td><td>null</td><td>&quot;sicilians riot over water shor…</td><td>1990-07-13</td><td>1990-07-13</td><td>1d</td></tr><tr><td>3251991001</td><td>&quot;Italy&quot;</td><td>325</td><td>1991</td><td>&quot;Europe&quot;</td><td>1</td><td>1</td><td>6</td><td>6</td><td>1991</td><td>6</td><td>6</td><td>1991</td><td>0</td><td>&quot;the Italian port of Brindisi&quot;</td><td>&quot;100-999&quot;</td><td>&quot;hundreds&quot;</td><td>&quot;albanians&quot;</td><td>&quot;political behavior, process&quot;</td><td>null</td><td>null</td><td>null</td><td>&quot;accomodation&quot;</td><td>null</td><td>null</td><td>null</td><td>null</td><td>null</td><td>null</td><td>&quot;refugees riot. the times. june…</td><td>1991-06-06</td><td>1991-06-06</td><td>1d</td></tr><tr><td>3251991002</td><td>&quot;Italy&quot;</td><td>325</td><td>1991</td><td>&quot;Europe&quot;</td><td>1</td><td>2</td><td>22</td><td>10</td><td>1991</td><td>22</td><td>10</td><td>1991</td><td>0</td><td>&quot;major cities&quot;</td><td>&quot;5000-10000&quot;</td><td>&quot;Thousands &quot;</td><td>&quot;people&quot;</td><td>&quot;political behavior, process&quot;</td><td>null</td><td>null</td><td>null</td><td>&quot;ignore&quot;</td><td>null</td><td>null</td><td>null</td><td>null</td><td>null</td><td>null</td><td>&quot;1. italians strike to protest …</td><td>1991-10-22</td><td>1991-10-22</td><td>1d</td></tr><tr><td>3251992001</td><td>&quot;Italy&quot;</td><td>325</td><td>1992</td><td>&quot;Europe&quot;</td><td>1</td><td>1</td><td>28</td><td>6</td><td>1992</td><td>28</td><td>6</td><td>1992</td><td>0</td><td>&quot;Palermo&quot;</td><td>&quot;&gt;10000&quot;</td><td>&quot;100000&quot;</td><td>&quot;people&quot;</td><td>&quot;political behavior, process&quot;</td><td>null</td><td>null</td><td>null</td><td>&quot;ignore&quot;</td><td>null</td><td>null</td><td>null</td><td>null</td><td>null</td><td>null</td><td>&quot;1. anti mafia protest. the was…</td><td>1992-06-28</td><td>1992-06-28</td><td>1d</td></tr><tr><td>3251992002</td><td>&quot;Italy&quot;</td><td>325</td><td>1992</td><td>&quot;Europe&quot;</td><td>1</td><td>2</td><td>21</td><td>7</td><td>1992</td><td>21</td><td>7</td><td>1992</td><td>0</td><td>&quot;Milan, Rome,Palermo, and in ot…</td><td>&quot;&gt;10000&quot;</td><td>&quot;&gt; 15000&quot;</td><td>&quot;people and police officers&quot;</td><td>&quot;political behavior, process&quot;</td><td>null</td><td>null</td><td>null</td><td>&quot;ignore&quot;</td><td>&quot;beatings&quot;</td><td>null</td><td>null</td><td>null</td><td>null</td><td>null</td><td>&quot;1. sicilians jeer italian lead…</td><td>1992-07-21</td><td>1992-07-21</td><td>1d</td></tr></tbody></table></div>"
      ],
      "text/plain": [
       "shape: (5, 33)\n",
       "┌────────────┬─────────┬───────┬──────┬───┬───────────────┬────────────┬────────────┬──────────────┐\n",
       "│ id         ┆ country ┆ ccode ┆ year ┆ … ┆ sources       ┆ start_date ┆ end_date   ┆ duration     │\n",
       "│ ---        ┆ ---     ┆ ---   ┆ ---  ┆   ┆ ---           ┆ ---        ┆ ---        ┆ ---          │\n",
       "│ i64        ┆ str     ┆ i64   ┆ i64  ┆   ┆ str           ┆ date       ┆ date       ┆ duration[ms] │\n",
       "╞════════════╪═════════╪═══════╪══════╪═══╪═══════════════╪════════════╪════════════╪══════════════╡\n",
       "│ 3251990001 ┆ Italy   ┆ 325   ┆ 1990 ┆ … ┆ sicilians     ┆ 1990-07-13 ┆ 1990-07-13 ┆ 1d           │\n",
       "│            ┆         ┆       ┆      ┆   ┆ riot over     ┆            ┆            ┆              │\n",
       "│            ┆         ┆       ┆      ┆   ┆ water shor…   ┆            ┆            ┆              │\n",
       "│ 3251991001 ┆ Italy   ┆ 325   ┆ 1991 ┆ … ┆ refugees      ┆ 1991-06-06 ┆ 1991-06-06 ┆ 1d           │\n",
       "│            ┆         ┆       ┆      ┆   ┆ riot. the     ┆            ┆            ┆              │\n",
       "│            ┆         ┆       ┆      ┆   ┆ times. june…  ┆            ┆            ┆              │\n",
       "│ 3251991002 ┆ Italy   ┆ 325   ┆ 1991 ┆ … ┆ 1. italians   ┆ 1991-10-22 ┆ 1991-10-22 ┆ 1d           │\n",
       "│            ┆         ┆       ┆      ┆   ┆ strike to     ┆            ┆            ┆              │\n",
       "│            ┆         ┆       ┆      ┆   ┆ protest …     ┆            ┆            ┆              │\n",
       "│ 3251992001 ┆ Italy   ┆ 325   ┆ 1992 ┆ … ┆ 1. anti mafia ┆ 1992-06-28 ┆ 1992-06-28 ┆ 1d           │\n",
       "│            ┆         ┆       ┆      ┆   ┆ protest. the  ┆            ┆            ┆              │\n",
       "│            ┆         ┆       ┆      ┆   ┆ was…          ┆            ┆            ┆              │\n",
       "│ 3251992002 ┆ Italy   ┆ 325   ┆ 1992 ┆ … ┆ 1. sicilians  ┆ 1992-07-21 ┆ 1992-07-21 ┆ 1d           │\n",
       "│            ┆         ┆       ┆      ┆   ┆ jeer italian  ┆            ┆            ┆              │\n",
       "│            ┆         ┆       ┆      ┆   ┆ lead…         ┆            ┆            ┆              │\n",
       "└────────────┴─────────┴───────┴──────┴───┴───────────────┴────────────┴────────────┴──────────────┘"
      ]
     },
     "execution_count": 23,
     "metadata": {},
     "output_type": "execute_result"
    }
   ],
   "source": [
    "protests.filter(pl.col(\"country\") == \"Italy\").head()"
   ]
  },
  {
   "cell_type": "markdown",
   "id": "7cdba9e4",
   "metadata": {},
   "source": [
    "Notice here the usage of `pl.col()` that we've seen earlier! Again, this allows us to access the values contained in a column, here to make an equality test and return a boolean.\n",
    "\n",
    "And again, as seen previously when we computed the protests' durations, values from different columns can be compared. To illustrate that, here below we'll select all protests that spanned more than one calendar year:"
   ]
  },
  {
   "cell_type": "code",
   "execution_count": 24,
   "id": "38ba0787",
   "metadata": {},
   "outputs": [
    {
     "data": {
      "text/html": [
       "<div><style>\n",
       ".dataframe > thead > tr,\n",
       ".dataframe > tbody > tr {\n",
       "  text-align: right;\n",
       "  white-space: pre-wrap;\n",
       "}\n",
       "</style>\n",
       "<small>shape: (5, 33)</small><table border=\"1\" class=\"dataframe\"><thead><tr><th>id</th><th>country</th><th>ccode</th><th>year</th><th>region</th><th>protest</th><th>protestnumber</th><th>startday</th><th>startmonth</th><th>startyear</th><th>endday</th><th>endmonth</th><th>endyear</th><th>protesterviolence</th><th>location</th><th>participants_category</th><th>participants</th><th>protesteridentity</th><th>protesterdemand1</th><th>protesterdemand2</th><th>protesterdemand3</th><th>protesterdemand4</th><th>stateresponse1</th><th>stateresponse2</th><th>stateresponse3</th><th>stateresponse4</th><th>stateresponse5</th><th>stateresponse6</th><th>stateresponse7</th><th>sources</th><th>start_date</th><th>end_date</th><th>duration</th></tr><tr><td>i64</td><td>str</td><td>i64</td><td>i64</td><td>str</td><td>i64</td><td>i64</td><td>i64</td><td>i64</td><td>i64</td><td>i64</td><td>i64</td><td>i64</td><td>i64</td><td>str</td><td>str</td><td>str</td><td>str</td><td>str</td><td>str</td><td>str</td><td>str</td><td>str</td><td>str</td><td>str</td><td>str</td><td>str</td><td>str</td><td>str</td><td>str</td><td>date</td><td>date</td><td>duration[ms]</td></tr></thead><tbody><tr><td>701991004</td><td>&quot;Mexico&quot;</td><td>70</td><td>1991</td><td>&quot;North America&quot;</td><td>1</td><td>4</td><td>23</td><td>11</td><td>1991</td><td>15</td><td>1</td><td>1992</td><td>0</td><td>&quot;Tabasco to Mexico City&quot;</td><td>null</td><td>&quot;100s&quot;</td><td>&quot;democratic revolutionary party…</td><td>&quot;political behavior, process&quot;</td><td>null</td><td>null</td><td>null</td><td>&quot;ignore&quot;</td><td>null</td><td>null</td><td>null</td><td>null</td><td>null</td><td>null</td><td>&quot;1. the washington post, mexica…</td><td>1991-11-23</td><td>1992-01-15</td><td>54d</td></tr><tr><td>1001994005</td><td>&quot;Colombia&quot;</td><td>100</td><td>1994</td><td>&quot;South America&quot;</td><td>1</td><td>5</td><td>22</td><td>12</td><td>1994</td><td>11</td><td>1</td><td>1995</td><td>0</td><td>&quot;southern Colombia&quot;</td><td>null</td><td>&quot;5000&quot;</td><td>&quot;putumayo peasant movement&quot;</td><td>&quot;political behavior, process&quot;</td><td>null</td><td>null</td><td>null</td><td>&quot;accomodation&quot;</td><td>&quot;killings&quot;</td><td>&quot;crowd dispersal&quot;</td><td>null</td><td>null</td><td>null</td><td>null</td><td>&quot;xinhua news agency, january 3,…</td><td>1994-12-22</td><td>1995-01-11</td><td>21d</td></tr><tr><td>1011996013</td><td>&quot;Venezuela&quot;</td><td>101</td><td>1996</td><td>&quot;South America&quot;</td><td>1</td><td>13</td><td>27</td><td>12</td><td>1996</td><td>15</td><td>1</td><td>1997</td><td>0</td><td>&quot;national level&quot;</td><td>null</td><td>&quot;50&quot;</td><td>&quot;health workers&quot;</td><td>&quot;labor wage dispute&quot;</td><td>null</td><td>null</td><td>null</td><td>&quot;ignore&quot;</td><td>null</td><td>null</td><td>null</td><td>null</td><td>null</td><td>null</td><td>&quot;the associated press, january …</td><td>1996-12-27</td><td>1997-01-15</td><td>20d</td></tr><tr><td>1012002010</td><td>&quot;Venezuela&quot;</td><td>101</td><td>2002</td><td>&quot;South America&quot;</td><td>1</td><td>10</td><td>3</td><td>12</td><td>2002</td><td>4</td><td>2</td><td>2003</td><td>0</td><td>&quot;national level&quot;</td><td>null</td><td>&quot;10000&quot;</td><td>&quot;workers&quot;</td><td>&quot;political behavior, process&quot;</td><td>null</td><td>null</td><td>null</td><td>&quot;ignore&quot;</td><td>null</td><td>null</td><td>null</td><td>null</td><td>null</td><td>null</td><td>&quot;the washington post, december …</td><td>2002-12-03</td><td>2003-02-04</td><td>64d</td></tr><tr><td>1012004016</td><td>&quot;Venezuela&quot;</td><td>101</td><td>2004</td><td>&quot;South America&quot;</td><td>1</td><td>16</td><td>16</td><td>12</td><td>2004</td><td>22</td><td>1</td><td>2005</td><td>0</td><td>&quot;national level  4 different pr…</td><td>null</td><td>&quot;2500&quot;</td><td>&quot;inmates&quot;</td><td>&quot;political behavior, process&quot;</td><td>null</td><td>null</td><td>null</td><td>&quot;accomodation&quot;</td><td>null</td><td>null</td><td>null</td><td>null</td><td>null</td><td>null</td><td>&quot;associated press worldstream, …</td><td>2004-12-16</td><td>2005-01-22</td><td>38d</td></tr></tbody></table></div>"
      ],
      "text/plain": [
       "shape: (5, 33)\n",
       "┌────────────┬───────────┬───────┬──────┬───┬──────────────┬────────────┬────────────┬─────────────┐\n",
       "│ id         ┆ country   ┆ ccode ┆ year ┆ … ┆ sources      ┆ start_date ┆ end_date   ┆ duration    │\n",
       "│ ---        ┆ ---       ┆ ---   ┆ ---  ┆   ┆ ---          ┆ ---        ┆ ---        ┆ ---         │\n",
       "│ i64        ┆ str       ┆ i64   ┆ i64  ┆   ┆ str          ┆ date       ┆ date       ┆ duration[ms │\n",
       "│            ┆           ┆       ┆      ┆   ┆              ┆            ┆            ┆ ]           │\n",
       "╞════════════╪═══════════╪═══════╪══════╪═══╪══════════════╪════════════╪════════════╪═════════════╡\n",
       "│ 701991004  ┆ Mexico    ┆ 70    ┆ 1991 ┆ … ┆ 1. the       ┆ 1991-11-23 ┆ 1992-01-15 ┆ 54d         │\n",
       "│            ┆           ┆       ┆      ┆   ┆ washington   ┆            ┆            ┆             │\n",
       "│            ┆           ┆       ┆      ┆   ┆ post,        ┆            ┆            ┆             │\n",
       "│            ┆           ┆       ┆      ┆   ┆ mexica…      ┆            ┆            ┆             │\n",
       "│ 1001994005 ┆ Colombia  ┆ 100   ┆ 1994 ┆ … ┆ xinhua news  ┆ 1994-12-22 ┆ 1995-01-11 ┆ 21d         │\n",
       "│            ┆           ┆       ┆      ┆   ┆ agency,      ┆            ┆            ┆             │\n",
       "│            ┆           ┆       ┆      ┆   ┆ january 3,…  ┆            ┆            ┆             │\n",
       "│ 1011996013 ┆ Venezuela ┆ 101   ┆ 1996 ┆ … ┆ the          ┆ 1996-12-27 ┆ 1997-01-15 ┆ 20d         │\n",
       "│            ┆           ┆       ┆      ┆   ┆ associated   ┆            ┆            ┆             │\n",
       "│            ┆           ┆       ┆      ┆   ┆ press,       ┆            ┆            ┆             │\n",
       "│            ┆           ┆       ┆      ┆   ┆ january …    ┆            ┆            ┆             │\n",
       "│ 1012002010 ┆ Venezuela ┆ 101   ┆ 2002 ┆ … ┆ the          ┆ 2002-12-03 ┆ 2003-02-04 ┆ 64d         │\n",
       "│            ┆           ┆       ┆      ┆   ┆ washington   ┆            ┆            ┆             │\n",
       "│            ┆           ┆       ┆      ┆   ┆ post,        ┆            ┆            ┆             │\n",
       "│            ┆           ┆       ┆      ┆   ┆ december …   ┆            ┆            ┆             │\n",
       "│ 1012004016 ┆ Venezuela ┆ 101   ┆ 2004 ┆ … ┆ associated   ┆ 2004-12-16 ┆ 2005-01-22 ┆ 38d         │\n",
       "│            ┆           ┆       ┆      ┆   ┆ press        ┆            ┆            ┆             │\n",
       "│            ┆           ┆       ┆      ┆   ┆ worldstream, ┆            ┆            ┆             │\n",
       "│            ┆           ┆       ┆      ┆   ┆ …            ┆            ┆            ┆             │\n",
       "└────────────┴───────────┴───────┴──────┴───┴──────────────┴────────────┴────────────┴─────────────┘"
      ]
     },
     "execution_count": 24,
     "metadata": {},
     "output_type": "execute_result"
    }
   ],
   "source": [
    "protests.filter(pl.col(\"startyear\") != pl.col(\"endyear\")).head()"
   ]
  },
  {
   "cell_type": "markdown",
   "id": "c9e67d1b",
   "metadata": {},
   "source": [
    "It's also possible to combine conditions like we already did in [Numpy filtering](array_select): for example by using the special operator conjunction `&` :"
   ]
  },
  {
   "cell_type": "code",
   "execution_count": 25,
   "id": "2c1f87a9",
   "metadata": {},
   "outputs": [
    {
     "data": {
      "text/html": [
       "<div><style>\n",
       ".dataframe > thead > tr,\n",
       ".dataframe > tbody > tr {\n",
       "  text-align: right;\n",
       "  white-space: pre-wrap;\n",
       "}\n",
       "</style>\n",
       "<small>shape: (6, 33)</small><table border=\"1\" class=\"dataframe\"><thead><tr><th>id</th><th>country</th><th>ccode</th><th>year</th><th>region</th><th>protest</th><th>protestnumber</th><th>startday</th><th>startmonth</th><th>startyear</th><th>endday</th><th>endmonth</th><th>endyear</th><th>protesterviolence</th><th>location</th><th>participants_category</th><th>participants</th><th>protesteridentity</th><th>protesterdemand1</th><th>protesterdemand2</th><th>protesterdemand3</th><th>protesterdemand4</th><th>stateresponse1</th><th>stateresponse2</th><th>stateresponse3</th><th>stateresponse4</th><th>stateresponse5</th><th>stateresponse6</th><th>stateresponse7</th><th>sources</th><th>start_date</th><th>end_date</th><th>duration</th></tr><tr><td>i64</td><td>str</td><td>i64</td><td>i64</td><td>str</td><td>i64</td><td>i64</td><td>i64</td><td>i64</td><td>i64</td><td>i64</td><td>i64</td><td>i64</td><td>i64</td><td>str</td><td>str</td><td>str</td><td>str</td><td>str</td><td>str</td><td>str</td><td>str</td><td>str</td><td>str</td><td>str</td><td>str</td><td>str</td><td>str</td><td>str</td><td>str</td><td>date</td><td>date</td><td>duration[ms]</td></tr></thead><tbody><tr><td>3251992001</td><td>&quot;Italy&quot;</td><td>325</td><td>1992</td><td>&quot;Europe&quot;</td><td>1</td><td>1</td><td>28</td><td>6</td><td>1992</td><td>28</td><td>6</td><td>1992</td><td>0</td><td>&quot;Palermo&quot;</td><td>&quot;&gt;10000&quot;</td><td>&quot;100000&quot;</td><td>&quot;people&quot;</td><td>&quot;political behavior, process&quot;</td><td>null</td><td>null</td><td>null</td><td>&quot;ignore&quot;</td><td>null</td><td>null</td><td>null</td><td>null</td><td>null</td><td>null</td><td>&quot;1. anti mafia protest. the was…</td><td>1992-06-28</td><td>1992-06-28</td><td>1d</td></tr><tr><td>3251992002</td><td>&quot;Italy&quot;</td><td>325</td><td>1992</td><td>&quot;Europe&quot;</td><td>1</td><td>2</td><td>21</td><td>7</td><td>1992</td><td>21</td><td>7</td><td>1992</td><td>0</td><td>&quot;Milan, Rome,Palermo, and in ot…</td><td>&quot;&gt;10000&quot;</td><td>&quot;&gt; 15000&quot;</td><td>&quot;people and police officers&quot;</td><td>&quot;political behavior, process&quot;</td><td>null</td><td>null</td><td>null</td><td>&quot;ignore&quot;</td><td>&quot;beatings&quot;</td><td>null</td><td>null</td><td>null</td><td>null</td><td>null</td><td>&quot;1. sicilians jeer italian lead…</td><td>1992-07-21</td><td>1992-07-21</td><td>1d</td></tr><tr><td>3251992003</td><td>&quot;Italy&quot;</td><td>325</td><td>1992</td><td>&quot;Europe&quot;</td><td>1</td><td>3</td><td>3</td><td>10</td><td>1992</td><td>3</td><td>10</td><td>1992</td><td>1</td><td>&quot;Rome&quot;</td><td>&quot;100-999&quot;</td><td>&quot;hundreds&quot;</td><td>&quot;left wing italian demonstrator…</td><td>&quot;political behavior, process&quot;</td><td>null</td><td>null</td><td>null</td><td>&quot;beatings&quot;</td><td>&quot;crowd dispersal&quot;</td><td>null</td><td>null</td><td>null</td><td>null</td><td>null</td><td>&quot;police attack rome rioters. th…</td><td>1992-10-03</td><td>1992-10-03</td><td>1d</td></tr><tr><td>3251992004</td><td>&quot;Italy&quot;</td><td>325</td><td>1992</td><td>&quot;Europe&quot;</td><td>1</td><td>4</td><td>13</td><td>10</td><td>1992</td><td>13</td><td>10</td><td>1992</td><td>0</td><td>&quot;Across Italy&quot;</td><td>&quot;&gt;10000&quot;</td><td>&quot;millions&quot;</td><td>&quot;workers&quot;</td><td>&quot;political behavior, process&quot;</td><td>null</td><td>null</td><td>null</td><td>&quot;ignore&quot;</td><td>&quot;accomodation&quot;</td><td>null</td><td>null</td><td>null</td><td>null</td><td>null</td><td>&quot;1. millions in italy march in …</td><td>1992-10-13</td><td>1992-10-13</td><td>1d</td></tr><tr><td>3251992005</td><td>&quot;Italy&quot;</td><td>325</td><td>1992</td><td>&quot;Europe&quot;</td><td>1</td><td>5</td><td>26</td><td>10</td><td>1992</td><td>26</td><td>10</td><td>1992</td><td>0</td><td>&quot;Rome&quot;</td><td>&quot;&gt;10000&quot;</td><td>&quot;10000&quot;</td><td>&quot;shopkeepers&quot;</td><td>&quot;political behavior, process&quot;</td><td>null</td><td>null</td><td>null</td><td>&quot;ignore&quot;</td><td>null</td><td>null</td><td>null</td><td>null</td><td>null</td><td>null</td><td>&quot;italy shopowners protest tax p…</td><td>1992-10-26</td><td>1992-10-26</td><td>1d</td></tr><tr><td>3251992006</td><td>&quot;Italy&quot;</td><td>325</td><td>1992</td><td>&quot;Europe&quot;</td><td>1</td><td>6</td><td>16</td><td>12</td><td>1992</td><td>16</td><td>12</td><td>1992</td><td>0</td><td>&quot;Rome&quot;</td><td>&quot;&gt;10000&quot;</td><td>&quot;20000&quot;</td><td>&quot;doctors&quot;</td><td>&quot;political behavior, process&quot;</td><td>null</td><td>null</td><td>null</td><td>&quot;ignore&quot;</td><td>null</td><td>null</td><td>null</td><td>null</td><td>null</td><td>null</td><td>&quot;rome doctors demonstrate to pr…</td><td>1992-12-16</td><td>1992-12-16</td><td>1d</td></tr></tbody></table></div>"
      ],
      "text/plain": [
       "shape: (6, 33)\n",
       "┌────────────┬─────────┬───────┬──────┬───┬───────────────┬────────────┬────────────┬──────────────┐\n",
       "│ id         ┆ country ┆ ccode ┆ year ┆ … ┆ sources       ┆ start_date ┆ end_date   ┆ duration     │\n",
       "│ ---        ┆ ---     ┆ ---   ┆ ---  ┆   ┆ ---           ┆ ---        ┆ ---        ┆ ---          │\n",
       "│ i64        ┆ str     ┆ i64   ┆ i64  ┆   ┆ str           ┆ date       ┆ date       ┆ duration[ms] │\n",
       "╞════════════╪═════════╪═══════╪══════╪═══╪═══════════════╪════════════╪════════════╪══════════════╡\n",
       "│ 3251992001 ┆ Italy   ┆ 325   ┆ 1992 ┆ … ┆ 1. anti mafia ┆ 1992-06-28 ┆ 1992-06-28 ┆ 1d           │\n",
       "│            ┆         ┆       ┆      ┆   ┆ protest. the  ┆            ┆            ┆              │\n",
       "│            ┆         ┆       ┆      ┆   ┆ was…          ┆            ┆            ┆              │\n",
       "│ 3251992002 ┆ Italy   ┆ 325   ┆ 1992 ┆ … ┆ 1. sicilians  ┆ 1992-07-21 ┆ 1992-07-21 ┆ 1d           │\n",
       "│            ┆         ┆       ┆      ┆   ┆ jeer italian  ┆            ┆            ┆              │\n",
       "│            ┆         ┆       ┆      ┆   ┆ lead…         ┆            ┆            ┆              │\n",
       "│ 3251992003 ┆ Italy   ┆ 325   ┆ 1992 ┆ … ┆ police attack ┆ 1992-10-03 ┆ 1992-10-03 ┆ 1d           │\n",
       "│            ┆         ┆       ┆      ┆   ┆ rome rioters. ┆            ┆            ┆              │\n",
       "│            ┆         ┆       ┆      ┆   ┆ th…           ┆            ┆            ┆              │\n",
       "│ 3251992004 ┆ Italy   ┆ 325   ┆ 1992 ┆ … ┆ 1. millions   ┆ 1992-10-13 ┆ 1992-10-13 ┆ 1d           │\n",
       "│            ┆         ┆       ┆      ┆   ┆ in italy      ┆            ┆            ┆              │\n",
       "│            ┆         ┆       ┆      ┆   ┆ march in …    ┆            ┆            ┆              │\n",
       "│ 3251992005 ┆ Italy   ┆ 325   ┆ 1992 ┆ … ┆ italy         ┆ 1992-10-26 ┆ 1992-10-26 ┆ 1d           │\n",
       "│            ┆         ┆       ┆      ┆   ┆ shopowners    ┆            ┆            ┆              │\n",
       "│            ┆         ┆       ┆      ┆   ┆ protest tax   ┆            ┆            ┆              │\n",
       "│            ┆         ┆       ┆      ┆   ┆ p…            ┆            ┆            ┆              │\n",
       "│ 3251992006 ┆ Italy   ┆ 325   ┆ 1992 ┆ … ┆ rome doctors  ┆ 1992-12-16 ┆ 1992-12-16 ┆ 1d           │\n",
       "│            ┆         ┆       ┆      ┆   ┆ demonstrate   ┆            ┆            ┆              │\n",
       "│            ┆         ┆       ┆      ┆   ┆ to pr…        ┆            ┆            ┆              │\n",
       "└────────────┴─────────┴───────┴──────┴───┴───────────────┴────────────┴────────────┴──────────────┘"
      ]
     },
     "execution_count": 25,
     "metadata": {},
     "output_type": "execute_result"
    }
   ],
   "source": [
    "protests.filter(\n",
    "    (pl.col(\"country\") == \"Italy\")\n",
    "    & (pl.col(\"year\") == 1992)\n",
    ")"
   ]
  },
  {
   "cell_type": "markdown",
   "id": "a9778a28",
   "metadata": {},
   "source": [
    "![](img/df_filter.png)"
   ]
  },
  {
   "cell_type": "markdown",
   "id": "798e1b57",
   "metadata": {},
   "source": [
    "### Sorting\n",
    "\n",
    "To obtain a new dataframe sorted according to one or more columns, we can use the `.sort()` method.\n",
    "For instance, to see the longest protests, we'd do:"
   ]
  },
  {
   "cell_type": "code",
   "execution_count": 26,
   "id": "26ee6091",
   "metadata": {
    "scrolled": false
   },
   "outputs": [
    {
     "data": {
      "text/html": [
       "<div><style>\n",
       ".dataframe > thead > tr,\n",
       ".dataframe > tbody > tr {\n",
       "  text-align: right;\n",
       "  white-space: pre-wrap;\n",
       "}\n",
       "</style>\n",
       "<small>shape: (5, 33)</small><table border=\"1\" class=\"dataframe\"><thead><tr><th>id</th><th>country</th><th>ccode</th><th>year</th><th>region</th><th>protest</th><th>protestnumber</th><th>startday</th><th>startmonth</th><th>startyear</th><th>endday</th><th>endmonth</th><th>endyear</th><th>protesterviolence</th><th>location</th><th>participants_category</th><th>participants</th><th>protesteridentity</th><th>protesterdemand1</th><th>protesterdemand2</th><th>protesterdemand3</th><th>protesterdemand4</th><th>stateresponse1</th><th>stateresponse2</th><th>stateresponse3</th><th>stateresponse4</th><th>stateresponse5</th><th>stateresponse6</th><th>stateresponse7</th><th>sources</th><th>start_date</th><th>end_date</th><th>duration</th></tr><tr><td>i64</td><td>str</td><td>i64</td><td>i64</td><td>str</td><td>i64</td><td>i64</td><td>i64</td><td>i64</td><td>i64</td><td>i64</td><td>i64</td><td>i64</td><td>i64</td><td>str</td><td>str</td><td>str</td><td>str</td><td>str</td><td>str</td><td>str</td><td>str</td><td>str</td><td>str</td><td>str</td><td>str</td><td>str</td><td>str</td><td>str</td><td>str</td><td>date</td><td>date</td><td>duration[ms]</td></tr></thead><tbody><tr><td>201998000</td><td>&quot;Canada&quot;</td><td>20</td><td>1998</td><td>&quot;North America&quot;</td><td>0</td><td>0</td><td>null</td><td>null</td><td>null</td><td>null</td><td>null</td><td>null</td><td>null</td><td>null</td><td>null</td><td>null</td><td>null</td><td>null</td><td>null</td><td>null</td><td>null</td><td>null</td><td>null</td><td>null</td><td>null</td><td>null</td><td>null</td><td>null</td><td>null</td><td>null</td><td>null</td><td>null</td></tr><tr><td>201999000</td><td>&quot;Canada&quot;</td><td>20</td><td>1999</td><td>&quot;North America&quot;</td><td>0</td><td>0</td><td>null</td><td>null</td><td>null</td><td>null</td><td>null</td><td>null</td><td>null</td><td>null</td><td>null</td><td>null</td><td>null</td><td>null</td><td>null</td><td>null</td><td>null</td><td>null</td><td>null</td><td>null</td><td>null</td><td>null</td><td>null</td><td>null</td><td>null</td><td>null</td><td>null</td><td>null</td></tr><tr><td>202001000</td><td>&quot;Canada&quot;</td><td>20</td><td>2001</td><td>&quot;North America&quot;</td><td>0</td><td>0</td><td>null</td><td>null</td><td>null</td><td>null</td><td>null</td><td>null</td><td>null</td><td>null</td><td>null</td><td>null</td><td>null</td><td>null</td><td>null</td><td>null</td><td>null</td><td>null</td><td>null</td><td>null</td><td>null</td><td>null</td><td>null</td><td>null</td><td>null</td><td>null</td><td>null</td><td>null</td></tr><tr><td>202002000</td><td>&quot;Canada&quot;</td><td>20</td><td>2002</td><td>&quot;North America&quot;</td><td>0</td><td>0</td><td>null</td><td>null</td><td>null</td><td>null</td><td>null</td><td>null</td><td>null</td><td>null</td><td>null</td><td>null</td><td>null</td><td>null</td><td>null</td><td>null</td><td>null</td><td>null</td><td>null</td><td>null</td><td>null</td><td>null</td><td>null</td><td>null</td><td>null</td><td>null</td><td>null</td><td>null</td></tr><tr><td>202004000</td><td>&quot;Canada&quot;</td><td>20</td><td>2004</td><td>&quot;North America&quot;</td><td>0</td><td>0</td><td>null</td><td>null</td><td>null</td><td>null</td><td>null</td><td>null</td><td>null</td><td>null</td><td>null</td><td>null</td><td>null</td><td>null</td><td>null</td><td>null</td><td>null</td><td>null</td><td>null</td><td>null</td><td>null</td><td>null</td><td>null</td><td>null</td><td>null</td><td>null</td><td>null</td><td>null</td></tr></tbody></table></div>"
      ],
      "text/plain": [
       "shape: (5, 33)\n",
       "┌───────────┬─────────┬───────┬──────┬───┬─────────┬────────────┬──────────┬──────────────┐\n",
       "│ id        ┆ country ┆ ccode ┆ year ┆ … ┆ sources ┆ start_date ┆ end_date ┆ duration     │\n",
       "│ ---       ┆ ---     ┆ ---   ┆ ---  ┆   ┆ ---     ┆ ---        ┆ ---      ┆ ---          │\n",
       "│ i64       ┆ str     ┆ i64   ┆ i64  ┆   ┆ str     ┆ date       ┆ date     ┆ duration[ms] │\n",
       "╞═══════════╪═════════╪═══════╪══════╪═══╪═════════╪════════════╪══════════╪══════════════╡\n",
       "│ 201998000 ┆ Canada  ┆ 20    ┆ 1998 ┆ … ┆ null    ┆ null       ┆ null     ┆ null         │\n",
       "│ 201999000 ┆ Canada  ┆ 20    ┆ 1999 ┆ … ┆ null    ┆ null       ┆ null     ┆ null         │\n",
       "│ 202001000 ┆ Canada  ┆ 20    ┆ 2001 ┆ … ┆ null    ┆ null       ┆ null     ┆ null         │\n",
       "│ 202002000 ┆ Canada  ┆ 20    ┆ 2002 ┆ … ┆ null    ┆ null       ┆ null     ┆ null         │\n",
       "│ 202004000 ┆ Canada  ┆ 20    ┆ 2004 ┆ … ┆ null    ┆ null       ┆ null     ┆ null         │\n",
       "└───────────┴─────────┴───────┴──────┴───┴─────────┴────────────┴──────────┴──────────────┘"
      ]
     },
     "execution_count": 26,
     "metadata": {},
     "output_type": "execute_result"
    }
   ],
   "source": [
    "protests.sort(by='duration', descending=True).head()"
   ]
  },
  {
   "cell_type": "markdown",
   "id": "14b276b4",
   "metadata": {},
   "source": [
    "Oops, that gives us only rows with a `null` duration, let's put them last!"
   ]
  },
  {
   "cell_type": "code",
   "execution_count": 27,
   "id": "0108206c",
   "metadata": {},
   "outputs": [
    {
     "data": {
      "text/html": [
       "<div><style>\n",
       ".dataframe > thead > tr,\n",
       ".dataframe > tbody > tr {\n",
       "  text-align: right;\n",
       "  white-space: pre-wrap;\n",
       "}\n",
       "</style>\n",
       "<small>shape: (5, 33)</small><table border=\"1\" class=\"dataframe\"><thead><tr><th>id</th><th>country</th><th>ccode</th><th>year</th><th>region</th><th>protest</th><th>protestnumber</th><th>startday</th><th>startmonth</th><th>startyear</th><th>endday</th><th>endmonth</th><th>endyear</th><th>protesterviolence</th><th>location</th><th>participants_category</th><th>participants</th><th>protesteridentity</th><th>protesterdemand1</th><th>protesterdemand2</th><th>protesterdemand3</th><th>protesterdemand4</th><th>stateresponse1</th><th>stateresponse2</th><th>stateresponse3</th><th>stateresponse4</th><th>stateresponse5</th><th>stateresponse6</th><th>stateresponse7</th><th>sources</th><th>start_date</th><th>end_date</th><th>duration</th></tr><tr><td>i64</td><td>str</td><td>i64</td><td>i64</td><td>str</td><td>i64</td><td>i64</td><td>i64</td><td>i64</td><td>i64</td><td>i64</td><td>i64</td><td>i64</td><td>i64</td><td>str</td><td>str</td><td>str</td><td>str</td><td>str</td><td>str</td><td>str</td><td>str</td><td>str</td><td>str</td><td>str</td><td>str</td><td>str</td><td>str</td><td>str</td><td>str</td><td>date</td><td>date</td><td>duration[ms]</td></tr></thead><tbody><tr><td>6002011005</td><td>&quot;Morocco&quot;</td><td>600</td><td>2011</td><td>&quot;MENA&quot;</td><td>1</td><td>5</td><td>1</td><td>7</td><td>2011</td><td>24</td><td>1</td><td>2014</td><td>0</td><td>&quot;Imider&quot;</td><td>&quot;50-99&quot;</td><td>&quot;&gt;50&quot;</td><td>&quot;protesters, students, locals, …</td><td>&quot;political behavior, process&quot;</td><td>&quot;price increases, tax policy&quot;</td><td>null</td><td>null</td><td>&quot;killings&quot;</td><td>null</td><td>null</td><td>null</td><td>null</td><td>null</td><td>null</td><td>&quot;on moroccan hill, villagers ma…</td><td>2011-07-01</td><td>2014-01-24</td><td>939d</td></tr><tr><td>7502014011</td><td>&quot;India&quot;</td><td>750</td><td>2014</td><td>&quot;Asia&quot;</td><td>1</td><td>11</td><td>3</td><td>6</td><td>2014</td><td>3</td><td>6</td><td>2016</td><td>1</td><td>&quot;Jawahar Bagh, a public garden …</td><td>&quot;2000-4999&quot;</td><td>&quot;About 2,000 people&quot;</td><td>&quot;a group that was calling for h…</td><td>&quot;political behavior, process&quot;</td><td>&quot;price increases, tax policy&quot;</td><td>null</td><td>null</td><td>&quot;crowd dispersal&quot;</td><td>&quot;killings&quot;</td><td>&quot;shootings&quot;</td><td>null</td><td>null</td><td>null</td><td>null</td><td>&quot;24 killed as armed protesters …</td><td>2014-06-03</td><td>2016-06-03</td><td>732d</td></tr><tr><td>3502013013</td><td>&quot;Greece&quot;</td><td>350</td><td>2013</td><td>&quot;Europe&quot;</td><td>1</td><td>13</td><td>22</td><td>7</td><td>2013</td><td>11</td><td>5</td><td>2015</td><td>0</td><td>&quot;Athens&quot;</td><td>&quot;100-999&quot;</td><td>&quot;100s&quot;</td><td>&quot;state paid cleaning ladies&quot;</td><td>&quot;labor wage dispute&quot;</td><td>null</td><td>null</td><td>null</td><td>&quot;accomodation&quot;</td><td>null</td><td>null</td><td>null</td><td>null</td><td>null</td><td>&quot;.&quot;</td><td>&quot;germany urges greece to vote o…</td><td>2013-07-22</td><td>2015-05-11</td><td>659d</td></tr><tr><td>6522011003</td><td>&quot;Syria&quot;</td><td>652</td><td>2011</td><td>&quot;MENA&quot;</td><td>1</td><td>3</td><td>18</td><td>3</td><td>2011</td><td>3</td><td>12</td><td>2012</td><td>1</td><td>&quot;National&quot;</td><td>null</td><td>&quot;10000s &quot;</td><td>null</td><td>&quot;political behavior, process&quot;</td><td>&quot;removal of politician&quot;</td><td>&quot;police brutality&quot;</td><td>null</td><td>&quot;killings&quot;</td><td>&quot;shootings&quot;</td><td>&quot;beatings&quot;</td><td>&quot;crowd dispersal&quot;</td><td>&quot;arrests&quot;</td><td>&quot;accomodation&quot;</td><td>null</td><td>&quot;security forces restrained as …</td><td>2011-03-18</td><td>2012-12-03</td><td>627d</td></tr><tr><td>1552016001</td><td>&quot;Chile&quot;</td><td>155</td><td>2016</td><td>&quot;South America&quot;</td><td>1</td><td>1</td><td>15</td><td>5</td><td>2016</td><td>17</td><td>5</td><td>2017</td><td>0</td><td>&quot;Chiloe Island&quot;</td><td>&quot;50-99&quot;</td><td>&quot;&gt;50&quot;</td><td>&quot;fishermen&quot;</td><td>&quot;political behavior, process&quot;</td><td>null</td><td>null</td><td>null</td><td>&quot;ignore&quot;</td><td>null</td><td>null</td><td>null</td><td>null</td><td>null</td><td>null</td><td>&quot;1. toxic red tide in chile pro…</td><td>2016-05-15</td><td>2017-05-17</td><td>368d</td></tr></tbody></table></div>"
      ],
      "text/plain": [
       "shape: (5, 33)\n",
       "┌────────────┬─────────┬───────┬──────┬───┬───────────────┬────────────┬────────────┬──────────────┐\n",
       "│ id         ┆ country ┆ ccode ┆ year ┆ … ┆ sources       ┆ start_date ┆ end_date   ┆ duration     │\n",
       "│ ---        ┆ ---     ┆ ---   ┆ ---  ┆   ┆ ---           ┆ ---        ┆ ---        ┆ ---          │\n",
       "│ i64        ┆ str     ┆ i64   ┆ i64  ┆   ┆ str           ┆ date       ┆ date       ┆ duration[ms] │\n",
       "╞════════════╪═════════╪═══════╪══════╪═══╪═══════════════╪════════════╪════════════╪══════════════╡\n",
       "│ 6002011005 ┆ Morocco ┆ 600   ┆ 2011 ┆ … ┆ on moroccan   ┆ 2011-07-01 ┆ 2014-01-24 ┆ 939d         │\n",
       "│            ┆         ┆       ┆      ┆   ┆ hill,         ┆            ┆            ┆              │\n",
       "│            ┆         ┆       ┆      ┆   ┆ villagers ma… ┆            ┆            ┆              │\n",
       "│ 7502014011 ┆ India   ┆ 750   ┆ 2014 ┆ … ┆ 24 killed as  ┆ 2014-06-03 ┆ 2016-06-03 ┆ 732d         │\n",
       "│            ┆         ┆       ┆      ┆   ┆ armed         ┆            ┆            ┆              │\n",
       "│            ┆         ┆       ┆      ┆   ┆ protesters …  ┆            ┆            ┆              │\n",
       "│ 3502013013 ┆ Greece  ┆ 350   ┆ 2013 ┆ … ┆ germany urges ┆ 2013-07-22 ┆ 2015-05-11 ┆ 659d         │\n",
       "│            ┆         ┆       ┆      ┆   ┆ greece to     ┆            ┆            ┆              │\n",
       "│            ┆         ┆       ┆      ┆   ┆ vote o…       ┆            ┆            ┆              │\n",
       "│ 6522011003 ┆ Syria   ┆ 652   ┆ 2011 ┆ … ┆ security      ┆ 2011-03-18 ┆ 2012-12-03 ┆ 627d         │\n",
       "│            ┆         ┆       ┆      ┆   ┆ forces        ┆            ┆            ┆              │\n",
       "│            ┆         ┆       ┆      ┆   ┆ restrained as ┆            ┆            ┆              │\n",
       "│            ┆         ┆       ┆      ┆   ┆ …             ┆            ┆            ┆              │\n",
       "│ 1552016001 ┆ Chile   ┆ 155   ┆ 2016 ┆ … ┆ 1. toxic red  ┆ 2016-05-15 ┆ 2017-05-17 ┆ 368d         │\n",
       "│            ┆         ┆       ┆      ┆   ┆ tide in chile ┆            ┆            ┆              │\n",
       "│            ┆         ┆       ┆      ┆   ┆ pro…          ┆            ┆            ┆              │\n",
       "└────────────┴─────────┴───────┴──────┴───┴───────────────┴────────────┴────────────┴──────────────┘"
      ]
     },
     "execution_count": 27,
     "metadata": {},
     "output_type": "execute_result"
    }
   ],
   "source": [
    "protests.sort(by='duration', descending=True, nulls_last=True).head()"
   ]
  },
  {
   "cell_type": "markdown",
   "id": "1178b04b",
   "metadata": {},
   "source": [
    "### Exercise - Longest Italian protests\n",
    "\n",
    "✪ Analyze data from `protests` to find the 5 longest protests in Italy:"
   ]
  },
  {
   "cell_type": "markdown",
   "id": "531b32db",
   "metadata": {},
   "source": [
    "## Operations on strings\n",
    "\n",
    "To perform operations on `string` columns, we need to use the `.str` accessor after selecting the right column. This gives you access to a number of methods, some similar to known Python method to manipulate strings, some not. For more details, head over to [the documentation](https://docs.pola.rs/api/python/stable/reference/expressions/string.html)."
   ]
  },
  {
   "cell_type": "markdown",
   "id": "e2cfe917",
   "metadata": {},
   "source": [
    "### Filter by textual values\n",
    "\n",
    "When we want to filter by text values, we can use `.str.contains`, here for example we select all the protests in which the source article mentioned a \"riot\":"
   ]
  },
  {
   "cell_type": "code",
   "execution_count": 29,
   "id": "c2f2d672",
   "metadata": {
    "scrolled": false
   },
   "outputs": [
    {
     "data": {
      "text/html": [
       "<div><style>\n",
       ".dataframe > thead > tr,\n",
       ".dataframe > tbody > tr {\n",
       "  text-align: right;\n",
       "  white-space: pre-wrap;\n",
       "}\n",
       "</style>\n",
       "<small>shape: (5, 33)</small><table border=\"1\" class=\"dataframe\"><thead><tr><th>id</th><th>country</th><th>ccode</th><th>year</th><th>region</th><th>protest</th><th>protestnumber</th><th>startday</th><th>startmonth</th><th>startyear</th><th>endday</th><th>endmonth</th><th>endyear</th><th>protesterviolence</th><th>location</th><th>participants_category</th><th>participants</th><th>protesteridentity</th><th>protesterdemand1</th><th>protesterdemand2</th><th>protesterdemand3</th><th>protesterdemand4</th><th>stateresponse1</th><th>stateresponse2</th><th>stateresponse3</th><th>stateresponse4</th><th>stateresponse5</th><th>stateresponse6</th><th>stateresponse7</th><th>sources</th><th>start_date</th><th>end_date</th><th>duration</th></tr><tr><td>i64</td><td>str</td><td>i64</td><td>i64</td><td>str</td><td>i64</td><td>i64</td><td>i64</td><td>i64</td><td>i64</td><td>i64</td><td>i64</td><td>i64</td><td>i64</td><td>str</td><td>str</td><td>str</td><td>str</td><td>str</td><td>str</td><td>str</td><td>str</td><td>str</td><td>str</td><td>str</td><td>str</td><td>str</td><td>str</td><td>str</td><td>str</td><td>date</td><td>date</td><td>duration[ms]</td></tr></thead><tbody><tr><td>201992001</td><td>&quot;Canada&quot;</td><td>20</td><td>1992</td><td>&quot;North America&quot;</td><td>1</td><td>1</td><td>4</td><td>5</td><td>1992</td><td>5</td><td>5</td><td>1992</td><td>1</td><td>&quot;Toronto&quot;</td><td>null</td><td>&quot;1000&quot;</td><td>&quot;gangs of black and white youth…</td><td>&quot;police brutality&quot;</td><td>null</td><td>null</td><td>null</td><td>&quot;arrests&quot;</td><td>null</td><td>null</td><td>null</td><td>null</td><td>null</td><td>null</td><td>&quot;1. window smashing and looting…</td><td>1992-05-04</td><td>1992-05-05</td><td>2d</td></tr><tr><td>202008001</td><td>&quot;Canada&quot;</td><td>20</td><td>2008</td><td>&quot;North America&quot;</td><td>1</td><td>1</td><td>10</td><td>8</td><td>2008</td><td>10</td><td>8</td><td>2008</td><td>1</td><td>&quot;Montreal, Quebec&quot;</td><td>null</td><td>&quot;100s&quot;</td><td>&quot;unspecified&quot;</td><td>&quot;police brutality&quot;</td><td>null</td><td>null</td><td>null</td><td>&quot;crowd dispersal&quot;</td><td>null</td><td>null</td><td>null</td><td>null</td><td>null</td><td>null</td><td>&quot;1. canada: rioting in montreal…</td><td>2008-08-10</td><td>2008-08-10</td><td>1d</td></tr><tr><td>202012001</td><td>&quot;Canada&quot;</td><td>20</td><td>2012</td><td>&quot;North America&quot;</td><td>1</td><td>1</td><td>10</td><td>2</td><td>2012</td><td>6</td><td>6</td><td>2012</td><td>1</td><td>&quot;Quebec&quot;</td><td>null</td><td>&quot;1000s&quot;</td><td>&quot;university students&quot;</td><td>&quot;price increases, tax policy&quot;</td><td>null</td><td>null</td><td>null</td><td>&quot;crowd dispersal&quot;</td><td>&quot;arrests&quot;</td><td>null</td><td>null</td><td>null</td><td>null</td><td>null</td><td>&quot;1. quebec plans to suspend cla…</td><td>2012-02-10</td><td>2012-06-06</td><td>118d</td></tr><tr><td>401994001</td><td>&quot;Cuba&quot;</td><td>40</td><td>1994</td><td>&quot;North America&quot;</td><td>1</td><td>1</td><td>5</td><td>8</td><td>1994</td><td>5</td><td>8</td><td>1994</td><td>1</td><td>&quot;Havana&quot;</td><td>null</td><td>&quot;1000&quot;</td><td>&quot;unspecified&quot;</td><td>&quot;political behavior, process&quot;</td><td>null</td><td>null</td><td>null</td><td>&quot;arrests&quot;</td><td>null</td><td>null</td><td>null</td><td>null</td><td>null</td><td>null</td><td>&quot;1. protesters battle police in…</td><td>1994-08-05</td><td>1994-08-05</td><td>1d</td></tr><tr><td>411995002</td><td>&quot;Haiti&quot;</td><td>41</td><td>1995</td><td>&quot;North America&quot;</td><td>1</td><td>2</td><td>23</td><td>11</td><td>1995</td><td>23</td><td>11</td><td>1995</td><td>1</td><td>&quot;Cite Soleil&quot;</td><td>null</td><td>&quot;50&quot;</td><td>&quot;residents of cite soleil&quot;</td><td>&quot;police brutality&quot;</td><td>null</td><td>null</td><td>null</td><td>&quot;ignore&quot;</td><td>null</td><td>null</td><td>null</td><td>null</td><td>null</td><td>null</td><td>&quot;1. fatal clashes in haiti slum…</td><td>1995-11-23</td><td>1995-11-23</td><td>1d</td></tr></tbody></table></div>"
      ],
      "text/plain": [
       "shape: (5, 33)\n",
       "┌───────────┬─────────┬───────┬──────┬───┬────────────────┬────────────┬────────────┬──────────────┐\n",
       "│ id        ┆ country ┆ ccode ┆ year ┆ … ┆ sources        ┆ start_date ┆ end_date   ┆ duration     │\n",
       "│ ---       ┆ ---     ┆ ---   ┆ ---  ┆   ┆ ---            ┆ ---        ┆ ---        ┆ ---          │\n",
       "│ i64       ┆ str     ┆ i64   ┆ i64  ┆   ┆ str            ┆ date       ┆ date       ┆ duration[ms] │\n",
       "╞═══════════╪═════════╪═══════╪══════╪═══╪════════════════╪════════════╪════════════╪══════════════╡\n",
       "│ 201992001 ┆ Canada  ┆ 20    ┆ 1992 ┆ … ┆ 1. window      ┆ 1992-05-04 ┆ 1992-05-05 ┆ 2d           │\n",
       "│           ┆         ┆       ┆      ┆   ┆ smashing and   ┆            ┆            ┆              │\n",
       "│           ┆         ┆       ┆      ┆   ┆ looting…       ┆            ┆            ┆              │\n",
       "│ 202008001 ┆ Canada  ┆ 20    ┆ 2008 ┆ … ┆ 1. canada:     ┆ 2008-08-10 ┆ 2008-08-10 ┆ 1d           │\n",
       "│           ┆         ┆       ┆      ┆   ┆ rioting in     ┆            ┆            ┆              │\n",
       "│           ┆         ┆       ┆      ┆   ┆ montreal…      ┆            ┆            ┆              │\n",
       "│ 202012001 ┆ Canada  ┆ 20    ┆ 2012 ┆ … ┆ 1. quebec      ┆ 2012-02-10 ┆ 2012-06-06 ┆ 118d         │\n",
       "│           ┆         ┆       ┆      ┆   ┆ plans to       ┆            ┆            ┆              │\n",
       "│           ┆         ┆       ┆      ┆   ┆ suspend cla…   ┆            ┆            ┆              │\n",
       "│ 401994001 ┆ Cuba    ┆ 40    ┆ 1994 ┆ … ┆ 1. protesters  ┆ 1994-08-05 ┆ 1994-08-05 ┆ 1d           │\n",
       "│           ┆         ┆       ┆      ┆   ┆ battle police  ┆            ┆            ┆              │\n",
       "│           ┆         ┆       ┆      ┆   ┆ in…            ┆            ┆            ┆              │\n",
       "│ 411995002 ┆ Haiti   ┆ 41    ┆ 1995 ┆ … ┆ 1. fatal       ┆ 1995-11-23 ┆ 1995-11-23 ┆ 1d           │\n",
       "│           ┆         ┆       ┆      ┆   ┆ clashes in     ┆            ┆            ┆              │\n",
       "│           ┆         ┆       ┆      ┆   ┆ haiti slum…    ┆            ┆            ┆              │\n",
       "└───────────┴─────────┴───────┴──────┴───┴────────────────┴────────────┴────────────┴──────────────┘"
      ]
     },
     "execution_count": 29,
     "metadata": {},
     "output_type": "execute_result"
    }
   ],
   "source": [
    "protests.filter(pl.col(\"sources\").str.contains(\"riot\")).head()"
   ]
  },
  {
   "cell_type": "markdown",
   "id": "9102e1e0",
   "metadata": {},
   "source": [
    "### Extracting strings\n",
    "\n",
    "We can also use it, for instance, to extract a rough estimate of the number of participants as an integer, as follows:"
   ]
  },
  {
   "cell_type": "code",
   "execution_count": 30,
   "id": "5d6c1233",
   "metadata": {},
   "outputs": [
    {
     "data": {
      "text/html": [
       "<div><style>\n",
       ".dataframe > thead > tr,\n",
       ".dataframe > tbody > tr {\n",
       "  text-align: right;\n",
       "  white-space: pre-wrap;\n",
       "}\n",
       "</style>\n",
       "<small>shape: (5, 33)</small><table border=\"1\" class=\"dataframe\"><thead><tr><th>id</th><th>country</th><th>ccode</th><th>year</th><th>region</th><th>protest</th><th>protestnumber</th><th>startday</th><th>startmonth</th><th>startyear</th><th>endday</th><th>endmonth</th><th>endyear</th><th>protesterviolence</th><th>location</th><th>participants_category</th><th>participants</th><th>protesteridentity</th><th>protesterdemand1</th><th>protesterdemand2</th><th>protesterdemand3</th><th>protesterdemand4</th><th>stateresponse1</th><th>stateresponse2</th><th>stateresponse3</th><th>stateresponse4</th><th>stateresponse5</th><th>stateresponse6</th><th>stateresponse7</th><th>sources</th><th>start_date</th><th>end_date</th><th>duration</th></tr><tr><td>i64</td><td>str</td><td>i64</td><td>i64</td><td>str</td><td>i64</td><td>i64</td><td>i64</td><td>i64</td><td>i64</td><td>i64</td><td>i64</td><td>i64</td><td>i64</td><td>str</td><td>str</td><td>i64</td><td>str</td><td>str</td><td>str</td><td>str</td><td>str</td><td>str</td><td>str</td><td>str</td><td>str</td><td>str</td><td>str</td><td>str</td><td>str</td><td>date</td><td>date</td><td>duration[ms]</td></tr></thead><tbody><tr><td>201990001</td><td>&quot;Canada&quot;</td><td>20</td><td>1990</td><td>&quot;North America&quot;</td><td>1</td><td>1</td><td>15</td><td>1</td><td>1990</td><td>15</td><td>1</td><td>1990</td><td>0</td><td>&quot;national&quot;</td><td>null</td><td>1000</td><td>&quot;unspecified&quot;</td><td>&quot;political behavior, process&quot;</td><td>&quot;labor wage dispute&quot;</td><td>null</td><td>null</td><td>&quot;ignore&quot;</td><td>null</td><td>null</td><td>null</td><td>null</td><td>null</td><td>null</td><td>&quot;1. great canadian train journe…</td><td>1990-01-15</td><td>1990-01-15</td><td>1d</td></tr><tr><td>201990002</td><td>&quot;Canada&quot;</td><td>20</td><td>1990</td><td>&quot;North America&quot;</td><td>1</td><td>2</td><td>25</td><td>6</td><td>1990</td><td>25</td><td>6</td><td>1990</td><td>0</td><td>&quot;Montreal, Quebec&quot;</td><td>null</td><td>1000</td><td>&quot;unspecified&quot;</td><td>&quot;political behavior, process&quot;</td><td>null</td><td>null</td><td>null</td><td>&quot;ignore&quot;</td><td>null</td><td>null</td><td>null</td><td>null</td><td>null</td><td>null</td><td>&quot;1. autonomy s cry revived in q…</td><td>1990-06-25</td><td>1990-06-25</td><td>1d</td></tr><tr><td>201990003</td><td>&quot;Canada&quot;</td><td>20</td><td>1990</td><td>&quot;North America&quot;</td><td>1</td><td>3</td><td>1</td><td>7</td><td>1990</td><td>1</td><td>7</td><td>1990</td><td>0</td><td>&quot;Montreal, Quebec&quot;</td><td>null</td><td>500</td><td>&quot;separatist parti quebecois&quot;</td><td>&quot;political behavior, process&quot;</td><td>null</td><td>null</td><td>null</td><td>&quot;ignore&quot;</td><td>null</td><td>null</td><td>null</td><td>null</td><td>null</td><td>null</td><td>&quot;1. quebec protest after queen …</td><td>1990-07-01</td><td>1990-07-01</td><td>1d</td></tr><tr><td>201990004</td><td>&quot;Canada&quot;</td><td>20</td><td>1990</td><td>&quot;North America&quot;</td><td>1</td><td>4</td><td>12</td><td>7</td><td>1990</td><td>6</td><td>9</td><td>1990</td><td>1</td><td>&quot;Montreal, Quebec&quot;</td><td>null</td><td>100</td><td>&quot;mohawk indians&quot;</td><td>&quot;land farm issue&quot;</td><td>null</td><td>null</td><td>null</td><td>&quot;accomodation&quot;</td><td>null</td><td>null</td><td>null</td><td>null</td><td>null</td><td>null</td><td>&quot;1. indians gather as siege int…</td><td>1990-07-12</td><td>1990-09-06</td><td>57d</td></tr><tr><td>201990005</td><td>&quot;Canada&quot;</td><td>20</td><td>1990</td><td>&quot;North America&quot;</td><td>1</td><td>5</td><td>14</td><td>8</td><td>1990</td><td>15</td><td>8</td><td>1990</td><td>1</td><td>&quot;Montreal, Quebec&quot;</td><td>null</td><td>950</td><td>&quot;local residents&quot;</td><td>&quot;political behavior, process&quot;</td><td>null</td><td>null</td><td>null</td><td>&quot;crowd dispersal&quot;</td><td>&quot;arrests&quot;</td><td>&quot;accomodation&quot;</td><td>null</td><td>null</td><td>null</td><td>null</td><td>&quot;1. dozens hurt in mohawk block…</td><td>1990-08-14</td><td>1990-08-15</td><td>2d</td></tr></tbody></table></div>"
      ],
      "text/plain": [
       "shape: (5, 33)\n",
       "┌───────────┬─────────┬───────┬──────┬───┬────────────────┬────────────┬────────────┬──────────────┐\n",
       "│ id        ┆ country ┆ ccode ┆ year ┆ … ┆ sources        ┆ start_date ┆ end_date   ┆ duration     │\n",
       "│ ---       ┆ ---     ┆ ---   ┆ ---  ┆   ┆ ---            ┆ ---        ┆ ---        ┆ ---          │\n",
       "│ i64       ┆ str     ┆ i64   ┆ i64  ┆   ┆ str            ┆ date       ┆ date       ┆ duration[ms] │\n",
       "╞═══════════╪═════════╪═══════╪══════╪═══╪════════════════╪════════════╪════════════╪══════════════╡\n",
       "│ 201990001 ┆ Canada  ┆ 20    ┆ 1990 ┆ … ┆ 1. great       ┆ 1990-01-15 ┆ 1990-01-15 ┆ 1d           │\n",
       "│           ┆         ┆       ┆      ┆   ┆ canadian train ┆            ┆            ┆              │\n",
       "│           ┆         ┆       ┆      ┆   ┆ journe…        ┆            ┆            ┆              │\n",
       "│ 201990002 ┆ Canada  ┆ 20    ┆ 1990 ┆ … ┆ 1. autonomy s  ┆ 1990-06-25 ┆ 1990-06-25 ┆ 1d           │\n",
       "│           ┆         ┆       ┆      ┆   ┆ cry revived in ┆            ┆            ┆              │\n",
       "│           ┆         ┆       ┆      ┆   ┆ q…             ┆            ┆            ┆              │\n",
       "│ 201990003 ┆ Canada  ┆ 20    ┆ 1990 ┆ … ┆ 1. quebec      ┆ 1990-07-01 ┆ 1990-07-01 ┆ 1d           │\n",
       "│           ┆         ┆       ┆      ┆   ┆ protest after  ┆            ┆            ┆              │\n",
       "│           ┆         ┆       ┆      ┆   ┆ queen …        ┆            ┆            ┆              │\n",
       "│ 201990004 ┆ Canada  ┆ 20    ┆ 1990 ┆ … ┆ 1. indians     ┆ 1990-07-12 ┆ 1990-09-06 ┆ 57d          │\n",
       "│           ┆         ┆       ┆      ┆   ┆ gather as      ┆            ┆            ┆              │\n",
       "│           ┆         ┆       ┆      ┆   ┆ siege int…     ┆            ┆            ┆              │\n",
       "│ 201990005 ┆ Canada  ┆ 20    ┆ 1990 ┆ … ┆ 1. dozens hurt ┆ 1990-08-14 ┆ 1990-08-15 ┆ 2d           │\n",
       "│           ┆         ┆       ┆      ┆   ┆ in mohawk      ┆            ┆            ┆              │\n",
       "│           ┆         ┆       ┆      ┆   ┆ block…         ┆            ┆            ┆              │\n",
       "└───────────┴─────────┴───────┴──────┴───┴────────────────┴────────────┴────────────┴──────────────┘"
      ]
     },
     "execution_count": 30,
     "metadata": {},
     "output_type": "execute_result"
    }
   ],
   "source": [
    "protests.with_columns(pl.col('participants').str.extract(\"([0-9]+)\").cast(int)).head()"
   ]
  },
  {
   "cell_type": "markdown",
   "id": "71acd988",
   "metadata": {},
   "source": [
    "```{note}\n",
    "`\"([0-9]+)\"` is a regular expression. A whole course could be dedicated to them, so for now, you should just know that this particular one extracts any sequence of integers from a string. They are a very practical tool, so I wanted to make you aware of their existence, but you don't need to know more than that for this course.\n",
    "```"
   ]
  },
  {
   "cell_type": "markdown",
   "id": "f81dac71",
   "metadata": {},
   "source": [
    "```{note}\n",
    "There is a bunch of other data types with a special accessor, but we won't cover them here.\n",
    "```"
   ]
  },
  {
   "cell_type": "markdown",
   "id": "f86ebf19",
   "metadata": {},
   "source": [
    "### Exercise - Game of Thrones\n",
    "\n",
    "Open with Polars the file [game-of-thrones.csv](data/game-of-thrones.csv) which holds episodes from various years.\n",
    "\n",
    "- **IMPORTANT**: place the dataframe into the variable `game`, so not to confuse it with previous dataframes\n",
    "\n",
    "Data source:  [Kaggle](https://www.kaggle.com/datasets/bakar31/game-of-thronesgot) - License: [CC0: Public Domain](https://creativecommons.org/publicdomain/zero/1.0/)"
   ]
  },
  {
   "cell_type": "code",
   "execution_count": 32,
   "id": "ff3ecec9",
   "metadata": {
    "tags": [
     "remove-cell"
    ]
   },
   "outputs": [
    {
     "data": {
      "text/html": [
       "<div><style>\n",
       ".dataframe > thead > tr,\n",
       ".dataframe > tbody > tr {\n",
       "  text-align: right;\n",
       "  white-space: pre-wrap;\n",
       "}\n",
       "</style>\n",
       "<small>shape: (5, 10)</small><table border=\"1\" class=\"dataframe\"><thead><tr><th>No. overall</th><th>No. in season</th><th>Season</th><th>Title</th><th>Directed by</th><th>Written by</th><th>Novel(s) adapted</th><th>Original air date</th><th>U.S. viewers(millions)</th><th>Imdb rating</th></tr><tr><td>i64</td><td>i64</td><td>i64</td><td>str</td><td>str</td><td>str</td><td>str</td><td>str</td><td>f64</td><td>f64</td></tr></thead><tbody><tr><td>1</td><td>1</td><td>1</td><td>&quot;&quot;Winter Is Coming&quot;&quot;</td><td>&quot;Tim Van Patten&quot;</td><td>&quot;David Benioff &amp; D. B. Weiss&quot;</td><td>&quot;A Game of Thrones&quot;</td><td>&quot;17-Apr-11&quot;</td><td>2.22</td><td>9.1</td></tr><tr><td>2</td><td>2</td><td>1</td><td>&quot;&quot;The Kingsroad&quot;&quot;</td><td>&quot;Tim Van Patten&quot;</td><td>&quot;David Benioff &amp; D. B. Weiss&quot;</td><td>&quot;A Game of Thrones&quot;</td><td>&quot;24-Apr-11&quot;</td><td>2.2</td><td>8.8</td></tr><tr><td>3</td><td>3</td><td>1</td><td>&quot;&quot;Lord Snow&quot;&quot;</td><td>&quot;Brian Kirk&quot;</td><td>&quot;David Benioff &amp; D. B. Weiss&quot;</td><td>&quot;A Game of Thrones&quot;</td><td>&quot;1-May-11&quot;</td><td>2.44</td><td>8.7</td></tr><tr><td>4</td><td>4</td><td>1</td><td>&quot;&quot;Cripples, Bastards, and Broke…</td><td>&quot;Brian Kirk&quot;</td><td>&quot;Bryan Cogman&quot;</td><td>&quot;A Game of Thrones&quot;</td><td>&quot;8-May-11&quot;</td><td>2.45</td><td>8.8</td></tr><tr><td>5</td><td>5</td><td>1</td><td>&quot;&quot;The Wolf and the Lion&quot;&quot;</td><td>&quot;Brian Kirk&quot;</td><td>&quot;David Benioff &amp; D. B. Weiss&quot;</td><td>&quot;A Game of Thrones&quot;</td><td>&quot;15-May-11&quot;</td><td>2.58</td><td>9.1</td></tr></tbody></table></div>"
      ],
      "text/plain": [
       "shape: (5, 10)\n",
       "┌─────────┬────────┬────────┬──────────────┬───┬──────────────┬─────────────┬─────────────┬────────┐\n",
       "│ No.     ┆ No. in ┆ Season ┆ Title        ┆ … ┆ Novel(s)     ┆ Original    ┆ U.S. viewer ┆ Imdb   │\n",
       "│ overall ┆ season ┆ ---    ┆ ---          ┆   ┆ adapted      ┆ air date    ┆ s(millions) ┆ rating │\n",
       "│ ---     ┆ ---    ┆ i64    ┆ str          ┆   ┆ ---          ┆ ---         ┆ ---         ┆ ---    │\n",
       "│ i64     ┆ i64    ┆        ┆              ┆   ┆ str          ┆ str         ┆ f64         ┆ f64    │\n",
       "╞═════════╪════════╪════════╪══════════════╪═══╪══════════════╪═════════════╪═════════════╪════════╡\n",
       "│ 1       ┆ 1      ┆ 1      ┆ \"Winter Is   ┆ … ┆ A Game of    ┆ 17-Apr-11   ┆ 2.22        ┆ 9.1    │\n",
       "│         ┆        ┆        ┆ Coming\"      ┆   ┆ Thrones      ┆             ┆             ┆        │\n",
       "│ 2       ┆ 2      ┆ 1      ┆ \"The         ┆ … ┆ A Game of    ┆ 24-Apr-11   ┆ 2.2         ┆ 8.8    │\n",
       "│         ┆        ┆        ┆ Kingsroad\"   ┆   ┆ Thrones      ┆             ┆             ┆        │\n",
       "│ 3       ┆ 3      ┆ 1      ┆ \"Lord Snow\"  ┆ … ┆ A Game of    ┆ 1-May-11    ┆ 2.44        ┆ 8.7    │\n",
       "│         ┆        ┆        ┆              ┆   ┆ Thrones      ┆             ┆             ┆        │\n",
       "│ 4       ┆ 4      ┆ 1      ┆ \"Cripples,   ┆ … ┆ A Game of    ┆ 8-May-11    ┆ 2.45        ┆ 8.8    │\n",
       "│         ┆        ┆        ┆ Bastards,    ┆   ┆ Thrones      ┆             ┆             ┆        │\n",
       "│         ┆        ┆        ┆ and Broke…   ┆   ┆              ┆             ┆             ┆        │\n",
       "│ 5       ┆ 5      ┆ 1      ┆ \"The Wolf    ┆ … ┆ A Game of    ┆ 15-May-11   ┆ 2.58        ┆ 9.1    │\n",
       "│         ┆        ┆        ┆ and the      ┆   ┆ Thrones      ┆             ┆             ┆        │\n",
       "│         ┆        ┆        ┆ Lion\"        ┆   ┆              ┆             ┆             ┆        │\n",
       "└─────────┴────────┴────────┴──────────────┴───┴──────────────┴─────────────┴─────────────┴────────┘"
      ]
     },
     "execution_count": 32,
     "metadata": {},
     "output_type": "execute_result"
    }
   ],
   "source": [
    "game.head()"
   ]
  },
  {
   "cell_type": "markdown",
   "id": "ecc8dc3d",
   "metadata": {},
   "source": [
    "#### Favorite episodes \n",
    "\n",
    "You are given a dictionary `favorite` with the most liked episodes of a group of people, who unfortunately don't remember exactly the various titles which are often incomplete: Select the favorite episodes of Paolo and Chiara.\n",
    "\n",
    "- assume the capitalization in `favorite` is the correct one\n",
    "- **NOTE**: the dataset contains insidious double quotes around the titles, but if you write the code in the right way it shouldn't be a problem"
   ]
  },
  {
   "cell_type": "code",
   "execution_count": 33,
   "id": "ec39a0dd",
   "metadata": {},
   "outputs": [],
   "source": [
    "favorite = {\n",
    "    \"Paolo\": \"Winter Is\",\n",
    "    \"Chiara\": \"Wolf and the Lion\",\n",
    "    \"Anselmo\": \"Fire and\",\n",
    "    \"Letizia\": \"Garden of\",\n",
    "}"
   ]
  },
  {
   "cell_type": "code",
   "execution_count": 35,
   "id": "86d941ff",
   "metadata": {
    "tags": [
     "remove-cell"
    ]
   },
   "outputs": [
    {
     "data": {
      "text/html": [
       "<div><style>\n",
       ".dataframe > thead > tr,\n",
       ".dataframe > tbody > tr {\n",
       "  text-align: right;\n",
       "  white-space: pre-wrap;\n",
       "}\n",
       "</style>\n",
       "<small>shape: (2, 10)</small><table border=\"1\" class=\"dataframe\"><thead><tr><th>No. overall</th><th>No. in season</th><th>Season</th><th>Title</th><th>Directed by</th><th>Written by</th><th>Novel(s) adapted</th><th>Original air date</th><th>U.S. viewers(millions)</th><th>Imdb rating</th></tr><tr><td>i64</td><td>i64</td><td>i64</td><td>str</td><td>str</td><td>str</td><td>str</td><td>str</td><td>f64</td><td>f64</td></tr></thead><tbody><tr><td>1</td><td>1</td><td>1</td><td>&quot;&quot;Winter Is Coming&quot;&quot;</td><td>&quot;Tim Van Patten&quot;</td><td>&quot;David Benioff &amp; D. B. Weiss&quot;</td><td>&quot;A Game of Thrones&quot;</td><td>&quot;17-Apr-11&quot;</td><td>2.22</td><td>9.1</td></tr><tr><td>5</td><td>5</td><td>1</td><td>&quot;&quot;The Wolf and the Lion&quot;&quot;</td><td>&quot;Brian Kirk&quot;</td><td>&quot;David Benioff &amp; D. B. Weiss&quot;</td><td>&quot;A Game of Thrones&quot;</td><td>&quot;15-May-11&quot;</td><td>2.58</td><td>9.1</td></tr></tbody></table></div>"
      ],
      "text/plain": [
       "shape: (2, 10)\n",
       "┌─────────┬────────┬────────┬──────────────┬───┬──────────────┬─────────────┬─────────────┬────────┐\n",
       "│ No.     ┆ No. in ┆ Season ┆ Title        ┆ … ┆ Novel(s)     ┆ Original    ┆ U.S. viewer ┆ Imdb   │\n",
       "│ overall ┆ season ┆ ---    ┆ ---          ┆   ┆ adapted      ┆ air date    ┆ s(millions) ┆ rating │\n",
       "│ ---     ┆ ---    ┆ i64    ┆ str          ┆   ┆ ---          ┆ ---         ┆ ---         ┆ ---    │\n",
       "│ i64     ┆ i64    ┆        ┆              ┆   ┆ str          ┆ str         ┆ f64         ┆ f64    │\n",
       "╞═════════╪════════╪════════╪══════════════╪═══╪══════════════╪═════════════╪═════════════╪════════╡\n",
       "│ 1       ┆ 1      ┆ 1      ┆ \"Winter Is   ┆ … ┆ A Game of    ┆ 17-Apr-11   ┆ 2.22        ┆ 9.1    │\n",
       "│         ┆        ┆        ┆ Coming\"      ┆   ┆ Thrones      ┆             ┆             ┆        │\n",
       "│ 5       ┆ 5      ┆ 1      ┆ \"The Wolf    ┆ … ┆ A Game of    ┆ 15-May-11   ┆ 2.58        ┆ 9.1    │\n",
       "│         ┆        ┆        ┆ and the      ┆   ┆ Thrones      ┆             ┆             ┆        │\n",
       "│         ┆        ┆        ┆ Lion\"        ┆   ┆              ┆             ┆             ┆        │\n",
       "└─────────┴────────┴────────┴──────────────┴───┴──────────────┴─────────────┴─────────────┴────────┘"
      ]
     },
     "execution_count": 35,
     "metadata": {},
     "output_type": "execute_result"
    }
   ],
   "source": [
    "fav_episodes"
   ]
  },
  {
   "cell_type": "markdown",
   "id": "e7598c5b",
   "metadata": {},
   "source": [
    "#### First airing\n",
    "\n",
    "Write a function `first_aired` that returns a dataframe containing all the episodes which have been aired the first time in a given `year` (`Original air date` column)\n",
    "\n",
    "- **NOTE**: `year` is given as an `int`"
   ]
  },
  {
   "cell_type": "code",
   "execution_count": 37,
   "id": "e8e9a1d7",
   "metadata": {},
   "outputs": [
    {
     "data": {
      "text/html": [
       "<div><style>\n",
       ".dataframe > thead > tr,\n",
       ".dataframe > tbody > tr {\n",
       "  text-align: right;\n",
       "  white-space: pre-wrap;\n",
       "}\n",
       "</style>\n",
       "<small>shape: (6, 10)</small><table border=\"1\" class=\"dataframe\"><thead><tr><th>No. overall</th><th>No. in season</th><th>Season</th><th>Title</th><th>Directed by</th><th>Written by</th><th>Novel(s) adapted</th><th>Original air date</th><th>U.S. viewers(millions)</th><th>Imdb rating</th></tr><tr><td>i64</td><td>i64</td><td>i64</td><td>str</td><td>str</td><td>str</td><td>str</td><td>str</td><td>f64</td><td>f64</td></tr></thead><tbody><tr><td>62</td><td>2</td><td>7</td><td>&quot;&quot;Stormborn&quot;&quot;</td><td>&quot;Mark Mylod&quot;</td><td>&quot;Bryan Cogman&quot;</td><td>&quot;Outline from A Dream of Spring…</td><td>&quot;23-Jul-17&quot;</td><td>9.27</td><td>8.9</td></tr><tr><td>63</td><td>3</td><td>7</td><td>&quot;&quot;The Queen&#x27;s Justice&quot;&quot;</td><td>&quot;Mark Mylod&quot;</td><td>&quot;David Benioff &amp; D. B. Weiss&quot;</td><td>&quot;Outline from A Dream of Spring…</td><td>&quot;30-Jul-17&quot;</td><td>9.25</td><td>9.2</td></tr><tr><td>64</td><td>4</td><td>7</td><td>&quot;&quot;The Spoils of War&quot;&quot;</td><td>&quot;Matt Shakman&quot;</td><td>&quot;David Benioff &amp; D. B. Weiss&quot;</td><td>&quot;Outline from A Dream of Spring…</td><td>&quot;6-Aug-17&quot;</td><td>10.17</td><td>9.8</td></tr><tr><td>65</td><td>5</td><td>7</td><td>&quot;&quot;Eastwatch&quot;&quot;</td><td>&quot;Matt Shakman&quot;</td><td>&quot;Dave Hill&quot;</td><td>&quot;Outline from A Dream of Spring…</td><td>&quot;13-Aug-17&quot;</td><td>10.72</td><td>8.8</td></tr><tr><td>66</td><td>6</td><td>7</td><td>&quot;&quot;Beyond the Wall&quot;&quot;</td><td>&quot;Alan Taylor&quot;</td><td>&quot;David Benioff &amp; D. B. Weiss&quot;</td><td>&quot;Outline from A Dream of Spring…</td><td>&quot;20-Aug-17&quot;</td><td>10.24</td><td>9.0</td></tr><tr><td>67</td><td>7</td><td>7</td><td>&quot;&quot;The Dragon and the Wolf&quot;&quot;</td><td>&quot;Jeremy Podeswa&quot;</td><td>&quot;David Benioff &amp; D. B. Weiss&quot;</td><td>&quot;Outline from A Dream of Spring…</td><td>&quot;27-Aug-17&quot;</td><td>12.07</td><td>9.4</td></tr></tbody></table></div>"
      ],
      "text/plain": [
       "shape: (6, 10)\n",
       "┌─────────┬────────┬────────┬───────────────┬───┬──────────┬───────────────┬──────────────┬────────┐\n",
       "│ No.     ┆ No. in ┆ Season ┆ Title         ┆ … ┆ Novel(s) ┆ Original air  ┆ U.S. viewers ┆ Imdb   │\n",
       "│ overall ┆ season ┆ ---    ┆ ---           ┆   ┆ adapted  ┆ date          ┆ (millions)   ┆ rating │\n",
       "│ ---     ┆ ---    ┆ i64    ┆ str           ┆   ┆ ---      ┆ ---           ┆ ---          ┆ ---    │\n",
       "│ i64     ┆ i64    ┆        ┆               ┆   ┆ str      ┆ str           ┆ f64          ┆ f64    │\n",
       "╞═════════╪════════╪════════╪═══════════════╪═══╪══════════╪═══════════════╪══════════════╪════════╡\n",
       "│ 62      ┆ 2      ┆ 7      ┆ \"Stormborn\"   ┆ … ┆ Outline  ┆ 23-Jul-17     ┆ 9.27         ┆ 8.9    │\n",
       "│         ┆        ┆        ┆               ┆   ┆ from A   ┆               ┆              ┆        │\n",
       "│         ┆        ┆        ┆               ┆   ┆ Dream of ┆               ┆              ┆        │\n",
       "│         ┆        ┆        ┆               ┆   ┆ Spring…  ┆               ┆              ┆        │\n",
       "│ 63      ┆ 3      ┆ 7      ┆ \"The Queen's  ┆ … ┆ Outline  ┆ 30-Jul-17     ┆ 9.25         ┆ 9.2    │\n",
       "│         ┆        ┆        ┆ Justice\"      ┆   ┆ from A   ┆               ┆              ┆        │\n",
       "│         ┆        ┆        ┆               ┆   ┆ Dream of ┆               ┆              ┆        │\n",
       "│         ┆        ┆        ┆               ┆   ┆ Spring…  ┆               ┆              ┆        │\n",
       "│ 64      ┆ 4      ┆ 7      ┆ \"The Spoils   ┆ … ┆ Outline  ┆ 6-Aug-17      ┆ 10.17        ┆ 9.8    │\n",
       "│         ┆        ┆        ┆ of War\"       ┆   ┆ from A   ┆               ┆              ┆        │\n",
       "│         ┆        ┆        ┆               ┆   ┆ Dream of ┆               ┆              ┆        │\n",
       "│         ┆        ┆        ┆               ┆   ┆ Spring…  ┆               ┆              ┆        │\n",
       "│ 65      ┆ 5      ┆ 7      ┆ \"Eastwatch\"   ┆ … ┆ Outline  ┆ 13-Aug-17     ┆ 10.72        ┆ 8.8    │\n",
       "│         ┆        ┆        ┆               ┆   ┆ from A   ┆               ┆              ┆        │\n",
       "│         ┆        ┆        ┆               ┆   ┆ Dream of ┆               ┆              ┆        │\n",
       "│         ┆        ┆        ┆               ┆   ┆ Spring…  ┆               ┆              ┆        │\n",
       "│ 66      ┆ 6      ┆ 7      ┆ \"Beyond the   ┆ … ┆ Outline  ┆ 20-Aug-17     ┆ 10.24        ┆ 9.0    │\n",
       "│         ┆        ┆        ┆ Wall\"         ┆   ┆ from A   ┆               ┆              ┆        │\n",
       "│         ┆        ┆        ┆               ┆   ┆ Dream of ┆               ┆              ┆        │\n",
       "│         ┆        ┆        ┆               ┆   ┆ Spring…  ┆               ┆              ┆        │\n",
       "│ 67      ┆ 7      ┆ 7      ┆ \"The Dragon   ┆ … ┆ Outline  ┆ 27-Aug-17     ┆ 12.07        ┆ 9.4    │\n",
       "│         ┆        ┆        ┆ and the Wolf\" ┆   ┆ from A   ┆               ┆              ┆        │\n",
       "│         ┆        ┆        ┆               ┆   ┆ Dream of ┆               ┆              ┆        │\n",
       "│         ┆        ┆        ┆               ┆   ┆ Spring…  ┆               ┆              ┆        │\n",
       "└─────────┴────────┴────────┴───────────────┴───┴──────────┴───────────────┴──────────────┴────────┘"
      ]
     },
     "execution_count": 37,
     "metadata": {},
     "output_type": "execute_result"
    }
   ],
   "source": [
    "first_aired(game, 2017)"
   ]
  },
  {
   "cell_type": "markdown",
   "id": "896fd8bb",
   "metadata": {},
   "source": [
    "## A parallel with spreadsheets\n",
    "\n",
    "You're probably familiar with some spreadsheets software, such as Excel or Google Sheets.\n",
    "To make an analogy, you can picture a dataframe as a single sheet, which in Python is stored as a variable.\n",
    "Then, if you do not reassign this variable, the dataframe stays the same -- so in the analogy, the sheet is untouched.\n",
    "So while in a spreadsheet, you'd compute for instance the sum of a column in a cell on the same sheet, in Python, you'd assign the result of the sum to a new variable, that is, to a new sheet.\n",
    "Same goes for filtering or reordering the rows: if you do not explicitly override the original variable, the original data stays intact."
   ]
  }
 ],
 "metadata": {
  "kernelspec": {
   "display_name": "Python 3 (ipykernel)",
   "language": "python",
   "name": "python3"
  },
  "language_info": {
   "codemirror_mode": {
    "name": "ipython",
    "version": 3
   },
   "file_extension": ".py",
   "mimetype": "text/x-python",
   "name": "python",
   "nbconvert_exporter": "python",
   "pygments_lexer": "ipython3",
   "version": "3.10.14"
  },
  "toc": {
   "base_numbering": 1,
   "nav_menu": {},
   "number_sections": false,
   "sideBar": true,
   "skip_h1_title": false,
   "title_cell": "Table of Contents",
   "title_sidebar": "Contents",
   "toc_cell": false,
   "toc_position": {
    "height": "calc(100% - 180px)",
    "left": "10px",
    "top": "150px",
    "width": "192.188px"
   },
   "toc_section_display": true,
   "toc_window_display": true
  }
 },
 "nbformat": 4,
 "nbformat_minor": 5
}
