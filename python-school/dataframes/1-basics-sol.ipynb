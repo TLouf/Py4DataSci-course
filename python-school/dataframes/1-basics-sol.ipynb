{
 "cells": [
  {
   "cell_type": "markdown",
   "id": "d1fa173c",
   "metadata": {},
   "source": [
    "# The basics "
   ]
  },
  {
   "cell_type": "markdown",
   "id": "5b8b91e6",
   "metadata": {},
   "source": [
    "## Introduction\n",
    "\n",
    "Python gives powerful tools for data analysis - among the main ones we find [Polars](https://www.pola.rs/), which gives fast and flexible data structures, especially for interactive data analysis.\n",
    "\n",
    "In this first part of the tutorial we will see:\n",
    "\n",
    "* filtering and transformation operations on Polars dataframes\n",
    "* plotting with MatPlotLib\n",
    "* Examples with AstroPi dataset\n",
    "* Exercises with  meteotrentino and other datasets"
   ]
  },
  {
   "cell_type": "markdown",
   "id": "a0d70b73",
   "metadata": {},
   "source": [
    "## Check installation\n",
    "\n",
    "First let's see if you have already installed Polars on your system, try executing this cell with `Ctrl Enter`:"
   ]
  },
  {
   "cell_type": "code",
   "execution_count": 94,
   "id": "8a2deaa1",
   "metadata": {},
   "outputs": [],
   "source": [
    "import polars as pl"
   ]
  },
  {
   "cell_type": "markdown",
   "id": "311d4730",
   "metadata": {},
   "source": [
    "\n",
    "If you saw no error messages, you can skip installation, otherwise do this:\n",
    "\n",
    "* Anaconda - open Anaconda Prompt and issue this:\n",
    "\n",
    "`conda install polars`\n",
    "\n",
    "* Without Anaconda (`--user` installs in your home):\n",
    "\n",
    "`python3 -m pip install --user polars`"
   ]
  },
  {
   "cell_type": "markdown",
   "id": "aff29c1d",
   "metadata": {},
   "source": [
    "## A dataframe?"
   ]
  },
  {
   "cell_type": "markdown",
   "id": "27fe412c",
   "metadata": {},
   "source": [
    "A dataframe is basically a table, that is a collection of columns, also called `Series`, which all contain the same number of cells -- meaning they're all of the same height. Generally, each row can be thought of as corresponding to one unit of study (one measurement, one individual, one geographical area, you name it), while columnn correspond to a specific attribute, or variable (name, size, age, description, creation date...). \n",
    "\n",
    "![](img/dataframe.png)\n",
    "\n",
    "In Polars, each column has a specific type (integer, string, date, but also list or dictionary!), similarly to NumPy arrays. And similarly to NumPy arrays, they can take \"null\" values in certain rows, to represent an absence of data."
   ]
  },
  {
   "cell_type": "markdown",
   "id": "0803d07a",
   "metadata": {},
   "source": [
    "But how to create one in practice? Let's start with a simple example. The concept of a DataFrame is materialised in Polars in the `DataFrame` class, which we can instantiate (create) simply as follows:"
   ]
  },
  {
   "cell_type": "code",
   "execution_count": 95,
   "id": "b8957768",
   "metadata": {},
   "outputs": [
    {
     "data": {
      "text/html": [
       "<div><style>\n",
       ".dataframe > thead > tr,\n",
       ".dataframe > tbody > tr {\n",
       "  text-align: right;\n",
       "  white-space: pre-wrap;\n",
       "}\n",
       "</style>\n",
       "<small>shape: (0, 0)</small><table border=\"1\" class=\"dataframe\"><thead><tr></tr><tr></tr></thead><tbody></tbody></table></div>"
      ],
      "text/plain": [
       "shape: (0, 0)\n",
       "┌┐\n",
       "╞╡\n",
       "└┘"
      ]
     },
     "execution_count": 95,
     "metadata": {},
     "output_type": "execute_result"
    }
   ],
   "source": [
    "pl.DataFrame()"
   ]
  },
  {
   "cell_type": "markdown",
   "id": "e830c07b",
   "metadata": {},
   "source": [
    "Not much to be seen here, because we didn't pass it any data!\n",
    "\n",
    "```{admonition} Question\n",
    "Before running the cells below, try to guess what their output will look like. What are the column names? The values in each row?\n",
    "```\n",
    "\n",
    "Let's add some data in the form of a dictionary of lists:"
   ]
  },
  {
   "cell_type": "code",
   "execution_count": 96,
   "id": "55d99d1d",
   "metadata": {
    "tags": [
     "hide-output"
    ]
   },
   "outputs": [
    {
     "data": {
      "text/html": [
       "<div><style>\n",
       ".dataframe > thead > tr,\n",
       ".dataframe > tbody > tr {\n",
       "  text-align: right;\n",
       "  white-space: pre-wrap;\n",
       "}\n",
       "</style>\n",
       "<small>shape: (2, 2)</small><table border=\"1\" class=\"dataframe\"><thead><tr><th>name</th><th>age</th></tr><tr><td>str</td><td>i64</td></tr></thead><tbody><tr><td>&quot;Alice&quot;</td><td>78</td></tr><tr><td>&quot;Bob&quot;</td><td>null</td></tr></tbody></table></div>"
      ],
      "text/plain": [
       "shape: (2, 2)\n",
       "┌───────┬──────┐\n",
       "│ name  ┆ age  │\n",
       "│ ---   ┆ ---  │\n",
       "│ str   ┆ i64  │\n",
       "╞═══════╪══════╡\n",
       "│ Alice ┆ 78   │\n",
       "│ Bob   ┆ null │\n",
       "└───────┴──────┘"
      ]
     },
     "execution_count": 96,
     "metadata": {},
     "output_type": "execute_result"
    }
   ],
   "source": [
    "df = pl.DataFrame(\n",
    "    {\n",
    "        \"name\": [\"Alice\", \"Bob\"],\n",
    "        \"age\": [78, None],\n",
    "    },\n",
    "    orient=\"col\",\n",
    ")\n",
    "df"
   ]
  },
  {
   "cell_type": "markdown",
   "id": "2fad4e9e",
   "metadata": {},
   "source": [
    "Or, equivalently, with a list of dictionaries:"
   ]
  },
  {
   "cell_type": "code",
   "execution_count": 97,
   "id": "e9b77425",
   "metadata": {
    "tags": [
     "hide-output"
    ]
   },
   "outputs": [
    {
     "data": {
      "text/html": [
       "<div><style>\n",
       ".dataframe > thead > tr,\n",
       ".dataframe > tbody > tr {\n",
       "  text-align: right;\n",
       "  white-space: pre-wrap;\n",
       "}\n",
       "</style>\n",
       "<small>shape: (2, 2)</small><table border=\"1\" class=\"dataframe\"><thead><tr><th>name</th><th>age</th></tr><tr><td>str</td><td>i64</td></tr></thead><tbody><tr><td>&quot;Alice&quot;</td><td>78</td></tr><tr><td>&quot;Bob&quot;</td><td>null</td></tr></tbody></table></div>"
      ],
      "text/plain": [
       "shape: (2, 2)\n",
       "┌───────┬──────┐\n",
       "│ name  ┆ age  │\n",
       "│ ---   ┆ ---  │\n",
       "│ str   ┆ i64  │\n",
       "╞═══════╪══════╡\n",
       "│ Alice ┆ 78   │\n",
       "│ Bob   ┆ null │\n",
       "└───────┴──────┘"
      ]
     },
     "execution_count": 97,
     "metadata": {},
     "output_type": "execute_result"
    }
   ],
   "source": [
    "df = pl.DataFrame(\n",
    "    [\n",
    "        {\"name\": \"Alice\", \"age\": 78},\n",
    "        {\"name\": \"Bob\"},\n",
    "    ],\n",
    "    orient=\"row\",\n",
    ")\n",
    "df"
   ]
  },
  {
   "cell_type": "markdown",
   "id": "f5d2e5aa",
   "metadata": {},
   "source": [
    "```{admonition} Question\n",
    "In the second case, adding the `null` entry enables Polars to comply with an important property of dataframes. Which one?\n",
    "```\n",
    "\n",
    "```{admonition} Answer\n",
    ":class: tip dropdown\n",
    "\n",
    "That columns -- or, equivalently, the rows -- should all have the same number of cells!\n",
    "```"
   ]
  },
  {
   "cell_type": "markdown",
   "id": "d51fd90f",
   "metadata": {},
   "source": [
    "## 2. Ingesting data\n",
    "\n",
    "\n",
    "In most cases, you actually want to deal with an existing dataset, that you'd like to analyse.\n",
    "For this course, let's try analyzing data recording protests from around the globe, [collected as part of the Mass Mobilization project](https://dataverse.harvard.edu/dataset.xhtml?persistentId=doi:10.7910/DVN/HTTWYL). No need to download anything, the data are already in the repository in the form of a CSV file. So let's read our data, using `pl.read_csv`:"
   ]
  },
  {
   "cell_type": "code",
   "execution_count": 98,
   "id": "e60b7bf0",
   "metadata": {},
   "outputs": [
    {
     "data": {
      "text/html": [
       "<div><style>\n",
       ".dataframe > thead > tr,\n",
       ".dataframe > tbody > tr {\n",
       "  text-align: right;\n",
       "  white-space: pre-wrap;\n",
       "}\n",
       "</style>\n",
       "<small>shape: (17_145, 30)</small><table border=\"1\" class=\"dataframe\"><thead><tr><th>id</th><th>country</th><th>ccode</th><th>year</th><th>region</th><th>protest</th><th>protestnumber</th><th>startday</th><th>startmonth</th><th>startyear</th><th>endday</th><th>endmonth</th><th>endyear</th><th>protesterviolence</th><th>location</th><th>participants_category</th><th>participants</th><th>protesteridentity</th><th>protesterdemand1</th><th>protesterdemand2</th><th>protesterdemand3</th><th>protesterdemand4</th><th>stateresponse1</th><th>stateresponse2</th><th>stateresponse3</th><th>stateresponse4</th><th>stateresponse5</th><th>stateresponse6</th><th>stateresponse7</th><th>sources</th></tr><tr><td>i64</td><td>str</td><td>i64</td><td>i64</td><td>str</td><td>i64</td><td>i64</td><td>i64</td><td>i64</td><td>i64</td><td>i64</td><td>i64</td><td>i64</td><td>i64</td><td>str</td><td>str</td><td>str</td><td>str</td><td>str</td><td>str</td><td>str</td><td>str</td><td>str</td><td>str</td><td>str</td><td>str</td><td>str</td><td>str</td><td>str</td><td>str</td></tr></thead><tbody><tr><td>201990001</td><td>&quot;Canada&quot;</td><td>20</td><td>1990</td><td>&quot;North America&quot;</td><td>1</td><td>1</td><td>15</td><td>1</td><td>1990</td><td>15</td><td>1</td><td>1990</td><td>0</td><td>&quot;national&quot;</td><td>null</td><td>&quot;1000s&quot;</td><td>&quot;unspecified&quot;</td><td>&quot;political behavior, process&quot;</td><td>&quot;labor wage dispute&quot;</td><td>null</td><td>null</td><td>&quot;ignore&quot;</td><td>null</td><td>null</td><td>null</td><td>null</td><td>null</td><td>null</td><td>&quot;1. great canadian train journe…</td></tr><tr><td>201990002</td><td>&quot;Canada&quot;</td><td>20</td><td>1990</td><td>&quot;North America&quot;</td><td>1</td><td>2</td><td>25</td><td>6</td><td>1990</td><td>25</td><td>6</td><td>1990</td><td>0</td><td>&quot;Montreal, Quebec&quot;</td><td>null</td><td>&quot;1000&quot;</td><td>&quot;unspecified&quot;</td><td>&quot;political behavior, process&quot;</td><td>null</td><td>null</td><td>null</td><td>&quot;ignore&quot;</td><td>null</td><td>null</td><td>null</td><td>null</td><td>null</td><td>null</td><td>&quot;1. autonomy s cry revived in q…</td></tr><tr><td>201990003</td><td>&quot;Canada&quot;</td><td>20</td><td>1990</td><td>&quot;North America&quot;</td><td>1</td><td>3</td><td>1</td><td>7</td><td>1990</td><td>1</td><td>7</td><td>1990</td><td>0</td><td>&quot;Montreal, Quebec&quot;</td><td>null</td><td>&quot;500&quot;</td><td>&quot;separatist parti quebecois&quot;</td><td>&quot;political behavior, process&quot;</td><td>null</td><td>null</td><td>null</td><td>&quot;ignore&quot;</td><td>null</td><td>null</td><td>null</td><td>null</td><td>null</td><td>null</td><td>&quot;1. quebec protest after queen …</td></tr><tr><td>201990004</td><td>&quot;Canada&quot;</td><td>20</td><td>1990</td><td>&quot;North America&quot;</td><td>1</td><td>4</td><td>12</td><td>7</td><td>1990</td><td>6</td><td>9</td><td>1990</td><td>1</td><td>&quot;Montreal, Quebec&quot;</td><td>null</td><td>&quot;100s&quot;</td><td>&quot;mohawk indians&quot;</td><td>&quot;land farm issue&quot;</td><td>null</td><td>null</td><td>null</td><td>&quot;accomodation&quot;</td><td>null</td><td>null</td><td>null</td><td>null</td><td>null</td><td>null</td><td>&quot;1. indians gather as siege int…</td></tr><tr><td>201990005</td><td>&quot;Canada&quot;</td><td>20</td><td>1990</td><td>&quot;North America&quot;</td><td>1</td><td>5</td><td>14</td><td>8</td><td>1990</td><td>15</td><td>8</td><td>1990</td><td>1</td><td>&quot;Montreal, Quebec&quot;</td><td>null</td><td>&quot;950&quot;</td><td>&quot;local residents&quot;</td><td>&quot;political behavior, process&quot;</td><td>null</td><td>null</td><td>null</td><td>&quot;crowd dispersal&quot;</td><td>&quot;arrests&quot;</td><td>&quot;accomodation&quot;</td><td>null</td><td>null</td><td>null</td><td>null</td><td>&quot;1. dozens hurt in mohawk block…</td></tr><tr><td>&hellip;</td><td>&hellip;</td><td>&hellip;</td><td>&hellip;</td><td>&hellip;</td><td>&hellip;</td><td>&hellip;</td><td>&hellip;</td><td>&hellip;</td><td>&hellip;</td><td>&hellip;</td><td>&hellip;</td><td>&hellip;</td><td>&hellip;</td><td>&hellip;</td><td>&hellip;</td><td>&hellip;</td><td>&hellip;</td><td>&hellip;</td><td>&hellip;</td><td>&hellip;</td><td>&hellip;</td><td>&hellip;</td><td>&hellip;</td><td>&hellip;</td><td>&hellip;</td><td>&hellip;</td><td>&hellip;</td><td>&hellip;</td><td>&hellip;</td></tr><tr><td>9102017002</td><td>&quot;Papua New Guinea&quot;</td><td>910</td><td>2017</td><td>&quot;Oceania&quot;</td><td>1</td><td>2</td><td>15</td><td>7</td><td>2017</td><td>15</td><td>7</td><td>2017</td><td>1</td><td>&quot;Mount Hagen&quot;</td><td>&quot;50-99&quot;</td><td>&quot;50+&quot;</td><td>&quot;protesters opposed to counting…</td><td>&quot;political behavior, process&quot;</td><td>null</td><td>null</td><td>null</td><td>&quot;crowd dispersal&quot;</td><td>null</td><td>null</td><td>null</td><td>null</td><td>null</td><td>null</td><td>&quot;violence, chaos and fraud: fra…</td></tr><tr><td>9102017003</td><td>&quot;Papua New Guinea&quot;</td><td>910</td><td>2017</td><td>&quot;Oceania&quot;</td><td>1</td><td>3</td><td>31</td><td>10</td><td>2017</td><td>31</td><td>10</td><td>2017</td><td>0</td><td>&quot;Lorengau&quot;</td><td>&quot;100-999&quot;</td><td>&quot;About 100&quot;</td><td>&quot;locals&quot;</td><td>&quot;political behavior, process&quot;</td><td>null</td><td>null</td><td>null</td><td>&quot;ignore&quot;</td><td>null</td><td>null</td><td>null</td><td>null</td><td>null</td><td>null</td><td>&quot;refugees dig in as camp closes…</td></tr><tr><td>9102018000</td><td>&quot;Papua New Guinea&quot;</td><td>910</td><td>2018</td><td>&quot;Oceania&quot;</td><td>0</td><td>0</td><td>null</td><td>null</td><td>null</td><td>null</td><td>null</td><td>null</td><td>null</td><td>null</td><td>null</td><td>null</td><td>null</td><td>null</td><td>null</td><td>null</td><td>null</td><td>null</td><td>null</td><td>null</td><td>null</td><td>null</td><td>null</td><td>null</td><td>null</td></tr><tr><td>9102019000</td><td>&quot;Papua New Guinea&quot;</td><td>910</td><td>2019</td><td>&quot;Oceania&quot;</td><td>0</td><td>0</td><td>null</td><td>null</td><td>null</td><td>null</td><td>null</td><td>null</td><td>null</td><td>null</td><td>null</td><td>null</td><td>null</td><td>null</td><td>null</td><td>null</td><td>&quot;.&quot;</td><td>null</td><td>null</td><td>null</td><td>null</td><td>&quot;.&quot;</td><td>null</td><td>null</td><td>null</td></tr><tr><td>9102020000</td><td>&quot;Papua New Guinea&quot;</td><td>910</td><td>2020</td><td>&quot;Oceania&quot;</td><td>0</td><td>0</td><td>null</td><td>null</td><td>null</td><td>null</td><td>null</td><td>null</td><td>null</td><td>null</td><td>null</td><td>null</td><td>null</td><td>null</td><td>null</td><td>null</td><td>null</td><td>null</td><td>null</td><td>null</td><td>null</td><td>null</td><td>null</td><td>null</td><td>null</td></tr></tbody></table></div>"
      ],
      "text/plain": [
       "shape: (17_145, 30)\n",
       "┌────────────┬─────────────┬───────┬──────┬───┬─────────────┬────────────┬────────────┬────────────┐\n",
       "│ id         ┆ country     ┆ ccode ┆ year ┆ … ┆ staterespon ┆ staterespo ┆ staterespo ┆ sources    │\n",
       "│ ---        ┆ ---         ┆ ---   ┆ ---  ┆   ┆ se5         ┆ nse6       ┆ nse7       ┆ ---        │\n",
       "│ i64        ┆ str         ┆ i64   ┆ i64  ┆   ┆ ---         ┆ ---        ┆ ---        ┆ str        │\n",
       "│            ┆             ┆       ┆      ┆   ┆ str         ┆ str        ┆ str        ┆            │\n",
       "╞════════════╪═════════════╪═══════╪══════╪═══╪═════════════╪════════════╪════════════╪════════════╡\n",
       "│ 201990001  ┆ Canada      ┆ 20    ┆ 1990 ┆ … ┆ null        ┆ null       ┆ null       ┆ 1. great   │\n",
       "│            ┆             ┆       ┆      ┆   ┆             ┆            ┆            ┆ canadian   │\n",
       "│            ┆             ┆       ┆      ┆   ┆             ┆            ┆            ┆ train      │\n",
       "│            ┆             ┆       ┆      ┆   ┆             ┆            ┆            ┆ journe…    │\n",
       "│ 201990002  ┆ Canada      ┆ 20    ┆ 1990 ┆ … ┆ null        ┆ null       ┆ null       ┆ 1.         │\n",
       "│            ┆             ┆       ┆      ┆   ┆             ┆            ┆            ┆ autonomy s │\n",
       "│            ┆             ┆       ┆      ┆   ┆             ┆            ┆            ┆ cry        │\n",
       "│            ┆             ┆       ┆      ┆   ┆             ┆            ┆            ┆ revived in │\n",
       "│            ┆             ┆       ┆      ┆   ┆             ┆            ┆            ┆ q…         │\n",
       "│ 201990003  ┆ Canada      ┆ 20    ┆ 1990 ┆ … ┆ null        ┆ null       ┆ null       ┆ 1. quebec  │\n",
       "│            ┆             ┆       ┆      ┆   ┆             ┆            ┆            ┆ protest    │\n",
       "│            ┆             ┆       ┆      ┆   ┆             ┆            ┆            ┆ after      │\n",
       "│            ┆             ┆       ┆      ┆   ┆             ┆            ┆            ┆ queen …    │\n",
       "│ 201990004  ┆ Canada      ┆ 20    ┆ 1990 ┆ … ┆ null        ┆ null       ┆ null       ┆ 1. indians │\n",
       "│            ┆             ┆       ┆      ┆   ┆             ┆            ┆            ┆ gather as  │\n",
       "│            ┆             ┆       ┆      ┆   ┆             ┆            ┆            ┆ siege int… │\n",
       "│ 201990005  ┆ Canada      ┆ 20    ┆ 1990 ┆ … ┆ null        ┆ null       ┆ null       ┆ 1. dozens  │\n",
       "│            ┆             ┆       ┆      ┆   ┆             ┆            ┆            ┆ hurt in    │\n",
       "│            ┆             ┆       ┆      ┆   ┆             ┆            ┆            ┆ mohawk     │\n",
       "│            ┆             ┆       ┆      ┆   ┆             ┆            ┆            ┆ block…     │\n",
       "│ …          ┆ …           ┆ …     ┆ …    ┆ … ┆ …           ┆ …          ┆ …          ┆ …          │\n",
       "│ 9102017002 ┆ Papua New   ┆ 910   ┆ 2017 ┆ … ┆ null        ┆ null       ┆ null       ┆ violence,  │\n",
       "│            ┆ Guinea      ┆       ┆      ┆   ┆             ┆            ┆            ┆ chaos and  │\n",
       "│            ┆             ┆       ┆      ┆   ┆             ┆            ┆            ┆ fraud:     │\n",
       "│            ┆             ┆       ┆      ┆   ┆             ┆            ┆            ┆ fra…       │\n",
       "│ 9102017003 ┆ Papua New   ┆ 910   ┆ 2017 ┆ … ┆ null        ┆ null       ┆ null       ┆ refugees   │\n",
       "│            ┆ Guinea      ┆       ┆      ┆   ┆             ┆            ┆            ┆ dig in as  │\n",
       "│            ┆             ┆       ┆      ┆   ┆             ┆            ┆            ┆ camp       │\n",
       "│            ┆             ┆       ┆      ┆   ┆             ┆            ┆            ┆ closes…    │\n",
       "│ 9102018000 ┆ Papua New   ┆ 910   ┆ 2018 ┆ … ┆ null        ┆ null       ┆ null       ┆ null       │\n",
       "│            ┆ Guinea      ┆       ┆      ┆   ┆             ┆            ┆            ┆            │\n",
       "│ 9102019000 ┆ Papua New   ┆ 910   ┆ 2019 ┆ … ┆ .           ┆ null       ┆ null       ┆ null       │\n",
       "│            ┆ Guinea      ┆       ┆      ┆   ┆             ┆            ┆            ┆            │\n",
       "│ 9102020000 ┆ Papua New   ┆ 910   ┆ 2020 ┆ … ┆ null        ┆ null       ┆ null       ┆ null       │\n",
       "│            ┆ Guinea      ┆       ┆      ┆   ┆             ┆            ┆            ┆            │\n",
       "└────────────┴─────────────┴───────┴──────┴───┴─────────────┴────────────┴────────────┴────────────┘"
      ]
     },
     "execution_count": 98,
     "metadata": {},
     "output_type": "execute_result"
    }
   ],
   "source": [
    "protests = pl.read_csv(\"data/protests.csv\")\n",
    "protests"
   ]
  },
  {
   "cell_type": "markdown",
   "id": "345df9c6",
   "metadata": {},
   "source": [
    "Here it is!\n",
    "\n",
    "Note that here, we dealt with a simple, well-formatted file. In the wild (aka, \"the Internet\"), you will not always meet such well-behaved data though. In that case you'll probably need to specify one of the (many) arguments of `read_csv` that you can see below:"
   ]
  },
  {
   "cell_type": "code",
   "execution_count": 105,
   "id": "9dee4f1f",
   "metadata": {},
   "outputs": [
    {
     "name": "stdout",
     "output_type": "stream",
     "text": [
      "\u001b[0;31mSignature:\u001b[0m\n",
      "\u001b[0mpl\u001b[0m\u001b[0;34m.\u001b[0m\u001b[0mread_csv\u001b[0m\u001b[0;34m(\u001b[0m\u001b[0;34m\u001b[0m\n",
      "\u001b[0;34m\u001b[0m    \u001b[0msource\u001b[0m\u001b[0;34m:\u001b[0m \u001b[0;34m'str | Path | IO[str] | IO[bytes] | bytes'\u001b[0m\u001b[0;34m,\u001b[0m\u001b[0;34m\u001b[0m\n",
      "\u001b[0;34m\u001b[0m    \u001b[0;34m*\u001b[0m\u001b[0;34m,\u001b[0m\u001b[0;34m\u001b[0m\n",
      "\u001b[0;34m\u001b[0m    \u001b[0mhas_header\u001b[0m\u001b[0;34m:\u001b[0m \u001b[0;34m'bool'\u001b[0m \u001b[0;34m=\u001b[0m \u001b[0;32mTrue\u001b[0m\u001b[0;34m,\u001b[0m\u001b[0;34m\u001b[0m\n",
      "\u001b[0;34m\u001b[0m    \u001b[0mcolumns\u001b[0m\u001b[0;34m:\u001b[0m \u001b[0;34m'Sequence[int] | Sequence[str] | None'\u001b[0m \u001b[0;34m=\u001b[0m \u001b[0;32mNone\u001b[0m\u001b[0;34m,\u001b[0m\u001b[0;34m\u001b[0m\n",
      "\u001b[0;34m\u001b[0m    \u001b[0mnew_columns\u001b[0m\u001b[0;34m:\u001b[0m \u001b[0;34m'Sequence[str] | None'\u001b[0m \u001b[0;34m=\u001b[0m \u001b[0;32mNone\u001b[0m\u001b[0;34m,\u001b[0m\u001b[0;34m\u001b[0m\n",
      "\u001b[0;34m\u001b[0m    \u001b[0mseparator\u001b[0m\u001b[0;34m:\u001b[0m \u001b[0;34m'str'\u001b[0m \u001b[0;34m=\u001b[0m \u001b[0;34m','\u001b[0m\u001b[0;34m,\u001b[0m\u001b[0;34m\u001b[0m\n",
      "\u001b[0;34m\u001b[0m    \u001b[0mcomment_prefix\u001b[0m\u001b[0;34m:\u001b[0m \u001b[0;34m'str | None'\u001b[0m \u001b[0;34m=\u001b[0m \u001b[0;32mNone\u001b[0m\u001b[0;34m,\u001b[0m\u001b[0;34m\u001b[0m\n",
      "\u001b[0;34m\u001b[0m    \u001b[0mquote_char\u001b[0m\u001b[0;34m:\u001b[0m \u001b[0;34m'str | None'\u001b[0m \u001b[0;34m=\u001b[0m \u001b[0;34m'\"'\u001b[0m\u001b[0;34m,\u001b[0m\u001b[0;34m\u001b[0m\n",
      "\u001b[0;34m\u001b[0m    \u001b[0mskip_rows\u001b[0m\u001b[0;34m:\u001b[0m \u001b[0;34m'int'\u001b[0m \u001b[0;34m=\u001b[0m \u001b[0;36m0\u001b[0m\u001b[0;34m,\u001b[0m\u001b[0;34m\u001b[0m\n",
      "\u001b[0;34m\u001b[0m    \u001b[0mschema\u001b[0m\u001b[0;34m:\u001b[0m \u001b[0;34m'SchemaDict | None'\u001b[0m \u001b[0;34m=\u001b[0m \u001b[0;32mNone\u001b[0m\u001b[0;34m,\u001b[0m\u001b[0;34m\u001b[0m\n",
      "\u001b[0;34m\u001b[0m    \u001b[0mschema_overrides\u001b[0m\u001b[0;34m:\u001b[0m \u001b[0;34m'Mapping[str, PolarsDataType] | Sequence[PolarsDataType] | None'\u001b[0m \u001b[0;34m=\u001b[0m \u001b[0;32mNone\u001b[0m\u001b[0;34m,\u001b[0m\u001b[0;34m\u001b[0m\n",
      "\u001b[0;34m\u001b[0m    \u001b[0mnull_values\u001b[0m\u001b[0;34m:\u001b[0m \u001b[0;34m'str | Sequence[str] | dict[str, str] | None'\u001b[0m \u001b[0;34m=\u001b[0m \u001b[0;32mNone\u001b[0m\u001b[0;34m,\u001b[0m\u001b[0;34m\u001b[0m\n",
      "\u001b[0;34m\u001b[0m    \u001b[0mmissing_utf8_is_empty_string\u001b[0m\u001b[0;34m:\u001b[0m \u001b[0;34m'bool'\u001b[0m \u001b[0;34m=\u001b[0m \u001b[0;32mFalse\u001b[0m\u001b[0;34m,\u001b[0m\u001b[0;34m\u001b[0m\n",
      "\u001b[0;34m\u001b[0m    \u001b[0mignore_errors\u001b[0m\u001b[0;34m:\u001b[0m \u001b[0;34m'bool'\u001b[0m \u001b[0;34m=\u001b[0m \u001b[0;32mFalse\u001b[0m\u001b[0;34m,\u001b[0m\u001b[0;34m\u001b[0m\n",
      "\u001b[0;34m\u001b[0m    \u001b[0mtry_parse_dates\u001b[0m\u001b[0;34m:\u001b[0m \u001b[0;34m'bool'\u001b[0m \u001b[0;34m=\u001b[0m \u001b[0;32mFalse\u001b[0m\u001b[0;34m,\u001b[0m\u001b[0;34m\u001b[0m\n",
      "\u001b[0;34m\u001b[0m    \u001b[0mn_threads\u001b[0m\u001b[0;34m:\u001b[0m \u001b[0;34m'int | None'\u001b[0m \u001b[0;34m=\u001b[0m \u001b[0;32mNone\u001b[0m\u001b[0;34m,\u001b[0m\u001b[0;34m\u001b[0m\n",
      "\u001b[0;34m\u001b[0m    \u001b[0minfer_schema_length\u001b[0m\u001b[0;34m:\u001b[0m \u001b[0;34m'int | None'\u001b[0m \u001b[0;34m=\u001b[0m \u001b[0;36m100\u001b[0m\u001b[0;34m,\u001b[0m\u001b[0;34m\u001b[0m\n",
      "\u001b[0;34m\u001b[0m    \u001b[0mbatch_size\u001b[0m\u001b[0;34m:\u001b[0m \u001b[0;34m'int'\u001b[0m \u001b[0;34m=\u001b[0m \u001b[0;36m8192\u001b[0m\u001b[0;34m,\u001b[0m\u001b[0;34m\u001b[0m\n",
      "\u001b[0;34m\u001b[0m    \u001b[0mn_rows\u001b[0m\u001b[0;34m:\u001b[0m \u001b[0;34m'int | None'\u001b[0m \u001b[0;34m=\u001b[0m \u001b[0;32mNone\u001b[0m\u001b[0;34m,\u001b[0m\u001b[0;34m\u001b[0m\n",
      "\u001b[0;34m\u001b[0m    \u001b[0mencoding\u001b[0m\u001b[0;34m:\u001b[0m \u001b[0;34m'CsvEncoding | str'\u001b[0m \u001b[0;34m=\u001b[0m \u001b[0;34m'utf8'\u001b[0m\u001b[0;34m,\u001b[0m\u001b[0;34m\u001b[0m\n",
      "\u001b[0;34m\u001b[0m    \u001b[0mlow_memory\u001b[0m\u001b[0;34m:\u001b[0m \u001b[0;34m'bool'\u001b[0m \u001b[0;34m=\u001b[0m \u001b[0;32mFalse\u001b[0m\u001b[0;34m,\u001b[0m\u001b[0;34m\u001b[0m\n",
      "\u001b[0;34m\u001b[0m    \u001b[0mrechunk\u001b[0m\u001b[0;34m:\u001b[0m \u001b[0;34m'bool'\u001b[0m \u001b[0;34m=\u001b[0m \u001b[0;32mFalse\u001b[0m\u001b[0;34m,\u001b[0m\u001b[0;34m\u001b[0m\n",
      "\u001b[0;34m\u001b[0m    \u001b[0muse_pyarrow\u001b[0m\u001b[0;34m:\u001b[0m \u001b[0;34m'bool'\u001b[0m \u001b[0;34m=\u001b[0m \u001b[0;32mFalse\u001b[0m\u001b[0;34m,\u001b[0m\u001b[0;34m\u001b[0m\n",
      "\u001b[0;34m\u001b[0m    \u001b[0mstorage_options\u001b[0m\u001b[0;34m:\u001b[0m \u001b[0;34m'dict[str, Any] | None'\u001b[0m \u001b[0;34m=\u001b[0m \u001b[0;32mNone\u001b[0m\u001b[0;34m,\u001b[0m\u001b[0;34m\u001b[0m\n",
      "\u001b[0;34m\u001b[0m    \u001b[0mskip_rows_after_header\u001b[0m\u001b[0;34m:\u001b[0m \u001b[0;34m'int'\u001b[0m \u001b[0;34m=\u001b[0m \u001b[0;36m0\u001b[0m\u001b[0;34m,\u001b[0m\u001b[0;34m\u001b[0m\n",
      "\u001b[0;34m\u001b[0m    \u001b[0mrow_index_name\u001b[0m\u001b[0;34m:\u001b[0m \u001b[0;34m'str | None'\u001b[0m \u001b[0;34m=\u001b[0m \u001b[0;32mNone\u001b[0m\u001b[0;34m,\u001b[0m\u001b[0;34m\u001b[0m\n",
      "\u001b[0;34m\u001b[0m    \u001b[0mrow_index_offset\u001b[0m\u001b[0;34m:\u001b[0m \u001b[0;34m'int'\u001b[0m \u001b[0;34m=\u001b[0m \u001b[0;36m0\u001b[0m\u001b[0;34m,\u001b[0m\u001b[0;34m\u001b[0m\n",
      "\u001b[0;34m\u001b[0m    \u001b[0msample_size\u001b[0m\u001b[0;34m:\u001b[0m \u001b[0;34m'int'\u001b[0m \u001b[0;34m=\u001b[0m \u001b[0;36m1024\u001b[0m\u001b[0;34m,\u001b[0m\u001b[0;34m\u001b[0m\n",
      "\u001b[0;34m\u001b[0m    \u001b[0meol_char\u001b[0m\u001b[0;34m:\u001b[0m \u001b[0;34m'str'\u001b[0m \u001b[0;34m=\u001b[0m \u001b[0;34m'\\n'\u001b[0m\u001b[0;34m,\u001b[0m\u001b[0;34m\u001b[0m\n",
      "\u001b[0;34m\u001b[0m    \u001b[0mraise_if_empty\u001b[0m\u001b[0;34m:\u001b[0m \u001b[0;34m'bool'\u001b[0m \u001b[0;34m=\u001b[0m \u001b[0;32mTrue\u001b[0m\u001b[0;34m,\u001b[0m\u001b[0;34m\u001b[0m\n",
      "\u001b[0;34m\u001b[0m    \u001b[0mtruncate_ragged_lines\u001b[0m\u001b[0;34m:\u001b[0m \u001b[0;34m'bool'\u001b[0m \u001b[0;34m=\u001b[0m \u001b[0;32mFalse\u001b[0m\u001b[0;34m,\u001b[0m\u001b[0;34m\u001b[0m\n",
      "\u001b[0;34m\u001b[0m    \u001b[0mdecimal_comma\u001b[0m\u001b[0;34m:\u001b[0m \u001b[0;34m'bool'\u001b[0m \u001b[0;34m=\u001b[0m \u001b[0;32mFalse\u001b[0m\u001b[0;34m,\u001b[0m\u001b[0;34m\u001b[0m\n",
      "\u001b[0;34m\u001b[0m    \u001b[0mglob\u001b[0m\u001b[0;34m:\u001b[0m \u001b[0;34m'bool'\u001b[0m \u001b[0;34m=\u001b[0m \u001b[0;32mTrue\u001b[0m\u001b[0;34m,\u001b[0m\u001b[0;34m\u001b[0m\n",
      "\u001b[0;34m\u001b[0m\u001b[0;34m)\u001b[0m \u001b[0;34m->\u001b[0m \u001b[0;34m'DataFrame'\u001b[0m\u001b[0;34m\u001b[0m\u001b[0;34m\u001b[0m\u001b[0m\n",
      "\u001b[0;31mDocstring:\u001b[0m\n",
      "Read a CSV file into a DataFrame.\n",
      "\n",
      "Parameters\n",
      "----------\n",
      "source\n",
      "    Path to a file or a file-like object (by \"file-like object\" we refer to objects\n",
      "    that have a `read()` method, such as a file handler like the builtin `open`\n",
      "    function, or a `BytesIO` instance). If `fsspec` is installed, it will be used\n",
      "    to open remote files.\n",
      "has_header\n",
      "    Indicate if the first row of the dataset is a header or not. If set to False,\n",
      "    column names will be autogenerated in the following format: `column_x`, with\n",
      "    `x` being an enumeration over every column in the dataset, starting at 1.\n",
      "columns\n",
      "    Columns to select. Accepts a list of column indices (starting\n",
      "    at zero) or a list of column names.\n",
      "new_columns\n",
      "    Rename columns right after parsing the CSV file. If the given\n",
      "    list is shorter than the width of the DataFrame the remaining\n",
      "    columns will have their original name.\n",
      "separator\n",
      "    Single byte character to use as separator in the file.\n",
      "comment_prefix\n",
      "    A string used to indicate the start of a comment line. Comment lines are skipped\n",
      "    during parsing. Common examples of comment prefixes are `#` and `//`.\n",
      "quote_char\n",
      "    Single byte character used for csv quoting, default = `\"`.\n",
      "    Set to None to turn off special handling and escaping of quotes.\n",
      "skip_rows\n",
      "    Start reading after `skip_rows` lines.\n",
      "schema\n",
      "    Provide the schema. This means that polars doesn't do schema inference.\n",
      "    This argument expects the complete schema, whereas `schema_overrides` can be\n",
      "    used to partially overwrite a schema.\n",
      "schema_overrides\n",
      "    Overwrite dtypes for specific or all columns during schema inference.\n",
      "null_values\n",
      "    Values to interpret as null values. You can provide a:\n",
      "\n",
      "    - `str`: All values equal to this string will be null.\n",
      "    - `List[str]`: All values equal to any string in this list will be null.\n",
      "    - `Dict[str, str]`: A dictionary that maps column name to a\n",
      "      null value string.\n",
      "\n",
      "missing_utf8_is_empty_string\n",
      "    By default a missing value is considered to be null; if you would prefer missing\n",
      "    utf8 values to be treated as the empty string you can set this param True.\n",
      "ignore_errors\n",
      "    Try to keep reading lines if some lines yield errors.\n",
      "    Before using this option, try to increase the number of lines used for schema\n",
      "    inference with e.g `infer_schema_length=10000` or override automatic dtype\n",
      "    inference for specific columns with the `schema_overrides` option or use\n",
      "    `infer_schema_length=0` to read all columns as `pl.String` to check which\n",
      "    values might cause an issue.\n",
      "try_parse_dates\n",
      "    Try to automatically parse dates. Most ISO8601-like formats can\n",
      "    be inferred, as well as a handful of others. If this does not succeed,\n",
      "    the column remains of data type `pl.String`.\n",
      "    If `use_pyarrow=True`, dates will always be parsed.\n",
      "n_threads\n",
      "    Number of threads to use in csv parsing.\n",
      "    Defaults to the number of physical cpu's of your system.\n",
      "infer_schema_length\n",
      "    The maximum number of rows to scan for schema inference.\n",
      "    If set to `0`, all columns will be read as `pl.String`.\n",
      "    If set to `None`, the full data may be scanned *(this is slow)*.\n",
      "batch_size\n",
      "    Number of lines to read into the buffer at once.\n",
      "    Modify this to change performance.\n",
      "n_rows\n",
      "    Stop reading from CSV file after reading `n_rows`.\n",
      "    During multi-threaded parsing, an upper bound of `n_rows`\n",
      "    rows cannot be guaranteed.\n",
      "encoding : {'utf8', 'utf8-lossy', ...}\n",
      "    Lossy means that invalid utf8 values are replaced with `�`\n",
      "    characters. When using other encodings than `utf8` or\n",
      "    `utf8-lossy`, the input is first decoded in memory with\n",
      "    python. Defaults to `utf8`.\n",
      "low_memory\n",
      "    Reduce memory pressure at the expense of performance.\n",
      "rechunk\n",
      "    Make sure that all columns are contiguous in memory by\n",
      "    aggregating the chunks into a single array.\n",
      "use_pyarrow\n",
      "    Try to use pyarrow's native CSV parser. This will always\n",
      "    parse dates, even if `try_parse_dates=False`.\n",
      "    This is not always possible. The set of arguments given to\n",
      "    this function determines if it is possible to use pyarrow's\n",
      "    native parser. Note that pyarrow and polars may have a\n",
      "    different strategy regarding type inference.\n",
      "storage_options\n",
      "    Extra options that make sense for `fsspec.open()` or a\n",
      "    particular storage connection.\n",
      "    e.g. host, port, username, password, etc.\n",
      "skip_rows_after_header\n",
      "    Skip this number of rows when the header is parsed.\n",
      "row_index_name\n",
      "    Insert a row index column with the given name into the DataFrame as the first\n",
      "    column. If set to `None` (default), no row index column is created.\n",
      "row_index_offset\n",
      "    Start the row index at this offset. Cannot be negative.\n",
      "    Only used if `row_index_name` is set.\n",
      "sample_size\n",
      "    Set the sample size. This is used to sample statistics to estimate the\n",
      "    allocation needed.\n",
      "eol_char\n",
      "    Single byte end of line character (default: `\\n`). When encountering a file\n",
      "    with windows line endings (`\\r\\n`), one can go with the default `\\n`. The extra\n",
      "    `\\r` will be removed when processed.\n",
      "raise_if_empty\n",
      "    When there is no data in the source,`NoDataError` is raised. If this parameter\n",
      "    is set to False, an empty DataFrame (with no columns) is returned instead.\n",
      "truncate_ragged_lines\n",
      "    Truncate lines that are longer than the schema.\n",
      "decimal_comma\n",
      "    Parse floats using a comma as the decimal separator instead of a period.\n",
      "glob\n",
      "    Expand path given via globbing rules.\n",
      "\n",
      "Returns\n",
      "-------\n",
      "DataFrame\n",
      "\n",
      "See Also\n",
      "--------\n",
      "scan_csv : Lazily read from a CSV file or multiple files via glob patterns.\n",
      "\n",
      "Notes\n",
      "-----\n",
      "If the schema is inferred incorrectly (e.g. as `pl.Int64` instead of `pl.Float64`),\n",
      "try to increase the number of lines used to infer the schema with\n",
      "`infer_schema_length` or override the inferred dtype for those columns with\n",
      "`schema_overrides`.\n",
      "\n",
      "This operation defaults to a `rechunk` operation at the end, meaning that all data\n",
      "will be stored continuously in memory. Set `rechunk=False` if you are benchmarking\n",
      "the csv-reader. A `rechunk` is an expensive operation.\n",
      "\n",
      "Examples\n",
      "--------\n",
      ">>> pl.read_csv(\"data.csv\", separator=\"|\")  # doctest: +SKIP\n",
      "\n",
      "Demonstrate use against a BytesIO object, parsing string dates.\n",
      "\n",
      ">>> from io import BytesIO\n",
      ">>> data = BytesIO(\n",
      "...     b\"ID,Name,Birthday\\n\"\n",
      "...     b\"1,Alice,1995-07-12\\n\"\n",
      "...     b\"2,Bob,1990-09-20\\n\"\n",
      "...     b\"3,Charlie,2002-03-08\\n\"\n",
      "... )\n",
      ">>> pl.read_csv(data, try_parse_dates=True)\n",
      "shape: (3, 3)\n",
      "┌─────┬─────────┬────────────┐\n",
      "│ ID  ┆ Name    ┆ Birthday   │\n",
      "│ --- ┆ ---     ┆ ---        │\n",
      "│ i64 ┆ str     ┆ date       │\n",
      "╞═════╪═════════╪════════════╡\n",
      "│ 1   ┆ Alice   ┆ 1995-07-12 │\n",
      "│ 2   ┆ Bob     ┆ 1990-09-20 │\n",
      "│ 3   ┆ Charlie ┆ 2002-03-08 │\n",
      "└─────┴─────────┴────────────┘\n",
      "\u001b[0;31mFile:\u001b[0m      ~/micromamba/envs/python-school/lib/python3.10/site-packages/polars/io/csv/functions.py\n",
      "\u001b[0;31mType:\u001b[0m      function"
     ]
    }
   ],
   "source": [
    "%pinfo pl.read_csv"
   ]
  },
  {
   "cell_type": "markdown",
   "id": "cbb24552",
   "metadata": {},
   "source": [
    "```{note}\n",
    "You can obtain the same output with the shortcut `pl.read_csv?`, try it! This works for any function or class, so it's extremely useful! Use it whenever you forget the arguments of a function. This is what is called an [IPython magic command](https://ipython.readthedocs.io/en/stable/interactive/magics.html), recognisable by the starting `%`. You may use them in an IPython session or Jupyter cell, but not in the basic Python interpreter (when you call `python`)!\n",
    "```"
   ]
  },
  {
   "cell_type": "markdown",
   "id": "caef30c9",
   "metadata": {},
   "source": [
    "Not all data are in CSV format (and they shouldn't, it's a very slow-to-read and heavy file format!), so Polars provides a number of other functions to ingest data. They are all in the form `pl.read_<file-format>(path)`. Symmetrically, to write from a `DataFrame` to a file, the equivalent `.write_<file-format>(path)` are available.\n",
    "\n",
    "![](img/pl_input_output.png)"
   ]
  },
  {
   "cell_type": "markdown",
   "id": "53a5d9a9",
   "metadata": {},
   "source": [
    "## Taking a glimpse"
   ]
  },
  {
   "cell_type": "markdown",
   "id": "6ec4eab9",
   "metadata": {},
   "source": [
    "The one DataFrame method you will probably use the most is `.head()`. It allows you to see the first 5 rows of the DataFrame, which is very useful to have a quick look at its current state:"
   ]
  },
  {
   "cell_type": "code",
   "execution_count": 70,
   "id": "25568534",
   "metadata": {},
   "outputs": [
    {
     "data": {
      "text/html": [
       "<div><style>\n",
       ".dataframe > thead > tr,\n",
       ".dataframe > tbody > tr {\n",
       "  text-align: right;\n",
       "  white-space: pre-wrap;\n",
       "}\n",
       "</style>\n",
       "<small>shape: (5, 33)</small><table border=\"1\" class=\"dataframe\"><thead><tr><th>id</th><th>country</th><th>ccode</th><th>year</th><th>region</th><th>protest</th><th>protestnumber</th><th>startday</th><th>startmonth</th><th>startyear</th><th>endday</th><th>endmonth</th><th>endyear</th><th>protesterviolence</th><th>location</th><th>participants_category</th><th>participants</th><th>protesteridentity</th><th>protesterdemand1</th><th>protesterdemand2</th><th>protesterdemand3</th><th>protesterdemand4</th><th>stateresponse1</th><th>stateresponse2</th><th>stateresponse3</th><th>stateresponse4</th><th>stateresponse5</th><th>stateresponse6</th><th>stateresponse7</th><th>sources</th><th>start_date</th><th>end_date</th><th>duration</th></tr><tr><td>i64</td><td>str</td><td>i64</td><td>i64</td><td>str</td><td>i64</td><td>i64</td><td>i64</td><td>i64</td><td>i64</td><td>i64</td><td>i64</td><td>i64</td><td>i64</td><td>str</td><td>str</td><td>str</td><td>str</td><td>str</td><td>str</td><td>str</td><td>str</td><td>str</td><td>str</td><td>str</td><td>str</td><td>str</td><td>str</td><td>str</td><td>str</td><td>date</td><td>date</td><td>duration[ms]</td></tr></thead><tbody><tr><td>201990001</td><td>&quot;Canada&quot;</td><td>20</td><td>1990</td><td>&quot;North America&quot;</td><td>1</td><td>1</td><td>15</td><td>1</td><td>1990</td><td>15</td><td>1</td><td>1990</td><td>0</td><td>&quot;national&quot;</td><td>null</td><td>&quot;1000s&quot;</td><td>&quot;unspecified&quot;</td><td>&quot;political behavior, process&quot;</td><td>&quot;labor wage dispute&quot;</td><td>null</td><td>null</td><td>&quot;ignore&quot;</td><td>null</td><td>null</td><td>null</td><td>null</td><td>null</td><td>null</td><td>&quot;1. great canadian train journe…</td><td>1990-01-15</td><td>1990-01-15</td><td>1d</td></tr><tr><td>201990002</td><td>&quot;Canada&quot;</td><td>20</td><td>1990</td><td>&quot;North America&quot;</td><td>1</td><td>2</td><td>25</td><td>6</td><td>1990</td><td>25</td><td>6</td><td>1990</td><td>0</td><td>&quot;Montreal, Quebec&quot;</td><td>null</td><td>&quot;1000&quot;</td><td>&quot;unspecified&quot;</td><td>&quot;political behavior, process&quot;</td><td>null</td><td>null</td><td>null</td><td>&quot;ignore&quot;</td><td>null</td><td>null</td><td>null</td><td>null</td><td>null</td><td>null</td><td>&quot;1. autonomy s cry revived in q…</td><td>1990-06-25</td><td>1990-06-25</td><td>1d</td></tr><tr><td>201990003</td><td>&quot;Canada&quot;</td><td>20</td><td>1990</td><td>&quot;North America&quot;</td><td>1</td><td>3</td><td>1</td><td>7</td><td>1990</td><td>1</td><td>7</td><td>1990</td><td>0</td><td>&quot;Montreal, Quebec&quot;</td><td>null</td><td>&quot;500&quot;</td><td>&quot;separatist parti quebecois&quot;</td><td>&quot;political behavior, process&quot;</td><td>null</td><td>null</td><td>null</td><td>&quot;ignore&quot;</td><td>null</td><td>null</td><td>null</td><td>null</td><td>null</td><td>null</td><td>&quot;1. quebec protest after queen …</td><td>1990-07-01</td><td>1990-07-01</td><td>1d</td></tr><tr><td>201990004</td><td>&quot;Canada&quot;</td><td>20</td><td>1990</td><td>&quot;North America&quot;</td><td>1</td><td>4</td><td>12</td><td>7</td><td>1990</td><td>6</td><td>9</td><td>1990</td><td>1</td><td>&quot;Montreal, Quebec&quot;</td><td>null</td><td>&quot;100s&quot;</td><td>&quot;mohawk indians&quot;</td><td>&quot;land farm issue&quot;</td><td>null</td><td>null</td><td>null</td><td>&quot;accomodation&quot;</td><td>null</td><td>null</td><td>null</td><td>null</td><td>null</td><td>null</td><td>&quot;1. indians gather as siege int…</td><td>1990-07-12</td><td>1990-09-06</td><td>57d</td></tr><tr><td>201990005</td><td>&quot;Canada&quot;</td><td>20</td><td>1990</td><td>&quot;North America&quot;</td><td>1</td><td>5</td><td>14</td><td>8</td><td>1990</td><td>15</td><td>8</td><td>1990</td><td>1</td><td>&quot;Montreal, Quebec&quot;</td><td>null</td><td>&quot;950&quot;</td><td>&quot;local residents&quot;</td><td>&quot;political behavior, process&quot;</td><td>null</td><td>null</td><td>null</td><td>&quot;crowd dispersal&quot;</td><td>&quot;arrests&quot;</td><td>&quot;accomodation&quot;</td><td>null</td><td>null</td><td>null</td><td>null</td><td>&quot;1. dozens hurt in mohawk block…</td><td>1990-08-14</td><td>1990-08-15</td><td>2d</td></tr></tbody></table></div>"
      ],
      "text/plain": [
       "shape: (5, 33)\n",
       "┌───────────┬─────────┬───────┬──────┬───┬────────────────┬────────────┬────────────┬──────────────┐\n",
       "│ id        ┆ country ┆ ccode ┆ year ┆ … ┆ sources        ┆ start_date ┆ end_date   ┆ duration     │\n",
       "│ ---       ┆ ---     ┆ ---   ┆ ---  ┆   ┆ ---            ┆ ---        ┆ ---        ┆ ---          │\n",
       "│ i64       ┆ str     ┆ i64   ┆ i64  ┆   ┆ str            ┆ date       ┆ date       ┆ duration[ms] │\n",
       "╞═══════════╪═════════╪═══════╪══════╪═══╪════════════════╪════════════╪════════════╪══════════════╡\n",
       "│ 201990001 ┆ Canada  ┆ 20    ┆ 1990 ┆ … ┆ 1. great       ┆ 1990-01-15 ┆ 1990-01-15 ┆ 1d           │\n",
       "│           ┆         ┆       ┆      ┆   ┆ canadian train ┆            ┆            ┆              │\n",
       "│           ┆         ┆       ┆      ┆   ┆ journe…        ┆            ┆            ┆              │\n",
       "│ 201990002 ┆ Canada  ┆ 20    ┆ 1990 ┆ … ┆ 1. autonomy s  ┆ 1990-06-25 ┆ 1990-06-25 ┆ 1d           │\n",
       "│           ┆         ┆       ┆      ┆   ┆ cry revived in ┆            ┆            ┆              │\n",
       "│           ┆         ┆       ┆      ┆   ┆ q…             ┆            ┆            ┆              │\n",
       "│ 201990003 ┆ Canada  ┆ 20    ┆ 1990 ┆ … ┆ 1. quebec      ┆ 1990-07-01 ┆ 1990-07-01 ┆ 1d           │\n",
       "│           ┆         ┆       ┆      ┆   ┆ protest after  ┆            ┆            ┆              │\n",
       "│           ┆         ┆       ┆      ┆   ┆ queen …        ┆            ┆            ┆              │\n",
       "│ 201990004 ┆ Canada  ┆ 20    ┆ 1990 ┆ … ┆ 1. indians     ┆ 1990-07-12 ┆ 1990-09-06 ┆ 57d          │\n",
       "│           ┆         ┆       ┆      ┆   ┆ gather as      ┆            ┆            ┆              │\n",
       "│           ┆         ┆       ┆      ┆   ┆ siege int…     ┆            ┆            ┆              │\n",
       "│ 201990005 ┆ Canada  ┆ 20    ┆ 1990 ┆ … ┆ 1. dozens hurt ┆ 1990-08-14 ┆ 1990-08-15 ┆ 2d           │\n",
       "│           ┆         ┆       ┆      ┆   ┆ in mohawk      ┆            ┆            ┆              │\n",
       "│           ┆         ┆       ┆      ┆   ┆ block…         ┆            ┆            ┆              │\n",
       "└───────────┴─────────┴───────┴──────┴───┴────────────────┴────────────┴────────────┴──────────────┘"
      ]
     },
     "execution_count": 70,
     "metadata": {},
     "output_type": "execute_result"
    }
   ],
   "source": [
    "protests.head()"
   ]
  },
  {
   "cell_type": "markdown",
   "id": "0e59c7de",
   "metadata": {},
   "source": [
    "```{note}\n",
    "In the rest of the course, whenever we wish to show the result of some computation, we'll append `.head()` to these computations to limit the size of the output. Remember to remove it if you wish to get the full result!\n",
    "```\n",
    "\n",
    "Also, you can get the list of column names using the `.columns` attribute:"
   ]
  },
  {
   "cell_type": "code",
   "execution_count": 56,
   "id": "6e82ead0",
   "metadata": {},
   "outputs": [
    {
     "data": {
      "text/plain": [
       "['id',\n",
       " 'country',\n",
       " 'ccode',\n",
       " 'year',\n",
       " 'region',\n",
       " 'protest',\n",
       " 'protestnumber',\n",
       " 'startday',\n",
       " 'startmonth',\n",
       " 'startyear',\n",
       " 'endday',\n",
       " 'endmonth',\n",
       " 'endyear',\n",
       " 'protesterviolence',\n",
       " 'location',\n",
       " 'participants_category',\n",
       " 'participants',\n",
       " 'protesteridentity',\n",
       " 'protesterdemand1',\n",
       " 'protesterdemand2',\n",
       " 'protesterdemand3',\n",
       " 'protesterdemand4',\n",
       " 'stateresponse1',\n",
       " 'stateresponse2',\n",
       " 'stateresponse3',\n",
       " 'stateresponse4',\n",
       " 'stateresponse5',\n",
       " 'stateresponse6',\n",
       " 'stateresponse7',\n",
       " 'sources']"
      ]
     },
     "execution_count": 56,
     "metadata": {},
     "output_type": "execute_result"
    }
   ],
   "source": [
    "protests.columns"
   ]
  },
  {
   "cell_type": "markdown",
   "id": "845863fc",
   "metadata": {},
   "source": [
    "And the shape of the frame (number of rows and columns) using `.shape`:"
   ]
  },
  {
   "cell_type": "code",
   "execution_count": 57,
   "id": "4d7b09d5",
   "metadata": {},
   "outputs": [
    {
     "data": {
      "text/plain": [
       "(17145, 30)"
      ]
     },
     "execution_count": 57,
     "metadata": {},
     "output_type": "execute_result"
    }
   ],
   "source": [
    "protests.shape"
   ]
  },
  {
   "cell_type": "markdown",
   "id": "42ee1cec",
   "metadata": {},
   "source": [
    "Finally, you can take a quick glimpse at it, featuring the two pieces of info we got above, plus the data types and a few values with `.glimpse()`:"
   ]
  },
  {
   "cell_type": "code",
   "execution_count": 58,
   "id": "39cbd29e",
   "metadata": {},
   "outputs": [
    {
     "name": "stdout",
     "output_type": "stream",
     "text": [
      "Rows: 17145\n",
      "Columns: 30\n",
      "$ id                    <i64> 201990001, 201990002, 201990003, 201990004, 201990005, 201990006, 201991001, 201991002, 201992001, 201993001\n",
      "$ country               <str> 'Canada', 'Canada', 'Canada', 'Canada', 'Canada', 'Canada', 'Canada', 'Canada', 'Canada', 'Canada'\n",
      "$ ccode                 <i64> 20, 20, 20, 20, 20, 20, 20, 20, 20, 20\n",
      "$ year                  <i64> 1990, 1990, 1990, 1990, 1990, 1990, 1991, 1991, 1992, 1993\n",
      "$ region                <str> 'North America', 'North America', 'North America', 'North America', 'North America', 'North America', 'North America', 'North America', 'North America', 'North America'\n",
      "$ protest               <i64> 1, 1, 1, 1, 1, 1, 1, 1, 1, 1\n",
      "$ protestnumber         <i64> 1, 2, 3, 4, 5, 6, 1, 2, 1, 1\n",
      "$ startday              <i64> 15, 25, 1, 12, 14, 19, 10, 28, 4, 16\n",
      "$ startmonth            <i64> 1, 6, 7, 7, 8, 9, 9, 9, 5, 5\n",
      "$ startyear             <i64> 1990, 1990, 1990, 1990, 1990, 1990, 1991, 1991, 1992, 1993\n",
      "$ endday                <i64> 15, 25, 1, 6, 15, 19, 17, 2, 5, 16\n",
      "$ endmonth              <i64> 1, 6, 7, 9, 8, 9, 9, 10, 5, 5\n",
      "$ endyear               <i64> 1990, 1990, 1990, 1990, 1990, 1990, 1991, 1991, 1992, 1993\n",
      "$ protesterviolence     <i64> 0, 0, 0, 1, 1, 0, 0, 0, 1, 0\n",
      "$ location              <str> 'national', 'Montreal, Quebec', 'Montreal, Quebec', 'Montreal, Quebec', 'Montreal, Quebec', 'Kahnawake Reservation near Montreal, Quebec', 'national', 'national', 'Toronto', 'Ottawa'\n",
      "$ participants_category <str> None, None, None, None, None, None, None, None, None, None\n",
      "$ participants          <str> '1000s', '1000', '500', '100s', '950', '200', '110000', '110000', '1000', '10000s'\n",
      "$ protesteridentity     <str> 'unspecified', 'unspecified', 'separatist parti quebecois', 'mohawk indians', 'local residents', 'mohawk indians', 'public service alliance of canada', 'public service alliance of canada', 'gangs of black and white youths', 'unspecified'\n",
      "$ protesterdemand1      <str> 'political behavior, process', 'political behavior, process', 'political behavior, process', 'land farm issue', 'political behavior, process', 'police brutality', 'labor wage dispute', 'labor wage dispute', 'police brutality', 'political behavior, process'\n",
      "$ protesterdemand2      <str> 'labor wage dispute', None, None, None, None, None, None, None, None, None\n",
      "$ protesterdemand3      <str> None, None, None, None, None, None, None, None, None, None\n",
      "$ protesterdemand4      <str> None, None, None, None, None, None, None, None, None, None\n",
      "$ stateresponse1        <str> 'ignore', 'ignore', 'ignore', 'accomodation', 'crowd dispersal', 'crowd dispersal', 'ignore', 'ignore', 'arrests', 'ignore'\n",
      "$ stateresponse2        <str> None, None, None, None, 'arrests', 'shootings', None, None, None, None\n",
      "$ stateresponse3        <str> None, None, None, None, 'accomodation', None, None, None, None, None\n",
      "$ stateresponse4        <str> None, None, None, None, None, None, None, None, None, None\n",
      "$ stateresponse5        <str> None, None, None, None, None, None, None, None, None, None\n",
      "$ stateresponse6        <str> None, None, None, None, None, None, None, None, None, None\n",
      "$ stateresponse7        <str> None, None, None, None, None, None, None, None, None, None\n",
      "$ sources               <str> '1. great canadian train journeys into history; passenger rail system cut the times london , january 16 1990, tuesday, issue 63604., 427 words, from john best, ottawa;', '1. autonomy s cry revived in quebec the new york times, june 25, 1990, monday, late edition final, section a; page 3, column 4; foreign desk, 1014 words, by alessandra stanley, special to the new york times;', '1. quebec protest after queen calls for unity the times, july 2, 1990, monday, overseas news, 703 words, from john best in ottawa 2. in canada, royal rejection ; quebecois protesters turn out for queen elizabeth s visit the washington post, july 2, 1990, monday, final edition, style; page b1, 633 words, william claiborne, washington post foreign service;', '1. indians gather as siege intensifies; armed confrontation in canada reflects growing militancy the washington post, july 19, 1990, thursday, final edition, first section; page a25, 1330 words, william claiborne, washington post foreign service 2. canada to acquire site of mohawk land dispute the washington post, july 20, 1990, friday, final edition, first section; page a13, 824 words, william claiborne, washington post foreign service 3. mohawks, army still at standoff; bridge to montreal reopens to traffic the washington post, september 7, 1990, friday, final edition, first section; page a17, 1199 words, william claiborne, washington post foreign service;', '1. dozens hurt in mohawk blockade protest the times, august 14, 1990, tuesday, overseas news, 254 words, from john best in ottawa 2. canadians clash with police near a mohawk reservation the new york times, august 15, 1990, wednesday, late edition final, section a; page 16, column 6; foreign desk, 165 words, reuters;', '1. mohawks tear gassed in clash the washington post, september 19, 1990, wednesday, final edition, first section; page a17, 172 words, washington post foreign service;', '1. mulroney acts to crush strike by federal workers the new york times, september 17, 1991, tuesday, late edition final, section a; page 6; column 4; foreign desk, 761 words, by clyde h. farnsworth, special to the new york times 2. canadian strike to end but talks to go on the new york times, september 18, 1991, wednesday, late edition final, section a; page 9; column 2; foreign desk, 188 words, ap;', '1. the washington post, canada seeks to compel end of nationwide federal strike, william claiborne, washington post foreign service, october 1, 1991, tuesday, final edition, first section; page a15, 342 words;', '1. window smashing and looting spree erupts in toronto the new york times, may 5, 1992, tuesday, late edition final, section a; page 3; column 1; foreign desk 2. toronto rioters pelt police the times, may 6, 1992, wednesday, overseas news, 243 words, from john best in ottawa 3. the washington post, toronto debates causes of 2 days of violence; normally peaceful city shaken by gangs, william claiborne, washington post foreign service, may 7, 1992, thursday, final edition, first section; page a27, 685 word;', '1. canadians protest trade pact the new york times, may 16, 1993, sunday, late edition final, section 1; page 7; column 1; foreign desk, 50 words, reuters;'\n",
      "\n"
     ]
    }
   ],
   "source": [
    "protests.glimpse()"
   ]
  },
  {
   "cell_type": "markdown",
   "id": "8c473ae7",
   "metadata": {},
   "source": [
    "## 6. Operations on columns\n",
    "\n",
    "Let's see now how to select, add and transform columns.\n",
    "\n",
    "### 6.1 Selecting columns\n",
    "\n",
    "If we want a subset of columns, we pass the name of each column to `.select()`:"
   ]
  },
  {
   "cell_type": "code",
   "execution_count": 59,
   "id": "1b753800",
   "metadata": {},
   "outputs": [
    {
     "data": {
      "text/html": [
       "<div><style>\n",
       ".dataframe > thead > tr,\n",
       ".dataframe > tbody > tr {\n",
       "  text-align: right;\n",
       "  white-space: pre-wrap;\n",
       "}\n",
       "</style>\n",
       "<small>shape: (17_145, 3)</small><table border=\"1\" class=\"dataframe\"><thead><tr><th>id</th><th>country</th><th>year</th></tr><tr><td>i64</td><td>str</td><td>i64</td></tr></thead><tbody><tr><td>201990001</td><td>&quot;Canada&quot;</td><td>1990</td></tr><tr><td>201990002</td><td>&quot;Canada&quot;</td><td>1990</td></tr><tr><td>201990003</td><td>&quot;Canada&quot;</td><td>1990</td></tr><tr><td>201990004</td><td>&quot;Canada&quot;</td><td>1990</td></tr><tr><td>201990005</td><td>&quot;Canada&quot;</td><td>1990</td></tr><tr><td>&hellip;</td><td>&hellip;</td><td>&hellip;</td></tr><tr><td>9102017002</td><td>&quot;Papua New Guinea&quot;</td><td>2017</td></tr><tr><td>9102017003</td><td>&quot;Papua New Guinea&quot;</td><td>2017</td></tr><tr><td>9102018000</td><td>&quot;Papua New Guinea&quot;</td><td>2018</td></tr><tr><td>9102019000</td><td>&quot;Papua New Guinea&quot;</td><td>2019</td></tr><tr><td>9102020000</td><td>&quot;Papua New Guinea&quot;</td><td>2020</td></tr></tbody></table></div>"
      ],
      "text/plain": [
       "shape: (17_145, 3)\n",
       "┌────────────┬──────────────────┬──────┐\n",
       "│ id         ┆ country          ┆ year │\n",
       "│ ---        ┆ ---              ┆ ---  │\n",
       "│ i64        ┆ str              ┆ i64  │\n",
       "╞════════════╪══════════════════╪══════╡\n",
       "│ 201990001  ┆ Canada           ┆ 1990 │\n",
       "│ 201990002  ┆ Canada           ┆ 1990 │\n",
       "│ 201990003  ┆ Canada           ┆ 1990 │\n",
       "│ 201990004  ┆ Canada           ┆ 1990 │\n",
       "│ 201990005  ┆ Canada           ┆ 1990 │\n",
       "│ …          ┆ …                ┆ …    │\n",
       "│ 9102017002 ┆ Papua New Guinea ┆ 2017 │\n",
       "│ 9102017003 ┆ Papua New Guinea ┆ 2017 │\n",
       "│ 9102018000 ┆ Papua New Guinea ┆ 2018 │\n",
       "│ 9102019000 ┆ Papua New Guinea ┆ 2019 │\n",
       "│ 9102020000 ┆ Papua New Guinea ┆ 2020 │\n",
       "└────────────┴──────────────────┴──────┘"
      ]
     },
     "execution_count": 59,
     "metadata": {},
     "output_type": "execute_result"
    }
   ],
   "source": [
    "protests.select('id', 'country', 'year').head()  "
   ]
  },
  {
   "cell_type": "markdown",
   "id": "88b6a64d",
   "metadata": {},
   "source": [
    "```{note}\n",
    "This does not change the original DataFrame, to save your selection, you need to assign to a new variable!\n",
    "```"
   ]
  },
  {
   "cell_type": "markdown",
   "id": "4e99652c",
   "metadata": {},
   "source": [
    "### 6.2 Selecting and modifying"
   ]
  },
  {
   "cell_type": "markdown",
   "id": "396ef547",
   "metadata": {},
   "source": [
    "Selecting columns is nice, but once they are selected, we will certainly want to do something with them, right? Like, how can we modify the values in them?\n",
    "\n",
    "But before going into that, let's see a slightly different way of selecting columns. The previous code is actually equivalent to:"
   ]
  },
  {
   "cell_type": "code",
   "execution_count": 60,
   "id": "da3d2ab6",
   "metadata": {},
   "outputs": [
    {
     "data": {
      "text/html": [
       "<div><style>\n",
       ".dataframe > thead > tr,\n",
       ".dataframe > tbody > tr {\n",
       "  text-align: right;\n",
       "  white-space: pre-wrap;\n",
       "}\n",
       "</style>\n",
       "<small>shape: (17_145, 3)</small><table border=\"1\" class=\"dataframe\"><thead><tr><th>id</th><th>country</th><th>year</th></tr><tr><td>i64</td><td>str</td><td>i64</td></tr></thead><tbody><tr><td>201990001</td><td>&quot;Canada&quot;</td><td>1990</td></tr><tr><td>201990002</td><td>&quot;Canada&quot;</td><td>1990</td></tr><tr><td>201990003</td><td>&quot;Canada&quot;</td><td>1990</td></tr><tr><td>201990004</td><td>&quot;Canada&quot;</td><td>1990</td></tr><tr><td>201990005</td><td>&quot;Canada&quot;</td><td>1990</td></tr><tr><td>&hellip;</td><td>&hellip;</td><td>&hellip;</td></tr><tr><td>9102017002</td><td>&quot;Papua New Guinea&quot;</td><td>2017</td></tr><tr><td>9102017003</td><td>&quot;Papua New Guinea&quot;</td><td>2017</td></tr><tr><td>9102018000</td><td>&quot;Papua New Guinea&quot;</td><td>2018</td></tr><tr><td>9102019000</td><td>&quot;Papua New Guinea&quot;</td><td>2019</td></tr><tr><td>9102020000</td><td>&quot;Papua New Guinea&quot;</td><td>2020</td></tr></tbody></table></div>"
      ],
      "text/plain": [
       "shape: (17_145, 3)\n",
       "┌────────────┬──────────────────┬──────┐\n",
       "│ id         ┆ country          ┆ year │\n",
       "│ ---        ┆ ---              ┆ ---  │\n",
       "│ i64        ┆ str              ┆ i64  │\n",
       "╞════════════╪══════════════════╪══════╡\n",
       "│ 201990001  ┆ Canada           ┆ 1990 │\n",
       "│ 201990002  ┆ Canada           ┆ 1990 │\n",
       "│ 201990003  ┆ Canada           ┆ 1990 │\n",
       "│ 201990004  ┆ Canada           ┆ 1990 │\n",
       "│ 201990005  ┆ Canada           ┆ 1990 │\n",
       "│ …          ┆ …                ┆ …    │\n",
       "│ 9102017002 ┆ Papua New Guinea ┆ 2017 │\n",
       "│ 9102017003 ┆ Papua New Guinea ┆ 2017 │\n",
       "│ 9102018000 ┆ Papua New Guinea ┆ 2018 │\n",
       "│ 9102019000 ┆ Papua New Guinea ┆ 2019 │\n",
       "│ 9102020000 ┆ Papua New Guinea ┆ 2020 │\n",
       "└────────────┴──────────────────┴──────┘"
      ]
     },
     "execution_count": 60,
     "metadata": {},
     "output_type": "execute_result"
    }
   ],
   "source": [
    "protests.select(pl.col(\"id\", \"country\", \"year\")).head()"
   ]
  },
  {
   "cell_type": "markdown",
   "id": "c946a10f",
   "metadata": {},
   "source": [
    "But why bother calling `pl.col()` here, and what does it even do? To answer these questions, for now let's go back to our data and the glimpse we had above. See the `protesterviolence` column, that, as far as we can see, is only filled with zeros and ones? Would be nice to check if it's actually the case, because if it is, each value in this column can probably be treated as a boolean telling us whether part of the protesters used violence.\n",
    "\n",
    "Well this can simply be done by selecting the column with `pl.col()`, and then calling the `.unique()` method on it, as follows:"
   ]
  },
  {
   "cell_type": "code",
   "execution_count": 61,
   "id": "c7774781",
   "metadata": {},
   "outputs": [
    {
     "data": {
      "text/html": [
       "<div><style>\n",
       ".dataframe > thead > tr,\n",
       ".dataframe > tbody > tr {\n",
       "  text-align: right;\n",
       "  white-space: pre-wrap;\n",
       "}\n",
       "</style>\n",
       "<small>shape: (3, 1)</small><table border=\"1\" class=\"dataframe\"><thead><tr><th>protesterviolence</th></tr><tr><td>i64</td></tr></thead><tbody><tr><td>null</td></tr><tr><td>0</td></tr><tr><td>1</td></tr></tbody></table></div>"
      ],
      "text/plain": [
       "shape: (3, 1)\n",
       "┌───────────────────┐\n",
       "│ protesterviolence │\n",
       "│ ---               │\n",
       "│ i64               │\n",
       "╞═══════════════════╡\n",
       "│ null              │\n",
       "│ 0                 │\n",
       "│ 1                 │\n",
       "└───────────────────┘"
      ]
     },
     "execution_count": 61,
     "metadata": {},
     "output_type": "execute_result"
    }
   ],
   "source": [
    "protests.select(pl.col(\"protesterviolence\").unique())"
   ]
  },
  {
   "cell_type": "markdown",
   "id": "e6244daf",
   "metadata": {},
   "source": [
    "Turns out we do only have zeros and ones, save some nulls that denote an absence of data."
   ]
  },
  {
   "cell_type": "markdown",
   "id": "2837963c",
   "metadata": {},
   "source": [
    "```{note}\n",
    "Putting zeros and ones to encode a boolean is actually a pretty common practice, you might come across this again!\n",
    "```\n",
    "\n",
    "```{note}\n",
    "It is usually better to start reading any documentation you can find about the dataset before making tests like these. In some situations though, there is no documentation, so you _have to_ make this kind of tests to validate assumptions as much as you can.\n",
    "```"
   ]
  },
  {
   "cell_type": "markdown",
   "id": "212c89ed",
   "metadata": {},
   "source": [
    "We can therefore safely transform this integer column into a boolean one, using the `.cast()` method, and (optionally) renaming it using `.alias()`:"
   ]
  },
  {
   "cell_type": "code",
   "execution_count": 62,
   "id": "a782b744",
   "metadata": {},
   "outputs": [
    {
     "data": {
      "text/html": [
       "<div><style>\n",
       ".dataframe > thead > tr,\n",
       ".dataframe > tbody > tr {\n",
       "  text-align: right;\n",
       "  white-space: pre-wrap;\n",
       "}\n",
       "</style>\n",
       "<small>shape: (17_145, 1)</small><table border=\"1\" class=\"dataframe\"><thead><tr><th>There was protester violence</th></tr><tr><td>bool</td></tr></thead><tbody><tr><td>false</td></tr><tr><td>false</td></tr><tr><td>false</td></tr><tr><td>true</td></tr><tr><td>true</td></tr><tr><td>&hellip;</td></tr><tr><td>true</td></tr><tr><td>false</td></tr><tr><td>null</td></tr><tr><td>null</td></tr><tr><td>null</td></tr></tbody></table></div>"
      ],
      "text/plain": [
       "shape: (17_145, 1)\n",
       "┌──────────────────────────────┐\n",
       "│ There was protester violence │\n",
       "│ ---                          │\n",
       "│ bool                         │\n",
       "╞══════════════════════════════╡\n",
       "│ false                        │\n",
       "│ false                        │\n",
       "│ false                        │\n",
       "│ true                         │\n",
       "│ true                         │\n",
       "│ …                            │\n",
       "│ true                         │\n",
       "│ false                        │\n",
       "│ null                         │\n",
       "│ null                         │\n",
       "│ null                         │\n",
       "└──────────────────────────────┘"
      ]
     },
     "execution_count": 62,
     "metadata": {},
     "output_type": "execute_result"
    }
   ],
   "source": [
    "protests.select(pl.col(\"protesterviolence\").cast(bool).alias(\"There was protester violence\")).head()"
   ]
  },
  {
   "cell_type": "markdown",
   "id": "28c83a88",
   "metadata": {},
   "source": [
    "````{admonition} Question\n",
    "Why does the following code have absolutely no chance of producing the desired behaviour?\n",
    "\n",
    "```python\n",
    "protests.select(\"protesterviolence\".cast(bool))\n",
    "```\n",
    "````\n",
    "\n",
    "\n",
    "```{admonition} Answer\n",
    ":class: tip dropdown\n",
    "\n",
    "Because `\"protesterviolence\"` is a string, and the `cast` method is not defined on strings. And even if it was, this string object does not hold the data inside the column, it is just a string, so no string method could ever transform the data inside the column! That's why this `pl.col()` abstraction exists: its methods allows us to access column data from the DataFrame under consideration.\n",
    "```"
   ]
  },
  {
   "cell_type": "markdown",
   "id": "fa938218",
   "metadata": {},
   "source": [
    "### 6.2 - Adding columns\n",
    "\n",
    "To keep existing columns and add new ones, the `.with_columns()` method will come in handy. Let's try to get the duration in days of all the protests in our dataset. First let's find out what columns could help us here:"
   ]
  },
  {
   "cell_type": "code",
   "execution_count": 74,
   "id": "372ee15f",
   "metadata": {},
   "outputs": [
    {
     "data": {
      "text/html": [
       "<div><style>\n",
       ".dataframe > thead > tr,\n",
       ".dataframe > tbody > tr {\n",
       "  text-align: right;\n",
       "  white-space: pre-wrap;\n",
       "}\n",
       "</style>\n",
       "<small>shape: (5, 33)</small><table border=\"1\" class=\"dataframe\"><thead><tr><th>id</th><th>country</th><th>ccode</th><th>year</th><th>region</th><th>protest</th><th>protestnumber</th><th>startday</th><th>startmonth</th><th>startyear</th><th>endday</th><th>endmonth</th><th>endyear</th><th>protesterviolence</th><th>location</th><th>participants_category</th><th>participants</th><th>protesteridentity</th><th>protesterdemand1</th><th>protesterdemand2</th><th>protesterdemand3</th><th>protesterdemand4</th><th>stateresponse1</th><th>stateresponse2</th><th>stateresponse3</th><th>stateresponse4</th><th>stateresponse5</th><th>stateresponse6</th><th>stateresponse7</th><th>sources</th><th>start_date</th><th>end_date</th><th>duration</th></tr><tr><td>i64</td><td>str</td><td>i64</td><td>i64</td><td>str</td><td>i64</td><td>i64</td><td>i64</td><td>i64</td><td>i64</td><td>i64</td><td>i64</td><td>i64</td><td>i64</td><td>str</td><td>str</td><td>str</td><td>str</td><td>str</td><td>str</td><td>str</td><td>str</td><td>str</td><td>str</td><td>str</td><td>str</td><td>str</td><td>str</td><td>str</td><td>str</td><td>date</td><td>date</td><td>duration[ms]</td></tr></thead><tbody><tr><td>201990001</td><td>&quot;Canada&quot;</td><td>20</td><td>1990</td><td>&quot;North America&quot;</td><td>1</td><td>1</td><td>15</td><td>1</td><td>1990</td><td>15</td><td>1</td><td>1990</td><td>0</td><td>&quot;national&quot;</td><td>null</td><td>&quot;1000s&quot;</td><td>&quot;unspecified&quot;</td><td>&quot;political behavior, process&quot;</td><td>&quot;labor wage dispute&quot;</td><td>null</td><td>null</td><td>&quot;ignore&quot;</td><td>null</td><td>null</td><td>null</td><td>null</td><td>null</td><td>null</td><td>&quot;1. great canadian train journe…</td><td>1990-01-15</td><td>1990-01-15</td><td>1d</td></tr><tr><td>201990002</td><td>&quot;Canada&quot;</td><td>20</td><td>1990</td><td>&quot;North America&quot;</td><td>1</td><td>2</td><td>25</td><td>6</td><td>1990</td><td>25</td><td>6</td><td>1990</td><td>0</td><td>&quot;Montreal, Quebec&quot;</td><td>null</td><td>&quot;1000&quot;</td><td>&quot;unspecified&quot;</td><td>&quot;political behavior, process&quot;</td><td>null</td><td>null</td><td>null</td><td>&quot;ignore&quot;</td><td>null</td><td>null</td><td>null</td><td>null</td><td>null</td><td>null</td><td>&quot;1. autonomy s cry revived in q…</td><td>1990-06-25</td><td>1990-06-25</td><td>1d</td></tr><tr><td>201990003</td><td>&quot;Canada&quot;</td><td>20</td><td>1990</td><td>&quot;North America&quot;</td><td>1</td><td>3</td><td>1</td><td>7</td><td>1990</td><td>1</td><td>7</td><td>1990</td><td>0</td><td>&quot;Montreal, Quebec&quot;</td><td>null</td><td>&quot;500&quot;</td><td>&quot;separatist parti quebecois&quot;</td><td>&quot;political behavior, process&quot;</td><td>null</td><td>null</td><td>null</td><td>&quot;ignore&quot;</td><td>null</td><td>null</td><td>null</td><td>null</td><td>null</td><td>null</td><td>&quot;1. quebec protest after queen …</td><td>1990-07-01</td><td>1990-07-01</td><td>1d</td></tr><tr><td>201990004</td><td>&quot;Canada&quot;</td><td>20</td><td>1990</td><td>&quot;North America&quot;</td><td>1</td><td>4</td><td>12</td><td>7</td><td>1990</td><td>6</td><td>9</td><td>1990</td><td>1</td><td>&quot;Montreal, Quebec&quot;</td><td>null</td><td>&quot;100s&quot;</td><td>&quot;mohawk indians&quot;</td><td>&quot;land farm issue&quot;</td><td>null</td><td>null</td><td>null</td><td>&quot;accomodation&quot;</td><td>null</td><td>null</td><td>null</td><td>null</td><td>null</td><td>null</td><td>&quot;1. indians gather as siege int…</td><td>1990-07-12</td><td>1990-09-06</td><td>57d</td></tr><tr><td>201990005</td><td>&quot;Canada&quot;</td><td>20</td><td>1990</td><td>&quot;North America&quot;</td><td>1</td><td>5</td><td>14</td><td>8</td><td>1990</td><td>15</td><td>8</td><td>1990</td><td>1</td><td>&quot;Montreal, Quebec&quot;</td><td>null</td><td>&quot;950&quot;</td><td>&quot;local residents&quot;</td><td>&quot;political behavior, process&quot;</td><td>null</td><td>null</td><td>null</td><td>&quot;crowd dispersal&quot;</td><td>&quot;arrests&quot;</td><td>&quot;accomodation&quot;</td><td>null</td><td>null</td><td>null</td><td>null</td><td>&quot;1. dozens hurt in mohawk block…</td><td>1990-08-14</td><td>1990-08-15</td><td>2d</td></tr></tbody></table></div>"
      ],
      "text/plain": [
       "shape: (5, 33)\n",
       "┌───────────┬─────────┬───────┬──────┬───┬────────────────┬────────────┬────────────┬──────────────┐\n",
       "│ id        ┆ country ┆ ccode ┆ year ┆ … ┆ sources        ┆ start_date ┆ end_date   ┆ duration     │\n",
       "│ ---       ┆ ---     ┆ ---   ┆ ---  ┆   ┆ ---            ┆ ---        ┆ ---        ┆ ---          │\n",
       "│ i64       ┆ str     ┆ i64   ┆ i64  ┆   ┆ str            ┆ date       ┆ date       ┆ duration[ms] │\n",
       "╞═══════════╪═════════╪═══════╪══════╪═══╪════════════════╪════════════╪════════════╪══════════════╡\n",
       "│ 201990001 ┆ Canada  ┆ 20    ┆ 1990 ┆ … ┆ 1. great       ┆ 1990-01-15 ┆ 1990-01-15 ┆ 1d           │\n",
       "│           ┆         ┆       ┆      ┆   ┆ canadian train ┆            ┆            ┆              │\n",
       "│           ┆         ┆       ┆      ┆   ┆ journe…        ┆            ┆            ┆              │\n",
       "│ 201990002 ┆ Canada  ┆ 20    ┆ 1990 ┆ … ┆ 1. autonomy s  ┆ 1990-06-25 ┆ 1990-06-25 ┆ 1d           │\n",
       "│           ┆         ┆       ┆      ┆   ┆ cry revived in ┆            ┆            ┆              │\n",
       "│           ┆         ┆       ┆      ┆   ┆ q…             ┆            ┆            ┆              │\n",
       "│ 201990003 ┆ Canada  ┆ 20    ┆ 1990 ┆ … ┆ 1. quebec      ┆ 1990-07-01 ┆ 1990-07-01 ┆ 1d           │\n",
       "│           ┆         ┆       ┆      ┆   ┆ protest after  ┆            ┆            ┆              │\n",
       "│           ┆         ┆       ┆      ┆   ┆ queen …        ┆            ┆            ┆              │\n",
       "│ 201990004 ┆ Canada  ┆ 20    ┆ 1990 ┆ … ┆ 1. indians     ┆ 1990-07-12 ┆ 1990-09-06 ┆ 57d          │\n",
       "│           ┆         ┆       ┆      ┆   ┆ gather as      ┆            ┆            ┆              │\n",
       "│           ┆         ┆       ┆      ┆   ┆ siege int…     ┆            ┆            ┆              │\n",
       "│ 201990005 ┆ Canada  ┆ 20    ┆ 1990 ┆ … ┆ 1. dozens hurt ┆ 1990-08-14 ┆ 1990-08-15 ┆ 2d           │\n",
       "│           ┆         ┆       ┆      ┆   ┆ in mohawk      ┆            ┆            ┆              │\n",
       "│           ┆         ┆       ┆      ┆   ┆ block…         ┆            ┆            ┆              │\n",
       "└───────────┴─────────┴───────┴──────┴───┴────────────────┴────────────┴────────────┴──────────────┘"
      ]
     },
     "execution_count": 74,
     "metadata": {},
     "output_type": "execute_result"
    }
   ],
   "source": [
    "protests.head()"
   ]
  },
  {
   "cell_type": "markdown",
   "id": "36e32f10",
   "metadata": {},
   "source": [
    "It does seem that the start and end day of each protest are each encoded in 3 columns of integers, respectively: `[\"startyear\", \"startmonth\", \"startday\"]`, and `[\"endyear\", \"endmonth\", \"endday\"]`. This makes it very annoying to compute the duration of protests, because for instance if a protest spans more than a month, we can't just subtract `\"endday\"` with `\"startday\"`, which are day numbers within their month. So let's first compute two new columns for the start and end date, with an actual `date` data type, which will save us a headache. Here we'll use the `pl.date()` function:"
   ]
  },
  {
   "cell_type": "code",
   "execution_count": 75,
   "id": "fb835762",
   "metadata": {},
   "outputs": [
    {
     "data": {
      "text/html": [
       "<div><style>\n",
       ".dataframe > thead > tr,\n",
       ".dataframe > tbody > tr {\n",
       "  text-align: right;\n",
       "  white-space: pre-wrap;\n",
       "}\n",
       "</style>\n",
       "<small>shape: (5, 33)</small><table border=\"1\" class=\"dataframe\"><thead><tr><th>id</th><th>country</th><th>ccode</th><th>year</th><th>region</th><th>protest</th><th>protestnumber</th><th>startday</th><th>startmonth</th><th>startyear</th><th>endday</th><th>endmonth</th><th>endyear</th><th>protesterviolence</th><th>location</th><th>participants_category</th><th>participants</th><th>protesteridentity</th><th>protesterdemand1</th><th>protesterdemand2</th><th>protesterdemand3</th><th>protesterdemand4</th><th>stateresponse1</th><th>stateresponse2</th><th>stateresponse3</th><th>stateresponse4</th><th>stateresponse5</th><th>stateresponse6</th><th>stateresponse7</th><th>sources</th><th>start_date</th><th>end_date</th><th>duration</th></tr><tr><td>i64</td><td>str</td><td>i64</td><td>i64</td><td>str</td><td>i64</td><td>i64</td><td>i64</td><td>i64</td><td>i64</td><td>i64</td><td>i64</td><td>i64</td><td>i64</td><td>str</td><td>str</td><td>str</td><td>str</td><td>str</td><td>str</td><td>str</td><td>str</td><td>str</td><td>str</td><td>str</td><td>str</td><td>str</td><td>str</td><td>str</td><td>str</td><td>date</td><td>date</td><td>duration[ms]</td></tr></thead><tbody><tr><td>201990001</td><td>&quot;Canada&quot;</td><td>20</td><td>1990</td><td>&quot;North America&quot;</td><td>1</td><td>1</td><td>15</td><td>1</td><td>1990</td><td>15</td><td>1</td><td>1990</td><td>0</td><td>&quot;national&quot;</td><td>null</td><td>&quot;1000s&quot;</td><td>&quot;unspecified&quot;</td><td>&quot;political behavior, process&quot;</td><td>&quot;labor wage dispute&quot;</td><td>null</td><td>null</td><td>&quot;ignore&quot;</td><td>null</td><td>null</td><td>null</td><td>null</td><td>null</td><td>null</td><td>&quot;1. great canadian train journe…</td><td>1990-01-15</td><td>1990-01-15</td><td>1d</td></tr><tr><td>201990002</td><td>&quot;Canada&quot;</td><td>20</td><td>1990</td><td>&quot;North America&quot;</td><td>1</td><td>2</td><td>25</td><td>6</td><td>1990</td><td>25</td><td>6</td><td>1990</td><td>0</td><td>&quot;Montreal, Quebec&quot;</td><td>null</td><td>&quot;1000&quot;</td><td>&quot;unspecified&quot;</td><td>&quot;political behavior, process&quot;</td><td>null</td><td>null</td><td>null</td><td>&quot;ignore&quot;</td><td>null</td><td>null</td><td>null</td><td>null</td><td>null</td><td>null</td><td>&quot;1. autonomy s cry revived in q…</td><td>1990-06-25</td><td>1990-06-25</td><td>1d</td></tr><tr><td>201990003</td><td>&quot;Canada&quot;</td><td>20</td><td>1990</td><td>&quot;North America&quot;</td><td>1</td><td>3</td><td>1</td><td>7</td><td>1990</td><td>1</td><td>7</td><td>1990</td><td>0</td><td>&quot;Montreal, Quebec&quot;</td><td>null</td><td>&quot;500&quot;</td><td>&quot;separatist parti quebecois&quot;</td><td>&quot;political behavior, process&quot;</td><td>null</td><td>null</td><td>null</td><td>&quot;ignore&quot;</td><td>null</td><td>null</td><td>null</td><td>null</td><td>null</td><td>null</td><td>&quot;1. quebec protest after queen …</td><td>1990-07-01</td><td>1990-07-01</td><td>1d</td></tr><tr><td>201990004</td><td>&quot;Canada&quot;</td><td>20</td><td>1990</td><td>&quot;North America&quot;</td><td>1</td><td>4</td><td>12</td><td>7</td><td>1990</td><td>6</td><td>9</td><td>1990</td><td>1</td><td>&quot;Montreal, Quebec&quot;</td><td>null</td><td>&quot;100s&quot;</td><td>&quot;mohawk indians&quot;</td><td>&quot;land farm issue&quot;</td><td>null</td><td>null</td><td>null</td><td>&quot;accomodation&quot;</td><td>null</td><td>null</td><td>null</td><td>null</td><td>null</td><td>null</td><td>&quot;1. indians gather as siege int…</td><td>1990-07-12</td><td>1990-09-06</td><td>57d</td></tr><tr><td>201990005</td><td>&quot;Canada&quot;</td><td>20</td><td>1990</td><td>&quot;North America&quot;</td><td>1</td><td>5</td><td>14</td><td>8</td><td>1990</td><td>15</td><td>8</td><td>1990</td><td>1</td><td>&quot;Montreal, Quebec&quot;</td><td>null</td><td>&quot;950&quot;</td><td>&quot;local residents&quot;</td><td>&quot;political behavior, process&quot;</td><td>null</td><td>null</td><td>null</td><td>&quot;crowd dispersal&quot;</td><td>&quot;arrests&quot;</td><td>&quot;accomodation&quot;</td><td>null</td><td>null</td><td>null</td><td>null</td><td>&quot;1. dozens hurt in mohawk block…</td><td>1990-08-14</td><td>1990-08-15</td><td>2d</td></tr></tbody></table></div>"
      ],
      "text/plain": [
       "shape: (5, 33)\n",
       "┌───────────┬─────────┬───────┬──────┬───┬────────────────┬────────────┬────────────┬──────────────┐\n",
       "│ id        ┆ country ┆ ccode ┆ year ┆ … ┆ sources        ┆ start_date ┆ end_date   ┆ duration     │\n",
       "│ ---       ┆ ---     ┆ ---   ┆ ---  ┆   ┆ ---            ┆ ---        ┆ ---        ┆ ---          │\n",
       "│ i64       ┆ str     ┆ i64   ┆ i64  ┆   ┆ str            ┆ date       ┆ date       ┆ duration[ms] │\n",
       "╞═══════════╪═════════╪═══════╪══════╪═══╪════════════════╪════════════╪════════════╪══════════════╡\n",
       "│ 201990001 ┆ Canada  ┆ 20    ┆ 1990 ┆ … ┆ 1. great       ┆ 1990-01-15 ┆ 1990-01-15 ┆ 1d           │\n",
       "│           ┆         ┆       ┆      ┆   ┆ canadian train ┆            ┆            ┆              │\n",
       "│           ┆         ┆       ┆      ┆   ┆ journe…        ┆            ┆            ┆              │\n",
       "│ 201990002 ┆ Canada  ┆ 20    ┆ 1990 ┆ … ┆ 1. autonomy s  ┆ 1990-06-25 ┆ 1990-06-25 ┆ 1d           │\n",
       "│           ┆         ┆       ┆      ┆   ┆ cry revived in ┆            ┆            ┆              │\n",
       "│           ┆         ┆       ┆      ┆   ┆ q…             ┆            ┆            ┆              │\n",
       "│ 201990003 ┆ Canada  ┆ 20    ┆ 1990 ┆ … ┆ 1. quebec      ┆ 1990-07-01 ┆ 1990-07-01 ┆ 1d           │\n",
       "│           ┆         ┆       ┆      ┆   ┆ protest after  ┆            ┆            ┆              │\n",
       "│           ┆         ┆       ┆      ┆   ┆ queen …        ┆            ┆            ┆              │\n",
       "│ 201990004 ┆ Canada  ┆ 20    ┆ 1990 ┆ … ┆ 1. indians     ┆ 1990-07-12 ┆ 1990-09-06 ┆ 57d          │\n",
       "│           ┆         ┆       ┆      ┆   ┆ gather as      ┆            ┆            ┆              │\n",
       "│           ┆         ┆       ┆      ┆   ┆ siege int…     ┆            ┆            ┆              │\n",
       "│ 201990005 ┆ Canada  ┆ 20    ┆ 1990 ┆ … ┆ 1. dozens hurt ┆ 1990-08-14 ┆ 1990-08-15 ┆ 2d           │\n",
       "│           ┆         ┆       ┆      ┆   ┆ in mohawk      ┆            ┆            ┆              │\n",
       "│           ┆         ┆       ┆      ┆   ┆ block…         ┆            ┆            ┆              │\n",
       "└───────────┴─────────┴───────┴──────┴───┴────────────────┴────────────┴────────────┴──────────────┘"
      ]
     },
     "execution_count": 75,
     "metadata": {},
     "output_type": "execute_result"
    }
   ],
   "source": [
    "protests = protests.with_columns(\n",
    "    pl.date(\"startyear\", \"startmonth\", \"startday\").alias(\"start_date\"),\n",
    "    pl.date(\"endyear\", \"endmonth\", \"endday\").alias(\"end_date\"),\n",
    ")\n",
    "protests.head()"
   ]
  },
  {
   "cell_type": "markdown",
   "id": "24e32bd5",
   "metadata": {},
   "source": [
    "And now we just have to subtract `\"start_date\"` from `\"end_date\"` to get our duration! There is one small problem though. As you can see from the result above, when a protest occurred over one day, the `start_date` and `end_date` are identical. There is a simple solution though: we can add a duration of one day to every entry by adding `pl.duration(days=1)`. That works exactly like adding a scalar to a NumPy array: the value is added to each element. "
   ]
  },
  {
   "cell_type": "code",
   "execution_count": 76,
   "id": "136d41ca",
   "metadata": {},
   "outputs": [
    {
     "data": {
      "text/html": [
       "<div><style>\n",
       ".dataframe > thead > tr,\n",
       ".dataframe > tbody > tr {\n",
       "  text-align: right;\n",
       "  white-space: pre-wrap;\n",
       "}\n",
       "</style>\n",
       "<small>shape: (5, 33)</small><table border=\"1\" class=\"dataframe\"><thead><tr><th>id</th><th>country</th><th>ccode</th><th>year</th><th>region</th><th>protest</th><th>protestnumber</th><th>startday</th><th>startmonth</th><th>startyear</th><th>endday</th><th>endmonth</th><th>endyear</th><th>protesterviolence</th><th>location</th><th>participants_category</th><th>participants</th><th>protesteridentity</th><th>protesterdemand1</th><th>protesterdemand2</th><th>protesterdemand3</th><th>protesterdemand4</th><th>stateresponse1</th><th>stateresponse2</th><th>stateresponse3</th><th>stateresponse4</th><th>stateresponse5</th><th>stateresponse6</th><th>stateresponse7</th><th>sources</th><th>start_date</th><th>end_date</th><th>duration</th></tr><tr><td>i64</td><td>str</td><td>i64</td><td>i64</td><td>str</td><td>i64</td><td>i64</td><td>i64</td><td>i64</td><td>i64</td><td>i64</td><td>i64</td><td>i64</td><td>i64</td><td>str</td><td>str</td><td>str</td><td>str</td><td>str</td><td>str</td><td>str</td><td>str</td><td>str</td><td>str</td><td>str</td><td>str</td><td>str</td><td>str</td><td>str</td><td>str</td><td>date</td><td>date</td><td>duration[ms]</td></tr></thead><tbody><tr><td>201990001</td><td>&quot;Canada&quot;</td><td>20</td><td>1990</td><td>&quot;North America&quot;</td><td>1</td><td>1</td><td>15</td><td>1</td><td>1990</td><td>15</td><td>1</td><td>1990</td><td>0</td><td>&quot;national&quot;</td><td>null</td><td>&quot;1000s&quot;</td><td>&quot;unspecified&quot;</td><td>&quot;political behavior, process&quot;</td><td>&quot;labor wage dispute&quot;</td><td>null</td><td>null</td><td>&quot;ignore&quot;</td><td>null</td><td>null</td><td>null</td><td>null</td><td>null</td><td>null</td><td>&quot;1. great canadian train journe…</td><td>1990-01-15</td><td>1990-01-15</td><td>1d</td></tr><tr><td>201990002</td><td>&quot;Canada&quot;</td><td>20</td><td>1990</td><td>&quot;North America&quot;</td><td>1</td><td>2</td><td>25</td><td>6</td><td>1990</td><td>25</td><td>6</td><td>1990</td><td>0</td><td>&quot;Montreal, Quebec&quot;</td><td>null</td><td>&quot;1000&quot;</td><td>&quot;unspecified&quot;</td><td>&quot;political behavior, process&quot;</td><td>null</td><td>null</td><td>null</td><td>&quot;ignore&quot;</td><td>null</td><td>null</td><td>null</td><td>null</td><td>null</td><td>null</td><td>&quot;1. autonomy s cry revived in q…</td><td>1990-06-25</td><td>1990-06-25</td><td>1d</td></tr><tr><td>201990003</td><td>&quot;Canada&quot;</td><td>20</td><td>1990</td><td>&quot;North America&quot;</td><td>1</td><td>3</td><td>1</td><td>7</td><td>1990</td><td>1</td><td>7</td><td>1990</td><td>0</td><td>&quot;Montreal, Quebec&quot;</td><td>null</td><td>&quot;500&quot;</td><td>&quot;separatist parti quebecois&quot;</td><td>&quot;political behavior, process&quot;</td><td>null</td><td>null</td><td>null</td><td>&quot;ignore&quot;</td><td>null</td><td>null</td><td>null</td><td>null</td><td>null</td><td>null</td><td>&quot;1. quebec protest after queen …</td><td>1990-07-01</td><td>1990-07-01</td><td>1d</td></tr><tr><td>201990004</td><td>&quot;Canada&quot;</td><td>20</td><td>1990</td><td>&quot;North America&quot;</td><td>1</td><td>4</td><td>12</td><td>7</td><td>1990</td><td>6</td><td>9</td><td>1990</td><td>1</td><td>&quot;Montreal, Quebec&quot;</td><td>null</td><td>&quot;100s&quot;</td><td>&quot;mohawk indians&quot;</td><td>&quot;land farm issue&quot;</td><td>null</td><td>null</td><td>null</td><td>&quot;accomodation&quot;</td><td>null</td><td>null</td><td>null</td><td>null</td><td>null</td><td>null</td><td>&quot;1. indians gather as siege int…</td><td>1990-07-12</td><td>1990-09-06</td><td>57d</td></tr><tr><td>201990005</td><td>&quot;Canada&quot;</td><td>20</td><td>1990</td><td>&quot;North America&quot;</td><td>1</td><td>5</td><td>14</td><td>8</td><td>1990</td><td>15</td><td>8</td><td>1990</td><td>1</td><td>&quot;Montreal, Quebec&quot;</td><td>null</td><td>&quot;950&quot;</td><td>&quot;local residents&quot;</td><td>&quot;political behavior, process&quot;</td><td>null</td><td>null</td><td>null</td><td>&quot;crowd dispersal&quot;</td><td>&quot;arrests&quot;</td><td>&quot;accomodation&quot;</td><td>null</td><td>null</td><td>null</td><td>null</td><td>&quot;1. dozens hurt in mohawk block…</td><td>1990-08-14</td><td>1990-08-15</td><td>2d</td></tr></tbody></table></div>"
      ],
      "text/plain": [
       "shape: (5, 33)\n",
       "┌───────────┬─────────┬───────┬──────┬───┬────────────────┬────────────┬────────────┬──────────────┐\n",
       "│ id        ┆ country ┆ ccode ┆ year ┆ … ┆ sources        ┆ start_date ┆ end_date   ┆ duration     │\n",
       "│ ---       ┆ ---     ┆ ---   ┆ ---  ┆   ┆ ---            ┆ ---        ┆ ---        ┆ ---          │\n",
       "│ i64       ┆ str     ┆ i64   ┆ i64  ┆   ┆ str            ┆ date       ┆ date       ┆ duration[ms] │\n",
       "╞═══════════╪═════════╪═══════╪══════╪═══╪════════════════╪════════════╪════════════╪══════════════╡\n",
       "│ 201990001 ┆ Canada  ┆ 20    ┆ 1990 ┆ … ┆ 1. great       ┆ 1990-01-15 ┆ 1990-01-15 ┆ 1d           │\n",
       "│           ┆         ┆       ┆      ┆   ┆ canadian train ┆            ┆            ┆              │\n",
       "│           ┆         ┆       ┆      ┆   ┆ journe…        ┆            ┆            ┆              │\n",
       "│ 201990002 ┆ Canada  ┆ 20    ┆ 1990 ┆ … ┆ 1. autonomy s  ┆ 1990-06-25 ┆ 1990-06-25 ┆ 1d           │\n",
       "│           ┆         ┆       ┆      ┆   ┆ cry revived in ┆            ┆            ┆              │\n",
       "│           ┆         ┆       ┆      ┆   ┆ q…             ┆            ┆            ┆              │\n",
       "│ 201990003 ┆ Canada  ┆ 20    ┆ 1990 ┆ … ┆ 1. quebec      ┆ 1990-07-01 ┆ 1990-07-01 ┆ 1d           │\n",
       "│           ┆         ┆       ┆      ┆   ┆ protest after  ┆            ┆            ┆              │\n",
       "│           ┆         ┆       ┆      ┆   ┆ queen …        ┆            ┆            ┆              │\n",
       "│ 201990004 ┆ Canada  ┆ 20    ┆ 1990 ┆ … ┆ 1. indians     ┆ 1990-07-12 ┆ 1990-09-06 ┆ 57d          │\n",
       "│           ┆         ┆       ┆      ┆   ┆ gather as      ┆            ┆            ┆              │\n",
       "│           ┆         ┆       ┆      ┆   ┆ siege int…     ┆            ┆            ┆              │\n",
       "│ 201990005 ┆ Canada  ┆ 20    ┆ 1990 ┆ … ┆ 1. dozens hurt ┆ 1990-08-14 ┆ 1990-08-15 ┆ 2d           │\n",
       "│           ┆         ┆       ┆      ┆   ┆ in mohawk      ┆            ┆            ┆              │\n",
       "│           ┆         ┆       ┆      ┆   ┆ block…         ┆            ┆            ┆              │\n",
       "└───────────┴─────────┴───────┴──────┴───┴────────────────┴────────────┴────────────┴──────────────┘"
      ]
     },
     "execution_count": 76,
     "metadata": {},
     "output_type": "execute_result"
    }
   ],
   "source": [
    "protests = protests.with_columns(\n",
    "    duration=pl.col(\"end_date\") - pl.col(\"start_date\") + pl.duration(days=1)\n",
    ")\n",
    "protests.head()"
   ]
  },
  {
   "cell_type": "markdown",
   "id": "0c474668",
   "metadata": {},
   "source": [
    "```{note}\n",
    "Here we gave our column a name through the name of the keyword argument passed to `with_columns`. This is just another way to `.alias()`.\n",
    "```"
   ]
  },
  {
   "cell_type": "markdown",
   "id": "ce171c5c",
   "metadata": {},
   "source": [
    "### 6.2.1 Exercise: Meteo temperature in Fahrenheit \n",
    "\n",
    "In `meteo` dataframe, create a column `Temp (Fahrenheit)` with the temperature measured in Fahrenheit degrees.\n",
    "\n",
    "Formula to calculate conversion from Celsius degrees (C):\n",
    "\n",
    "\n",
    "$Fahrenheit = \\frac{9}{5}C + 32$"
   ]
  },
  {
   "cell_type": "code",
   "execution_count": null,
   "id": "80765a54",
   "metadata": {},
   "outputs": [],
   "source": [
    "# write here\n",
    "\n"
   ]
  },
  {
   "cell_type": "code",
   "execution_count": null,
   "id": "6e4d82bc",
   "metadata": {},
   "outputs": [
    {
     "name": "stdout",
     "output_type": "stream",
     "text": [
      "\n",
      "       **************  SOLUTION OUTPUT  **************\n"
     ]
    },
    {
     "data": {
      "text/html": [
       "<div>\n",
       "<style scoped>\n",
       "    .dataframe tbody tr th:only-of-type {\n",
       "        vertical-align: middle;\n",
       "    }\n",
       "\n",
       "    .dataframe tbody tr th {\n",
       "        vertical-align: top;\n",
       "    }\n",
       "\n",
       "    .dataframe thead th {\n",
       "        text-align: right;\n",
       "    }\n",
       "</style>\n",
       "<table border=\"1\" class=\"dataframe\">\n",
       "  <thead>\n",
       "    <tr style=\"text-align: right;\">\n",
       "      <th></th>\n",
       "      <th>Date</th>\n",
       "      <th>Pressure</th>\n",
       "      <th>Rain</th>\n",
       "      <th>Temp</th>\n",
       "      <th>Temp (Fahrenheit)</th>\n",
       "    </tr>\n",
       "  </thead>\n",
       "  <tbody>\n",
       "    <tr>\n",
       "      <th>0</th>\n",
       "      <td>01/11/2017 00:00</td>\n",
       "      <td>995.4</td>\n",
       "      <td>0.0</td>\n",
       "      <td>5.4</td>\n",
       "      <td>41.72</td>\n",
       "    </tr>\n",
       "    <tr>\n",
       "      <th>1</th>\n",
       "      <td>01/11/2017 00:15</td>\n",
       "      <td>995.5</td>\n",
       "      <td>0.0</td>\n",
       "      <td>6.0</td>\n",
       "      <td>42.80</td>\n",
       "    </tr>\n",
       "    <tr>\n",
       "      <th>2</th>\n",
       "      <td>01/11/2017 00:30</td>\n",
       "      <td>995.5</td>\n",
       "      <td>0.0</td>\n",
       "      <td>5.9</td>\n",
       "      <td>42.62</td>\n",
       "    </tr>\n",
       "    <tr>\n",
       "      <th>3</th>\n",
       "      <td>01/11/2017 00:45</td>\n",
       "      <td>995.7</td>\n",
       "      <td>0.0</td>\n",
       "      <td>5.4</td>\n",
       "      <td>41.72</td>\n",
       "    </tr>\n",
       "    <tr>\n",
       "      <th>4</th>\n",
       "      <td>01/11/2017 01:00</td>\n",
       "      <td>995.7</td>\n",
       "      <td>0.0</td>\n",
       "      <td>5.3</td>\n",
       "      <td>41.54</td>\n",
       "    </tr>\n",
       "  </tbody>\n",
       "</table>\n",
       "</div>"
      ],
      "text/plain": [
       "               Date  Pressure  Rain  Temp  Temp (Fahrenheit)\n",
       "0  01/11/2017 00:00     995.4   0.0   5.4              41.72\n",
       "1  01/11/2017 00:15     995.5   0.0   6.0              42.80\n",
       "2  01/11/2017 00:30     995.5   0.0   5.9              42.62\n",
       "3  01/11/2017 00:45     995.7   0.0   5.4              41.72\n",
       "4  01/11/2017 01:00     995.7   0.0   5.3              41.54"
      ]
     },
     "metadata": {},
     "output_type": "display_data"
    }
   ],
   "source": [
    "# SOLUTION\n",
    "meteo['Temp (Fahrenheit)'] = meteo['Temp']* 9/5 + 32 \n",
    "meteo.head()"
   ]
  },
  {
   "cell_type": "markdown",
   "id": "2655305e",
   "metadata": {},
   "source": [
    "### 6.2.2 Exercise - Pressure vs Temperature\n",
    "\n",
    "Pressure should be directly proportional to temperature in a closed environment [Gay-Lussac's law](https://en.wikipedia.org/wiki/Gay-Lussac%27s_law):\n",
    "\n",
    "$\\frac{P}{T} = k$\n",
    "\n",
    "Does this holds true for `meteo` dataset? Try to find out by direct calculation of the formula and compare with `corr()` method results."
   ]
  },
  {
   "cell_type": "code",
   "execution_count": null,
   "id": "5a38c2fb",
   "metadata": {},
   "outputs": [
    {
     "name": "stdout",
     "output_type": "stream",
     "text": [
      "                   Pressure      Rain      Temp  Temp (Fahrenheit)\n",
      "Pressure           1.000000 -0.270345 -0.214149          -0.214149\n",
      "Rain              -0.270345  1.000000  0.025227           0.025227\n",
      "Temp              -0.214149  0.025227  1.000000           1.000000\n",
      "Temp (Fahrenheit) -0.214149  0.025227  1.000000           1.000000\n"
     ]
    },
    {
     "data": {
      "text/plain": [
       "0        184.333333\n",
       "1        165.916667\n",
       "2        168.728814\n",
       "3        184.388889\n",
       "4        187.867925\n",
       "           ...     \n",
       "2873    4900.000000\n",
       "2874    1960.400000\n",
       "2875    1633.666667\n",
       "2876    4902.500000\n",
       "2877   -3268.666667\n",
       "Length: 2878, dtype: float64"
      ]
     },
     "metadata": {},
     "output_type": "display_data"
    }
   ],
   "source": [
    "# SOLUTION\n",
    "#jupman-purge-output\n",
    "\n",
    "# as expected, in an open environment there is not much linear correlation\n",
    "print(meteo.corr())\n",
    "meteo['Pressure'] / meteo['Temp']"
   ]
  },
  {
   "cell_type": "markdown",
   "id": "a3a93d8c",
   "metadata": {},
   "source": [
    "## 4. Operations on rows\n",
    "\n",
    "If we consider the rows of a dataset, typically we may wish to select only some of them, change their order or add some new rows."
   ]
  },
  {
   "cell_type": "markdown",
   "id": "530541fa",
   "metadata": {},
   "source": [
    "### 4.1. Selecting by row numbers\n",
    "\n",
    "The simplest way to select only certain rows is through their corresponding number, i.e., their vertical position in the frame. "
   ]
  },
  {
   "cell_type": "markdown",
   "id": "810a3dd8",
   "metadata": {},
   "source": [
    "For instance, you can select the first two or the three last rows in the corresponding following ways:"
   ]
  },
  {
   "cell_type": "code",
   "execution_count": 14,
   "id": "c348a746",
   "metadata": {
    "scrolled": false
   },
   "outputs": [
    {
     "data": {
      "text/html": [
       "<div><style>\n",
       ".dataframe > thead > tr,\n",
       ".dataframe > tbody > tr {\n",
       "  text-align: right;\n",
       "  white-space: pre-wrap;\n",
       "}\n",
       "</style>\n",
       "<small>shape: (2, 30)</small><table border=\"1\" class=\"dataframe\"><thead><tr><th>id</th><th>country</th><th>ccode</th><th>year</th><th>region</th><th>protest</th><th>protestnumber</th><th>startday</th><th>startmonth</th><th>startyear</th><th>endday</th><th>endmonth</th><th>endyear</th><th>protesterviolence</th><th>location</th><th>participants_category</th><th>participants</th><th>protesteridentity</th><th>protesterdemand1</th><th>protesterdemand2</th><th>protesterdemand3</th><th>protesterdemand4</th><th>stateresponse1</th><th>stateresponse2</th><th>stateresponse3</th><th>stateresponse4</th><th>stateresponse5</th><th>stateresponse6</th><th>stateresponse7</th><th>sources</th></tr><tr><td>i64</td><td>str</td><td>i64</td><td>i64</td><td>str</td><td>i64</td><td>i64</td><td>i64</td><td>i64</td><td>i64</td><td>i64</td><td>i64</td><td>i64</td><td>i64</td><td>str</td><td>str</td><td>str</td><td>str</td><td>str</td><td>str</td><td>str</td><td>str</td><td>str</td><td>str</td><td>str</td><td>str</td><td>str</td><td>str</td><td>str</td><td>str</td></tr></thead><tbody><tr><td>201990001</td><td>&quot;Canada&quot;</td><td>20</td><td>1990</td><td>&quot;North America&quot;</td><td>1</td><td>1</td><td>15</td><td>1</td><td>1990</td><td>15</td><td>1</td><td>1990</td><td>0</td><td>&quot;national&quot;</td><td>null</td><td>&quot;1000s&quot;</td><td>&quot;unspecified&quot;</td><td>&quot;political behavior, process&quot;</td><td>&quot;labor wage dispute&quot;</td><td>null</td><td>null</td><td>&quot;ignore&quot;</td><td>null</td><td>null</td><td>null</td><td>null</td><td>null</td><td>null</td><td>&quot;1. great canadian train journe…</td></tr><tr><td>201990002</td><td>&quot;Canada&quot;</td><td>20</td><td>1990</td><td>&quot;North America&quot;</td><td>1</td><td>2</td><td>25</td><td>6</td><td>1990</td><td>25</td><td>6</td><td>1990</td><td>0</td><td>&quot;Montreal, Quebec&quot;</td><td>null</td><td>&quot;1000&quot;</td><td>&quot;unspecified&quot;</td><td>&quot;political behavior, process&quot;</td><td>null</td><td>null</td><td>null</td><td>&quot;ignore&quot;</td><td>null</td><td>null</td><td>null</td><td>null</td><td>null</td><td>null</td><td>&quot;1. autonomy s cry revived in q…</td></tr></tbody></table></div>"
      ],
      "text/plain": [
       "shape: (2, 30)\n",
       "┌───────────┬─────────┬───────┬──────┬───┬──────────────┬──────────────┬─────────────┬─────────────┐\n",
       "│ id        ┆ country ┆ ccode ┆ year ┆ … ┆ staterespons ┆ staterespons ┆ staterespon ┆ sources     │\n",
       "│ ---       ┆ ---     ┆ ---   ┆ ---  ┆   ┆ e5           ┆ e6           ┆ se7         ┆ ---         │\n",
       "│ i64       ┆ str     ┆ i64   ┆ i64  ┆   ┆ ---          ┆ ---          ┆ ---         ┆ str         │\n",
       "│           ┆         ┆       ┆      ┆   ┆ str          ┆ str          ┆ str         ┆             │\n",
       "╞═══════════╪═════════╪═══════╪══════╪═══╪══════════════╪══════════════╪═════════════╪═════════════╡\n",
       "│ 201990001 ┆ Canada  ┆ 20    ┆ 1990 ┆ … ┆ null         ┆ null         ┆ null        ┆ 1. great    │\n",
       "│           ┆         ┆       ┆      ┆   ┆              ┆              ┆             ┆ canadian    │\n",
       "│           ┆         ┆       ┆      ┆   ┆              ┆              ┆             ┆ train       │\n",
       "│           ┆         ┆       ┆      ┆   ┆              ┆              ┆             ┆ journe…     │\n",
       "│ 201990002 ┆ Canada  ┆ 20    ┆ 1990 ┆ … ┆ null         ┆ null         ┆ null        ┆ 1. autonomy │\n",
       "│           ┆         ┆       ┆      ┆   ┆              ┆              ┆             ┆ s cry       │\n",
       "│           ┆         ┆       ┆      ┆   ┆              ┆              ┆             ┆ revived in  │\n",
       "│           ┆         ┆       ┆      ┆   ┆              ┆              ┆             ┆ q…          │\n",
       "└───────────┴─────────┴───────┴──────┴───┴──────────────┴──────────────┴─────────────┴─────────────┘"
      ]
     },
     "execution_count": 14,
     "metadata": {},
     "output_type": "execute_result"
    }
   ],
   "source": [
    "protests.head(2)"
   ]
  },
  {
   "cell_type": "code",
   "execution_count": 15,
   "id": "1fde7d07",
   "metadata": {},
   "outputs": [
    {
     "data": {
      "text/html": [
       "<div><style>\n",
       ".dataframe > thead > tr,\n",
       ".dataframe > tbody > tr {\n",
       "  text-align: right;\n",
       "  white-space: pre-wrap;\n",
       "}\n",
       "</style>\n",
       "<small>shape: (3, 30)</small><table border=\"1\" class=\"dataframe\"><thead><tr><th>id</th><th>country</th><th>ccode</th><th>year</th><th>region</th><th>protest</th><th>protestnumber</th><th>startday</th><th>startmonth</th><th>startyear</th><th>endday</th><th>endmonth</th><th>endyear</th><th>protesterviolence</th><th>location</th><th>participants_category</th><th>participants</th><th>protesteridentity</th><th>protesterdemand1</th><th>protesterdemand2</th><th>protesterdemand3</th><th>protesterdemand4</th><th>stateresponse1</th><th>stateresponse2</th><th>stateresponse3</th><th>stateresponse4</th><th>stateresponse5</th><th>stateresponse6</th><th>stateresponse7</th><th>sources</th></tr><tr><td>i64</td><td>str</td><td>i64</td><td>i64</td><td>str</td><td>i64</td><td>i64</td><td>i64</td><td>i64</td><td>i64</td><td>i64</td><td>i64</td><td>i64</td><td>i64</td><td>str</td><td>str</td><td>str</td><td>str</td><td>str</td><td>str</td><td>str</td><td>str</td><td>str</td><td>str</td><td>str</td><td>str</td><td>str</td><td>str</td><td>str</td><td>str</td></tr></thead><tbody><tr><td>9102018000</td><td>&quot;Papua New Guinea&quot;</td><td>910</td><td>2018</td><td>&quot;Oceania&quot;</td><td>0</td><td>0</td><td>null</td><td>null</td><td>null</td><td>null</td><td>null</td><td>null</td><td>null</td><td>null</td><td>null</td><td>null</td><td>null</td><td>null</td><td>null</td><td>null</td><td>null</td><td>null</td><td>null</td><td>null</td><td>null</td><td>null</td><td>null</td><td>null</td><td>null</td></tr><tr><td>9102019000</td><td>&quot;Papua New Guinea&quot;</td><td>910</td><td>2019</td><td>&quot;Oceania&quot;</td><td>0</td><td>0</td><td>null</td><td>null</td><td>null</td><td>null</td><td>null</td><td>null</td><td>null</td><td>null</td><td>null</td><td>null</td><td>null</td><td>null</td><td>null</td><td>null</td><td>&quot;.&quot;</td><td>null</td><td>null</td><td>null</td><td>null</td><td>&quot;.&quot;</td><td>null</td><td>null</td><td>null</td></tr><tr><td>9102020000</td><td>&quot;Papua New Guinea&quot;</td><td>910</td><td>2020</td><td>&quot;Oceania&quot;</td><td>0</td><td>0</td><td>null</td><td>null</td><td>null</td><td>null</td><td>null</td><td>null</td><td>null</td><td>null</td><td>null</td><td>null</td><td>null</td><td>null</td><td>null</td><td>null</td><td>null</td><td>null</td><td>null</td><td>null</td><td>null</td><td>null</td><td>null</td><td>null</td><td>null</td></tr></tbody></table></div>"
      ],
      "text/plain": [
       "shape: (3, 30)\n",
       "┌────────────┬──────────────┬───────┬──────┬───┬─────────────┬─────────────┬─────────────┬─────────┐\n",
       "│ id         ┆ country      ┆ ccode ┆ year ┆ … ┆ staterespon ┆ staterespon ┆ staterespon ┆ sources │\n",
       "│ ---        ┆ ---          ┆ ---   ┆ ---  ┆   ┆ se5         ┆ se6         ┆ se7         ┆ ---     │\n",
       "│ i64        ┆ str          ┆ i64   ┆ i64  ┆   ┆ ---         ┆ ---         ┆ ---         ┆ str     │\n",
       "│            ┆              ┆       ┆      ┆   ┆ str         ┆ str         ┆ str         ┆         │\n",
       "╞════════════╪══════════════╪═══════╪══════╪═══╪═════════════╪═════════════╪═════════════╪═════════╡\n",
       "│ 9102018000 ┆ Papua New    ┆ 910   ┆ 2018 ┆ … ┆ null        ┆ null        ┆ null        ┆ null    │\n",
       "│            ┆ Guinea       ┆       ┆      ┆   ┆             ┆             ┆             ┆         │\n",
       "│ 9102019000 ┆ Papua New    ┆ 910   ┆ 2019 ┆ … ┆ .           ┆ null        ┆ null        ┆ null    │\n",
       "│            ┆ Guinea       ┆       ┆      ┆   ┆             ┆             ┆             ┆         │\n",
       "│ 9102020000 ┆ Papua New    ┆ 910   ┆ 2020 ┆ … ┆ null        ┆ null        ┆ null        ┆ null    │\n",
       "│            ┆ Guinea       ┆       ┆      ┆   ┆             ┆             ┆             ┆         │\n",
       "└────────────┴──────────────┴───────┴──────┴───┴─────────────┴─────────────┴─────────────┴─────────┘"
      ]
     },
     "execution_count": 15,
     "metadata": {},
     "output_type": "execute_result"
    }
   ],
   "source": [
    "protests.tail(3)"
   ]
  },
  {
   "cell_type": "markdown",
   "id": "a6121f1e",
   "metadata": {},
   "source": [
    "```{note}\n",
    "As shown earlier, if you call `.head()` or `.tail()` without any argument, they will show you 5 rows.\n",
    "```"
   ]
  },
  {
   "cell_type": "markdown",
   "id": "fd244a1e",
   "metadata": {},
   "source": [
    "It's also possible to select contiguous rows by using _slicing_, as we already did for [strings](https://en.softpython.org/strings/strings2-sol.html#Slices) and [lists](https://en.softpython.org/lists/lists2-sol.html#Slices) TODO\n",
    "\n",
    "For example, here we select two rows starting from the fifth (_included_):"
   ]
  },
  {
   "cell_type": "code",
   "execution_count": 16,
   "id": "ea89e51e",
   "metadata": {
    "scrolled": true
   },
   "outputs": [
    {
     "data": {
      "text/html": [
       "<div><style>\n",
       ".dataframe > thead > tr,\n",
       ".dataframe > tbody > tr {\n",
       "  text-align: right;\n",
       "  white-space: pre-wrap;\n",
       "}\n",
       "</style>\n",
       "<small>shape: (2, 30)</small><table border=\"1\" class=\"dataframe\"><thead><tr><th>id</th><th>country</th><th>ccode</th><th>year</th><th>region</th><th>protest</th><th>protestnumber</th><th>startday</th><th>startmonth</th><th>startyear</th><th>endday</th><th>endmonth</th><th>endyear</th><th>protesterviolence</th><th>location</th><th>participants_category</th><th>participants</th><th>protesteridentity</th><th>protesterdemand1</th><th>protesterdemand2</th><th>protesterdemand3</th><th>protesterdemand4</th><th>stateresponse1</th><th>stateresponse2</th><th>stateresponse3</th><th>stateresponse4</th><th>stateresponse5</th><th>stateresponse6</th><th>stateresponse7</th><th>sources</th></tr><tr><td>i64</td><td>str</td><td>i64</td><td>i64</td><td>str</td><td>i64</td><td>i64</td><td>i64</td><td>i64</td><td>i64</td><td>i64</td><td>i64</td><td>i64</td><td>i64</td><td>str</td><td>str</td><td>str</td><td>str</td><td>str</td><td>str</td><td>str</td><td>str</td><td>str</td><td>str</td><td>str</td><td>str</td><td>str</td><td>str</td><td>str</td><td>str</td></tr></thead><tbody><tr><td>201990006</td><td>&quot;Canada&quot;</td><td>20</td><td>1990</td><td>&quot;North America&quot;</td><td>1</td><td>6</td><td>19</td><td>9</td><td>1990</td><td>19</td><td>9</td><td>1990</td><td>0</td><td>&quot;Kahnawake Reservation near Mon…</td><td>null</td><td>&quot;200&quot;</td><td>&quot;mohawk indians&quot;</td><td>&quot;police brutality&quot;</td><td>null</td><td>null</td><td>null</td><td>&quot;crowd dispersal&quot;</td><td>&quot;shootings&quot;</td><td>null</td><td>null</td><td>null</td><td>null</td><td>null</td><td>&quot;1. mohawks tear gassed in clas…</td></tr><tr><td>201991001</td><td>&quot;Canada&quot;</td><td>20</td><td>1991</td><td>&quot;North America&quot;</td><td>1</td><td>1</td><td>10</td><td>9</td><td>1991</td><td>17</td><td>9</td><td>1991</td><td>0</td><td>&quot;national&quot;</td><td>null</td><td>&quot;110000&quot;</td><td>&quot;public service alliance of can…</td><td>&quot;labor wage dispute&quot;</td><td>null</td><td>null</td><td>null</td><td>&quot;ignore&quot;</td><td>null</td><td>null</td><td>null</td><td>null</td><td>null</td><td>null</td><td>&quot;1. mulroney acts to crush stri…</td></tr></tbody></table></div>"
      ],
      "text/plain": [
       "shape: (2, 30)\n",
       "┌───────────┬─────────┬───────┬──────┬───┬──────────────┬──────────────┬─────────────┬─────────────┐\n",
       "│ id        ┆ country ┆ ccode ┆ year ┆ … ┆ staterespons ┆ staterespons ┆ staterespon ┆ sources     │\n",
       "│ ---       ┆ ---     ┆ ---   ┆ ---  ┆   ┆ e5           ┆ e6           ┆ se7         ┆ ---         │\n",
       "│ i64       ┆ str     ┆ i64   ┆ i64  ┆   ┆ ---          ┆ ---          ┆ ---         ┆ str         │\n",
       "│           ┆         ┆       ┆      ┆   ┆ str          ┆ str          ┆ str         ┆             │\n",
       "╞═══════════╪═════════╪═══════╪══════╪═══╪══════════════╪══════════════╪═════════════╪═════════════╡\n",
       "│ 201990006 ┆ Canada  ┆ 20    ┆ 1990 ┆ … ┆ null         ┆ null         ┆ null        ┆ 1. mohawks  │\n",
       "│           ┆         ┆       ┆      ┆   ┆              ┆              ┆             ┆ tear gassed │\n",
       "│           ┆         ┆       ┆      ┆   ┆              ┆              ┆             ┆ in clas…    │\n",
       "│ 201991001 ┆ Canada  ┆ 20    ┆ 1991 ┆ … ┆ null         ┆ null         ┆ null        ┆ 1. mulroney │\n",
       "│           ┆         ┆       ┆      ┆   ┆              ┆              ┆             ┆ acts to     │\n",
       "│           ┆         ┆       ┆      ┆   ┆              ┆              ┆             ┆ crush stri… │\n",
       "└───────────┴─────────┴───────┴──────┴───┴──────────────┴──────────────┴─────────────┴─────────────┘"
      ]
     },
     "execution_count": 16,
     "metadata": {},
     "output_type": "execute_result"
    }
   ],
   "source": [
    "protests.slice(5, 2)"
   ]
  },
  {
   "cell_type": "markdown",
   "id": "7116e678",
   "metadata": {},
   "source": [
    "### 4.2 Selecting rows fulfilling some conditions"
   ]
  },
  {
   "cell_type": "markdown",
   "id": "9c51819a",
   "metadata": {},
   "source": [
    "Selecting by row numbers is simple, but most of the time you do not know in which position the relevant rows are, as their relevance depends on one or more specific conditions.\n",
    "So let's see now how to filter data according to a condition they should satisfy.\n",
    "\n",
    "This can be done using the `.filter()` method of DataFrames. As argument, it takes an expression evaluated for each row. All rows for which the expression evaluates to `True` are then kept.\n",
    "\n",
    "So, for instance, to only keep rows corresponding to protests that happened in Italy:"
   ]
  },
  {
   "cell_type": "code",
   "execution_count": 69,
   "id": "d62e3253",
   "metadata": {},
   "outputs": [
    {
     "data": {
      "text/html": [
       "<div><style>\n",
       ".dataframe > thead > tr,\n",
       ".dataframe > tbody > tr {\n",
       "  text-align: right;\n",
       "  white-space: pre-wrap;\n",
       "}\n",
       "</style>\n",
       "<small>shape: (5, 33)</small><table border=\"1\" class=\"dataframe\"><thead><tr><th>id</th><th>country</th><th>ccode</th><th>year</th><th>region</th><th>protest</th><th>protestnumber</th><th>startday</th><th>startmonth</th><th>startyear</th><th>endday</th><th>endmonth</th><th>endyear</th><th>protesterviolence</th><th>location</th><th>participants_category</th><th>participants</th><th>protesteridentity</th><th>protesterdemand1</th><th>protesterdemand2</th><th>protesterdemand3</th><th>protesterdemand4</th><th>stateresponse1</th><th>stateresponse2</th><th>stateresponse3</th><th>stateresponse4</th><th>stateresponse5</th><th>stateresponse6</th><th>stateresponse7</th><th>sources</th><th>start_date</th><th>end_date</th><th>duration</th></tr><tr><td>i64</td><td>str</td><td>i64</td><td>i64</td><td>str</td><td>i64</td><td>i64</td><td>i64</td><td>i64</td><td>i64</td><td>i64</td><td>i64</td><td>i64</td><td>i64</td><td>str</td><td>str</td><td>str</td><td>str</td><td>str</td><td>str</td><td>str</td><td>str</td><td>str</td><td>str</td><td>str</td><td>str</td><td>str</td><td>str</td><td>str</td><td>str</td><td>date</td><td>date</td><td>duration[ms]</td></tr></thead><tbody><tr><td>3251990001</td><td>&quot;Italy&quot;</td><td>325</td><td>1990</td><td>&quot;Europe&quot;</td><td>1</td><td>1</td><td>13</td><td>7</td><td>1990</td><td>13</td><td>7</td><td>1990</td><td>1</td><td>&quot;Sicilian town of Ribera&quot;</td><td>&quot;100-999&quot;</td><td>&quot;&gt; 50&quot;</td><td>&quot;farmers&quot;</td><td>&quot;political behavior, process&quot;</td><td>null</td><td>null</td><td>null</td><td>&quot;ignore&quot;</td><td>null</td><td>null</td><td>null</td><td>null</td><td>null</td><td>null</td><td>&quot;sicilians riot over water shor…</td><td>1990-07-13</td><td>1990-07-13</td><td>1d</td></tr><tr><td>3251991001</td><td>&quot;Italy&quot;</td><td>325</td><td>1991</td><td>&quot;Europe&quot;</td><td>1</td><td>1</td><td>6</td><td>6</td><td>1991</td><td>6</td><td>6</td><td>1991</td><td>0</td><td>&quot;the Italian port of Brindisi&quot;</td><td>&quot;100-999&quot;</td><td>&quot;hundreds&quot;</td><td>&quot;albanians&quot;</td><td>&quot;political behavior, process&quot;</td><td>null</td><td>null</td><td>null</td><td>&quot;accomodation&quot;</td><td>null</td><td>null</td><td>null</td><td>null</td><td>null</td><td>null</td><td>&quot;refugees riot. the times. june…</td><td>1991-06-06</td><td>1991-06-06</td><td>1d</td></tr><tr><td>3251991002</td><td>&quot;Italy&quot;</td><td>325</td><td>1991</td><td>&quot;Europe&quot;</td><td>1</td><td>2</td><td>22</td><td>10</td><td>1991</td><td>22</td><td>10</td><td>1991</td><td>0</td><td>&quot;major cities&quot;</td><td>&quot;5000-10000&quot;</td><td>&quot;Thousands &quot;</td><td>&quot;people&quot;</td><td>&quot;political behavior, process&quot;</td><td>null</td><td>null</td><td>null</td><td>&quot;ignore&quot;</td><td>null</td><td>null</td><td>null</td><td>null</td><td>null</td><td>null</td><td>&quot;1. italians strike to protest …</td><td>1991-10-22</td><td>1991-10-22</td><td>1d</td></tr><tr><td>3251992001</td><td>&quot;Italy&quot;</td><td>325</td><td>1992</td><td>&quot;Europe&quot;</td><td>1</td><td>1</td><td>28</td><td>6</td><td>1992</td><td>28</td><td>6</td><td>1992</td><td>0</td><td>&quot;Palermo&quot;</td><td>&quot;&gt;10000&quot;</td><td>&quot;100000&quot;</td><td>&quot;people&quot;</td><td>&quot;political behavior, process&quot;</td><td>null</td><td>null</td><td>null</td><td>&quot;ignore&quot;</td><td>null</td><td>null</td><td>null</td><td>null</td><td>null</td><td>null</td><td>&quot;1. anti mafia protest. the was…</td><td>1992-06-28</td><td>1992-06-28</td><td>1d</td></tr><tr><td>3251992002</td><td>&quot;Italy&quot;</td><td>325</td><td>1992</td><td>&quot;Europe&quot;</td><td>1</td><td>2</td><td>21</td><td>7</td><td>1992</td><td>21</td><td>7</td><td>1992</td><td>0</td><td>&quot;Milan, Rome,Palermo, and in ot…</td><td>&quot;&gt;10000&quot;</td><td>&quot;&gt; 15000&quot;</td><td>&quot;people and police officers&quot;</td><td>&quot;political behavior, process&quot;</td><td>null</td><td>null</td><td>null</td><td>&quot;ignore&quot;</td><td>&quot;beatings&quot;</td><td>null</td><td>null</td><td>null</td><td>null</td><td>null</td><td>&quot;1. sicilians jeer italian lead…</td><td>1992-07-21</td><td>1992-07-21</td><td>1d</td></tr></tbody></table></div>"
      ],
      "text/plain": [
       "shape: (5, 33)\n",
       "┌────────────┬─────────┬───────┬──────┬───┬───────────────┬────────────┬────────────┬──────────────┐\n",
       "│ id         ┆ country ┆ ccode ┆ year ┆ … ┆ sources       ┆ start_date ┆ end_date   ┆ duration     │\n",
       "│ ---        ┆ ---     ┆ ---   ┆ ---  ┆   ┆ ---           ┆ ---        ┆ ---        ┆ ---          │\n",
       "│ i64        ┆ str     ┆ i64   ┆ i64  ┆   ┆ str           ┆ date       ┆ date       ┆ duration[ms] │\n",
       "╞════════════╪═════════╪═══════╪══════╪═══╪═══════════════╪════════════╪════════════╪══════════════╡\n",
       "│ 3251990001 ┆ Italy   ┆ 325   ┆ 1990 ┆ … ┆ sicilians     ┆ 1990-07-13 ┆ 1990-07-13 ┆ 1d           │\n",
       "│            ┆         ┆       ┆      ┆   ┆ riot over     ┆            ┆            ┆              │\n",
       "│            ┆         ┆       ┆      ┆   ┆ water shor…   ┆            ┆            ┆              │\n",
       "│ 3251991001 ┆ Italy   ┆ 325   ┆ 1991 ┆ … ┆ refugees      ┆ 1991-06-06 ┆ 1991-06-06 ┆ 1d           │\n",
       "│            ┆         ┆       ┆      ┆   ┆ riot. the     ┆            ┆            ┆              │\n",
       "│            ┆         ┆       ┆      ┆   ┆ times. june…  ┆            ┆            ┆              │\n",
       "│ 3251991002 ┆ Italy   ┆ 325   ┆ 1991 ┆ … ┆ 1. italians   ┆ 1991-10-22 ┆ 1991-10-22 ┆ 1d           │\n",
       "│            ┆         ┆       ┆      ┆   ┆ strike to     ┆            ┆            ┆              │\n",
       "│            ┆         ┆       ┆      ┆   ┆ protest …     ┆            ┆            ┆              │\n",
       "│ 3251992001 ┆ Italy   ┆ 325   ┆ 1992 ┆ … ┆ 1. anti mafia ┆ 1992-06-28 ┆ 1992-06-28 ┆ 1d           │\n",
       "│            ┆         ┆       ┆      ┆   ┆ protest. the  ┆            ┆            ┆              │\n",
       "│            ┆         ┆       ┆      ┆   ┆ was…          ┆            ┆            ┆              │\n",
       "│ 3251992002 ┆ Italy   ┆ 325   ┆ 1992 ┆ … ┆ 1. sicilians  ┆ 1992-07-21 ┆ 1992-07-21 ┆ 1d           │\n",
       "│            ┆         ┆       ┆      ┆   ┆ jeer italian  ┆            ┆            ┆              │\n",
       "│            ┆         ┆       ┆      ┆   ┆ lead…         ┆            ┆            ┆              │\n",
       "└────────────┴─────────┴───────┴──────┴───┴───────────────┴────────────┴────────────┴──────────────┘"
      ]
     },
     "execution_count": 69,
     "metadata": {},
     "output_type": "execute_result"
    }
   ],
   "source": [
    "protests.filter(pl.col(\"country\") == \"Italy\").head()"
   ]
  },
  {
   "cell_type": "markdown",
   "id": "7cdba9e4",
   "metadata": {},
   "source": [
    "Notice here the usage of `pl.col()` that we've seen earlier! Again, this allows us to access the values contained in a column, here to make an equality test and return a boolean.\n",
    "\n",
    "And again, as seen previously when we computed the protests' durations, values from different columns can be compared. To illustrate that, here below we'll select all protests that spanned more than one calendar year:"
   ]
  },
  {
   "cell_type": "code",
   "execution_count": 68,
   "id": "38ba0787",
   "metadata": {},
   "outputs": [
    {
     "data": {
      "text/html": [
       "<div><style>\n",
       ".dataframe > thead > tr,\n",
       ".dataframe > tbody > tr {\n",
       "  text-align: right;\n",
       "  white-space: pre-wrap;\n",
       "}\n",
       "</style>\n",
       "<small>shape: (5, 33)</small><table border=\"1\" class=\"dataframe\"><thead><tr><th>id</th><th>country</th><th>ccode</th><th>year</th><th>region</th><th>protest</th><th>protestnumber</th><th>startday</th><th>startmonth</th><th>startyear</th><th>endday</th><th>endmonth</th><th>endyear</th><th>protesterviolence</th><th>location</th><th>participants_category</th><th>participants</th><th>protesteridentity</th><th>protesterdemand1</th><th>protesterdemand2</th><th>protesterdemand3</th><th>protesterdemand4</th><th>stateresponse1</th><th>stateresponse2</th><th>stateresponse3</th><th>stateresponse4</th><th>stateresponse5</th><th>stateresponse6</th><th>stateresponse7</th><th>sources</th><th>start_date</th><th>end_date</th><th>duration</th></tr><tr><td>i64</td><td>str</td><td>i64</td><td>i64</td><td>str</td><td>i64</td><td>i64</td><td>i64</td><td>i64</td><td>i64</td><td>i64</td><td>i64</td><td>i64</td><td>i64</td><td>str</td><td>str</td><td>str</td><td>str</td><td>str</td><td>str</td><td>str</td><td>str</td><td>str</td><td>str</td><td>str</td><td>str</td><td>str</td><td>str</td><td>str</td><td>str</td><td>date</td><td>date</td><td>duration[ms]</td></tr></thead><tbody><tr><td>701991004</td><td>&quot;Mexico&quot;</td><td>70</td><td>1991</td><td>&quot;North America&quot;</td><td>1</td><td>4</td><td>23</td><td>11</td><td>1991</td><td>15</td><td>1</td><td>1992</td><td>0</td><td>&quot;Tabasco to Mexico City&quot;</td><td>null</td><td>&quot;100s&quot;</td><td>&quot;democratic revolutionary party…</td><td>&quot;political behavior, process&quot;</td><td>null</td><td>null</td><td>null</td><td>&quot;ignore&quot;</td><td>null</td><td>null</td><td>null</td><td>null</td><td>null</td><td>null</td><td>&quot;1. the washington post, mexica…</td><td>1991-11-23</td><td>1992-01-15</td><td>54d</td></tr><tr><td>1001994005</td><td>&quot;Colombia&quot;</td><td>100</td><td>1994</td><td>&quot;South America&quot;</td><td>1</td><td>5</td><td>22</td><td>12</td><td>1994</td><td>11</td><td>1</td><td>1995</td><td>0</td><td>&quot;southern Colombia&quot;</td><td>null</td><td>&quot;5000&quot;</td><td>&quot;putumayo peasant movement&quot;</td><td>&quot;political behavior, process&quot;</td><td>null</td><td>null</td><td>null</td><td>&quot;accomodation&quot;</td><td>&quot;killings&quot;</td><td>&quot;crowd dispersal&quot;</td><td>null</td><td>null</td><td>null</td><td>null</td><td>&quot;xinhua news agency, january 3,…</td><td>1994-12-22</td><td>1995-01-11</td><td>21d</td></tr><tr><td>1011996013</td><td>&quot;Venezuela&quot;</td><td>101</td><td>1996</td><td>&quot;South America&quot;</td><td>1</td><td>13</td><td>27</td><td>12</td><td>1996</td><td>15</td><td>1</td><td>1997</td><td>0</td><td>&quot;national level&quot;</td><td>null</td><td>&quot;50&quot;</td><td>&quot;health workers&quot;</td><td>&quot;labor wage dispute&quot;</td><td>null</td><td>null</td><td>null</td><td>&quot;ignore&quot;</td><td>null</td><td>null</td><td>null</td><td>null</td><td>null</td><td>null</td><td>&quot;the associated press, january …</td><td>1996-12-27</td><td>1997-01-15</td><td>20d</td></tr><tr><td>1012002010</td><td>&quot;Venezuela&quot;</td><td>101</td><td>2002</td><td>&quot;South America&quot;</td><td>1</td><td>10</td><td>3</td><td>12</td><td>2002</td><td>4</td><td>2</td><td>2003</td><td>0</td><td>&quot;national level&quot;</td><td>null</td><td>&quot;10000&quot;</td><td>&quot;workers&quot;</td><td>&quot;political behavior, process&quot;</td><td>null</td><td>null</td><td>null</td><td>&quot;ignore&quot;</td><td>null</td><td>null</td><td>null</td><td>null</td><td>null</td><td>null</td><td>&quot;the washington post, december …</td><td>2002-12-03</td><td>2003-02-04</td><td>64d</td></tr><tr><td>1012004016</td><td>&quot;Venezuela&quot;</td><td>101</td><td>2004</td><td>&quot;South America&quot;</td><td>1</td><td>16</td><td>16</td><td>12</td><td>2004</td><td>22</td><td>1</td><td>2005</td><td>0</td><td>&quot;national level  4 different pr…</td><td>null</td><td>&quot;2500&quot;</td><td>&quot;inmates&quot;</td><td>&quot;political behavior, process&quot;</td><td>null</td><td>null</td><td>null</td><td>&quot;accomodation&quot;</td><td>null</td><td>null</td><td>null</td><td>null</td><td>null</td><td>null</td><td>&quot;associated press worldstream, …</td><td>2004-12-16</td><td>2005-01-22</td><td>38d</td></tr></tbody></table></div>"
      ],
      "text/plain": [
       "shape: (5, 33)\n",
       "┌────────────┬───────────┬───────┬──────┬───┬──────────────┬────────────┬────────────┬─────────────┐\n",
       "│ id         ┆ country   ┆ ccode ┆ year ┆ … ┆ sources      ┆ start_date ┆ end_date   ┆ duration    │\n",
       "│ ---        ┆ ---       ┆ ---   ┆ ---  ┆   ┆ ---          ┆ ---        ┆ ---        ┆ ---         │\n",
       "│ i64        ┆ str       ┆ i64   ┆ i64  ┆   ┆ str          ┆ date       ┆ date       ┆ duration[ms │\n",
       "│            ┆           ┆       ┆      ┆   ┆              ┆            ┆            ┆ ]           │\n",
       "╞════════════╪═══════════╪═══════╪══════╪═══╪══════════════╪════════════╪════════════╪═════════════╡\n",
       "│ 701991004  ┆ Mexico    ┆ 70    ┆ 1991 ┆ … ┆ 1. the       ┆ 1991-11-23 ┆ 1992-01-15 ┆ 54d         │\n",
       "│            ┆           ┆       ┆      ┆   ┆ washington   ┆            ┆            ┆             │\n",
       "│            ┆           ┆       ┆      ┆   ┆ post,        ┆            ┆            ┆             │\n",
       "│            ┆           ┆       ┆      ┆   ┆ mexica…      ┆            ┆            ┆             │\n",
       "│ 1001994005 ┆ Colombia  ┆ 100   ┆ 1994 ┆ … ┆ xinhua news  ┆ 1994-12-22 ┆ 1995-01-11 ┆ 21d         │\n",
       "│            ┆           ┆       ┆      ┆   ┆ agency,      ┆            ┆            ┆             │\n",
       "│            ┆           ┆       ┆      ┆   ┆ january 3,…  ┆            ┆            ┆             │\n",
       "│ 1011996013 ┆ Venezuela ┆ 101   ┆ 1996 ┆ … ┆ the          ┆ 1996-12-27 ┆ 1997-01-15 ┆ 20d         │\n",
       "│            ┆           ┆       ┆      ┆   ┆ associated   ┆            ┆            ┆             │\n",
       "│            ┆           ┆       ┆      ┆   ┆ press,       ┆            ┆            ┆             │\n",
       "│            ┆           ┆       ┆      ┆   ┆ january …    ┆            ┆            ┆             │\n",
       "│ 1012002010 ┆ Venezuela ┆ 101   ┆ 2002 ┆ … ┆ the          ┆ 2002-12-03 ┆ 2003-02-04 ┆ 64d         │\n",
       "│            ┆           ┆       ┆      ┆   ┆ washington   ┆            ┆            ┆             │\n",
       "│            ┆           ┆       ┆      ┆   ┆ post,        ┆            ┆            ┆             │\n",
       "│            ┆           ┆       ┆      ┆   ┆ december …   ┆            ┆            ┆             │\n",
       "│ 1012004016 ┆ Venezuela ┆ 101   ┆ 2004 ┆ … ┆ associated   ┆ 2004-12-16 ┆ 2005-01-22 ┆ 38d         │\n",
       "│            ┆           ┆       ┆      ┆   ┆ press        ┆            ┆            ┆             │\n",
       "│            ┆           ┆       ┆      ┆   ┆ worldstream, ┆            ┆            ┆             │\n",
       "│            ┆           ┆       ┆      ┆   ┆ …            ┆            ┆            ┆             │\n",
       "└────────────┴───────────┴───────┴──────┴───┴──────────────┴────────────┴────────────┴─────────────┘"
      ]
     },
     "execution_count": 68,
     "metadata": {},
     "output_type": "execute_result"
    }
   ],
   "source": [
    "protests.filter(pl.col(\"startyear\") != pl.col(\"endyear\")).head()"
   ]
  },
  {
   "cell_type": "markdown",
   "id": "c9e67d1b",
   "metadata": {},
   "source": [
    "It's possible to combine conditions like we already did in [Numpy filtering](https://en.softpython.org/matrices-numpy/matrices-numpy1-sol.html#Filtering): for example by using the special operator conjunction `&` :"
   ]
  },
  {
   "cell_type": "code",
   "execution_count": 86,
   "id": "2c1f87a9",
   "metadata": {},
   "outputs": [
    {
     "data": {
      "text/html": [
       "<div><style>\n",
       ".dataframe > thead > tr,\n",
       ".dataframe > tbody > tr {\n",
       "  text-align: right;\n",
       "  white-space: pre-wrap;\n",
       "}\n",
       "</style>\n",
       "<small>shape: (6, 33)</small><table border=\"1\" class=\"dataframe\"><thead><tr><th>id</th><th>country</th><th>ccode</th><th>year</th><th>region</th><th>protest</th><th>protestnumber</th><th>startday</th><th>startmonth</th><th>startyear</th><th>endday</th><th>endmonth</th><th>endyear</th><th>protesterviolence</th><th>location</th><th>participants_category</th><th>participants</th><th>protesteridentity</th><th>protesterdemand1</th><th>protesterdemand2</th><th>protesterdemand3</th><th>protesterdemand4</th><th>stateresponse1</th><th>stateresponse2</th><th>stateresponse3</th><th>stateresponse4</th><th>stateresponse5</th><th>stateresponse6</th><th>stateresponse7</th><th>sources</th><th>start_date</th><th>end_date</th><th>duration</th></tr><tr><td>i64</td><td>str</td><td>i64</td><td>i64</td><td>str</td><td>i64</td><td>i64</td><td>i64</td><td>i64</td><td>i64</td><td>i64</td><td>i64</td><td>i64</td><td>i64</td><td>str</td><td>str</td><td>str</td><td>str</td><td>str</td><td>str</td><td>str</td><td>str</td><td>str</td><td>str</td><td>str</td><td>str</td><td>str</td><td>str</td><td>str</td><td>str</td><td>date</td><td>date</td><td>duration[ms]</td></tr></thead><tbody><tr><td>3251992001</td><td>&quot;Italy&quot;</td><td>325</td><td>1992</td><td>&quot;Europe&quot;</td><td>1</td><td>1</td><td>28</td><td>6</td><td>1992</td><td>28</td><td>6</td><td>1992</td><td>0</td><td>&quot;Palermo&quot;</td><td>&quot;&gt;10000&quot;</td><td>&quot;100000&quot;</td><td>&quot;people&quot;</td><td>&quot;political behavior, process&quot;</td><td>null</td><td>null</td><td>null</td><td>&quot;ignore&quot;</td><td>null</td><td>null</td><td>null</td><td>null</td><td>null</td><td>null</td><td>&quot;1. anti mafia protest. the was…</td><td>1992-06-28</td><td>1992-06-28</td><td>1d</td></tr><tr><td>3251992002</td><td>&quot;Italy&quot;</td><td>325</td><td>1992</td><td>&quot;Europe&quot;</td><td>1</td><td>2</td><td>21</td><td>7</td><td>1992</td><td>21</td><td>7</td><td>1992</td><td>0</td><td>&quot;Milan, Rome,Palermo, and in ot…</td><td>&quot;&gt;10000&quot;</td><td>&quot;&gt; 15000&quot;</td><td>&quot;people and police officers&quot;</td><td>&quot;political behavior, process&quot;</td><td>null</td><td>null</td><td>null</td><td>&quot;ignore&quot;</td><td>&quot;beatings&quot;</td><td>null</td><td>null</td><td>null</td><td>null</td><td>null</td><td>&quot;1. sicilians jeer italian lead…</td><td>1992-07-21</td><td>1992-07-21</td><td>1d</td></tr><tr><td>3251992003</td><td>&quot;Italy&quot;</td><td>325</td><td>1992</td><td>&quot;Europe&quot;</td><td>1</td><td>3</td><td>3</td><td>10</td><td>1992</td><td>3</td><td>10</td><td>1992</td><td>1</td><td>&quot;Rome&quot;</td><td>&quot;100-999&quot;</td><td>&quot;hundreds&quot;</td><td>&quot;left wing italian demonstrator…</td><td>&quot;political behavior, process&quot;</td><td>null</td><td>null</td><td>null</td><td>&quot;beatings&quot;</td><td>&quot;crowd dispersal&quot;</td><td>null</td><td>null</td><td>null</td><td>null</td><td>null</td><td>&quot;police attack rome rioters. th…</td><td>1992-10-03</td><td>1992-10-03</td><td>1d</td></tr><tr><td>3251992004</td><td>&quot;Italy&quot;</td><td>325</td><td>1992</td><td>&quot;Europe&quot;</td><td>1</td><td>4</td><td>13</td><td>10</td><td>1992</td><td>13</td><td>10</td><td>1992</td><td>0</td><td>&quot;Across Italy&quot;</td><td>&quot;&gt;10000&quot;</td><td>&quot;millions&quot;</td><td>&quot;workers&quot;</td><td>&quot;political behavior, process&quot;</td><td>null</td><td>null</td><td>null</td><td>&quot;ignore&quot;</td><td>&quot;accomodation&quot;</td><td>null</td><td>null</td><td>null</td><td>null</td><td>null</td><td>&quot;1. millions in italy march in …</td><td>1992-10-13</td><td>1992-10-13</td><td>1d</td></tr><tr><td>3251992005</td><td>&quot;Italy&quot;</td><td>325</td><td>1992</td><td>&quot;Europe&quot;</td><td>1</td><td>5</td><td>26</td><td>10</td><td>1992</td><td>26</td><td>10</td><td>1992</td><td>0</td><td>&quot;Rome&quot;</td><td>&quot;&gt;10000&quot;</td><td>&quot;10000&quot;</td><td>&quot;shopkeepers&quot;</td><td>&quot;political behavior, process&quot;</td><td>null</td><td>null</td><td>null</td><td>&quot;ignore&quot;</td><td>null</td><td>null</td><td>null</td><td>null</td><td>null</td><td>null</td><td>&quot;italy shopowners protest tax p…</td><td>1992-10-26</td><td>1992-10-26</td><td>1d</td></tr><tr><td>3251992006</td><td>&quot;Italy&quot;</td><td>325</td><td>1992</td><td>&quot;Europe&quot;</td><td>1</td><td>6</td><td>16</td><td>12</td><td>1992</td><td>16</td><td>12</td><td>1992</td><td>0</td><td>&quot;Rome&quot;</td><td>&quot;&gt;10000&quot;</td><td>&quot;20000&quot;</td><td>&quot;doctors&quot;</td><td>&quot;political behavior, process&quot;</td><td>null</td><td>null</td><td>null</td><td>&quot;ignore&quot;</td><td>null</td><td>null</td><td>null</td><td>null</td><td>null</td><td>null</td><td>&quot;rome doctors demonstrate to pr…</td><td>1992-12-16</td><td>1992-12-16</td><td>1d</td></tr></tbody></table></div>"
      ],
      "text/plain": [
       "shape: (6, 33)\n",
       "┌────────────┬─────────┬───────┬──────┬───┬───────────────┬────────────┬────────────┬──────────────┐\n",
       "│ id         ┆ country ┆ ccode ┆ year ┆ … ┆ sources       ┆ start_date ┆ end_date   ┆ duration     │\n",
       "│ ---        ┆ ---     ┆ ---   ┆ ---  ┆   ┆ ---           ┆ ---        ┆ ---        ┆ ---          │\n",
       "│ i64        ┆ str     ┆ i64   ┆ i64  ┆   ┆ str           ┆ date       ┆ date       ┆ duration[ms] │\n",
       "╞════════════╪═════════╪═══════╪══════╪═══╪═══════════════╪════════════╪════════════╪══════════════╡\n",
       "│ 3251992001 ┆ Italy   ┆ 325   ┆ 1992 ┆ … ┆ 1. anti mafia ┆ 1992-06-28 ┆ 1992-06-28 ┆ 1d           │\n",
       "│            ┆         ┆       ┆      ┆   ┆ protest. the  ┆            ┆            ┆              │\n",
       "│            ┆         ┆       ┆      ┆   ┆ was…          ┆            ┆            ┆              │\n",
       "│ 3251992002 ┆ Italy   ┆ 325   ┆ 1992 ┆ … ┆ 1. sicilians  ┆ 1992-07-21 ┆ 1992-07-21 ┆ 1d           │\n",
       "│            ┆         ┆       ┆      ┆   ┆ jeer italian  ┆            ┆            ┆              │\n",
       "│            ┆         ┆       ┆      ┆   ┆ lead…         ┆            ┆            ┆              │\n",
       "│ 3251992003 ┆ Italy   ┆ 325   ┆ 1992 ┆ … ┆ police attack ┆ 1992-10-03 ┆ 1992-10-03 ┆ 1d           │\n",
       "│            ┆         ┆       ┆      ┆   ┆ rome rioters. ┆            ┆            ┆              │\n",
       "│            ┆         ┆       ┆      ┆   ┆ th…           ┆            ┆            ┆              │\n",
       "│ 3251992004 ┆ Italy   ┆ 325   ┆ 1992 ┆ … ┆ 1. millions   ┆ 1992-10-13 ┆ 1992-10-13 ┆ 1d           │\n",
       "│            ┆         ┆       ┆      ┆   ┆ in italy      ┆            ┆            ┆              │\n",
       "│            ┆         ┆       ┆      ┆   ┆ march in …    ┆            ┆            ┆              │\n",
       "│ 3251992005 ┆ Italy   ┆ 325   ┆ 1992 ┆ … ┆ italy         ┆ 1992-10-26 ┆ 1992-10-26 ┆ 1d           │\n",
       "│            ┆         ┆       ┆      ┆   ┆ shopowners    ┆            ┆            ┆              │\n",
       "│            ┆         ┆       ┆      ┆   ┆ protest tax   ┆            ┆            ┆              │\n",
       "│            ┆         ┆       ┆      ┆   ┆ p…            ┆            ┆            ┆              │\n",
       "│ 3251992006 ┆ Italy   ┆ 325   ┆ 1992 ┆ … ┆ rome doctors  ┆ 1992-12-16 ┆ 1992-12-16 ┆ 1d           │\n",
       "│            ┆         ┆       ┆      ┆   ┆ demonstrate   ┆            ┆            ┆              │\n",
       "│            ┆         ┆       ┆      ┆   ┆ to pr…        ┆            ┆            ┆              │\n",
       "└────────────┴─────────┴───────┴──────┴───┴───────────────┴────────────┴────────────┴──────────────┘"
      ]
     },
     "execution_count": 86,
     "metadata": {},
     "output_type": "execute_result"
    }
   ],
   "source": [
    "protests.filter(\n",
    "    (pl.col(\"country\") == \"Italy\")\n",
    "    & (pl.col(\"year\") == 1992)\n",
    ")"
   ]
  },
  {
   "cell_type": "markdown",
   "id": "798e1b57",
   "metadata": {},
   "source": [
    "### 4.3 Sorting\n",
    "\n",
    "To obtain a NEW dataframe sorted according to one or more columns, we can use the `.sort()` method: "
   ]
  },
  {
   "cell_type": "code",
   "execution_count": 85,
   "id": "26ee6091",
   "metadata": {
    "scrolled": false
   },
   "outputs": [
    {
     "data": {
      "text/html": [
       "<div><style>\n",
       ".dataframe > thead > tr,\n",
       ".dataframe > tbody > tr {\n",
       "  text-align: right;\n",
       "  white-space: pre-wrap;\n",
       "}\n",
       "</style>\n",
       "<small>shape: (5, 33)</small><table border=\"1\" class=\"dataframe\"><thead><tr><th>id</th><th>country</th><th>ccode</th><th>year</th><th>region</th><th>protest</th><th>protestnumber</th><th>startday</th><th>startmonth</th><th>startyear</th><th>endday</th><th>endmonth</th><th>endyear</th><th>protesterviolence</th><th>location</th><th>participants_category</th><th>participants</th><th>protesteridentity</th><th>protesterdemand1</th><th>protesterdemand2</th><th>protesterdemand3</th><th>protesterdemand4</th><th>stateresponse1</th><th>stateresponse2</th><th>stateresponse3</th><th>stateresponse4</th><th>stateresponse5</th><th>stateresponse6</th><th>stateresponse7</th><th>sources</th><th>start_date</th><th>end_date</th><th>duration</th></tr><tr><td>i64</td><td>str</td><td>i64</td><td>i64</td><td>str</td><td>i64</td><td>i64</td><td>i64</td><td>i64</td><td>i64</td><td>i64</td><td>i64</td><td>i64</td><td>i64</td><td>str</td><td>str</td><td>str</td><td>str</td><td>str</td><td>str</td><td>str</td><td>str</td><td>str</td><td>str</td><td>str</td><td>str</td><td>str</td><td>str</td><td>str</td><td>str</td><td>date</td><td>date</td><td>duration[ms]</td></tr></thead><tbody><tr><td>201998000</td><td>&quot;Canada&quot;</td><td>20</td><td>1998</td><td>&quot;North America&quot;</td><td>0</td><td>0</td><td>null</td><td>null</td><td>null</td><td>null</td><td>null</td><td>null</td><td>null</td><td>null</td><td>null</td><td>null</td><td>null</td><td>null</td><td>null</td><td>null</td><td>null</td><td>null</td><td>null</td><td>null</td><td>null</td><td>null</td><td>null</td><td>null</td><td>null</td><td>null</td><td>null</td><td>null</td></tr><tr><td>201999000</td><td>&quot;Canada&quot;</td><td>20</td><td>1999</td><td>&quot;North America&quot;</td><td>0</td><td>0</td><td>null</td><td>null</td><td>null</td><td>null</td><td>null</td><td>null</td><td>null</td><td>null</td><td>null</td><td>null</td><td>null</td><td>null</td><td>null</td><td>null</td><td>null</td><td>null</td><td>null</td><td>null</td><td>null</td><td>null</td><td>null</td><td>null</td><td>null</td><td>null</td><td>null</td><td>null</td></tr><tr><td>202001000</td><td>&quot;Canada&quot;</td><td>20</td><td>2001</td><td>&quot;North America&quot;</td><td>0</td><td>0</td><td>null</td><td>null</td><td>null</td><td>null</td><td>null</td><td>null</td><td>null</td><td>null</td><td>null</td><td>null</td><td>null</td><td>null</td><td>null</td><td>null</td><td>null</td><td>null</td><td>null</td><td>null</td><td>null</td><td>null</td><td>null</td><td>null</td><td>null</td><td>null</td><td>null</td><td>null</td></tr><tr><td>202002000</td><td>&quot;Canada&quot;</td><td>20</td><td>2002</td><td>&quot;North America&quot;</td><td>0</td><td>0</td><td>null</td><td>null</td><td>null</td><td>null</td><td>null</td><td>null</td><td>null</td><td>null</td><td>null</td><td>null</td><td>null</td><td>null</td><td>null</td><td>null</td><td>null</td><td>null</td><td>null</td><td>null</td><td>null</td><td>null</td><td>null</td><td>null</td><td>null</td><td>null</td><td>null</td><td>null</td></tr><tr><td>202004000</td><td>&quot;Canada&quot;</td><td>20</td><td>2004</td><td>&quot;North America&quot;</td><td>0</td><td>0</td><td>null</td><td>null</td><td>null</td><td>null</td><td>null</td><td>null</td><td>null</td><td>null</td><td>null</td><td>null</td><td>null</td><td>null</td><td>null</td><td>null</td><td>null</td><td>null</td><td>null</td><td>null</td><td>null</td><td>null</td><td>null</td><td>null</td><td>null</td><td>null</td><td>null</td><td>null</td></tr></tbody></table></div>"
      ],
      "text/plain": [
       "shape: (5, 33)\n",
       "┌───────────┬─────────┬───────┬──────┬───┬─────────┬────────────┬──────────┬──────────────┐\n",
       "│ id        ┆ country ┆ ccode ┆ year ┆ … ┆ sources ┆ start_date ┆ end_date ┆ duration     │\n",
       "│ ---       ┆ ---     ┆ ---   ┆ ---  ┆   ┆ ---     ┆ ---        ┆ ---      ┆ ---          │\n",
       "│ i64       ┆ str     ┆ i64   ┆ i64  ┆   ┆ str     ┆ date       ┆ date     ┆ duration[ms] │\n",
       "╞═══════════╪═════════╪═══════╪══════╪═══╪═════════╪════════════╪══════════╪══════════════╡\n",
       "│ 201998000 ┆ Canada  ┆ 20    ┆ 1998 ┆ … ┆ null    ┆ null       ┆ null     ┆ null         │\n",
       "│ 201999000 ┆ Canada  ┆ 20    ┆ 1999 ┆ … ┆ null    ┆ null       ┆ null     ┆ null         │\n",
       "│ 202001000 ┆ Canada  ┆ 20    ┆ 2001 ┆ … ┆ null    ┆ null       ┆ null     ┆ null         │\n",
       "│ 202002000 ┆ Canada  ┆ 20    ┆ 2002 ┆ … ┆ null    ┆ null       ┆ null     ┆ null         │\n",
       "│ 202004000 ┆ Canada  ┆ 20    ┆ 2004 ┆ … ┆ null    ┆ null       ┆ null     ┆ null         │\n",
       "└───────────┴─────────┴───────┴──────┴───┴─────────┴────────────┴──────────┴──────────────┘"
      ]
     },
     "execution_count": 85,
     "metadata": {},
     "output_type": "execute_result"
    }
   ],
   "source": [
    "protests.sort(by='duration', descending=True).head()"
   ]
  },
  {
   "cell_type": "markdown",
   "id": "14b276b4",
   "metadata": {},
   "source": [
    "Oops, that gives us only rows with a `null` duration, let's put them last!"
   ]
  },
  {
   "cell_type": "code",
   "execution_count": null,
   "id": "0108206c",
   "metadata": {},
   "outputs": [
    {
     "data": {
      "text/html": [
       "<div><style>\n",
       ".dataframe > thead > tr,\n",
       ".dataframe > tbody > tr {\n",
       "  text-align: right;\n",
       "  white-space: pre-wrap;\n",
       "}\n",
       "</style>\n",
       "<small>shape: (5, 33)</small><table border=\"1\" class=\"dataframe\"><thead><tr><th>id</th><th>country</th><th>ccode</th><th>year</th><th>region</th><th>protest</th><th>protestnumber</th><th>startday</th><th>startmonth</th><th>startyear</th><th>endday</th><th>endmonth</th><th>endyear</th><th>protesterviolence</th><th>location</th><th>participants_category</th><th>participants</th><th>protesteridentity</th><th>protesterdemand1</th><th>protesterdemand2</th><th>protesterdemand3</th><th>protesterdemand4</th><th>stateresponse1</th><th>stateresponse2</th><th>stateresponse3</th><th>stateresponse4</th><th>stateresponse5</th><th>stateresponse6</th><th>stateresponse7</th><th>sources</th><th>start_date</th><th>end_date</th><th>duration</th></tr><tr><td>i64</td><td>str</td><td>i64</td><td>i64</td><td>str</td><td>i64</td><td>i64</td><td>i64</td><td>i64</td><td>i64</td><td>i64</td><td>i64</td><td>i64</td><td>i64</td><td>str</td><td>str</td><td>str</td><td>str</td><td>str</td><td>str</td><td>str</td><td>str</td><td>str</td><td>str</td><td>str</td><td>str</td><td>str</td><td>str</td><td>str</td><td>str</td><td>date</td><td>date</td><td>duration[ms]</td></tr></thead><tbody><tr><td>6002011005</td><td>&quot;Morocco&quot;</td><td>600</td><td>2011</td><td>&quot;MENA&quot;</td><td>1</td><td>5</td><td>1</td><td>7</td><td>2011</td><td>24</td><td>1</td><td>2014</td><td>0</td><td>&quot;Imider&quot;</td><td>&quot;50-99&quot;</td><td>&quot;&gt;50&quot;</td><td>&quot;protesters, students, locals, …</td><td>&quot;political behavior, process&quot;</td><td>&quot;price increases, tax policy&quot;</td><td>null</td><td>null</td><td>&quot;killings&quot;</td><td>null</td><td>null</td><td>null</td><td>null</td><td>null</td><td>null</td><td>&quot;on moroccan hill, villagers ma…</td><td>2011-07-01</td><td>2014-01-24</td><td>939d</td></tr><tr><td>7502014011</td><td>&quot;India&quot;</td><td>750</td><td>2014</td><td>&quot;Asia&quot;</td><td>1</td><td>11</td><td>3</td><td>6</td><td>2014</td><td>3</td><td>6</td><td>2016</td><td>1</td><td>&quot;Jawahar Bagh, a public garden …</td><td>&quot;2000-4999&quot;</td><td>&quot;About 2,000 people&quot;</td><td>&quot;a group that was calling for h…</td><td>&quot;political behavior, process&quot;</td><td>&quot;price increases, tax policy&quot;</td><td>null</td><td>null</td><td>&quot;crowd dispersal&quot;</td><td>&quot;killings&quot;</td><td>&quot;shootings&quot;</td><td>null</td><td>null</td><td>null</td><td>null</td><td>&quot;24 killed as armed protesters …</td><td>2014-06-03</td><td>2016-06-03</td><td>732d</td></tr><tr><td>3502013013</td><td>&quot;Greece&quot;</td><td>350</td><td>2013</td><td>&quot;Europe&quot;</td><td>1</td><td>13</td><td>22</td><td>7</td><td>2013</td><td>11</td><td>5</td><td>2015</td><td>0</td><td>&quot;Athens&quot;</td><td>&quot;100-999&quot;</td><td>&quot;100s&quot;</td><td>&quot;state paid cleaning ladies&quot;</td><td>&quot;labor wage dispute&quot;</td><td>null</td><td>null</td><td>null</td><td>&quot;accomodation&quot;</td><td>null</td><td>null</td><td>null</td><td>null</td><td>null</td><td>&quot;.&quot;</td><td>&quot;germany urges greece to vote o…</td><td>2013-07-22</td><td>2015-05-11</td><td>659d</td></tr><tr><td>6522011003</td><td>&quot;Syria&quot;</td><td>652</td><td>2011</td><td>&quot;MENA&quot;</td><td>1</td><td>3</td><td>18</td><td>3</td><td>2011</td><td>3</td><td>12</td><td>2012</td><td>1</td><td>&quot;National&quot;</td><td>null</td><td>&quot;10000s &quot;</td><td>null</td><td>&quot;political behavior, process&quot;</td><td>&quot;removal of politician&quot;</td><td>&quot;police brutality&quot;</td><td>null</td><td>&quot;killings&quot;</td><td>&quot;shootings&quot;</td><td>&quot;beatings&quot;</td><td>&quot;crowd dispersal&quot;</td><td>&quot;arrests&quot;</td><td>&quot;accomodation&quot;</td><td>null</td><td>&quot;security forces restrained as …</td><td>2011-03-18</td><td>2012-12-03</td><td>627d</td></tr><tr><td>1552016001</td><td>&quot;Chile&quot;</td><td>155</td><td>2016</td><td>&quot;South America&quot;</td><td>1</td><td>1</td><td>15</td><td>5</td><td>2016</td><td>17</td><td>5</td><td>2017</td><td>0</td><td>&quot;Chiloe Island&quot;</td><td>&quot;50-99&quot;</td><td>&quot;&gt;50&quot;</td><td>&quot;fishermen&quot;</td><td>&quot;political behavior, process&quot;</td><td>null</td><td>null</td><td>null</td><td>&quot;ignore&quot;</td><td>null</td><td>null</td><td>null</td><td>null</td><td>null</td><td>null</td><td>&quot;1. toxic red tide in chile pro…</td><td>2016-05-15</td><td>2017-05-17</td><td>368d</td></tr></tbody></table></div>"
      ],
      "text/plain": [
       "shape: (5, 33)\n",
       "┌────────────┬─────────┬───────┬──────┬───┬───────────────┬────────────┬────────────┬──────────────┐\n",
       "│ id         ┆ country ┆ ccode ┆ year ┆ … ┆ sources       ┆ start_date ┆ end_date   ┆ duration     │\n",
       "│ ---        ┆ ---     ┆ ---   ┆ ---  ┆   ┆ ---           ┆ ---        ┆ ---        ┆ ---          │\n",
       "│ i64        ┆ str     ┆ i64   ┆ i64  ┆   ┆ str           ┆ date       ┆ date       ┆ duration[ms] │\n",
       "╞════════════╪═════════╪═══════╪══════╪═══╪═══════════════╪════════════╪════════════╪══════════════╡\n",
       "│ 6002011005 ┆ Morocco ┆ 600   ┆ 2011 ┆ … ┆ on moroccan   ┆ 2011-07-01 ┆ 2014-01-24 ┆ 939d         │\n",
       "│            ┆         ┆       ┆      ┆   ┆ hill,         ┆            ┆            ┆              │\n",
       "│            ┆         ┆       ┆      ┆   ┆ villagers ma… ┆            ┆            ┆              │\n",
       "│ 7502014011 ┆ India   ┆ 750   ┆ 2014 ┆ … ┆ 24 killed as  ┆ 2014-06-03 ┆ 2016-06-03 ┆ 732d         │\n",
       "│            ┆         ┆       ┆      ┆   ┆ armed         ┆            ┆            ┆              │\n",
       "│            ┆         ┆       ┆      ┆   ┆ protesters …  ┆            ┆            ┆              │\n",
       "│ 3502013013 ┆ Greece  ┆ 350   ┆ 2013 ┆ … ┆ germany urges ┆ 2013-07-22 ┆ 2015-05-11 ┆ 659d         │\n",
       "│            ┆         ┆       ┆      ┆   ┆ greece to     ┆            ┆            ┆              │\n",
       "│            ┆         ┆       ┆      ┆   ┆ vote o…       ┆            ┆            ┆              │\n",
       "│ 6522011003 ┆ Syria   ┆ 652   ┆ 2011 ┆ … ┆ security      ┆ 2011-03-18 ┆ 2012-12-03 ┆ 627d         │\n",
       "│            ┆         ┆       ┆      ┆   ┆ forces        ┆            ┆            ┆              │\n",
       "│            ┆         ┆       ┆      ┆   ┆ restrained as ┆            ┆            ┆              │\n",
       "│            ┆         ┆       ┆      ┆   ┆ …             ┆            ┆            ┆              │\n",
       "│ 1552016001 ┆ Chile   ┆ 155   ┆ 2016 ┆ … ┆ 1. toxic red  ┆ 2016-05-15 ┆ 2017-05-17 ┆ 368d         │\n",
       "│            ┆         ┆       ┆      ┆   ┆ tide in chile ┆            ┆            ┆              │\n",
       "│            ┆         ┆       ┆      ┆   ┆ pro…          ┆            ┆            ┆              │\n",
       "└────────────┴─────────┴───────┴──────┴───┴───────────────┴────────────┴────────────┴──────────────┘"
      ]
     },
     "metadata": {},
     "output_type": "display_data"
    }
   ],
   "source": [
    "protests.sort(by='duration', descending=True, nulls_last=True).head()"
   ]
  },
  {
   "cell_type": "markdown",
   "id": "1178b04b",
   "metadata": {},
   "source": [
    "### 4.4  Exercise - Meteo stats\n",
    "\n",
    "✪ Analyze data from  Dataframe ```meteo``` to find:\n",
    "\n",
    "* values of average pression, minimal and maximal\n",
    "* average temperature\n",
    "* the dates of rainy days"
   ]
  },
  {
   "cell_type": "code",
   "execution_count": 42,
   "id": "5ddcfb06",
   "metadata": {},
   "outputs": [
    {
     "name": "stdout",
     "output_type": "stream",
     "text": [
      "Average pressure : 986.3408269631689\n",
      "Minimal pressure : 966.3\n",
      "Maximal pressure : 998.3\n",
      "Average temperature : 6.410701876302988\n"
     ]
    },
    {
     "data": {
      "text/html": [
       "<div>\n",
       "<style scoped>\n",
       "    .dataframe tbody tr th:only-of-type {\n",
       "        vertical-align: middle;\n",
       "    }\n",
       "\n",
       "    .dataframe tbody tr th {\n",
       "        vertical-align: top;\n",
       "    }\n",
       "\n",
       "    .dataframe thead th {\n",
       "        text-align: right;\n",
       "    }\n",
       "</style>\n",
       "<table border=\"1\" class=\"dataframe\">\n",
       "  <thead>\n",
       "    <tr style=\"text-align: right;\">\n",
       "      <th></th>\n",
       "      <th>Date</th>\n",
       "      <th>Pressure</th>\n",
       "      <th>Rain</th>\n",
       "      <th>Temp</th>\n",
       "    </tr>\n",
       "  </thead>\n",
       "  <tbody>\n",
       "    <tr>\n",
       "      <th>433</th>\n",
       "      <td>05/11/2017 12:15</td>\n",
       "      <td>979.2</td>\n",
       "      <td>0.2</td>\n",
       "      <td>8.6</td>\n",
       "    </tr>\n",
       "    <tr>\n",
       "      <th>435</th>\n",
       "      <td>05/11/2017 12:45</td>\n",
       "      <td>978.9</td>\n",
       "      <td>0.2</td>\n",
       "      <td>8.4</td>\n",
       "    </tr>\n",
       "    <tr>\n",
       "      <th>436</th>\n",
       "      <td>05/11/2017 13:00</td>\n",
       "      <td>979.0</td>\n",
       "      <td>0.2</td>\n",
       "      <td>8.4</td>\n",
       "    </tr>\n",
       "    <tr>\n",
       "      <th>437</th>\n",
       "      <td>05/11/2017 13:15</td>\n",
       "      <td>979.1</td>\n",
       "      <td>0.8</td>\n",
       "      <td>8.2</td>\n",
       "    </tr>\n",
       "    <tr>\n",
       "      <th>438</th>\n",
       "      <td>05/11/2017 13:30</td>\n",
       "      <td>979.0</td>\n",
       "      <td>0.6</td>\n",
       "      <td>8.2</td>\n",
       "    </tr>\n",
       "    <tr>\n",
       "      <th>...</th>\n",
       "      <td>...</td>\n",
       "      <td>...</td>\n",
       "      <td>...</td>\n",
       "      <td>...</td>\n",
       "    </tr>\n",
       "    <tr>\n",
       "      <th>2754</th>\n",
       "      <td>29/11/2017 17:15</td>\n",
       "      <td>976.1</td>\n",
       "      <td>0.2</td>\n",
       "      <td>0.9</td>\n",
       "    </tr>\n",
       "    <tr>\n",
       "      <th>2755</th>\n",
       "      <td>29/11/2017 17:30</td>\n",
       "      <td>975.9</td>\n",
       "      <td>0.2</td>\n",
       "      <td>0.9</td>\n",
       "    </tr>\n",
       "    <tr>\n",
       "      <th>2802</th>\n",
       "      <td>30/11/2017 05:15</td>\n",
       "      <td>971.3</td>\n",
       "      <td>0.2</td>\n",
       "      <td>1.3</td>\n",
       "    </tr>\n",
       "    <tr>\n",
       "      <th>2803</th>\n",
       "      <td>30/11/2017 05:30</td>\n",
       "      <td>971.3</td>\n",
       "      <td>0.2</td>\n",
       "      <td>1.1</td>\n",
       "    </tr>\n",
       "    <tr>\n",
       "      <th>2804</th>\n",
       "      <td>30/11/2017 05:45</td>\n",
       "      <td>971.5</td>\n",
       "      <td>0.2</td>\n",
       "      <td>1.1</td>\n",
       "    </tr>\n",
       "  </tbody>\n",
       "</table>\n",
       "<p>107 rows × 4 columns</p>\n",
       "</div>"
      ],
      "text/plain": [
       "                  Date  Pressure  Rain  Temp\n",
       "433   05/11/2017 12:15     979.2   0.2   8.6\n",
       "435   05/11/2017 12:45     978.9   0.2   8.4\n",
       "436   05/11/2017 13:00     979.0   0.2   8.4\n",
       "437   05/11/2017 13:15     979.1   0.8   8.2\n",
       "438   05/11/2017 13:30     979.0   0.6   8.2\n",
       "...                ...       ...   ...   ...\n",
       "2754  29/11/2017 17:15     976.1   0.2   0.9\n",
       "2755  29/11/2017 17:30     975.9   0.2   0.9\n",
       "2802  30/11/2017 05:15     971.3   0.2   1.3\n",
       "2803  30/11/2017 05:30     971.3   0.2   1.1\n",
       "2804  30/11/2017 05:45     971.5   0.2   1.1\n",
       "\n",
       "[107 rows x 4 columns]"
      ]
     },
     "execution_count": 42,
     "metadata": {},
     "output_type": "execute_result"
    }
   ],
   "source": [
    "# write here\n",
    "print(\"Average pressure : %s\" % meteo.Pressure.values.mean())\n",
    "print(\"Minimal pressure : %s\" % meteo.Pressure.values.min())\n",
    "print(\"Maximal pressure : %s\" % meteo.Pressure.values.max())\n",
    "print(\"Average temperature : %s\" % meteo.Temp.values.mean())\n",
    "meteo[(meteo.Rain > 0)]"
   ]
  },
  {
   "cell_type": "markdown",
   "id": "7ae67f38",
   "metadata": {},
   "source": [
    "### 4.5 Exercise - meteo plot\n",
    "\n",
    "✪ Put in a plot the temperature from  dataframe _meteo:_\n"
   ]
  },
  {
   "cell_type": "code",
   "execution_count": 43,
   "id": "47ff3813",
   "metadata": {},
   "outputs": [],
   "source": [
    "import matplotlib as mpl\n",
    "import matplotlib.pyplot as plt\n",
    "%matplotlib inline\n",
    "\n",
    "# write here\n",
    "\n"
   ]
  },
  {
   "cell_type": "code",
   "execution_count": 44,
   "id": "3cb01d06",
   "metadata": {},
   "outputs": [
    {
     "data": {
      "image/png": "[encoded data removed]",
      "text/plain": [
       "<Figure size 640x480 with 1 Axes>"
      ]
     },
     "metadata": {},
     "output_type": "display_data"
    }
   ],
   "source": [
    "# SOLUTION\n",
    "import matplotlib as mpl\n",
    "import matplotlib.pyplot as plt\n",
    "%matplotlib inline\n",
    "\n",
    "meteo.Temp.plot()\n",
    "plt.show()"
   ]
  },
  {
   "cell_type": "markdown",
   "id": "8e8da6bb",
   "metadata": {},
   "source": [
    "\n",
    "### 4.6 Exercise - Meteo pressure and raining\n",
    "\n",
    "✪ In the same plot as above show the pressure and amount of raining.\n",
    "\n"
   ]
  },
  {
   "cell_type": "code",
   "execution_count": 45,
   "id": "60d66ee4",
   "metadata": {},
   "outputs": [],
   "source": [
    "# write here\n"
   ]
  },
  {
   "cell_type": "code",
   "execution_count": 46,
   "id": "faf7312d",
   "metadata": {
    "scrolled": true
   },
   "outputs": [
    {
     "data": {
      "image/png": "[encoded data removed]",
      "text/plain": [
       "<Figure size 640x480 with 2 Axes>"
      ]
     },
     "metadata": {},
     "output_type": "display_data"
    }
   ],
   "source": [
    "# SOLUTION\n",
    "\n",
    "meteo.Temp.plot(label=\"Temperature\", legend=True)\n",
    "meteo.Rain.plot(label=\"Rain\", legend=True)\n",
    "meteo.Pressure.plot(secondary_y=True, label=\"Pressure\", legend=True);\n",
    "plt.show()"
   ]
  },
  {
   "cell_type": "markdown",
   "id": "531b32db",
   "metadata": {},
   "source": [
    "## 5. Operations on strings\n",
    "\n",
    "To perform operations on `string` columns, we need to use the `.str` accessor after selecting the right column. This gives you access to a number of methods, some similar to known Python method to manipulate strings, some not. For more details see [the documentation](https://docs.pola.rs/api/python/stable/reference/expressions/string.html)"
   ]
  },
  {
   "cell_type": "markdown",
   "id": "e2cfe917",
   "metadata": {},
   "source": [
    "\n",
    "### 5.1 Filter by textual values\n",
    "\n",
    "When we want to filter by text values, we can use `.str.contains`, here for example we select all the protests in which the source article mentioned a \"riot\":"
   ]
  },
  {
   "cell_type": "code",
   "execution_count": 93,
   "id": "c2f2d672",
   "metadata": {
    "scrolled": false
   },
   "outputs": [
    {
     "data": {
      "text/html": [
       "<div><style>\n",
       ".dataframe > thead > tr,\n",
       ".dataframe > tbody > tr {\n",
       "  text-align: right;\n",
       "  white-space: pre-wrap;\n",
       "}\n",
       "</style>\n",
       "<small>shape: (5, 33)</small><table border=\"1\" class=\"dataframe\"><thead><tr><th>id</th><th>country</th><th>ccode</th><th>year</th><th>region</th><th>protest</th><th>protestnumber</th><th>startday</th><th>startmonth</th><th>startyear</th><th>endday</th><th>endmonth</th><th>endyear</th><th>protesterviolence</th><th>location</th><th>participants_category</th><th>participants</th><th>protesteridentity</th><th>protesterdemand1</th><th>protesterdemand2</th><th>protesterdemand3</th><th>protesterdemand4</th><th>stateresponse1</th><th>stateresponse2</th><th>stateresponse3</th><th>stateresponse4</th><th>stateresponse5</th><th>stateresponse6</th><th>stateresponse7</th><th>sources</th><th>start_date</th><th>end_date</th><th>duration</th></tr><tr><td>i64</td><td>str</td><td>i64</td><td>i64</td><td>str</td><td>i64</td><td>i64</td><td>i64</td><td>i64</td><td>i64</td><td>i64</td><td>i64</td><td>i64</td><td>i64</td><td>str</td><td>str</td><td>str</td><td>str</td><td>str</td><td>str</td><td>str</td><td>str</td><td>str</td><td>str</td><td>str</td><td>str</td><td>str</td><td>str</td><td>str</td><td>str</td><td>date</td><td>date</td><td>duration[ms]</td></tr></thead><tbody><tr><td>201992001</td><td>&quot;Canada&quot;</td><td>20</td><td>1992</td><td>&quot;North America&quot;</td><td>1</td><td>1</td><td>4</td><td>5</td><td>1992</td><td>5</td><td>5</td><td>1992</td><td>1</td><td>&quot;Toronto&quot;</td><td>null</td><td>&quot;1000&quot;</td><td>&quot;gangs of black and white youth…</td><td>&quot;police brutality&quot;</td><td>null</td><td>null</td><td>null</td><td>&quot;arrests&quot;</td><td>null</td><td>null</td><td>null</td><td>null</td><td>null</td><td>null</td><td>&quot;1. window smashing and looting…</td><td>1992-05-04</td><td>1992-05-05</td><td>2d</td></tr><tr><td>202008001</td><td>&quot;Canada&quot;</td><td>20</td><td>2008</td><td>&quot;North America&quot;</td><td>1</td><td>1</td><td>10</td><td>8</td><td>2008</td><td>10</td><td>8</td><td>2008</td><td>1</td><td>&quot;Montreal, Quebec&quot;</td><td>null</td><td>&quot;100s&quot;</td><td>&quot;unspecified&quot;</td><td>&quot;police brutality&quot;</td><td>null</td><td>null</td><td>null</td><td>&quot;crowd dispersal&quot;</td><td>null</td><td>null</td><td>null</td><td>null</td><td>null</td><td>null</td><td>&quot;1. canada: rioting in montreal…</td><td>2008-08-10</td><td>2008-08-10</td><td>1d</td></tr><tr><td>202012001</td><td>&quot;Canada&quot;</td><td>20</td><td>2012</td><td>&quot;North America&quot;</td><td>1</td><td>1</td><td>10</td><td>2</td><td>2012</td><td>6</td><td>6</td><td>2012</td><td>1</td><td>&quot;Quebec&quot;</td><td>null</td><td>&quot;1000s&quot;</td><td>&quot;university students&quot;</td><td>&quot;price increases, tax policy&quot;</td><td>null</td><td>null</td><td>null</td><td>&quot;crowd dispersal&quot;</td><td>&quot;arrests&quot;</td><td>null</td><td>null</td><td>null</td><td>null</td><td>null</td><td>&quot;1. quebec plans to suspend cla…</td><td>2012-02-10</td><td>2012-06-06</td><td>118d</td></tr><tr><td>401994001</td><td>&quot;Cuba&quot;</td><td>40</td><td>1994</td><td>&quot;North America&quot;</td><td>1</td><td>1</td><td>5</td><td>8</td><td>1994</td><td>5</td><td>8</td><td>1994</td><td>1</td><td>&quot;Havana&quot;</td><td>null</td><td>&quot;1000&quot;</td><td>&quot;unspecified&quot;</td><td>&quot;political behavior, process&quot;</td><td>null</td><td>null</td><td>null</td><td>&quot;arrests&quot;</td><td>null</td><td>null</td><td>null</td><td>null</td><td>null</td><td>null</td><td>&quot;1. protesters battle police in…</td><td>1994-08-05</td><td>1994-08-05</td><td>1d</td></tr><tr><td>411995002</td><td>&quot;Haiti&quot;</td><td>41</td><td>1995</td><td>&quot;North America&quot;</td><td>1</td><td>2</td><td>23</td><td>11</td><td>1995</td><td>23</td><td>11</td><td>1995</td><td>1</td><td>&quot;Cite Soleil&quot;</td><td>null</td><td>&quot;50&quot;</td><td>&quot;residents of cite soleil&quot;</td><td>&quot;police brutality&quot;</td><td>null</td><td>null</td><td>null</td><td>&quot;ignore&quot;</td><td>null</td><td>null</td><td>null</td><td>null</td><td>null</td><td>null</td><td>&quot;1. fatal clashes in haiti slum…</td><td>1995-11-23</td><td>1995-11-23</td><td>1d</td></tr></tbody></table></div>"
      ],
      "text/plain": [
       "shape: (5, 33)\n",
       "┌───────────┬─────────┬───────┬──────┬───┬────────────────┬────────────┬────────────┬──────────────┐\n",
       "│ id        ┆ country ┆ ccode ┆ year ┆ … ┆ sources        ┆ start_date ┆ end_date   ┆ duration     │\n",
       "│ ---       ┆ ---     ┆ ---   ┆ ---  ┆   ┆ ---            ┆ ---        ┆ ---        ┆ ---          │\n",
       "│ i64       ┆ str     ┆ i64   ┆ i64  ┆   ┆ str            ┆ date       ┆ date       ┆ duration[ms] │\n",
       "╞═══════════╪═════════╪═══════╪══════╪═══╪════════════════╪════════════╪════════════╪══════════════╡\n",
       "│ 201992001 ┆ Canada  ┆ 20    ┆ 1992 ┆ … ┆ 1. window      ┆ 1992-05-04 ┆ 1992-05-05 ┆ 2d           │\n",
       "│           ┆         ┆       ┆      ┆   ┆ smashing and   ┆            ┆            ┆              │\n",
       "│           ┆         ┆       ┆      ┆   ┆ looting…       ┆            ┆            ┆              │\n",
       "│ 202008001 ┆ Canada  ┆ 20    ┆ 2008 ┆ … ┆ 1. canada:     ┆ 2008-08-10 ┆ 2008-08-10 ┆ 1d           │\n",
       "│           ┆         ┆       ┆      ┆   ┆ rioting in     ┆            ┆            ┆              │\n",
       "│           ┆         ┆       ┆      ┆   ┆ montreal…      ┆            ┆            ┆              │\n",
       "│ 202012001 ┆ Canada  ┆ 20    ┆ 2012 ┆ … ┆ 1. quebec      ┆ 2012-02-10 ┆ 2012-06-06 ┆ 118d         │\n",
       "│           ┆         ┆       ┆      ┆   ┆ plans to       ┆            ┆            ┆              │\n",
       "│           ┆         ┆       ┆      ┆   ┆ suspend cla…   ┆            ┆            ┆              │\n",
       "│ 401994001 ┆ Cuba    ┆ 40    ┆ 1994 ┆ … ┆ 1. protesters  ┆ 1994-08-05 ┆ 1994-08-05 ┆ 1d           │\n",
       "│           ┆         ┆       ┆      ┆   ┆ battle police  ┆            ┆            ┆              │\n",
       "│           ┆         ┆       ┆      ┆   ┆ in…            ┆            ┆            ┆              │\n",
       "│ 411995002 ┆ Haiti   ┆ 41    ┆ 1995 ┆ … ┆ 1. fatal       ┆ 1995-11-23 ┆ 1995-11-23 ┆ 1d           │\n",
       "│           ┆         ┆       ┆      ┆   ┆ clashes in     ┆            ┆            ┆              │\n",
       "│           ┆         ┆       ┆      ┆   ┆ haiti slum…    ┆            ┆            ┆              │\n",
       "└───────────┴─────────┴───────┴──────┴───┴────────────────┴────────────┴────────────┴──────────────┘"
      ]
     },
     "execution_count": 93,
     "metadata": {},
     "output_type": "execute_result"
    }
   ],
   "source": [
    "protests.filter(pl.col(\"sources\").str.contains(\"riot\")).head()"
   ]
  },
  {
   "cell_type": "markdown",
   "id": "9102e1e0",
   "metadata": {},
   "source": [
    "### 5.2 Extracting strings\n",
    "\n",
    "We can also use it, for instance, to extract a rough estimate of the number of participants as an integer, as follows:"
   ]
  },
  {
   "cell_type": "code",
   "execution_count": 92,
   "id": "5d6c1233",
   "metadata": {},
   "outputs": [
    {
     "data": {
      "text/html": [
       "<div><style>\n",
       ".dataframe > thead > tr,\n",
       ".dataframe > tbody > tr {\n",
       "  text-align: right;\n",
       "  white-space: pre-wrap;\n",
       "}\n",
       "</style>\n",
       "<small>shape: (5, 33)</small><table border=\"1\" class=\"dataframe\"><thead><tr><th>id</th><th>country</th><th>ccode</th><th>year</th><th>region</th><th>protest</th><th>protestnumber</th><th>startday</th><th>startmonth</th><th>startyear</th><th>endday</th><th>endmonth</th><th>endyear</th><th>protesterviolence</th><th>location</th><th>participants_category</th><th>participants</th><th>protesteridentity</th><th>protesterdemand1</th><th>protesterdemand2</th><th>protesterdemand3</th><th>protesterdemand4</th><th>stateresponse1</th><th>stateresponse2</th><th>stateresponse3</th><th>stateresponse4</th><th>stateresponse5</th><th>stateresponse6</th><th>stateresponse7</th><th>sources</th><th>start_date</th><th>end_date</th><th>duration</th></tr><tr><td>i64</td><td>str</td><td>i64</td><td>i64</td><td>str</td><td>i64</td><td>i64</td><td>i64</td><td>i64</td><td>i64</td><td>i64</td><td>i64</td><td>i64</td><td>i64</td><td>str</td><td>str</td><td>i64</td><td>str</td><td>str</td><td>str</td><td>str</td><td>str</td><td>str</td><td>str</td><td>str</td><td>str</td><td>str</td><td>str</td><td>str</td><td>str</td><td>date</td><td>date</td><td>duration[ms]</td></tr></thead><tbody><tr><td>201990001</td><td>&quot;Canada&quot;</td><td>20</td><td>1990</td><td>&quot;North America&quot;</td><td>1</td><td>1</td><td>15</td><td>1</td><td>1990</td><td>15</td><td>1</td><td>1990</td><td>0</td><td>&quot;national&quot;</td><td>null</td><td>1000</td><td>&quot;unspecified&quot;</td><td>&quot;political behavior, process&quot;</td><td>&quot;labor wage dispute&quot;</td><td>null</td><td>null</td><td>&quot;ignore&quot;</td><td>null</td><td>null</td><td>null</td><td>null</td><td>null</td><td>null</td><td>&quot;1. great canadian train journe…</td><td>1990-01-15</td><td>1990-01-15</td><td>1d</td></tr><tr><td>201990002</td><td>&quot;Canada&quot;</td><td>20</td><td>1990</td><td>&quot;North America&quot;</td><td>1</td><td>2</td><td>25</td><td>6</td><td>1990</td><td>25</td><td>6</td><td>1990</td><td>0</td><td>&quot;Montreal, Quebec&quot;</td><td>null</td><td>1000</td><td>&quot;unspecified&quot;</td><td>&quot;political behavior, process&quot;</td><td>null</td><td>null</td><td>null</td><td>&quot;ignore&quot;</td><td>null</td><td>null</td><td>null</td><td>null</td><td>null</td><td>null</td><td>&quot;1. autonomy s cry revived in q…</td><td>1990-06-25</td><td>1990-06-25</td><td>1d</td></tr><tr><td>201990003</td><td>&quot;Canada&quot;</td><td>20</td><td>1990</td><td>&quot;North America&quot;</td><td>1</td><td>3</td><td>1</td><td>7</td><td>1990</td><td>1</td><td>7</td><td>1990</td><td>0</td><td>&quot;Montreal, Quebec&quot;</td><td>null</td><td>500</td><td>&quot;separatist parti quebecois&quot;</td><td>&quot;political behavior, process&quot;</td><td>null</td><td>null</td><td>null</td><td>&quot;ignore&quot;</td><td>null</td><td>null</td><td>null</td><td>null</td><td>null</td><td>null</td><td>&quot;1. quebec protest after queen …</td><td>1990-07-01</td><td>1990-07-01</td><td>1d</td></tr><tr><td>201990004</td><td>&quot;Canada&quot;</td><td>20</td><td>1990</td><td>&quot;North America&quot;</td><td>1</td><td>4</td><td>12</td><td>7</td><td>1990</td><td>6</td><td>9</td><td>1990</td><td>1</td><td>&quot;Montreal, Quebec&quot;</td><td>null</td><td>100</td><td>&quot;mohawk indians&quot;</td><td>&quot;land farm issue&quot;</td><td>null</td><td>null</td><td>null</td><td>&quot;accomodation&quot;</td><td>null</td><td>null</td><td>null</td><td>null</td><td>null</td><td>null</td><td>&quot;1. indians gather as siege int…</td><td>1990-07-12</td><td>1990-09-06</td><td>57d</td></tr><tr><td>201990005</td><td>&quot;Canada&quot;</td><td>20</td><td>1990</td><td>&quot;North America&quot;</td><td>1</td><td>5</td><td>14</td><td>8</td><td>1990</td><td>15</td><td>8</td><td>1990</td><td>1</td><td>&quot;Montreal, Quebec&quot;</td><td>null</td><td>950</td><td>&quot;local residents&quot;</td><td>&quot;political behavior, process&quot;</td><td>null</td><td>null</td><td>null</td><td>&quot;crowd dispersal&quot;</td><td>&quot;arrests&quot;</td><td>&quot;accomodation&quot;</td><td>null</td><td>null</td><td>null</td><td>null</td><td>&quot;1. dozens hurt in mohawk block…</td><td>1990-08-14</td><td>1990-08-15</td><td>2d</td></tr></tbody></table></div>"
      ],
      "text/plain": [
       "shape: (5, 33)\n",
       "┌───────────┬─────────┬───────┬──────┬───┬────────────────┬────────────┬────────────┬──────────────┐\n",
       "│ id        ┆ country ┆ ccode ┆ year ┆ … ┆ sources        ┆ start_date ┆ end_date   ┆ duration     │\n",
       "│ ---       ┆ ---     ┆ ---   ┆ ---  ┆   ┆ ---            ┆ ---        ┆ ---        ┆ ---          │\n",
       "│ i64       ┆ str     ┆ i64   ┆ i64  ┆   ┆ str            ┆ date       ┆ date       ┆ duration[ms] │\n",
       "╞═══════════╪═════════╪═══════╪══════╪═══╪════════════════╪════════════╪════════════╪══════════════╡\n",
       "│ 201990001 ┆ Canada  ┆ 20    ┆ 1990 ┆ … ┆ 1. great       ┆ 1990-01-15 ┆ 1990-01-15 ┆ 1d           │\n",
       "│           ┆         ┆       ┆      ┆   ┆ canadian train ┆            ┆            ┆              │\n",
       "│           ┆         ┆       ┆      ┆   ┆ journe…        ┆            ┆            ┆              │\n",
       "│ 201990002 ┆ Canada  ┆ 20    ┆ 1990 ┆ … ┆ 1. autonomy s  ┆ 1990-06-25 ┆ 1990-06-25 ┆ 1d           │\n",
       "│           ┆         ┆       ┆      ┆   ┆ cry revived in ┆            ┆            ┆              │\n",
       "│           ┆         ┆       ┆      ┆   ┆ q…             ┆            ┆            ┆              │\n",
       "│ 201990003 ┆ Canada  ┆ 20    ┆ 1990 ┆ … ┆ 1. quebec      ┆ 1990-07-01 ┆ 1990-07-01 ┆ 1d           │\n",
       "│           ┆         ┆       ┆      ┆   ┆ protest after  ┆            ┆            ┆              │\n",
       "│           ┆         ┆       ┆      ┆   ┆ queen …        ┆            ┆            ┆              │\n",
       "│ 201990004 ┆ Canada  ┆ 20    ┆ 1990 ┆ … ┆ 1. indians     ┆ 1990-07-12 ┆ 1990-09-06 ┆ 57d          │\n",
       "│           ┆         ┆       ┆      ┆   ┆ gather as      ┆            ┆            ┆              │\n",
       "│           ┆         ┆       ┆      ┆   ┆ siege int…     ┆            ┆            ┆              │\n",
       "│ 201990005 ┆ Canada  ┆ 20    ┆ 1990 ┆ … ┆ 1. dozens hurt ┆ 1990-08-14 ┆ 1990-08-15 ┆ 2d           │\n",
       "│           ┆         ┆       ┆      ┆   ┆ in mohawk      ┆            ┆            ┆              │\n",
       "│           ┆         ┆       ┆      ┆   ┆ block…         ┆            ┆            ┆              │\n",
       "└───────────┴─────────┴───────┴──────┴───┴────────────────┴────────────┴────────────┴──────────────┘"
      ]
     },
     "execution_count": 92,
     "metadata": {},
     "output_type": "execute_result"
    }
   ],
   "source": [
    "protests.with_columns(pl.col('participants').str.extract(\"([0-9]+)\").cast(int)).head()"
   ]
  },
  {
   "cell_type": "markdown",
   "id": "71acd988",
   "metadata": {},
   "source": [
    "```{note}\n",
    "`\"([0-9]+)\"` is a regular expression. A whole course could be dedicated to them, so for now, you should just know that this particular one extracts any sequence of integers from a string. They are a very practical tool, so I wanted to make you aware of their existence, but thisyou don't need to know more than that for this course.\n",
    "```"
   ]
  },
  {
   "cell_type": "markdown",
   "id": "f81dac71",
   "metadata": {},
   "source": [
    "```{note}\n",
    "There is a bunch of other data types with a special accessor, but we won't cover them here\n",
    "```"
   ]
  },
  {
   "cell_type": "markdown",
   "id": "efd51c8e",
   "metadata": {},
   "source": [
    "## 7. Other exercises"
   ]
  },
  {
   "cell_type": "markdown",
   "id": "89e5ba34",
   "metadata": {},
   "source": [
    "### 7.1 Exercise - Air pollutants\n",
    "\n",
    "Let's try analzying the hourly data from air quality monitoring stations from Autonomous Province of Trento.\n",
    "\n",
    "Source: [dati.trentino.it](https://dati.trentino.it/dataset/qualita-dell-aria-rilevazioni-delle-stazioni-monitoraggio)"
   ]
  },
  {
   "cell_type": "markdown",
   "id": "839a7bbe",
   "metadata": {},
   "source": [
    "#### 7.1.1 - load the file\n",
    "\n",
    "✪ Load the file [aria.csv](aria.csv) in pandas \n",
    "\n",
    "**IMPORTANT 1**: put the dataframe into the variable `aria`, so not to confuse it with the previous datasets.\n",
    "\n",
    "**IMPORTANT 2**: use encoding `'latin-1'` \n",
    "(otherwise you might get weird load errors according to your operating system)\n",
    "\n",
    "**IMPORTANT 3**: if you also receive other strange errors, try adding the parameter\n",
    "`engine=python`"
   ]
  },
  {
   "cell_type": "code",
   "execution_count": 71,
   "id": "a8cca730",
   "metadata": {},
   "outputs": [
    {
     "name": "stdout",
     "output_type": "stream",
     "text": [
      "<class 'pandas.core.frame.DataFrame'>\n",
      "RangeIndex: 20693 entries, 0 to 20692\n",
      "Data columns (total 6 columns):\n",
      " #   Column           Non-Null Count  Dtype  \n",
      "---  ------           --------------  -----  \n",
      " 0   Stazione         20693 non-null  object \n",
      " 1   Inquinante       20693 non-null  object \n",
      " 2   Data             20693 non-null  object \n",
      " 3   Ora              20693 non-null  int64  \n",
      " 4   Valore           20693 non-null  float64\n",
      " 5   Unità di misura  20693 non-null  object \n",
      "dtypes: float64(1), int64(1), object(4)\n",
      "memory usage: 970.1+ KB\n"
     ]
    }
   ],
   "source": [
    "\n",
    "# write here\n",
    "\n",
    "import polars as pd\n",
    "import numpy as np \n",
    "\n",
    "# remember the encoding !\n",
    "aria = pl.read_csv('aria.csv', encoding='latin-1')\n",
    "aria.info()"
   ]
  },
  {
   "cell_type": "markdown",
   "id": "61f6543d",
   "metadata": {},
   "source": [
    "#### 7.1.2 - pollutants average\n",
    "\n",
    "✪ find the average of `PM10` pollutants  at `Parco S. Chiara` (average on all days). You should obtain the value `11.385752688172044`"
   ]
  },
  {
   "cell_type": "code",
   "execution_count": 72,
   "id": "6acee05b",
   "metadata": {},
   "outputs": [
    {
     "data": {
      "text/plain": [
       "11.385752688172044"
      ]
     },
     "execution_count": 72,
     "metadata": {},
     "output_type": "execute_result"
    }
   ],
   "source": [
    "# write here\n",
    "\n",
    "aria[(aria.Stazione == 'Parco S. Chiara') & (aria.Inquinante == 'PM10')].Valore.values.mean()"
   ]
  },
  {
   "cell_type": "code",
   "execution_count": 73,
   "id": "89414189",
   "metadata": {},
   "outputs": [
    {
     "data": {
      "text/html": [
       "<div>\n",
       "<style scoped>\n",
       "    .dataframe tbody tr th:only-of-type {\n",
       "        vertical-align: middle;\n",
       "    }\n",
       "\n",
       "    .dataframe tbody tr th {\n",
       "        vertical-align: top;\n",
       "    }\n",
       "\n",
       "    .dataframe thead th {\n",
       "        text-align: right;\n",
       "    }\n",
       "</style>\n",
       "<table border=\"1\" class=\"dataframe\">\n",
       "  <thead>\n",
       "    <tr style=\"text-align: right;\">\n",
       "      <th></th>\n",
       "      <th>Stazione</th>\n",
       "      <th>Inquinante</th>\n",
       "      <th>Data</th>\n",
       "      <th>Ora</th>\n",
       "      <th>Valore</th>\n",
       "      <th>Unità di misura</th>\n",
       "    </tr>\n",
       "  </thead>\n",
       "  <tbody>\n",
       "    <tr>\n",
       "      <th>0</th>\n",
       "      <td>Parco S. Chiara</td>\n",
       "      <td>PM10</td>\n",
       "      <td>2019-05-04</td>\n",
       "      <td>1</td>\n",
       "      <td>17.0</td>\n",
       "      <td>µg/mc</td>\n",
       "    </tr>\n",
       "    <tr>\n",
       "      <th>1</th>\n",
       "      <td>Parco S. Chiara</td>\n",
       "      <td>PM10</td>\n",
       "      <td>2019-05-04</td>\n",
       "      <td>2</td>\n",
       "      <td>19.0</td>\n",
       "      <td>µg/mc</td>\n",
       "    </tr>\n",
       "    <tr>\n",
       "      <th>2</th>\n",
       "      <td>Parco S. Chiara</td>\n",
       "      <td>PM10</td>\n",
       "      <td>2019-05-04</td>\n",
       "      <td>3</td>\n",
       "      <td>17.0</td>\n",
       "      <td>µg/mc</td>\n",
       "    </tr>\n",
       "    <tr>\n",
       "      <th>3</th>\n",
       "      <td>Parco S. Chiara</td>\n",
       "      <td>PM10</td>\n",
       "      <td>2019-05-04</td>\n",
       "      <td>4</td>\n",
       "      <td>15.0</td>\n",
       "      <td>µg/mc</td>\n",
       "    </tr>\n",
       "    <tr>\n",
       "      <th>4</th>\n",
       "      <td>Parco S. Chiara</td>\n",
       "      <td>PM10</td>\n",
       "      <td>2019-05-04</td>\n",
       "      <td>5</td>\n",
       "      <td>13.0</td>\n",
       "      <td>µg/mc</td>\n",
       "    </tr>\n",
       "    <tr>\n",
       "      <th>...</th>\n",
       "      <td>...</td>\n",
       "      <td>...</td>\n",
       "      <td>...</td>\n",
       "      <td>...</td>\n",
       "      <td>...</td>\n",
       "      <td>...</td>\n",
       "    </tr>\n",
       "    <tr>\n",
       "      <th>739</th>\n",
       "      <td>Parco S. Chiara</td>\n",
       "      <td>PM10</td>\n",
       "      <td>2019-06-03</td>\n",
       "      <td>20</td>\n",
       "      <td>33.0</td>\n",
       "      <td>µg/mc</td>\n",
       "    </tr>\n",
       "    <tr>\n",
       "      <th>740</th>\n",
       "      <td>Parco S. Chiara</td>\n",
       "      <td>PM10</td>\n",
       "      <td>2019-06-03</td>\n",
       "      <td>21</td>\n",
       "      <td>40.0</td>\n",
       "      <td>µg/mc</td>\n",
       "    </tr>\n",
       "    <tr>\n",
       "      <th>741</th>\n",
       "      <td>Parco S. Chiara</td>\n",
       "      <td>PM10</td>\n",
       "      <td>2019-06-03</td>\n",
       "      <td>22</td>\n",
       "      <td>31.0</td>\n",
       "      <td>µg/mc</td>\n",
       "    </tr>\n",
       "    <tr>\n",
       "      <th>742</th>\n",
       "      <td>Parco S. Chiara</td>\n",
       "      <td>PM10</td>\n",
       "      <td>2019-06-03</td>\n",
       "      <td>23</td>\n",
       "      <td>31.0</td>\n",
       "      <td>µg/mc</td>\n",
       "    </tr>\n",
       "    <tr>\n",
       "      <th>743</th>\n",
       "      <td>Parco S. Chiara</td>\n",
       "      <td>PM10</td>\n",
       "      <td>2019-06-03</td>\n",
       "      <td>24</td>\n",
       "      <td>31.0</td>\n",
       "      <td>µg/mc</td>\n",
       "    </tr>\n",
       "  </tbody>\n",
       "</table>\n",
       "<p>744 rows × 6 columns</p>\n",
       "</div>"
      ],
      "text/plain": [
       "            Stazione Inquinante        Data  Ora  Valore Unità di misura\n",
       "0    Parco S. Chiara       PM10  2019-05-04    1    17.0           µg/mc\n",
       "1    Parco S. Chiara       PM10  2019-05-04    2    19.0           µg/mc\n",
       "2    Parco S. Chiara       PM10  2019-05-04    3    17.0           µg/mc\n",
       "3    Parco S. Chiara       PM10  2019-05-04    4    15.0           µg/mc\n",
       "4    Parco S. Chiara       PM10  2019-05-04    5    13.0           µg/mc\n",
       "..               ...        ...         ...  ...     ...             ...\n",
       "739  Parco S. Chiara       PM10  2019-06-03   20    33.0           µg/mc\n",
       "740  Parco S. Chiara       PM10  2019-06-03   21    40.0           µg/mc\n",
       "741  Parco S. Chiara       PM10  2019-06-03   22    31.0           µg/mc\n",
       "742  Parco S. Chiara       PM10  2019-06-03   23    31.0           µg/mc\n",
       "743  Parco S. Chiara       PM10  2019-06-03   24    31.0           µg/mc\n",
       "\n",
       "[744 rows x 6 columns]"
      ]
     },
     "execution_count": 73,
     "metadata": {},
     "output_type": "execute_result"
    }
   ],
   "source": [
    "#jupman-purge-io\n",
    "aria[(aria.Stazione == 'Parco S. Chiara') & (aria.Inquinante == 'PM10')]"
   ]
  },
  {
   "cell_type": "code",
   "execution_count": 74,
   "id": "ff0626dc",
   "metadata": {},
   "outputs": [
    {
     "data": {
      "text/html": [
       "<div>\n",
       "<style scoped>\n",
       "    .dataframe tbody tr th:only-of-type {\n",
       "        vertical-align: middle;\n",
       "    }\n",
       "\n",
       "    .dataframe tbody tr th {\n",
       "        vertical-align: top;\n",
       "    }\n",
       "\n",
       "    .dataframe thead th {\n",
       "        text-align: right;\n",
       "    }\n",
       "</style>\n",
       "<table border=\"1\" class=\"dataframe\">\n",
       "  <thead>\n",
       "    <tr style=\"text-align: right;\">\n",
       "      <th></th>\n",
       "      <th>Stazione</th>\n",
       "      <th>Inquinante</th>\n",
       "      <th>Data</th>\n",
       "      <th>Ora</th>\n",
       "      <th>Valore</th>\n",
       "      <th>Unità di misura</th>\n",
       "    </tr>\n",
       "  </thead>\n",
       "  <tbody>\n",
       "    <tr>\n",
       "      <th>72</th>\n",
       "      <td>Parco S. Chiara</td>\n",
       "      <td>PM10</td>\n",
       "      <td>2019-05-07</td>\n",
       "      <td>1</td>\n",
       "      <td>7.0</td>\n",
       "      <td>µg/mc</td>\n",
       "    </tr>\n",
       "    <tr>\n",
       "      <th>73</th>\n",
       "      <td>Parco S. Chiara</td>\n",
       "      <td>PM10</td>\n",
       "      <td>2019-05-07</td>\n",
       "      <td>2</td>\n",
       "      <td>9.0</td>\n",
       "      <td>µg/mc</td>\n",
       "    </tr>\n",
       "    <tr>\n",
       "      <th>74</th>\n",
       "      <td>Parco S. Chiara</td>\n",
       "      <td>PM10</td>\n",
       "      <td>2019-05-07</td>\n",
       "      <td>3</td>\n",
       "      <td>10.0</td>\n",
       "      <td>µg/mc</td>\n",
       "    </tr>\n",
       "    <tr>\n",
       "      <th>75</th>\n",
       "      <td>Parco S. Chiara</td>\n",
       "      <td>PM10</td>\n",
       "      <td>2019-05-07</td>\n",
       "      <td>4</td>\n",
       "      <td>9.0</td>\n",
       "      <td>µg/mc</td>\n",
       "    </tr>\n",
       "    <tr>\n",
       "      <th>76</th>\n",
       "      <td>Parco S. Chiara</td>\n",
       "      <td>PM10</td>\n",
       "      <td>2019-05-07</td>\n",
       "      <td>5</td>\n",
       "      <td>12.0</td>\n",
       "      <td>µg/mc</td>\n",
       "    </tr>\n",
       "    <tr>\n",
       "      <th>77</th>\n",
       "      <td>Parco S. Chiara</td>\n",
       "      <td>PM10</td>\n",
       "      <td>2019-05-07</td>\n",
       "      <td>6</td>\n",
       "      <td>16.0</td>\n",
       "      <td>µg/mc</td>\n",
       "    </tr>\n",
       "    <tr>\n",
       "      <th>78</th>\n",
       "      <td>Parco S. Chiara</td>\n",
       "      <td>PM10</td>\n",
       "      <td>2019-05-07</td>\n",
       "      <td>7</td>\n",
       "      <td>19.0</td>\n",
       "      <td>µg/mc</td>\n",
       "    </tr>\n",
       "    <tr>\n",
       "      <th>79</th>\n",
       "      <td>Parco S. Chiara</td>\n",
       "      <td>PM10</td>\n",
       "      <td>2019-05-07</td>\n",
       "      <td>8</td>\n",
       "      <td>20.0</td>\n",
       "      <td>µg/mc</td>\n",
       "    </tr>\n",
       "    <tr>\n",
       "      <th>80</th>\n",
       "      <td>Parco S. Chiara</td>\n",
       "      <td>PM10</td>\n",
       "      <td>2019-05-07</td>\n",
       "      <td>9</td>\n",
       "      <td>18.0</td>\n",
       "      <td>µg/mc</td>\n",
       "    </tr>\n",
       "    <tr>\n",
       "      <th>81</th>\n",
       "      <td>Parco S. Chiara</td>\n",
       "      <td>PM10</td>\n",
       "      <td>2019-05-07</td>\n",
       "      <td>10</td>\n",
       "      <td>12.0</td>\n",
       "      <td>µg/mc</td>\n",
       "    </tr>\n",
       "    <tr>\n",
       "      <th>82</th>\n",
       "      <td>Parco S. Chiara</td>\n",
       "      <td>PM10</td>\n",
       "      <td>2019-05-07</td>\n",
       "      <td>11</td>\n",
       "      <td>9.0</td>\n",
       "      <td>µg/mc</td>\n",
       "    </tr>\n",
       "    <tr>\n",
       "      <th>83</th>\n",
       "      <td>Parco S. Chiara</td>\n",
       "      <td>PM10</td>\n",
       "      <td>2019-05-07</td>\n",
       "      <td>12</td>\n",
       "      <td>9.0</td>\n",
       "      <td>µg/mc</td>\n",
       "    </tr>\n",
       "    <tr>\n",
       "      <th>84</th>\n",
       "      <td>Parco S. Chiara</td>\n",
       "      <td>PM10</td>\n",
       "      <td>2019-05-07</td>\n",
       "      <td>13</td>\n",
       "      <td>11.0</td>\n",
       "      <td>µg/mc</td>\n",
       "    </tr>\n",
       "    <tr>\n",
       "      <th>85</th>\n",
       "      <td>Parco S. Chiara</td>\n",
       "      <td>PM10</td>\n",
       "      <td>2019-05-07</td>\n",
       "      <td>14</td>\n",
       "      <td>12.0</td>\n",
       "      <td>µg/mc</td>\n",
       "    </tr>\n",
       "    <tr>\n",
       "      <th>86</th>\n",
       "      <td>Parco S. Chiara</td>\n",
       "      <td>PM10</td>\n",
       "      <td>2019-05-07</td>\n",
       "      <td>15</td>\n",
       "      <td>14.0</td>\n",
       "      <td>µg/mc</td>\n",
       "    </tr>\n",
       "    <tr>\n",
       "      <th>87</th>\n",
       "      <td>Parco S. Chiara</td>\n",
       "      <td>PM10</td>\n",
       "      <td>2019-05-07</td>\n",
       "      <td>16</td>\n",
       "      <td>16.0</td>\n",
       "      <td>µg/mc</td>\n",
       "    </tr>\n",
       "    <tr>\n",
       "      <th>88</th>\n",
       "      <td>Parco S. Chiara</td>\n",
       "      <td>PM10</td>\n",
       "      <td>2019-05-07</td>\n",
       "      <td>17</td>\n",
       "      <td>15.0</td>\n",
       "      <td>µg/mc</td>\n",
       "    </tr>\n",
       "    <tr>\n",
       "      <th>89</th>\n",
       "      <td>Parco S. Chiara</td>\n",
       "      <td>PM10</td>\n",
       "      <td>2019-05-07</td>\n",
       "      <td>18</td>\n",
       "      <td>16.0</td>\n",
       "      <td>µg/mc</td>\n",
       "    </tr>\n",
       "    <tr>\n",
       "      <th>90</th>\n",
       "      <td>Parco S. Chiara</td>\n",
       "      <td>PM10</td>\n",
       "      <td>2019-05-07</td>\n",
       "      <td>19</td>\n",
       "      <td>18.0</td>\n",
       "      <td>µg/mc</td>\n",
       "    </tr>\n",
       "    <tr>\n",
       "      <th>91</th>\n",
       "      <td>Parco S. Chiara</td>\n",
       "      <td>PM10</td>\n",
       "      <td>2019-05-07</td>\n",
       "      <td>20</td>\n",
       "      <td>21.0</td>\n",
       "      <td>µg/mc</td>\n",
       "    </tr>\n",
       "    <tr>\n",
       "      <th>92</th>\n",
       "      <td>Parco S. Chiara</td>\n",
       "      <td>PM10</td>\n",
       "      <td>2019-05-07</td>\n",
       "      <td>21</td>\n",
       "      <td>22.0</td>\n",
       "      <td>µg/mc</td>\n",
       "    </tr>\n",
       "    <tr>\n",
       "      <th>93</th>\n",
       "      <td>Parco S. Chiara</td>\n",
       "      <td>PM10</td>\n",
       "      <td>2019-05-07</td>\n",
       "      <td>22</td>\n",
       "      <td>20.0</td>\n",
       "      <td>µg/mc</td>\n",
       "    </tr>\n",
       "    <tr>\n",
       "      <th>94</th>\n",
       "      <td>Parco S. Chiara</td>\n",
       "      <td>PM10</td>\n",
       "      <td>2019-05-07</td>\n",
       "      <td>23</td>\n",
       "      <td>22.0</td>\n",
       "      <td>µg/mc</td>\n",
       "    </tr>\n",
       "    <tr>\n",
       "      <th>95</th>\n",
       "      <td>Parco S. Chiara</td>\n",
       "      <td>PM10</td>\n",
       "      <td>2019-05-07</td>\n",
       "      <td>24</td>\n",
       "      <td>22.0</td>\n",
       "      <td>µg/mc</td>\n",
       "    </tr>\n",
       "  </tbody>\n",
       "</table>\n",
       "</div>"
      ],
      "text/plain": [
       "           Stazione Inquinante        Data  Ora  Valore Unità di misura\n",
       "72  Parco S. Chiara       PM10  2019-05-07    1     7.0           µg/mc\n",
       "73  Parco S. Chiara       PM10  2019-05-07    2     9.0           µg/mc\n",
       "74  Parco S. Chiara       PM10  2019-05-07    3    10.0           µg/mc\n",
       "75  Parco S. Chiara       PM10  2019-05-07    4     9.0           µg/mc\n",
       "76  Parco S. Chiara       PM10  2019-05-07    5    12.0           µg/mc\n",
       "77  Parco S. Chiara       PM10  2019-05-07    6    16.0           µg/mc\n",
       "78  Parco S. Chiara       PM10  2019-05-07    7    19.0           µg/mc\n",
       "79  Parco S. Chiara       PM10  2019-05-07    8    20.0           µg/mc\n",
       "80  Parco S. Chiara       PM10  2019-05-07    9    18.0           µg/mc\n",
       "81  Parco S. Chiara       PM10  2019-05-07   10    12.0           µg/mc\n",
       "82  Parco S. Chiara       PM10  2019-05-07   11     9.0           µg/mc\n",
       "83  Parco S. Chiara       PM10  2019-05-07   12     9.0           µg/mc\n",
       "84  Parco S. Chiara       PM10  2019-05-07   13    11.0           µg/mc\n",
       "85  Parco S. Chiara       PM10  2019-05-07   14    12.0           µg/mc\n",
       "86  Parco S. Chiara       PM10  2019-05-07   15    14.0           µg/mc\n",
       "87  Parco S. Chiara       PM10  2019-05-07   16    16.0           µg/mc\n",
       "88  Parco S. Chiara       PM10  2019-05-07   17    15.0           µg/mc\n",
       "89  Parco S. Chiara       PM10  2019-05-07   18    16.0           µg/mc\n",
       "90  Parco S. Chiara       PM10  2019-05-07   19    18.0           µg/mc\n",
       "91  Parco S. Chiara       PM10  2019-05-07   20    21.0           µg/mc\n",
       "92  Parco S. Chiara       PM10  2019-05-07   21    22.0           µg/mc\n",
       "93  Parco S. Chiara       PM10  2019-05-07   22    20.0           µg/mc\n",
       "94  Parco S. Chiara       PM10  2019-05-07   23    22.0           µg/mc\n",
       "95  Parco S. Chiara       PM10  2019-05-07   24    22.0           µg/mc"
      ]
     },
     "execution_count": 74,
     "metadata": {},
     "output_type": "execute_result"
    }
   ],
   "source": [
    "#jupman-purge-io\n",
    "aria[(aria.Stazione == 'Parco S. Chiara') & (aria.Inquinante == 'PM10') & (aria.Data == '2019-05-07')]\n"
   ]
  },
  {
   "cell_type": "markdown",
   "id": "39c98e06",
   "metadata": {},
   "source": [
    "\n",
    "#### 7.1.3 - PM10 chart\n",
    "\n",
    "✪ Use `plt.plot` as seen in a [previous example](#Matplotlib-plots-from-pandas-datastructures) (so by directly passing the relevant Pandas series), show in a chart the values of `PM10` during May 7h, 2019."
   ]
  },
  {
   "cell_type": "code",
   "execution_count": 75,
   "id": "1b959ab5",
   "metadata": {},
   "outputs": [],
   "source": [
    "# write here\n",
    "\n"
   ]
  },
  {
   "cell_type": "code",
   "execution_count": 76,
   "id": "690b72e8",
   "metadata": {
    "scrolled": false
   },
   "outputs": [
    {
     "data": {
      "image/png": "[encoded data removed]",
      "text/plain": [
       "<Figure size 640x480 with 1 Axes>"
      ]
     },
     "metadata": {},
     "output_type": "display_data"
    }
   ],
   "source": [
    "# SOLUTION\n",
    "\n",
    "import matplotlib as mpl\n",
    "import matplotlib.pyplot as plt\n",
    "%matplotlib inline\n",
    "\n",
    "filtered = aria[(aria.Stazione == 'Parco S. Chiara') & (aria.Inquinante == 'PM10') & (aria.Data == '2019-05-07')]\n",
    "\n",
    "plt.plot(filtered['Ora'], filtered['Valore'] )\n",
    "plt.title('SOLUTION PM10 May 7th, 2019')\n",
    "plt.xlabel('Hour')\n",
    "plt.show()"
   ]
  },
  {
   "cell_type": "markdown",
   "id": "f86ebf19",
   "metadata": {},
   "source": [
    "### 7.2 Exercise - Game of Thrones\n",
    "\n",
    "Open with Pandas the file [game-of-thrones.csv](game-of-thrones.csv) which holds episodes from various years.\n",
    "\n",
    "- use  `UTF-8` encoding\n",
    "- **IMPORTANT**: place the dataframe into the variable `game`, so not to confuse it with previous dataframes\n",
    "\n",
    "Data source:  [Kaggle](https://www.kaggle.com/datasets/bakar31/game-of-thronesgot) - License: [CC0: Public Domain](https://creativecommons.org/publicdomain/zero/1.0/)"
   ]
  },
  {
   "cell_type": "markdown",
   "id": "ecc8dc3d",
   "metadata": {},
   "source": [
    "#### 7.2.1 Exercise - fan\n",
    "\n",
    "You are given a dictionary `favorite` with the most liked episodes of a group of people, who unfortunately don't remember exactly the various titles which are often incomplete: Select the favorite episodes of Paolo and Chiara.\n",
    "\n",
    "- assume the capitalization in `favorite` is the correct one\n",
    "- **NOTE**: the dataset contains insidious double quotes around the titles, but if you write the code in the right way it shouldn't be a problem"
   ]
  },
  {
   "cell_type": "code",
   "execution_count": 77,
   "id": "2395c320",
   "metadata": {},
   "outputs": [
    {
     "data": {
      "text/html": [
       "<div>\n",
       "<style scoped>\n",
       "    .dataframe tbody tr th:only-of-type {\n",
       "        vertical-align: middle;\n",
       "    }\n",
       "\n",
       "    .dataframe tbody tr th {\n",
       "        vertical-align: top;\n",
       "    }\n",
       "\n",
       "    .dataframe thead th {\n",
       "        text-align: right;\n",
       "    }\n",
       "</style>\n",
       "<table border=\"1\" class=\"dataframe\">\n",
       "  <thead>\n",
       "    <tr style=\"text-align: right;\">\n",
       "      <th></th>\n",
       "      <th>No. overall</th>\n",
       "      <th>No. in season</th>\n",
       "      <th>Season</th>\n",
       "      <th>Title</th>\n",
       "      <th>Directed by</th>\n",
       "      <th>Written by</th>\n",
       "      <th>Novel(s) adapted</th>\n",
       "      <th>Original air date</th>\n",
       "      <th>U.S. viewers(millions)</th>\n",
       "      <th>Imdb rating</th>\n",
       "    </tr>\n",
       "  </thead>\n",
       "  <tbody>\n",
       "    <tr>\n",
       "      <th>0</th>\n",
       "      <td>1</td>\n",
       "      <td>1</td>\n",
       "      <td>1</td>\n",
       "      <td>\"Winter Is Coming\"</td>\n",
       "      <td>Tim Van Patten</td>\n",
       "      <td>David Benioff &amp; D. B. Weiss</td>\n",
       "      <td>A Game of Thrones</td>\n",
       "      <td>17-Apr-11</td>\n",
       "      <td>2.22</td>\n",
       "      <td>9.1</td>\n",
       "    </tr>\n",
       "    <tr>\n",
       "      <th>4</th>\n",
       "      <td>5</td>\n",
       "      <td>5</td>\n",
       "      <td>1</td>\n",
       "      <td>\"The Wolf and the Lion\"</td>\n",
       "      <td>Brian Kirk</td>\n",
       "      <td>David Benioff &amp; D. B. Weiss</td>\n",
       "      <td>A Game of Thrones</td>\n",
       "      <td>15-May-11</td>\n",
       "      <td>2.58</td>\n",
       "      <td>9.1</td>\n",
       "    </tr>\n",
       "  </tbody>\n",
       "</table>\n",
       "</div>"
      ],
      "text/plain": [
       "   No. overall  No. in season  Season                    Title  \\\n",
       "0            1              1       1       \"Winter Is Coming\"   \n",
       "4            5              5       1  \"The Wolf and the Lion\"   \n",
       "\n",
       "      Directed by                   Written by   Novel(s) adapted  \\\n",
       "0  Tim Van Patten  David Benioff & D. B. Weiss  A Game of Thrones   \n",
       "4      Brian Kirk  David Benioff & D. B. Weiss  A Game of Thrones   \n",
       "\n",
       "  Original air date  U.S. viewers(millions)  Imdb rating  \n",
       "0         17-Apr-11                    2.22          9.1  \n",
       "4         15-May-11                    2.58          9.1  "
      ]
     },
     "execution_count": 77,
     "metadata": {},
     "output_type": "execute_result"
    }
   ],
   "source": [
    "\n",
    "import polars as pd\n",
    "import numpy as np    \n",
    "\n",
    "favorite = {\n",
    "    \"Paolo\" : 'Winter Is',\n",
    "    \"Chiara\" : 'Wolf and the Lion',\n",
    "    \"Anselmo\" : 'Fire and',\n",
    "    \"Letizia\" : 'Garden of'\n",
    "}\n",
    "\n",
    "\n",
    "# write here\n",
    "game = pl.read_csv('game-of-thrones.csv', encoding='UTF-8')\n",
    "\n",
    "titoliprotests = game[  (game[\"Title\"].str.contains(favorite['Paolo'])) | (game[\"Title\"].str.contains(favorite['Chiara']))] \n",
    "\n",
    "titoliprotests"
   ]
  },
  {
   "cell_type": "markdown",
   "id": "e7598c5b",
   "metadata": {},
   "source": [
    "#### 7.2.2  Esercise - first airing\n",
    "\n",
    "Select all the episodes which have been aired the first time in a given `year` (`Original air date` column)\n",
    "\n",
    "- **NOTE**: `year` is given as an `int`"
   ]
  },
  {
   "cell_type": "code",
   "execution_count": 78,
   "id": "42484c16",
   "metadata": {
    "scrolled": true
   },
   "outputs": [
    {
     "data": {
      "text/html": [
       "<div>\n",
       "<style scoped>\n",
       "    .dataframe tbody tr th:only-of-type {\n",
       "        vertical-align: middle;\n",
       "    }\n",
       "\n",
       "    .dataframe tbody tr th {\n",
       "        vertical-align: top;\n",
       "    }\n",
       "\n",
       "    .dataframe thead th {\n",
       "        text-align: right;\n",
       "    }\n",
       "</style>\n",
       "<table border=\"1\" class=\"dataframe\">\n",
       "  <thead>\n",
       "    <tr style=\"text-align: right;\">\n",
       "      <th></th>\n",
       "      <th>No. overall</th>\n",
       "      <th>No. in season</th>\n",
       "      <th>Season</th>\n",
       "      <th>Title</th>\n",
       "      <th>Directed by</th>\n",
       "      <th>Written by</th>\n",
       "      <th>Novel(s) adapted</th>\n",
       "      <th>Original air date</th>\n",
       "      <th>U.S. viewers(millions)</th>\n",
       "      <th>Imdb rating</th>\n",
       "    </tr>\n",
       "  </thead>\n",
       "  <tbody>\n",
       "    <tr>\n",
       "      <th>61</th>\n",
       "      <td>62</td>\n",
       "      <td>2</td>\n",
       "      <td>7</td>\n",
       "      <td>\"Stormborn\"</td>\n",
       "      <td>Mark Mylod</td>\n",
       "      <td>Bryan Cogman</td>\n",
       "      <td>Outline from A Dream of Spring and original co...</td>\n",
       "      <td>23-Jul-17</td>\n",
       "      <td>9.27</td>\n",
       "      <td>8.9</td>\n",
       "    </tr>\n",
       "    <tr>\n",
       "      <th>62</th>\n",
       "      <td>63</td>\n",
       "      <td>3</td>\n",
       "      <td>7</td>\n",
       "      <td>\"The Queen's Justice\"</td>\n",
       "      <td>Mark Mylod</td>\n",
       "      <td>David Benioff &amp; D. B. Weiss</td>\n",
       "      <td>Outline from A Dream of Spring and original co...</td>\n",
       "      <td>30-Jul-17</td>\n",
       "      <td>9.25</td>\n",
       "      <td>9.2</td>\n",
       "    </tr>\n",
       "    <tr>\n",
       "      <th>63</th>\n",
       "      <td>64</td>\n",
       "      <td>4</td>\n",
       "      <td>7</td>\n",
       "      <td>\"The Spoils of War\"</td>\n",
       "      <td>Matt Shakman</td>\n",
       "      <td>David Benioff &amp; D. B. Weiss</td>\n",
       "      <td>Outline from A Dream of Spring and original co...</td>\n",
       "      <td>6-Aug-17</td>\n",
       "      <td>10.17</td>\n",
       "      <td>9.8</td>\n",
       "    </tr>\n",
       "    <tr>\n",
       "      <th>64</th>\n",
       "      <td>65</td>\n",
       "      <td>5</td>\n",
       "      <td>7</td>\n",
       "      <td>\"Eastwatch\"</td>\n",
       "      <td>Matt Shakman</td>\n",
       "      <td>Dave Hill</td>\n",
       "      <td>Outline from A Dream of Spring and original co...</td>\n",
       "      <td>13-Aug-17</td>\n",
       "      <td>10.72</td>\n",
       "      <td>8.8</td>\n",
       "    </tr>\n",
       "    <tr>\n",
       "      <th>65</th>\n",
       "      <td>66</td>\n",
       "      <td>6</td>\n",
       "      <td>7</td>\n",
       "      <td>\"Beyond the Wall\"</td>\n",
       "      <td>Alan Taylor</td>\n",
       "      <td>David Benioff &amp; D. B. Weiss</td>\n",
       "      <td>Outline from A Dream of Spring and original co...</td>\n",
       "      <td>20-Aug-17</td>\n",
       "      <td>10.24</td>\n",
       "      <td>9.0</td>\n",
       "    </tr>\n",
       "    <tr>\n",
       "      <th>66</th>\n",
       "      <td>67</td>\n",
       "      <td>7</td>\n",
       "      <td>7</td>\n",
       "      <td>\"The Dragon and the Wolf\"</td>\n",
       "      <td>Jeremy Podeswa</td>\n",
       "      <td>David Benioff &amp; D. B. Weiss</td>\n",
       "      <td>Outline from A Dream of Spring and original co...</td>\n",
       "      <td>27-Aug-17</td>\n",
       "      <td>12.07</td>\n",
       "      <td>9.4</td>\n",
       "    </tr>\n",
       "  </tbody>\n",
       "</table>\n",
       "</div>"
      ],
      "text/plain": [
       "    No. overall  No. in season  Season                      Title  \\\n",
       "61           62              2       7                \"Stormborn\"   \n",
       "62           63              3       7      \"The Queen's Justice\"   \n",
       "63           64              4       7        \"The Spoils of War\"   \n",
       "64           65              5       7                \"Eastwatch\"   \n",
       "65           66              6       7          \"Beyond the Wall\"   \n",
       "66           67              7       7  \"The Dragon and the Wolf\"   \n",
       "\n",
       "       Directed by                   Written by  \\\n",
       "61      Mark Mylod                 Bryan Cogman   \n",
       "62      Mark Mylod  David Benioff & D. B. Weiss   \n",
       "63    Matt Shakman  David Benioff & D. B. Weiss   \n",
       "64    Matt Shakman                    Dave Hill   \n",
       "65     Alan Taylor  David Benioff & D. B. Weiss   \n",
       "66  Jeremy Podeswa  David Benioff & D. B. Weiss   \n",
       "\n",
       "                                     Novel(s) adapted Original air date  \\\n",
       "61  Outline from A Dream of Spring and original co...         23-Jul-17   \n",
       "62  Outline from A Dream of Spring and original co...         30-Jul-17   \n",
       "63  Outline from A Dream of Spring and original co...          6-Aug-17   \n",
       "64  Outline from A Dream of Spring and original co...         13-Aug-17   \n",
       "65  Outline from A Dream of Spring and original co...         20-Aug-17   \n",
       "66  Outline from A Dream of Spring and original co...         27-Aug-17   \n",
       "\n",
       "    U.S. viewers(millions)  Imdb rating  \n",
       "61                    9.27          8.9  \n",
       "62                    9.25          9.2  \n",
       "63                   10.17          9.8  \n",
       "64                   10.72          8.8  \n",
       "65                   10.24          9.0  \n",
       "66                   12.07          9.4  "
      ]
     },
     "execution_count": 78,
     "metadata": {},
     "output_type": "execute_result"
    }
   ],
   "source": [
    "year = 17\n",
    "\n",
    "# write here\n",
    "anniprotests = game[ game['Original air date'].str[-2:] == str(year)  ]\n",
    "anniprotests"
   ]
  },
  {
   "cell_type": "markdown",
   "id": "83427661",
   "metadata": {
    "scrolled": false
   },
   "source": [
    "### 7.3 Exercise -  Healthcare facilities \n",
    "\n",
    "✪✪ Let's examine the dataset [SANSTRUT001.csv](SANSTRUT001.csv) which contains the healthcare facilities of Trentino region, and for each tells the type of assistance it offers (clinical activity, diagnostics, etc), the code and name of the communality where it is located.\n",
    "\n",
    "\n",
    "Data source: [dati.trentino.it](https://dati.trentino.it/dataset/strutture-sanitarie-dell-azienda-sanitaria-e-convenzionate) Licenza: [Creative Commons Attribution 4.0](http://creativecommons.org/licenses/by/4.0/deed.it)\n",
    "\n",
    "Write a function which takes as input a town code and a text string, opens the file **with pandas** (encoding UTF-8) and:\n",
    "\n",
    "1. PRINTS also the number of found rows\n",
    "2. RETURNS a dataframe with selected only the rows having that town code and which contain the string in the column `ASSISTENZA`. The returned dataset must have only the columns \n",
    "`STRUTTURA`, `ASSISTENZA`, `COD_COMUNE`, `COMUNE`. "
   ]
  },
  {
   "cell_type": "code",
   "execution_count": 79,
   "id": "299fd678",
   "metadata": {},
   "outputs": [],
   "source": [
    "import polars as pd   \n",
    "import numpy as np    \n",
    "\n",
    "def strutsan(cod_comune, assistenza):\n",
    "    #jupman-raise\n",
    "    print('***** SOLUTION')    \n",
    "    struprotests = pl.read_csv('SANSTRUT001.csv', encoding='UTF-8')    \n",
    "    res = struprotests[((struprotests['COD_COMUNE'] == cod_comune) & struprotests['ASSISTENZA'].str.contains(assistenza))]    \n",
    "    \n",
    "    print(\"Found\", res.shape[0], \"facilities\")\n",
    "    return res[ ['STRUTTURA', 'ASSISTENZA', 'COD_COMUNE', 'COMUNE']  ]\n",
    "    #/jupman-raise\n"
   ]
  },
  {
   "cell_type": "code",
   "execution_count": 80,
   "id": "d0c2ea86",
   "metadata": {},
   "outputs": [
    {
     "name": "stdout",
     "output_type": "stream",
     "text": [
      "***** SOLUTION\n",
      "Found 6 facilities\n"
     ]
    },
    {
     "data": {
      "text/html": [
       "<div>\n",
       "<style scoped>\n",
       "    .dataframe tbody tr th:only-of-type {\n",
       "        vertical-align: middle;\n",
       "    }\n",
       "\n",
       "    .dataframe tbody tr th {\n",
       "        vertical-align: top;\n",
       "    }\n",
       "\n",
       "    .dataframe thead th {\n",
       "        text-align: right;\n",
       "    }\n",
       "</style>\n",
       "<table border=\"1\" class=\"dataframe\">\n",
       "  <thead>\n",
       "    <tr style=\"text-align: right;\">\n",
       "      <th></th>\n",
       "      <th>STRUTTURA</th>\n",
       "      <th>ASSISTENZA</th>\n",
       "      <th>COD_COMUNE</th>\n",
       "      <th>COMUNE</th>\n",
       "    </tr>\n",
       "  </thead>\n",
       "  <tbody>\n",
       "    <tr>\n",
       "      <th>0</th>\n",
       "      <td>PRESIDIO OSPEDALIERO DI CAVALESE</td>\n",
       "      <td>ATTIVITA` CLINICA</td>\n",
       "      <td>22050</td>\n",
       "      <td>CAVALESE</td>\n",
       "    </tr>\n",
       "    <tr>\n",
       "      <th>1</th>\n",
       "      <td>PRESIDIO OSPEDALIERO DI CAVALESE</td>\n",
       "      <td>DIAGNOSTICA STRUMENTALE E PER IMMAGINI</td>\n",
       "      <td>22050</td>\n",
       "      <td>CAVALESE</td>\n",
       "    </tr>\n",
       "    <tr>\n",
       "      <th>2</th>\n",
       "      <td>PRESIDIO OSPEDALIERO DI CAVALESE</td>\n",
       "      <td>ATTIVITA` DI LABORATORIO</td>\n",
       "      <td>22050</td>\n",
       "      <td>CAVALESE</td>\n",
       "    </tr>\n",
       "    <tr>\n",
       "      <th>3</th>\n",
       "      <td>CENTRO SALUTE MENTALE CAVALESE</td>\n",
       "      <td>ASSISTENZA PSICHIATRICA</td>\n",
       "      <td>22050</td>\n",
       "      <td>CAVALESE</td>\n",
       "    </tr>\n",
       "    <tr>\n",
       "      <th>4</th>\n",
       "      <td>CENTRO DIALISI CAVALESE</td>\n",
       "      <td>ATTIVITA` CLINICA</td>\n",
       "      <td>22050</td>\n",
       "      <td>CAVALESE</td>\n",
       "    </tr>\n",
       "    <tr>\n",
       "      <th>5</th>\n",
       "      <td>CONSULTORIO CAVALESE</td>\n",
       "      <td>ATTIVITA` DI CONSULTORIO MATERNO-INFANTILE</td>\n",
       "      <td>22050</td>\n",
       "      <td>CAVALESE</td>\n",
       "    </tr>\n",
       "  </tbody>\n",
       "</table>\n",
       "</div>"
      ],
      "text/plain": [
       "                          STRUTTURA  \\\n",
       "0  PRESIDIO OSPEDALIERO DI CAVALESE   \n",
       "1  PRESIDIO OSPEDALIERO DI CAVALESE   \n",
       "2  PRESIDIO OSPEDALIERO DI CAVALESE   \n",
       "3    CENTRO SALUTE MENTALE CAVALESE   \n",
       "4           CENTRO DIALISI CAVALESE   \n",
       "5              CONSULTORIO CAVALESE   \n",
       "\n",
       "                                   ASSISTENZA  COD_COMUNE    COMUNE  \n",
       "0                           ATTIVITA` CLINICA       22050  CAVALESE  \n",
       "1      DIAGNOSTICA STRUMENTALE E PER IMMAGINI       22050  CAVALESE  \n",
       "2                    ATTIVITA` DI LABORATORIO       22050  CAVALESE  \n",
       "3                     ASSISTENZA PSICHIATRICA       22050  CAVALESE  \n",
       "4                           ATTIVITA` CLINICA       22050  CAVALESE  \n",
       "5  ATTIVITA` DI CONSULTORIO MATERNO-INFANTILE       22050  CAVALESE  "
      ]
     },
     "execution_count": 80,
     "metadata": {},
     "output_type": "execute_result"
    }
   ],
   "source": [
    "strutsan(22050, '')  # no ASSISTENZA filter"
   ]
  },
  {
   "cell_type": "code",
   "execution_count": 81,
   "id": "796263a2",
   "metadata": {},
   "outputs": [
    {
     "name": "stdout",
     "output_type": "stream",
     "text": [
      "***** SOLUTION\n",
      "Found 16 facilities\n"
     ]
    },
    {
     "data": {
      "text/html": [
       "<div>\n",
       "<style scoped>\n",
       "    .dataframe tbody tr th:only-of-type {\n",
       "        vertical-align: middle;\n",
       "    }\n",
       "\n",
       "    .dataframe tbody tr th {\n",
       "        vertical-align: top;\n",
       "    }\n",
       "\n",
       "    .dataframe thead th {\n",
       "        text-align: right;\n",
       "    }\n",
       "</style>\n",
       "<table border=\"1\" class=\"dataframe\">\n",
       "  <thead>\n",
       "    <tr style=\"text-align: right;\">\n",
       "      <th></th>\n",
       "      <th>STRUTTURA</th>\n",
       "      <th>ASSISTENZA</th>\n",
       "      <th>COD_COMUNE</th>\n",
       "      <th>COMUNE</th>\n",
       "    </tr>\n",
       "  </thead>\n",
       "  <tbody>\n",
       "    <tr>\n",
       "      <th>59</th>\n",
       "      <td>PRESIDIO OSPEDALIERO S.CHIARA</td>\n",
       "      <td>ATTIVITA` CLINICA</td>\n",
       "      <td>22205</td>\n",
       "      <td>TRENTO</td>\n",
       "    </tr>\n",
       "    <tr>\n",
       "      <th>62</th>\n",
       "      <td>CENTRO DIALISI TRENTO</td>\n",
       "      <td>ATTIVITA` CLINICA</td>\n",
       "      <td>22205</td>\n",
       "      <td>TRENTO</td>\n",
       "    </tr>\n",
       "    <tr>\n",
       "      <th>63</th>\n",
       "      <td>POLIAMBULATORI S.CHIARA</td>\n",
       "      <td>ATTIVITA` CLINICA</td>\n",
       "      <td>22205</td>\n",
       "      <td>TRENTO</td>\n",
       "    </tr>\n",
       "    <tr>\n",
       "      <th>64</th>\n",
       "      <td>PRESIDIO OSPEDALIERO VILLA IGEA</td>\n",
       "      <td>ATTIVITA` CLINICA</td>\n",
       "      <td>22205</td>\n",
       "      <td>TRENTO</td>\n",
       "    </tr>\n",
       "    <tr>\n",
       "      <th>73</th>\n",
       "      <td>OSPEDALE  CLASSIFICATO S.CAMILLO</td>\n",
       "      <td>ATTIVITA` CLINICA</td>\n",
       "      <td>22205</td>\n",
       "      <td>TRENTO</td>\n",
       "    </tr>\n",
       "    <tr>\n",
       "      <th>84</th>\n",
       "      <td>NEUROPSICHIATRIA INFANTILE - UONPI 1</td>\n",
       "      <td>ATTIVITA` CLINICA</td>\n",
       "      <td>22205</td>\n",
       "      <td>TRENTO</td>\n",
       "    </tr>\n",
       "    <tr>\n",
       "      <th>87</th>\n",
       "      <td>CASA DI CURA VILLA BIANCA SPA</td>\n",
       "      <td>ATTIVITA` CLINICA</td>\n",
       "      <td>22205</td>\n",
       "      <td>TRENTO</td>\n",
       "    </tr>\n",
       "    <tr>\n",
       "      <th>90</th>\n",
       "      <td>CENTRO SERVIZI SANITARI</td>\n",
       "      <td>ATTIVITA` CLINICA</td>\n",
       "      <td>22205</td>\n",
       "      <td>TRENTO</td>\n",
       "    </tr>\n",
       "    <tr>\n",
       "      <th>93</th>\n",
       "      <td>PSICOLOGIA CLINICA</td>\n",
       "      <td>ATTIVITA` CLINICA</td>\n",
       "      <td>22205</td>\n",
       "      <td>TRENTO</td>\n",
       "    </tr>\n",
       "    <tr>\n",
       "      <th>122</th>\n",
       "      <td>ASSOCIAZIONE TRENTINA SCLEROSI MULTIPLA, ONLUS</td>\n",
       "      <td>ATTIVITA` CLINICA</td>\n",
       "      <td>22205</td>\n",
       "      <td>TRENTO</td>\n",
       "    </tr>\n",
       "    <tr>\n",
       "      <th>123</th>\n",
       "      <td>ANFFAS TRENTINO ONLUS</td>\n",
       "      <td>ATTIVITA` CLINICA</td>\n",
       "      <td>22205</td>\n",
       "      <td>TRENTO</td>\n",
       "    </tr>\n",
       "    <tr>\n",
       "      <th>124</th>\n",
       "      <td>COOPERATIVA SOCIALE IRIFOR DEL TRENTINO ONLUS</td>\n",
       "      <td>ATTIVITA` CLINICA</td>\n",
       "      <td>22205</td>\n",
       "      <td>TRENTO</td>\n",
       "    </tr>\n",
       "    <tr>\n",
       "      <th>126</th>\n",
       "      <td>AGSAT ASSOCIAZIONE GENITORI SOGGETTI AUTISTICI...</td>\n",
       "      <td>ATTIVITA` CLINICA</td>\n",
       "      <td>22205</td>\n",
       "      <td>TRENTO</td>\n",
       "    </tr>\n",
       "    <tr>\n",
       "      <th>127</th>\n",
       "      <td>AZIENDA PUBBLICA SERVIZI ALLA PERSONA - RSA PO...</td>\n",
       "      <td>ATTIVITA` CLINICA</td>\n",
       "      <td>22205</td>\n",
       "      <td>TRENTO</td>\n",
       "    </tr>\n",
       "    <tr>\n",
       "      <th>130</th>\n",
       "      <td>CST TRENTO</td>\n",
       "      <td>ATTIVITA` CLINICA</td>\n",
       "      <td>22205</td>\n",
       "      <td>TRENTO</td>\n",
       "    </tr>\n",
       "    <tr>\n",
       "      <th>133</th>\n",
       "      <td>A.P.S.P. 'BEATO DE TSCHIDERER' - AMB. LOGO-AUD...</td>\n",
       "      <td>ATTIVITA` CLINICA</td>\n",
       "      <td>22205</td>\n",
       "      <td>TRENTO</td>\n",
       "    </tr>\n",
       "  </tbody>\n",
       "</table>\n",
       "</div>"
      ],
      "text/plain": [
       "                                             STRUTTURA         ASSISTENZA  \\\n",
       "59                       PRESIDIO OSPEDALIERO S.CHIARA  ATTIVITA` CLINICA   \n",
       "62                               CENTRO DIALISI TRENTO  ATTIVITA` CLINICA   \n",
       "63                             POLIAMBULATORI S.CHIARA  ATTIVITA` CLINICA   \n",
       "64                     PRESIDIO OSPEDALIERO VILLA IGEA  ATTIVITA` CLINICA   \n",
       "73                    OSPEDALE  CLASSIFICATO S.CAMILLO  ATTIVITA` CLINICA   \n",
       "84                NEUROPSICHIATRIA INFANTILE - UONPI 1  ATTIVITA` CLINICA   \n",
       "87                       CASA DI CURA VILLA BIANCA SPA  ATTIVITA` CLINICA   \n",
       "90                             CENTRO SERVIZI SANITARI  ATTIVITA` CLINICA   \n",
       "93                                  PSICOLOGIA CLINICA  ATTIVITA` CLINICA   \n",
       "122     ASSOCIAZIONE TRENTINA SCLEROSI MULTIPLA, ONLUS  ATTIVITA` CLINICA   \n",
       "123                              ANFFAS TRENTINO ONLUS  ATTIVITA` CLINICA   \n",
       "124      COOPERATIVA SOCIALE IRIFOR DEL TRENTINO ONLUS  ATTIVITA` CLINICA   \n",
       "126  AGSAT ASSOCIAZIONE GENITORI SOGGETTI AUTISTICI...  ATTIVITA` CLINICA   \n",
       "127  AZIENDA PUBBLICA SERVIZI ALLA PERSONA - RSA PO...  ATTIVITA` CLINICA   \n",
       "130                                         CST TRENTO  ATTIVITA` CLINICA   \n",
       "133  A.P.S.P. 'BEATO DE TSCHIDERER' - AMB. LOGO-AUD...  ATTIVITA` CLINICA   \n",
       "\n",
       "     COD_COMUNE  COMUNE  \n",
       "59        22205  TRENTO  \n",
       "62        22205  TRENTO  \n",
       "63        22205  TRENTO  \n",
       "64        22205  TRENTO  \n",
       "73        22205  TRENTO  \n",
       "84        22205  TRENTO  \n",
       "87        22205  TRENTO  \n",
       "90        22205  TRENTO  \n",
       "93        22205  TRENTO  \n",
       "122       22205  TRENTO  \n",
       "123       22205  TRENTO  \n",
       "124       22205  TRENTO  \n",
       "126       22205  TRENTO  \n",
       "127       22205  TRENTO  \n",
       "130       22205  TRENTO  \n",
       "133       22205  TRENTO  "
      ]
     },
     "execution_count": 81,
     "metadata": {},
     "output_type": "execute_result"
    }
   ],
   "source": [
    "strutsan(22205, 'CLINICA')"
   ]
  },
  {
   "cell_type": "code",
   "execution_count": 82,
   "id": "bad951ac",
   "metadata": {
    "scrolled": false
   },
   "outputs": [
    {
     "name": "stdout",
     "output_type": "stream",
     "text": [
      "***** SOLUTION\n",
      "Found 5 facilities\n"
     ]
    },
    {
     "data": {
      "text/html": [
       "<div>\n",
       "<style scoped>\n",
       "    .dataframe tbody tr th:only-of-type {\n",
       "        vertical-align: middle;\n",
       "    }\n",
       "\n",
       "    .dataframe tbody tr th {\n",
       "        vertical-align: top;\n",
       "    }\n",
       "\n",
       "    .dataframe thead th {\n",
       "        text-align: right;\n",
       "    }\n",
       "</style>\n",
       "<table border=\"1\" class=\"dataframe\">\n",
       "  <thead>\n",
       "    <tr style=\"text-align: right;\">\n",
       "      <th></th>\n",
       "      <th>STRUTTURA</th>\n",
       "      <th>ASSISTENZA</th>\n",
       "      <th>COD_COMUNE</th>\n",
       "      <th>COMUNE</th>\n",
       "    </tr>\n",
       "  </thead>\n",
       "  <tbody>\n",
       "    <tr>\n",
       "      <th>61</th>\n",
       "      <td>PRESIDIO OSPEDALIERO S.CHIARA</td>\n",
       "      <td>ATTIVITA` DI LABORATORIO</td>\n",
       "      <td>22205</td>\n",
       "      <td>TRENTO</td>\n",
       "    </tr>\n",
       "    <tr>\n",
       "      <th>85</th>\n",
       "      <td>LABORATORI ADIGE SRL</td>\n",
       "      <td>ATTIVITA` DI LABORATORIO</td>\n",
       "      <td>22205</td>\n",
       "      <td>TRENTO</td>\n",
       "    </tr>\n",
       "    <tr>\n",
       "      <th>86</th>\n",
       "      <td>LABORATORIO DRUSO SRL</td>\n",
       "      <td>ATTIVITA` DI LABORATORIO</td>\n",
       "      <td>22205</td>\n",
       "      <td>TRENTO</td>\n",
       "    </tr>\n",
       "    <tr>\n",
       "      <th>89</th>\n",
       "      <td>CASA DI CURA VILLA BIANCA SPA</td>\n",
       "      <td>ATTIVITA` DI LABORATORIO</td>\n",
       "      <td>22205</td>\n",
       "      <td>TRENTO</td>\n",
       "    </tr>\n",
       "    <tr>\n",
       "      <th>92</th>\n",
       "      <td>CENTRO SERVIZI SANITARI</td>\n",
       "      <td>ATTIVITA` DI LABORATORIO</td>\n",
       "      <td>22205</td>\n",
       "      <td>TRENTO</td>\n",
       "    </tr>\n",
       "  </tbody>\n",
       "</table>\n",
       "</div>"
      ],
      "text/plain": [
       "                        STRUTTURA                ASSISTENZA  COD_COMUNE  \\\n",
       "61  PRESIDIO OSPEDALIERO S.CHIARA  ATTIVITA` DI LABORATORIO       22205   \n",
       "85           LABORATORI ADIGE SRL  ATTIVITA` DI LABORATORIO       22205   \n",
       "86          LABORATORIO DRUSO SRL  ATTIVITA` DI LABORATORIO       22205   \n",
       "89  CASA DI CURA VILLA BIANCA SPA  ATTIVITA` DI LABORATORIO       22205   \n",
       "92        CENTRO SERVIZI SANITARI  ATTIVITA` DI LABORATORIO       22205   \n",
       "\n",
       "    COMUNE  \n",
       "61  TRENTO  \n",
       "85  TRENTO  \n",
       "86  TRENTO  \n",
       "89  TRENTO  \n",
       "92  TRENTO  "
      ]
     },
     "execution_count": 82,
     "metadata": {},
     "output_type": "execute_result"
    }
   ],
   "source": [
    "strutsan(22205, 'LABORATORIO')"
   ]
  },
  {
   "cell_type": "code",
   "execution_count": null,
   "id": "896fd8bb",
   "metadata": {},
   "outputs": [],
   "source": []
  }
 ],
 "metadata": {
  "kernelspec": {
   "display_name": "Python 3 (ipykernel)",
   "language": "python",
   "name": "python3"
  },
  "language_info": {
   "codemirror_mode": {
    "name": "ipython",
    "version": 3
   },
   "file_extension": ".py",
   "mimetype": "text/x-python",
   "name": "python",
   "nbconvert_exporter": "python",
   "pygments_lexer": "ipython3",
   "version": "3.1.undefined"
  },
  "toc": {
   "base_numbering": 1,
   "nav_menu": {},
   "number_sections": false,
   "sideBar": true,
   "skip_h1_title": false,
   "title_cell": "Table of Contents",
   "title_sidebar": "Contents",
   "toc_cell": false,
   "toc_position": {
    "height": "calc(100% - 180px)",
    "left": "10px",
    "top": "150px",
    "width": "192.188px"
   },
   "toc_section_display": true,
   "toc_window_display": true
  }
 },
 "nbformat": 4,
 "nbformat_minor": 5
}
