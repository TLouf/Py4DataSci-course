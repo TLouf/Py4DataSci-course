{
 "cells": [
  {
   "cell_type": "raw",
   "metadata": {
    "raw_mimetype": "text/restructuredtext"
   },
   "source": [
    ".. meta::\n",
    "\n",
    "   :description: Introductive guide to coding, data cleaning and analysis for Python 3, with many worked exercises."
   ]
  },
  {
   "cell_type": "markdown",
   "metadata": {
    "collapsed": true
   },
   "source": [
    "# SoftPython"
   ]
  },
  {
   "cell_type": "raw",
   "metadata": {
    "raw_mimetype": "text/latex"
   },
   "source": [
    "% Latex fixes, DO NOT DELETE THIS !!!!\n",
    "\n",
    "% need to demote chapters to sections because sphinx promotes them *just in the home* :-/\n",
    "% https://tex.stackexchange.com/questions/161259/macro-for-promoting-sections-to-chapters\n",
    "% for alternatives, see https://texfaq.org/FAQ-patch\n",
    "\n",
    "\\let\\truechapter\\chapter\n",
    "\\let\\truesection\\section\n",
    "\\let\\truesubsection\\subsection\n",
    "\\let\\truesubsubsection\\subsubsection\n",
    "\\let\\truethesection\\thesection\n",
    "\n",
    "\\let\\chapter\\truesection\n",
    "\\let\\section\\truesubsection\n",
    "% suspend number printing , according to   https://tex.stackexchange.com/a/80114\n",
    "\\renewcommand\\thesection{}\n",
    "\n",
    "\\truesection{Preface}"
   ]
  },
  {
   "cell_type": "markdown",
   "metadata": {},
   "source": [
    "**Introductive guide to coding, data cleaning and analysis for Python 3, with many worked exercises.**\n"
   ]
  },
  {
   "cell_type": "raw",
   "metadata": {
    "raw_mimetype": "text/html"
   },
   "source": [
    "<p>\n",
    "DOWNLOAD: &nbsp;&nbsp;<a href=\"https://en.softpython.org/softpython-en.pdf\" target=\"_blank\">PDF</a>\n",
    "&nbsp;&nbsp;<a href=\"http://en.softpython.org/softpython-en.epub\" target=\"_blank\"> EPUB </a>\n",
    "&nbsp;&nbsp;<a href=\"https://github.com/DavidLeoni/softpython-en/archive/en.softpython.org.zip\" target=\"_blank\"> HTML </a>\n",
    "&nbsp;&nbsp; <a href=\"https://github.com/DavidLeoni/softpython-en\" target=\"_blank\"> Github </a>\n",
    "</p>\n",
    "<br/>\n",
    "<br/>\n"
   ]
  },
  {
   "cell_type": "markdown",
   "metadata": {},
   "source": [
    "Nowadays, more and more decisions are taken upon factual and objective data. All disciplines, from engineering to social sciences, require to elaborate data and extract actionable information by analysing heterogenous sources. This book of practical exercises gives an introduction to coding and data processing using [Python](https://www.python.org), a programming language popular both in the industry and in research environments."
   ]
  },
  {
   "cell_type": "raw",
   "metadata": {
    "raw_mimetype": "text/html"
   },
   "source": [
    "<a id=\"news\"></a>"
   ]
  },
  {
   "cell_type": "markdown",
   "metadata": {},
   "source": [
    "## News\n",
    "\n",
    "23 August 2023\n",
    "\n",
    "- restyling!\n",
    "- restructured [analytics with pandas](#pandas):\n",
    "    - separated notebooks into 1. intro and 2. advanced (grouping, merging, geopandas)\n",
    "    - moved exercise notebook 2 (eures) to [worked projects section](projects/eures/eures-sol.ipynb)\n",
    "    - renamed dataset into astropi.csv reming ROW_ID column and substituted with time_stamp\n",
    "    - added paragraphs to first notebook\n",
    "    - added meteo pressure intervals exercise\n",
    "- matrices-lists1: added [visiting with style paragraph](matrices-lists/matrices-lists1-sol.ipynb#Visiting-with-style)\n",
    "- lists3: added copy/deepcopy paragraph\n",
    "- Python tutor now always show data structures as non-nested\n",
    "- strings1: added paragraph on f-strings\n",
    "- sets1: added paragraph 'What can we search?'\n",
    "- formats2-csv: swapped 'with' when reading and writing \n",
    "\n",
    "Old news: [link](changelog.ipynb)"
   ]
  },
  {
   "cell_type": "raw",
   "metadata": {
    "raw_mimetype": "text/latex"
   },
   "source": [
    "% Latex: fix for book structure\n",
    "\n",
    "\\let\\thesection\\truethesection\n",
    "\\truechapter{Overview}"
   ]
  },
  {
   "cell_type": "markdown",
   "metadata": {},
   "source": [
    "## Intended audience\n",
    "\n",
    "This book can be useful for both novices who never really programmed before, and for students with more techical background, who desire to know about data extraction, cleaning, analysis and visualization (among used frameworks there are Pandas, Numpy and Jupyter editor). Data is going to be processed in a practical way, without delving into more advanced considerations about algorithmic complexity and data structures. To overcome issues and guarantee concrete didactical results, step-by-step tutorials are presented. "
   ]
  },
  {
   "cell_type": "markdown",
   "metadata": {},
   "source": [
    "## Author\n",
    " \n",
    "**David Leoni**: Software engineer specialized in data integration and semantic web, has made applications in open data and medical in Italy and abroad. He frequently collaborates with University of Trento for teaching activities in various departments. Since 2019 is president of CoderDolomiti Association, where along with Marco Caresia manages volunteering movement CoderDojo Trento to teach creative coding to kids. <br/>\n",
    "Email: [david.leoni@unitn.it](mailto:david.leoni@unitn.it) &ensp; Website: [davidleoni.it](https://davidleoni.it)\n",
    "\n",
    "### Contributors\n",
    "\n",
    "**Marco Caresia** (2017 Autumn Edition assistent @DISI, University of Trento): He has been informatics teacher at Scuola Professionale Einaudi of Bolzano. He is president of the Trentino Alto Adige Südtirol delegatioon of the Associazione Italiana Formatori and vicepresident of CoderDolomiti Association.\n",
    "\n",
    "**Alessio Zamboni** (2018 March Edition assistent @Sociology Department, University of Trento): Data scientist and software engineer with experience in NLP, GIS and knowledge management. Has collaborated to numerous research projects, collecting experinces in Europe and Asia. He strongly believes that _'Programming is a work of art'_.\n",
    "\n",
    "**Luca Bosotti** (2020 Data Science Summerschool assistant, 2021 seminars @Sociology Department, University of Trento): Developer, scientist and professor. Believes the world is getting more and more complicated and interesting, so we must study it by taking advantage of all the available potential and reasoning. He thought to youngsters of all ages, from elementary schools up till university level and got impressed by the diversity of people who approach programming.\n",
    "\n",
    "**Massimiliano Luca** (2019 summer edition teacher @Sociology Department, University of Trento): Loves learning new technilogies each day. Particularly interested in knowledge representation, data integration, data modeling and computational social science. Firmly believes it is vital to introduce youngsters to computer science, and has been mentoring at Coder Dojo DISI Master.\n",
    "\n",
    "**Others**: We also wish to thank the students Ludovico Maria Valenti and Ioana Doleanu for the improvements to the numpy page, and Stefano Moro for the numerous reports."
   ]
  },
  {
   "cell_type": "raw",
   "metadata": {
    "raw_mimetype": "text/html"
   },
   "source": [
    "<a id=\"license\"></a>"
   ]
  },
  {
   "cell_type": "markdown",
   "metadata": {},
   "source": [
    "## License\n",
    "\n",
    "The making of this website and related courses was funded by [Department of Information Engineering and Computer Science (DISI)](https://www.disi.unitn.it), University of Trento, and also [Sociology](https://www.sociologia.unitn.it/en) and [Mathematics](https://www.maths.unitn.it/en) departments.\n",
    "\n",
    "![unitn-843724](_static/img/third-parties/disi-unitn-en-logo-468-153.png)\n",
    "\n",
    "![cc-by-7172829](_static/img/cc-by.png)\n",
    "\n",
    "Unless otherwise noted, the material in this website is original and distributed with license CC-BY 4.0 International Attribution [https://creativecommons.org/licenses/by/4.0/deed.en](https://creativecommons.org/licenses/by/4.0/deed.en). Basically, you can freely redistribute and modify the written content, just remember to cite University of Trento and [the authors](https://en.softpython.org/index.html#Author) \n",
    "\n",
    "Datasets from [Data analysis](#data-analysis) and [Worked projects](#worked-projects) sections might have some restrictions, sources are citated in the pages where they are used. Other third party resources are listed in [third-party-licences.txt](third-party-licences.txt)\n",
    "\n",
    "Technical notes: all website pages are easily modifiable Jupyter notebooks, that were  converted to web pages using [NBSphinx](https://nbsphinx.readthedocs.io) and [Jupman](https://jupman.softpython.org) template. Text sources are on Github at [https://github.com/DavidLeoni/softpython-en](https://github.com/DavidLeoni/softpython-en)"
   ]
  },
  {
   "cell_type": "raw",
   "metadata": {
    "raw_mimetype": "text/html"
   },
   "source": [
    "<a id=\"acknowledgments\"></a>"
   ]
  },
  {
   "cell_type": "markdown",
   "metadata": {},
   "source": [
    "\n",
    "## Acknowledgments\n",
    "\n",
    "We thank in particular professor Alberto Montresor of Department of Information Engineering and Computer Science, University of Trento to have allowed the making of first courses from which this material was born from, and the project Trentino Open Data ([dati.trentino.it](https://dati.trentino.it)) for the numerous datasets provided.\n",
    "\n",
    "![dati-trentino-9327234823487](_static/img/third-parties/dati-trentino-small.png)\n",
    "\n",
    "<!--Other numerous intitutions and companies that over time contributed material and ideas are cited [in this page](thanks.ipynb)-->"
   ]
  },
  {
   "cell_type": "raw",
   "metadata": {
    "raw_mimetype": "text/latex"
   },
   "source": [
    "% Latex: Restores all the previous substitutions \n",
    "% DO NOT DELETE THIS !!!!\n",
    " \n",
    "\\let\\chapter\\truechapter\n",
    "\\let\\section\\truesection\n",
    "\\let\\subsection\\truesubsection\n",
    "\\let\\subsubsection\\truesubsubsection"
   ]
  }
 ],
 "metadata": {
  "celltoolbar": "Raw Cell Format",
  "kernelspec": {
   "display_name": "Python 3 (ipykernel)",
   "language": "python",
   "name": "python3"
  },
  "language_info": {
   "codemirror_mode": {
    "name": "ipython",
    "version": 3
   },
   "file_extension": ".py",
   "mimetype": "text/x-python",
   "name": "python",
   "nbconvert_exporter": "python",
   "pygments_lexer": "ipython3",
   "version": "3.7.17"
  },
  "toc": {
   "base_numbering": 1,
   "nav_menu": {},
   "number_sections": false,
   "sideBar": true,
   "skip_h1_title": false,
   "title_cell": "Table of Contents",
   "title_sidebar": "Contents",
   "toc_cell": false,
   "toc_position": {
    "height": "calc(100% - 180px)",
    "left": "10px",
    "top": "150px",
    "width": "320px"
   },
   "toc_section_display": true,
   "toc_window_display": true
  }
 },
 "nbformat": 4,
 "nbformat_minor": 2
}
