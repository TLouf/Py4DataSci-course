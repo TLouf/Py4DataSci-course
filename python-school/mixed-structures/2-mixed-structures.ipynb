{
 "cells": [
  {
   "cell_type": "markdown",
   "id": "c7484fbe",
   "metadata": {},
   "source": [
    "# Mixed structures\n",
    "\n",
    "In this notebook we will see how to manage more complex data structures like lists of dictionaries and dictionaries of lists, examining also the meaning of shallow and deep copy."
   ]
  },
  {
   "cell_type": "markdown",
   "id": "c0a59f02",
   "metadata": {},
   "source": [
    "Since some of the functions you'll need to test return a float, we can't compare for exact numbers but only for close numbers. So we'll need the `math.isclose()` function for that. Let's then first import `math`: "
   ]
  },
  {
   "cell_type": "code",
   "execution_count": 23,
   "id": "22b8edb4",
   "metadata": {},
   "outputs": [],
   "source": [
    "import math"
   ]
  },
  {
   "cell_type": "markdown",
   "id": "9403acf2",
   "metadata": {},
   "source": [
    "## Exercise - Luxury Holding"
   ]
  },
  {
   "cell_type": "markdown",
   "id": "dc54d32d",
   "metadata": {},
   "source": [
    "A luxury holding groups several companies and has a  database of managers as a list of dictionaries. Each employee is represented by a dictionary:\n",
    "\n",
    "```python\n",
    "{\n",
    "    \"name\":\"Alessandro\",\n",
    "    \"surname\": \"Borgoloso\",\n",
    "    \"age\": 34,\n",
    "    \"company\": {\n",
    "                   \"name\": \"Candied Herrings\",\n",
    "                   \"sector\":\"Food\"\n",
    "               }\n",
    "}\n",
    "```\n",
    "\n",
    "The dictionary has several simple attributes like `name`, `surname`, `age`. The attribute `company` is more complex, because it is represented as another dictionary:\n",
    "\n",
    "```python\n",
    "    \"company\": {\n",
    "                   \"name\": \"Candied Herrings\",\n",
    "                   \"sector\":\"Food\"\n",
    "               }\n",
    "```               "
   ]
  },
  {
   "cell_type": "code",
   "execution_count": 24,
   "id": "78ec8d60",
   "metadata": {},
   "outputs": [],
   "source": [
    "managers_db = [\n",
    "    {\n",
    "        \"name\": \"Alessandro\",\n",
    "        \"surname\": \"Borgoloso\",\n",
    "        \"age\": 34,\n",
    "        \"company\": {\"name\": \"Candied Herrings\", \"sector\": \"Food\"},\n",
    "    },\n",
    "    {\n",
    "        \"name\": \"Matilda\",\n",
    "        \"surname\": \"Delle Sòle\",\n",
    "        \"age\": 25,\n",
    "        \"company\": {\"name\": \"Pythonic Footwear\", \"sector\": \"Fashion\"},\n",
    "    },\n",
    "    {\n",
    "        \"name\": \"Alfred\",\n",
    "        \"surname\": \"Pennyworth\",\n",
    "        \"age\": 20,\n",
    "        \"company\": {\"name\": \"Batworks\", \"sector\": \"Fashion\"},\n",
    "    },\n",
    "    {\n",
    "        \"name\": \"Arianna\",\n",
    "        \"surname\": \"Schei\",\n",
    "        \"age\": 37,\n",
    "        \"company\": {\"name\": \"MegaDiamonds Unlimited\", \"sector\": \"Precious stones\"},\n",
    "    },\n",
    "    {\n",
    "        \"name\": \"Antonione\",\n",
    "        \"surname\": \"Cannavacci\",\n",
    "        \"age\": 25,\n",
    "        \"company\": {\"name\": \"Pre-chewed Chewing gums\", \"sector\": \"Food\"},\n",
    "    },\n",
    "]"
   ]
  },
  {
   "cell_type": "markdown",
   "id": "e3e4ddf1",
   "metadata": {},
   "source": [
    "### Exercise - extract_managers\n",
    "\n",
    "✪✪ Define a function `extract_managers` that returns the manager names in a list"
   ]
  },
  {
   "cell_type": "code",
   "execution_count": 26,
   "id": "f9660051",
   "metadata": {},
   "outputs": [],
   "source": [
    "assert extract_managers([]) == []\n",
    "\n",
    "# if it doesn't find managers_db, remember to execute the cell above which defines it !\n",
    "assert extract_managers(managers_db) == ['Alessandro', 'Matilda', 'Alfred', 'Arianna', 'Antonione']"
   ]
  },
  {
   "cell_type": "markdown",
   "id": "3b7da0f3",
   "metadata": {},
   "source": [
    "### Exercise - extract_companies\n",
    "\n",
    "✪✪ Define a function `extract_companies` that returns the names of departments in a list."
   ]
  },
  {
   "cell_type": "code",
   "execution_count": 28,
   "id": "a7efc78b",
   "metadata": {},
   "outputs": [],
   "source": [
    "assert extract_companies([]) == []\n",
    "# if it doesn't find managers_db, remember to execute the cell above which defines it !\n",
    "assert extract_companies(managers_db) == [\"Candied Herrings\",\"Pythonic Footwear\",\"Batworks\",\"MegaDiamonds Unlimited\",\"Pre-chewed Chewing gums\"]"
   ]
  },
  {
   "cell_type": "markdown",
   "id": "fcc05437",
   "metadata": {},
   "source": [
    "### Exercise - avg_age\n",
    "\n",
    "✪✪ Define a function `avg_age` that returns the average age of managers"
   ]
  },
  {
   "cell_type": "code",
   "execution_count": 34,
   "id": "374e8904",
   "metadata": {},
   "outputs": [],
   "source": [
    "assert math.isclose(avg_age(managers_db), (34 + 25 + 20 + 37 + 25) / 5)"
   ]
  },
  {
   "cell_type": "markdown",
   "id": "3102e612",
   "metadata": {},
   "source": [
    "### Exercise - sectors\n",
    "\n",
    "✪✪ Define a function `sectors` that returns the company sectors in a list, WITHOUT duplicates and alphabetically sorted!!!"
   ]
  },
  {
   "cell_type": "code",
   "execution_count": 36,
   "id": "080e3306",
   "metadata": {},
   "outputs": [],
   "source": [
    "assert sectors([]) == []\n",
    "assert sectors(managers_db) == [\"Fashion\", \"Food\", \"Precious stones\"]"
   ]
  },
  {
   "cell_type": "markdown",
   "id": "8f262363",
   "metadata": {},
   "source": [
    "## Exercise - averages\n",
    "\n",
    "✪✪ Define a function `averages` that, given a dictionary structured as a tree regarding the grades of a student in class V and VI, returns an array containing the average for each subject"
   ]
  },
  {
   "cell_type": "markdown",
   "id": "b004ac64",
   "metadata": {},
   "source": [
    "Example result:"
   ]
  },
  {
   "cell_type": "code",
   "execution_count": 40,
   "id": "f67c2c80",
   "metadata": {},
   "outputs": [
    {
     "data": {
      "text/plain": [
       "[76.0, 73.5, 80.5]"
      ]
     },
     "execution_count": 40,
     "metadata": {},
     "output_type": "execute_result"
    }
   ],
   "source": [
    "data = [\n",
    "    {\"id\": 1, \"subject\": \"math\", \"V\": 70, \"VI\": 82},\n",
    "    {\"id\": 1, \"subject\": \"italian\", \"V\": 73, \"VI\": 74},\n",
    "    {\"id\": 1, \"subject\": \"german\", \"V\": 75, \"VI\": 86},\n",
    "]\n",
    "averages(data)"
   ]
  },
  {
   "cell_type": "code",
   "execution_count": 41,
   "id": "76ae66b7",
   "metadata": {},
   "outputs": [],
   "source": [
    "def is_list_close(lista, listb):\n",
    "    \"\"\"Verifies the float numbers in lista are similar to numbers in listb\"\"\"\n",
    "\n",
    "    if len(lista) != len(listb):\n",
    "        return False\n",
    "\n",
    "    for i in range(len(lista)):\n",
    "        if not math.isclose(lista[i], listb[i]):\n",
    "            return False\n",
    "\n",
    "    return True\n",
    "\n",
    "\n",
    "assert is_list_close(averages(data), [76.0, 73.5, 80.5])"
   ]
  },
  {
   "cell_type": "markdown",
   "id": "c128afb7",
   "metadata": {},
   "source": [
    "## Exercise - has_pref\n",
    "\n",
    "✪✪ A big store has a database of clients modelled as a dictionary which associates customer names to their preferences regarding the categories of articles the usually buy:\n",
    "\n",
    "```python\n",
    "    {\n",
    "        'aldo':     ['cinema', 'music', 'sport'],\n",
    "        'giovanni': ['music'],\n",
    "        'giacomo':  ['cinema', 'videogames']\n",
    "    }\n",
    "```\n",
    "Given the dictionary, the customer name and a category, write a function `has_pref` which returns `True` if that client has the given preference, `False` otherwise"
   ]
  },
  {
   "cell_type": "markdown",
   "id": "03d69626",
   "metadata": {},
   "source": [
    "Example result:"
   ]
  },
  {
   "cell_type": "code",
   "execution_count": 49,
   "id": "b42e9ab2",
   "metadata": {},
   "outputs": [
    {
     "name": "stdout",
     "output_type": "stream",
     "text": [
      "True\n",
      "False\n"
     ]
    }
   ],
   "source": [
    "data = {\n",
    "    \"aldo\": [\"cinema\", \"music\", \"sport\"],\n",
    "    \"giovanni\": [\"music\"],\n",
    "    \"giacomo\": [\"cinema\", \"videogames\"],\n",
    "}\n",
    "# Will returns `True`, because also likes music:\n",
    "print(has_pref(data, \"aldo\", \"music\"))\n",
    "# Will return `False`, because giacomo doesn't like sport:\n",
    "print(has_pref(data, \"giacomo\", \"sport\"))"
   ]
  },
  {
   "cell_type": "code",
   "execution_count": 50,
   "id": "d34a8e59",
   "metadata": {},
   "outputs": [],
   "source": [
    "assert not has_pref({}, \"a\", \"x\")\n",
    "assert not has_pref({\"a\": []}, \"a\", \"x\")\n",
    "assert has_pref({\"a\": [\"x\"]}, \"a\", \"x\")\n",
    "assert not has_pref({\"a\": [\"x\"]}, \"b\", \"x\")\n",
    "assert has_pref({\"a\": [\"x\", \"y\"]}, \"a\", \"y\")\n",
    "assert has_pref({\"a\": [\"x\", \"y\"], \"b\": [\"y\", \"x\", \"z\"]}, \"b\", \"y\")\n",
    "assert has_pref(data, \"aldo\", \"music\")\n",
    "assert not has_pref(data, \"giacomo\", \"sport\")"
   ]
  },
  {
   "cell_type": "markdown",
   "id": "a9ad14ca",
   "metadata": {},
   "source": [
    "## Exercise - festival\n",
    "\n",
    "✪✪✪ During a country festival in Italy, the local pastry shops decide to donate each a certain amount of pastries. Every shop is represented as a dictionary, which contains pastries names as keys, plus the special key `name` which represents the shop name itself (assume all the shops produce the same types of pastries), like in the two examples given below:"
   ]
  },
  {
   "cell_type": "code",
   "execution_count": 53,
   "id": "7458b7bd",
   "metadata": {},
   "outputs": [],
   "source": [
    "shops1 = [\n",
    "    {\"name\": \"La Patisserie\", \"cornetti\": 2},\n",
    "    {\"cornetti\": 5, \"name\": \"La Casa Del Cioccolato\"},\n",
    "]\n",
    "shops2 = [\n",
    "    {\"babbà\": 3, \"bignè\": 4, \"zippole\": 2, \"name\": \"Da Gigi\"},\n",
    "    {\"babbà\": 5, \"bignè\": 3, \"zippole\": 9, \"name\": \"La Delizia\"},\n",
    "    {\"babbà\": 1, \"bignè\": 2, \"zippole\": 6, \"name\": \"Gnam gnam\"},\n",
    "    {\"babbà\": 7, \"bignè\": 8, \"zippole\": 4, \"name\": \"Il Dessert\"},\n",
    "]"
   ]
  },
  {
   "cell_type": "markdown",
   "id": "ce026236",
   "metadata": {},
   "source": [
    "Given a list of such dictionaries and a list of pastries `pastries`, we want to produce as output a NEW list of lists, which has the totals of each pastry type, as in the example below:"
   ]
  },
  {
   "cell_type": "code",
   "execution_count": 56,
   "id": "3e494ce4",
   "metadata": {},
   "outputs": [
    {
     "data": {
      "text/plain": [
       "[['Name', 'bignè', 'zippole', 'babbà'],\n",
       " ['Da Gigi', 4, 2, 3],\n",
       " ['La Delizia', 3, 9, 5],\n",
       " ['Gnam gnam', 2, 6, 1],\n",
       " ['Il Dessert', 8, 4, 7],\n",
       " ['Totals', 17, 21, 16]]"
      ]
     },
     "execution_count": 56,
     "metadata": {},
     "output_type": "execute_result"
    }
   ],
   "source": [
    "festival(shops2, [\"bignè\", \"zippole\", \"babbà\"])"
   ]
  },
  {
   "cell_type": "code",
   "execution_count": 57,
   "id": "823f0101",
   "metadata": {},
   "outputs": [],
   "source": [
    "pastries1 = [\"cornetti\"]\n",
    "res1 = festival(shops1, pastries1)\n",
    "assert res1 == [\n",
    "    [\"Name\", \"cornetti\"],\n",
    "    [\"La Patisserie\", 2],\n",
    "    [\"La Casa Del Cioccolato\", 5],\n",
    "    [\"Totals\", 7],\n",
    "]\n",
    "assert pastries1 == [\"cornetti\"]  # verify the input didn't change\n",
    "\n",
    "res2 = festival(shops2, [\"bignè\", \"zippole\", \"babbà\"])\n",
    "\n",
    "assert res2 == [\n",
    "    [\"Name\", \"bignè\", \"zippole\", \"babbà\"],\n",
    "    [\"Da Gigi\", 4, 2, 3],\n",
    "    [\"La Delizia\", 3, 9, 5],\n",
    "    [\"Gnam gnam\", 2, 6, 1],\n",
    "    [\"Il Dessert\", 8, 4, 7],\n",
    "    [\"Totals\", 17, 21, 16],\n",
    "]"
   ]
  },
  {
   "cell_type": "markdown",
   "id": "72ef64a1",
   "metadata": {},
   "source": [
    "## Exercise - actorswap\n",
    "\n",
    "✪✪✪ Given a movie list `movies` where each movie is represented as a dictionary, RETURN a NEW list with NEW dictionaries having the male actor names swapped with the female ones.\n",
    "\n",
    "- **ONLY** swap actor names\n",
    "- you can't predict actor names\n",
    "- you only know each dictionary holds exactly three keys, of which these two are known: `title` and `year`."
   ]
  },
  {
   "cell_type": "markdown",
   "id": "4d1dfad6",
   "metadata": {},
   "source": [
    "For example, with the following data, you should obtain the result shown below:"
   ]
  },
  {
   "cell_type": "code",
   "execution_count": 60,
   "id": "50ae2eaa",
   "metadata": {},
   "outputs": [],
   "source": [
    "films1 = [\n",
    "    {\"title\": \"Pretty Woman\", \"year\": 1990, \"Edward\": \"Vivian\"},\n",
    "    {\"title\": \"Titanic\", \"year\": 1997, \"Jack\": \"Rose\"},\n",
    "]\n",
    "films2 = [\n",
    "    {\n",
    "        \"title\": \"Jerry Maguire\",\n",
    "        \"year\": 1996,\n",
    "        \"Jerry\": \"Dorothy\",\n",
    "    },\n",
    "    {\n",
    "        \"title\": \"Superman\",\n",
    "        \"Kent\": \"Lois\",\n",
    "        \"year\": 1978,\n",
    "    },\n",
    "    {\n",
    "        \"title\": \"The Lord of the Rings\",\n",
    "        \"year\": 2001,\n",
    "        \"Aragorn\": \"Arwen\",\n",
    "    },\n",
    "    {\n",
    "        \"Ron Weasley\": \"Hermione\",\n",
    "        \"title\": \"Harry Potter and the Deathly Hallows, Part 2\",\n",
    "        \"year\": 2011,\n",
    "    },\n",
    "]"
   ]
  },
  {
   "cell_type": "code",
   "execution_count": 64,
   "id": "300e8ee6",
   "metadata": {},
   "outputs": [
    {
     "data": {
      "text/plain": [
       "[{'title': 'Jerry Maguire', 'year': 1996, 'Dorothy': 'Jerry'},\n",
       " {'title': 'Superman', 'Lois': 'Kent', 'year': 1978},\n",
       " {'title': 'The Lord of the Rings', 'year': 2001, 'Arwen': 'Aragorn'},\n",
       " {'Hermione': 'Ron Weasley',\n",
       "  'title': 'Harry Potter and the Deathly Hallows, Part 2',\n",
       "  'year': 2011}]"
      ]
     },
     "execution_count": 64,
     "metadata": {},
     "output_type": "execute_result"
    }
   ],
   "source": [
    "actorswap(films2)"
   ]
  },
  {
   "cell_type": "code",
   "execution_count": 62,
   "id": "e087b3f5",
   "metadata": {},
   "outputs": [],
   "source": [
    "assert actorswap([]) == []\n",
    "\n",
    "orig_film = films1[0]\n",
    "res2 = actorswap(films1)\n",
    "assert res2 == [\n",
    "    {\"title\": \"Pretty Woman\", \"year\": 1990, \"Vivian\": \"Edward\"},\n",
    "    {\"title\": \"Titanic\", \"year\": 1997, \"Rose\": \"Jack\"},\n",
    "]\n",
    "assert id(films1) != id(res2)  # must produce a NEW list\n",
    "assert id(orig_film) != id(res2[0])  # must produce a NEW dictionary\n",
    "\n",
    "assert actorswap(films2) == [\n",
    "    {\"title\": \"Jerry Maguire\", \"year\": 1996, \"Dorothy\": \"Jerry\"},\n",
    "    {\"title\": \"Superman\", \"year\": 1978, \"Lois\": \"Kent\"},\n",
    "    {\"title\": \"The Lord of the Rings\", \"year\": 2001, \"Arwen\": \"Aragorn\"},\n",
    "    {\n",
    "        \"title\": \"Harry Potter and the Deathly Hallows, Part 2\",\n",
    "        \"year\": 2011,\n",
    "        \"Hermione\": \"Ron Weasley\",\n",
    "    },\n",
    "]"
   ]
  },
  {
   "cell_type": "code",
   "execution_count": null,
   "id": "0d4fbdac",
   "metadata": {},
   "outputs": [],
   "source": []
  }
 ],
 "metadata": {
  "kernelspec": {
   "display_name": "Python 3 (ipykernel)",
   "language": "python",
   "name": "python3"
  },
  "language_info": {
   "codemirror_mode": {
    "name": "ipython",
    "version": 3
   },
   "file_extension": ".py",
   "mimetype": "text/x-python",
   "name": "python",
   "nbconvert_exporter": "python",
   "pygments_lexer": "ipython3",
   "version": "3.10.14"
  },
  "toc": {
   "base_numbering": 1,
   "nav_menu": {},
   "number_sections": false,
   "sideBar": true,
   "skip_h1_title": false,
   "title_cell": "Table of Contents",
   "title_sidebar": "Contents",
   "toc_cell": false,
   "toc_position": {},
   "toc_section_display": true,
   "toc_window_display": true
  }
 },
 "nbformat": 4,
 "nbformat_minor": 5
}
