{
 "cells": [
  {
   "cell_type": "code",
   "execution_count": 58,
   "metadata": {
    "tags": [
     "remove-cell"
    ]
   },
   "outputs": [],
   "source": [
    "from metakernel import register_ipython_magics\n",
    "register_ipython_magics()"
   ]
  },
  {
   "cell_type": "markdown",
   "metadata": {},
   "source": [
    "# Nested structures\n",
    "\n",
    "## Introduction\n",
    "\n",
    "\n",
    "The idea of this course is to give you an idea of how to construct a nested data structure.\n",
    "As a bonus, we can discuss memory references and copies along the way."
   ]
  },
  {
   "cell_type": "markdown",
   "metadata": {},
   "source": [
    "## Overview\n",
    "\n",
    "Let's first see how to deal with lists of lists. Consider the following one:"
   ]
  },
  {
   "cell_type": "code",
   "execution_count": 59,
   "metadata": {},
   "outputs": [],
   "source": [
    "m = [\n",
    "    [\"a\", \"b\"],\n",
    "    [\"c\", \"d\"],\n",
    "    [\"a\", \"e\"],\n",
    "]"
   ]
  },
  {
   "cell_type": "markdown",
   "metadata": {},
   "source": [
    "Going back to the example, in practice we have a big external list:\n",
    "\n",
    "```python\n",
    "m = [\n",
    "\n",
    "\n",
    "]\n",
    "```\n",
    "\n",
    "and each of its elements is another list which represents a row:\n",
    "\n",
    "```python\n",
    "m = [\n",
    "        ['a','b'],\n",
    "        ['c','d'],\n",
    "        ['a','e']\n",
    "    ]\n",
    "```\n",
    "\n",
    "So, to access the whole first row `['a','b']`, we would simply access the element at index 0 of the external list `m`:"
   ]
  },
  {
   "cell_type": "code",
   "execution_count": 60,
   "metadata": {},
   "outputs": [
    {
     "data": {
      "text/plain": [
       "['a', 'b']"
      ]
     },
     "execution_count": 60,
     "metadata": {},
     "output_type": "execute_result"
    }
   ],
   "source": [
    "m[0]"
   ]
  },
  {
   "cell_type": "markdown",
   "metadata": {},
   "source": [
    "To access the second whole second row `['c','d']`, we would access the element at index 1 of the external list `m`:"
   ]
  },
  {
   "cell_type": "code",
   "execution_count": 61,
   "metadata": {},
   "outputs": [
    {
     "data": {
      "text/plain": [
       "['c', 'd']"
      ]
     },
     "execution_count": 61,
     "metadata": {},
     "output_type": "execute_result"
    }
   ],
   "source": [
    "m[1]"
   ]
  },
  {
   "cell_type": "markdown",
   "metadata": {},
   "source": [
    "To access the second whole third row `['c','d']`, we would access the element at index 2 of the external list `m`:"
   ]
  },
  {
   "cell_type": "code",
   "execution_count": 62,
   "metadata": {},
   "outputs": [
    {
     "data": {
      "text/plain": [
       "['a', 'e']"
      ]
     },
     "execution_count": 62,
     "metadata": {},
     "output_type": "execute_result"
    }
   ],
   "source": [
    "m[2]"
   ]
  },
  {
   "cell_type": "markdown",
   "metadata": {},
   "source": [
    "To access the first element `'a'` of the first row `['a','b']` we would add another subscript operator with index 0:"
   ]
  },
  {
   "cell_type": "code",
   "execution_count": 63,
   "metadata": {},
   "outputs": [
    {
     "data": {
      "text/plain": [
       "'a'"
      ]
     },
     "execution_count": 63,
     "metadata": {},
     "output_type": "execute_result"
    }
   ],
   "source": [
    "m[0][0]"
   ]
  },
  {
   "cell_type": "markdown",
   "metadata": {},
   "source": [
    "To access the second element `'b'` of the first row `['a','b']` we would use instead index 1 :"
   ]
  },
  {
   "cell_type": "code",
   "execution_count": 64,
   "metadata": {},
   "outputs": [
    {
     "data": {
      "text/plain": [
       "'b'"
      ]
     },
     "execution_count": 64,
     "metadata": {},
     "output_type": "execute_result"
    }
   ],
   "source": [
    "m[0][1]"
   ]
  },
  {
   "cell_type": "markdown",
   "metadata": {},
   "source": [
    "## Visiting with style\n",
    "\n",
    "Suppose we want to visit all the elements of such a nested structure, and print them one by one.\n",
    "\n",
    "If you want to keep track of the coordinates where you are in the traversal, you can use a nested `for in range` like so:"
   ]
  },
  {
   "cell_type": "code",
   "execution_count": 65,
   "metadata": {},
   "outputs": [
    {
     "name": "stdout",
     "output_type": "stream",
     "text": [
      "i: 0  j: 0  m[i][j]: a\n",
      "i: 0  j: 1  m[i][j]: b\n",
      "ROW END!\n",
      "i: 1  j: 0  m[i][j]: c\n",
      "i: 1  j: 1  m[i][j]: d\n",
      "i: 1  j: 2  m[i][j]: e\n",
      "i: 1  j: 3  m[i][j]: f\n",
      "ROW END!\n",
      "i: 2  j: 0  m[i][j]: g\n",
      "i: 2  j: 1  m[i][j]: h\n",
      "i: 2  j: 2  m[i][j]: i\n",
      "ROW END!\n",
      "i: 3  j: 0  m[i][j]: j\n",
      "ROW END!\n"
     ]
    }
   ],
   "source": [
    "m = [\n",
    "    [\"a\", \"b\"],\n",
    "    [\"c\", \"d\", \"e\", \"f\"],\n",
    "    [\"g\", \"h\", \"i\"],\n",
    "    [\"j\"],\n",
    "]\n",
    "\n",
    "for i in range(len(m)):\n",
    "    for j in range(len(m[i])):\n",
    "        print(\"i:\", i, \" j:\", j, \" m[i][j]:\", m[i][j])\n",
    "    print(\"ROW END!\")"
   ]
  },
  {
   "cell_type": "markdown",
   "metadata": {},
   "source": [
    "The algorithm is pretty simple, yet a couple of things are worth noting:\n",
    "\n",
    "- we used `i` as _integer index_ for the _rows_\n",
    "- we used `j` as _integer index_ for the _columns_\n",
    "\n",
    "It follows the convention in maths and Python of naming index variables as `i`, `j`, `k` at nested levels 1, 2, and 3, respectively.\n",
    "\n",
    "```{note}\n",
    "You might wonder, what if I have 4 nested `for`s? Then, don't look for a variable name for your index, it's time to refactor your code, because you should never arrive to that level of nesting! In that case, you could for instance define a separate function to deal with either the inner or outer `for`s.\n",
    "```"
   ]
  },
  {
   "cell_type": "markdown",
   "metadata": {},
   "source": [
    "```{admonition} Question \n",
    "Look at the following code that prints again all the elements of `m`.\n",
    "\n",
    "Is this _good style_ or not? Why?\n",
    "```"
   ]
  },
  {
   "cell_type": "code",
   "execution_count": 66,
   "metadata": {},
   "outputs": [
    {
     "name": "stdout",
     "output_type": "stream",
     "text": [
      "a\n",
      "b\n",
      "ROW END!\n",
      "c\n",
      "d\n",
      "e\n",
      "f\n",
      "ROW END!\n",
      "g\n",
      "h\n",
      "i\n",
      "ROW END!\n",
      "j\n",
      "ROW END!\n"
     ]
    }
   ],
   "source": [
    "for row in m:\n",
    "    for cell in row:\n",
    "        print(cell)\n",
    "    print(\"ROW END!\")"
   ]
  },
  {
   "cell_type": "markdown",
   "metadata": {
    "tags": [
     "answer"
    ]
   },
   "source": [
    "```{admonition} Answer\n",
    ":class: tip dropdown\n",
    "The above style is ok. Since we don't explicitly need the position, if we want we can skip holding integer indices `i` and `j` and directly obtain pointers to the internal lists, _provided we choose proper names for them_, like in this case with the `row` variable. Notice we named the internal variable `cell` to mean we are referring to the _string content_ of it.\n",
    "```"
   ]
  },
  {
   "cell_type": "markdown",
   "metadata": {},
   "source": [
    "## Extracting rows and columns"
   ]
  },
  {
   "cell_type": "markdown",
   "metadata": {},
   "source": [
    "### How to extract a row\n",
    "\n",
    "One of the first things you might want to do is to extract the `i`-th row. If you're implementing a function that does this, you have basically two choices. Either: \n",
    "\n",
    "1. return a _pointer_ to the _original_ row\n",
    "2. return a  _copy_ of the row. \n",
    "\n",
    "Since a copy consumes memory, why should you ever want to return a copy? Sometimes you just don't know which use will be done of the data structure. For example, suppose you got a book of exercises which has empty spaces to write exercises in. It's such a great book everybody in the classroom wants to read it - but you are afraid if the book starts changing hands some careless guy might write on it. To avoid problems, you make a copy of the book and distribute it.\n",
    "\n",
    "### Extracting row pointers\n",
    "\n",
    "So first let's see what happens when you just return a _pointer_ to the _original_ row. "
   ]
  },
  {
   "cell_type": "code",
   "execution_count": 67,
   "metadata": {},
   "outputs": [
    {
     "data": {
      "text/html": [
       "\n",
       "        <iframe\n",
       "            width=\"100%\"\n",
       "            height=\"500\"\n",
       "            src=\"https://pythontutor.com/iframe-embed.html#code=%0Adef%20extrowp%28mat%2C%20i%29%3A%0A%20%20%20%20%22%22%22%20RETURN%20the%20ith%20row%20from%20mat%20%20%20%20%20%20%20%20%0A%20%20%20%20%22%22%22%0A%20%20%20%20return%20mat%5Bi%5D%0A%0A%20%20%20%20%0Am%20%3D%20%5B%0A%20%20%20%20%20%20%5B%27a%27%2C%27b%27%5D%2C%0A%20%20%20%20%20%20%5B%27c%27%2C%27d%27%5D%2C%0A%20%20%20%20%20%20%5B%27a%27%2C%27e%27%5D%2C%20%20%20%20%0A%5D%0A%0Arow%20%3D%20extrowp%28m%2C%200%29%0A&origin=opt-frontend.js&cumulative=false&heapPrimitives=false&textReferences=false&py=3&rawInputLstJSON=%5B%5D&curInstr=0&codeDivWidth=350&codeDivHeight=400\"\n",
       "            frameborder=\"0\"\n",
       "            allowfullscreen\n",
       "            \n",
       "        ></iframe>\n",
       "        "
      ],
      "text/plain": [
       "<IPython.lib.display.IFrame at 0x75afabfc3730>"
      ]
     },
     "metadata": {},
     "output_type": "display_data"
    }
   ],
   "source": [
    "%%tutor\n",
    "\n",
    "def extrowp(mat, i):\n",
    "    \"\"\" RETURN the ith row from mat        \n",
    "    \"\"\"\n",
    "    return mat[i]\n",
    "\n",
    "    \n",
    "m = [\n",
    "      ['a','b'],\n",
    "      ['c','d'],\n",
    "      ['a','e'],    \n",
    "]\n",
    "\n",
    "row = extrowp(m, 0)"
   ]
  },
  {
   "cell_type": "markdown",
   "metadata": {},
   "source": [
    "### Extract row with a for\n",
    "\n",
    "✪ Now try to implement a version which returns a **copy** of the row. "
   ]
  },
  {
   "cell_type": "markdown",
   "metadata": {},
   "source": [
    "```{admonition} Quesstion\n",
    "You might be tempted to  implement something like this - but it wouldn't work. Why?\n",
    "```"
   ]
  },
  {
   "cell_type": "code",
   "execution_count": 68,
   "metadata": {},
   "outputs": [
    {
     "data": {
      "text/html": [
       "\n",
       "        <iframe\n",
       "            width=\"100%\"\n",
       "            height=\"500\"\n",
       "            src=\"https://pythontutor.com/iframe-embed.html#code=%0Adef%20extrow_wrong%28mat%2C%20i%29%3A%0A%20%20%20%20%22%22%22%20RETURN%20the%20ith%20row%20from%20mat%2C%20as%20a%20NEW%20list%22%22%22%0A%20%20%20%20%0A%20%20%20%20row%20%3D%20%5B%5D%0A%20%20%20%20row.append%28mat%5Bi%5D%29%20%20%0A%20%20%20%20return%20row%0A%0Am%20%3D%20%5B%0A%20%20%20%20%20%20%5B%27a%27%2C%27b%27%5D%2C%0A%20%20%20%20%20%20%5B%27c%27%2C%27d%27%5D%2C%0A%20%20%20%20%20%20%5B%27a%27%2C%27e%27%5D%2C%20%20%20%20%0A%5D%0A%0Arow%20%3D%20extrow_wrong%28m%2C0%29%0A&origin=opt-frontend.js&cumulative=false&heapPrimitives=false&textReferences=false&py=3&rawInputLstJSON=%5B%5D&curInstr=0&codeDivWidth=350&codeDivHeight=400\"\n",
       "            frameborder=\"0\"\n",
       "            allowfullscreen\n",
       "            \n",
       "        ></iframe>\n",
       "        "
      ],
      "text/plain": [
       "<IPython.lib.display.IFrame at 0x75afabfc2fe0>"
      ]
     },
     "metadata": {},
     "output_type": "display_data"
    }
   ],
   "source": [
    "%%tutor\n",
    "\n",
    "def extrow_wrong(mat, i):\n",
    "    \"\"\" RETURN the ith row from mat, as a NEW list\"\"\"\n",
    "    \n",
    "    row = []\n",
    "    row.append(mat[i])  \n",
    "    return row\n",
    "\n",
    "m = [\n",
    "      ['a','b'],\n",
    "      ['c','d'],\n",
    "      ['a','e'],    \n",
    "]\n",
    "\n",
    "row = extrow_wrong(m,0)"
   ]
  },
  {
   "cell_type": "markdown",
   "metadata": {
    "tags": [
     "answer"
    ]
   },
   "source": [
    "```{admonition} Answer\n",
    ":class: tip dropdown\n",
    "The code above adds a LIST as element to another empty list. In other words, it is wrapping the row (which is already a list) into another list. \n",
    "If you checj the problem in Python Tutor, you will see an arrow going from row to a list of one element \n",
    "which will contain exactly one arrow to the original row.\n",
    "``` "
   ]
  },
  {
   "cell_type": "markdown",
   "metadata": {},
   "source": [
    "You can build an actual copy in several ways, with a `for`, a slice or a list comprehension. Try to implement all versions, starting with the `for` here. Be sure to check your result with `%%tutor`. If you run the code with Python Tutor, you should only see  _one_ arrow going to the original `['a','b']` row in `m`, and there should be _another_ `['a','b']` copy somewhere, with `row` variable pointing to it. "
   ]
  },
  {
   "cell_type": "markdown",
   "metadata": {},
   "source": [
    "✪ **EXERCISE**: Implement the function `esrowf` which RETURNS the `i`-th row from `mat` as a NEW list.\n",
    "\n",
    "* **NOTE**: To create a new list use a for cycle which iterates over the elements, _not_ the indices (so don't use range!)"
   ]
  },
  {
   "cell_type": "code",
   "execution_count": 69,
   "metadata": {
    "tags": [
     "answer",
     "hide-input"
    ]
   },
   "outputs": [],
   "source": [
    "def extrowf(mat, i):\n",
    "    row = []\n",
    "    for x in mat[i]:\n",
    "        row.append(x)\n",
    "    return row"
   ]
  },
  {
   "cell_type": "code",
   "execution_count": 70,
   "metadata": {},
   "outputs": [],
   "source": [
    "# %%tutor\n",
    "\n",
    "m = [\n",
    "    [\"a\", \"b\"],\n",
    "    [\"c\", \"d\"],\n",
    "    [\"a\", \"e\"],\n",
    "]\n",
    "\n",
    "assert extrowf(m, 0) == [\"a\", \"b\"]\n",
    "assert extrowf(m, 1) == [\"c\", \"d\"]\n",
    "assert extrowf(m, 2) == [\"a\", \"e\"]\n",
    "\n",
    "# check it didn't change the original matrix !\n",
    "r = extrowf(m, 0)\n",
    "r[0] = \"z\"\n",
    "assert m[0][0] == \"a\""
   ]
  },
  {
   "cell_type": "markdown",
   "metadata": {},
   "source": [
    "### Extract row with range\n",
    "\n",
    "Let's first quickly see  `range(n)`. Maybe you think it should return a sequence of integers, from zero to `n - 1`. Is it really like this?"
   ]
  },
  {
   "cell_type": "code",
   "execution_count": 71,
   "metadata": {},
   "outputs": [
    {
     "data": {
      "text/plain": [
       "range(0, 5)"
      ]
     },
     "execution_count": 71,
     "metadata": {},
     "output_type": "execute_result"
    }
   ],
   "source": [
    "range(5)"
   ]
  },
  {
   "cell_type": "markdown",
   "metadata": {},
   "source": [
    "Maybe you expected something like a list `[0,1,2,3,4]`, instead we  discovered that Python is quite lazy here: as a matter of fact, `range(n)` returns an _iterable_ object, which is not a real sequence materialized in memory.\n",
    "\n",
    "To take a real integer list, we must explicitly ask this iterable object to give us the objects one by one.\n",
    "\n",
    "When you write `for i in range(s)` the `for` loop is doing exactly this, at each round it asks the object `range` to generate a number from the sequence. If we want the whole sequence materialized in memory, we can generate it by converting the `range` into a list object:"
   ]
  },
  {
   "cell_type": "code",
   "execution_count": 72,
   "metadata": {},
   "outputs": [
    {
     "data": {
      "text/plain": [
       "[0, 1, 2, 3, 4]"
      ]
     },
     "execution_count": 72,
     "metadata": {},
     "output_type": "execute_result"
    }
   ],
   "source": [
    "list(range(5))"
   ]
  },
  {
   "cell_type": "markdown",
   "metadata": {},
   "source": [
    "Be careful, though. According to the sequence dimension, this might be dangerous. A billion elements list might saturate your computer RAM (in 2020 notebooks often have 4 gigabytes of RAM, that is, 4 billion bytes)."
   ]
  },
  {
   "cell_type": "markdown",
   "metadata": {},
   "source": [
    "✪ **EXERCISE**: Now implement the `extrowr` iterating over a range of row indices:\n",
    "\n",
    "* **NOTE 1**: To create a new list use a `for` loop\n",
    "* **NOTE 2**: remember to use a new name for the column index!"
   ]
  },
  {
   "cell_type": "code",
   "execution_count": 73,
   "metadata": {
    "tags": [
     "answer",
     "hide-input"
    ]
   },
   "outputs": [],
   "source": [
    "def extrowr(mat, i):\n",
    "    \"\"\" RETURN the ith row from mat as a NEW list\n",
    "    \"\"\"\n",
    "    row = []\n",
    "    for j in range(len(mat[0])):\n",
    "        row.append(mat[i][j]) \n",
    "    return row"
   ]
  },
  {
   "cell_type": "code",
   "execution_count": 74,
   "metadata": {},
   "outputs": [],
   "source": [
    "# %%tutor\n",
    "\n",
    "m = [\n",
    "      ['a','b'],\n",
    "      ['c','d'],\n",
    "      ['a','e'],    \n",
    "]\n",
    "\n",
    "assert extrowr(m, 0) == ['a','b']\n",
    "assert extrowr(m, 1) == ['c','d']\n",
    "assert extrowr(m, 2) == ['a','e']\n",
    "\n",
    "# check it didn't change the original matrix !\n",
    "r = extrowr(m, 0)\n",
    "r[0] = 'z'\n",
    "assert m[0][0] == 'a' "
   ]
  },
  {
   "cell_type": "markdown",
   "metadata": {},
   "source": [
    "### Extract row with a slice\n",
    "\n",
    "✪ Remember slices return a _copy_ of a list? Now try using them.\n",
    "\n",
    "Implement `extrows`, which RETURN the `i`-th row from `mat` as a NEW list.\n",
    "\n",
    "* **NOTE**: To create it, use slices"
   ]
  },
  {
   "cell_type": "code",
   "execution_count": 75,
   "metadata": {
    "tags": [
     "answer",
     "hide-input"
    ]
   },
   "outputs": [],
   "source": [
    "def extrows(mat, i):\n",
    "    return mat[i][:]  # if you omit start end end indexes, you get a copy of the whole list"
   ]
  },
  {
   "cell_type": "code",
   "execution_count": 76,
   "metadata": {},
   "outputs": [],
   "source": [
    "# %%tutor\n",
    "\n",
    "m = [\n",
    "    [\"a\", \"b\"],\n",
    "    [\"c\", \"d\"],\n",
    "    [\"a\", \"e\"],\n",
    "]\n",
    "\n",
    "\n",
    "assert extrows(m, 0) == [\"a\", \"b\"]\n",
    "assert extrows(m, 1) == [\"c\", \"d\"]\n",
    "assert extrows(m, 2) == [\"a\", \"e\"]\n",
    "\n",
    "# check it didn't change the original matrix !\n",
    "r = extrows(m, 0)\n",
    "r[0] = \"z\"\n",
    "assert m[0][0] == \"a\""
   ]
  },
  {
   "cell_type": "markdown",
   "metadata": {},
   "source": [
    "### Extract row with list comprehension\n",
    "\n",
    "✪ Implement `extrowc`, which RETURNs the `i`-th row from `mat` as a NEW list, using a _list comprehension_."
   ]
  },
  {
   "cell_type": "code",
   "execution_count": 77,
   "metadata": {
    "tags": [
     "answer",
     "hide-input"
    ]
   },
   "outputs": [],
   "source": [
    "def extrowc(mat, i):\n",
    "    return [x for x in mat[i]]"
   ]
  },
  {
   "cell_type": "code",
   "execution_count": 78,
   "metadata": {},
   "outputs": [],
   "source": [
    "# %%tutor\n",
    "\n",
    "m = [\n",
    "    [\"a\", \"b\"],\n",
    "    [\"c\", \"d\"],\n",
    "    [\"a\", \"e\"],\n",
    "]\n",
    "\n",
    "assert extrowc(m, 0) == [\"a\", \"b\"]\n",
    "assert extrowc(m, 1) == [\"c\", \"d\"]\n",
    "assert extrowc(m, 2) == [\"a\", \"e\"]\n",
    "\n",
    "# check it didn't change the original matrix !\n",
    "r = extrowc(m, 0)\n",
    "r[0] = \"z\"\n",
    "assert m[0][0] == \"a\""
   ]
  },
  {
   "cell_type": "markdown",
   "metadata": {},
   "source": [
    "## Creating new matrices"
   ]
  },
  {
   "cell_type": "markdown",
   "metadata": {},
   "source": [
    "### List of lists with default values\n",
    "\n",
    "✪✪ There are several ways to create a new empty 3x5 matrix as lists of lists which contains zeros.\n",
    "\n",
    "Implement `empty_matrix`, which RETURN a NEW matrix nxn as a list of lists filled with zeroes\n",
    "\n",
    "* use two nested `for` cycles:"
   ]
  },
  {
   "cell_type": "code",
   "execution_count": 79,
   "metadata": {
    "tags": [
     "answer",
     "hide-input"
    ]
   },
   "outputs": [],
   "source": [
    "def empty_matrix(n, m):\n",
    "    ret = []\n",
    "    for i in range(n):\n",
    "        row = []\n",
    "        ret.append(row)\n",
    "        for j in range(m):\n",
    "            row.append(0)\n",
    "    return ret"
   ]
  },
  {
   "cell_type": "code",
   "execution_count": 80,
   "metadata": {},
   "outputs": [],
   "source": [
    "assert empty_matrix(1,1) == [[0]]\n",
    "\n",
    "assert empty_matrix(1,2) == [ [0,0] ]\n",
    "\n",
    "assert empty_matrix(2,1) == [ [0],\n",
    "                              [0] ]\n",
    "\n",
    "assert empty_matrix(2,2) == [ [0,0],\n",
    "                              [0,0] ]\n",
    "\n",
    "assert empty_matrix(3,3) == [ [0,0,0], \n",
    "                              [0,0,0],\n",
    "                              [0,0,0] ]"
   ]
  },
  {
   "cell_type": "markdown",
   "metadata": {},
   "source": [
    "### `empty_matrix` the elegant way"
   ]
  },
  {
   "cell_type": "markdown",
   "metadata": {},
   "source": [
    "To create a new list of 3 elements filled with zeros, you can write like this:"
   ]
  },
  {
   "cell_type": "code",
   "execution_count": 81,
   "metadata": {},
   "outputs": [
    {
     "data": {
      "text/plain": [
       "[0, 0, 0]"
      ]
     },
     "execution_count": 81,
     "metadata": {},
     "output_type": "execute_result"
    }
   ],
   "source": [
    "[0]*3"
   ]
  },
  {
   "cell_type": "markdown",
   "metadata": {},
   "source": [
    "The `*` is kind of multiplying the elements in a list"
   ]
  },
  {
   "cell_type": "markdown",
   "metadata": {},
   "source": [
    "Given the above, to create a 5x3 matrix  filled with zeros, which is a list of seemingly equal lists, you might then be tempted to write like this:"
   ]
  },
  {
   "cell_type": "code",
   "execution_count": 82,
   "metadata": {},
   "outputs": [
    {
     "data": {
      "text/plain": [
       "[[0, 0, 0], [0, 0, 0], [0, 0, 0], [0, 0, 0], [0, 0, 0]]"
      ]
     },
     "execution_count": 82,
     "metadata": {},
     "output_type": "execute_result"
    }
   ],
   "source": [
    "# WRONG\n",
    "[[0]*3]*5"
   ]
  },
  {
   "cell_type": "markdown",
   "metadata": {},
   "source": [
    "Why is that (possibly) wrong? Let's try to inspect it in Python Tutor: "
   ]
  },
  {
   "cell_type": "code",
   "execution_count": 83,
   "metadata": {},
   "outputs": [
    {
     "data": {
      "text/html": [
       "\n",
       "        <iframe\n",
       "            width=\"100%\"\n",
       "            height=\"500\"\n",
       "            src=\"https://pythontutor.com/iframe-embed.html#code=bad%20%3D%20%5B%5B0%5D%2A3%5D%2A5%0A&origin=opt-frontend.js&cumulative=false&heapPrimitives=false&textReferences=false&py=3&rawInputLstJSON=%5B%5D&curInstr=0&codeDivWidth=350&codeDivHeight=400\"\n",
       "            frameborder=\"0\"\n",
       "            allowfullscreen\n",
       "            \n",
       "        ></iframe>\n",
       "        "
      ],
      "text/plain": [
       "<IPython.lib.display.IFrame at 0x75afabfc3af0>"
      ]
     },
     "metadata": {},
     "output_type": "display_data"
    }
   ],
   "source": [
    "%%tutor\n",
    "bad = [[0]*3]*5"
   ]
  },
  {
   "cell_type": "markdown",
   "metadata": {},
   "source": [
    "If you look closely, you will see many arrows pointing to the same list of 3 zeros. This means that if we change one number, we will apparently change 5 of them in the whole column !\n",
    "\n",
    "The right way to create a matrix as list of lists with zeroes is the following:"
   ]
  },
  {
   "cell_type": "code",
   "execution_count": 84,
   "metadata": {},
   "outputs": [
    {
     "data": {
      "text/plain": [
       "[[0, 0, 0], [0, 0, 0], [0, 0, 0], [0, 0, 0], [0, 0, 0]]"
      ]
     },
     "execution_count": 84,
     "metadata": {},
     "output_type": "execute_result"
    }
   ],
   "source": [
    "# CORRECT \n",
    "[[0]*3 for i in range(5)]"
   ]
  },
  {
   "cell_type": "markdown",
   "metadata": {},
   "source": [
    "**EXERCISE**: Try creating a matrix with 7 rows and 4 columns and fill it with 5."
   ]
  },
  {
   "cell_type": "code",
   "execution_count": 85,
   "metadata": {
    "tags": [
     "answer",
     "hide-input"
    ]
   },
   "outputs": [
    {
     "data": {
      "text/plain": [
       "[[5, 5, 5, 5],\n",
       " [5, 5, 5, 5],\n",
       " [5, 5, 5, 5],\n",
       " [5, 5, 5, 5],\n",
       " [5, 5, 5, 5],\n",
       " [5, 5, 5, 5],\n",
       " [5, 5, 5, 5]]"
      ]
     },
     "execution_count": 85,
     "metadata": {},
     "output_type": "execute_result"
    }
   ],
   "source": [
    "lst = [[5]*4 for i in range(7)]\n",
    "lst"
   ]
  },
  {
   "cell_type": "code",
   "execution_count": 86,
   "metadata": {
    "tags": [
     "remove-cell"
    ]
   },
   "outputs": [
    {
     "data": {
      "text/plain": [
       "[[5, 5, 5, 5],\n",
       " [5, 5, 5, 5],\n",
       " [5, 5, 5, 5],\n",
       " [5, 5, 5, 5],\n",
       " [5, 5, 5, 5],\n",
       " [5, 5, 5, 5],\n",
       " [5, 5, 5, 5]]"
      ]
     },
     "execution_count": 86,
     "metadata": {},
     "output_type": "execute_result"
    }
   ],
   "source": [
    "lst"
   ]
  },
  {
   "cell_type": "markdown",
   "metadata": {},
   "source": [
    "### deep_clone\n",
    "\n",
    "✪✪ Let's try to produce a _complete_ clone of the matrix, also called a _deep clone_, by creating a copy of the external list _and_ also the internal lists representing the rows.\n",
    "\n",
    "```{admonition} Question\n",
    "You might be tempted to write code like this, but it will not work. Why?\n",
    "```"
   ]
  },
  {
   "cell_type": "code",
   "execution_count": 87,
   "metadata": {},
   "outputs": [
    {
     "data": {
      "text/html": [
       "\n",
       "        <iframe\n",
       "            width=\"100%\"\n",
       "            height=\"500\"\n",
       "            src=\"https://pythontutor.com/iframe-embed.html#code=%0A%23%20WARNING%3A%20WRONG%20CODE%0Adef%20deep_clone_wrong%28mat%29%3A%0A%20%20%20%20%22%22%22RETURN%20a%20NEW%20list%20of%20lists%20which%20is%20a%20COMPLETE%20DEEP%20clone%0A%20%20%20%20of%20mat%20%28which%20is%20a%20list%20of%20lists%29%0A%20%20%20%20%22%22%22%0A%20%20%20%20return%20mat%5B%3A%5D%0A%0A%0Am%20%3D%20%5B%5B%22a%22%2C%20%22b%22%5D%2C%20%5B%22b%22%2C%20%22d%22%5D%5D%0A%0Ares%20%3D%20deep_clone_wrong%28m%29%0A&origin=opt-frontend.js&cumulative=false&heapPrimitives=false&textReferences=false&py=3&rawInputLstJSON=%5B%5D&curInstr=0&codeDivWidth=350&codeDivHeight=400\"\n",
       "            frameborder=\"0\"\n",
       "            allowfullscreen\n",
       "            \n",
       "        ></iframe>\n",
       "        "
      ],
      "text/plain": [
       "<IPython.lib.display.IFrame at 0x75afabfc1390>"
      ]
     },
     "metadata": {},
     "output_type": "display_data"
    }
   ],
   "source": [
    "%%tutor\n",
    "\n",
    "# WARNING: WRONG CODE\n",
    "def deep_clone_wrong(mat):\n",
    "    \"\"\"RETURN a NEW list of lists which is a COMPLETE DEEP clone\n",
    "    of mat (which is a list of lists)\n",
    "    \"\"\"\n",
    "    return mat[:]\n",
    "\n",
    "\n",
    "m = [[\"a\", \"b\"], [\"b\", \"d\"]]\n",
    "\n",
    "res = deep_clone_wrong(m)"
   ]
  },
  {
   "cell_type": "markdown",
   "metadata": {
    "tags": [
     "answer"
    ]
   },
   "source": [
    "```{admonition} Answer\n",
    ":class: tip dropdown\n",
    "`return mat[:]` is not sufficient, because it's a SHALLOW clone, and only copies the _external_ list and not also the internal ones !  Note you will have rows in the `res` list which goes to the original matrix. We don't want this!\n",
    "```"
   ]
  },
  {
   "cell_type": "markdown",
   "metadata": {},
   "source": [
    "To fix the above code, you will need to iterate through the rows and _for each_ row create a copy of that row."
   ]
  },
  {
   "cell_type": "markdown",
   "metadata": {},
   "source": [
    "✪✪ **EXERCISE**: Implement `deep_clone`, which RETURNS a NEW list as a complete DEEP CLONE of `mat` (which is a list of lists)\n",
    "\n",
    "**NOTE**: the exercise can be solved very quickly by using the [function deepcopy](https://en.softpython.org/lists/lists3-sol.html#deepcopy-function) but we invite you to solve it without for now."
   ]
  },
  {
   "cell_type": "code",
   "execution_count": 88,
   "metadata": {
    "tags": [
     "answer",
     "hide-input"
    ]
   },
   "outputs": [],
   "source": [
    "def deep_clone(mat):\n",
    "    ret = []\n",
    "    for row in mat:\n",
    "        ret.append(row[:])\n",
    "    return ret"
   ]
  },
  {
   "cell_type": "code",
   "execution_count": 89,
   "metadata": {},
   "outputs": [],
   "source": [
    "m = [[\"a\", \"b\"], [\"b\", \"d\"]]\n",
    "\n",
    "res = [[\"a\", \"b\"], [\"b\", \"d\"]]\n",
    "\n",
    "# verify the copy\n",
    "c = deep_clone(m)\n",
    "assert c == res\n",
    "\n",
    "# verify it is a DEEP copy (that is, it created also clones of the rows!)\n",
    "c[0][0] = \"z\"\n",
    "assert m[0][0] == \"a\""
   ]
  },
  {
   "cell_type": "markdown",
   "metadata": {},
   "source": [
    "## Modifying matrices"
   ]
  },
  {
   "cell_type": "markdown",
   "metadata": {},
   "source": [
    "### fillc\n",
    "\n",
    "✪✪ Implement the function `fillc` which takes as input `mat` (a list of lists with dimension `nrows` x `ncol`) and MODIFIES it by placing the character `c` inside all the matrix cells.\n",
    "\n",
    "* to visit the matrix use for in range cycles\n",
    "\n",
    "Ingredients:\n",
    "\n",
    "* find matrix dimension\n",
    "* two nested fors\n",
    "* use range"
   ]
  },
  {
   "cell_type": "code",
   "execution_count": 90,
   "metadata": {
    "tags": [
     "answer",
     "hide-input"
    ]
   },
   "outputs": [],
   "source": [
    "def fillc(mat, c):\n",
    "    nrows = len(mat)\n",
    "    ncols = len(mat[0])\n",
    "\n",
    "    for i in range(nrows):\n",
    "        for j in range(ncols):\n",
    "            mat[i][j] = c"
   ]
  },
  {
   "cell_type": "code",
   "execution_count": 91,
   "metadata": {},
   "outputs": [],
   "source": [
    "m1 = [ ['a'] ]\n",
    "m2 = [ ['z'] ]\n",
    "fillc(m1,'z')\n",
    "assert m1 == m2\n",
    "\n",
    "m3 = [ ['a'] ]\n",
    "m4 = [ ['y'] ]\n",
    "fillc(m3,'y')\n",
    "assert m3 == m4\n",
    "\n",
    "m5 = [ ['a','b'] ]\n",
    "m6 = [ ['z','z'] ]\n",
    "fillc(m5,'z')\n",
    "assert m5 == m6\n",
    "\n",
    "m7 = [ ['a','b','c'],\n",
    "       ['d','e','f'],\n",
    "       ['g','h','i'] ]\n",
    "\n",
    "m8 = [ ['y','y','y'],\n",
    "       ['y','y','y'],\n",
    "       ['y','y','y'] ]\n",
    "fillc(m7,'y')\n",
    "assert m7 == m8\n",
    "\n",
    "#     j  0   1\n",
    "m9 = [ ['a','b'],    # 0\n",
    "       ['c','d'],    # 1\n",
    "       ['e','f'] ]   # 2\n",
    "\n",
    "m10 = [ ['x','x'],    # 0\n",
    "        ['x','x'],    # 1\n",
    "        ['x','x'] ]   # 2\n",
    "fillc(m9, 'x')\n",
    "assert m9 == m10"
   ]
  },
  {
   "cell_type": "markdown",
   "metadata": {},
   "source": [
    "### fillx\n",
    "\n",
    "✪✪ Takes a matrix mat as list of lists and a column index `j`, and MODIFIES `mat` by placing the `'x'` character in all cells of the `j`-th column."
   ]
  },
  {
   "cell_type": "code",
   "execution_count": 92,
   "metadata": {
    "tags": [
     "answer",
     "hide-input"
    ]
   },
   "outputs": [],
   "source": [
    "def fillx(mat, j):\n",
    "    for row in mat:\n",
    "        row[j] = \"x\""
   ]
  },
  {
   "cell_type": "code",
   "execution_count": 93,
   "metadata": {},
   "outputs": [],
   "source": [
    "m1 = [ ['a'] ]\n",
    "fillx(m1,0)\n",
    "assert m1 == [ ['x'] ]\n",
    "\n",
    "m2 = [ ['a','b'],\n",
    "       ['c','d'],\n",
    "       ['e','f'] ]\n",
    "fillx(m2,0)\n",
    "assert m2 == [ ['x','b'],\n",
    "               ['x','d'],\n",
    "               ['x','f'] ]\n",
    "\n",
    "m3 = [ ['a','b'],\n",
    "       ['c','d'],\n",
    "       ['e','f'] ]\n",
    "fillx(m3,1)\n",
    "assert m3 == [ ['a','x'],\n",
    "               ['c','x'],\n",
    "               ['e','x'] ]\n",
    "\n",
    "m4 = [ ['a','b','c','d'],\n",
    "       ['e','f','g','h'],\n",
    "       ['i','l','m','n'] ]\n",
    "fillx(m4,2)\n",
    "assert m4 == [ ['a','b','x','d'],\n",
    "               ['e','f','x','h'],\n",
    "               ['i','l','x','n'] ]    "
   ]
  },
  {
   "cell_type": "markdown",
   "metadata": {},
   "source": [
    "### fillz\n",
    "\n",
    "✪✪ Takes a matrix `mat` as list of lists and a row index `i`, and MODIFIES `mat` by placing the character `'z'` in all the cells of the `i`-th row."
   ]
  },
  {
   "cell_type": "code",
   "execution_count": 94,
   "metadata": {
    "tags": [
     "answer",
     "hide-input"
    ]
   },
   "outputs": [],
   "source": [
    "def fillz(mat, i):\n",
    "    ncol = len(mat[0])\n",
    "    for j in range(ncol):\n",
    "        mat[i][j] = \"z\""
   ]
  },
  {
   "cell_type": "code",
   "execution_count": 95,
   "metadata": {},
   "outputs": [],
   "source": [
    "m1 = [ ['a'] ]\n",
    "fillz(m1,0)\n",
    "assert m1 == [ ['z'] ]\n",
    "\n",
    "m2 = [ ['a','b'],\n",
    "       ['c','d'],\n",
    "       ['e','f'] ]\n",
    "fillz(m2,0)\n",
    "assert m2 == [ ['z','z'],\n",
    "               ['c','d'],\n",
    "               ['e','f'] ]\n",
    "\n",
    "m3 = [ ['a','b'],\n",
    "       ['c','d'],\n",
    "       ['e','f'] ]\n",
    "fillz(m3,1)\n",
    "assert m3 == [ ['a','b'],\n",
    "               ['z','z'],\n",
    "               ['e','f'] ]\n",
    "\n",
    "m4 = [ ['a','b'],\n",
    "       ['c','d'],\n",
    "       ['e','f'] ]\n",
    "fillz(m4,2)\n",
    "assert m4 == [ ['a','b'],\n",
    "               ['c','d'],\n",
    "               ['z','z'] ]"
   ]
  },
  {
   "cell_type": "markdown",
   "metadata": {},
   "source": [
    "### stitch_down\n",
    "\n",
    "✪✪ Given matrices `mat1` and `mat2`  as list of lists, with mat1 of size `u` x `n` and `mat2` of size `d` x `n`, RETURN a NEW matrix of size (`u`+`d`) x `n` as list of lists, by stitching second mat to the bottom of `mat1`\n",
    "       \n",
    "* **NOTE**: by NEW matrix we intend a matrix with no pointers to original rows (see previous deep clone exercise)\n",
    "* for examples, see asserts"
   ]
  },
  {
   "cell_type": "code",
   "execution_count": 96,
   "metadata": {
    "tags": [
     "hide-input",
     "answer"
    ]
   },
   "outputs": [],
   "source": [
    "def stitch_down(mat1, mat2):\n",
    "    res = []\n",
    "    for row in mat1:\n",
    "        res.append(row[:])\n",
    "    for row in mat2:\n",
    "        res.append(row[:])\n",
    "    return res"
   ]
  },
  {
   "cell_type": "code",
   "execution_count": 97,
   "metadata": {},
   "outputs": [],
   "source": [
    "m1 = [ ['a'] ]\n",
    "m2 = [ ['b'] ]\n",
    "assert stitch_down(m1, m2) == [ ['a'],\n",
    "                                ['b'] ]\n",
    "\n",
    "# check we are giving back a deep clone\n",
    "s = stitch_down(m1, m2)\n",
    "s[0][0] = 'z'\n",
    "assert m1[0][0] == 'a' \n",
    "\n",
    "m1 = [ ['a','b','c'],\n",
    "       ['d','b','a'] ]\n",
    "m2 = [ ['f','b', 'h'],\n",
    "       ['g','h', 'w'] ]\n",
    "assert stitch_down(m1, m2) == [ ['a','b','c'],\n",
    "                                ['d','b','a'],\n",
    "                                ['f','b','h'],\n",
    "                                ['g','h','w'] ]"
   ]
  },
  {
   "cell_type": "markdown",
   "metadata": {},
   "source": [
    "### stitch_right\n",
    "\n",
    "✪✪✪ Given matrices `mata` and `matb`  as list of lists, with `mata` of size `n` x `l` and `matb` of size `n` x `r`, RETURN a NEW matrix of size `n` x (`l` + `r`) as list of lists, by stitching second `matb` to the right end of `mata`"
   ]
  },
  {
   "cell_type": "code",
   "execution_count": 98,
   "metadata": {
    "tags": [
     "answer",
     "hide-input"
    ]
   },
   "outputs": [],
   "source": [
    "def stitch_right(mata,matb):    \n",
    "    ret = []\n",
    "    for i in range(len(mata)):\n",
    "        row_to_add =  mata[i][:]\n",
    "        row_to_add.extend(matb[i])\n",
    "        ret.append(row_to_add)\n",
    "    return ret"
   ]
  },
  {
   "cell_type": "code",
   "execution_count": 99,
   "metadata": {},
   "outputs": [],
   "source": [
    "ma1 = [\n",
    "    [\"a\", \"b\", \"c\"],\n",
    "    [\"d\", \"b\", \"a\"],\n",
    "]\n",
    "mb1 = [\n",
    "    [\"f\", \"b\"],\n",
    "    [\"g\", \"h\"],\n",
    "]\n",
    "\n",
    "assert stitch_right(ma1, mb1) == [\n",
    "    [\"a\", \"b\", \"c\", \"f\", \"b\"],\n",
    "    [\"d\", \"b\", \"a\", \"g\", \"h\"],\n",
    "]"
   ]
  },
  {
   "cell_type": "markdown",
   "metadata": {},
   "source": [
    "### insercol \n",
    "\n",
    "✪✪ Given a matrix `mat` as list of lists, a column index `j` and a list `new_col`, write a function `insercol(mat,j,new_col)` which MODIFIES `mat` inserting the new column at position `j`.\n",
    "\n",
    "Example - given:"
   ]
  },
  {
   "cell_type": "code",
   "execution_count": 100,
   "metadata": {},
   "outputs": [],
   "source": [
    "       # 0 1 2 \n",
    "m  = [\n",
    "        [5,4,6],   \n",
    "        [4,7,1],   \n",
    "        [3,2,6],  \n",
    "]"
   ]
  },
  {
   "cell_type": "markdown",
   "metadata": {},
   "source": [
    "By calling\n",
    "\n",
    "```python\n",
    "\n",
    ">>> insercol(m, 2, [7,9,3])\n",
    "```\n",
    "    \n",
    "`m` will be MODIFIED with the insertion of column `[7,9,3]`\n",
    "at position `j=2`"
   ]
  },
  {
   "cell_type": "markdown",
   "metadata": {},
   "source": [
    "```python\n",
    ">>> m\n",
    "       # 0 1 2 3\n",
    "[\n",
    "        [5,4,7,6],   \n",
    "        [4,7,9,1],   \n",
    "        [3,2,3,6],  \n",
    "]  \n",
    "```\n",
    "\n",
    "- for other examples, see asserts\n",
    "- **HINT**: lists already have a handy method `.insert`, so there is isn't much code to write, just write the right one ;-)"
   ]
  },
  {
   "cell_type": "code",
   "execution_count": 101,
   "metadata": {},
   "outputs": [],
   "source": [
    "\n",
    "def insercol(mat, j, nuova_col):\n",
    "    #jupman-raise\n",
    "    for i in range(len(mat)):\n",
    "        mat[i].insert(j, nuova_col[i])\n",
    "    #/jupman-raise\n",
    "\n",
    "\n",
    "m1 = [\n",
    "        [5]\n",
    "     ]\n",
    "assert insercol(m1,1,[8]) == None  # the function returns nothing!\n",
    "assert m1 == [ [5,8] ]\n",
    "\n",
    "m2 = [ [5] ]\n",
    "insercol(m2,0,[8]) \n",
    "assert m2 == [ [8,5] ]\n",
    "\n",
    "m3 = [  [5,4,2],\n",
    "        [8,9,3] ]\n",
    "insercol(m3,1,[7,6])\n",
    "assert m3 == [ [5,7,4,2],\n",
    "               [8,6,9,3] ]\n",
    "\n",
    "\n",
    "m4 = [ [5,4,6],   \n",
    "       [4,7,1],   \n",
    "       [3,2,6] ]\n",
    "insercol(m4, 2, [7,9,3])\n",
    "\n",
    "assert m4 == [ [5,4,7,6],   \n",
    "               [4,7,9,1],   \n",
    "               [3,2,3,6] ]"
   ]
  },
  {
   "cell_type": "markdown",
   "metadata": {},
   "source": [
    "### threshold\n",
    "\n",
    "✪✪ Takes a matrix as a list of lists (every list has the same dimension) and RETURN  a NEW matrix as list of lists where there is `True` if the corresponding input element is greater than `t`, otherwise return `False`\n",
    "\n",
    "Ingredients:\n",
    "\n",
    "- a variable for the matrix to return\n",
    "- for each original row, we need to create a new list"
   ]
  },
  {
   "cell_type": "code",
   "execution_count": 102,
   "metadata": {},
   "outputs": [],
   "source": [
    "def threshold(mat, t):    \n",
    "    #jupman-raise\n",
    "    ret = []\n",
    "    for row in mat:\n",
    "        new_row = []\n",
    "        ret.append(new_row)\n",
    "        for el in row:\n",
    "            new_row.append(el > t)\n",
    "        \n",
    "    return ret\n",
    "    #/jupman-raise\n",
    "\n",
    "morig = [ [1,4,2],\n",
    "          [7,9,3] ]\n",
    "    \n",
    "m1 = [ [1,4,2],\n",
    "       [7,9,3] ]\n",
    "\n",
    "r1 = [ [False,False,False],\n",
    "       [True,True,False] ]\n",
    "assert threshold(m1,4) == r1\n",
    "assert m1 == morig   # verify original didn't change\n",
    "\n",
    "m2 = [ [5,2],\n",
    "       [3,7] ]\n",
    "\n",
    "r2 = [ [True,False],\n",
    "       [False,True] ]\n",
    "assert threshold(m2,4) == r2"
   ]
  },
  {
   "cell_type": "markdown",
   "metadata": {},
   "source": [
    "### swap_rows\n",
    "\n",
    "✪✪ We will try swapping a couple of rows of a matrix\n",
    "\n",
    "There are several ways to proceed. Before continuing, make sure to know how to exchange two values by solving this simple exercise - check your result in Python Tutor\n"
   ]
  },
  {
   "cell_type": "code",
   "execution_count": 103,
   "metadata": {},
   "outputs": [],
   "source": [
    "x = 3\n",
    "y = 7\n",
    "\n",
    "# write here the code to swap x and y (do not directly use the constants 3 and 7!)"
   ]
  },
  {
   "cell_type": "code",
   "execution_count": 104,
   "metadata": {
    "tags": [
     "answer",
     "hide-input"
    ]
   },
   "outputs": [],
   "source": [
    "k = x\n",
    "x = y\n",
    "y = k"
   ]
  },
  {
   "cell_type": "markdown",
   "metadata": {},
   "source": [
    "✪✪ Takes a matrix `mat` as list of lists, and RETURN a NEW matrix where rows at indexes `i1` and `i2` are swapped"
   ]
  },
  {
   "cell_type": "code",
   "execution_count": 105,
   "metadata": {
    "tags": [
     "answer",
     "hide-input"
    ]
   },
   "outputs": [],
   "source": [
    "def swap_rows(mat, i1, i2):\n",
    "    # deep clones\n",
    "    ret = []\n",
    "    for row in mat:\n",
    "        ret.append(row[:])\n",
    "    #swaps\n",
    "    s = ret[i1]\n",
    "    ret[i1] = ret[i2]\n",
    "    ret[i2] = s\n",
    "    return ret"
   ]
  },
  {
   "cell_type": "code",
   "execution_count": 106,
   "metadata": {},
   "outputs": [],
   "source": [
    "m1 = [\n",
    "    [\"a\", \"d\"],\n",
    "    [\"b\", \"e\"],\n",
    "    [\"c\", \"f\"],\n",
    "]\n",
    "\n",
    "r1 = swap_rows(m1, 0, 2)\n",
    "assert r1 == [\n",
    "    [\"c\", \"f\"],\n",
    "    [\"b\", \"e\"],\n",
    "    [\"a\", \"d\"],\n",
    "]\n",
    "\n",
    "r1[0][0] = \"z\"\n",
    "assert m1[0][0] == \"a\"\n",
    "\n",
    "m2 = [\n",
    "    [\"a\", \"d\"],\n",
    "    [\"b\", \"e\"],\n",
    "    [\"c\", \"f\"],\n",
    "]\n",
    "\n",
    "# swap with itself should in fact generate a deep clone\n",
    "r2 = swap_rows(m2, 0, 0)\n",
    "assert r2 == [\n",
    "    [\"a\", \"d\"],\n",
    "    [\"b\", \"e\"],\n",
    "    [\"c\", \"f\"],\n",
    "]\n",
    "\n",
    "r2[0][0] = \"z\"\n",
    "assert m2[0][0] == \"a\""
   ]
  },
  {
   "cell_type": "markdown",
   "metadata": {},
   "source": [
    "### swap_cols\n",
    "\n",
    "✪✪ Takes a matrix `mat` and two column indices `j1` and `j2` and RETURN a NEW matrix where the columns `j1` and `j2` are swapped"
   ]
  },
  {
   "cell_type": "code",
   "execution_count": 107,
   "metadata": {
    "tags": [
     "answer",
     "hide-input"
    ]
   },
   "outputs": [],
   "source": [
    "def swap_cols(mat, j1, j2):\n",
    "    ret = []\n",
    "    for row in mat:\n",
    "        new_row = row[:]\n",
    "        new_row[j1] = row[j2]\n",
    "        new_row[j2] = row[j1]\n",
    "        ret.append(new_row)\n",
    "    return ret"
   ]
  },
  {
   "cell_type": "code",
   "execution_count": 108,
   "metadata": {},
   "outputs": [],
   "source": [
    "m1 = [\n",
    "    [\"a\", \"b\", \"c\"],\n",
    "    [\"d\", \"e\", \"f\"],\n",
    "]\n",
    "\n",
    "r1 = swap_cols(m1, 0, 2)\n",
    "\n",
    "assert r1 == [\n",
    "    [\"c\", \"b\", \"a\"],\n",
    "    [\"f\", \"e\", \"d\"],\n",
    "]\n",
    "\n",
    "r1[0][0] = \"z\"\n",
    "assert m1[0][0] == \"a\""
   ]
  },
  {
   "cell_type": "markdown",
   "metadata": {},
   "source": [
    "### Transpose\n",
    "\n",
    "Let's see how to transpose a matrix _in-place_. The transpose $M^T$ of a matrix $M$ is defined as "
   ]
  },
  {
   "cell_type": "markdown",
   "metadata": {},
   "source": [
    "$M^T[i][j] = M[j][i]$"
   ]
  },
  {
   "cell_type": "markdown",
   "metadata": {},
   "source": [
    "The definition is simple yet implementation might be tricky. If you're not careful, you could easily end up swapping the values twice and get the same original matrix. To prevent this, iterate only the upper triangular part of the matrix and remember `range` function can also have a start index:"
   ]
  },
  {
   "cell_type": "code",
   "execution_count": 109,
   "metadata": {},
   "outputs": [
    {
     "data": {
      "text/plain": [
       "[3, 4, 5, 6]"
      ]
     },
     "execution_count": 109,
     "metadata": {},
     "output_type": "execute_result"
    }
   ],
   "source": [
    "list(range(3, 7))"
   ]
  },
  {
   "cell_type": "markdown",
   "metadata": {},
   "source": [
    "✪✪✪ **EXERCISE** If you read _all_  the above, you can now proceed implementing the `transpose_1` function, which MODIFIES the given `n`x`n` matrix `mat` by transposing it *in-place*. \n",
    "\n",
    "* If the matrix is not `n`x`n`, raises a `ValueError`"
   ]
  },
  {
   "cell_type": "code",
   "execution_count": 110,
   "metadata": {
    "tags": [
     "hide-input",
     "answer"
    ]
   },
   "outputs": [],
   "source": [
    "def transpose(mat):\n",
    "    if len(mat) != len(mat[0]):\n",
    "        raise ValueError(\n",
    "            \"Matrix should be nxn, found instead %s x %s\" % (len(mat), len(mat[0]))\n",
    "        )\n",
    "    for i in range(len(mat)):\n",
    "        for j in range(i + 1, len(mat[i])):\n",
    "            el = mat[i][j]\n",
    "            mat[i][j] = mat[j][i]\n",
    "            mat[j][i] = el"
   ]
  },
  {
   "cell_type": "code",
   "execution_count": 111,
   "metadata": {},
   "outputs": [],
   "source": [
    "# let's try wrong matrix dimensions:\n",
    "try:\n",
    "    transpose([[3, 5]])\n",
    "    raise Exception(\"SHOULD HAVE FAILED !\")\n",
    "except ValueError:\n",
    "    pass\n",
    "\n",
    "m1 = [[\"a\"]]\n",
    "\n",
    "transpose(m1)\n",
    "assert m1 == [[\"a\"]]\n",
    "\n",
    "m2 = [\n",
    "    [\"a\", \"b\"],\n",
    "    [\"c\", \"d\"],\n",
    "]\n",
    "\n",
    "transpose(m2)\n",
    "assert m2 == [\n",
    "    [\"a\", \"c\"],\n",
    "    [\"b\", \"d\"],\n",
    "]"
   ]
  },
  {
   "cell_type": "code",
   "execution_count": null,
   "metadata": {},
   "outputs": [],
   "source": []
  }
 ],
 "metadata": {
  "celltoolbar": "Edit Metadata",
  "kernelspec": {
   "display_name": "Python 3 (ipykernel)",
   "language": "python",
   "name": "python3"
  },
  "language_info": {
   "codemirror_mode": {
    "name": "ipython",
    "version": 3
   },
   "file_extension": ".py",
   "mimetype": "text/x-python",
   "name": "python",
   "nbconvert_exporter": "python",
   "pygments_lexer": "ipython3",
   "version": "3.10.14"
  },
  "toc": {
   "base_numbering": 1,
   "nav_menu": {},
   "number_sections": false,
   "sideBar": true,
   "skip_h1_title": false,
   "title_cell": "Table of Contents",
   "title_sidebar": "Contents",
   "toc_cell": false,
   "toc_position": {
    "height": "calc(100% - 180px)",
    "left": "10px",
    "top": "150px",
    "width": "378px"
   },
   "toc_section_display": true,
   "toc_window_display": true
  }
 },
 "nbformat": 4,
 "nbformat_minor": 2
}
