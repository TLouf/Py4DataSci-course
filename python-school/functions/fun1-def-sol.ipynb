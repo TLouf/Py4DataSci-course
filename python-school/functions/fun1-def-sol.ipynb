{
 "cells": [
  {
   "cell_type": "code",
   "execution_count": null,
   "id": "5688941a",
   "metadata": {
    "tags": [
     "remove-cell"
    ]
   },
   "outputs": [],
   "source": [
    "from metakernel import register_ipython_magics\n",
    "register_ipython_magics()"
   ]
  },
  {
   "cell_type": "markdown",
   "id": "ac942677",
   "metadata": {},
   "source": [
    "# Defining functions"
   ]
  },
  {
   "cell_type": "markdown",
   "id": "da9c605c",
   "metadata": {},
   "source": [
    "## Introduction\n",
    "\n",
    "A function is a block of code which takes some parameters and uses them to produce or report some result.\n",
    "\n",
    "In this notebook we will see how to define functions to reuse code, and talk about variables scope.\n",
    "\n",
    "\n",
    "```{seealso}\n",
    "For a complete course on functions, see [Andrea Passerini's slides A04](http://disi.unitn.it/~passerini/teaching/2021-2022/sci-pro/slides/A04-functions.pdf)\n",
    "```"
   ]
  },
  {
   "cell_type": "markdown",
   "id": "3333bf5b",
   "metadata": {},
   "source": [
    "## Anatomy of a function definition"
   ]
  },
  {
   "cell_type": "markdown",
   "id": "a6974f72",
   "metadata": {},
   "source": [
    "A function in Python is an object, meaning it's a variable like any other.\n",
    "The main way it differs from the other types of variables you've seen until now is in the way it is assigned, or defined.\n",
    "For instance, let's imagine you want to assign a function to a variable named `fun`.\n",
    "In that case, you wouldn't simply start writing `fun = ...`, like a normal variable assignment, but use the reserved keyword `def`, like so:"
   ]
  },
  {
   "cell_type": "code",
   "execution_count": null,
   "id": "c9e3627c",
   "metadata": {},
   "outputs": [
    {
     "name": "stdout",
     "output_type": "stream",
     "text": [
      "<class 'function'>\n"
     ]
    }
   ],
   "source": [
    "def fun():\n",
    "    \"here we enter an indented block\"\n",
    "\n",
    "print(type(fun))"
   ]
  },
  {
   "cell_type": "markdown",
   "id": "d6a0c6fa",
   "metadata": {},
   "source": [
    "So you actually just assigned a function object to the variable `fun` with this little piece of code.\n",
    "\n",
    "As you can see, there's more after the `def fun`: you open a pair of brackets, close it, add a colon `:`, and then write more things on the following line, indented by four spaces.\n",
    "\n",
    "So, first, what are the brackets for? Inside the brackets is where you define the *arguments* of the function, each separated by a comma `,`:"
   ]
  },
  {
   "cell_type": "code",
   "execution_count": null,
   "id": "a090d328",
   "metadata": {},
   "outputs": [],
   "source": [
    "def fun(arg1, arg2):\n",
    "    \"here we enter an indented block\""
   ]
  },
  {
   "cell_type": "markdown",
   "id": "0c19e826",
   "metadata": {},
   "source": [
    "These are variables that will live inside your function -- or, in other words, in its *scope*, but we'll get back to that.\n",
    "\n",
    "You assign values to these variables when you *call* the function.\n",
    "Similarly to how it's defined, you call a function by adding a pair of brackets after its name, and passing in them the value of each argument:"
   ]
  },
  {
   "cell_type": "code",
   "execution_count": null,
   "id": "801a6dbf",
   "metadata": {},
   "outputs": [],
   "source": [
    "fun(1, 2)"
   ]
  },
  {
   "cell_type": "markdown",
   "id": "1e6b24a9",
   "metadata": {},
   "source": [
    "Which is exactly the same way you've called functions like `print` until now.\n",
    "The only difference here is that *you* defined `fun`, while `print` was defined by the developers of the Python language (we say that the `print` function is a *built-in* function of Python)."
   ]
  },
  {
   "cell_type": "markdown",
   "id": "35f89697",
   "metadata": {},
   "source": [
    "```{seealso}\n",
    "You can consult the [whole list of built-in functions](https://docs.python.org/3/library/functions.html) in the Python documentation.\n",
    "[Here's the documentation for `print`](https://docs.python.org/3/library/functions.html#print), for instance.\n",
    "```"
   ]
  },
  {
   "cell_type": "markdown",
   "id": "6643cbab",
   "metadata": {},
   "source": [
    "```{important}\n",
    "Something crucial about function arguments is that **when you call a function, all of its arguments must have been assigned some value**.\n",
    "```\n",
    "Hence why the following returns an error:"
   ]
  },
  {
   "cell_type": "code",
   "execution_count": null,
   "id": "f94e7918",
   "metadata": {
    "tags": [
     "raises-exception"
    ]
   },
   "outputs": [
    {
     "ename": "TypeError",
     "evalue": "fun() missing 1 required positional argument: 'arg2'",
     "output_type": "error",
     "traceback": [
      "\u001b[0;31m---------------------------------------------------------------------------\u001b[0m",
      "\u001b[0;31mTypeError\u001b[0m                                 Traceback (most recent call last)",
      "Cell \u001b[0;32mIn[5], line 1\u001b[0m\n\u001b[0;32m----> 1\u001b[0m \u001b[43mfun\u001b[49m\u001b[43m(\u001b[49m\u001b[38;5;241;43m1\u001b[39;49m\u001b[43m)\u001b[49m\n",
      "\u001b[0;31mTypeError\u001b[0m: fun() missing 1 required positional argument: 'arg2'"
     ]
    }
   ],
   "source": [
    "fun(1)"
   ]
  },
  {
   "cell_type": "markdown",
   "id": "33d7131e",
   "metadata": {},
   "source": [
    "To illustrate, when you call it correctly, like\n",
    "\n",
    "```python\n",
    "fun(1, 2)\n",
    "```\n",
    "\n",
    "before executing the code block below the `def`, the following happens:\n",
    "\n",
    "```python\n",
    "arg1 = 1\n",
    "arg2 = 2\n",
    "... # whatever code was inside the function\n",
    "```"
   ]
  },
  {
   "cell_type": "markdown",
   "id": "ef91811b",
   "metadata": {},
   "source": [
    "Ok, but for now, we're not doing anything with our arguments, so what happens when we call the function?"
   ]
  },
  {
   "cell_type": "code",
   "execution_count": null,
   "id": "f8209363",
   "metadata": {},
   "outputs": [
    {
     "name": "stdout",
     "output_type": "stream",
     "text": [
      "None\n"
     ]
    }
   ],
   "source": [
    "output = fun(1,2)\n",
    "print(output)"
   ]
  },
  {
   "cell_type": "markdown",
   "id": "7dfe7428",
   "metadata": {},
   "source": [
    "It returns something, but in this case it's just a `None`.\n",
    "The string we added in the body of our function got lost, apparently.\n",
    "\n",
    "```{important}\n",
    "That's because, in order to get the value of any variable out of a function, you need to `return` this variable.\n",
    "```\n",
    "\n",
    "So let's now introduce a `return` statement at the end of our function:"
   ]
  },
  {
   "cell_type": "code",
   "execution_count": null,
   "id": "8d7e6160",
   "metadata": {
    "tags": [
     "raises-exception"
    ]
   },
   "outputs": [
    {
     "name": "stdout",
     "output_type": "stream",
     "text": [
      "1\n"
     ]
    },
    {
     "ename": "NameError",
     "evalue": "name 'not_returned' is not defined",
     "output_type": "error",
     "traceback": [
      "\u001b[0;31m---------------------------------------------------------------------------\u001b[0m",
      "\u001b[0;31mNameError\u001b[0m                                 Traceback (most recent call last)",
      "Cell \u001b[0;32mIn[7], line 7\u001b[0m\n\u001b[1;32m      4\u001b[0m     \u001b[38;5;28;01mreturn\u001b[39;00m new_output\n\u001b[1;32m      6\u001b[0m \u001b[38;5;28mprint\u001b[39m(fun(\u001b[38;5;241m1\u001b[39m, \u001b[38;5;241m2\u001b[39m))\n\u001b[0;32m----> 7\u001b[0m \u001b[38;5;28mprint\u001b[39m(\u001b[43mnot_returned\u001b[49m)\n",
      "\u001b[0;31mNameError\u001b[0m: name 'not_returned' is not defined"
     ]
    }
   ],
   "source": [
    "def fun(arg1, arg2):\n",
    "    not_returned = 2\n",
    "    new_output = 1\n",
    "    return new_output\n",
    "\n",
    "print(fun(1, 2))\n",
    "print(not_returned)"
   ]
  },
  {
   "cell_type": "markdown",
   "id": "760359a5",
   "metadata": {},
   "source": [
    "We did not return `not_returned`, so it got lost, while the value `1` we returned through `new_output` got printed successfully.\n",
    "The variable `new_output` itself got lost, though:"
   ]
  },
  {
   "cell_type": "code",
   "execution_count": null,
   "id": "2df0c554",
   "metadata": {
    "tags": [
     "raises-exception"
    ]
   },
   "outputs": [
    {
     "ename": "NameError",
     "evalue": "name 'new_output' is not defined",
     "output_type": "error",
     "traceback": [
      "\u001b[0;31m---------------------------------------------------------------------------\u001b[0m",
      "\u001b[0;31mNameError\u001b[0m                                 Traceback (most recent call last)",
      "Cell \u001b[0;32mIn[8], line 1\u001b[0m\n\u001b[0;32m----> 1\u001b[0m \u001b[38;5;28mprint\u001b[39m(\u001b[43mnew_output\u001b[49m)\n",
      "\u001b[0;31mNameError\u001b[0m: name 'new_output' is not defined"
     ]
    }
   ],
   "source": [
    "print(new_output)"
   ]
  },
  {
   "cell_type": "markdown",
   "id": "e726f4ca",
   "metadata": {},
   "source": [
    "That's because only the *value* of `new_output` was returned, not the variable itself!\n",
    "So in order to store the result of a function call for later, you should assign this value to a new variable.\n",
    "Let's see this more clearly with Python tutor:"
   ]
  },
  {
   "cell_type": "code",
   "execution_count": null,
   "id": "bbc07eb8",
   "metadata": {},
   "outputs": [
    {
     "data": {
      "text/html": [
       "\n",
       "        <iframe\n",
       "            width=\"100%\"\n",
       "            height=\"500\"\n",
       "            src=\"https://pythontutor.com/iframe-embed.html#code=%0Adef%20fun%28arg1%2C%20arg2%29%3A%0A%20%20%20%20not_returned%20%3D%202%0A%20%20%20%20new_output%20%3D%201%0A%20%20%20%20return%20new_output%0A%0Aoutput%20%3D%20fun%281%2C%202%29%0A&origin=opt-frontend.js&cumulative=false&heapPrimitives=false&textReferences=false&py=3&rawInputLstJSON=%5B%5D&curInstr=0&codeDivWidth=350&codeDivHeight=400\"\n",
       "            frameborder=\"0\"\n",
       "            allowfullscreen\n",
       "            \n",
       "        ></iframe>\n",
       "        "
      ],
      "text/plain": [
       "<IPython.lib.display.IFrame at 0x7db1fc8522f0>"
      ]
     },
     "metadata": {},
     "output_type": "display_data"
    }
   ],
   "source": [
    "%%tutor\n",
    "\n",
    "def fun(arg1, arg2):\n",
    "    not_returned = 2\n",
    "    new_output = 1\n",
    "    return new_output\n",
    "\n",
    "output = fun(1, 2)"
   ]
  },
  {
   "cell_type": "markdown",
   "id": "178f1615",
   "metadata": {},
   "source": [
    "As you can see, when `fun` is called, a new frame, which is local to the function, is created.\n",
    "This frame, and all the variables it contains, is then completely discarded at the end of the function call.\n",
    "The only thing that gets out of the function is the return *value*, that we then assign to the variable `output` that lives in the global frame."
   ]
  },
  {
   "cell_type": "markdown",
   "id": "007b4ba5",
   "metadata": {},
   "source": [
    "That's it, we've now seen how to define a function. Still, it's a shame that until now, we've passed values to the arguments of a function that does not even use them!\n",
    "So let's end this part with the first example of a function that would actually make sense:"
   ]
  },
  {
   "cell_type": "code",
   "execution_count": null,
   "id": "9e823aa9",
   "metadata": {},
   "outputs": [
    {
     "name": "stdout",
     "output_type": "stream",
     "text": [
      "3\n"
     ]
    }
   ],
   "source": [
    "def fun(arg1, arg2):\n",
    "    return arg1 + arg2\n",
    "\n",
    "result_sum = fun(1, 2)\n",
    "print(result_sum)"
   ]
  },
  {
   "cell_type": "markdown",
   "id": "f1d8cb56",
   "metadata": {},
   "source": [
    "## Why functions?\n",
    "\n",
    "We may need functions for a lot of reasons, including: \n",
    "    \n",
    " 1. *Reduce code duplication*: put in functions parts of code that are needed several times in the whole program, so you don't need to repeat the same code over and over again;\n",
    "    \n",
    " 2. *Decompose a complex task*: make the code easier to write and understand by splitting the whole program in several easier functions;"
   ]
  },
  {
   "cell_type": "markdown",
   "id": "c5b9693e",
   "metadata": {},
   "source": [
    "Let's take [an example from the previous course](https://en.softpython.org/for/for1-intro-sol.html#Iteration-by-element) to illustrate.\n",
    "We wrote the following to print all the sports in a list:"
   ]
  },
  {
   "cell_type": "code",
   "execution_count": null,
   "id": "bc33fde7",
   "metadata": {},
   "outputs": [
    {
     "name": "stdout",
     "output_type": "stream",
     "text": [
      "volleyball\n",
      "tennis\n",
      "soccer\n",
      "swimming\n"
     ]
    }
   ],
   "source": [
    "sports = [\"volleyball\", \"tennis\", \"soccer\", \"swimming\"]\n",
    "\n",
    "for element in sports:\n",
    "    print(element)"
   ]
  },
  {
   "cell_type": "markdown",
   "id": "263cccf2",
   "metadata": {},
   "source": [
    "But now let's say we also want to print all the elements of another list, then we could do something like:"
   ]
  },
  {
   "cell_type": "code",
   "execution_count": null,
   "id": "40b5d59d",
   "metadata": {},
   "outputs": [
    {
     "name": "stdout",
     "output_type": "stream",
     "text": [
      "volleyball\n",
      "tennis\n",
      "soccer\n",
      "swimming\n",
      "maths\n",
      "english\n",
      "economics\n",
      "physics\n"
     ]
    }
   ],
   "source": [
    "sports = [\"volleyball\", \"tennis\", \"soccer\", \"swimming\"]\n",
    "\n",
    "for element in sports:\n",
    "    print(element)\n",
    "\n",
    "courses = [\"maths\", \"english\", \"economics\", \"physics\"]\n",
    "\n",
    "for element in courses:\n",
    "    print(element)"
   ]
  },
  {
   "cell_type": "markdown",
   "id": "8c94c400",
   "metadata": {},
   "source": [
    "This is a clear example of unnecessary code duplication: you can see the two pieces of code are identical, only the input changed!\n",
    "Write a function `print_elements` to remedy that."
   ]
  },
  {
   "cell_type": "code",
   "execution_count": null,
   "id": "da6a81bd",
   "metadata": {
    "tags": [
     "answer",
     "hide-cell"
    ]
   },
   "outputs": [],
   "source": [
    "def print_elements(lst):\n",
    "    for element in lst:\n",
    "        print(element)"
   ]
  },
  {
   "cell_type": "code",
   "execution_count": null,
   "id": "a0423efd",
   "metadata": {},
   "outputs": [
    {
     "name": "stdout",
     "output_type": "stream",
     "text": [
      "volleyball\n",
      "tennis\n",
      "soccer\n",
      "swimming\n",
      "maths\n",
      "english\n",
      "economics\n",
      "physics\n"
     ]
    }
   ],
   "source": [
    "print_elements([\"volleyball\", \"tennis\", \"soccer\", \"swimming\"])\n",
    "print_elements([\"maths\", \"english\", \"economics\", \"physics\"])"
   ]
  },
  {
   "cell_type": "markdown",
   "id": "7a8065f0",
   "metadata": {},
   "source": [
    "## What's in a name"
   ]
  },
  {
   "cell_type": "markdown",
   "id": "530fc855",
   "metadata": {},
   "source": [
    "Functions, like variables, should have a meaningful name! It shouldn't be too long, but its purpose should be somewhat clear simply from its name."
   ]
  },
  {
   "cell_type": "markdown",
   "id": "442dfc77",
   "metadata": {},
   "source": [
    "Also, when you allow the forces of evil to take the best of you, you might be tempted to use reserved words like `list` as a variable for you own miserable purposes: "
   ]
  },
  {
   "cell_type": "code",
   "execution_count": null,
   "id": "76e1880c",
   "metadata": {},
   "outputs": [
    {
     "data": {
      "text/plain": [
       "['c', 'i', 'a', 'o']"
      ]
     },
     "execution_count": null,
     "metadata": {},
     "output_type": "execute_result"
    }
   ],
   "source": [
    "list(\"ciao\")"
   ]
  },
  {
   "cell_type": "markdown",
   "id": "3f9b6fb6",
   "metadata": {},
   "source": [
    "```python\n",
    "list = ['my', 'pitiful', 'list']\n",
    "```"
   ]
  },
  {
   "cell_type": "markdown",
   "id": "2aa028d6",
   "metadata": {},
   "source": [
    "Python allows you to do so, but we do **not**, for the consequences are disastrous.\n",
    "\n",
    "For example, if you now attempt to use `list` for its intended purpose like casting to list, it won't work anymore:"
   ]
  },
  {
   "cell_type": "markdown",
   "id": "9c2a8a77",
   "metadata": {},
   "source": [
    "```python\n",
    "list(\"ciao\")\n",
    "```\n",
    "```\n",
    "---------------------------------------------------------------------------\n",
    "TypeError                                 Traceback (most recent call last)\n",
    "<ipython-input-4-c63add832213> in <module>()\n",
    "----> 1 list(\"ciao\")\n",
    "\n",
    "TypeError: 'list' object is not callable\n",
    "\n",
    "```"
   ]
  },
  {
   "cell_type": "markdown",
   "id": "4aa7ea9d",
   "metadata": {},
   "source": [
    "In particular, we recommend to **not redefine** these precious functions:\n",
    "\n",
    "* `bool`, `int`,`float`,`tuple`,`str`,`list`,`set`,`dict`\n",
    "* `max`, `min`, `sum`\n",
    "* `next`, `iter`\n",
    "* `id`, `dir`, `vars`,`help`\n",
    "\n",
    "In case of doubt, most code editors should color these functions as you type their name. By default in Jupyter, they should appear in green, for instance."
   ]
  },
  {
   "cell_type": "markdown",
   "id": "2c844606",
   "metadata": {},
   "source": [
    "## Different function kinds\n",
    "\n",
    "\n",
    "You can roughly find  5 different function kinds in the wild:\n",
    "\n",
    "\n",
    "1. Produces _side effects_: prints / asks manual input / writes  by modifying the environment in some way - examples:  printing characters on the screen, asking interactively input from the user, writing into a file\n",
    "2. Returns a value, either as new memory region or  a pointer to an existing memory region\n",
    "3. Modifies the input\n",
    "4. Modifies the input and returns it (allows for call _chaining_)\n",
    "5. Modifies the input and returns something derived from it\n",
    "\n",
    "Let's try now to understand the differences with various examples."
   ]
  },
  {
   "cell_type": "markdown",
   "id": "cc7c8a35",
   "metadata": {},
   "source": [
    "### Side effects\n",
    "\n",
    "Only prints / asks interactive input / writes into a file\n",
    "\n",
    "\n",
    "- Does not modify the input!\n",
    "- Does not return anything!\n",
    "\n",
    "Example:"
   ]
  },
  {
   "cell_type": "code",
   "execution_count": null,
   "id": "2e2619cf",
   "metadata": {},
   "outputs": [
    {
     "data": {
      "text/html": [
       "\n",
       "        <iframe\n",
       "            width=\"100%\"\n",
       "            height=\"500\"\n",
       "            src=\"https://pythontutor.com/iframe-embed.html#code=%0Adef%20printola%28lst%29%3A%0A%20%20%20%20%22%22%22prints%20the%20first%20two%20elements%20of%20the%20given%20list%0A%20%20%20%20%22%22%22%20%20%20%20%0A%20%20%20%20print%28%27the%20first%20two%20elements%20are%27%2C%20lst%5B0%5D%2C%20lst%5B1%5D%29%0A%0Ala%20%3D%20%5B8%2C5%2C6%2C2%5D%0A%0Aprintola%28la%29%0A&origin=opt-frontend.js&cumulative=false&heapPrimitives=false&textReferences=false&py=3&rawInputLstJSON=%5B%5D&curInstr=0&codeDivWidth=350&codeDivHeight=400\"\n",
       "            frameborder=\"0\"\n",
       "            allowfullscreen\n",
       "            \n",
       "        ></iframe>\n",
       "        "
      ],
      "text/plain": [
       "<IPython.lib.display.IFrame at 0x7db1fdc2aef0>"
      ]
     },
     "metadata": {},
     "output_type": "display_data"
    }
   ],
   "source": [
    "%%tutor\n",
    "\n",
    "def printola(lst):\n",
    "    \"\"\"prints the first two elements of the given list\n",
    "    \"\"\"    \n",
    "    print('the first two elements are', lst[0], lst[1])\n",
    "\n",
    "la = [8,5,6,2]\n",
    "\n",
    "printola(la)"
   ]
  },
  {
   "cell_type": "markdown",
   "id": "d567f345",
   "metadata": {},
   "source": [
    "### Return\n",
    "\n",
    "Return some value, either as new memory region or a pointer to an existing memory region according to the function text\n",
    "\n",
    "- Does not modify the input\n",
    "- Does not print anything!\n",
    "\n",
    "Example: "
   ]
  },
  {
   "cell_type": "code",
   "execution_count": null,
   "id": "a91fade3",
   "metadata": {},
   "outputs": [
    {
     "data": {
      "text/html": [
       "\n",
       "        <iframe\n",
       "            width=\"100%\"\n",
       "            height=\"500\"\n",
       "            src=\"https://pythontutor.com/iframe-embed.html#code=%0Adef%20returnola%28lst%29%3A%0A%20%20%20%20%22%22%22RETURN%20a%20NEW%20list%20having%20all%20the%20numbers%20doubled%20%20%20%20%0A%20%20%20%20%22%22%22%20%20%20%20%0A%20%20%20%20ret%20%3D%20%5B%5D%0A%20%20%20%20for%20el%20in%20lst%3A%0A%20%20%20%20%20%20%20%20ret.append%28el%2A2%29%0A%20%20%20%20return%20ret%20%20%20%0A%0Ala%20%3D%20%5B5%2C2%2C6%2C3%5D%0Ares%20%3D%20returnola%28la%29%0Aprint%28%22la%20%3A%22%2C%20la%29%0Aprint%28%22res%3A%22%2C%20res%29%0A&origin=opt-frontend.js&cumulative=false&heapPrimitives=false&textReferences=false&py=3&rawInputLstJSON=%5B%5D&curInstr=0&codeDivWidth=350&codeDivHeight=400\"\n",
       "            frameborder=\"0\"\n",
       "            allowfullscreen\n",
       "            \n",
       "        ></iframe>\n",
       "        "
      ],
      "text/plain": [
       "<IPython.lib.display.IFrame at 0x7db1fc808250>"
      ]
     },
     "metadata": {},
     "output_type": "display_data"
    }
   ],
   "source": [
    "%%tutor\n",
    "\n",
    "def returnola(lst):\n",
    "    \"\"\"RETURN a NEW list having all the numbers doubled    \n",
    "    \"\"\"    \n",
    "    ret = []\n",
    "    for el in lst:\n",
    "        ret.append(el*2)\n",
    "    return ret   \n",
    "\n",
    "la = [5,2,6,3]\n",
    "res = returnola(la)\n",
    "print(\"la :\", la)\n",
    "print(\"res:\", res)"
   ]
  },
  {
   "cell_type": "markdown",
   "id": "94bbade2",
   "metadata": {},
   "source": [
    "### Modify\n",
    "\n",
    "Modify the input. by modifying, we typically mean changing data inside _existing_ memory regions, limiting as much as possible the creation of new ones.\n",
    "\n",
    "- Does not return anything!\n",
    "- Does not print anything!\n",
    "- Does not create new memory regions (or limits the creation to the bare needed)\n",
    "\n",
    "\n",
    "Example:"
   ]
  },
  {
   "cell_type": "code",
   "execution_count": null,
   "id": "c916d3ff",
   "metadata": {},
   "outputs": [
    {
     "data": {
      "text/html": [
       "\n",
       "        <iframe\n",
       "            width=\"100%\"\n",
       "            height=\"500\"\n",
       "            src=\"https://pythontutor.com/iframe-embed.html#code=%0Adef%20modifanta%28lst%29%3A%0A%20%20%20%20%22%22%22MODIFIES%20lst%20by%20ordering%20it%20in-place%0A%20%20%20%20%22%22%22%0A%20%20%20%20lst.sort%28%29%20%20%20%0A%20%20%20%20la%20%3D%20%5B43434%5D%0A%20%20%20%20%0A%20%20%20%20%0Ala%20%3D%20%5B7%2C4%2C9%2C8%5D%0A%0Amodifanta%28la%29%0A%0Aprint%28%22la%3A%22%2C%20la%29%0A&origin=opt-frontend.js&cumulative=false&heapPrimitives=false&textReferences=false&py=3&rawInputLstJSON=%5B%5D&curInstr=0&codeDivWidth=350&codeDivHeight=400\"\n",
       "            frameborder=\"0\"\n",
       "            allowfullscreen\n",
       "            \n",
       "        ></iframe>\n",
       "        "
      ],
      "text/plain": [
       "<IPython.lib.display.IFrame at 0x7db1fc92e5f0>"
      ]
     },
     "metadata": {},
     "output_type": "display_data"
    }
   ],
   "source": [
    "%%tutor\n",
    "\n",
    "def modifanta(lst):\n",
    "    \"\"\"MODIFIES lst by ordering it in-place\n",
    "    \"\"\"\n",
    "    lst.sort()   \n",
    "    la = [43434]\n",
    "    \n",
    "    \n",
    "la = [7,4,9,8]\n",
    "\n",
    "modifanta(la)\n",
    "\n",
    "print(\"la:\", la)"
   ]
  },
  {
   "cell_type": "markdown",
   "id": "30978020",
   "metadata": {},
   "source": [
    "###  Modify and return\n",
    "\n",
    "Modifies the input and returns a pointer to it\n",
    "\n",
    "- Does not print anything!\n",
    "- Does not create new memory regions (or limits the creation to the bare needed)\n",
    "\n",
    "Note: allows call _chaining_"
   ]
  },
  {
   "cell_type": "code",
   "execution_count": null,
   "id": "844ce91f",
   "metadata": {},
   "outputs": [
    {
     "data": {
      "text/html": [
       "\n",
       "        <iframe\n",
       "            width=\"100%\"\n",
       "            height=\"500\"\n",
       "            src=\"https://pythontutor.com/iframe-embed.html#code=%0Adef%20modiret%28lst%29%3A%0A%20%20%20%20%22%22%22MODIFY%20lst%20by%20doubling%20all%20its%20elements%2C%20and%20finally%20RETURNS%20it%0A%20%20%20%20%22%22%22%0A%20%20%20%20for%20i%20in%20range%28len%28lst%29%29%3A%0A%20%20%20%20%20%20%20%20lst%5Bi%5D%20%3D%20lst%5Bi%5D%20%2A%202%0A%20%20%20%20return%20lst%0A%0Ala%20%3D%20%5B8%2C7%2C5%5D%0Ares%20%3D%20modiret%28la%29%0Aprint%28%22res%20%3A%22%2C%20res%29%20%20%20%23%20%5B16%2C14%2C10%5D%20%20RETURNED%20the%20modified%20input%0Aprint%28%22la%20%20%3A%22%2C%20la%29%20%20%20%20%23%20%5B16%2C14%2C10%5D%20%20la%20input%20was%20MODIFIED%20%21%21%0A%0Aprint%28%29%0Alb%20%3D%20%5B7%2C5%2C6%5D%0Amodiret%28lb%29.reverse%28%29%20%20%20%20%23%20NOTE%20WE%20CAN%20CONCATENATE%0Aprint%28%22lb%20%20%3A%22%2C%20lb%29%20%20%20%20%20%20%20%20%20%20%20%20%20%20%20%20%23%20%5B12%2C10%2C14%5D%20lb%20input%20was%20MODIFIED%20%21%21%0A%23modiret%28lb%29.reverse%28%29.append%2816%29%20%20%23%20...%20but%20this%20wouldn%27t%20work.%20Why%3F%0A&origin=opt-frontend.js&cumulative=false&heapPrimitives=false&textReferences=false&py=3&rawInputLstJSON=%5B%5D&curInstr=0&codeDivWidth=350&codeDivHeight=400\"\n",
       "            frameborder=\"0\"\n",
       "            allowfullscreen\n",
       "            \n",
       "        ></iframe>\n",
       "        "
      ],
      "text/plain": [
       "<IPython.lib.display.IFrame at 0x7db1fc9da7a0>"
      ]
     },
     "metadata": {},
     "output_type": "display_data"
    }
   ],
   "source": [
    "%%tutor\n",
    "\n",
    "def modiret(lst):\n",
    "    \"\"\"MODIFY lst by doubling all its elements, and finally RETURNS it\n",
    "    \"\"\"\n",
    "    for i in range(len(lst)):\n",
    "        lst[i] = lst[i] * 2\n",
    "    return lst\n",
    "\n",
    "la = [8,7,5]\n",
    "res = modiret(la)\n",
    "print(\"res :\", res)   # [16,14,10]  RETURNED the modified input\n",
    "print(\"la  :\", la)    # [16,14,10]  la input was MODIFIED !!\n",
    "\n",
    "print()\n",
    "lb = [7,5,6]\n",
    "modiret(lb).reverse()    # NOTE WE CAN CONCATENATE\n",
    "print(\"lb  :\", lb)                # [12,10,14] lb input was MODIFIED !!\n",
    "#modiret(lb).reverse().append(16)  # ... but this wouldn't work. Why?"
   ]
  },
  {
   "cell_type": "markdown",
   "id": "52e622c0",
   "metadata": {},
   "source": [
    "### Modify and return a part\n",
    "\n",
    "Modify the input and return a part of it\n",
    "\n",
    "- Does not print anything!"
   ]
  },
  {
   "cell_type": "code",
   "execution_count": null,
   "id": "3e1f33ce",
   "metadata": {},
   "outputs": [
    {
     "data": {
      "text/html": [
       "\n",
       "        <iframe\n",
       "            width=\"100%\"\n",
       "            height=\"500\"\n",
       "            src=\"https://pythontutor.com/iframe-embed.html#code=%0Adef%20modirip%28lst%29%3A%0A%20%20%20%20%22%22%22MODIFY%20lst%20by%20sorting%20it%20and%20removing%20the%20greatest%20element.%20Finally%2C%20RETURN%20the%20removed%20element.%20%20%20%20%0A%20%20%20%20%22%22%22%0A%20%20%20%20lst.sort%28%29%0A%20%20%20%20ret%20%3D%20lst%5B-1%5D%0A%20%20%20%20lst.pop%28%29%0A%20%20%20%20return%20ret%20%20%20%20%0A%0Ala%20%3D%20%5B%27b%27%2C%27c%27%2C%27a%27%5D%0Ares%20%3D%20modirip%28la%29%20%20%20%20%20%0Aprint%28%22res%20%20%20%3A%22%2C%20res%29%20%20%20%20%23%20%27c%27%20%20%20%20%20%20%20%20%20%20RETURNED%20a%20piece%20of%20the%20input%0Aprint%28%22la%20%20%20%20%3A%22%2C%20la%29%20%20%20%20%20%23%20%5B%27a%27%2C%27b%27%5D%20%20%20%20la%20was%20MODIFIED%21%21%0A&origin=opt-frontend.js&cumulative=false&heapPrimitives=false&textReferences=false&py=3&rawInputLstJSON=%5B%5D&curInstr=0&codeDivWidth=350&codeDivHeight=400\"\n",
       "            frameborder=\"0\"\n",
       "            allowfullscreen\n",
       "            \n",
       "        ></iframe>\n",
       "        "
      ],
      "text/plain": [
       "<IPython.lib.display.IFrame at 0x7db1fdc2aef0>"
      ]
     },
     "metadata": {},
     "output_type": "display_data"
    }
   ],
   "source": [
    "%%tutor\n",
    "\n",
    "def modirip(lst):\n",
    "    \"\"\"MODIFY lst by sorting it and removing the greatest element. Finally, RETURN the removed element.    \n",
    "    \"\"\"\n",
    "    lst.sort()\n",
    "    ret = lst[-1]\n",
    "    lst.pop()\n",
    "    return ret    \n",
    "\n",
    "la = ['b','c','a']\n",
    "res = modirip(la)     \n",
    "print(\"res   :\", res)    # 'c'          RETURNED a piece of the input\n",
    "print(\"la    :\", la)     # ['a','b']    la was MODIFIED!!"
   ]
  },
  {
   "cell_type": "markdown",
   "id": "8f9ea49f",
   "metadata": {},
   "source": [
    "## Function definition - questions\n",
    "\n",
    "For each of the following expressions, try guessing the result it produces (or if it gives error).\n",
    "Then run them yourself to see if you were right!"
   ]
  },
  {
   "cell_type": "code",
   "execution_count": null,
   "id": "8b7e5ba6",
   "metadata": {
    "tags": [
     "hide-output"
    ]
   },
   "outputs": [
    {
     "name": "stdout",
     "output_type": "stream",
     "text": [
      "3\n"
     ]
    }
   ],
   "source": [
    "def f():\n",
    "    return 3\n",
    "print(f())"
   ]
  },
  {
   "cell_type": "code",
   "execution_count": null,
   "id": "54d684ec",
   "metadata": {
    "tags": [
     "hide-output"
    ]
   },
   "outputs": [
    {
     "name": "stdout",
     "output_type": "stream",
     "text": [
      "car\n",
      "None\n"
     ]
    }
   ],
   "source": [
    "def f():\n",
    "    print('car')\n",
    "print(f())"
   ]
  },
  {
   "cell_type": "code",
   "execution_count": null,
   "id": "a60f7bb2",
   "metadata": {
    "tags": [
     "hide-output"
    ]
   },
   "outputs": [
    {
     "name": "stdout",
     "output_type": "stream",
     "text": [
      "9\n"
     ]
    }
   ],
   "source": [
    "def f():\n",
    "    return 3\n",
    "print(f()*f())"
   ]
  },
  {
   "cell_type": "code",
   "execution_count": null,
   "id": "cbf192f1",
   "metadata": {
    "tags": [
     "raises-exception",
     "hide-output"
    ]
   },
   "outputs": [
    {
     "ename": "TypeError",
     "evalue": "f() missing 1 required positional argument: 'x'",
     "output_type": "error",
     "traceback": [
      "\u001b[0;31m---------------------------------------------------------------------------\u001b[0m",
      "\u001b[0;31mTypeError\u001b[0m                                 Traceback (most recent call last)",
      "Cell \u001b[0;32mIn[24], line 3\u001b[0m\n\u001b[1;32m      1\u001b[0m \u001b[38;5;28;01mdef\u001b[39;00m \u001b[38;5;21mf\u001b[39m(x):\n\u001b[1;32m      2\u001b[0m     \u001b[38;5;28;01mreturn\u001b[39;00m x\n\u001b[0;32m----> 3\u001b[0m \u001b[38;5;28mprint\u001b[39m(\u001b[43mf\u001b[49m\u001b[43m(\u001b[49m\u001b[43m)\u001b[49m)\n",
      "\u001b[0;31mTypeError\u001b[0m: f() missing 1 required positional argument: 'x'"
     ]
    }
   ],
   "source": [
    "def f(x):\n",
    "    return x\n",
    "print(f())"
   ]
  },
  {
   "cell_type": "code",
   "execution_count": null,
   "id": "17e4f454",
   "metadata": {
    "tags": [
     "hide-output"
    ]
   },
   "outputs": [
    {
     "name": "stdout",
     "output_type": "stream",
     "text": [
      "5\n"
     ]
    }
   ],
   "source": [
    "def f(x):\n",
    "    return x\n",
    "print(f(5))"
   ]
  },
  {
   "cell_type": "code",
   "execution_count": null,
   "id": "810e124c",
   "metadata": {
    "tags": [
     "hide-output"
    ]
   },
   "outputs": [
    {
     "name": "stdout",
     "output_type": "stream",
     "text": [
      "fire\n",
      "None\n"
     ]
    }
   ],
   "source": [
    "def f():\n",
    "    return(print('fire'))\n",
    "print(f())"
   ]
  },
  {
   "cell_type": "code",
   "execution_count": null,
   "id": "4178d00b",
   "metadata": {
    "tags": [
     "hide-output"
    ]
   },
   "outputs": [
    {
     "name": "stdout",
     "output_type": "stream",
     "text": [
      "x\n"
     ]
    }
   ],
   "source": [
    "def f(x):\n",
    "    return 'x'\n",
    "print(f(5))"
   ]
  },
  {
   "cell_type": "code",
   "execution_count": null,
   "id": "b746184b",
   "metadata": {
    "tags": [
     "hide-output"
    ]
   },
   "outputs": [
    {
     "name": "stdout",
     "output_type": "stream",
     "text": [
      "GU\n",
      "RU\n"
     ]
    }
   ],
   "source": [
    "def gu():\n",
    "    print('GU')\n",
    "def ru():\n",
    "    gu()\n",
    "    print('RU')\n",
    "ru()"
   ]
  },
  {
   "cell_type": "markdown",
   "id": "ec0b21f3",
   "metadata": {},
   "source": [
    "## Immutable values\n",
    "\n",
    "Basic types such integers, float, booleans are immutable,  as well as some sequences like strings and tuples : when you are asked to RETURN one of these types, say a string, the only thing you can do is obtaining NEW strings based upon the parameters you receive. Let's see an example."
   ]
  },
  {
   "cell_type": "markdown",
   "id": "41df9f18",
   "metadata": {},
   "source": [
    "Suppose we are asked to implement this function:"
   ]
  },
  {
   "cell_type": "markdown",
   "id": "64c4743d",
   "metadata": {},
   "source": [
    "> Write a function `my_upper` which RETURNS the passed string as uppercase.\n",
    "\n",
    "We could implement it like this:"
   ]
  },
  {
   "cell_type": "code",
   "execution_count": null,
   "id": "7ad0d871",
   "metadata": {},
   "outputs": [
    {
     "data": {
      "text/html": [
       "\n",
       "        <iframe\n",
       "            width=\"100%\"\n",
       "            height=\"500\"\n",
       "            src=\"https://pythontutor.com/iframe-embed.html#code=%0Aexternal_string%20%3D%20%22sailor%22%0A%0Adef%20my_upper%28s%29%3A%0A%20%20%20%20ret%20%3D%20s.upper%28%29%20%20%20%23%20string%20methods%20create%20NEW%20string%0A%20%20%20%20return%20ret%20%20%20%20%20%20%20%20%0A%20%20%20%20%0Aresult%20%3D%20my_upper%28external_string%29%0A%0Aprint%28%27%20%20%20%20%20%20%20%20%20result%3A%27%2C%20result%29%0Aprint%28%27external_string%3A%27%2C%20external_string%29%0A&origin=opt-frontend.js&cumulative=false&heapPrimitives=false&textReferences=false&py=3&rawInputLstJSON=%5B%5D&curInstr=0&codeDivWidth=350&codeDivHeight=400\"\n",
       "            frameborder=\"0\"\n",
       "            allowfullscreen\n",
       "            \n",
       "        ></iframe>\n",
       "        "
      ],
      "text/plain": [
       "<IPython.lib.display.IFrame at 0x7db1fc896080>"
      ]
     },
     "metadata": {},
     "output_type": "display_data"
    }
   ],
   "source": [
    "%%tutor\n",
    "\n",
    "external_string = \"sailor\"\n",
    "\n",
    "def my_upper(s):\n",
    "    ret = s.upper()   # string methods create NEW string\n",
    "    return ret        \n",
    "    \n",
    "result = my_upper(external_string)\n",
    "\n",
    "print('         result:', result)\n",
    "print('external_string:', external_string)"
   ]
  },
  {
   "cell_type": "markdown",
   "id": "09751975",
   "metadata": {},
   "source": [
    "Notice some things:\n",
    "\n",
    "- the `external_string` didn't change\n",
    "- we didn't refer to `external_string` inside the function body: doing so would have defeated the purpose of functions, which is to isolate them from outside world."
   ]
  },
  {
   "cell_type": "markdown",
   "id": "00f668a3",
   "metadata": {},
   "source": [
    "### Changing the world: fail / 1\n",
    "\n",
    "What if we actually did want to change the assignment of `external_string` ? \n",
    "\n",
    "You might be tempted to write something like an assignment `s =` right inside the function. The following code will **not** work."
   ]
  },
  {
   "cell_type": "markdown",
   "id": "3056202c",
   "metadata": {},
   "source": [
    "```{admonition} Question\n",
    "Why? Try to answer before checking execution in Python Tutor.\n",
    "```"
   ]
  },
  {
   "cell_type": "markdown",
   "id": "c2b3ce17",
   "metadata": {
    "tags": [
     "hide-cell"
    ]
   },
   "source": [
    "```{admonition} Answer\n",
    ":class: tip dropdown\n",
    "\n",
    "`s = s.upper()` only MODIFIES the assignment `s` of the function call's frame, it has no effect on anything outside of it.\n",
    "\n",
    "```"
   ]
  },
  {
   "cell_type": "code",
   "execution_count": null,
   "id": "d4f8ad0a",
   "metadata": {},
   "outputs": [
    {
     "data": {
      "text/html": [
       "\n",
       "        <iframe\n",
       "            width=\"100%\"\n",
       "            height=\"500\"\n",
       "            src=\"https://pythontutor.com/iframe-embed.html#code=%0Aexternal_string%20%3D%20%22sailor%22%0A%0Adef%20my_upper%28s%29%3A%0A%20%20%20%20s%20%3D%20s.upper%28%29%20%20%0A%20%20%20%20return%20s%0A%20%20%20%20%0Aresult%20%3D%20my_upper%28external_string%29%0A%0Aprint%28%27%20%20%20%20%20%20%20%20%20result%3A%27%2C%20result%29%0Aprint%28%27external_string%3A%27%2C%20external_string%29%0A&origin=opt-frontend.js&cumulative=false&heapPrimitives=false&textReferences=false&py=3&rawInputLstJSON=%5B%5D&curInstr=0&codeDivWidth=350&codeDivHeight=400\"\n",
       "            frameborder=\"0\"\n",
       "            allowfullscreen\n",
       "            \n",
       "        ></iframe>\n",
       "        "
      ],
      "text/plain": [
       "<IPython.lib.display.IFrame at 0x7db1fc897bb0>"
      ]
     },
     "metadata": {},
     "output_type": "display_data"
    }
   ],
   "source": [
    "%%tutor\n",
    "\n",
    "external_string = \"sailor\"\n",
    "\n",
    "def my_upper(s):\n",
    "    s = s.upper()  \n",
    "    return s\n",
    "    \n",
    "result = my_upper(external_string)\n",
    "\n",
    "print('         result:', result)\n",
    "print('external_string:', external_string)"
   ]
  },
  {
   "cell_type": "markdown",
   "id": "da1caf32",
   "metadata": {},
   "source": [
    "### Changing the world: fail / 2\n",
    "\n",
    "Let's see another temptation. You might try to assign `external_string =` right inside the function. The following code again will **not** work"
   ]
  },
  {
   "cell_type": "markdown",
   "id": "579b5aca",
   "metadata": {},
   "source": [
    "```{admonition} Question\n",
    "Why? Try to answer before checking execution in Python Tutor.\n",
    "```"
   ]
  },
  {
   "cell_type": "markdown",
   "id": "88957987",
   "metadata": {
    "tags": [
     "hide-cell"
    ]
   },
   "source": [
    "```{admonition} Answer\n",
    ":class: tip dropdown\n",
    "\n",
    "`external_string = s.upper()` creates a new variable `external_string` inside the frame of the function call.\n",
    "\n",
    "```"
   ]
  },
  {
   "cell_type": "code",
   "execution_count": null,
   "id": "6414c1c3",
   "metadata": {},
   "outputs": [
    {
     "data": {
      "text/html": [
       "\n",
       "        <iframe\n",
       "            width=\"100%\"\n",
       "            height=\"500\"\n",
       "            src=\"https://pythontutor.com/iframe-embed.html#code=%0Aexternal_string%20%3D%20%22sailor%22%0A%0Adef%20my_upper%28s%29%3A%0A%20%20%20%20external_string%20%3D%20s.upper%28%29%20%20%0A%20%20%20%20return%20external_string%0A%20%20%20%20%0Aresult%20%3D%20my_upper%28external_string%29%0A%0Aprint%28%27%20%20%20%20%20%20%20%20%20result%3A%27%2C%20result%29%0Aprint%28%27external_string%3A%27%2C%20external_string%29%0A&origin=opt-frontend.js&cumulative=false&heapPrimitives=false&textReferences=false&py=3&rawInputLstJSON=%5B%5D&curInstr=0&codeDivWidth=350&codeDivHeight=400\"\n",
       "            frameborder=\"0\"\n",
       "            allowfullscreen\n",
       "            \n",
       "        ></iframe>\n",
       "        "
      ],
      "text/plain": [
       "<IPython.lib.display.IFrame at 0x7db1fc896b30>"
      ]
     },
     "metadata": {},
     "output_type": "display_data"
    }
   ],
   "source": [
    "%%tutor\n",
    "\n",
    "external_string = \"sailor\"\n",
    "\n",
    "def my_upper(s):\n",
    "    external_string = s.upper()  \n",
    "    return external_string\n",
    "    \n",
    "result = my_upper(external_string)\n",
    "\n",
    "print('         result:', result)\n",
    "print('external_string:', external_string)"
   ]
  },
  {
   "cell_type": "markdown",
   "id": "afc346f6",
   "metadata": {},
   "source": [
    "### Changing the world: success!\n",
    "\n",
    "The proper way to tackle the problem is to create a NEW string inside the function, return it, and then **outside** the function perform the assignment `external_string = result`. "
   ]
  },
  {
   "cell_type": "code",
   "execution_count": null,
   "id": "4c49c76e",
   "metadata": {},
   "outputs": [
    {
     "data": {
      "text/html": [
       "\n",
       "        <iframe\n",
       "            width=\"100%\"\n",
       "            height=\"500\"\n",
       "            src=\"https://pythontutor.com/iframe-embed.html#code=%0Aexternal_string%20%3D%20%22sailor%22%0A%0Adef%20my_upper%28s%29%3A%0A%20%20%20%20ret%20%3D%20s.upper%28%29%20%20%20%0A%20%20%20%20return%20ret%0A%20%20%20%20%0Aresult%20%3D%20my_upper%28external_string%29%20%20%20%0Aexternal_string%20%3D%20result%20%20%20%20%20%20%20%20%20%20%20%20%20%23%20reassignes%20%2Aoutside%2A%0A%0Aprint%28%27%20%20%20%20%20%20%20%20%20result%3A%27%2C%20result%29%0Aprint%28%27external_string%3A%27%2C%20external_string%29%0A&origin=opt-frontend.js&cumulative=false&heapPrimitives=false&textReferences=false&py=3&rawInputLstJSON=%5B%5D&curInstr=0&codeDivWidth=350&codeDivHeight=400\"\n",
       "            frameborder=\"0\"\n",
       "            allowfullscreen\n",
       "            \n",
       "        ></iframe>\n",
       "        "
      ],
      "text/plain": [
       "<IPython.lib.display.IFrame at 0x7db1fc896080>"
      ]
     },
     "metadata": {},
     "output_type": "display_data"
    }
   ],
   "source": [
    "%%tutor\n",
    "\n",
    "external_string = \"sailor\"\n",
    "\n",
    "def my_upper(s):\n",
    "    ret = s.upper()   \n",
    "    return ret\n",
    "    \n",
    "result = my_upper(external_string)   \n",
    "external_string = result             # reassignes *outside*\n",
    "\n",
    "print('         result:', result)\n",
    "print('external_string:', external_string)"
   ]
  },
  {
   "cell_type": "markdown",
   "id": "04b70c62",
   "metadata": {},
   "source": [
    "## Mutable values\n",
    "\n",
    "Sequences like lists, sets, dictionaries are _mutable_ objects. When you call a function and pass one of these objects, Python actually  gives the function only a _reference_ to the object: a very small pointer which is just an arrow pointing to the memory region where the actual object resides. Since the function only receives a small pointer, calling the function is a fast operation. On the other side, we need to be aware that since no copy of the whole data structure is performed, inside the function it will be like operating on the original memory region which lives outside the function call.\n",
    "\n",
    "All of this may feel like a bit of a mouthful. Let's see a practical example in Python Tutor. \n",
    "\n",
    "Let's say we need to implement this function:"
   ]
  },
  {
   "cell_type": "markdown",
   "id": "555a3bb7",
   "metadata": {},
   "source": [
    "> Write a function which takes a list and MODIFIES it by doubling all of its numbers"
   ]
  },
  {
   "cell_type": "markdown",
   "id": "816b0cef",
   "metadata": {},
   "source": [
    "Note in the text we used the word MODIFIES, meaning we really want to change the original memory region of the external object we are given.\n",
    "\n",
    "As simple as it might seem, there are many ways to get this wrong. Let's see some."
   ]
  },
  {
   "cell_type": "markdown",
   "id": "da32c4a5",
   "metadata": {},
   "source": [
    "### Doubling: fail / 1\n",
    "\n",
    "You might be tempted to solve the problem like the following code, but it will **not** work."
   ]
  },
  {
   "cell_type": "markdown",
   "id": "5d5d9b0c",
   "metadata": {},
   "source": [
    "```{admonition} Question\n",
    "Why? Try to answer before checking execution in Python Tutor.\n",
    "```"
   ]
  },
  {
   "cell_type": "markdown",
   "id": "4972892f",
   "metadata": {
    "tags": [
     "hide-cell"
    ]
   },
   "source": [
    "```{admonition} Answer\n",
    ":class: tip dropdown\n",
    "\n",
    "`element` is created as a NEW variable in the function call's frame, which doesn't change the elements from the original list.\n",
    "\n",
    "```"
   ]
  },
  {
   "cell_type": "code",
   "execution_count": null,
   "id": "baae2106",
   "metadata": {},
   "outputs": [
    {
     "data": {
      "text/html": [
       "\n",
       "        <iframe\n",
       "            width=\"100%\"\n",
       "            height=\"500\"\n",
       "            src=\"https://pythontutor.com/iframe-embed.html#code=%0Aexternal_numbers%20%3D%20%5B10%2C20%2C30%5D%0A%0Adef%20double%28lst%29%3A%0A%20%20%20%20for%20element%20in%20lst%3A%0A%20%20%20%20%20%20%20%20element%20%3D%20element%20%2A%202%20%20%20%0A%20%20%20%20%20%20%20%20%0Adouble%28external_numbers%29%0A&origin=opt-frontend.js&cumulative=false&heapPrimitives=false&textReferences=false&py=3&rawInputLstJSON=%5B%5D&curInstr=0&codeDivWidth=350&codeDivHeight=400\"\n",
       "            frameborder=\"0\"\n",
       "            allowfullscreen\n",
       "            \n",
       "        ></iframe>\n",
       "        "
      ],
      "text/plain": [
       "<IPython.lib.display.IFrame at 0x7db1fc894160>"
      ]
     },
     "metadata": {},
     "output_type": "display_data"
    }
   ],
   "source": [
    "%%tutor\n",
    "\n",
    "external_numbers = [10,20,30]\n",
    "\n",
    "def double(lst):\n",
    "    for element in lst:\n",
    "        element = element * 2   \n",
    "        \n",
    "double(external_numbers)"
   ]
  },
  {
   "cell_type": "markdown",
   "id": "dcf2d9ff",
   "metadata": {},
   "source": [
    "### Doubling: fail / 2\n",
    "\n",
    "You might have another temptation to solve the problem like the following code, but again it will **not** work."
   ]
  },
  {
   "cell_type": "markdown",
   "id": "fc96a49f",
   "metadata": {},
   "source": [
    "```{admonition} Question\n",
    "Why? Try to answer before checking execution in Python Tutor.\n",
    "```"
   ]
  },
  {
   "cell_type": "markdown",
   "id": "2647d1fc",
   "metadata": {
    "tags": [
     "hide-cell"
    ]
   },
   "source": [
    "```{admonition} Answer\n",
    ":class: tip dropdown\n",
    "\n",
    "- `tmp = []` creates a NEW list, while the function is supposed to MODIFY an existing one.\n",
    "- `lst = tmp`  Violates [IV COMANDMENT](https://en.softpython.org/commandments.html#IV-COMMANDMENT): sets the variable `lst` in the call frame to point to `tmp`, but both will be lost after the function call is over.\n",
    "\n",
    "```"
   ]
  },
  {
   "cell_type": "code",
   "execution_count": null,
   "id": "0ff7cc87",
   "metadata": {},
   "outputs": [
    {
     "data": {
      "text/html": [
       "\n",
       "        <iframe\n",
       "            width=\"100%\"\n",
       "            height=\"500\"\n",
       "            src=\"https://pythontutor.com/iframe-embed.html#code=%0Aexternal_numbers%20%3D%20%5B10%2C20%2C30%5D%0A%0Adef%20double%28lst%29%3A%0A%20%20%20%20tmp%20%3D%20%5B%5D%0A%20%20%20%20for%20element%20in%20lst%3A%0A%20%20%20%20%20%20%20%20tmp.append%28element%20%2A%202%29%20%20%20%0A%20%20%20%20%20%20%20%20%20%20%20%20%20%20%20%20%20%20%20%20%20%20%20%20%20%20%20%20%20%20%20%20%20%0A%20%20%20%20lst%20%3D%20tmp%20%20%20%20%20%20%20%20%20%20%20%20%20%20%20%20%20%20%20%20%20%0A%20%20%20%20%0Adouble%28external_numbers%29%0A&origin=opt-frontend.js&cumulative=false&heapPrimitives=false&textReferences=false&py=3&rawInputLstJSON=%5B%5D&curInstr=0&codeDivWidth=350&codeDivHeight=400\"\n",
       "            frameborder=\"0\"\n",
       "            allowfullscreen\n",
       "            \n",
       "        ></iframe>\n",
       "        "
      ],
      "text/plain": [
       "<IPython.lib.display.IFrame at 0x7db1fc895870>"
      ]
     },
     "metadata": {},
     "output_type": "display_data"
    }
   ],
   "source": [
    "%%tutor\n",
    "\n",
    "external_numbers = [10, 20, 30]\n",
    "\n",
    "def double(lst):\n",
    "    tmp = []\n",
    "    for element in lst:\n",
    "        tmp.append(element * 2)\n",
    "\n",
    "    lst = tmp\n",
    "\n",
    "double(external_numbers)"
   ]
  },
  {
   "cell_type": "markdown",
   "id": "085422c1",
   "metadata": {},
   "source": [
    "### Doubling: fail / 3\n",
    "\n",
    "You might be tempted to solve the problem also like in the following code, but again it will **not** work."
   ]
  },
  {
   "cell_type": "markdown",
   "id": "2b0accf4",
   "metadata": {},
   "source": [
    "```{admonition} Question\n",
    "Why? Try to answer before checking execution in Python Tutor.\n",
    "```"
   ]
  },
  {
   "cell_type": "markdown",
   "id": "97eceda5",
   "metadata": {
    "tags": [
     "hide-cell"
    ]
   },
   "source": [
    "```{admonition} Answer\n",
    ":class: tip dropdown\n",
    "\n",
    "\n",
    "- `tmp = []` creates a NEW list, while the function is supposed to MODIFY an existing one. \n",
    "- `external_numbers = tmp` creates a NEW association `external_numbers` inside the function call's frame, but it will be lost after the function call is over.                                \n",
    "\n",
    "```"
   ]
  },
  {
   "cell_type": "code",
   "execution_count": null,
   "id": "5ddb4c76",
   "metadata": {},
   "outputs": [
    {
     "data": {
      "text/html": [
       "\n",
       "        <iframe\n",
       "            width=\"100%\"\n",
       "            height=\"500\"\n",
       "            src=\"https://pythontutor.com/iframe-embed.html#code=%0Aexternal_numbers%20%3D%20%5B10%2C20%2C30%5D%0A%0Adef%20double%28lst%29%3A%0A%20%20%20%20tmp%20%3D%20%5B%5D%0A%20%20%20%20for%20element%20in%20lst%3A%0A%20%20%20%20%20%20%20%20tmp.append%28element%20%2A%202%29%20%20%0A%20%20%20%20%20%20%20%20%20%20%20%20%20%20%20%20%20%20%20%20%20%20%20%20%20%20%20%20%20%20%20%20%20%0A%20%20%20%20external_numbers%20%3D%20tmp%20%20%20%20%20%20%20%20%20%20%20%20%20%20%20%20%20%20%20%20%20%20%20%20%20%20%20%20%20%20%20%20%20%20%20%20%20%20%20%0A%20%20%20%20%0Adouble%28external_numbers%29%0A&origin=opt-frontend.js&cumulative=false&heapPrimitives=false&textReferences=false&py=3&rawInputLstJSON=%5B%5D&curInstr=0&codeDivWidth=350&codeDivHeight=400\"\n",
       "            frameborder=\"0\"\n",
       "            allowfullscreen\n",
       "            \n",
       "        ></iframe>\n",
       "        "
      ],
      "text/plain": [
       "<IPython.lib.display.IFrame at 0x7db1fc896080>"
      ]
     },
     "metadata": {},
     "output_type": "display_data"
    }
   ],
   "source": [
    "%%tutor\n",
    "\n",
    "external_numbers = [10,20,30]\n",
    "\n",
    "def double(lst):\n",
    "    tmp = []\n",
    "    for element in lst:\n",
    "        tmp.append(element * 2)  \n",
    "                                 \n",
    "    external_numbers = tmp                                       \n",
    "    \n",
    "double(external_numbers)"
   ]
  },
  {
   "cell_type": "markdown",
   "id": "e2a164c6",
   "metadata": {},
   "source": [
    "### Doubling: fail / 4\n",
    "\n",
    "Let's see the final temptation, which yet again will **not** work."
   ]
  },
  {
   "cell_type": "markdown",
   "id": "f0df4149",
   "metadata": {},
   "source": [
    "```{admonition} Question\n",
    "Why? Try to answer before checking execution in Python Tutor.\n",
    "```"
   ]
  },
  {
   "cell_type": "markdown",
   "id": "48488d85",
   "metadata": {
    "tags": [
     "hide-cell"
    ]
   },
   "source": [
    "````{admonition} Answer\n",
    ":class: tip dropdown\n",
    "\n",
    "```python\n",
    "external_numbers = [10, 20, 30]\n",
    "\n",
    "def double(lst):\n",
    "    tmp = [] # Wrong: we are creating a NEW list, while the function is upposed to\n",
    "             # modify an existing one.\n",
    "    for element in lst:\n",
    "        tmp.append(element * 2)\n",
    "                                 \n",
    "    return tmp # Wrong: the function is not supposed to return anything.                                   \n",
    "    \n",
    "external_numbers = double(external_numbers)  # WRONG: even if external_numbers association will \n",
    "                                             # actually  point  to a list of doubled numbers, \n",
    "                                             # it will be a completely NEW region of memory,\n",
    "                                             # while we wanted to MODIFY the original one!\n",
    "```\n",
    "\n",
    "````"
   ]
  },
  {
   "cell_type": "code",
   "execution_count": null,
   "id": "c6939010",
   "metadata": {},
   "outputs": [
    {
     "data": {
      "text/html": [
       "\n",
       "        <iframe\n",
       "            width=\"100%\"\n",
       "            height=\"500\"\n",
       "            src=\"https://pythontutor.com/iframe-embed.html#code=%0Aexternal_numbers%20%3D%20%5B10%2C20%2C30%5D%0A%0Adef%20double%28lst%29%3A%0A%20%20%20%20tmp%20%3D%20%5B%5D%0A%20%20%20%20for%20element%20in%20lst%3A%0A%20%20%20%20%20%20%20%20tmp.append%28element%20%2A%202%29%20%20%20%0A%20%20%20%20%20%20%20%20%20%20%20%20%20%20%20%20%20%20%20%20%20%20%20%20%20%20%20%20%20%20%20%20%20%0A%20%20%20%20return%20tmp%20%20%20%20%20%20%20%20%20%20%20%20%20%20%20%20%20%20%20%20%0A%20%20%20%20%0Aexternal_numbers%20%3D%20double%28external_numbers%29%20%20%20%20%20%20%20%20%20%20%20%20%20%20%20%20%20%20%20%20%20%20%20%20%20%20%20%20%20%20%20%20%20%20%20%20%20%20%20%20%20%20%20%20%20%0A&origin=opt-frontend.js&cumulative=false&heapPrimitives=false&textReferences=false&py=3&rawInputLstJSON=%5B%5D&curInstr=0&codeDivWidth=350&codeDivHeight=400\"\n",
       "            frameborder=\"0\"\n",
       "            allowfullscreen\n",
       "            \n",
       "        ></iframe>\n",
       "        "
      ],
      "text/plain": [
       "<IPython.lib.display.IFrame at 0x7db1fc896080>"
      ]
     },
     "metadata": {},
     "output_type": "display_data"
    }
   ],
   "source": [
    "%%tutor\n",
    "\n",
    "external_numbers = [10,20,30]\n",
    "\n",
    "def double(lst):\n",
    "    tmp = []\n",
    "    for element in lst:\n",
    "        tmp.append(element * 2)   \n",
    "                                 \n",
    "    return tmp                    \n",
    "    \n",
    "external_numbers = double(external_numbers)                                             "
   ]
  },
  {
   "cell_type": "markdown",
   "id": "736d21aa",
   "metadata": {},
   "source": [
    "Probably you are a bit confused about the previous attempt, which to the untrained eye might look successful. Let's try to rewrite it with one variable more `saved` which will point to exactly the same original memory region of `external_numbers`. You will see that at the end `saved` will point to `[10,20,30]`, showing we didn't actually MODIFY the original data."
   ]
  },
  {
   "cell_type": "code",
   "execution_count": null,
   "id": "8c6361e5",
   "metadata": {},
   "outputs": [
    {
     "data": {
      "text/html": [
       "\n",
       "        <iframe\n",
       "            width=\"100%\"\n",
       "            height=\"500\"\n",
       "            src=\"https://pythontutor.com/iframe-embed.html#code=%0Aexternal_numbers%20%3D%20%5B10%2C20%2C30%5D%0Asaved%20%3D%20external_numbers%20%20%20%23%20we%20preserve%20a%20pointer%0A%0Adef%20double%28lst%29%3A%0A%20%20%20%20tmp%20%3D%20%5B%5D%0A%20%20%20%20for%20element%20in%20lst%3A%0A%20%20%20%20%20%20%20%20tmp.append%28element%20%2A%202%29%20%20%20%20%20%20%20%20%20%20%20%20%20%20%20%20%20%20%20%20%20%20%20%20%20%20%20%20%20%20%20%20%20%20%20%0A%20%20%20%20return%20tmp%20%20%20%20%20%20%20%20%20%20%20%20%20%20%20%20%20%20%20%0A%20%20%20%20%0Aexternal_numbers%20%3D%20double%28external_numbers%29%20%0Aprint%28%27external_numbers%3A%27%2C%20external_numbers%29%20%20%23%20%5B20%2C40%2C60%5D%0Aprint%28%27%20%20%20%20%20%20%20%20%20%20%20saved%3A%27%2C%20saved%29%20%20%20%20%20%20%20%20%20%20%20%20%20%23%20%5B10%2C20%2C30%5D%0A&origin=opt-frontend.js&cumulative=false&heapPrimitives=false&textReferences=false&py=3&rawInputLstJSON=%5B%5D&curInstr=0&codeDivWidth=350&codeDivHeight=400\"\n",
       "            frameborder=\"0\"\n",
       "            allowfullscreen\n",
       "            \n",
       "        ></iframe>\n",
       "        "
      ],
      "text/plain": [
       "<IPython.lib.display.IFrame at 0x7db1fc8948b0>"
      ]
     },
     "metadata": {},
     "output_type": "display_data"
    }
   ],
   "source": [
    "%%tutor\n",
    "\n",
    "external_numbers = [10,20,30]\n",
    "saved = external_numbers   # we preserve a pointer\n",
    "\n",
    "def double(lst):\n",
    "    tmp = []\n",
    "    for element in lst:\n",
    "        tmp.append(element * 2)                                   \n",
    "    return tmp                   \n",
    "    \n",
    "external_numbers = double(external_numbers) \n",
    "print('external_numbers:', external_numbers)  # [20,40,60]\n",
    "print('           saved:', saved)             # [10,20,30]"
   ]
  },
  {
   "cell_type": "markdown",
   "id": "3220a2ee",
   "metadata": {},
   "source": [
    "### Doubling success!\n",
    "\n",
    "Let's finally see the right way to do it: we need to consider we want to refer to original cells, so to do it properly we need to access them _by index_, and we will need a `for ... in range(...)`."
   ]
  },
  {
   "cell_type": "code",
   "execution_count": null,
   "id": "5fafcf66",
   "metadata": {},
   "outputs": [
    {
     "data": {
      "text/html": [
       "\n",
       "        <iframe\n",
       "            width=\"100%\"\n",
       "            height=\"500\"\n",
       "            src=\"https://pythontutor.com/iframe-embed.html#code=%0Aexternal_numbers%20%3D%20%5B1%2C%202%2C%203%2C%204%2C%205%5D%0A%0Adef%20double%28lst%29%3A%0A%20%20%20%20for%20i%20in%20range%28len%28lst%29%29%3A%0A%20%20%20%20%20%20%20%20lst%5Bi%5D%20%3D%20lst%5Bi%5D%20%2A%202%0A%0Adouble%28external_numbers%29%0A&origin=opt-frontend.js&cumulative=false&heapPrimitives=false&textReferences=false&py=3&rawInputLstJSON=%5B%5D&curInstr=0&codeDivWidth=350&codeDivHeight=400\"\n",
       "            frameborder=\"0\"\n",
       "            allowfullscreen\n",
       "            \n",
       "        ></iframe>\n",
       "        "
      ],
      "text/plain": [
       "<IPython.lib.display.IFrame at 0x7db1fc897bb0>"
      ]
     },
     "metadata": {},
     "output_type": "display_data"
    }
   ],
   "source": [
    "%%tutor\n",
    "\n",
    "external_numbers = [1, 2, 3, 4, 5]\n",
    "\n",
    "def double(lst):\n",
    "    for i in range(len(lst)):\n",
    "        lst[i] = lst[i] * 2\n",
    "\n",
    "double(external_numbers)"
   ]
  },
  {
   "cell_type": "markdown",
   "id": "5354ecca",
   "metadata": {},
   "source": [
    "Notice that:\n",
    "\n",
    "- when the function call frame is created, we see an arrow to the original data\n",
    "- the `external_list` actually changed, without ever reassigning it (not even outside)\n",
    "- we didn't reassign `lst = ` inside the function body, as the [IV COMMANDMENT](https://en.softpython.org/commandments.html#IV-COMMANDMENT) prescribes not to reassign parameters\n",
    "- we didn't use `return`, as the function text told us nothing about returning\n",
    "- we didn't referred to `external_list` inside the function body: doing so would have defeated the purpose of functions, which is to isolate them from outside world."
   ]
  },
  {
   "cell_type": "markdown",
   "id": "73e38e02",
   "metadata": {},
   "source": [
    "## Modifying parameters - questions\n",
    "\n",
    "For each of the following expressions, try guessing the result it produces (or if it gives error).\n",
    "Then run them yourself to see if you were right!"
   ]
  },
  {
   "cell_type": "code",
   "execution_count": null,
   "id": "ddc0dc49",
   "metadata": {
    "tags": [
     "hide-ouput"
    ]
   },
   "outputs": [
    {
     "name": "stdout",
     "output_type": "stream",
     "text": [
      "8\n"
     ]
    }
   ],
   "source": [
    "def zam(bal):\n",
    "    bal = 4\n",
    "x = 8\n",
    "zam(x)\n",
    "print(x)"
   ]
  },
  {
   "cell_type": "code",
   "execution_count": null,
   "id": "87ffa1a3",
   "metadata": {
    "tags": [
     "hide-ouput"
    ]
   },
   "outputs": [
    {
     "name": "stdout",
     "output_type": "stream",
     "text": [
      "8\n"
     ]
    }
   ],
   "source": [
    "def zom(y):\n",
    "    y = 4\n",
    "y = 8\n",
    "zom(y)\n",
    "print(y)"
   ]
  },
  {
   "cell_type": "code",
   "execution_count": null,
   "id": "8a0a3041",
   "metadata": {
    "tags": [
     "hide-ouput",
     "raises-exception"
    ]
   },
   "outputs": [
    {
     "ename": "NameError",
     "evalue": "name 'la' is not defined",
     "output_type": "error",
     "traceback": [
      "\u001b[0;31m---------------------------------------------------------------------------\u001b[0m",
      "\u001b[0;31mNameError\u001b[0m                                 Traceback (most recent call last)",
      "Cell \u001b[0;32mIn[41], line 3\u001b[0m\n\u001b[1;32m      1\u001b[0m \u001b[38;5;28;01mdef\u001b[39;00m \u001b[38;5;21mper\u001b[39m(la):\n\u001b[1;32m      2\u001b[0m     la\u001b[38;5;241m.\u001b[39mappend(\u001b[38;5;124m\"\u001b[39m\u001b[38;5;124msi\u001b[39m\u001b[38;5;124m\"\u001b[39m)\n\u001b[0;32m----> 3\u001b[0m per(\u001b[43mla\u001b[49m)\n\u001b[1;32m      4\u001b[0m \u001b[38;5;28mprint\u001b[39m(la)\n",
      "\u001b[0;31mNameError\u001b[0m: name 'la' is not defined"
     ]
    }
   ],
   "source": [
    "def per(la):\n",
    "    la.append(\"si\")\n",
    "per(la)\n",
    "print(la)"
   ]
  },
  {
   "cell_type": "code",
   "execution_count": null,
   "id": "84ad2073",
   "metadata": {
    "tags": [
     "hide-ouput"
    ]
   },
   "outputs": [
    {
     "name": "stdout",
     "output_type": "stream",
     "text": [
      "['a', 'b', 'c', 'd']\n"
     ]
    }
   ],
   "source": [
    "def zeb(lst):\n",
    "    lst.append(\"d\")\n",
    "la = [\"a\", \"b\", \"c\"]\n",
    "zeb(la)\n",
    "print(la)"
   ]
  },
  {
   "cell_type": "code",
   "execution_count": null,
   "id": "69b5c52d",
   "metadata": {
    "tags": [
     "hide-ouput"
    ]
   },
   "outputs": [
    {
     "name": "stdout",
     "output_type": "stream",
     "text": [
      "['d', 'a', 'm', 'n']\n"
     ]
    }
   ],
   "source": [
    "def beware(la):\n",
    "    la = [\"?\", \"?\"]\n",
    "lb = [\"d\", \"a\", \"m\", \"n\"]\n",
    "beware(lb)\n",
    "print(lb)"
   ]
  },
  {
   "cell_type": "code",
   "execution_count": null,
   "id": "3eaeea4a",
   "metadata": {
    "tags": [
     "hide-ouput"
    ]
   },
   "outputs": [
    {
     "name": "stdout",
     "output_type": "stream",
     "text": [
      "gnappa\n"
     ]
    }
   ],
   "source": [
    "def umpa(string):\n",
    "    string = \"lompa\"\n",
    "word = \"gnappa\"\n",
    "umpa(word)\n",
    "print(word)"
   ]
  },
  {
   "cell_type": "code",
   "execution_count": null,
   "id": "06dec728",
   "metadata": {
    "tags": [
     "hide-ouput"
    ]
   },
   "outputs": [
    {
     "name": "stdout",
     "output_type": "stream",
     "text": [
      "{'rackets': 4, 'balls': 7, 'sneakers': 2}\n"
     ]
    }
   ],
   "source": [
    "def sporty(diz):\n",
    "    diz[\"sneakers\"] = 2\n",
    "cabinet = {\"rackets\": 4, \"balls\": 7}\n",
    "sporty(cabinet)\n",
    "print(cabinet)"
   ]
  },
  {
   "cell_type": "code",
   "execution_count": null,
   "id": "d003c62f",
   "metadata": {
    "tags": [
     "hide-ouput"
    ]
   },
   "outputs": [
    {
     "name": "stdout",
     "output_type": "stream",
     "text": [
      "None\n",
      "[1, 2, 3]\n"
     ]
    }
   ],
   "source": [
    "def numma(lst):\n",
    "    lst + [4,5]\n",
    "la = [1,2,3]    \n",
    "print(numma(la))\n",
    "print(la)"
   ]
  },
  {
   "cell_type": "code",
   "execution_count": null,
   "id": "07d86ccc",
   "metadata": {
    "tags": [
     "hide-ouput"
    ]
   },
   "outputs": [
    {
     "name": "stdout",
     "output_type": "stream",
     "text": [
      "[1, 2, 3, 4, 5]\n",
      "[1, 2, 3]\n"
     ]
    }
   ],
   "source": [
    "def jar(lst):\n",
    "    return lst + [4,5]\n",
    "lb = [1,2,3]    \n",
    "print(jar(lb))\n",
    "print(lb)"
   ]
  },
  {
   "cell_type": "markdown",
   "id": "6dad7921",
   "metadata": {},
   "source": [
    "## Creating new variables is cheap, do it!"
   ]
  },
  {
   "cell_type": "markdown",
   "id": "d18242b8",
   "metadata": {},
   "source": [
    "You might be tempted to modify one of the function arguments in a function's body, in order to avoid typing an extra line of code to assign a new variable. Do that only if your function is actually *supposed* to modify this input! You're saving very little time and could create yourself a lot of confusion further down the line."
   ]
  },
  {
   "cell_type": "markdown",
   "id": "f6e73857",
   "metadata": {},
   "source": [
    "```{admonition} Question\n",
    "Someone could also make the argument that they don't create new variables to save memory.\n",
    "Why is that not very relevant inside functions?\n",
    "```"
   ]
  },
  {
   "cell_type": "markdown",
   "id": "30e5a221",
   "metadata": {},
   "source": [
    "```{admonition} Answer\n",
    ":class: tip dropdown\n",
    "\n",
    "As long as they're not returned, the variables defined inside the function will get discarded once the function has finished executing.\n",
    "```"
   ]
  },
  {
   "cell_type": "markdown",
   "id": "2e4bdc05",
   "metadata": {},
   "source": [
    "So, for instance, this is fine:"
   ]
  },
  {
   "cell_type": "code",
   "execution_count": null,
   "id": "cea749fe",
   "metadata": {},
   "outputs": [],
   "source": [
    "def append_42_to_list(li):\n",
    "    li.append(42)"
   ]
  },
  {
   "cell_type": "markdown",
   "id": "8b3b4bd3",
   "metadata": {},
   "source": [
    "While this is not:"
   ]
  },
  {
   "cell_type": "code",
   "execution_count": null,
   "id": "820fd212",
   "metadata": {},
   "outputs": [
    {
     "name": "stdout",
     "output_type": "stream",
     "text": [
      "oo\n"
     ]
    }
   ],
   "source": [
    "def print_last_char_twice(my_str):\n",
    "    my_str = my_str[-1]\n",
    "    my_str = my_str * 2\n",
    "    print(my_str)\n",
    "    \n",
    "s = 'no'\n",
    "print_last_char_twice(s)"
   ]
  },
  {
   "cell_type": "markdown",
   "id": "94f9b558",
   "metadata": {},
   "source": [
    "So in this case, go for something like:"
   ]
  },
  {
   "cell_type": "code",
   "execution_count": null,
   "id": "77c6fec5",
   "metadata": {},
   "outputs": [],
   "source": [
    "def print_last_char_twice(my_str):\n",
    "    last_char = my_str[-1]\n",
    "    result = last_char * 2\n",
    "    print(result)"
   ]
  },
  {
   "cell_type": "markdown",
   "id": "6504d9c7",
   "metadata": {},
   "source": [
    "Let's say you do not remember if a string is mutable or not: with the second option you can safely say that the function does not modify the input string.\n",
    "And this is much easier to read!"
   ]
  },
  {
   "cell_type": "markdown",
   "id": "f26ec7a5",
   "metadata": {},
   "source": [
    "## Optional arguments"
   ]
  },
  {
   "cell_type": "markdown",
   "id": "1f97bdfc",
   "metadata": {},
   "source": [
    "Until now, we've only seen functions with so-called *positional* arguments.\n",
    "As we've seen earlier, the value of every positional argument must be specified when calling a function.\n",
    "There is another kind of arguments which are optional: they're known as *keyword arguments*, or *`kwargs`*, in short.\n",
    "This allows you for instance to define the following function `multiply`, that by default, doesn't modify the input list:"
   ]
  },
  {
   "cell_type": "code",
   "execution_count": null,
   "id": "45264c3d",
   "metadata": {},
   "outputs": [],
   "source": [
    "def multiply(lst, by=1):\n",
    "    for i in range(len(lst)):\n",
    "        lst[i] = lst[i] * by"
   ]
  },
  {
   "cell_type": "markdown",
   "id": "e1df4e93",
   "metadata": {},
   "source": [
    "Since we have `by=1` in the function definition, even if we do not specify a value for this argument when calling the function, everything goes fine, as it does have a default value:"
   ]
  },
  {
   "cell_type": "code",
   "execution_count": null,
   "id": "f32034cf",
   "metadata": {},
   "outputs": [
    {
     "data": {
      "text/plain": [
       "[1, 2, 3]"
      ]
     },
     "execution_count": null,
     "metadata": {},
     "output_type": "execute_result"
    }
   ],
   "source": [
    "some_list = [1, 2, 3]\n",
    "multiply(some_list)\n",
    "some_list"
   ]
  },
  {
   "cell_type": "markdown",
   "id": "788b3082",
   "metadata": {},
   "source": [
    "Importantly, when you want to pass a value to these arguments, they must be placed *after* the positional arguments.\n",
    "Else, you'll get an error:"
   ]
  },
  {
   "cell_type": "code",
   "execution_count": null,
   "id": "174ba557",
   "metadata": {
    "tags": [
     "raises-exception"
    ]
   },
   "outputs": [
    {
     "ename": "SyntaxError",
     "evalue": "positional argument follows keyword argument (270228614.py, line 1)",
     "output_type": "error",
     "traceback": [
      "\u001b[0;36m  Cell \u001b[0;32mIn[53], line 1\u001b[0;36m\u001b[0m\n\u001b[0;31m    multiply(by=2, [1, 2])\u001b[0m\n\u001b[0m                         ^\u001b[0m\n\u001b[0;31mSyntaxError\u001b[0m\u001b[0;31m:\u001b[0m positional argument follows keyword argument\n"
     ]
    }
   ],
   "source": [
    "multiply(by=2, [1, 2])"
   ]
  },
  {
   "cell_type": "markdown",
   "id": "f159a225",
   "metadata": {},
   "source": [
    "```{important}\n",
    "Basically, positional arguments are like old people on the bus: nobody's allowed to take their usual seat.\n",
    "```\n",
    "\n",
    "Now, there's a good reason we're seeing keyword arguments after the section on mutable values.\n",
    "There is a very common pitfall in Python that you should be aware of.\n",
    "Let's imagine we want to define a function `concat` that concatenates two input lists, with the following requirements:\n",
    "\n",
    "- by default, it should return a copy of the first list,\n",
    "- otherwise, the output list should first have the values of the second list, followed by those of the first list,\n",
    "- the first list should never be mutated.\n",
    "\n",
    "One possible implementation would be:"
   ]
  },
  {
   "cell_type": "code",
   "execution_count": null,
   "id": "5fd3c4e3",
   "metadata": {},
   "outputs": [
    {
     "data": {
      "text/html": [
       "\n",
       "        <iframe\n",
       "            width=\"100%\"\n",
       "            height=\"500\"\n",
       "            src=\"https://pythontutor.com/iframe-embed.html#code=%0Adef%20concat%28lst%2C%20other%3D%5B%5D%29%3A%0A%20%20%20%20other.extend%28lst%29%0A%20%20%20%20return%20other%0A%0Ainput_list%20%3D%20%5B1%2C%202%2C%203%5D%0Aprint%28concat%28input_list%29%29%0Aprint%28concat%28input_list%29%29%0A&origin=opt-frontend.js&cumulative=false&heapPrimitives=false&textReferences=false&py=3&rawInputLstJSON=%5B%5D&curInstr=0&codeDivWidth=350&codeDivHeight=400\"\n",
       "            frameborder=\"0\"\n",
       "            allowfullscreen\n",
       "            \n",
       "        ></iframe>\n",
       "        "
      ],
      "text/plain": [
       "<IPython.lib.display.IFrame at 0x7db1fc895300>"
      ]
     },
     "metadata": {},
     "output_type": "display_data"
    }
   ],
   "source": [
    "%%tutor\n",
    "\n",
    "def concat(lst, other=[]):\n",
    "    other.extend(lst)\n",
    "    return other\n",
    "\n",
    "input_list = [1, 2, 3]\n",
    "print(concat(input_list))\n",
    "print(concat(input_list))"
   ]
  },
  {
   "cell_type": "markdown",
   "id": "d34cf88b",
   "metadata": {},
   "source": [
    "```{important}\n",
    "What you've seen with Python Tutor happens because a keyword argument is given its default value at the moment the function is defined.\n",
    "So keyword arguments should not be assigned mutable values like lists or dictionaries, because they could actually get mutated on each fuction call!\n",
    "```\n",
    "\n",
    "A very common pattern you can resort to when you actually need to have a default value with a mutable type is as follows:"
   ]
  },
  {
   "cell_type": "code",
   "execution_count": null,
   "id": "7b5cfdb0",
   "metadata": {},
   "outputs": [
    {
     "data": {
      "text/html": [
       "\n",
       "        <iframe\n",
       "            width=\"100%\"\n",
       "            height=\"500\"\n",
       "            src=\"https://pythontutor.com/iframe-embed.html#code=%0Adef%20concat%28lst%2C%20other%3DNone%29%3A%0A%20%20%20%20if%20other%20is%20None%3A%0A%20%20%20%20%20%20%20%20other%20%3D%20%5B%5D%0A%20%20%20%20other.extend%28lst%29%0A%20%20%20%20return%20other%0A%0Ainput_list%20%3D%20%5B1%2C%202%2C%203%5D%0Aprint%28concat%28input_list%29%29%0Aprint%28concat%28input_list%29%29%0A&origin=opt-frontend.js&cumulative=false&heapPrimitives=false&textReferences=false&py=3&rawInputLstJSON=%5B%5D&curInstr=0&codeDivWidth=350&codeDivHeight=400\"\n",
       "            frameborder=\"0\"\n",
       "            allowfullscreen\n",
       "            \n",
       "        ></iframe>\n",
       "        "
      ],
      "text/plain": [
       "<IPython.lib.display.IFrame at 0x7db1fc8245e0>"
      ]
     },
     "metadata": {},
     "output_type": "display_data"
    }
   ],
   "source": [
    "%%tutor\n",
    "\n",
    "def concat(lst, other=None):\n",
    "    if other is None:\n",
    "        other = []\n",
    "    other.extend(lst)\n",
    "    return other\n",
    "\n",
    "input_list = [1, 2, 3]\n",
    "print(concat(input_list))\n",
    "print(concat(input_list))"
   ]
  },
  {
   "cell_type": "markdown",
   "id": "cf21fbed",
   "metadata": {},
   "source": [
    "`None` is just used as a placeholder here -- it could be any other immutable value, actually --, so that `other` gets initialised as the empty list *on each function call*, and not only upon function definition!"
   ]
  },
  {
   "cell_type": "markdown",
   "id": "6d0c9dac",
   "metadata": {},
   "source": [
    "## Exercises - Changing music\n",
    "\n",
    "It's time to better understand what we're doing when we mess with variables and function calls.\n",
    "\n",
    "An uncle of ours gave us a dusty `album` of songs (for some reason tens of years have passed since he last turned on the radio)"
   ]
  },
  {
   "cell_type": "code",
   "execution_count": null,
   "id": "ff44347e",
   "metadata": {},
   "outputs": [],
   "source": [
    "album = [\n",
    "    \"Caterina Caselli - Cento giorni\",\n",
    "    \"Delirium - Jesahel\",\n",
    "    \"Jan Hammer - Crockett's Theme\",\n",
    "    \"Sonata Arctica - White Pearl, Black Oceans\",\n",
    "    \"Lucio Dalla - 4 marzo 1943.mp3\",\n",
    "    \"The Wellermen - Wellerman\",    \n",
    "    \"Manu Chao - Por el Suelo\",\n",
    "    \"Intillimani - El Pueblo Unido\"\n",
    "]"
   ]
  },
  {
   "cell_type": "markdown",
   "id": "7e4aa901",
   "metadata": {},
   "source": [
    "Songs are reported with the group, a dash `-` and finally the name. Strong with our new knowledge about functions, we decide to put in practice modern software development practices to analyze these mysterious relics of the past."
   ]
  },
  {
   "cell_type": "markdown",
   "id": "64e0b3d9",
   "metadata": {},
   "source": [
    "In the following you will find several exercises which will ask you to develop functions: making something which _seems_ to work is often easy, **the true challenge is following exactly what is asked in function text**: take particular care about capitalized words, like PRINT, MODIFY, RETURN, and to the desired outputs, trying to understand to which category the various functions belong to."
   ]
  },
  {
   "cell_type": "markdown",
   "id": "91915d3c",
   "metadata": {},
   "source": [
    "Exercises must all be solved following this scheme:\n",
    "\n",
    "\n",
    "```python\n",
    "album = ...\n",
    "\n",
    "def func(songs):\n",
    "    # do something with songs, NOT with album\n",
    "    # ....    \n",
    "    \n",
    "func(album)  # calls to test, external to function body\n",
    "```"
   ]
  },
  {
   "cell_type": "markdown",
   "id": "3c597187",
   "metadata": {},
   "source": [
    "```{warning}\n",
    "**Do not write external variable names inside a function**\n",
    "  \n",
    "In particular, here:    \n",
    "   \n",
    "* **Do not** reassign `album =`\n",
    "* **Do not** call its methods `album.some_method()`\n",
    "    \n",
    "A function must be typically seen as an isolated world, which should interact with the outworld ONLY through the given parameters. By explicitly writing `album`, you would override such isolation bringing great misfortune.\n",
    "```"
   ]
  },
  {
   "cell_type": "markdown",
   "id": "815e1ee8",
   "metadata": {},
   "source": [
    "### Exercise - show\n",
    "\n",
    "Write a function `show` which, given a list `songs`, PRINTS the group justified to the right followed by a `:` and the song name\n",
    "\n",
    "**HINT**: to justify the text, use the string method `.rjust(16)`"
   ]
  },
  {
   "cell_type": "code",
   "execution_count": null,
   "id": "1a861a2c",
   "metadata": {},
   "outputs": [],
   "source": [
    "album = [\n",
    "    \"Caterina Caselli - Cento giorni\",\n",
    "    \"Delirium - Jesahel\",\n",
    "    \"Jan Hammer - Crockett's Theme\",\n",
    "    \"Sonata Arctica - White Pearl, Black Oceans\",\n",
    "    \"Lucio Dalla - 4 marzo 1943.mp3\",\n",
    "    \"The Wellermen - Wellerman\",    \n",
    "    \"Manu Chao - Por el Suelo\",\n",
    "    \"Intillimani - El Pueblo Unido\"\n",
    "]"
   ]
  },
  {
   "cell_type": "code",
   "execution_count": null,
   "id": "482fb9af",
   "metadata": {
    "tags": [
     "answer",
     "hide-cell"
    ]
   },
   "outputs": [],
   "source": [
    "def show(songs):\n",
    "    for song in songs:\n",
    "        parts = song.split(\" - \")\n",
    "        print(parts[0].rjust(16) + \":\" + \" \" + parts[1])"
   ]
  },
  {
   "cell_type": "code",
   "execution_count": null,
   "id": "62c82843",
   "metadata": {},
   "outputs": [
    {
     "name": "stdout",
     "output_type": "stream",
     "text": [
      "Caterina Caselli: Cento giorni\n",
      "        Delirium: Jesahel\n",
      "      Jan Hammer: Crockett's Theme\n",
      "  Sonata Arctica: White Pearl, Black Oceans\n",
      "     Lucio Dalla: 4 marzo 1943.mp3\n",
      "   The Wellermen: Wellerman\n",
      "       Manu Chao: Por el Suelo\n",
      "     Intillimani: El Pueblo Unido\n"
     ]
    },
    {
     "data": {
      "text/plain": [
       "True"
      ]
     },
     "execution_count": null,
     "metadata": {},
     "output_type": "execute_result"
    }
   ],
   "source": [
    "res = show(album)\n",
    "res is None"
   ]
  },
  {
   "cell_type": "markdown",
   "id": "2a6fed42",
   "metadata": {},
   "source": [
    "### Exercise - authors\n",
    "\n",
    "Write a function `authors` which given a list of `songs`, returns a new list with only the authors.\n",
    "\n",
    "```{hint}\n",
    "In `album` below, how are authors and titles separated?\n",
    "Using a keyword argument, try to account for the fact that you may want to reuse your function for input albums in which this separation is done with other characters.\n",
    "```"
   ]
  },
  {
   "cell_type": "code",
   "execution_count": null,
   "id": "42d632c6",
   "metadata": {},
   "outputs": [],
   "source": [
    "album = [\n",
    "    \"Caterina Caselli - Cento giorni\",\n",
    "    \"Delirium - Jesahel\",\n",
    "    \"Jan Hammer - Crockett's Theme\",\n",
    "    \"Sonata Arctica - White Pearl, Black Oceans\",\n",
    "    \"Lucio Dalla - 4 marzo 1943.mp3\",\n",
    "    \"The Wellermen - Wellerman\",    \n",
    "    \"Manu Chao - Por el Suelo\",\n",
    "    \"Intillimani - El Pueblo Unido\"\n",
    "]"
   ]
  },
  {
   "cell_type": "code",
   "execution_count": null,
   "id": "289d0d1d",
   "metadata": {
    "tags": [
     "answer",
     "hide-cell"
    ]
   },
   "outputs": [],
   "source": [
    "def authors(songs, split_by=\" - \"):\n",
    "    ret = []\n",
    "    for song in songs:\n",
    "        ret.append(song.split(split_by)[0])\n",
    "    return ret"
   ]
  },
  {
   "cell_type": "code",
   "execution_count": null,
   "id": "0d0d5d7e",
   "metadata": {},
   "outputs": [
    {
     "name": "stdout",
     "output_type": "stream",
     "text": [
      "['Caterina Caselli', 'Delirium', 'Jan Hammer', 'Sonata Arctica', 'Lucio Dalla', 'The Wellermen', 'Manu Chao', 'Intillimani']\n"
     ]
    },
    {
     "data": {
      "text/plain": [
       "['Caterina Caselli - Cento giorni',\n",
       " 'Delirium - Jesahel',\n",
       " \"Jan Hammer - Crockett's Theme\",\n",
       " 'Sonata Arctica - White Pearl, Black Oceans',\n",
       " 'Lucio Dalla - 4 marzo 1943.mp3',\n",
       " 'The Wellermen - Wellerman',\n",
       " 'Manu Chao - Por el Suelo',\n",
       " 'Intillimani - El Pueblo Unido']"
      ]
     },
     "execution_count": null,
     "metadata": {},
     "output_type": "execute_result"
    }
   ],
   "source": [
    "print(authors(album))\n",
    "album"
   ]
  },
  {
   "cell_type": "markdown",
   "id": "ccdf72e5",
   "metadata": {},
   "source": [
    "### Exercise - record\n",
    "\n",
    "Write a function `record` which, given two lists `songsA` and `songsB`, MODIFIES `songsA` overwriting it with the content of `songsB`. If `songsB` has less elements than `songsS`, fill the remaining spaces with `None`\n",
    "\n",
    "- **ASSUME** `songsB` has at most the same number of songs of `songsA`\n",
    "- **DO NOT** reassign `album` (so no `album =`)"
   ]
  },
  {
   "cell_type": "code",
   "execution_count": null,
   "id": "83a5da2e",
   "metadata": {},
   "outputs": [],
   "source": [
    "album = [\n",
    "    \"Caterina Caselli - Cento giorni\",\n",
    "    \"Delirium - Jesahel\",\n",
    "    \"Jan Hammer - Crockett's Theme\",\n",
    "    \"Sonata Arctica - White Pearl, Black Oceans\",\n",
    "    \"Lucio Dalla - 4 marzo 1943.mp3\",\n",
    "    \"The Wellermen - Wellerman\",\n",
    "    \"Manu Chao - Por el Suelo\",\n",
    "    \"Intillimani - El Pueblo Unido\",\n",
    "]"
   ]
  },
  {
   "cell_type": "code",
   "execution_count": null,
   "id": "181989d5",
   "metadata": {
    "tags": [
     "answer",
     "hide-cell"
    ]
   },
   "outputs": [],
   "source": [
    "def record(songA, songB):\n",
    "    for i in range(len(songB)):\n",
    "        songA[i] = songB[i]\n",
    "    i += 1\n",
    "    while i < len(songA):\n",
    "        songA[i] = None\n",
    "        i += 1"
   ]
  },
  {
   "cell_type": "code",
   "execution_count": null,
   "id": "d31bbf1a",
   "metadata": {},
   "outputs": [
    {
     "data": {
      "text/plain": [
       "[\"Toto Cotugno - L'Italiano vero\",\n",
       " 'Mia Martini - Minuetto',\n",
       " 'Al Bano- Nel sole',\n",
       " None,\n",
       " None,\n",
       " None,\n",
       " None,\n",
       " None]"
      ]
     },
     "execution_count": null,
     "metadata": {},
     "output_type": "execute_result"
    }
   ],
   "source": [
    "record(\n",
    "    album,\n",
    "    [\"Toto Cotugno - L'Italiano vero\", \"Mia Martini - Minuetto\", \"Al Bano- Nel sole\"],\n",
    ")\n",
    "album"
   ]
  },
  {
   "cell_type": "markdown",
   "id": "e3f50f7a",
   "metadata": {},
   "source": [
    "### Exercise - great\n",
    "\n",
    "Write a function `great` which, given a list of songs, MODIFIES the list by uppercasing all the characters, and then RETURNS it\n",
    "\n",
    "\n",
    "* **DO NOT** reassign `album` (no `album =`)"
   ]
  },
  {
   "cell_type": "code",
   "execution_count": null,
   "id": "31c2619c",
   "metadata": {},
   "outputs": [],
   "source": [
    "album = [\n",
    "    \"Caterina Caselli - Cento giorni\",\n",
    "    \"Delirium - Jesahel\",\n",
    "    \"Jan Hammer - Crockett's Theme\",\n",
    "    \"Sonata Arctica - White Pearl, Black Oceans\",\n",
    "    \"Lucio Dalla - 4 marzo 1943.mp3\",\n",
    "    \"The Wellermen - Wellerman\",\n",
    "    \"Manu Chao - Por el Suelo\",\n",
    "    \"Intillimani - El Pueblo Unido\",\n",
    "]"
   ]
  },
  {
   "cell_type": "code",
   "execution_count": null,
   "id": "74ec81f9",
   "metadata": {
    "tags": [
     "answer",
     "hide-cell"
    ]
   },
   "outputs": [],
   "source": [
    "def great(songs):\n",
    "    for i in range(len(songs)):\n",
    "        songs[i] = songs[i].upper()\n",
    "    return songs"
   ]
  },
  {
   "cell_type": "code",
   "execution_count": null,
   "id": "457e05a5",
   "metadata": {},
   "outputs": [
    {
     "name": "stdout",
     "output_type": "stream",
     "text": [
      "['CATERINA CASELLI - CENTO GIORNI', 'DELIRIUM - JESAHEL', \"JAN HAMMER - CROCKETT'S THEME\", 'SONATA ARCTICA - WHITE PEARL, BLACK OCEANS', 'LUCIO DALLA - 4 MARZO 1943.MP3', 'THE WELLERMEN - WELLERMAN', 'MANU CHAO - POR EL SUELO', 'INTILLIMANI - EL PUEBLO UNIDO']\n",
      "\n"
     ]
    },
    {
     "data": {
      "text/plain": [
       "['CATERINA CASELLI - CENTO GIORNI',\n",
       " 'DELIRIUM - JESAHEL',\n",
       " \"JAN HAMMER - CROCKETT'S THEME\",\n",
       " 'SONATA ARCTICA - WHITE PEARL, BLACK OCEANS',\n",
       " 'LUCIO DALLA - 4 MARZO 1943.MP3',\n",
       " 'THE WELLERMEN - WELLERMAN',\n",
       " 'MANU CHAO - POR EL SUELO',\n",
       " 'INTILLIMANI - EL PUEBLO UNIDO']"
      ]
     },
     "execution_count": null,
     "metadata": {},
     "output_type": "execute_result"
    }
   ],
   "source": [
    "print(great(album))\n",
    "print()\n",
    "album"
   ]
  },
  {
   "cell_type": "markdown",
   "id": "40251d43",
   "metadata": {},
   "source": [
    "### Exercise - shorten\n",
    "\n",
    "Write a function `shorten` which given a list of `songs` and a number `n`, MODIFIES `songs` so it has only `n` songs, then RETURNS  a NEW list with all the removed elements.\n",
    "\n",
    "- if `n` is too large, returns an empty list without modifying the album\n",
    "- **USE** a parameter name different from `album`\n",
    "- **DO NOT** reassign `album` (so no `album =`)"
   ]
  },
  {
   "cell_type": "code",
   "execution_count": null,
   "id": "48e4a830",
   "metadata": {},
   "outputs": [],
   "source": [
    "album = [\n",
    "    \"Caterina Caselli - Cento giorni\",\n",
    "    \"Delirium - Jesahel\",\n",
    "    \"Jan Hammer - Crockett's Theme\",\n",
    "    \"Sonata Arctica - White Pearl, Black Oceans\",\n",
    "    \"Lucio Dalla - 4 marzo 1943.mp3\",\n",
    "    \"The Wellermen - Wellerman\",\n",
    "    \"Manu Chao - Por el Suelo\",\n",
    "    \"Intillimani - El Pueblo Unido\",\n",
    "]"
   ]
  },
  {
   "cell_type": "code",
   "execution_count": null,
   "id": "56ff285a",
   "metadata": {
    "tags": [
     "answer",
     "hide-cell"
    ]
   },
   "outputs": [],
   "source": [
    "def shorten(songs, n):\n",
    "    ret = []\n",
    "    if n >= len(songs):\n",
    "        return ret\n",
    "    for i in range(n):\n",
    "        ret.append(songs.pop())\n",
    "    ret.reverse()\n",
    "    return ret"
   ]
  },
  {
   "cell_type": "code",
   "execution_count": null,
   "id": "9f182786",
   "metadata": {},
   "outputs": [
    {
     "name": "stdout",
     "output_type": "stream",
     "text": [
      "returned:\n",
      " ['The Wellermen - Wellerman', 'Manu Chao - Por el Suelo', 'Intillimani - El Pueblo Unido'] \n",
      "\n",
      "the album is:\n",
      " ['Caterina Caselli - Cento giorni', 'Delirium - Jesahel', \"Jan Hammer - Crockett's Theme\", 'Sonata Arctica - White Pearl, Black Oceans', 'Lucio Dalla - 4 marzo 1943.mp3'] \n",
      "\n",
      "returned:\n",
      " [] \n",
      "\n",
      "the album is:\n",
      " ['Caterina Caselli - Cento giorni', 'Delirium - Jesahel', \"Jan Hammer - Crockett's Theme\", 'Sonata Arctica - White Pearl, Black Oceans', 'Lucio Dalla - 4 marzo 1943.mp3'] \n",
      "\n"
     ]
    }
   ],
   "source": [
    "res1 = shorten(album, 3)\n",
    "print(\"returned:\\n\", res1, \"\\n\")\n",
    "print(\"the album is:\\n\", album, \"\\n\")\n",
    "res2 = shorten(album, 5)\n",
    "print(\"returned:\\n\", res2, \"\\n\")\n",
    "print(\"the album is:\\n\", album, \"\\n\")"
   ]
  },
  {
   "cell_type": "markdown",
   "id": "f2e99498",
   "metadata": {},
   "source": [
    "## Lambda functions"
   ]
  },
  {
   "cell_type": "markdown",
   "id": "82dd882c",
   "metadata": {},
   "source": [
    "Lambda functions are functions which:\n",
    "\n",
    "- have no name\n",
    "- are defined on one line, typically right where they are needed\n",
    "- their body is an expression, thus you need no `return`\n",
    "\n",
    "Let's create a lambda function which takes a number `x` and doubles it:"
   ]
  },
  {
   "cell_type": "code",
   "execution_count": null,
   "id": "5b295c9e",
   "metadata": {},
   "outputs": [
    {
     "data": {
      "text/plain": [
       "<function __main__.<lambda>(x)>"
      ]
     },
     "execution_count": null,
     "metadata": {},
     "output_type": "execute_result"
    }
   ],
   "source": [
    "lambda x: x*2"
   ]
  },
  {
   "cell_type": "markdown",
   "id": "1844efee",
   "metadata": {},
   "source": [
    "As you see, Python created a function object, which gets displayed by Jupyter. Unfortunately, at this point the function object got lost, because that is what happens to any object created by an expression that is not assigned to a variable.\n",
    "\n",
    "To be able to call the function, we will thus convenient to assign such function object to a variable, say `f`:"
   ]
  },
  {
   "cell_type": "code",
   "execution_count": null,
   "id": "df24ec13",
   "metadata": {},
   "outputs": [],
   "source": [
    "f = lambda x: x*2"
   ]
  },
  {
   "cell_type": "code",
   "execution_count": null,
   "id": "823b587f",
   "metadata": {},
   "outputs": [
    {
     "data": {
      "text/plain": [
       "<function __main__.<lambda>(x)>"
      ]
     },
     "execution_count": null,
     "metadata": {},
     "output_type": "execute_result"
    }
   ],
   "source": [
    "f"
   ]
  },
  {
   "cell_type": "markdown",
   "id": "a8d5ab47",
   "metadata": {},
   "source": [
    "Great, now we have a function we can call as many times as we want:"
   ]
  },
  {
   "cell_type": "code",
   "execution_count": null,
   "id": "7325e0e0",
   "metadata": {},
   "outputs": [
    {
     "data": {
      "text/plain": [
       "10"
      ]
     },
     "execution_count": null,
     "metadata": {},
     "output_type": "execute_result"
    }
   ],
   "source": [
    "f(5)"
   ]
  },
  {
   "cell_type": "code",
   "execution_count": null,
   "id": "00630a40",
   "metadata": {},
   "outputs": [
    {
     "data": {
      "text/plain": [
       "14"
      ]
     },
     "execution_count": null,
     "metadata": {},
     "output_type": "execute_result"
    }
   ],
   "source": [
    "f(7)"
   ]
  },
  {
   "cell_type": "markdown",
   "id": "08500625",
   "metadata": {},
   "source": [
    "So writing"
   ]
  },
  {
   "cell_type": "code",
   "execution_count": null,
   "id": "84da3e03",
   "metadata": {},
   "outputs": [],
   "source": [
    "def f(x):\n",
    "    return x*2"
   ]
  },
  {
   "cell_type": "markdown",
   "id": "362d3c94",
   "metadata": {},
   "source": [
    "or "
   ]
  },
  {
   "cell_type": "code",
   "execution_count": null,
   "id": "0910107e",
   "metadata": {},
   "outputs": [],
   "source": [
    "f = lambda x: x*2"
   ]
  },
  {
   "cell_type": "markdown",
   "id": "358ce528",
   "metadata": {},
   "source": [
    "are completely equivalent forms, the main difference being with `def` we can write functions with bodies on multiple lines. Lambdas may appear limited, so why should we use them? Sometimes they allow for very concise code. For example, imagine you have a list of tuples holding animals and their lifespan: "
   ]
  },
  {
   "cell_type": "code",
   "execution_count": null,
   "id": "f8d6a8ff",
   "metadata": {},
   "outputs": [],
   "source": [
    "animals = [(\"dog\", 12), (\"cat\", 14), (\"pelican\", 30), (\"eagle\", 25), (\"squirrel\", 6)]"
   ]
  },
  {
   "cell_type": "markdown",
   "id": "3658313e",
   "metadata": {},
   "source": [
    "If you want to sort them by lifespan, you can try the `.sort` method but it will not work:"
   ]
  },
  {
   "cell_type": "code",
   "execution_count": null,
   "id": "2d6f3284",
   "metadata": {},
   "outputs": [],
   "source": [
    "animals.sort()"
   ]
  },
  {
   "cell_type": "code",
   "execution_count": null,
   "id": "ec0fc3b9",
   "metadata": {},
   "outputs": [
    {
     "data": {
      "text/plain": [
       "[('cat', 14), ('dog', 12), ('eagle', 25), ('pelican', 30), ('squirrel', 6)]"
      ]
     },
     "execution_count": null,
     "metadata": {},
     "output_type": "execute_result"
    }
   ],
   "source": [
    "animals"
   ]
  },
  {
   "cell_type": "markdown",
   "id": "d2abad7b",
   "metadata": {},
   "source": [
    "Clearly, this is not what we wanted. To get proper ordering, we need to tell Python that when it considers a tuple for comparison, it should extract the lifespan number. To do so, Python provides us with `key` parameter, to which we must pass a function that takes as argument the sequence element under consideration (in this case a tuple) and returns a transformation of it which Python will use to perform the comparisons - in this case we want the life expectancy at the 1-th position in the tuple:"
   ]
  },
  {
   "cell_type": "code",
   "execution_count": null,
   "id": "7e55c766",
   "metadata": {},
   "outputs": [],
   "source": [
    "animals.sort(key=lambda t: t[1])"
   ]
  },
  {
   "cell_type": "code",
   "execution_count": null,
   "id": "436211a9",
   "metadata": {},
   "outputs": [
    {
     "data": {
      "text/plain": [
       "[('squirrel', 6), ('dog', 12), ('cat', 14), ('eagle', 25), ('pelican', 30)]"
      ]
     },
     "execution_count": null,
     "metadata": {},
     "output_type": "execute_result"
    }
   ],
   "source": [
    "animals"
   ]
  },
  {
   "cell_type": "markdown",
   "id": "6268ff87",
   "metadata": {},
   "source": [
    "Now we got the ordering we wanted. We could have written the thing as "
   ]
  },
  {
   "cell_type": "code",
   "execution_count": null,
   "id": "26105052",
   "metadata": {},
   "outputs": [
    {
     "data": {
      "text/plain": [
       "[('squirrel', 6), ('dog', 12), ('cat', 14), ('eagle', 25), ('pelican', 30)]"
      ]
     },
     "execution_count": null,
     "metadata": {},
     "output_type": "execute_result"
    }
   ],
   "source": [
    "def myf(t):\n",
    "    return t[1]\n",
    "\n",
    "animals.sort(key=myf)\n",
    "animals"
   ]
  },
  {
   "cell_type": "markdown",
   "id": "6fa5d4ed",
   "metadata": {},
   "source": [
    "but lambdas clearly save some keyboard typing.\n",
    "\n",
    "```{warning}\n",
    "Note, however, that except in these kinds of cases in which you need to pass a function once to some function or method, it is highly preferable to define functions with a `def`.\n",
    "```\n",
    "\n",
    "Notice lambdas can take multiple parameters:"
   ]
  },
  {
   "cell_type": "code",
   "execution_count": null,
   "id": "57cf3366",
   "metadata": {},
   "outputs": [
    {
     "data": {
      "text/plain": [
       "10"
      ]
     },
     "execution_count": null,
     "metadata": {},
     "output_type": "execute_result"
    }
   ],
   "source": [
    "mymul = lambda x,y: x * y\n",
    "\n",
    "mymul(2,5)"
   ]
  },
  {
   "cell_type": "markdown",
   "id": "4697ab7c",
   "metadata": {},
   "source": [
    "### Exercise - apply_borders \n",
    "\n",
    "✪ Write a function `apply_borders` which takes a function `f` as parameter and a sequence, and RETURN a tuple holding two elements:\n",
    "\n",
    "- first element is obtained by applying `f` to the first element of the sequence\n",
    "- second element is obtained by applying `f` to the last element of the sequence"
   ]
  },
  {
   "cell_type": "code",
   "execution_count": null,
   "id": "6d3f1f5b",
   "metadata": {
    "tags": [
     "answer",
     "hide-cell"
    ]
   },
   "outputs": [],
   "source": [
    "def apply_borders(f, seq):\n",
    "    return (f(seq[0]), f(seq[-1]))"
   ]
  },
  {
   "cell_type": "code",
   "execution_count": null,
   "id": "03ef2cf2",
   "metadata": {},
   "outputs": [
    {
     "name": "stdout",
     "output_type": "stream",
     "text": [
      "('THE', 'LONG')\n",
      "('t', 'l')\n"
     ]
    }
   ],
   "source": [
    "print(apply_borders(lambda x: x.upper(), [\"the\", \"river\", \"is\", \"very\", \"long\"]))\n",
    "print(apply_borders(lambda x: x[0], [\"the\", \"river\", \"is\", \"very\", \"long\"]))"
   ]
  },
  {
   "cell_type": "markdown",
   "id": "6a8bff17",
   "metadata": {},
   "source": [
    "### Exercise - process\n",
    "\n",
    "✪✪ Write a lambda expression to be passed as first parameter of the function `process` defined down here, so that a call to process generates a list as shown here:\n",
    "\n",
    "**NOTE**: `process` is already defined, you do not need to change it"
   ]
  },
  {
   "cell_type": "code",
   "execution_count": null,
   "id": "7ba02006",
   "metadata": {},
   "outputs": [],
   "source": [
    "def process(f, lista, listb):\n",
    "    orda = list(sorted(lista))\n",
    "    ordb = list(sorted(listb))\n",
    "    ret = []\n",
    "    for i in range(len(lista)):\n",
    "        ret.append(f(orda[i], ordb[i]))\n",
    "    return ret    "
   ]
  },
  {
   "cell_type": "code",
   "execution_count": null,
   "id": "cafe7032",
   "metadata": {
    "tags": [
     "answer",
     "hide-cell"
    ]
   },
   "outputs": [],
   "source": [
    "f = lambda x,y: x.upper() + y"
   ]
  },
  {
   "cell_type": "code",
   "execution_count": null,
   "id": "05d880d6",
   "metadata": {},
   "outputs": [
    {
     "data": {
      "text/plain": [
       "['An', 'Bp', 'Cq', 'Dr', 'Es', 'Ft']"
      ]
     },
     "execution_count": null,
     "metadata": {},
     "output_type": "execute_result"
    }
   ],
   "source": [
    "process(f, [\"d\", \"b\", \"a\", \"c\", \"e\", \"f\"], [\"q\", \"s\", \"p\", \"t\", \"r\", \"n\"])"
   ]
  }
 ],
 "metadata": {
  "celltoolbar": "Edit Metadata",
  "kernelspec": {
   "display_name": "Python 3",
   "language": "python",
   "name": "python3"
  },
  "language_info": {
   "codemirror_mode": {
    "name": "ipython",
    "version": 3
   },
   "file_extension": ".py",
   "mimetype": "text/x-python",
   "name": "python",
   "nbconvert_exporter": "python",
   "pygments_lexer": "ipython3"
  },
  "toc": {
   "base_numbering": 1,
   "nav_menu": {},
   "number_sections": false,
   "sideBar": true,
   "skip_h1_title": false,
   "title_cell": "Table of Contents",
   "title_sidebar": "Contents",
   "toc_cell": false,
   "toc_position": {},
   "toc_section_display": true,
   "toc_window_display": true
  }
 },
 "nbformat": 4,
 "nbformat_minor": 5
}
