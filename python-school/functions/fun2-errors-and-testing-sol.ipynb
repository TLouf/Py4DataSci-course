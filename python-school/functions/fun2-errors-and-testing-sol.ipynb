{
 "cells": [
  {
   "cell_type": "markdown",
   "metadata": {},
   "source": [
    "# Error handling and testing solutions"
   ]
  },
  {
   "cell_type": "markdown",
   "metadata": {},
   "source": [
    "## Introduction\n",
    "\n",
    "\n",
    "In this notebook we will try to understand what our program should do when it encounters unforeseen situations, and how to test the code we write.\n",
    "\n",
    "For some strange reason, many people believe that computer programs do not need much error handling nor testing. Just to make a simple comparison, would you ever drive a car that did not undergo scrupolous checks? We wouldn't."
   ]
  },
  {
   "cell_type": "markdown",
   "metadata": {
    "colab_type": "text",
    "id": "2uM_3S83D9p9"
   },
   "source": [
    "\n",
    "## Unforeseen situations\n",
    "\n",
    "It is evening, there is to party for a birthday and they asked you to make a pie. You need the following steps:\n",
    "\n",
    "\n",
    "1. take milk\n",
    "2. take sugar\n",
    "3. take flour\n",
    "4. mix\n",
    "5. heat in the oven\n",
    "\n",
    "You take the milk, the sugar, but then you discover there is no flour. It is evening, and there aren't open shops.\n",
    "Obviously, it makes no sense to proceed to point 4 with the mixture, and you have to give up on the pie, telling the guest of honor the problem. You can only hope she/he decides for some alternative."
   ]
  },
  {
   "cell_type": "markdown",
   "metadata": {
    "colab_type": "text",
    "id": "zwNdlmJfHo55"
   },
   "source": [
    "\n",
    "Translating everything in Python terms, we can ask ourselves if during the function execution, when we find an unforeseen situation, is it possible to:\n",
    "\n",
    "1. **interrupt** the execution flow of the program\n",
    "2. **signal** to whoever called the function that a problem has occurred\n",
    "3. **allow to manage** the problem to whoever called the function\n",
    "\n",
    "The answer is yes, you can do it with the mechanism of **exceptions** (`Exception`)\n",
    "\n",
    "### make_problematic_pie\n",
    "\n",
    "Let's see how we can represent the above problem in Python. A basic version might be the following:"
   ]
  },
  {
   "cell_type": "code",
   "execution_count": 1,
   "metadata": {
    "colab": {
     "base_uri": "https://localhost:8080/",
     "height": 141
    },
    "colab_type": "code",
    "id": "Y5gUglTvJegE",
    "outputId": "52a9dd62-e852-45e6-fb61-75af719c4963"
   },
   "outputs": [
    {
     "name": "stdout",
     "output_type": "stream",
     "text": [
      "take milk\n",
      "take sugar\n",
      "Don't have enough flour !\n",
      "Mix\n",
      "Heat\n",
      "I made the pie!\n",
      "Party\n"
     ]
    }
   ],
   "source": [
    "def make_problematic_pie(milk, sugar, flour):\n",
    "    \"\"\" Suppose you need 1.3 kg for the milk, 0.2kg for the sugar and 1.0kg for the flour\n",
    "        \n",
    "        - takes as parameters the quantities we have in the sideboard\n",
    "    \"\"\"\n",
    "  \n",
    "    if milk > 1.3:\n",
    "        print(\"take milk\")\n",
    "    else:\n",
    "        print(\"Don't have enough milk !\")\n",
    "\n",
    "    if sugar > 0.2:\n",
    "        print(\"take sugar\")\n",
    "    else:\n",
    "        print(\"Don't have enough sugar!\")\n",
    "\n",
    "    if flour > 1.0:\n",
    "        print(\"take flour\")\n",
    "    else:\n",
    "        print(\"Don't have enough flour !\")\n",
    "\n",
    "    print(\"Mix\")\n",
    "    print(\"Heat\")\n",
    "    print(\"I made the pie!\")\n",
    "\n",
    "\n",
    "make_problematic_pie(5,1,0.3)  # not enough flour ...\n",
    "\n",
    "print(\"Party\")"
   ]
  },
  {
   "cell_type": "markdown",
   "metadata": {},
   "source": [
    "```{admonition} Question\n",
    "This above version has a serious problem. Can you spot it ??\n",
    "```"
   ]
  },
  {
   "cell_type": "markdown",
   "metadata": {
    "tags": [
     "answer"
    ]
   },
   "source": [
    "```{admonition} Answer\n",
    ":class: tip dropdown\n",
    "\n",
    "The program above is partying even when we do not have enough ingredients !\n",
    "```"
   ]
  },
  {
   "cell_type": "markdown",
   "metadata": {
    "colab_type": "text",
    "id": "27WwfcdGYBgU"
   },
   "source": [
    "## Check with the return\n",
    "\n",
    "**EXERCISE**: We could correct the problems of the above pie by adding `return` commands. \n",
    "Improve `make_pie` above by returning True if the pie is doable, and False otherwise, so that outside of the function, you may use the value returned to party or not\n",
    "\n",
    "```{warning}\n",
    "Do not move the `print(\"Party\")` inside the function.\n",
    "\n",
    "The exercise goal is keeping it outside, so to use the value returned by `make_pie` for deciding whether to party or not.\n",
    "```\n",
    "\n",
    "If you have any doubts on functions with return values, check [Chapter 6 of Think Python](http://greenteapress.com/thinkpython2/html/thinkpython2007.html)"
   ]
  },
  {
   "cell_type": "code",
   "execution_count": 2,
   "metadata": {
    "colab": {},
    "colab_type": "code",
    "id": "nx_iIyXSZskA",
    "tags": [
     "hide-cell",
     "answer"
    ]
   },
   "outputs": [],
   "source": [
    "def make_pie(milk, sugar, flour):\n",
    "    \"\"\"  - suppose we need 1.3 kg for milk, 0.2kg for sugar and 1.0kg for flour\n",
    "        \n",
    "         - takes as parameters the quantities we have in the sideboard\n",
    "\n",
    "    \"\"\"    \n",
    "    if milk > 1.3:\n",
    "        print(\"take milk\")\n",
    "        # return True  # NO, it would finish right here\n",
    "    else:\n",
    "        print(\"Don't have enough milk !\")\n",
    "        return False\n",
    "      \n",
    "    if sugar > 0.2:\n",
    "        print(\"take sugar\")\n",
    "    else:\n",
    "        print(\"Don't have enouch sugar !\")\n",
    "        return False\n",
    "      \n",
    "    if flour > 1.0:\n",
    "        print(\"take flour\")\n",
    "    else:\n",
    "        print(\"Don't have enough flour !\")\n",
    "        return False\n",
    "  \n",
    "    print(\"Mix\")\n",
    "    print(\"Heat\")\n",
    "    print(\"I made the pie !\")\n",
    "    return True"
   ]
  },
  {
   "cell_type": "code",
   "execution_count": 3,
   "metadata": {},
   "outputs": [
    {
     "name": "stdout",
     "output_type": "stream",
     "text": [
      "take milk\n",
      "take sugar\n",
      "Don't have enough flour !\n",
      "No party !\n"
     ]
    }
   ],
   "source": [
    "made_pie = make_pie(5,1,0.3)\n",
    "\n",
    "if made_pie == True:\n",
    "    print(\"Party\")\n",
    "else:\n",
    "    print(\"No party !\")"
   ]
  },
  {
   "cell_type": "markdown",
   "metadata": {
    "colab_type": "text",
    "id": "DGmYOPOiVVSL"
   },
   "source": [
    "## Exceptions\n",
    "\n",
    "[Real Python - Python Exceptions: an Introduction](https://realpython.com/python-exceptions/)\n",
    "\n",
    "\n",
    "Using `return` we improved the previous function, but remains a problem: the responsability to understand whether or not the pie is properly made is given to the caller of the function, who has to take the returned value and decide upon that whether to party or not. A careless programmer might forget to do the check and party even with an ill-formed pie.\n",
    "\n",
    "So we ask ourselves: is it possible to stop the execution not just of the function, but of the whole program when we find an unforeseen situation?"
   ]
  },
  {
   "cell_type": "markdown",
   "metadata": {
    "colab_type": "text",
    "id": "PqIyLDxULTRE"
   },
   "source": [
    "To improve on our previous attempt, we can use the _exceptions_. To tell Python to **interrupt** the program execution in a given point, we can insert the instruction `raise` like this:\n",
    "\n",
    "```python\n",
    "raise Exception()\n",
    "```\n",
    "\n",
    "If we want, we can also write a message to help programmers (who could be ourselves ...) to understand the problem origin. In our case it could be a message like this:\n",
    "\n",
    "```python\n",
    "raise Exception(\"Don't have enough flour !\")\n",
    "```\n",
    "\n",
    "Note: in professional programs, the exception messages are intended for programmers, verbose, and tipically end up hidden in system logs. To final users you should only show short messages which are understanble by a non-technical public. At most, you can add an error code which the user might give to the technician for diagnosing the problem.\n",
    "\n",
    "**EXERCISE**: Try to rewrite the function above by substituting the rows containing `return` with `raise Exception()`:"
   ]
  },
  {
   "cell_type": "code",
   "execution_count": 4,
   "metadata": {
    "colab": {
     "base_uri": "https://localhost:8080/",
     "height": 402
    },
    "colab_type": "code",
    "id": "1LGEMpfVEMas",
    "outputId": "cae6f401-2557-4e29-d7ac-a1eaef976a7c",
    "tags": [
     "answer",
     "hide-cell"
    ]
   },
   "outputs": [],
   "source": [
    "def make_exceptional_pie(milk, sugar, flour):\n",
    "    \"\"\" - suppose we need 1.3 kg for milk, 0.2kg for sugar and 1.0kg for flour\n",
    "    \n",
    "        - takes as parameters the quantities we have in the sideboard\n",
    "            \n",
    "        - if there are missing ingredients, raises Exception\n",
    "        \n",
    "    \"\"\"\n",
    "    if milk > 1.3:\n",
    "        print(\"take milk\")\n",
    "    else:\n",
    "        raise Exception(\"Don't have enough milk !\")\n",
    "    if sugar > 0.2:\n",
    "        print(\"take sugar\")\n",
    "    else:\n",
    "        raise Exception(\"Don't have enough sugar!\")\n",
    "    if flour > 1.0:\n",
    "        print(\"take flour\")\n",
    "    else:\n",
    "        raise Exception(\"Don't have enough flour!\")\n",
    "    print(\"Mix\")\n",
    "    print(\"Heat\")\n",
    "    print(\"I made the pie !\")"
   ]
  },
  {
   "cell_type": "code",
   "execution_count": 5,
   "metadata": {
    "tags": [
     "raises-exception"
    ]
   },
   "outputs": [
    {
     "name": "stdout",
     "output_type": "stream",
     "text": [
      "take milk\n",
      "take sugar\n"
     ]
    },
    {
     "ename": "Exception",
     "evalue": "Don't have enough flour!",
     "output_type": "error",
     "traceback": [
      "\u001b[0;31m---------------------------------------------------------------------------\u001b[0m",
      "\u001b[0;31mException\u001b[0m                                 Traceback (most recent call last)",
      "Cell \u001b[0;32mIn[5], line 1\u001b[0m\n\u001b[0;32m----> 1\u001b[0m \u001b[43mmake_exceptional_pie\u001b[49m\u001b[43m(\u001b[49m\u001b[38;5;241;43m5\u001b[39;49m\u001b[43m,\u001b[49m\u001b[38;5;241;43m1\u001b[39;49m\u001b[43m,\u001b[49m\u001b[38;5;241;43m0.3\u001b[39;49m\u001b[43m)\u001b[49m\n\u001b[1;32m      2\u001b[0m \u001b[38;5;28mprint\u001b[39m(\u001b[38;5;124m\"\u001b[39m\u001b[38;5;124mParty\u001b[39m\u001b[38;5;124m\"\u001b[39m)\n",
      "Cell \u001b[0;32mIn[4], line 20\u001b[0m, in \u001b[0;36mmake_exceptional_pie\u001b[0;34m(milk, sugar, flour)\u001b[0m\n\u001b[1;32m     18\u001b[0m     \u001b[38;5;28mprint\u001b[39m(\u001b[38;5;124m\"\u001b[39m\u001b[38;5;124mtake flour\u001b[39m\u001b[38;5;124m\"\u001b[39m)\n\u001b[1;32m     19\u001b[0m \u001b[38;5;28;01melse\u001b[39;00m:\n\u001b[0;32m---> 20\u001b[0m     \u001b[38;5;28;01mraise\u001b[39;00m \u001b[38;5;167;01mException\u001b[39;00m(\u001b[38;5;124m\"\u001b[39m\u001b[38;5;124mDon\u001b[39m\u001b[38;5;124m'\u001b[39m\u001b[38;5;124mt have enough flour!\u001b[39m\u001b[38;5;124m\"\u001b[39m)\n\u001b[1;32m     21\u001b[0m \u001b[38;5;28mprint\u001b[39m(\u001b[38;5;124m\"\u001b[39m\u001b[38;5;124mMix\u001b[39m\u001b[38;5;124m\"\u001b[39m)\n\u001b[1;32m     22\u001b[0m \u001b[38;5;28mprint\u001b[39m(\u001b[38;5;124m\"\u001b[39m\u001b[38;5;124mHeat\u001b[39m\u001b[38;5;124m\"\u001b[39m)\n",
      "\u001b[0;31mException\u001b[0m: Don't have enough flour!"
     ]
    }
   ],
   "source": [
    "make_exceptional_pie(5,1,0.3)\n",
    "print(\"Party\")"
   ]
  },
  {
   "cell_type": "markdown",
   "metadata": {
    "colab_type": "text",
    "id": "JifNcpcGMN1p"
   },
   "source": [
    "We see the program got interrupted before arriving to mix step (inside the function), and it didn't even arrived to party (which is outside the function). Let's try now to call the function with enough ingredients in the sideboard:\n"
   ]
  },
  {
   "cell_type": "code",
   "execution_count": 6,
   "metadata": {
    "colab": {
     "base_uri": "https://localhost:8080/",
     "height": 124
    },
    "colab_type": "code",
    "id": "nUSiXiguMCWb",
    "outputId": "4a37af25-226f-4331-ef57-7debb2664047"
   },
   "outputs": [
    {
     "name": "stdout",
     "output_type": "stream",
     "text": [
      "take milk\n",
      "take sugar\n",
      "take flour\n",
      "Mix\n",
      "Heat\n",
      "I made the pie !\n",
      "Party\n"
     ]
    }
   ],
   "source": [
    "make_exceptional_pie(5,1,20)\n",
    "print(\"Party\")"
   ]
  },
  {
   "cell_type": "markdown",
   "metadata": {},
   "source": [
    "### Manage exceptions\n",
    "\n",
    "Instead of brutally interrupting the program when problems are spotted, we might want to try some alternative (like go buying some ice cream). We could use some `try` `except` blocks like this:\n"
   ]
  },
  {
   "cell_type": "code",
   "execution_count": 7,
   "metadata": {},
   "outputs": [
    {
     "name": "stdout",
     "output_type": "stream",
     "text": [
      "take milk\n",
      "take sugar\n",
      "Can't make the pie, what about going out for an ice cream?\n"
     ]
    }
   ],
   "source": [
    "try: \n",
    "    make_exceptional_pie(5,1,0.3)\n",
    "    print(\"Party\")\n",
    "except:  \n",
    "    print(\"Can't make the pie, what about going out for an ice cream?\")   "
   ]
  },
  {
   "cell_type": "markdown",
   "metadata": {},
   "source": [
    "If you note, the execution jumped the `print(\"Party\")` but no exception has been printed, and the execution passed to the row right after the `except`\n",
    "\n",
    "### Particular exceptions\n",
    "\n",
    "Until know we used a generic `Exception`, but, if you will, you can use more specific exceptions to better signal the nature of the error. For example, when you implement a function, since checking the input values for correctness is very frequent, Python gives you an exception called `ValueError`. If you use it instead of `Exception`, you allow the function caller to intercept only that particular error type. \n",
    "\n",
    "If the function raises an error which is not intercepted in the catch, the program will halt."
   ]
  },
  {
   "cell_type": "code",
   "execution_count": 8,
   "metadata": {},
   "outputs": [
    {
     "name": "stdout",
     "output_type": "stream",
     "text": [
      "take milk\n",
      "take sugar\n",
      "\n",
      "There must be a problem with the ingredients!\n",
      "Let's try asking neighbors !\n",
      "We're lucky, they gave us some flour, let's try again!\n",
      "\n",
      "take milk\n",
      "take sugar\n",
      "take flour\n",
      "Mix\n",
      "Heat\n",
      "I made the pie !\n",
      "Party\n"
     ]
    }
   ],
   "source": [
    "def make_exceptional_pie_2(milk, sugar, flour):\n",
    "    \"\"\" - suppose we need 1.3 kg for milk, 0.2kg for sugar and 1.0kg for flour\n",
    "    \n",
    "        - takes as parameters the quantities we have in the sideboard\n",
    "            \n",
    "        - if there are missing ingredients, raises Exception\n",
    "    \"\"\"\n",
    "\n",
    "    if milk > 1.3:\n",
    "        print(\"take milk\")\n",
    "    else:\n",
    "        raise ValueError(\"Don't have enough milk !\")\n",
    "    if sugar > 0.2:\n",
    "        print(\"take sugar\")\n",
    "    else:\n",
    "        raise ValueError(\"Don't have enough sugar!\")\n",
    "    if flour > 1.0:\n",
    "        print(\"take flour\")\n",
    "    else:\n",
    "        raise ValueError(\"Don't have enough flour!\")\n",
    "    print(\"Mix\")\n",
    "    print(\"Heat\")\n",
    "    print(\"I made the pie !\")\n",
    "    \n",
    "try: \n",
    "    make_exceptional_pie_2(5,1,0.3)\n",
    "    print(\"Party\")\n",
    "except ValueError:     \n",
    "    print()\n",
    "    print(\"There must be a problem with the ingredients!\")   \n",
    "    print(\"Let's try asking neighbors !\")\n",
    "    print(\"We're lucky, they gave us some flour, let's try again!\")\n",
    "    print(\"\")\n",
    "    make_exceptional_pie_2(5,1,4) \n",
    "    print(\"Party\")\n",
    "except:  # manages all exceptions\n",
    "    print(\"Guys, something bad happened, don't know what to do. Better to go out and take an ice-cream !\")\n"
   ]
  },
  {
   "cell_type": "markdown",
   "metadata": {},
   "source": [
    "For more explanations about `try catch`, you can see [Real Python - Python Exceptions: an Introduction](https://realpython.com/python-exceptions/)"
   ]
  },
  {
   "cell_type": "markdown",
   "metadata": {
    "colab_type": "text",
    "id": "N4td4QXyapHU"
   },
   "source": [
    "## assert\n",
    "\n",
    "They asked you to develop a program to control a nuclear reactor. The reactor produces a lot of energy, but requires at least 20 meters of water to cool down, and your program needs to regulate the water level. Without enough water, you risk a meltdown. You do not feel exactly up to the job, and start sweating.\n",
    "\n",
    "Nervously, you write the code. You check and recheck the code - everything looks fine.\n",
    "\n",
    "On inauguration day, the reactor is turned on. Unexpectedly, the water level goes down to 5 meters, and an uncontrolled chain reaction occurs. Plutoniom fireworks follow. \n",
    "\n",
    "Could we have avoided all of this? We often believe everything is good but then for some reason we find variables with unexpected values. The wrong program described above might have been written like so:\n"
   ]
  },
  {
   "cell_type": "code",
   "execution_count": 9,
   "metadata": {
    "colab": {
     "base_uri": "https://localhost:8080/",
     "height": 53
    },
    "colab_type": "code",
    "id": "tma2Ru2Gc28E",
    "outputId": "7cc74a1e-81a6-4d71-8865-67210243f3e2"
   },
   "outputs": [
    {
     "name": "stdout",
     "output_type": "stream",
     "text": [
      "water level:  40\n",
      "WARNING: water level low!  5\n",
      "turn on nuclear reactor\n"
     ]
    }
   ],
   "source": [
    "# we need water to cool our reactor\n",
    "\n",
    "water_level = 40 #  seems ok\n",
    "\n",
    "print(\"water level: \", water_level)\n",
    "\n",
    "# a lot of code\n",
    "\n",
    "water_level = 5  # forgot somewhere this bad row !\n",
    "\n",
    "print(\"WARNING: water level low! \", water_level)\n",
    "\n",
    "# a lot of code\n",
    "\n",
    "# after a lot of code we might not know if there are the proper conditions so that everything works allright\n",
    "\n",
    "print(\"turn on nuclear reactor\")"
   ]
  },
  {
   "cell_type": "markdown",
   "metadata": {
    "colab_type": "text",
    "id": "jIZeJGG9dNgR"
   },
   "source": [
    "How could we improve it? Let's look at the `assert` command, which must be written by following it with a boolean condition.\n",
    "\n",
    "`assert True` does absolutely nothing:"
   ]
  },
  {
   "cell_type": "code",
   "execution_count": 10,
   "metadata": {
    "colab": {
     "base_uri": "https://localhost:8080/",
     "height": 53
    },
    "colab_type": "code",
    "id": "k7DN2SI4daLM",
    "outputId": "15dbb4e4-e9ec-4c5c-9c35-71cdd6f9ef36"
   },
   "outputs": [
    {
     "name": "stdout",
     "output_type": "stream",
     "text": [
      "before\n",
      "after\n"
     ]
    }
   ],
   "source": [
    "print(\"before\")\n",
    "assert True\n",
    "print(\"after\")"
   ]
  },
  {
   "cell_type": "markdown",
   "metadata": {
    "colab_type": "text",
    "id": "J8cZ3gbJdr60"
   },
   "source": [
    "Instead,  `assert False` completely blocks program execution, by launching an exception of type  `AssertionError` (Note how `\"after\"` is not printed):"
   ]
  },
  {
   "cell_type": "code",
   "execution_count": 11,
   "metadata": {
    "tags": [
     "raises-exception"
    ]
   },
   "outputs": [
    {
     "name": "stdout",
     "output_type": "stream",
     "text": [
      "before\n"
     ]
    },
    {
     "ename": "AssertionError",
     "evalue": "",
     "output_type": "error",
     "traceback": [
      "\u001b[0;31m---------------------------------------------------------------------------\u001b[0m",
      "\u001b[0;31mAssertionError\u001b[0m                            Traceback (most recent call last)",
      "Cell \u001b[0;32mIn[11], line 2\u001b[0m\n\u001b[1;32m      1\u001b[0m \u001b[38;5;28mprint\u001b[39m(\u001b[38;5;124m\"\u001b[39m\u001b[38;5;124mbefore\u001b[39m\u001b[38;5;124m\"\u001b[39m)\n\u001b[0;32m----> 2\u001b[0m \u001b[38;5;28;01massert\u001b[39;00m \u001b[38;5;28;01mFalse\u001b[39;00m\n\u001b[1;32m      3\u001b[0m \u001b[38;5;28mprint\u001b[39m(\u001b[38;5;124m\"\u001b[39m\u001b[38;5;124mafter\u001b[39m\u001b[38;5;124m\"\u001b[39m)\n",
      "\u001b[0;31mAssertionError\u001b[0m: "
     ]
    }
   ],
   "source": [
    "print(\"before\")\n",
    "assert False\n",
    "print(\"after\")"
   ]
  },
  {
   "cell_type": "markdown",
   "metadata": {
    "colab_type": "text",
    "id": "I1O2Qr4Nd6Kn"
   },
   "source": [
    "To improve the previous program, we might use `assert` like this:"
   ]
  },
  {
   "cell_type": "code",
   "execution_count": 12,
   "metadata": {
    "colab": {},
    "colab_type": "code",
    "id": "h8lLo60dctPT",
    "tags": [
     "raises-exception"
    ]
   },
   "outputs": [
    {
     "name": "stdout",
     "output_type": "stream",
     "text": [
      "water level:  40\n",
      "WARNING: water level low!  5\n"
     ]
    },
    {
     "ename": "AssertionError",
     "evalue": "",
     "output_type": "error",
     "traceback": [
      "\u001b[0;31m---------------------------------------------------------------------------\u001b[0m",
      "\u001b[0;31mAssertionError\u001b[0m                            Traceback (most recent call last)",
      "Cell \u001b[0;32mIn[12], line 20\u001b[0m\n\u001b[1;32m     11\u001b[0m \u001b[38;5;28mprint\u001b[39m(\u001b[38;5;124m\"\u001b[39m\u001b[38;5;124mWARNING: water level low! \u001b[39m\u001b[38;5;124m\"\u001b[39m, water_level)\n\u001b[1;32m     13\u001b[0m \u001b[38;5;66;03m# a lot of code\u001b[39;00m\n\u001b[1;32m     14\u001b[0m \n\u001b[1;32m     15\u001b[0m \u001b[38;5;66;03m# after a lot of code we might not know if there are the proper conditions so that\u001b[39;00m\n\u001b[1;32m     16\u001b[0m \u001b[38;5;66;03m# everything works allright so before doing critical things, it is always a good idea\u001b[39;00m\n\u001b[1;32m     17\u001b[0m \u001b[38;5;66;03m# to perform a check ! if asserts fail (that is, the boolean expression is False),\u001b[39;00m\n\u001b[1;32m     18\u001b[0m \u001b[38;5;66;03m# the execution suddenly stops\u001b[39;00m\n\u001b[0;32m---> 20\u001b[0m \u001b[38;5;28;01massert\u001b[39;00m water_level \u001b[38;5;241m>\u001b[39m\u001b[38;5;241m=\u001b[39m \u001b[38;5;241m20\u001b[39m\n\u001b[1;32m     22\u001b[0m \u001b[38;5;28mprint\u001b[39m(\u001b[38;5;124m\"\u001b[39m\u001b[38;5;124mturn on nuclear reactor\u001b[39m\u001b[38;5;124m\"\u001b[39m)\n",
      "\u001b[0;31mAssertionError\u001b[0m: "
     ]
    }
   ],
   "source": [
    "# we need water to cool our reactor\n",
    "\n",
    "water_level = 40   # seems ok\n",
    "\n",
    "print(\"water level: \", water_level)\n",
    "\n",
    "# a lot of code\n",
    "\n",
    "water_level = 5  # forgot somewhere this bad row !\n",
    "\n",
    "print(\"WARNING: water level low! \", water_level)\n",
    "\n",
    "# a lot of code\n",
    "\n",
    "# after a lot of code we might not know if there are the proper conditions so that\n",
    "# everything works allright so before doing critical things, it is always a good idea\n",
    "# to perform a check ! if asserts fail (that is, the boolean expression is False),\n",
    "# the execution suddenly stops\n",
    "\n",
    "assert water_level >= 20\n",
    "\n",
    "print(\"turn on nuclear reactor\")"
   ]
  },
  {
   "cell_type": "markdown",
   "metadata": {
    "colab_type": "text",
    "id": "itT2wsNpcsUi"
   },
   "source": [
    "### When to use assert?\n",
    "\n",
    "The case above is willingly exagerated, but shows how a check more sometimes prevents disasters.\n",
    "\n",
    "Asserts are a quick way to do checks, so much so that Python even allows to ignore them during execution to improve the performance (calling `python` with the `-O` parameter like in `python -O my_file.py`).\n",
    "\n",
    "But if performance are not a problem (like in the reactor above), it's more convenient to rewrite the program using an `if` and explicitly raising an `Exception`:\n"
   ]
  },
  {
   "cell_type": "code",
   "execution_count": 13,
   "metadata": {
    "colab": {},
    "colab_type": "code",
    "id": "m0p7LXfbfvZF",
    "tags": [
     "raises-exception"
    ]
   },
   "outputs": [
    {
     "name": "stdout",
     "output_type": "stream",
     "text": [
      "water level:  40\n",
      "WARNING: water level low!  5\n"
     ]
    },
    {
     "ename": "Exception",
     "evalue": "Water level too low !",
     "output_type": "error",
     "traceback": [
      "\u001b[0;31m---------------------------------------------------------------------------\u001b[0m",
      "\u001b[0;31mException\u001b[0m                                 Traceback (most recent call last)",
      "Cell \u001b[0;32mIn[13], line 20\u001b[0m\n\u001b[1;32m     13\u001b[0m \u001b[38;5;66;03m# a lot of code\u001b[39;00m\n\u001b[1;32m     14\u001b[0m \n\u001b[1;32m     15\u001b[0m \u001b[38;5;66;03m# after a lot of code we might not know if there are the proper conditions so \u001b[39;00m\n\u001b[1;32m     16\u001b[0m \u001b[38;5;66;03m# that everything works all right. So before doing critical things, it is always \u001b[39;00m\n\u001b[1;32m     17\u001b[0m \u001b[38;5;66;03m# a good idea to perform a check !\u001b[39;00m\n\u001b[1;32m     19\u001b[0m \u001b[38;5;28;01mif\u001b[39;00m water_level \u001b[38;5;241m<\u001b[39m \u001b[38;5;241m20\u001b[39m:\n\u001b[0;32m---> 20\u001b[0m     \u001b[38;5;28;01mraise\u001b[39;00m \u001b[38;5;167;01mException\u001b[39;00m(\u001b[38;5;124m\"\u001b[39m\u001b[38;5;124mWater level too low !\u001b[39m\u001b[38;5;124m\"\u001b[39m)  \u001b[38;5;66;03m# execution stops here\u001b[39;00m\n\u001b[1;32m     22\u001b[0m \u001b[38;5;28mprint\u001b[39m(\u001b[38;5;124m\"\u001b[39m\u001b[38;5;124mturn on nuclear reactor\u001b[39m\u001b[38;5;124m\"\u001b[39m)\n",
      "\u001b[0;31mException\u001b[0m: Water level too low !"
     ]
    }
   ],
   "source": [
    "# we need water to cool our reactor\n",
    "\n",
    "water_level = 40   # seems ok\n",
    "\n",
    "print(\"water level: \", water_level)\n",
    "\n",
    "# a lot of code\n",
    "\n",
    "water_level = 5  # forgot somewhere this bad row !\n",
    "\n",
    "print(\"WARNING: water level low! \", water_level)\n",
    "\n",
    "# a lot of code\n",
    "\n",
    "# after a lot of code we might not know if there are the proper conditions so \n",
    "# that everything works all right. So before doing critical things, it is always \n",
    "# a good idea to perform a check !\n",
    "\n",
    "if water_level < 20:\n",
    "    raise Exception(\"Water level too low !\")  # execution stops here\n",
    "\n",
    "print(\"turn on nuclear reactor\")"
   ]
  },
  {
   "cell_type": "markdown",
   "metadata": {},
   "source": [
    "Note how the reactor was _not_ turned on. "
   ]
  },
  {
   "cell_type": "markdown",
   "metadata": {},
   "source": [
    "## Testing\n",
    "\n",
    "\n",
    "* If it seems to work, then it actually works? _Probably not_.\n",
    "* The devil is in the details, especially for complex algorithms.\n",
    "* We will do a crash course on testing in Python\n",
    "\n",
    "```{warning}\n",
    "Bad software can cause losses of million $/€ or even harm people. Suggested reading: [Software Horror Stories](https://www.cs.tau.ac.il/~nachumd/horror.html)\n",
    "```"
   ]
  },
  {
   "cell_type": "markdown",
   "metadata": {
    "colab_type": "text",
    "id": "KzyNzgRdgUgM"
   },
   "source": [
    "### Testing with asserts\n",
    "\n",
    "```{note}\n",
    "In this book we test with `assert`, but there are much better frameworks for testing!\n",
    "\n",
    "If you get serious about software development, please consider using something like [PyTest](https://docs.pytest.org/en/stable/) (recent and clean) or [Unittest](https://docs.python.org/3/library/unittest.html) (Python default testing suite, has more traditional approach)\n",
    "```"
   ]
  },
  {
   "cell_type": "markdown",
   "metadata": {},
   "source": [
    "In the part about [Foundations - A.3 Basic Algorithms](https://en.softpython.org/index.html#basic-algorithms), we often use `assert` to perfom tests, that is, to verify a function behaves as expected.\n",
    "\n",
    "Look for example at this function:"
   ]
  },
  {
   "cell_type": "code",
   "execution_count": 14,
   "metadata": {
    "colab": {},
    "colab_type": "code",
    "id": "RAcNr9zDgd1y"
   },
   "outputs": [],
   "source": [
    "def my_sum(x, y):\n",
    "    s = x + y\n",
    "    return s"
   ]
  },
  {
   "cell_type": "markdown",
   "metadata": {
    "colab_type": "text",
    "id": "ISlL7iHLgjwb"
   },
   "source": [
    "We expect that `my_sum(2,3)` gives `5`. We can write in Python this expectation by using an `assert`:"
   ]
  },
  {
   "cell_type": "code",
   "execution_count": 15,
   "metadata": {
    "colab": {},
    "colab_type": "code",
    "id": "6t1v78uFgr6T"
   },
   "outputs": [],
   "source": [
    "assert my_sum(2, 3) == 5"
   ]
  },
  {
   "cell_type": "markdown",
   "metadata": {
    "colab_type": "text",
    "id": "9Es6xXfIg4Ex"
   },
   "source": [
    "If `my_sum` is correctly implemented:\n",
    "\n",
    "1. `my_sum(2,3)` will give `5`\n",
    "2. the boolean expression `my_sum(2,3) == 5` will give `True`\n",
    "3. `assert True` will be exectued without producing any result, and the program execution will continue.\n",
    "\n",
    "Otherwise, if `my_sum` is NOT correctly implemented like in this case:\n",
    "\n",
    "```python\n",
    "def my_sum(x,y):\n",
    "    return 666\n",
    "```\n",
    "\n",
    "1. `my_sum(2,3)` will produce the number `666`\n",
    "2.  the boolean expression `my_sum(2,3) == 5` will give`False`\n",
    "3. `assert False` will interrupt the program execution, raising an exception of type `AssertionError`\n"
   ]
  },
  {
   "cell_type": "markdown",
   "metadata": {},
   "source": [
    "### Exercise - gre3\n",
    "\n",
    "✪✪ Write a function `gre3` which takes three numbers and RETURN the greatest among them"
   ]
  },
  {
   "cell_type": "code",
   "execution_count": 16,
   "metadata": {
    "tags": [
     "answer",
     "hide-cell"
    ]
   },
   "outputs": [],
   "source": [
    "def gre3(a,b,c):\n",
    "    if a > b:\n",
    "        if a>c:\n",
    "            return a\n",
    "        else:\n",
    "            return c\n",
    "    else:\n",
    "        if b > c:\n",
    "            return b\n",
    "        else:\n",
    "            return c"
   ]
  },
  {
   "cell_type": "code",
   "execution_count": 17,
   "metadata": {},
   "outputs": [],
   "source": [
    "assert gre3(1, 2, 4) == 4\n",
    "assert gre3(5, 7, 3) == 7\n",
    "assert gre3(4, 4, 4) == 4"
   ]
  },
  {
   "cell_type": "markdown",
   "metadata": {},
   "source": [
    "### Exercise - final_price\n",
    "\n",
    "✪✪ The cover price of a book is € 24,95, but a library obtains 40% of discount. Shipping costs  are € 3 for first copy and 75 cents for each additional copy. How much `n` copies cost ?\n",
    "\n",
    "Write a function `final_price(n)` which RETURN the price.\n",
    "\n",
    "**ATTENTION 1**: Decimal numbers in Python contain a dot, NOT a comma !\n",
    "\n",
    "**ATTENTION 2**: If you ordered zero books, how much should you pay ?\n",
    "\n",
    "**HINT**: the 40% of 24,95 can be calculated  by multiplying the price by 0.40"
   ]
  },
  {
   "cell_type": "code",
   "execution_count": 18,
   "metadata": {
    "tags": [
     "answer",
     "hide-cell"
    ]
   },
   "outputs": [],
   "source": [
    "def final_price(n):\n",
    "    if n == 0:\n",
    "        return 0\n",
    "    else:\n",
    "        return n* 24.95*0.6 + 3 +(n-1)*0.75"
   ]
  },
  {
   "cell_type": "code",
   "execution_count": 19,
   "metadata": {},
   "outputs": [],
   "source": [
    "assert final_price(10) == 159.45\n",
    "assert final_price(0) == 0"
   ]
  },
  {
   "cell_type": "markdown",
   "metadata": {},
   "source": [
    "### Exercise -  arrival_time\n",
    "\n",
    "✪✪✪ By running slowly you take 8 minutes and 15 seconds per mile, and by running with moderate rhythm you take 7 minutes and 12 seconds per mile.\n",
    "\n",
    "Write a function `arrival_time(n,m)` which, supposing you start at 6:52, given `n` miles run with slow rhythm and `m` with moderate rhythm, PRINTs arrival time.\n",
    "\n",
    "\n",
    "* **HINT 1**: to calculate an integer division, use `//`\n",
    "* **HINT 2**: to calculate the reminder of integer division, use the modulo operator `%`"
   ]
  },
  {
   "cell_type": "code",
   "execution_count": 20,
   "metadata": {
    "tags": [
     "answer",
     "hide-cell"
    ]
   },
   "outputs": [],
   "source": [
    "def arrival_time(n,m):\n",
    "    start_hour = 6\n",
    "    start_minutes = 52\n",
    "\n",
    "    # past time\n",
    "    seconds = start_hour*60*60 + start_minutes*60 + n * (8*60+15) + m * (7*60+12)        \n",
    "    minutes = seconds // 60\n",
    "    hours = minutes // 60\n",
    "            \n",
    "    hours_display = hours % 24\n",
    "    minutes_display = minutes % 60\n",
    "    \n",
    "    return \"%s:%s\" % (hours_display, minutes_display)"
   ]
  },
  {
   "cell_type": "code",
   "execution_count": 21,
   "metadata": {},
   "outputs": [],
   "source": [
    "assert arrival_time(0,0) == '6:52'\n",
    "assert arrival_time(2,2) == '7:22'\n",
    "assert arrival_time(2,5) == '7:44'\n",
    "assert arrival_time(8,5) == '8:34'\n",
    "assert arrival_time(40,5) == '12:58'\n",
    "assert arrival_time(100,25) == '23:37'\n",
    "assert arrival_time(100,40) == '1:25'   \n",
    "assert arrival_time(700,305) == '19:43' # Forrest Gump"
   ]
  },
  {
   "cell_type": "code",
   "execution_count": null,
   "metadata": {},
   "outputs": [],
   "source": []
  }
 ],
 "metadata": {
  "celltoolbar": "Edit Metadata",
  "kernelspec": {
   "display_name": "Python 3 (ipykernel)",
   "language": "python",
   "name": "python3"
  },
  "language_info": {
   "codemirror_mode": {
    "name": "ipython",
    "version": 3
   },
   "file_extension": ".py",
   "mimetype": "text/x-python",
   "name": "python",
   "nbconvert_exporter": "python",
   "pygments_lexer": "ipython3",
   "version": "3.10.14"
  },
  "toc": {
   "base_numbering": 1,
   "nav_menu": {},
   "number_sections": false,
   "sideBar": true,
   "skip_h1_title": false,
   "title_cell": "Table of Contents",
   "title_sidebar": "Contents",
   "toc_cell": false,
   "toc_position": {},
   "toc_section_display": true,
   "toc_window_display": true
  }
 },
 "nbformat": 4,
 "nbformat_minor": 1
}
