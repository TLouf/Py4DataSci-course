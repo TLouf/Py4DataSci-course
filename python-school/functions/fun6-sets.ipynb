{
 "cells": [
  {
   "cell_type": "markdown",
   "id": "d6ee8e71",
   "metadata": {},
   "source": [
    "# Exercises with sets"
   ]
  },
  {
   "cell_type": "markdown",
   "id": "4efa0f0c",
   "metadata": {},
   "source": [
    "## Exercise - syllabs\n",
    "\n",
    "Write a function `syllabs` which given a string `word` made by only bisyllabs and a set `found`, finds all the distinct bisyllabs and puts them into the set `found`.\n",
    "\n",
    "* **NOTE**: the function `syllabs` return NOTHING ! "
   ]
  },
  {
   "cell_type": "code",
   "execution_count": 2,
   "id": "dc406f7c",
   "metadata": {},
   "outputs": [
    {
     "name": "stdout",
     "output_type": "stream",
     "text": [
      "{'na', 'ba'}\n",
      "{'ri', 'ra', 'pa'}\n"
     ]
    }
   ],
   "source": [
    "found = set()\n",
    "syllabs(\"banana\", found)\n",
    "print(found)\n",
    "\n",
    "found = set()\n",
    "syllabs(\"parariraparara\", found)\n",
    "print(found)"
   ]
  },
  {
   "cell_type": "markdown",
   "id": "3d33a028",
   "metadata": {},
   "source": [
    "## Exercise - distinguish\n",
    "\n",
    "✪✪ Write a function `distinguish` which given a list `big_list` containing sublists of _two_ characters each, RETURN a NEW LIST containing all the _distinct_ sublists (ignoring the duplicated sublists)\n",
    "\n",
    "* the returned list must have the elements _in the same order_ in which they were found in `big_list`\n",
    "* variable `big_list` must not be modified\n",
    "* to know fast whether a sublist was already found, **use a set**\n",
    "* **DO NOT** search in lists (so no `count`, `index`, `in` in lists - they're slow!)\n",
    "* **DO NOT** remove from lists (so no `remove` from lists - it's slow!)\n",
    "* **HINT**: lists are _mutable,_ can we place them in a set? If it's not possible, what can we do?"
   ]
  },
  {
   "cell_type": "code",
   "execution_count": 9,
   "id": "c988d582",
   "metadata": {},
   "outputs": [
    {
     "name": "stdout",
     "output_type": "stream",
     "text": [
      "distincts: [['d', 'd'], ['a', 'b'], ['c', 'a']]\n",
      "big_list: [['d', 'd'], ['a', 'b'], ['d', 'd'], ['c', 'a'], ['c', 'a'], ['d', 'd'], ['a', 'b']]\n"
     ]
    }
   ],
   "source": [
    "big_list = [\n",
    "    [\"d\", \"d\"],\n",
    "    [\"a\", \"b\"],\n",
    "    [\"d\", \"d\"],\n",
    "    [\"c\", \"a\"],\n",
    "    [\"c\", \"a\"],\n",
    "    [\"d\", \"d\"],\n",
    "    [\"a\", \"b\"],\n",
    "]\n",
    "print(\"distincts:\", distinguish(big_list))\n",
    "print(\"big_list:\", big_list)"
   ]
  },
  {
   "cell_type": "markdown",
   "id": "66e42d9c",
   "metadata": {},
   "source": [
    "## Exercise - intersectron\n",
    "\n",
    "![intersectron](img/abc-intersection.png)"
   ]
  },
  {
   "cell_type": "markdown",
   "id": "e980dd2a",
   "metadata": {},
   "source": [
    "Given a list `sets` containing an arbitrary number of sets, RETURN a NEW set which contains the elements common to all sets.\n",
    "\n",
    "To solve the exercise, you can intersecate a set at a time with a `for` cycle (slow) or with the technique [described here](https://stackoverflow.com/a/2541814) (short and fast). \n",
    "\n",
    "* try to solve it in **both** ways\n",
    "* **BEWARE** of the empty list!\n",
    "* your code must work with **any** number of sets (the image is just an example)"
   ]
  },
  {
   "cell_type": "code",
   "execution_count": 12,
   "id": "944080c4",
   "metadata": {},
   "outputs": [],
   "source": [
    "assert inter_for([]) == set()\n",
    "assert inter_for([set(), set()]) == set()\n",
    "assert inter_for([set(), set(), set()]) == set()\n",
    "assert inter_for([{\"a\"}, {\"a\"}, {\"a\"}]) == {\"a\"}\n",
    "assert inter_for([{\"a\", \"b\"}, {\"b\"}, {\"b\"}]) == {\"b\"}\n",
    "assert inter_for([{\"a\"}, {\"a\", \"b\"}, {\"a\"}]) == {\"a\"}\n",
    "assert inter_for([{\"c\"}, {\"c\"}, {\"c\", \"b\"}]) == {\"c\"}\n",
    "assert inter_for([{\"a\", \"b\"}, {\"a\", \"b\"}, {\"a\", \"b\"}]) == {\"a\", \"b\"}\n",
    "assert inter_for(\n",
    "    [{\"a\", \"b\", \"c\"}, {\"a\", \"b\", \"c\", \"d\"}, {\"b\", \"c\", \"d\"}, {\"b\", \"c\"}]\n",
    ") == {\"b\", \"c\"}\n",
    "\n",
    "# check we didn't modify the input sets\n",
    "s = {\"a\", \"b\"}\n",
    "assert inter_for([s, {\"b\", \"c\"}]) == {\"b\"}\n",
    "assert s == {\"a\", \"b\"}"
   ]
  },
  {
   "cell_type": "code",
   "execution_count": 14,
   "id": "d704f560",
   "metadata": {},
   "outputs": [],
   "source": [
    "assert inter_fast([]) == set()\n",
    "assert inter_fast([set(),set()]) == set()\n",
    "assert inter_fast([set(),set(),set()]) == set()\n",
    "assert inter_fast([{'a'},{'a'},{'a'}]) == {'a'}\n",
    "assert inter_fast([{'a','b'},{'b'},{'b'}]) == {'b'}\n",
    "assert inter_fast([{'a'},{'a','b'},{'a'}]) == {'a'}\n",
    "assert inter_fast([{'c'},{'c'},{'c','b'}]) == {'c'}\n",
    "assert inter_fast([{'a','b'},{'a','b'},{'a','b'}]) == {'a','b'}\n",
    "assert inter_fast([{'a','b','c'},{'a','b','c','d'},{'b','c','d'}, {'b','c'}]) == {'b','c'}\n",
    "\n",
    "# check we didn't modify the input sets\n",
    "s = {'a','b'}\n",
    "assert inter_fast([s,{'b','c'}]) == {'b'}\n",
    "assert s == {'a','b'}"
   ]
  },
  {
   "cell_type": "code",
   "execution_count": null,
   "id": "8961b5dd",
   "metadata": {},
   "outputs": [],
   "source": []
  }
 ],
 "metadata": {
  "celltoolbar": "Edit Metadata",
  "kernelspec": {
   "display_name": "Python 3 (ipykernel)",
   "language": "python",
   "name": "python3"
  },
  "language_info": {
   "codemirror_mode": {
    "name": "ipython",
    "version": 3
   },
   "file_extension": ".py",
   "mimetype": "text/x-python",
   "name": "python",
   "nbconvert_exporter": "python",
   "pygments_lexer": "ipython3",
   "version": "3.10.14"
  },
  "toc": {
   "base_numbering": 1,
   "nav_menu": {},
   "number_sections": false,
   "sideBar": true,
   "skip_h1_title": false,
   "title_cell": "Table of Contents",
   "title_sidebar": "Contents",
   "toc_cell": false,
   "toc_position": {},
   "toc_section_display": true,
   "toc_window_display": true
  }
 },
 "nbformat": 4,
 "nbformat_minor": 5
}
