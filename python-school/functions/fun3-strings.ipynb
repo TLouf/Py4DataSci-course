{
 "cells": [
  {
   "cell_type": "markdown",
   "id": "d6ee8e71",
   "metadata": {},
   "source": [
    "# Exercises with strings"
   ]
  },
  {
   "cell_type": "markdown",
   "id": "d23c251f",
   "metadata": {},
   "source": [
    "## First functions"
   ]
  },
  {
   "cell_type": "markdown",
   "id": "a2323e3d",
   "metadata": {},
   "source": [
    "### length\n",
    "\n",
    "✪ a. Write a function `length1(s)` in which, given a string, RETURN the length of the string. Use `len` function. For example, with `\"ciao\"` string your function should return `4` while with `\"hi\"` it should return `2`"
   ]
  },
  {
   "cell_type": "code",
   "execution_count": null,
   "id": "493cc2fa",
   "metadata": {},
   "outputs": [
    {
     "data": {
      "text/plain": [
       "4"
      ]
     },
     "execution_count": null,
     "metadata": {},
     "output_type": "execute_result"
    }
   ],
   "source": [
    "length1(\"ciao\")"
   ]
  },
  {
   "cell_type": "markdown",
   "id": "25eb63a2",
   "metadata": {},
   "source": [
    "✪ b. Write a function `length2` that like before calculates the string length, this time without using `len` (instead, use a `for` cycle)"
   ]
  },
  {
   "cell_type": "code",
   "execution_count": null,
   "id": "d9c2fc0c",
   "metadata": {},
   "outputs": [
    {
     "data": {
      "text/plain": [
       "5"
      ]
     },
     "execution_count": null,
     "metadata": {},
     "output_type": "execute_result"
    }
   ],
   "source": [
    "length2(\"mondo\")"
   ]
  },
  {
   "cell_type": "markdown",
   "id": "f1d12317",
   "metadata": {},
   "source": [
    "### contains\n",
    "\n",
    "✪ Write the function `contains(word, character)`, which RETURN  `True` is the string contains the given character, otherwise RETURN `False` \n",
    "    \n",
    "- Use `in` operator"
   ]
  },
  {
   "cell_type": "code",
   "execution_count": null,
   "id": "2c50c04e",
   "metadata": {},
   "outputs": [
    {
     "data": {
      "text/plain": [
       "True"
      ]
     },
     "execution_count": null,
     "metadata": {},
     "output_type": "execute_result"
    }
   ],
   "source": [
    "contains('ciao', 'a')"
   ]
  },
  {
   "cell_type": "code",
   "execution_count": null,
   "id": "325cfebc",
   "metadata": {},
   "outputs": [
    {
     "data": {
      "text/plain": [
       "False"
      ]
     },
     "execution_count": null,
     "metadata": {},
     "output_type": "execute_result"
    }
   ],
   "source": [
    "contains('ciao', 'z')"
   ]
  },
  {
   "cell_type": "markdown",
   "id": "2e55a567",
   "metadata": {},
   "source": [
    "### invertlet\n",
    "\n",
    "✪ Write the function `invertlet(first, second)` which takes in input two strings of length greater than 3, and RETURN a new string in which the words are concataned and separated by a space, the last two characters in the words are inverted. For example, if you pass in input `'twist'` and `'space'`, the function should RETURN `'twise spact'`\n",
    "\n",
    "- If the two strings are not of adequate length, the program PRINTS _error!_\n",
    "\n",
    "**NOTE 1**: PRINTing is different from RETURNing !!! Whatever gets printed is shown to the user but Python cannot reuse it for calculations.\n",
    "\n",
    "**NOTE 2**: if a function does not explicitly return anything, Python implicitly returns `None`. \n",
    "\n",
    "**NOTE 3: Resorting to prints on error conditions is actually bad practice**: this is an invitation to think about what happens when you print something and do not return anything. You can read a discussion about it in {doc}`fun2-errors-and-testing-sol`"
   ]
  },
  {
   "cell_type": "code",
   "execution_count": null,
   "id": "a3d38ee5",
   "metadata": {},
   "outputs": [
    {
     "name": "stdout",
     "output_type": "stream",
     "text": [
      "twise spact\n",
      "error!\n",
      "None\n",
      "error!\n",
      "None\n"
     ]
    }
   ],
   "source": [
    "print(invertlet(\"twist\", \"space\"))\n",
    "print(invertlet(\"fear\", \"me\"))\n",
    "print(invertlet(\"so\", \"bad\"))"
   ]
  },
  {
   "cell_type": "markdown",
   "id": "119bdf5c",
   "metadata": {},
   "source": [
    "### nspace\n",
    "\n",
    "✪ Write a function `nspace` that given a string `s` in input, RETURN a new string in which the `n`-character is a space. \n",
    "\n",
    "- if the number is too big, raise the exception `ValueError`  - in the exception message state clearly what the problem was and the input. \n",
    "\n",
    "**NOTE**: This time instead of printing the error we raise the exception, which will prevent the program from continuing further. This is a much better way to react to erroneous conditions."
   ]
  },
  {
   "cell_type": "code",
   "execution_count": null,
   "id": "12aedd18",
   "metadata": {},
   "outputs": [
    {
     "data": {
      "text/plain": [
       "'alleg ry'"
      ]
     },
     "execution_count": null,
     "metadata": {},
     "output_type": "execute_result"
    }
   ],
   "source": [
    "nspace(\"allegory\", 5)"
   ]
  },
  {
   "cell_type": "code",
   "execution_count": null,
   "id": "9bd70f90",
   "metadata": {
    "tags": [
     "hide-output",
     "raises-exception"
    ]
   },
   "outputs": [],
   "source": [
    "nspace('toy', 9)"
   ]
  },
  {
   "cell_type": "markdown",
   "id": "c28876d9",
   "metadata": {},
   "source": [
    "### startend\n",
    "\n",
    "✪ Write a function which takes a string `s` and RETURN the first and last two characters\n",
    "\n",
    "- if length is less than 4, raises `ValueError` - in the exception message state clearly what the problem was and the input"
   ]
  },
  {
   "cell_type": "code",
   "execution_count": null,
   "id": "da40f35b",
   "metadata": {},
   "outputs": [
    {
     "data": {
      "text/plain": [
       "'rock'"
      ]
     },
     "execution_count": null,
     "metadata": {},
     "output_type": "execute_result"
    }
   ],
   "source": [
    "startend('robust pack')"
   ]
  },
  {
   "cell_type": "code",
   "execution_count": null,
   "id": "f9a45a2d",
   "metadata": {
    "tags": [
     "hide-output",
     "raises-exception"
    ]
   },
   "outputs": [],
   "source": [
    "startend('sig')"
   ]
  },
  {
   "cell_type": "markdown",
   "id": "0d044f50",
   "metadata": {},
   "source": [
    "### swap\n",
    "\n",
    "Write a function that given a string, swaps the first and last character and RETURN the result.\n",
    "\n",
    "- if the string is empty, raise `ValueError` - in the exception message state clearly the cause of the problem "
   ]
  },
  {
   "cell_type": "code",
   "execution_count": null,
   "id": "d3a0823e",
   "metadata": {},
   "outputs": [
    {
     "name": "stdout",
     "output_type": "stream",
     "text": [
      "mread\n",
      "cc\n"
     ]
    }
   ],
   "source": [
    "print(swap('dream'))\n",
    "print(swap('c'))\n",
    "#"
   ]
  },
  {
   "cell_type": "code",
   "execution_count": null,
   "id": "a795be69",
   "metadata": {
    "tags": [
     "raises-exception",
     "hide-output"
    ]
   },
   "outputs": [],
   "source": [
    "swap('')"
   ]
  },
  {
   "cell_type": "markdown",
   "id": "f9e1ab7e",
   "metadata": {},
   "source": [
    "## Verify comprehension"
   ]
  },
  {
   "cell_type": "markdown",
   "id": "ba4eadf6",
   "metadata": {},
   "source": [
    "### has_char\n",
    "\n",
    "✪ RETURN `True` if `word` contains `char`, `False` otherwise\n",
    "        \n",
    "- **USE** a `while` cycle \n",
    "- **DON'T** use `in` operator nor methods such as `.count`  (too easy!)"
   ]
  },
  {
   "cell_type": "code",
   "execution_count": null,
   "id": "cb9ef319",
   "metadata": {},
   "outputs": [],
   "source": [
    "assert has_char(\"ciao\", 'a')\n",
    "assert not has_char(\"ciao\", 'A')\n",
    "assert has_char(\"ciao\", 'c') \n",
    "assert not has_char(\"\", 'a')\n",
    "assert not has_char(\"ciao\", 'z')"
   ]
  },
  {
   "cell_type": "markdown",
   "id": "0082c27a",
   "metadata": {},
   "source": [
    "### count\n",
    "\n",
    "✪ RETURN the number of occurrences of `char` in `word`\n",
    "\n",
    "- **USE** a `for in` cycle\n",
    "- **DON'T** use `count` method (too easy!)\n",
    "- **DON'T** print, it must *return* the value !"
   ]
  },
  {
   "cell_type": "code",
   "execution_count": null,
   "id": "076ba0ef",
   "metadata": {},
   "outputs": [],
   "source": [
    "assert count(\"ciao\", \"z\") == 0 \n",
    "assert count(\"ciao\", \"c\") == 1\n",
    "assert count(\"babbo\", \"b\") == 3\n",
    "assert count(\"\", \"b\") == 0\n",
    "assert count(\"ciao\", \"C\") == 0 "
   ]
  },
  {
   "cell_type": "markdown",
   "id": "57b9443a",
   "metadata": {},
   "source": [
    "### has_lower\n",
    "\n",
    "✪ RITORNA `True` if the word contains _at least_ one lowercase character, otherwise return `False`\n",
    "\n",
    "* **USE** a `while` cycle"
   ]
  },
  {
   "cell_type": "code",
   "execution_count": null,
   "id": "08ffc476",
   "metadata": {},
   "outputs": [],
   "source": [
    "assert has_lower(\"daviD\")\n",
    "assert not has_lower(\"DAVID\")\n",
    "assert not has_lower(\"\")\n",
    "assert has_lower(\"a\")\n",
    "assert not has_lower(\"A\")"
   ]
  },
  {
   "cell_type": "markdown",
   "id": "f4c03450",
   "metadata": {},
   "source": [
    "### dialect\n",
    "\n",
    "✪✪ There exist a dialect in which all the `\"a\"` must be always preceded by a `\"g\"`. In case a word contains an `\"a\"` _not_ preceded by a `\"g\"`, we can say with certainty that this word _does not_ belong to the dialect. Write a function that given a word, RETURN `True` if the word respects the rules of the dialect, `False` otherwise."
   ]
  },
  {
   "cell_type": "code",
   "execution_count": null,
   "id": "47acfeb1",
   "metadata": {},
   "outputs": [],
   "source": [
    "assert dialect(\"a\") == False\n",
    "assert dialect(\"ab\") == False\n",
    "assert dialect(\"ag\") == False\n",
    "assert dialect(\"ag\") == False\n",
    "assert dialect(\"ga\") == True\n",
    "assert dialect(\"gga\") == True\n",
    "assert dialect(\"gag\") == True\n",
    "assert dialect(\"gaa\") == False\n",
    "assert dialect(\"gaga\") == True\n",
    "assert dialect(\"gabga\") == True\n",
    "assert dialect(\"gabgac\") == True\n",
    "assert dialect(\"gabbgac\") == True\n",
    "assert dialect(\"gabbgagag\") == True"
   ]
  },
  {
   "cell_type": "markdown",
   "id": "e51592b0",
   "metadata": {},
   "source": [
    "### countvoc\n",
    "\n",
    "✪✪  Given a string, write a function that counts the number of vocals.\n",
    "If the vocals number is even, RETURN the number of vocals, otherwise raises exception `ValueError`"
   ]
  },
  {
   "cell_type": "code",
   "execution_count": null,
   "id": "a418e854",
   "metadata": {},
   "outputs": [],
   "source": [
    "assert countvoc(\"arco\") == 2\n",
    "assert countvoc(\"scaturire\") == 4\n",
    "\n",
    "try:\n",
    "    countvoc(\"ciao\")    # with this string we expect it raises exception ValueError\n",
    "    raise Exception(\"I shouldn't arrive until here !\")\n",
    "except ValueError:      # if it raises the exception ValueError, it is behaving as expected and we do nothing\n",
    "    pass\n",
    "\n",
    "try:\n",
    "    countvoc(\"aiuola\")  # with this string we expect it raises exception ValueError\n",
    "    raise Exception(\"I shouldn't arrive until here  !\")\n",
    "except ValueError:      # if it raises the exception ValueError, it is behaving as expected and we do nothing\n",
    "    pass"
   ]
  },
  {
   "cell_type": "markdown",
   "id": "104e20ff",
   "metadata": {},
   "source": [
    "### extract_email\n"
   ]
  },
  {
   "cell_type": "code",
   "execution_count": null,
   "id": "ac2abe34",
   "metadata": {},
   "outputs": [],
   "source": [
    "assert extract_email(\"lun 5 nov 2018, 02:09 John Doe <john.doe@some-website.com>\") == \"john.doe@some-website.com\"\n",
    "assert extract_email(\"lun 5 nov 2018, 02:09 Foo Baz <mrfoo.baz@blabla.com>\") == \"mrfoo.baz@blabla.com\"\n",
    "assert extract_email(\" lun 5 nov 2018, 02:09 Foo Baz <mrfoo.baz@blabla.com>  \") == \"mrfoo.baz@blabla.com\"  # with spaces"
   ]
  },
  {
   "cell_type": "markdown",
   "id": "b3b0e993",
   "metadata": {},
   "source": [
    "### canon_phone\n",
    "\n",
    "✪ Implement a function that canonicalize canonicalize a phone number as a string. It must RETURN the canonical version of phone as a string. \n",
    "\n",
    "\n",
    "For us, a canonical phone number:\n",
    "\n",
    "- contains no spaces\n",
    "- contains no international prefix, so no `+39` nor `0039`: we assume all calls where placed from Italy (even if they have international prefix)\n",
    "\n",
    "\n",
    "For example, all of these are canonicalized to `\"0461123456\"`:\n",
    "\n",
    "```\n",
    "+39 0461 123456\n",
    "+390461123456\n",
    "0039 0461 123456\n",
    "00390461123456\n",
    "```\n",
    "\n",
    "These are canonicalized as the following:\n",
    "\n",
    "```\n",
    "328 123 4567        ->  3281234567\n",
    "0039 328 123 4567   ->  3281234567\n",
    "0039 3771 1234567   ->  37711234567\n",
    "```\n",
    "\n",
    "**REMEMBER: strings are immutable !!!!!**"
   ]
  },
  {
   "cell_type": "code",
   "execution_count": null,
   "id": "e0cbd994",
   "metadata": {},
   "outputs": [],
   "source": [
    "assert phone_canon('+39 0461 123456') == '0461123456'\n",
    "assert phone_canon('+390461123456') == '0461123456'\n",
    "assert phone_canon('0039 0461 123456') == '0461123456'\n",
    "assert phone_canon('00390461123456') == '0461123456'\n",
    "assert phone_canon('003902123456') == '02123456'\n",
    "assert phone_canon('003902120039') == '02120039'\n",
    "assert phone_canon('0039021239') == '021239'"
   ]
  },
  {
   "cell_type": "markdown",
   "id": "f42cc537",
   "metadata": {},
   "source": [
    "### phone_prefix\n",
    "\n",
    "✪✪ We now want to extract the province prefix from phone numbers (see previous exercise) - the ones we consider as valid are in `province_prefixes` list.\n",
    "\n",
    "Note some numbers are from mobile operators and you can distinguish them by prefixes like `328` - the ones we consider are in `mobile_prefixes` list.\n",
    "\n",
    "Implement a function that RETURN the prefix of the phone as a string. Remember first to make it canonical !!        \n",
    "\n",
    "- If phone is mobile, RETURN string `'mobile'`. If it is not a phone nor a mobile, RETURN the string `'unrecognized'`\n",
    "\n",
    "- To determine if the phone is mobile or from province, use `province_prefixes` and `mobile_prefixes` lists.\n",
    "\n",
    "- DO USE THE PREVIOUSLY DEFINED FUNCTION `phone_canon(phone)`\n"
   ]
  },
  {
   "cell_type": "code",
   "execution_count": null,
   "id": "aaa995a1",
   "metadata": {},
   "outputs": [],
   "source": [
    "province_prefixes = ['0461', '02', '011']\n",
    "mobile_prefixes = ['330', '340', '328', '390', '3771']"
   ]
  },
  {
   "cell_type": "code",
   "execution_count": null,
   "id": "716b5070",
   "metadata": {},
   "outputs": [],
   "source": [
    "assert phone_prefix('0461123') == '0461'\n",
    "assert phone_prefix('+39 0461  4321') == '0461'\n",
    "assert phone_prefix('0039011 432434') == '011'\n",
    "assert phone_prefix('328 432434') == 'mobile'\n",
    "assert phone_prefix('+39340 432434') == 'mobile'\n",
    "assert phone_prefix('00666011 432434') == 'unrecognized'\n",
    "assert phone_prefix('12345') == 'unrecognized'\n",
    "assert phone_prefix('+39 123 12345') == 'unrecognized'"
   ]
  },
  {
   "cell_type": "markdown",
   "id": "2aad4594",
   "metadata": {},
   "source": [
    "### palindrome\n",
    "\n",
    "✪✪✪ A word is palindrome if it exactly the same when you read it in reverse\n",
    "\n",
    "Write a function the RETURN `True` if the given word is palindrome, `False` otherwise\n",
    "\n",
    "* assume that the empty string is palindrome\n",
    "\n",
    "There are various ways to solve this problems, some actually easy & elegant. Try to find at least a couple of them."
   ]
  },
  {
   "cell_type": "code",
   "execution_count": null,
   "id": "3d4d0a93",
   "metadata": {},
   "outputs": [],
   "source": [
    "assert palindrome('') == True    # we assume the empty string is palindrome\n",
    "assert palindrome('a') == True\n",
    "assert palindrome('aa') == True\n",
    "assert palindrome('ab') == False\n",
    "assert palindrome('aba') == True\n",
    "assert palindrome('bab') == True\n",
    "assert palindrome('bba') == False\n",
    "assert palindrome('abb') == False\n",
    "assert palindrome('abba') == True\n",
    "assert palindrome('baab') == True\n",
    "assert palindrome('abbb') == False\n",
    "assert palindrome('bbba') == False\n",
    "assert palindrome('radar') == True\n",
    "assert palindrome('abstruse') == False"
   ]
  }
 ],
 "metadata": {
  "celltoolbar": "Edit Metadata",
  "kernelspec": {
   "display_name": "Python 3 (ipykernel)",
   "language": "python",
   "name": "python3"
  },
  "language_info": {
   "codemirror_mode": {
    "name": "ipython",
    "version": 3
   },
   "file_extension": ".py",
   "mimetype": "text/x-python",
   "name": "python",
   "nbconvert_exporter": "python",
   "pygments_lexer": "ipython3"
  },
  "toc": {
   "base_numbering": 1,
   "nav_menu": {},
   "number_sections": false,
   "sideBar": true,
   "skip_h1_title": false,
   "title_cell": "Table of Contents",
   "title_sidebar": "Contents",
   "toc_cell": false,
   "toc_position": {
    "height": "calc(100% - 180px)",
    "left": "10px",
    "top": "150px",
    "width": "280.2px"
   },
   "toc_section_display": true,
   "toc_window_display": true
  }
 },
 "nbformat": 4,
 "nbformat_minor": 5
}
