{
 "cells": [
  {
   "cell_type": "markdown",
   "id": "d6ee8e71",
   "metadata": {},
   "source": [
    "# Exercises with strings"
   ]
  },
  {
   "cell_type": "markdown",
   "id": "d23c251f",
   "metadata": {},
   "source": [
    "## First functions"
   ]
  },
  {
   "cell_type": "markdown",
   "id": "a2323e3d",
   "metadata": {},
   "source": [
    "### length\n",
    "\n",
    "✪ a. Write a function `length1(s)` in which, given a string, RETURN the length of the string. Use `len` function. For example, with `\"ciao\"` string your function should return `4` while with `\"hi\"` it should return `2`"
   ]
  },
  {
   "cell_type": "code",
   "execution_count": 2,
   "id": "6beb7624",
   "metadata": {
    "tags": [
     "answer",
     "hide-cell"
    ]
   },
   "outputs": [],
   "source": [
    "# version with len, faster because python with a string always maintains in memory \n",
    "# the number of length immediately available\n",
    "def length1(s):\n",
    "    return len(s)"
   ]
  },
  {
   "cell_type": "code",
   "execution_count": 3,
   "id": "493cc2fa",
   "metadata": {},
   "outputs": [
    {
     "data": {
      "text/plain": [
       "4"
      ]
     },
     "execution_count": 3,
     "metadata": {},
     "output_type": "execute_result"
    }
   ],
   "source": [
    "length1(\"ciao\")"
   ]
  },
  {
   "cell_type": "markdown",
   "id": "25eb63a2",
   "metadata": {},
   "source": [
    "✪ b. Write a function `length2` that like before calculates the string length, this time without using `len` (instead, use a `for` cycle)"
   ]
  },
  {
   "cell_type": "code",
   "execution_count": 4,
   "id": "ff77913d",
   "metadata": {
    "tags": [
     "answer",
     "hide-cell"
    ]
   },
   "outputs": [],
   "source": [
    "# version with counter, slower\n",
    "def length2(s):\n",
    "    counter = 0\n",
    "    for character in s:\n",
    "        counter = counter + 1\n",
    "    return counter"
   ]
  },
  {
   "cell_type": "code",
   "execution_count": 5,
   "id": "d9c2fc0c",
   "metadata": {},
   "outputs": [
    {
     "data": {
      "text/plain": [
       "5"
      ]
     },
     "execution_count": 5,
     "metadata": {},
     "output_type": "execute_result"
    }
   ],
   "source": [
    "length2(\"mondo\")"
   ]
  },
  {
   "cell_type": "markdown",
   "id": "f1d12317",
   "metadata": {},
   "source": [
    "### contains\n",
    "\n",
    "✪ Write the function `contains(word, character)`, which RETURN  `True` is the string contains the given character, otherwise RETURN `False` \n",
    "    \n",
    "- Use `in` operator"
   ]
  },
  {
   "cell_type": "code",
   "execution_count": 6,
   "id": "0489481b",
   "metadata": {
    "tags": [
     "answer",
     "hide-cell"
    ]
   },
   "outputs": [],
   "source": [
    "def contains(word, character):\n",
    "    return character in word"
   ]
  },
  {
   "cell_type": "code",
   "execution_count": 8,
   "id": "2c50c04e",
   "metadata": {},
   "outputs": [
    {
     "data": {
      "text/plain": [
       "True"
      ]
     },
     "execution_count": 8,
     "metadata": {},
     "output_type": "execute_result"
    }
   ],
   "source": [
    "contains('ciao', 'a')"
   ]
  },
  {
   "cell_type": "code",
   "execution_count": 9,
   "id": "325cfebc",
   "metadata": {},
   "outputs": [
    {
     "data": {
      "text/plain": [
       "False"
      ]
     },
     "execution_count": 9,
     "metadata": {},
     "output_type": "execute_result"
    }
   ],
   "source": [
    "contains('ciao', 'z')"
   ]
  },
  {
   "cell_type": "markdown",
   "id": "2e55a567",
   "metadata": {},
   "source": [
    "### invertlet\n",
    "\n",
    "✪ Write the function `invertlet(first, second)` which takes in input two strings of length greater than 3, and RETURN a new string in which the words are concataned and separated by a space, the last two characters in the words are inverted. For example, if you pass in input `'twist'` and `'space'`, the function should RETURN `'twise spact'`\n",
    "\n",
    "- If the two strings are not of adequate length, the program PRINTS _error!_\n",
    "\n",
    "**NOTE 1**: PRINTing is different from RETURNing !!! Whatever gets printed is shown to the user but Python cannot reuse it for calculations.\n",
    "\n",
    "**NOTE 2**: if a function does not explicitly return anything, Python implicitly returns `None`. \n",
    "\n",
    "**NOTE 3: Resorting to prints on error conditions is actually bad practice**: this is an invitation to think about what happens when you print something and do not return anything. You can read a discussion about it in {doc}`fun2-errors-and-testing-sol`"
   ]
  },
  {
   "cell_type": "code",
   "execution_count": 10,
   "id": "90cb4641",
   "metadata": {
    "tags": [
     "answer",
     "hide-cell"
    ]
   },
   "outputs": [],
   "source": [
    "def invertlet(first,second):\n",
    "    if len(first) <= 3 or len(second) <=3:\n",
    "        print(\"error!\")\n",
    "    else:\n",
    "        return first[:-1] + second[-1] + \" \" + second[:-1] + first[-1]"
   ]
  },
  {
   "cell_type": "code",
   "execution_count": 11,
   "id": "a3d38ee5",
   "metadata": {},
   "outputs": [
    {
     "name": "stdout",
     "output_type": "stream",
     "text": [
      "twise spact\n",
      "error!\n",
      "None\n",
      "error!\n",
      "None\n"
     ]
    }
   ],
   "source": [
    "print(invertlet(\"twist\", \"space\"))\n",
    "print(invertlet(\"fear\", \"me\"))\n",
    "print(invertlet(\"so\", \"bad\"))"
   ]
  },
  {
   "cell_type": "markdown",
   "id": "119bdf5c",
   "metadata": {},
   "source": [
    "### nspace\n",
    "\n",
    "✪ Write a function `nspace` that given a string `s` in input, RETURN a new string in which the `n`-character is a space. \n",
    "\n",
    "- if the number is too big, raise the exception `ValueError`  - in the exception message state clearly what the problem was and the input. \n",
    "\n",
    "**NOTE**: This time instead of printing the error we raise the exception, which will prevent the program from continuing further. This is a much better way to react to erroneous conditions."
   ]
  },
  {
   "cell_type": "code",
   "execution_count": 17,
   "id": "cbc9681e",
   "metadata": {
    "tags": [
     "hide-cell",
     "answer"
    ]
   },
   "outputs": [],
   "source": [
    "def nspace(word, index):\n",
    "    if index >= len(word):\n",
    "        raise ValueError(\"index %s is larger than word %s\" % (index, word))\n",
    "    return word[:index] + ' ' + word[index+1:]"
   ]
  },
  {
   "cell_type": "code",
   "execution_count": 18,
   "id": "12aedd18",
   "metadata": {},
   "outputs": [
    {
     "data": {
      "text/plain": [
       "'alleg ry'"
      ]
     },
     "execution_count": 18,
     "metadata": {},
     "output_type": "execute_result"
    }
   ],
   "source": [
    "nspace(\"allegory\", 5)"
   ]
  },
  {
   "cell_type": "code",
   "execution_count": 19,
   "id": "9bd70f90",
   "metadata": {
    "tags": [
     "hide-output",
     "raises-exception"
    ]
   },
   "outputs": [
    {
     "ename": "ValueError",
     "evalue": "index 9 is larger than word toy",
     "output_type": "error",
     "traceback": [
      "\u001b[0;31m---------------------------------------------------------------------------\u001b[0m",
      "\u001b[0;31mValueError\u001b[0m                                Traceback (most recent call last)",
      "Cell \u001b[0;32mIn[19], line 1\u001b[0m\n\u001b[0;32m----> 1\u001b[0m \u001b[43mnspace\u001b[49m\u001b[43m(\u001b[49m\u001b[38;5;124;43m'\u001b[39;49m\u001b[38;5;124;43mtoy\u001b[39;49m\u001b[38;5;124;43m'\u001b[39;49m\u001b[43m,\u001b[49m\u001b[43m \u001b[49m\u001b[38;5;241;43m9\u001b[39;49m\u001b[43m)\u001b[49m\n",
      "Cell \u001b[0;32mIn[17], line 3\u001b[0m, in \u001b[0;36mnspace\u001b[0;34m(word, index)\u001b[0m\n\u001b[1;32m      1\u001b[0m \u001b[38;5;28;01mdef\u001b[39;00m \u001b[38;5;21mnspace\u001b[39m(word, index):\n\u001b[1;32m      2\u001b[0m     \u001b[38;5;28;01mif\u001b[39;00m index \u001b[38;5;241m>\u001b[39m\u001b[38;5;241m=\u001b[39m \u001b[38;5;28mlen\u001b[39m(word):\n\u001b[0;32m----> 3\u001b[0m         \u001b[38;5;28;01mraise\u001b[39;00m \u001b[38;5;167;01mValueError\u001b[39;00m(\u001b[38;5;124m\"\u001b[39m\u001b[38;5;124mindex \u001b[39m\u001b[38;5;132;01m%s\u001b[39;00m\u001b[38;5;124m is larger than word \u001b[39m\u001b[38;5;132;01m%s\u001b[39;00m\u001b[38;5;124m\"\u001b[39m \u001b[38;5;241m%\u001b[39m (index, word))\n\u001b[1;32m      4\u001b[0m     \u001b[38;5;28;01mreturn\u001b[39;00m word[:index] \u001b[38;5;241m+\u001b[39m \u001b[38;5;124m'\u001b[39m\u001b[38;5;124m \u001b[39m\u001b[38;5;124m'\u001b[39m \u001b[38;5;241m+\u001b[39m word[index\u001b[38;5;241m+\u001b[39m\u001b[38;5;241m1\u001b[39m:]\n",
      "\u001b[0;31mValueError\u001b[0m: index 9 is larger than word toy"
     ]
    }
   ],
   "source": [
    "nspace('toy', 9)"
   ]
  },
  {
   "cell_type": "markdown",
   "id": "c28876d9",
   "metadata": {},
   "source": [
    "### startend\n",
    "\n",
    "✪ Write a function which takes a string `s` and RETURN the first and last two characters\n",
    "\n",
    "- if length is less than 4, raises `ValueError` - in the exception message state clearly what the problem was and the input"
   ]
  },
  {
   "cell_type": "code",
   "execution_count": 20,
   "id": "b5dc673f",
   "metadata": {
    "tags": [
     "answer",
     "hide-cell"
    ]
   },
   "outputs": [],
   "source": [
    "def startend(s):\n",
    "    if len(s) < 4:\n",
    "        raise ValueError(\"I need at least 4 characters, got instead: %s\" % s)\n",
    "    return s[:2] + s[-2:]     "
   ]
  },
  {
   "cell_type": "code",
   "execution_count": 21,
   "id": "da40f35b",
   "metadata": {},
   "outputs": [
    {
     "data": {
      "text/plain": [
       "'rock'"
      ]
     },
     "execution_count": 21,
     "metadata": {},
     "output_type": "execute_result"
    }
   ],
   "source": [
    "startend('robust pack')"
   ]
  },
  {
   "cell_type": "code",
   "execution_count": 22,
   "id": "f9a45a2d",
   "metadata": {
    "tags": [
     "hide-output",
     "raises-exception"
    ]
   },
   "outputs": [
    {
     "ename": "ValueError",
     "evalue": "I need at least 4 characters, got instead: sig",
     "output_type": "error",
     "traceback": [
      "\u001b[0;31m---------------------------------------------------------------------------\u001b[0m",
      "\u001b[0;31mValueError\u001b[0m                                Traceback (most recent call last)",
      "Cell \u001b[0;32mIn[22], line 1\u001b[0m\n\u001b[0;32m----> 1\u001b[0m \u001b[43mstartend\u001b[49m\u001b[43m(\u001b[49m\u001b[38;5;124;43m'\u001b[39;49m\u001b[38;5;124;43msig\u001b[39;49m\u001b[38;5;124;43m'\u001b[39;49m\u001b[43m)\u001b[49m\n",
      "Cell \u001b[0;32mIn[20], line 3\u001b[0m, in \u001b[0;36mstartend\u001b[0;34m(s)\u001b[0m\n\u001b[1;32m      1\u001b[0m \u001b[38;5;28;01mdef\u001b[39;00m \u001b[38;5;21mstartend\u001b[39m(s):\n\u001b[1;32m      2\u001b[0m     \u001b[38;5;28;01mif\u001b[39;00m \u001b[38;5;28mlen\u001b[39m(s) \u001b[38;5;241m<\u001b[39m \u001b[38;5;241m4\u001b[39m:\n\u001b[0;32m----> 3\u001b[0m         \u001b[38;5;28;01mraise\u001b[39;00m \u001b[38;5;167;01mValueError\u001b[39;00m(\u001b[38;5;124m\"\u001b[39m\u001b[38;5;124mI need at least 4 characters, got instead: \u001b[39m\u001b[38;5;132;01m%s\u001b[39;00m\u001b[38;5;124m\"\u001b[39m \u001b[38;5;241m%\u001b[39m s)\n\u001b[1;32m      4\u001b[0m     \u001b[38;5;28;01mreturn\u001b[39;00m s[:\u001b[38;5;241m2\u001b[39m] \u001b[38;5;241m+\u001b[39m s[\u001b[38;5;241m-\u001b[39m\u001b[38;5;241m2\u001b[39m:]\n",
      "\u001b[0;31mValueError\u001b[0m: I need at least 4 characters, got instead: sig"
     ]
    }
   ],
   "source": [
    "startend('sig')"
   ]
  },
  {
   "cell_type": "markdown",
   "id": "0d044f50",
   "metadata": {},
   "source": [
    "### swap\n",
    "\n",
    "Write a function that given a string, swaps the first and last character and RETURN the result.\n",
    "\n",
    "- if the string is empty, raise `ValueError` - in the exception message state clearly the cause of the problem "
   ]
  },
  {
   "cell_type": "code",
   "execution_count": 24,
   "id": "177d6936",
   "metadata": {
    "tags": [
     "answer",
     "hide-cell"
    ]
   },
   "outputs": [],
   "source": [
    "def swap(s):\n",
    "    if s == '':\n",
    "        raise ValueError(\"Empty string!\")\n",
    "    return s[-1] + s[1:-1] + s[0]"
   ]
  },
  {
   "cell_type": "code",
   "execution_count": 25,
   "id": "d3a0823e",
   "metadata": {},
   "outputs": [
    {
     "name": "stdout",
     "output_type": "stream",
     "text": [
      "mread\n",
      "cc\n"
     ]
    }
   ],
   "source": [
    "print(swap('dream'))\n",
    "print(swap('c'))\n",
    "#"
   ]
  },
  {
   "cell_type": "code",
   "execution_count": 26,
   "id": "a795be69",
   "metadata": {
    "tags": [
     "raises-exception",
     "hide-output"
    ]
   },
   "outputs": [
    {
     "ename": "ValueError",
     "evalue": "Empty string!",
     "output_type": "error",
     "traceback": [
      "\u001b[0;31m---------------------------------------------------------------------------\u001b[0m",
      "\u001b[0;31mValueError\u001b[0m                                Traceback (most recent call last)",
      "Cell \u001b[0;32mIn[26], line 1\u001b[0m\n\u001b[0;32m----> 1\u001b[0m \u001b[43mswap\u001b[49m\u001b[43m(\u001b[49m\u001b[38;5;124;43m'\u001b[39;49m\u001b[38;5;124;43m'\u001b[39;49m\u001b[43m)\u001b[49m\n",
      "Cell \u001b[0;32mIn[24], line 3\u001b[0m, in \u001b[0;36mswap\u001b[0;34m(s)\u001b[0m\n\u001b[1;32m      1\u001b[0m \u001b[38;5;28;01mdef\u001b[39;00m \u001b[38;5;21mswap\u001b[39m(s):\n\u001b[1;32m      2\u001b[0m     \u001b[38;5;28;01mif\u001b[39;00m s \u001b[38;5;241m==\u001b[39m \u001b[38;5;124m'\u001b[39m\u001b[38;5;124m'\u001b[39m:\n\u001b[0;32m----> 3\u001b[0m         \u001b[38;5;28;01mraise\u001b[39;00m \u001b[38;5;167;01mValueError\u001b[39;00m(\u001b[38;5;124m\"\u001b[39m\u001b[38;5;124mEmpty string!\u001b[39m\u001b[38;5;124m\"\u001b[39m)\n\u001b[1;32m      4\u001b[0m     \u001b[38;5;28;01mreturn\u001b[39;00m s[\u001b[38;5;241m-\u001b[39m\u001b[38;5;241m1\u001b[39m] \u001b[38;5;241m+\u001b[39m s[\u001b[38;5;241m1\u001b[39m:\u001b[38;5;241m-\u001b[39m\u001b[38;5;241m1\u001b[39m] \u001b[38;5;241m+\u001b[39m s[\u001b[38;5;241m0\u001b[39m]\n",
      "\u001b[0;31mValueError\u001b[0m: Empty string!"
     ]
    }
   ],
   "source": [
    "swap('')"
   ]
  },
  {
   "cell_type": "markdown",
   "id": "f9e1ab7e",
   "metadata": {},
   "source": [
    "## Verify comprehension"
   ]
  },
  {
   "cell_type": "markdown",
   "id": "ba4eadf6",
   "metadata": {},
   "source": [
    "### has_char\n",
    "\n",
    "✪ RETURN `True` if `word` contains `char`, `False` otherwise\n",
    "        \n",
    "- **USE** a `while` cycle \n",
    "- **DON'T** use `in` operator nor methods such as `.count`  (too easy!)"
   ]
  },
  {
   "cell_type": "code",
   "execution_count": 27,
   "id": "ae1c889c",
   "metadata": {
    "tags": [
     "answer",
     "hide-cell"
    ]
   },
   "outputs": [],
   "source": [
    "def has_char(word, char):\n",
    "    index = 0  # initialize index\n",
    "    while index < len(word):\n",
    "        if word[index] == char:\n",
    "            return True  # we found the character, we can stop search\n",
    "        index += 1  # it is like writing index = index + 1\n",
    "    # if we arrive AFTER the while, there is only one reason:\n",
    "    # we found nothing, so we have to return False\n",
    "    return False"
   ]
  },
  {
   "cell_type": "code",
   "execution_count": 28,
   "id": "cb9ef319",
   "metadata": {},
   "outputs": [],
   "source": [
    "assert has_char(\"ciao\", 'a')\n",
    "assert not has_char(\"ciao\", 'A')\n",
    "assert has_char(\"ciao\", 'c') \n",
    "assert not has_char(\"\", 'a')\n",
    "assert not has_char(\"ciao\", 'z')"
   ]
  },
  {
   "cell_type": "markdown",
   "id": "0082c27a",
   "metadata": {},
   "source": [
    "### count\n",
    "\n",
    "✪ RETURN the number of occurrences of `char` in `word`\n",
    "\n",
    "- **USE** a `for in` cycle\n",
    "- **DON'T** use `count` method (too easy!)\n",
    "- **DON'T** print, it must *return* the value !"
   ]
  },
  {
   "cell_type": "code",
   "execution_count": 30,
   "id": "4ac6ca21",
   "metadata": {
    "tags": [
     "answer",
     "hide-cell"
    ]
   },
   "outputs": [],
   "source": [
    "def count(word, char):\n",
    "    occurrences = 0\n",
    "    for c in word:\n",
    "        if c == char:\n",
    "            occurrences += 1\n",
    "    return occurrences"
   ]
  },
  {
   "cell_type": "code",
   "execution_count": 31,
   "id": "076ba0ef",
   "metadata": {},
   "outputs": [],
   "source": [
    "assert count(\"ciao\", \"z\") == 0 \n",
    "assert count(\"ciao\", \"c\") == 1\n",
    "assert count(\"babbo\", \"b\") == 3\n",
    "assert count(\"\", \"b\") == 0\n",
    "assert count(\"ciao\", \"C\") == 0 "
   ]
  },
  {
   "cell_type": "markdown",
   "id": "57b9443a",
   "metadata": {},
   "source": [
    "### has_lower\n",
    "\n",
    "✪ RITORNA `True` if the word contains _at least_ one lowercase character, otherwise return `False`\n",
    "\n",
    "* **USE** a `while` cycle"
   ]
  },
  {
   "cell_type": "code",
   "execution_count": 33,
   "id": "2857b1b6",
   "metadata": {
    "tags": [
     "answer",
     "hide-cell"
    ]
   },
   "outputs": [],
   "source": [
    "def has_lower(s):\n",
    "    i = 0\n",
    "    while i < len(s):\n",
    "        if s[i] == s[i].lower():\n",
    "            return True\n",
    "        i += 1\n",
    "    return False"
   ]
  },
  {
   "cell_type": "code",
   "execution_count": 34,
   "id": "08ffc476",
   "metadata": {},
   "outputs": [],
   "source": [
    "assert has_lower(\"daviD\")\n",
    "assert not has_lower(\"DAVID\")\n",
    "assert not has_lower(\"\")\n",
    "assert has_lower(\"a\")\n",
    "assert not has_lower(\"A\")"
   ]
  },
  {
   "cell_type": "markdown",
   "id": "f4c03450",
   "metadata": {},
   "source": [
    "### dialect\n",
    "\n",
    "✪✪ There exist a dialect in which all the `\"a\"` must be always preceded by a `\"g\"`. In case a word contains an `\"a\"` _not_ preceded by a `\"g\"`, we can say with certainty that this word _does not_ belong to the dialect. Write a function that given a word, RETURN `True` if the word respects the rules of the dialect, `False` otherwise."
   ]
  },
  {
   "cell_type": "code",
   "execution_count": 37,
   "id": "abb22f9c",
   "metadata": {
    "tags": [
     "answer",
     "hide-cell"
    ]
   },
   "outputs": [],
   "source": [
    "def dialect(word):\n",
    "    for i in range(0,len(word)):\n",
    "        if word[i] == \"a\":\n",
    "            if i == 0 or word[i - 1] != \"g\":\n",
    "                return False\n",
    "    return True"
   ]
  },
  {
   "cell_type": "code",
   "execution_count": 38,
   "id": "47acfeb1",
   "metadata": {},
   "outputs": [],
   "source": [
    "assert dialect(\"a\") == False\n",
    "assert dialect(\"ab\") == False\n",
    "assert dialect(\"ag\") == False\n",
    "assert dialect(\"ag\") == False\n",
    "assert dialect(\"ga\") == True\n",
    "assert dialect(\"gga\") == True\n",
    "assert dialect(\"gag\") == True\n",
    "assert dialect(\"gaa\") == False\n",
    "assert dialect(\"gaga\") == True\n",
    "assert dialect(\"gabga\") == True\n",
    "assert dialect(\"gabgac\") == True\n",
    "assert dialect(\"gabbgac\") == True\n",
    "assert dialect(\"gabbgagag\") == True"
   ]
  },
  {
   "cell_type": "markdown",
   "id": "e51592b0",
   "metadata": {},
   "source": [
    "### countvoc\n",
    "\n",
    "✪✪  Given a string, write a function that counts the number of vocals.\n",
    "If the vocals number is even, RETURN the number of vocals, otherwise raises exception `ValueError`"
   ]
  },
  {
   "cell_type": "code",
   "execution_count": 40,
   "id": "86fa39d1",
   "metadata": {
    "tags": [
     "answer",
     "hide-cell"
    ]
   },
   "outputs": [],
   "source": [
    "def countvoc(word):\n",
    "    n_vocals = 0\n",
    "\n",
    "    vocals = [\"a\",\"e\",\"i\",\"o\",\"u\"]\n",
    "\n",
    "    for char in word:\n",
    "        if char.lower() in vocals:\n",
    "            n_vocals = n_vocals + 1\n",
    "\n",
    "    if n_vocals % 2 == 0:\n",
    "        return n_vocals\n",
    "    else:\n",
    "        raise ValueError(\"Odd vocals !\")"
   ]
  },
  {
   "cell_type": "code",
   "execution_count": 42,
   "id": "a418e854",
   "metadata": {},
   "outputs": [],
   "source": [
    "assert countvoc(\"arco\") == 2\n",
    "assert countvoc(\"scaturire\") == 4\n",
    "\n",
    "try:\n",
    "    countvoc(\"ciao\")    # with this string we expect it raises exception ValueError\n",
    "    raise Exception(\"I shouldn't arrive until here !\")\n",
    "except ValueError:      # if it raises the exception ValueError, it is behaving as expected and we do nothing\n",
    "    pass\n",
    "\n",
    "try:\n",
    "    countvoc(\"aiuola\")  # with this string we expect it raises exception ValueError\n",
    "    raise Exception(\"I shouldn't arrive until here  !\")\n",
    "except ValueError:      # if it raises the exception ValueError, it is behaving as expected and we do nothing\n",
    "    pass"
   ]
  },
  {
   "cell_type": "markdown",
   "id": "104e20ff",
   "metadata": {},
   "source": [
    "### extract_email\n"
   ]
  },
  {
   "cell_type": "code",
   "execution_count": 43,
   "id": "f970c470",
   "metadata": {
    "tags": [
     "answer",
     "hide-cell"
    ]
   },
   "outputs": [],
   "source": [
    "def extract_email(s):\n",
    "    \"\"\" Takes a string s formatted like \n",
    "    \n",
    "        \"lun 5 nov 2018, 02:09 John Doe <john.doe@some-website.com>\"\n",
    "        \n",
    "        and RETURN the email \"john.doe@some-website.com\"\n",
    "        \n",
    "        NOTE: the string MAY contain spaces before and after, but your function must be able to extract email anyway.\n",
    "        \n",
    "        If the string for some reason is found to be ill formatted, raises ValueError\n",
    "    \"\"\"\n",
    "    stripped = s.strip()\n",
    "    i = stripped.find('<')\n",
    "    return stripped[i+1:len(stripped)-1]"
   ]
  },
  {
   "cell_type": "code",
   "execution_count": 44,
   "id": "ac2abe34",
   "metadata": {},
   "outputs": [],
   "source": [
    "assert extract_email(\"lun 5 nov 2018, 02:09 John Doe <john.doe@some-website.com>\") == \"john.doe@some-website.com\"\n",
    "assert extract_email(\"lun 5 nov 2018, 02:09 Foo Baz <mrfoo.baz@blabla.com>\") == \"mrfoo.baz@blabla.com\"\n",
    "assert extract_email(\" lun 5 nov 2018, 02:09 Foo Baz <mrfoo.baz@blabla.com>  \") == \"mrfoo.baz@blabla.com\"  # with spaces"
   ]
  },
  {
   "cell_type": "markdown",
   "id": "b3b0e993",
   "metadata": {},
   "source": [
    "### canon_phone\n",
    "\n",
    "✪ Implement a function that canonicalize canonicalize a phone number as a string. It must RETURN the canonical version of phone as a string. \n",
    "\n",
    "\n",
    "For us, a canonical phone number:\n",
    "\n",
    "- contains no spaces\n",
    "- contains no international prefix, so no `+39` nor `0039`: we assume all calls where placed from Italy (even if they have international prefix)\n",
    "\n",
    "\n",
    "For example, all of these are canonicalized to `\"0461123456\"`:\n",
    "\n",
    "```\n",
    "+39 0461 123456\n",
    "+390461123456\n",
    "0039 0461 123456\n",
    "00390461123456\n",
    "```\n",
    "\n",
    "These are canonicalized as the following:\n",
    "\n",
    "```\n",
    "328 123 4567        ->  3281234567\n",
    "0039 328 123 4567   ->  3281234567\n",
    "0039 3771 1234567   ->  37711234567\n",
    "```\n",
    "\n",
    "**REMEMBER: strings are immutable !!!!!**"
   ]
  },
  {
   "cell_type": "code",
   "execution_count": 46,
   "id": "9eb767c6",
   "metadata": {
    "tags": [
     "answer",
     "hide-cell"
    ]
   },
   "outputs": [],
   "source": [
    "def phone_canon(phone):\n",
    "    p = phone.replace(' ', '')\n",
    "    if p.startswith('0039'):\n",
    "        p = p[4:]\n",
    "    if p.startswith('+39'):\n",
    "        p = p[3:]\n",
    "    return p"
   ]
  },
  {
   "cell_type": "code",
   "execution_count": 47,
   "id": "e0cbd994",
   "metadata": {},
   "outputs": [],
   "source": [
    "assert phone_canon('+39 0461 123456') == '0461123456'\n",
    "assert phone_canon('+390461123456') == '0461123456'\n",
    "assert phone_canon('0039 0461 123456') == '0461123456'\n",
    "assert phone_canon('00390461123456') == '0461123456'\n",
    "assert phone_canon('003902123456') == '02123456'\n",
    "assert phone_canon('003902120039') == '02120039'\n",
    "assert phone_canon('0039021239') == '021239'"
   ]
  },
  {
   "cell_type": "markdown",
   "id": "f42cc537",
   "metadata": {},
   "source": [
    "### phone_prefix\n",
    "\n",
    "✪✪ We now want to extract the province prefix from phone numbers (see previous exercise) - the ones we consider as valid are in `province_prefixes` list.\n",
    "\n",
    "Note some numbers are from mobile operators and you can distinguish them by prefixes like `328` - the ones we consider are in `mobile_prefixes` list.\n",
    "\n",
    "Implement a function that RETURN the prefix of the phone as a string. Remember first to make it canonical !!        \n",
    "\n",
    "- If phone is mobile, RETURN string `'mobile'`. If it is not a phone nor a mobile, RETURN the string `'unrecognized'`\n",
    "\n",
    "- To determine if the phone is mobile or from province, use `province_prefixes` and `mobile_prefixes` lists.\n",
    "\n",
    "- DO USE THE PREVIOUSLY DEFINED FUNCTION `phone_canon(phone)`\n"
   ]
  },
  {
   "cell_type": "code",
   "execution_count": 48,
   "id": "aaa995a1",
   "metadata": {},
   "outputs": [],
   "source": [
    "province_prefixes = ['0461', '02', '011']\n",
    "mobile_prefixes = ['330', '340', '328', '390', '3771']"
   ]
  },
  {
   "cell_type": "code",
   "execution_count": 49,
   "id": "c0e8e6a4",
   "metadata": {
    "tags": [
     "answer",
     "hide-cell"
    ]
   },
   "outputs": [],
   "source": [
    "def phone_prefix(phone):\n",
    "    c = phone_canon(phone)\n",
    "    for m in mobile_prefixes:\n",
    "        if c.startswith(m):\n",
    "            return 'mobile'\n",
    "    for p in province_prefixes:\n",
    "        if c.startswith(p):\n",
    "            return p\n",
    "    return 'unrecognized'"
   ]
  },
  {
   "cell_type": "code",
   "execution_count": 50,
   "id": "716b5070",
   "metadata": {},
   "outputs": [],
   "source": [
    "assert phone_prefix('0461123') == '0461'\n",
    "assert phone_prefix('+39 0461  4321') == '0461'\n",
    "assert phone_prefix('0039011 432434') == '011'\n",
    "assert phone_prefix('328 432434') == 'mobile'\n",
    "assert phone_prefix('+39340 432434') == 'mobile'\n",
    "assert phone_prefix('00666011 432434') == 'unrecognized'\n",
    "assert phone_prefix('12345') == 'unrecognized'\n",
    "assert phone_prefix('+39 123 12345') == 'unrecognized'"
   ]
  },
  {
   "cell_type": "markdown",
   "id": "2aad4594",
   "metadata": {},
   "source": [
    "### palindrome\n",
    "\n",
    "✪✪✪ A word is palindrome if it exactly the same when you read it in reverse\n",
    "\n",
    "Write a function the RETURN `True` if the given word is palindrome, `False` otherwise\n",
    "\n",
    "* assume that the empty string is palindrome\n",
    "\n",
    "There are various ways to solve this problems, some actually easy & elegant. Try to find at least a couple of them."
   ]
  },
  {
   "cell_type": "code",
   "execution_count": 2,
   "id": "8f485f8e",
   "metadata": {
    "tags": [
     "answer",
     "hide-cell"
    ]
   },
   "outputs": [],
   "source": [
    "def palindrome(word):\n",
    "    for i in range(len(word) // 2):\n",
    "        if word[i] != word[len(word)- i - 1]: \n",
    "            return False\n",
    "                  \n",
    "    # note how the return is outside the for loop: after passing all controls, we can\n",
    "    # conclude that the word it is actually palindrome\n",
    "    return True   "
   ]
  },
  {
   "cell_type": "code",
   "execution_count": 3,
   "id": "3d4d0a93",
   "metadata": {},
   "outputs": [],
   "source": [
    "assert palindrome('') == True    # we assume the empty string is palindrome\n",
    "assert palindrome('a') == True\n",
    "assert palindrome('aa') == True\n",
    "assert palindrome('ab') == False\n",
    "assert palindrome('aba') == True\n",
    "assert palindrome('bab') == True\n",
    "assert palindrome('bba') == False\n",
    "assert palindrome('abb') == False\n",
    "assert palindrome('abba') == True\n",
    "assert palindrome('baab') == True\n",
    "assert palindrome('abbb') == False\n",
    "assert palindrome('bbba') == False\n",
    "assert palindrome('radar') == True\n",
    "assert palindrome('abstruse') == False"
   ]
  }
 ],
 "metadata": {
  "celltoolbar": "Edit Metadata",
  "kernelspec": {
   "display_name": "Python 3 (ipykernel)",
   "language": "python",
   "name": "python3"
  },
  "language_info": {
   "codemirror_mode": {
    "name": "ipython",
    "version": 3
   },
   "file_extension": ".py",
   "mimetype": "text/x-python",
   "name": "python",
   "nbconvert_exporter": "python",
   "pygments_lexer": "ipython3",
   "version": "3.10.14"
  },
  "toc": {
   "base_numbering": 1,
   "nav_menu": {},
   "number_sections": false,
   "sideBar": true,
   "skip_h1_title": false,
   "title_cell": "Table of Contents",
   "title_sidebar": "Contents",
   "toc_cell": false,
   "toc_position": {
    "height": "calc(100% - 180px)",
    "left": "10px",
    "top": "150px",
    "width": "280.2px"
   },
   "toc_section_display": true,
   "toc_window_display": true
  }
 },
 "nbformat": 4,
 "nbformat_minor": 5
}
