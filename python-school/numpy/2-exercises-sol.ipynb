{
 "cells": [
  {
   "cell_type": "markdown",
   "id": "2ddfb456",
   "metadata": {},
   "source": [
    "# Exercises\n",
    "\n",
    "## Introduction\n",
    "\n",
    "Let's see now some exercises. First ones will be given in two versions: first ones usually adopt for cycles and are thus slow, second ones are denoted 'pro' and avoid loops using all the power offered by Numpy. In particular in many cases you can obtain very efficient and compact programs by using slices in smart ways.\n"
   ]
  },
  {
   "cell_type": "code",
   "execution_count": 120,
   "id": "418ebe6c",
   "metadata": {},
   "outputs": [],
   "source": [
    "import numpy as np"
   ]
  },
  {
   "cell_type": "markdown",
   "id": "9e38bea6",
   "metadata": {},
   "source": [
    "All exercises are functions to implement.\n"
   ]
  },
  {
   "cell_type": "markdown",
   "id": "ed055f1b",
   "metadata": {},
   "source": [
    "### frame\n",
    "\n",
    "✪✪✪ RETURN a NEW Numpy matrix of `n` rows and `n` columns, in which all the values are zero except those on borders, which must be equal to a given `k`\n",
    "\n",
    "Ingredients:\n",
    "\n",
    "- create a matrix filled with zeros. ATTENTION: which dimensions does it have? Do you need `n` or `k` ? Read WELL the text.\n",
    "\n",
    "For this first version, try filling the rows and columns using `for in range` and writing directly in the single cells\n"
   ]
  },
  {
   "cell_type": "code",
   "execution_count": 121,
   "id": "c572ce7d",
   "metadata": {
    "tags": [
     "answer",
     "hide-input"
    ]
   },
   "outputs": [],
   "source": [
    "def frame(n, k):\n",
    "    mat = np.zeros((n, n))\n",
    "    for i in range(n):\n",
    "        mat[0, i] = k\n",
    "        mat[i, 0] = k\n",
    "        mat[i, n - 1] = k\n",
    "        mat[n - 1, i] = k\n",
    "    return mat"
   ]
  },
  {
   "cell_type": "code",
   "execution_count": 176,
   "id": "4a2e2c52",
   "metadata": {},
   "outputs": [
    {
     "data": {
      "text/plain": [
       "array([[7., 7., 7., 7.],\n",
       "       [7., 0., 0., 7.],\n",
       "       [7., 0., 0., 7.],\n",
       "       [7., 7., 7., 7.]])"
      ]
     },
     "execution_count": 176,
     "metadata": {},
     "output_type": "execute_result"
    }
   ],
   "source": [
    "frame(4, 7.0)"
   ]
  },
  {
   "cell_type": "code",
   "execution_count": 122,
   "id": "d6800873",
   "metadata": {},
   "outputs": [],
   "source": [
    "expected_mat = np.array(\n",
    "    [\n",
    "        [7.0, 7.0, 7.0, 7.0],\n",
    "        [7.0, 0.0, 0.0, 7.0],\n",
    "        [7.0, 0.0, 0.0, 7.0],\n",
    "        [7.0, 7.0, 7.0, 7.0],\n",
    "    ]\n",
    ")\n",
    "# all_close return True if all the values in the first matrix are close enough\n",
    "# (that is, within a given tolerance) to corresponding values in the second\n",
    "assert np.allclose(frame(4, 7.0), expected_mat)\n",
    "\n",
    "expected_mat = np.array([[7.0]])\n",
    "assert np.allclose(frame(1, 7.0), expected_mat)\n",
    "\n",
    "expected_mat = np.array([[7.0, 7.0], [7.0, 7.0]])\n",
    "assert np.allclose(frame(2, 7.0), expected_mat)"
   ]
  },
  {
   "cell_type": "markdown",
   "id": "e7098066",
   "metadata": {},
   "source": [
    "## Exercise - frameslices\n",
    "\n",
    "✪✪✪ Solve the precious exercise, this time **using 4 slices**\n",
    "\n",
    "- **DO NOT** use `for` nor `while` loops\n"
   ]
  },
  {
   "cell_type": "code",
   "execution_count": 123,
   "id": "4481e37c",
   "metadata": {
    "tags": [
     "answer",
     "hide-input"
    ]
   },
   "outputs": [],
   "source": [
    "def frameslices(n, k):\n",
    "    mat = np.zeros((n, n))\n",
    "\n",
    "    mat[0, :] = k\n",
    "    mat[:, 0] = k\n",
    "    mat[:, n - 1] = k\n",
    "    mat[n - 1, :] = k\n",
    "\n",
    "    return mat"
   ]
  },
  {
   "cell_type": "code",
   "execution_count": 124,
   "id": "520cc7e6",
   "metadata": {},
   "outputs": [],
   "source": [
    "r1 = np.array(\n",
    "    [\n",
    "        [7.0, 7.0, 7.0, 7.0],\n",
    "        [7.0, 0.0, 0.0, 7.0],\n",
    "        [7.0, 0.0, 0.0, 7.0],\n",
    "        [7.0, 7.0, 7.0, 7.0],\n",
    "    ]\n",
    ")\n",
    "\n",
    "# all_close return True if all the values in the first matrix are close enough\n",
    "# (that is, within a given tolerance) to corresponding values in the second\n",
    "assert np.allclose(frameslices(4, 7.0), r1)\n",
    "\n",
    "r2 = np.array([[7.0]])\n",
    "assert np.allclose(frameslices(1, 7.0), r2)\n",
    "\n",
    "r3 = np.array([[7.0, 7.0], [7.0, 7.0]])\n",
    "assert np.allclose(frameslices(2, 7.0), r3)"
   ]
  },
  {
   "cell_type": "markdown",
   "id": "5366f025",
   "metadata": {},
   "source": [
    "## Exercise - framefill\n",
    "\n",
    "✪✪✪ Solve the precious exercise, this using `np.full` function and with **only one slice**\n",
    "\n",
    "- **DO NOT** use `for` nor `while` loops\n"
   ]
  },
  {
   "cell_type": "code",
   "execution_count": 125,
   "id": "0ab1af04",
   "metadata": {
    "tags": [
     "answer",
     "hide-input"
    ]
   },
   "outputs": [],
   "source": [
    "def framefill(n, k):\n",
    "    mat = np.full((n, n), k)\n",
    "    mat[1 : n - 1, 1 : n - 1] = 0.0\n",
    "    return mat"
   ]
  },
  {
   "cell_type": "code",
   "execution_count": 126,
   "id": "b82986ce",
   "metadata": {},
   "outputs": [],
   "source": [
    "r1 = np.array(\n",
    "    [\n",
    "        [7.0, 7.0, 7.0, 7.0],\n",
    "        [7.0, 0.0, 0.0, 7.0],\n",
    "        [7.0, 0.0, 0.0, 7.0],\n",
    "        [7.0, 7.0, 7.0, 7.0],\n",
    "    ]\n",
    ")\n",
    "\n",
    "# all_close return True if all the values in the first matrix are close enough\n",
    "# (that is, within a given tolerance) to corresponding values in the second\n",
    "assert np.allclose(framefill(4, 7.0), r1)\n",
    "\n",
    "r2 = np.array([[7.0]])\n",
    "assert np.allclose(framefill(1, 7.0), r2)\n",
    "\n",
    "r3 = np.array([[7.0, 7.0], [7.0, 7.0]])\n",
    "assert np.allclose(framefill(2, 7.0), r3)"
   ]
  },
  {
   "cell_type": "markdown",
   "id": "32ac37cf",
   "metadata": {},
   "source": [
    "## Exercise - avg_rows\n",
    "\n",
    "✪✪✪ Takes a numpy matrix n x m and RETURN a NEW numpy matrix consisting in a single column in which the values are the average of the values in corresponding rows of input matrix\n",
    "\n",
    "Example:\n",
    "\n",
    "Input: 5x4 matrix\n",
    "\n",
    "```\n",
    "3 2 1 4\n",
    "6 2 3 5\n",
    "4 3 6 2\n",
    "4 6 5 4\n",
    "7 2 9 3\n",
    "```\n",
    "\n",
    "Output: 5x1 matrix\n",
    "\n",
    "```\n",
    "(3+2+1+4)/4\n",
    "(6+2+3+5)/4\n",
    "(4+3+6+2)/4\n",
    "(4+6+5+4)/4\n",
    "(7+2+9+3)/4\n",
    "```\n",
    "\n",
    "Basic version ingredients (slow)\n",
    "\n",
    "- create a matrix n x 1 to return, filling it with zeros\n",
    "- visit all cells of original matrix with two nested fors\n",
    "- during visit, accumulate in the matrix to return the sum of elements takes from each row of original matrix\n",
    "- once completed the sum of a row, you can divide it by the dimension of columns of original matrix\n",
    "- return the matrix\n",
    "\n",
    "Pro version (fast):\n",
    "\n",
    "- try using `axis` parameter and [reshape](https://www.tutorialspoint.com/numpy/numpy_reshape.htm)\n"
   ]
  },
  {
   "cell_type": "code",
   "execution_count": 127,
   "id": "fade3997",
   "metadata": {
    "tags": [
     "answer",
     "hide-input"
    ]
   },
   "outputs": [],
   "source": [
    "def avg_rows(mat):\n",
    "    nrows, ncols = mat.shape\n",
    "    ret = np.zeros((nrows, 1))\n",
    "    for i in range(nrows):\n",
    "        for j in range(ncols):\n",
    "            ret[i] += mat[i, j]\n",
    "        ret[i] = ret[i] / ncols\n",
    "        # for brevity we could also write\n",
    "        # ret[i] /= ncols\n",
    "    return ret\n",
    "\n",
    "\n",
    "def avg_rows_pro(mat):\n",
    "    rows, cols = mat.shape  # obtain number of rows and columns\n",
    "    media = np.mean(mat, axis=1)  # average for rows\n",
    "    media = media.reshape((rows, 1))\n",
    "    return media"
   ]
  },
  {
   "cell_type": "code",
   "execution_count": 128,
   "id": "bd2c03eb",
   "metadata": {},
   "outputs": [],
   "source": [
    "m1 = np.array([[5.0]])\n",
    "r1 = np.array([[5.0]])\n",
    "assert np.allclose(avg_rows(m1), r1)\n",
    "\n",
    "m2 = np.array([[5.0, 3.0]])\n",
    "r2 = np.array([[4.0]])\n",
    "assert np.allclose(avg_rows(m2), r2)\n",
    "\n",
    "\n",
    "m3 = np.array([[3, 2, 1, 4], [6, 2, 3, 5], [4, 3, 6, 2], [4, 6, 5, 4], [7, 2, 9, 3]])\n",
    "\n",
    "r3 = np.array(\n",
    "    [\n",
    "        [(3 + 2 + 1 + 4) / 4],\n",
    "        [(6 + 2 + 3 + 5) / 4],\n",
    "        [(4 + 3 + 6 + 2) / 4],\n",
    "        [(4 + 6 + 5 + 4) / 4],\n",
    "        [(7 + 2 + 9 + 3) / 4],\n",
    "    ]\n",
    ")\n",
    "\n",
    "assert np.allclose(avg_rows(m3), r3)"
   ]
  },
  {
   "cell_type": "markdown",
   "id": "729cd6ae",
   "metadata": {},
   "source": [
    "## Exercise - matrot\n",
    "\n",
    "✪✪✪ RETURN a NEW Numpy matrix which has the numbers of input matrix rotated by a column.\n",
    "\n",
    "With rotation we mean that:\n",
    "\n",
    "- if a number of input matrix is found in column `j`, in the output matrix it will be in the column `j+1` in the same row.\n",
    "- if a number is found in the last column, in the output matrix it will be in the zertoth column\n"
   ]
  },
  {
   "cell_type": "code",
   "execution_count": 129,
   "id": "ea7c410a",
   "metadata": {
    "tags": [
     "answer",
     "hide-input"
    ]
   },
   "outputs": [],
   "source": [
    "def matrot(mat):\n",
    "    ret = np.zeros(mat.shape)\n",
    "\n",
    "    for i in range(mat.shape[0]):\n",
    "        ret[i, 0] = mat[i, -1]\n",
    "        for j in range(1, mat.shape[1]):\n",
    "            ret[i, j] = mat[i, j - 1]\n",
    "    return ret\n",
    "\n",
    "\n",
    "def matrot_pro(mat):\n",
    "    m = mat.shape[0]\n",
    "    n = mat.shape[1]\n",
    "\n",
    "    ret = np.zeros((m, n))\n",
    "\n",
    "    ret[:, 0] = mat[:, -1]\n",
    "    ret[:, 1:] = mat[:, :-1]\n",
    "    return ret"
   ]
  },
  {
   "cell_type": "code",
   "execution_count": 130,
   "id": "a4b91dab",
   "metadata": {},
   "outputs": [
    {
     "data": {
      "text/plain": [
       "array([[0., 0., 1.],\n",
       "       [0., 1., 1.],\n",
       "       [0., 0., 0.],\n",
       "       [1., 0., 1.]])"
      ]
     },
     "execution_count": 130,
     "metadata": {},
     "output_type": "execute_result"
    }
   ],
   "source": [
    "input = np.array(\n",
    "    [\n",
    "        [0, 1, 0],\n",
    "        [1, 1, 0],\n",
    "        [0, 0, 0],\n",
    "        [0, 1, 1],\n",
    "    ]\n",
    ")\n",
    "matrot(input)"
   ]
  },
  {
   "cell_type": "code",
   "execution_count": 131,
   "id": "33914c3a",
   "metadata": {},
   "outputs": [],
   "source": [
    "m1 = np.array([[1]])\n",
    "r1 = np.array([[1]])\n",
    "\n",
    "assert np.allclose(matrot(m1), r1)\n",
    "\n",
    "m2 = np.array([[0, 1]])\n",
    "r2 = np.array([[1, 0]])\n",
    "assert np.allclose(matrot(m2), r2)\n",
    "\n",
    "m3 = np.array([[0, 1, 0]])\n",
    "r3 = np.array([[0, 0, 1]])\n",
    "\n",
    "assert np.allclose(matrot(m3), r3)\n",
    "\n",
    "m4 = np.array(\n",
    "    [\n",
    "        [0, 1, 0],\n",
    "        [1, 1, 0],\n",
    "    ]\n",
    ")\n",
    "r4 = np.array(\n",
    "    [\n",
    "        [0, 0, 1],\n",
    "        [0, 1, 1],\n",
    "    ]\n",
    ")\n",
    "assert np.allclose(matrot(m4), r4)\n",
    "\n",
    "\n",
    "m5 = np.array(\n",
    "    [\n",
    "        [0, 1, 0],\n",
    "        [1, 1, 0],\n",
    "        [0, 0, 0],\n",
    "        [0, 1, 1],\n",
    "    ]\n",
    ")\n",
    "r5 = np.array(\n",
    "    [\n",
    "        [0, 0, 1],\n",
    "        [0, 1, 1],\n",
    "        [0, 0, 0],\n",
    "        [1, 0, 1],\n",
    "    ]\n",
    ")\n",
    "assert np.allclose(matrot(m5), r5)"
   ]
  },
  {
   "cell_type": "markdown",
   "id": "3e6fefcf",
   "metadata": {},
   "source": [
    "## Exercise - odd\n",
    "\n",
    "✪✪✪ Takes a Numpy matrix `mat` of dimension `nrows` by `ncols` containing integer numbers and RETURN a NEW Numpy matrix of dimension `nrows` by `ncols` which is like the original, ma in the cells which contained even numbers now there will be odd numbers obtained by summing `1` to the existing even number.\n",
    "\n",
    "Basic versions hints (slow):\n",
    "\n",
    "- Since you need to return a matrix, start with creating an empty one\n",
    "- go through the whole input matrix with indeces `i` and `j`\n"
   ]
  },
  {
   "cell_type": "code",
   "execution_count": 132,
   "id": "0eb22b86",
   "metadata": {
    "tags": [
     "answer",
     "hide-input"
    ]
   },
   "outputs": [],
   "source": [
    "def odd(mat):\n",
    "    nrows, ncols = mat.shape\n",
    "    ret = np.zeros((nrows, ncols))\n",
    "    for i in range(nrows):\n",
    "        for j in range(ncols):\n",
    "            if mat[i, j] % 2 == 0:\n",
    "                ret[i, j] = mat[i, j] + 1\n",
    "            else:\n",
    "                ret[i, j] = mat[i, j]\n",
    "    return ret\n",
    "\n",
    "\n",
    "def odd_pro1(mat):\n",
    "    ret = np.array(np.where(mat % 2 == 0, mat + 1, mat))\n",
    "    return ret\n",
    "\n",
    "\n",
    "def odd_pro2(mat):\n",
    "    ret = mat.copy()\n",
    "    ret[ret % 2 == 0] += 1\n",
    "    return ret"
   ]
  },
  {
   "cell_type": "code",
   "execution_count": 133,
   "id": "45ef88e6",
   "metadata": {},
   "outputs": [
    {
     "data": {
      "text/plain": [
       "array([[3., 5., 7., 3.],\n",
       "       [9., 5., 3., 5.],\n",
       "       [7., 1., 7., 9.]])"
      ]
     },
     "execution_count": 133,
     "metadata": {},
     "output_type": "execute_result"
    }
   ],
   "source": [
    "odd(\n",
    "    np.array(\n",
    "        [\n",
    "            [2, 5, 6, 3],\n",
    "            [8, 4, 3, 5],\n",
    "            [6, 1, 7, 9],\n",
    "        ]\n",
    "    )\n",
    ")"
   ]
  },
  {
   "cell_type": "code",
   "execution_count": 134,
   "id": "601aec0e",
   "metadata": {},
   "outputs": [],
   "source": [
    "m1 = np.array([[2]])\n",
    "m2 = np.array([[3]])\n",
    "assert np.allclose(odd(m1), m2)\n",
    "assert m1[0][0] == 2  # checks we are not modifying original matrix\n",
    "\n",
    "\n",
    "m3 = np.array(\n",
    "    [\n",
    "        [2, 5, 6, 3],\n",
    "        [8, 4, 3, 5],\n",
    "        [6, 1, 7, 9],\n",
    "    ]\n",
    ")\n",
    "m4 = np.array(\n",
    "    [\n",
    "        [3, 5, 7, 3],\n",
    "        [9, 5, 3, 5],\n",
    "        [7, 1, 7, 9],\n",
    "    ]\n",
    ")\n",
    "assert np.allclose(odd(m3), m4)"
   ]
  },
  {
   "cell_type": "markdown",
   "id": "b45fa24f",
   "metadata": {},
   "source": [
    "## Exercise - doublealt\n",
    "\n",
    "✪✪✪ Takes a Numpy matrix `mat` of dimensions `nrows` x `ncols` containing integer numbers and RETURN a NEW Numpy matrix of dimension `nrows` x `ncols` having at rows of even **index** the numbers of original matrix multiplied by two, and at rows of odd **index** the same numbers as the original matrix."
   ]
  },
  {
   "cell_type": "code",
   "execution_count": 135,
   "id": "fc78e700",
   "metadata": {
    "tags": [
     "answer",
     "hide-input"
    ]
   },
   "outputs": [],
   "source": [
    "def doublealt(mat):\n",
    "    nrows, ncols = mat.shape\n",
    "    ret = np.zeros((nrows, ncols))\n",
    "\n",
    "    for i in range(nrows):\n",
    "        for j in range(ncols):\n",
    "            if i % 2 == 0:\n",
    "                ret[i, j] = mat[i, j] * 2\n",
    "            else:\n",
    "                ret[i, j] = mat[i, j]\n",
    "    return ret\n",
    "\n",
    "\n",
    "def doublealt_pro(mat):\n",
    "    ret = mat.copy()\n",
    "    ret[::2, :] *= 2\n",
    "    return ret"
   ]
  },
  {
   "cell_type": "code",
   "execution_count": 136,
   "id": "2f55e469",
   "metadata": {},
   "outputs": [
    {
     "data": {
      "text/plain": [
       "array([[ 4., 10., 12.,  6.],\n",
       "       [ 8.,  4.,  3.,  5.],\n",
       "       [14.,  2., 12., 18.],\n",
       "       [ 5.,  2.,  4.,  1.],\n",
       "       [12.,  6.,  8.,  6.]])"
      ]
     },
     "execution_count": 136,
     "metadata": {},
     "output_type": "execute_result"
    }
   ],
   "source": [
    "m = np.array(\n",
    "    [\n",
    "        [2, 5, 6, 3],  #    0     even\n",
    "        [8, 4, 3, 5],  #    1     odd\n",
    "        [7, 1, 6, 9],  #    2     even\n",
    "        [5, 2, 4, 1],  #    3     odd\n",
    "        [6, 3, 4, 3],  #    4     even\n",
    "    ]\n",
    ")\n",
    "doublealt(m)"
   ]
  },
  {
   "cell_type": "code",
   "execution_count": 137,
   "id": "37f73ce5",
   "metadata": {},
   "outputs": [],
   "source": [
    "m1 = np.array([[2]])\n",
    "m2 = np.array([[4]])\n",
    "assert np.allclose(doublealt(m1), m2)\n",
    "assert m1[0][0] == 2  # checks we are not modifying original matrix\n",
    "\n",
    "\n",
    "m3 = np.array([[2, 5, 6], [8, 4, 3]])\n",
    "m4 = np.array([[4, 10, 12], [8, 4, 3]])\n",
    "assert np.allclose(doublealt(m3), m4)\n",
    "\n",
    "m5 = np.array([[2, 5, 6, 3], [8, 4, 3, 5], [7, 1, 6, 9], [5, 2, 4, 1], [6, 3, 4, 3]])\n",
    "m6 = np.array(\n",
    "    [[4, 10, 12, 6], [8, 4, 3, 5], [14, 2, 12, 18], [5, 2, 4, 1], [12, 6, 8, 6]]\n",
    ")\n",
    "assert np.allclose(doublealt(m5), m6)"
   ]
  },
  {
   "cell_type": "markdown",
   "id": "50bf7882",
   "metadata": {},
   "source": [
    "## Exercise - chessboard\n",
    "\n",
    "✪✪✪ RETURN a NEW Numpy matrix of `n` rows and `n` columns, in which all cells alternate zeros and ones.\n",
    "\n",
    "Basic version ingredients (slow):\n",
    "\n",
    "- to alternate, you can use `range` in the form in which takes 3 parameters, for example `range(0,n,2)` starts from 0, arrives to `n` excluded by jumping one item at a time, generating 0,2,4,6,8, ....\n",
    "- `range(1,n,2)` would instead generate 1,3,5,7, ...\n"
   ]
  },
  {
   "cell_type": "code",
   "execution_count": 138,
   "id": "310ef5bd",
   "metadata": {
    "tags": [
     "answer",
     "hide-input"
    ]
   },
   "outputs": [],
   "source": [
    "def chessboard(n):\n",
    "    mat = np.zeros((n, n))\n",
    "\n",
    "    for i in range(0, n, 2):\n",
    "        for j in range(0, n, 2):\n",
    "            mat[i, j] = 1\n",
    "\n",
    "    for i in range(1, n, 2):\n",
    "        for j in range(1, n, 2):\n",
    "            mat[i, j] = 1\n",
    "\n",
    "    return mat\n",
    "\n",
    "\n",
    "def chessboard_pro(n):\n",
    "    ret = np.zeros((n, n))\n",
    "    ret[::2, ::2] = 1\n",
    "    ret[1::2, 1::2] = 1\n",
    "    return ret"
   ]
  },
  {
   "cell_type": "code",
   "execution_count": 139,
   "id": "be1a3636",
   "metadata": {},
   "outputs": [
    {
     "data": {
      "text/plain": [
       "array([[1., 0., 1., 0.],\n",
       "       [0., 1., 0., 1.],\n",
       "       [1., 0., 1., 0.],\n",
       "       [0., 1., 0., 1.]])"
      ]
     },
     "execution_count": 139,
     "metadata": {},
     "output_type": "execute_result"
    }
   ],
   "source": [
    "chessboard(4)"
   ]
  },
  {
   "cell_type": "code",
   "execution_count": 140,
   "id": "4c1468cc",
   "metadata": {},
   "outputs": [],
   "source": [
    "r1 = np.array(\n",
    "    [\n",
    "        [1.0, 0.0, 1.0, 0.0],\n",
    "        [0.0, 1.0, 0.0, 1.0],\n",
    "        [1.0, 0.0, 1.0, 0.0],\n",
    "        [0.0, 1.0, 0.0, 1.0],\n",
    "    ]\n",
    ")\n",
    "assert np.allclose(chessboard(4), r1)\n",
    "\n",
    "r2 = np.array([[1.0]])\n",
    "assert np.allclose(chessboard(1), r2)\n",
    "\n",
    "r3 = np.array([[1.0, 0.0], [0.0, 1.0]])\n",
    "assert np.allclose(chessboard(2), r3)"
   ]
  },
  {
   "cell_type": "markdown",
   "id": "bf5730ba",
   "metadata": {},
   "source": [
    "## Exercise - altsum\n",
    "\n",
    "✪✪✪ MODIFY the input Numpy matrix (n x n), by summing to all the odd rows the even rows. For example\n",
    "\n",
    "Basic version ingredients (slow):\n",
    "\n",
    "- to alternate, you can use `range` in the form in which takes 3 parameters, for example `range(0,n,2)` starts from 0, arrives to `n` excluded by jumping one item at a time, generating 0,2,4,6,8, ....\n",
    "- instead `range(1,n,2)` would generate 1,3,5,7, ..\n"
   ]
  },
  {
   "cell_type": "code",
   "execution_count": 141,
   "id": "9ff99fed",
   "metadata": {
    "tags": [
     "answer",
     "hide-input"
    ]
   },
   "outputs": [],
   "source": [
    "def altsum(mat):\n",
    "    nrows, ncols = mat.shape\n",
    "    for i in range(1, nrows, 2):\n",
    "        for j in range(0, ncols):\n",
    "            mat[i, j] = mat[i, j] + mat[i - 1, j]\n",
    "\n",
    "\n",
    "def altsum_pro(mat):\n",
    "    mat[1::2] += mat[::2]\n",
    "    return mat"
   ]
  },
  {
   "cell_type": "code",
   "execution_count": 142,
   "id": "d1c1bcec",
   "metadata": {},
   "outputs": [
    {
     "data": {
      "text/plain": [
       "array([[ 1.,  3.,  2.,  5.],\n",
       "       [ 3., 11.,  7., 14.],\n",
       "       [ 6.,  9.,  7.,  2.],\n",
       "       [10., 16.,  9.,  6.]])"
      ]
     },
     "execution_count": 142,
     "metadata": {},
     "output_type": "execute_result"
    }
   ],
   "source": [
    "m = np.array(\n",
    "    [\n",
    "        [1.0, 3.0, 2.0, 5.0],\n",
    "        [2.0, 8.0, 5.0, 9.0],\n",
    "        [6.0, 9.0, 7.0, 2.0],\n",
    "        [4.0, 7.0, 2.0, 4.0],\n",
    "    ]\n",
    ")\n",
    "altsum(m)\n",
    "m"
   ]
  },
  {
   "cell_type": "code",
   "execution_count": 143,
   "id": "06b42a97",
   "metadata": {},
   "outputs": [],
   "source": [
    "m1 = np.array(\n",
    "    [\n",
    "        [1.0, 3.0, 2.0, 5.0],\n",
    "        [2.0, 8.0, 5.0, 9.0],\n",
    "        [6.0, 9.0, 7.0, 2.0],\n",
    "        [4.0, 7.0, 2.0, 4.0],\n",
    "    ]\n",
    ")\n",
    "\n",
    "r1 = np.array(\n",
    "    [\n",
    "        [1.0, 3.0, 2.0, 5.0],\n",
    "        [3.0, 11.0, 7.0, 14.0],\n",
    "        [6.0, 9.0, 7.0, 2.0],\n",
    "        [10.0, 16.0, 9.0, 6.0],\n",
    "    ]\n",
    ")\n",
    "\n",
    "altsum(m1)\n",
    "assert np.allclose(m1, r1)  # checks we MODIFIED the original matrix\n",
    "\n",
    "m2 = np.array([[5.0]])\n",
    "r2 = np.array([[5.0]])\n",
    "altsum(m1)\n",
    "assert np.allclose(m2, r2)\n",
    "\n",
    "m3 = np.array([[6.0, 1.0], [3.0, 2.0]])\n",
    "r3 = np.array([[6.0, 1.0], [9.0, 3.0]])\n",
    "altsum(m3)\n",
    "assert np.allclose(m3, r3)"
   ]
  },
  {
   "cell_type": "markdown",
   "id": "2507f80b",
   "metadata": {},
   "source": [
    "## Exercise - avg_half\n",
    "\n",
    "✪✪✪ Takes as input a Numpy matrix withan even number of columns, and RETURN as output a Numpy matrix 1x2, in which the first element will be the average of the left half of the matrix, and the second element will be the average of the right half.\n",
    "\n",
    "Ingredients:\n",
    "\n",
    "- to obtain the number of columns divided by two as integer number, use `//` operator\n"
   ]
  },
  {
   "cell_type": "code",
   "execution_count": 144,
   "id": "1d8fb6e4",
   "metadata": {
    "tags": [
     "answer",
     "hide-input"
    ]
   },
   "outputs": [],
   "source": [
    "def avg_half(mat):\n",
    "    nrows, ncols = mat.shape\n",
    "    half_cols = ncols // 2\n",
    "\n",
    "    avg_sx = 0.0\n",
    "    avg_dx = 0.0\n",
    "\n",
    "    for i in range(nrows):\n",
    "        for j in range(half_cols):\n",
    "            avg_sx += mat[i, j]\n",
    "        for j in range(half_cols, ncols):\n",
    "            avg_dx += mat[i, j]\n",
    "\n",
    "    half_elements = nrows * half_cols\n",
    "    avg_sx /= half_elements\n",
    "    avg_dx /= half_elements\n",
    "    return np.array([avg_sx, avg_dx])\n",
    "\n",
    "\n",
    "def avg_half_pro(mat):\n",
    "    n, m = mat.shape\n",
    "\n",
    "    m2 = m // 2\n",
    "    half_els = n * m2\n",
    "\n",
    "    avg = np.zeros((1, 2))\n",
    "\n",
    "    avg[0, 0] = np.sum(mat[:, :m2]) / half_els\n",
    "    avg[0, 1] = np.sum(mat[:, m2:]) / half_els\n",
    "\n",
    "    return avg"
   ]
  },
  {
   "cell_type": "code",
   "execution_count": 145,
   "id": "448a1362",
   "metadata": {},
   "outputs": [],
   "source": [
    "m1 = np.array([[7, 9]])\n",
    "\n",
    "r1 = np.array([(7) / 1, (9) / 1])\n",
    "assert np.allclose(avg_half(m1), r1)\n",
    "\n",
    "\n",
    "m2 = np.array([[3, 4], [6, 3], [5, 2]])\n",
    "\n",
    "r2 = np.array([(3 + 6 + 5) / 3, (4 + 3 + 2) / 3])\n",
    "assert np.allclose(avg_half(m2), r2)\n",
    "\n",
    "m3 = np.array(\n",
    "    [\n",
    "        [3, 2, 1, 4],\n",
    "        [6, 2, 3, 5],\n",
    "        [4, 3, 6, 2],\n",
    "        [4, 6, 5, 4],\n",
    "        [7, 2, 9, 3],\n",
    "    ]\n",
    ")\n",
    "\n",
    "r3 = np.array(\n",
    "    [\n",
    "        (3 + 2 + 6 + 2 + 4 + 3 + 4 + 6 + 7 + 2) / 10,\n",
    "        (1 + 4 + 3 + 5 + 6 + 2 + 5 + 4 + 9 + 3) / 10,\n",
    "    ]\n",
    ")\n",
    "\n",
    "assert np.allclose(avg_half(m3), r3)"
   ]
  },
  {
   "cell_type": "markdown",
   "id": "15f31c1c",
   "metadata": {},
   "source": [
    "## Exercise - matxarr\n",
    "\n",
    "✪✪ Takes a Numpy matrix `n` x `m` and an `ndarray` of `m` elements, and RETURN a NEW Numpy matrix in which the values of each column of input matrix are multiplied by the corresponding value in the `n` elements array.\n"
   ]
  },
  {
   "cell_type": "code",
   "execution_count": 146,
   "id": "62971821",
   "metadata": {
    "tags": [
     "answer",
     "hide-input"
    ]
   },
   "outputs": [],
   "source": [
    "def matxarr(mat, arr):\n",
    "    ret = np.zeros(mat.shape)\n",
    "\n",
    "    for i in range(mat.shape[0]):\n",
    "        for j in range(mat.shape[1]):\n",
    "            ret[i, j] = mat[i, j] * arr[j]\n",
    "\n",
    "    return ret\n",
    "\n",
    "\n",
    "def matxarr_pro(mat, arr):\n",
    "    return np.array(arr) * mat"
   ]
  },
  {
   "cell_type": "code",
   "execution_count": 147,
   "id": "e59011b7",
   "metadata": {},
   "outputs": [],
   "source": [
    "m1 = np.array(\n",
    "    [\n",
    "        [3, 2, 1],\n",
    "        [6, 2, 3],\n",
    "        [4, 3, 6],\n",
    "        [4, 6, 5],\n",
    "    ]\n",
    ")\n",
    "a1 = [5, 2, 6]\n",
    "r1 = [\n",
    "    [3 * 5, 2 * 2, 1 * 6],\n",
    "    [6 * 5, 2 * 2, 3 * 6],\n",
    "    [4 * 5, 3 * 2, 6 * 6],\n",
    "    [4 * 5, 6 * 2, 5 * 6],\n",
    "]\n",
    "\n",
    "assert np.allclose(matxarr(m1, a1), r1)"
   ]
  },
  {
   "cell_type": "markdown",
   "id": "1889ed8a",
   "metadata": {},
   "source": [
    "## Exercise - colgap\n",
    "\n",
    "✪✪ Given a numpy matrix of $n$ rows and $m$ columns, RETURN a numpy vector of $m$ elements consisting in the difference between the maximum and minimum values of each column.\n"
   ]
  },
  {
   "cell_type": "code",
   "execution_count": 148,
   "id": "f828f2e5",
   "metadata": {
    "tags": [
     "answer",
     "hide-input"
    ]
   },
   "outputs": [],
   "source": [
    "def colgap(mat):\n",
    "    mx = mat[0].copy()\n",
    "    mn = mat[0].copy()\n",
    "    for i in range(mat.shape[0]):\n",
    "        for j in range(mat.shape[1]):\n",
    "            if mat[i, j] > mx[j]:\n",
    "                mx[j] = mat[i, j]\n",
    "            if mat[i, j] < mn[j]:\n",
    "                mn[j] = mat[i, j]\n",
    "    return mx - mn\n",
    "\n",
    "\n",
    "def colgap_pro(mat):\n",
    "    mx = np.max(mat, axis=0)\n",
    "    mn = np.min(mat, axis=0)\n",
    "    return mx - mn"
   ]
  },
  {
   "cell_type": "code",
   "execution_count": 149,
   "id": "bf004029",
   "metadata": {},
   "outputs": [
    {
     "data": {
      "text/plain": [
       "array([5, 4, 8])"
      ]
     },
     "execution_count": 149,
     "metadata": {},
     "output_type": "execute_result"
    }
   ],
   "source": [
    "m = np.array(\n",
    "    [\n",
    "        [5, 4, 2],\n",
    "        [8, 5, 1],\n",
    "        [6, 7, 9],\n",
    "        [3, 6, 4],\n",
    "        [4, 3, 7],\n",
    "    ]\n",
    ")\n",
    "colgap(m)"
   ]
  },
  {
   "cell_type": "code",
   "execution_count": 150,
   "id": "d1179ab2",
   "metadata": {},
   "outputs": [],
   "source": [
    "m1 = np.array([[6]])\n",
    "assert np.allclose(colgap(m1), np.array([0]))\n",
    "ret = colgap(m1)\n",
    "assert type(ret) == np.ndarray\n",
    "\n",
    "m2 = np.array([[6, 8]])\n",
    "assert np.allclose(colgap(m2), np.array([0, 0]))\n",
    "m3 = np.array(\n",
    "    [\n",
    "        [2],\n",
    "        [5],\n",
    "    ]\n",
    ")\n",
    "\n",
    "assert np.allclose(colgap(m3), np.array([3]))\n",
    "m4 = np.array(\n",
    "    [\n",
    "        [5, 7],\n",
    "        [2, 9],\n",
    "    ]\n",
    ")\n",
    "assert np.allclose(colgap(m4), np.array([3, 2]))\n",
    "m5 = np.array(\n",
    "    [\n",
    "        [4, 7],\n",
    "        [4, 9],\n",
    "    ]\n",
    ")\n",
    "assert np.allclose(colgap(m5), np.array([0, 2]))\n",
    "m6 = np.array(\n",
    "    [\n",
    "        [5, 2],\n",
    "        [3, 7],\n",
    "        [9, 0],\n",
    "    ]\n",
    ")\n",
    "assert np.allclose(colgap(m6), np.array([6, 7]))\n",
    "m7 = np.array(\n",
    "    [\n",
    "        [5, 4, 2],\n",
    "        [8, 5, 1],\n",
    "        [6, 7, 9],\n",
    "        [3, 6, 4],\n",
    "        [4, 3, 7],\n",
    "    ]\n",
    ")\n",
    "assert np.allclose(colgap(m7), np.array([5, 4, 8]))"
   ]
  },
  {
   "cell_type": "markdown",
   "id": "7255ae27",
   "metadata": {},
   "source": [
    "## Exercise - substmax\n",
    "\n",
    "✪✪ Given an $n$ x $m$ numpy matrix `mat`, MODIFY the matrix substituting each cell with the maximum value found in the corresponding column."
   ]
  },
  {
   "cell_type": "code",
   "execution_count": 151,
   "id": "22ac61ae",
   "metadata": {
    "tags": [
     "answer",
     "hide-input"
    ]
   },
   "outputs": [],
   "source": [
    "def substmax(mat):\n",
    "    mx = mat[0].copy()\n",
    "    for i in range(mat.shape[0]):\n",
    "        for j in range(mat.shape[1]):\n",
    "            if mat[i, j] > mx[j]:\n",
    "                mx[j] = mat[i, j]\n",
    "    for i in range(mat.shape[0]):\n",
    "        for j in range(mat.shape[1]):\n",
    "            mat[i, j] = mx[j]\n",
    "\n",
    "\n",
    "def substmax_pro(mat):\n",
    "    mat[:, :] = np.max(mat, axis=0)"
   ]
  },
  {
   "cell_type": "code",
   "execution_count": 152,
   "id": "fb440470",
   "metadata": {},
   "outputs": [
    {
     "data": {
      "text/plain": [
       "array([[8, 7, 9],\n",
       "       [8, 7, 9],\n",
       "       [8, 7, 9],\n",
       "       [8, 7, 9],\n",
       "       [8, 7, 9]])"
      ]
     },
     "execution_count": 152,
     "metadata": {},
     "output_type": "execute_result"
    }
   ],
   "source": [
    "m = np.array(\n",
    "    [\n",
    "        [5, 4, 2],\n",
    "        [8, 5, 1],\n",
    "        [6, 7, 9],\n",
    "        [3, 6, 4],\n",
    "        [4, 3, 7],\n",
    "    ]\n",
    ")\n",
    "substmax(m)  # returns nothing!\n",
    "m"
   ]
  },
  {
   "cell_type": "code",
   "execution_count": 153,
   "id": "5f7234dc",
   "metadata": {},
   "outputs": [],
   "source": [
    "m1 = np.array([[6]])\n",
    "substmax(m1)\n",
    "assert np.allclose(m1, np.array([6]))\n",
    "ret = substmax(m1)\n",
    "assert ret == None  # returns nothing!\n",
    "\n",
    "m2 = np.array([[6, 8]])\n",
    "substmax(m2)\n",
    "assert np.allclose(m2, np.array([6, 8]))\n",
    "\n",
    "m3 = np.array([[2], [5]])\n",
    "substmax(m3)\n",
    "assert np.allclose(m3, np.array([[5], [5]]))\n",
    "\n",
    "m4 = np.array([[5, 7], [2, 9]])\n",
    "substmax(m4)\n",
    "\n",
    "assert np.allclose(m4, np.array([[5, 9], [5, 9]]))\n",
    "\n",
    "m5 = np.array([[4, 7], [4, 9]])\n",
    "substmax(m5)\n",
    "assert np.allclose(m5, np.array([[4, 9], [4, 9]]))\n",
    "\n",
    "m6 = np.array(\n",
    "    [\n",
    "        [5, 2],\n",
    "        [3, 7],\n",
    "        [9, 0],\n",
    "    ]\n",
    ")\n",
    "expected = np.array(\n",
    "    [\n",
    "        [9, 7],\n",
    "        [9, 7],\n",
    "        [9, 7],\n",
    "    ]\n",
    ")\n",
    "substmax(m6)\n",
    "assert np.allclose(m6, expected)\n",
    "\n",
    "m7 = np.array(\n",
    "    [\n",
    "        [5, 4, 2],\n",
    "        [8, 5, 1],\n",
    "        [6, 7, 9],\n",
    "        [3, 6, 4],\n",
    "        [4, 3, 7],\n",
    "    ]\n",
    ")\n",
    "expected = np.array(\n",
    "    [\n",
    "        [8, 7, 9],\n",
    "        [8, 7, 9],\n",
    "        [8, 7, 9],\n",
    "        [8, 7, 9],\n",
    "        [8, 7, 9],\n",
    "    ]\n",
    ")\n",
    "substmax(m7)\n",
    "assert np.allclose(m7, expected)"
   ]
  },
  {
   "cell_type": "markdown",
   "id": "f0c4c274",
   "metadata": {},
   "source": [
    "## Exercise - quadrants\n",
    "\n",
    "✪✪✪ Given a matrix `2n * 2n`, divide the matrix in 4 equal square parts (see example) and RETURN a NEW matrix `2 * 2` containing the average of each quadrant.\n",
    "\n",
    "We assume the matrix is always of even dimensions\n",
    "\n",
    "HINT: to divide by two and obtain an integer number, use `//` operator\n",
    "\n",
    "Example:\n",
    "\n",
    "```\n",
    " 1, 2 , 5 , 7\n",
    " 4, 1 , 8 , 0\n",
    " 2, 0 , 5 , 1\n",
    " 0, 2 , 1 , 1\n",
    "```\n",
    "\n",
    "can be divided in\n",
    "\n",
    "```\n",
    "  1, 2 | 5 , 7\n",
    "  4, 1 | 8 , 0\n",
    "-----------------\n",
    "  2, 0 | 5 , 1\n",
    "  0, 2 | 1 , 1\n",
    "```\n",
    "\n",
    "and returns\n",
    "\n",
    "```\n",
    "  (1+2+4+1)/ 4  | (5+7+8+0)/4                        2.0 , 5.0\n",
    "  -----------------------------            =>        1.0 , 2.0\n",
    "  (2+0+0+2)/4   | (5+1+1+1)/4\n",
    "```\n"
   ]
  },
  {
   "cell_type": "code",
   "execution_count": 154,
   "id": "12c544eb",
   "metadata": {
    "tags": [
     "answer",
     "hide-input"
    ]
   },
   "outputs": [],
   "source": [
    "def quadrants(mat):\n",
    "    ret = np.zeros((2, 2))\n",
    "\n",
    "    dim = mat.shape[0]\n",
    "    n = dim // 2\n",
    "    elements_per_quad = n * n\n",
    "\n",
    "    for i in range(n):\n",
    "        for j in range(n):\n",
    "            ret[0, 0] += mat[i, j]\n",
    "    ret[0, 0] /= elements_per_quad\n",
    "\n",
    "    for i in range(n, dim):\n",
    "        for j in range(n):\n",
    "            ret[1, 0] += mat[i, j]\n",
    "    ret[1, 0] /= elements_per_quad\n",
    "\n",
    "    for i in range(n, dim):\n",
    "        for j in range(n, dim):\n",
    "            ret[1, 1] += mat[i, j]\n",
    "    ret[1, 1] /= elements_per_quad\n",
    "\n",
    "    for i in range(n):\n",
    "        for j in range(n, dim):\n",
    "            ret[0, 1] += mat[i, j]\n",
    "    ret[0, 1] /= elements_per_quad\n",
    "\n",
    "    return ret\n",
    "\n",
    "\n",
    "def quadrants_pro(matrice):\n",
    "    m = matrice.shape[0]\n",
    "    ret = np.zeros((2, 2))\n",
    "    n = m // 2\n",
    "    qarea = n * n\n",
    "\n",
    "    ret[0, 0] = np.sum(matrice[:n, :n]) / qarea\n",
    "    ret[0, 1] = np.sum(matrice[:n, n:]) / qarea\n",
    "    ret[1, 0] = np.sum(matrice[n:, :n]) / qarea\n",
    "    ret[1, 1] = np.sum(matrice[n:, n:]) / qarea\n",
    "\n",
    "    return ret"
   ]
  },
  {
   "cell_type": "code",
   "execution_count": 155,
   "id": "b3700a13",
   "metadata": {},
   "outputs": [],
   "source": [
    "m1 = np.array([[3.0, 5.0], [4.0, 9.0]])\n",
    "r1 = np.array(\n",
    "    [\n",
    "        [3.0, 5.0],\n",
    "        [4.0, 9.0],\n",
    "    ]\n",
    ")\n",
    "assert np.allclose(quadrants(m1), r1)\n",
    "\n",
    "m2 = np.array(\n",
    "    [\n",
    "        [1.0, 2.0, 5.0, 7.0],\n",
    "        [4.0, 1.0, 8.0, 0.0],\n",
    "        [2.0, 0.0, 5.0, 1.0],\n",
    "        [0.0, 2.0, 1.0, 1.0],\n",
    "    ]\n",
    ")\n",
    "r2 = np.array([[2.0, 5.0], [1.0, 2.0]])\n",
    "assert np.allclose(quadrants(m2), r2)"
   ]
  },
  {
   "cell_type": "markdown",
   "id": "8986b33c",
   "metadata": {},
   "source": [
    "## Exercise - downup\n",
    "\n",
    "✪✪✪ Write a function which given the dimensions of `n` rows and `m` columns, RETURN a NEW `n` x `m` numpy matrix with sequences which go down and up in alternating rows as in the examples.\n",
    "\n",
    "- if `m` is odd, raises `ValueError`"
   ]
  },
  {
   "cell_type": "code",
   "execution_count": 156,
   "id": "22dd1979",
   "metadata": {
    "tags": [
     "answer",
     "hide-input"
    ]
   },
   "outputs": [],
   "source": [
    "def downup(n, m):\n",
    "    if m % 2 == 1:\n",
    "        raise ValueError(\"m must be even, found %s\" % m)\n",
    "    mat = np.zeros((n, m))\n",
    "    for i in range(0, n, 2):\n",
    "        for j in range(m // 2):\n",
    "            mat[i, j + m // 2] = m // 2 - j - 1\n",
    "    for i in range(1, n, 2):\n",
    "        for j in range(m // 2):\n",
    "            mat[i, j] = j\n",
    "    return mat\n",
    "\n",
    "def downup_pro(n, m):\n",
    "    if m % 2 == 1:\n",
    "        raise ValueError(\"m must be even, found %s\" % m)\n",
    "\n",
    "    ret = np.zeros((n, m))\n",
    "\n",
    "    left = np.tile(np.arange(0.0, m / 2, 1.0), (n // 2, 1))\n",
    "    right = np.tile(np.arange(m / 2 - 1, -0.5, -1.0), (n // 2, 1))\n",
    "    ret[1::2, : m // 2] = left\n",
    "    ret[0::2, m // 2 :] = right\n",
    "    return ret"
   ]
  },
  {
   "cell_type": "code",
   "execution_count": 157,
   "id": "8252729c",
   "metadata": {},
   "outputs": [
    {
     "data": {
      "text/plain": [
       "array([[0., 0., 0., 0., 0., 4., 3., 2., 1., 0.],\n",
       "       [0., 1., 2., 3., 4., 0., 0., 0., 0., 0.],\n",
       "       [0., 0., 0., 0., 0., 4., 3., 2., 1., 0.],\n",
       "       [0., 1., 2., 3., 4., 0., 0., 0., 0., 0.],\n",
       "       [0., 0., 0., 0., 0., 4., 3., 2., 1., 0.],\n",
       "       [0., 1., 2., 3., 4., 0., 0., 0., 0., 0.]])"
      ]
     },
     "execution_count": 157,
     "metadata": {},
     "output_type": "execute_result"
    }
   ],
   "source": [
    "downup(6, 10)"
   ]
  },
  {
   "cell_type": "code",
   "execution_count": 158,
   "id": "e8d982f5",
   "metadata": {},
   "outputs": [],
   "source": [
    "assert np.allclose(downup(2, 2), np.array([[0.0, 0.0], [0.0, 0.0]]))\n",
    "assert type(downup(2, 2)) == np.ndarray\n",
    "\n",
    "assert np.allclose(\n",
    "    downup(2, 6),\n",
    "    np.array([[0.0, 0.0, 0.0, 2.0, 1.0, 0.0], [0.0, 1.0, 2.0, 0.0, 0.0, 0.0]]),\n",
    ")\n",
    "\n",
    "assert np.allclose(\n",
    "    downup(6, 10),\n",
    "    np.array(\n",
    "        [\n",
    "            [0.0, 0.0, 0.0, 0.0, 0.0, 4.0, 3.0, 2.0, 1.0, 0.0],\n",
    "            [0.0, 1.0, 2.0, 3.0, 4.0, 0.0, 0.0, 0.0, 0.0, 0.0],\n",
    "            [0.0, 0.0, 0.0, 0.0, 0.0, 4.0, 3.0, 2.0, 1.0, 0.0],\n",
    "            [0.0, 1.0, 2.0, 3.0, 4.0, 0.0, 0.0, 0.0, 0.0, 0.0],\n",
    "            [0.0, 0.0, 0.0, 0.0, 0.0, 4.0, 3.0, 2.0, 1.0, 0.0],\n",
    "            [0.0, 1.0, 2.0, 3.0, 4.0, 0.0, 0.0, 0.0, 0.0, 0.0],\n",
    "        ]\n",
    "    ),\n",
    ")\n",
    "try:\n",
    "    downup(2, 3)\n",
    "    raise Exception(\"I should have failed!\")\n",
    "except ValueError:\n",
    "    pass"
   ]
  },
  {
   "cell_type": "markdown",
   "id": "139327da",
   "metadata": {},
   "source": [
    "## Exercise - stairsteps\n",
    "\n",
    "✪✪✪ Given a numpy square matrix `mat` of dimension `n`, RETURN a NEW numpy array containing the values retrieved from the matrix in the followin order:\n",
    "\n",
    "```\n",
    "   1,2,*,*,*\n",
    "   *,3,4,*,*\n",
    "   *,*,5,6,*\n",
    "   *,*,*,7,8\n",
    "   *,*,*,*,9\n",
    "```\n",
    "\n",
    "- if the matrix is not square, raises `ValueError`\n",
    "- **DO NOT** use python lists!\n",
    "- **HINT**: how many elements must the array to return have?"
   ]
  },
  {
   "cell_type": "code",
   "execution_count": 159,
   "id": "39fd832d",
   "metadata": {},
   "outputs": [],
   "source": [
    "def stairsteps(mat):\n",
    "    n, m = mat.shape\n",
    "    if n != m:\n",
    "        raise ValueError(\"Required a square matrix, found instead: %s x %s\" % (n, m))\n",
    "\n",
    "    res = np.zeros(n + n - 1)\n",
    "\n",
    "    for i in range(n):\n",
    "        res[2 * i] = mat[i, i]\n",
    "\n",
    "    for i in range(n - 1):\n",
    "        res[2 * i + 1] = mat[i, i + 1]\n",
    "\n",
    "    return res\n",
    "\n",
    "def stairsteps_pro(mat):\n",
    "    n, m = mat.shape\n",
    "    if n != m:\n",
    "        raise ValueError(\"Richiesta una n x n, trovata invece una %s x %s\" % (n, m))\n",
    "    a = np.diag(mat)\n",
    "    b = np.diag(mat, 1)\n",
    "    ret = np.zeros((1, a.shape[0] + b.shape[0]))\n",
    "    ret[:, ::2] = a\n",
    "    ret[:, 1::2] = b\n",
    "    return ret"
   ]
  },
  {
   "cell_type": "code",
   "execution_count": 160,
   "id": "68c1bcb8",
   "metadata": {},
   "outputs": [
    {
     "data": {
      "text/plain": [
       "array([6., 3., 4., 2., 4., 5., 3., 9., 7.])"
      ]
     },
     "execution_count": 160,
     "metadata": {},
     "output_type": "execute_result"
    }
   ],
   "source": [
    "stairsteps(\n",
    "    np.array(\n",
    "        [\n",
    "            [6, 3, 5, 2, 5],\n",
    "            [3, 4, 2, 3, 4],\n",
    "            [6, 5, 4, 5, 1],\n",
    "            [4, 3, 2, 3, 9],\n",
    "            [2, 5, 1, 6, 7],\n",
    "        ]\n",
    "    )\n",
    ")"
   ]
  },
  {
   "cell_type": "code",
   "execution_count": 161,
   "id": "bae14b36",
   "metadata": {},
   "outputs": [],
   "source": [
    "m1 = np.array([[7]])\n",
    "assert np.allclose(stairsteps(m1), np.array([7]))\n",
    "assert type(m1) == np.ndarray\n",
    "\n",
    "m2 = np.array([[6, 8], [9, 3]])\n",
    "assert np.allclose(stairsteps(m2), np.array([6, 8, 3]))\n",
    "assert type(m1) == np.ndarray\n",
    "\n",
    "m3 = np.array(\n",
    "    [\n",
    "        [6, 3, 5, 2, 5],\n",
    "        [3, 4, 2, 3, 4],\n",
    "        [6, 5, 4, 5, 1],\n",
    "        [4, 3, 2, 3, 9],\n",
    "        [2, 5, 1, 6, 7],\n",
    "    ]\n",
    ")\n",
    "\n",
    "assert np.allclose(stairsteps(m3), np.array([6, 3, 4, 2, 4, 5, 3, 9, 7]))\n",
    "\n",
    "try:\n",
    "    stairsteps(np.array([[1, 2, 3], [4, 5, 6]]))\n",
    "    raise Exception(\"I should have failed!\")\n",
    "except ValueError:\n",
    "    pass"
   ]
  },
  {
   "cell_type": "markdown",
   "id": "b1db8473",
   "metadata": {},
   "source": [
    "## Exercise - vertstairs\n",
    "\n",
    "✪✪✪ Given a numbers of rows `n` and of columns `m`, RETURN a NEW `n` x `m` numpy matrix having the numbers in even columns progressively increasing from `1` to `n`, and numbers in odd columns progressively decreasing from `n` to `1`.\n"
   ]
  },
  {
   "cell_type": "code",
   "execution_count": 162,
   "id": "64dd2c6a",
   "metadata": {
    "tags": [
     "answer",
     "hide-input"
    ]
   },
   "outputs": [],
   "source": [
    "def vertstairs(n, m):\n",
    "    ret = np.zeros((n, m))\n",
    "    for i in range(n):\n",
    "        for j in range(m):\n",
    "            if j % 2 == 0:\n",
    "                ret[i, j] = i + 1\n",
    "            else:\n",
    "                ret[i, j] = n - i\n",
    "    return ret\n",
    "\n",
    "\n",
    "def vertstairs_pro(n, m):\n",
    "    ret = np.zeros((n, m))\n",
    "    ret[:, 0::2] = np.tile(np.transpose([np.arange(1, n + 1, 1)]), (m + 1) // 2)\n",
    "    ret[:, 1::2] = np.tile(np.transpose([np.arange(n, 0, -1)]), m // 2)\n",
    "    return ret"
   ]
  },
  {
   "cell_type": "code",
   "execution_count": 163,
   "id": "79f6acd0",
   "metadata": {},
   "outputs": [],
   "source": [
    "assert np.allclose(vertstairs(1, 1), np.array([[1]]))\n",
    "assert np.allclose(vertstairs(1, 2), np.array([[1, 1]]))\n",
    "assert np.allclose(vertstairs(2, 1), np.array([[1], [2]]))\n",
    "assert np.allclose(vertstairs(2, 2), np.array([[1, 2], [2, 1]]))\n",
    "assert type(vertstairs(2, 2)) == np.ndarray\n",
    "assert np.allclose(\n",
    "    vertstairs(4, 5),\n",
    "    np.array([[1, 4, 1, 4, 1], [2, 3, 2, 3, 2], [3, 2, 3, 2, 3], [4, 1, 4, 1, 4]]),\n",
    ")"
   ]
  },
  {
   "cell_type": "markdown",
   "id": "30b34c38",
   "metadata": {},
   "source": [
    "## Exercise - comprescol\n",
    "\n",
    "✪✪✪ Given an $n$ x $2m$ matrix `mat` with an even number of columns, RETURN a NEW $n$ x $m$ matrix in which the columns are given by the sum of corresponding column pairs from `mat`\n",
    "\n",
    "- if `mat` doesn't have an even number of columns, raise `ValueError`\n",
    "\n",
    "Example:\n",
    "\n",
    "```python\n",
    ">>> >>> comprescol(m)\n",
    "np.array([[ 9, 8, 6],\n",
    "          [12, 1, 7],\n",
    "          [13,11,10],\n",
    "          [ 7,10, 4],\n",
    "          [ 9, 7, 7]])\n",
    "```\n",
    "\n",
    "because\n",
    "\n",
    "```\n",
    "9 = 5 + 4     8 = 2 + 6     6 = 4 + 2\n",
    "12= 7 + 5     1 = 1 + 0     7 = 6 + 1\n",
    ". . .\n",
    "\n",
    "```\n"
   ]
  },
  {
   "cell_type": "code",
   "execution_count": 164,
   "id": "ee18a606",
   "metadata": {
    "tags": [
     "answer",
     "hide-input"
    ]
   },
   "outputs": [],
   "source": [
    "def comprescol(mat):\n",
    "    if mat.shape[1] % 2 != 0:\n",
    "        raise ValueError(\n",
    "            \"Expected matrix with an even number of columns, got instead %s\"\n",
    "            % mat.shape[1]\n",
    "        )\n",
    "    ret = mat[:, ::2].copy()\n",
    "    ret += mat[:, 1::2]\n",
    "    return ret"
   ]
  },
  {
   "cell_type": "code",
   "execution_count": 165,
   "id": "4ab01830",
   "metadata": {},
   "outputs": [
    {
     "data": {
      "text/plain": [
       "array([[ 9,  8,  6],\n",
       "       [12,  1,  7],\n",
       "       [13, 11, 10],\n",
       "       [ 7, 10,  4],\n",
       "       [ 9,  7,  7]])"
      ]
     },
     "execution_count": 165,
     "metadata": {},
     "output_type": "execute_result"
    }
   ],
   "source": [
    "m = np.array(\n",
    "    [\n",
    "        [5, 4, 2, 6, 4, 2],\n",
    "        [7, 5, 1, 0, 6, 1],\n",
    "        [6, 7, 9, 2, 3, 7],\n",
    "        [5, 2, 4, 6, 1, 3],\n",
    "        [7, 2, 3, 4, 2, 5],\n",
    "    ]\n",
    ")\n",
    "comprescol(m)"
   ]
  },
  {
   "cell_type": "code",
   "execution_count": 166,
   "id": "4ef6606e",
   "metadata": {},
   "outputs": [],
   "source": [
    "m1 = [[7, 9]]\n",
    "res = comprescol(np.array(m1))\n",
    "assert type(res) == np.ndarray\n",
    "assert np.allclose(res, np.array([[16]]))\n",
    "\n",
    "m2 = np.array([[5, 8], [7, 2]])\n",
    "assert np.allclose(comprescol(m2), np.array([[13], [9]]))\n",
    "assert np.allclose(\n",
    "    m2, np.array([[5, 8], [7, 2]])\n",
    ")  # check doesn't MODIFY original matrix\n",
    "\n",
    "m3 = np.array(\n",
    "    [\n",
    "        [5, 4, 2, 6, 4, 2],\n",
    "        [7, 5, 1, 0, 6, 1],\n",
    "        [6, 7, 9, 2, 3, 7],\n",
    "        [5, 2, 4, 6, 1, 3],\n",
    "        [7, 2, 3, 4, 2, 5],\n",
    "    ]\n",
    ")\n",
    "\n",
    "assert np.allclose(\n",
    "    comprescol(m3),\n",
    "    np.array([[9, 8, 6], [12, 1, 7], [13, 11, 10], [7, 10, 4], [9, 7, 7]]),\n",
    ")\n",
    "\n",
    "try:\n",
    "    comprescol(np.array([[7, 1, 6], [5, 2, 4]]))\n",
    "    raise Exception(\"I should have failed!\")\n",
    "except ValueError:\n",
    "    pass"
   ]
  },
  {
   "cell_type": "markdown",
   "id": "52cc34aa",
   "metadata": {},
   "source": [
    "## Exercise - revtriang\n",
    "\n",
    "✪✪✪ Givena square numpy matrix, RETURN a NEW numpy matrix having the same dimensions as the original one, and the numbers in the lower triangular part (excluding the diagonal) in reverse.\n",
    "\n",
    "- if the matrix is not square, raise `ValueError`"
   ]
  },
  {
   "cell_type": "code",
   "execution_count": 167,
   "id": "69daa7bb",
   "metadata": {
    "tags": [
     "answer",
     "hide-input"
    ]
   },
   "outputs": [],
   "source": [
    "def revtriang(mat):\n",
    "    n, m = mat.shape\n",
    "    if n != m:\n",
    "        raise ValueError(\"Expected square matrix, got instead n=%s, m=%s\" % (n, m))\n",
    "\n",
    "    ret = mat.copy()\n",
    "\n",
    "    for i in range(1, n):\n",
    "        ret[i, :i] = np.flip(mat[i, :i])\n",
    "    return ret"
   ]
  },
  {
   "cell_type": "code",
   "execution_count": 168,
   "id": "65c271a5",
   "metadata": {},
   "outputs": [
    {
     "data": {
      "text/plain": [
       "array([[5, 4, 2, 6, 4],\n",
       "       [3, 5, 1, 0, 6],\n",
       "       [4, 6, 9, 2, 3],\n",
       "       [8, 2, 5, 6, 1],\n",
       "       [2, 3, 9, 7, 2]])"
      ]
     },
     "execution_count": 168,
     "metadata": {},
     "output_type": "execute_result"
    }
   ],
   "source": [
    "m = np.array(\n",
    "    [\n",
    "        [5, 4, 2, 6, 4],\n",
    "        [3, 5, 1, 0, 6],\n",
    "        [6, 4, 9, 2, 3],\n",
    "        [5, 2, 8, 6, 1],\n",
    "        [7, 9, 3, 2, 2],\n",
    "    ]\n",
    ")\n",
    "revtriang(m)"
   ]
  },
  {
   "cell_type": "code",
   "execution_count": 169,
   "id": "da982024",
   "metadata": {},
   "outputs": [],
   "source": [
    "m1 = np.array([[8]])\n",
    "assert np.allclose(revtriang(m1), np.array([[8]]))\n",
    "\n",
    "\n",
    "m3 = np.array([[1, 5], [9, 6]])\n",
    "assert np.allclose(revtriang(m3), np.array([[1, 5], [9, 6]]))\n",
    "\n",
    "m4 = np.array([[1, 5, 8], [9, 6, 2], [3, 2, 5]])\n",
    "assert np.allclose(revtriang(m4), np.array([[1, 5, 8], [9, 6, 2], [2, 3, 5]]))\n",
    "assert np.allclose(\n",
    "    m4, np.array([[1, 5, 8], [9, 6, 2], [3, 2, 5]])\n",
    ")  # shouldn't change the original\n",
    "\n",
    "m5 = np.array(\n",
    "    [\n",
    "        [5, 4, 2, 6, 4],\n",
    "        [3, 5, 1, 0, 6],\n",
    "        [6, 4, 9, 2, 3],\n",
    "        [5, 2, 8, 6, 1],\n",
    "        [7, 9, 3, 2, 2],\n",
    "    ]\n",
    ")\n",
    "assert np.allclose(\n",
    "    revtriang(m5),\n",
    "    np.array(\n",
    "        [\n",
    "            [5, 4, 2, 6, 4],\n",
    "            [3, 5, 1, 0, 6],\n",
    "            [4, 6, 9, 2, 3],\n",
    "            [8, 2, 5, 6, 1],\n",
    "            [2, 3, 9, 7, 2],\n",
    "        ]\n",
    "    ),\n",
    ")\n",
    "try:\n",
    "    revtriang(np.array([[7, 1, 6], [5, 2, 4]]))\n",
    "    raise Exception(\"I should have failed!\")\n",
    "except ValueError:\n",
    "    pass"
   ]
  },
  {
   "cell_type": "markdown",
   "id": "8319c46e",
   "metadata": {},
   "source": [
    "## Exercise - walkas\n",
    "\n",
    "✪✪✪ Given a numpy matrix $n$ x $m$ with odd $m$, RETURN a numpy array containing all the numbers found along the path of an S, from bottom to top.\n",
    "\n",
    "**HINT**: can you determine the array dimension right away?"
   ]
  },
  {
   "cell_type": "code",
   "execution_count": 170,
   "id": "769f9840",
   "metadata": {
    "tags": [
     "answer",
     "hide-input"
    ]
   },
   "outputs": [],
   "source": [
    "def walkas(mat):\n",
    "    n, m = mat.shape\n",
    "    ret = np.zeros(n + m - 1)\n",
    "    ret[: m // 2] = mat[-1, : m // 2]\n",
    "    ret[m // 2 : m // 2 + n] = mat[::-1, m // 2]\n",
    "    ret[-m // 2 :] = mat[0, m // 2 :]\n",
    "    return ret"
   ]
  },
  {
   "cell_type": "code",
   "execution_count": 171,
   "id": "11f71947",
   "metadata": {},
   "outputs": [
    {
     "data": {
      "text/plain": [
       "array([4., 3., 8., 5., 2., 7., 3., 8., 4., 6., 5., 7.])"
      ]
     },
     "execution_count": 171,
     "metadata": {},
     "output_type": "execute_result"
    }
   ],
   "source": [
    "m = np.array(\n",
    "    [\n",
    "        [5, 8, 2, 4, 6, 5, 7],\n",
    "        [7, 9, 5, 8, 3, 2, 2],\n",
    "        [6, 1, 8, 3, 6, 6, 1],\n",
    "        [1, 5, 3, 7, 9, 4, 7],\n",
    "        [1, 5, 3, 2, 9, 5, 4],\n",
    "        [4, 3, 8, 5, 6, 1, 5],\n",
    "    ]\n",
    ")\n",
    "walkas(m)"
   ]
  },
  {
   "cell_type": "code",
   "execution_count": 172,
   "id": "9eefb5ab",
   "metadata": {},
   "outputs": [],
   "source": [
    "m1 = np.array([[7]])\n",
    "assert np.allclose(walkas(m1), np.array([7]))\n",
    "\n",
    "m2 = np.array([[7, 5, 2]])\n",
    "assert np.allclose(walkas(m2), np.array([7, 5, 2]))\n",
    "\n",
    "m3 = np.array([[9, 3, 5, 6, 0]])\n",
    "assert np.allclose(walkas(m3), np.array([9, 3, 5, 6, 0]))\n",
    "\n",
    "m4 = np.array([[7, 5, 2], [9, 3, 4]])\n",
    "assert np.allclose(walkas(m4), np.array([9, 3, 5, 2]))\n",
    "\n",
    "m5 = np.array([[7, 4, 6], [8, 2, 1], [0, 5, 3]])\n",
    "assert np.allclose(walkas(m5), np.array([0, 5, 2, 4, 6]))\n",
    "\n",
    "m6 = np.array(\n",
    "    [\n",
    "        [5, 8, 2, 4, 6, 5, 7],\n",
    "        [7, 9, 5, 8, 3, 2, 2],\n",
    "        [6, 1, 8, 3, 6, 6, 1],\n",
    "        [1, 5, 3, 7, 9, 4, 7],\n",
    "        [1, 5, 3, 2, 9, 5, 4],\n",
    "        [4, 3, 8, 5, 6, 1, 5],\n",
    "    ]\n",
    ")\n",
    "assert np.allclose(walkas(m6), np.array([4, 3, 8, 5, 2, 7, 3, 8, 4, 6, 5, 7]))"
   ]
  },
  {
   "cell_type": "markdown",
   "id": "8a10b0fe",
   "metadata": {},
   "source": [
    "## Exercise - walkaz\n",
    "\n",
    "✪✪✪ Given a numpy matrix $n$ x $m$ with odd $m$, RETURN a numpy array containing all the numbers found along the path of an Z, from bottom to top.\n",
    "\n",
    "**HINT**: can you determine the array dimension right away?"
   ]
  },
  {
   "cell_type": "code",
   "execution_count": 173,
   "id": "279f5b29",
   "metadata": {
    "tags": [
     "answer",
     "hide-input"
    ]
   },
   "outputs": [],
   "source": [
    "def walkaz(mat):\n",
    "    n, m = mat.shape\n",
    "    ret = np.zeros(n + m - 1)\n",
    "    ret[: m // 2] = mat[-1, -1 : m // 2 : -1]\n",
    "    ret[m // 2 : m // 2 + n] = mat[::-1, m // 2]\n",
    "    ret[-m // 2 :] = mat[0, m // 2 :: -1]\n",
    "    return ret"
   ]
  },
  {
   "cell_type": "code",
   "execution_count": 174,
   "id": "bbb48ee4",
   "metadata": {},
   "outputs": [
    {
     "data": {
      "text/plain": [
       "array([5., 1., 6., 5., 2., 7., 3., 8., 4., 2., 8., 5.])"
      ]
     },
     "execution_count": 174,
     "metadata": {},
     "output_type": "execute_result"
    }
   ],
   "source": [
    "m = np.array(\n",
    "    [\n",
    "        [5, 8, 2, 4, 6, 5, 7],\n",
    "        [7, 9, 5, 8, 3, 2, 2],\n",
    "        [6, 1, 8, 3, 6, 6, 1],\n",
    "        [1, 5, 3, 7, 9, 4, 7],\n",
    "        [1, 5, 3, 2, 9, 5, 4],\n",
    "        [4, 3, 8, 5, 6, 1, 5],\n",
    "    ]\n",
    ")\n",
    "walkaz(m)"
   ]
  },
  {
   "cell_type": "code",
   "execution_count": 175,
   "id": "0dd28583",
   "metadata": {},
   "outputs": [],
   "source": [
    "m1 = np.array([[7]])\n",
    "assert np.allclose(walkaz(m1), np.array([7]))\n",
    "\n",
    "m2 = np.array([[7, 5, 2]])\n",
    "assert np.allclose(walkaz(m2), np.array([2, 5, 7]))\n",
    "\n",
    "m3 = np.array([[9, 3, 5, 6, 0]])\n",
    "assert np.allclose(walkaz(m3), np.array([0, 6, 5, 3, 9]))\n",
    "\n",
    "m4 = np.array([[7, 5, 2], [9, 3, 4]])\n",
    "assert np.allclose(walkaz(m4), np.array([4, 3, 5, 7]))\n",
    "\n",
    "m5 = np.array([[7, 4, 6], [8, 2, 1], [0, 5, 3]])\n",
    "assert np.allclose(walkaz(m5), np.array([3, 5, 2, 4, 7]))\n",
    "\n",
    "m6 = np.array(\n",
    "    [\n",
    "        [5, 8, 2, 4, 6, 5, 7],\n",
    "        [7, 9, 5, 8, 3, 2, 2],\n",
    "        [6, 1, 8, 3, 6, 6, 1],\n",
    "        [1, 5, 3, 7, 9, 4, 7],\n",
    "        [1, 5, 3, 2, 9, 5, 4],\n",
    "        [4, 3, 8, 5, 6, 1, 5],\n",
    "    ]\n",
    ")\n",
    "assert np.allclose(walkaz(m6), np.array([5, 1, 6, 5, 2, 7, 3, 8, 4, 2, 8, 5]))"
   ]
  },
  {
   "cell_type": "markdown",
   "id": "72a83255",
   "metadata": {},
   "source": [
    "## Continue\n",
    "\n",
    "Try doing exercises from {doc}`../mixed-structures/1-nested-structures-sol` using Numpy instead - try making the exercises performant by using Numpy features and functions (i.e. `2*arr` multiplies all numbers in arr without the need of a slow Python `for`)\n",
    "\n",
    "## References\n",
    "\n",
    "- You can find much more details on [Python Data Science Handbook, Numpy part](https://jakevdp.github.io/PythonDataScienceHandbook/02.00-introduction-to-numpy.html)\n",
    "- [machinelearningplus](https://www.machinelearningplus.com/python/101-numpy-exercises-python/) has Numpy exercises - (difficulty L1, L2, you can also try L3)\n"
   ]
  },
  {
   "cell_type": "code",
   "execution_count": null,
   "id": "13ae9904",
   "metadata": {},
   "outputs": [],
   "source": []
  }
 ],
 "metadata": {
  "celltoolbar": "Edit Metadata",
  "kernelspec": {
   "display_name": "Python 3 (ipykernel)",
   "language": "python",
   "name": "python3"
  },
  "language_info": {
   "codemirror_mode": {
    "name": "ipython",
    "version": 3
   },
   "file_extension": ".py",
   "mimetype": "text/x-python",
   "name": "python",
   "nbconvert_exporter": "python",
   "pygments_lexer": "ipython3",
   "version": "3.10.14"
  },
  "toc": {
   "base_numbering": 1,
   "nav_menu": {},
   "number_sections": false,
   "sideBar": true,
   "skip_h1_title": false,
   "title_cell": "Table of Contents",
   "title_sidebar": "Contents",
   "toc_cell": false,
   "toc_position": {
    "height": "calc(100% - 180px)",
    "left": "10px",
    "top": "150px",
    "width": "268px"
   },
   "toc_section_display": true,
   "toc_window_display": true
  }
 },
 "nbformat": 4,
 "nbformat_minor": 5
}
