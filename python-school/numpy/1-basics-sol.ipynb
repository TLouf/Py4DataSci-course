{
 "cells": [
  {
   "cell_type": "markdown",
   "id": "9460fb7e-85e2-4be8-bf39-bbf4e7558408",
   "metadata": {},
   "source": [
    "# Basics \n",
    "\n",
    "This guide was almost completely adapted from the great \n",
    "[NumPy: the absolute basics for beginners](https://numpy.org/doc/stable/user/absolute_beginners.html) tutorial. You can also check out \n",
    "[this other guide with more illustrations](https://betterprogramming.pub/numpy-illustrated-the-visual-guide-to-numpy-3b1d4976de1d).\n",
    "\n",
    "NumPy (**Num**erical **Py**thon) is an open source Python library that's\n",
    "widely used in science and engineering. The NumPy library contains\n",
    "multidimensional array data structures, such as the homogeneous,\n",
    "N-dimensional `ndarray`, and a large library of functions that operate\n",
    "efficiently on these data structures. "
   ]
  },
  {
   "cell_type": "markdown",
   "id": "b5c7b334",
   "metadata": {},
   "source": [
    "## How to import NumPy\n",
    "\n",
    "After [installing NumPy](https://numpy.org/install/), it may be imported\n",
    "into Python code like:\n",
    "\n"
   ]
  },
  {
   "cell_type": "code",
   "execution_count": 2,
   "id": "405e24a3",
   "metadata": {},
   "outputs": [],
   "source": [
    "import numpy as np"
   ]
  },
  {
   "cell_type": "markdown",
   "id": "871d2af2",
   "metadata": {
    "vscode": {
     "languageId": "plaintext"
    }
   },
   "source": [
    "This widespread convention allows access to NumPy features with a short,\n",
    "recognizable prefix (`np.`) while distinguishing NumPy features from\n",
    "others that have the same name."
   ]
  },
  {
   "cell_type": "markdown",
   "id": "5f2c416b",
   "metadata": {},
   "source": [
    "## Why use NumPy?\n",
    "\n",
    "Python lists are excellent, general-purpose containers. They can be\n",
    "\"heterogeneous\", meaning that they can contain elements of a variety of\n",
    "types, and they are quite fast when used to perform individual\n",
    "operations on a handful of elements.\n",
    "\n",
    "Depending on the characteristics of the data and the types of operations\n",
    "that need to be performed, other containers may be more appropriate; by\n",
    "exploiting these characteristics, we can improve speed, reduce memory\n",
    "consumption, and offer a high-level syntax for performing a variety of\n",
    "common processing tasks. NumPy shines when there are large quantities of\n",
    "\"homogeneous\" (same-type) data to be processed on the CPU."
   ]
  },
  {
   "cell_type": "markdown",
   "id": "0efcd585",
   "metadata": {},
   "source": [
    "To illustrate the performance boost NumPy can offer, we perform the same operations, first in pure Python, then using NumPy, and time both of them:"
   ]
  },
  {
   "cell_type": "code",
   "execution_count": null,
   "id": "d82e7532",
   "metadata": {},
   "outputs": [
    {
     "name": "stdout",
     "output_type": "stream",
     "text": [
      "CPU times: user 18.2 ms, sys: 8.55 ms, total: 26.7 ms\n",
      "Wall time: 26.3 ms\n"
     ]
    }
   ],
   "source": [
    "%%time\n",
    "li = [i for i in range(1000000)]\n",
    "list_sum = sum(li)"
   ]
  },
  {
   "cell_type": "code",
   "execution_count": null,
   "id": "b2942a12",
   "metadata": {},
   "outputs": [
    {
     "name": "stdout",
     "output_type": "stream",
     "text": [
      "CPU times: user 2.86 ms, sys: 2.28 ms, total: 5.14 ms\n",
      "Wall time: 3.34 ms\n"
     ]
    }
   ],
   "source": [
    "%%time\n",
    "arr = np.arange(1000000)\n",
    "arr_sum = np.sum(arr)"
   ]
  },
  {
   "cell_type": "markdown",
   "id": "29d7f05b",
   "metadata": {},
   "source": [
    "```{tip}\n",
    "Note the use of the `%%time` cell magic, it is very useful to compare the performance of two pieces of code!\n",
    "```"
   ]
  },
  {
   "cell_type": "markdown",
   "id": "56858c26",
   "metadata": {
    "vscode": {
     "languageId": "plaintext"
    }
   },
   "source": [
    "## What is an \"array\"?\n",
    "\n",
    "In computer programming, an array is a structure for storing and\n",
    "retrieving data. We often talk about an array as if it were a grid in\n",
    "space, with each cell storing one element of the data. For instance, if\n",
    "each element of the data were a number, we might visualize a\n",
    "\"one-dimensional\" array like a list:\n",
    "\n",
    "$$\\begin{aligned}\n",
    "\\begin{array}{|c||c|c|c|}\n",
    "\\hline\n",
    "1 & 5 & 2 & 0 \\\\\n",
    "\\hline\n",
    "\\end{array}\n",
    "\\end{aligned}$$\n",
    "\n",
    "A two-dimensional array would be like a table:\n",
    "\n",
    "$$\\begin{aligned}\n",
    "\\begin{array}{|c||c|c|c|}\n",
    "\\hline\n",
    "1 & 5 & 2 & 0 \\\\\n",
    "\\hline\n",
    "8 & 3 & 6 & 1 \\\\\n",
    "\\hline\n",
    "1 & 7 & 2 & 9 \\\\\n",
    "\\hline\n",
    "\\end{array}\n",
    "\\end{aligned}$$\n",
    "\n",
    "A three-dimensional array would be like a set of tables, perhaps stacked\n",
    "as though they were printed on separate pages. In NumPy, this idea is\n",
    "generalized to an arbitrary number of dimensions, and so the fundamental\n",
    "array class is called `ndarray`: it represents an \"N-dimensional array\".\n",
    "\n",
    "Most NumPy arrays have some restrictions. For instance:\n",
    "\n",
    "-   All elements of the array must be of the same type of data.\n",
    "-   Once created, the total size of the array can't change.\n",
    "-   The shape must be \"rectangular\", not \"jagged\"; e.g., each row of a\n",
    "    two-dimensional array must have the same number of columns.\n",
    "\n",
    "When these conditions are met, NumPy exploits these characteristics to\n",
    "make the array faster, more memory efficient, and more convenient to use\n",
    "than less restrictive data structures.\n",
    "\n",
    "For the remainder of this document, we will use the word \"array\" to\n",
    "refer to an instance of `ndarray`."
   ]
  },
  {
   "cell_type": "markdown",
   "id": "a6e2efa8",
   "metadata": {},
   "source": [
    "## Array fundamentals\n",
    "\n",
    "One way to initialize an array is using a Python sequence, such as a\n",
    "list. For example:"
   ]
  },
  {
   "cell_type": "code",
   "execution_count": 5,
   "id": "840a6c9e",
   "metadata": {},
   "outputs": [
    {
     "data": {
      "text/plain": [
       "array([1, 2, 3, 4, 5, 6])"
      ]
     },
     "execution_count": 5,
     "metadata": {},
     "output_type": "execute_result"
    }
   ],
   "source": [
    "a = np.array([1, 2, 3, 4, 5, 6])\n",
    "a"
   ]
  },
  {
   "cell_type": "markdown",
   "id": "d8b7a83d",
   "metadata": {},
   "source": [
    "Elements of an array can be accessed in various ways. For instance, we can\n",
    "access an individual element of this array as we would access an element\n",
    "in the original list: using the integer index of the element within\n",
    "square brackets."
   ]
  },
  {
   "cell_type": "code",
   "execution_count": 6,
   "id": "b193ca77",
   "metadata": {},
   "outputs": [
    {
     "data": {
      "text/plain": [
       "1"
      ]
     },
     "execution_count": 6,
     "metadata": {},
     "output_type": "execute_result"
    }
   ],
   "source": [
    "a[0]"
   ]
  },
  {
   "cell_type": "markdown",
   "id": "996eb381",
   "metadata": {},
   "source": [
    "```{note}\n",
    "As with built-in Python sequences, NumPy arrays are \"0-indexed\": the\n",
    "first element of the array is accessed using index `0`, not `1`.\n",
    "```\n",
    "\n",
    "Like the original list, the array is mutable."
   ]
  },
  {
   "cell_type": "code",
   "execution_count": 7,
   "id": "d6df929d",
   "metadata": {},
   "outputs": [
    {
     "data": {
      "text/plain": [
       "array([10,  2,  3,  4,  5,  6])"
      ]
     },
     "execution_count": 7,
     "metadata": {},
     "output_type": "execute_result"
    }
   ],
   "source": [
    "a[0] = 10\n",
    "a"
   ]
  },
  {
   "cell_type": "markdown",
   "id": "9fe32992",
   "metadata": {},
   "source": [
    "Also like the original list, Python slice notation can be used for\n",
    "indexing."
   ]
  },
  {
   "cell_type": "code",
   "execution_count": 8,
   "id": "5f32f348",
   "metadata": {},
   "outputs": [
    {
     "data": {
      "text/plain": [
       "array([10,  2,  3])"
      ]
     },
     "execution_count": 8,
     "metadata": {},
     "output_type": "execute_result"
    }
   ],
   "source": [
    "a[:3]"
   ]
  },
  {
   "cell_type": "markdown",
   "id": "5c43f443",
   "metadata": {},
   "source": [
    "One major difference is that slice indexing of a list copies the\n",
    "elements into a new list, but slicing an array returns a *view*: an\n",
    "object that refers to the data in the original array. The original array\n",
    "can be mutated using the view."
   ]
  },
  {
   "cell_type": "code",
   "execution_count": 9,
   "id": "56f019d4",
   "metadata": {},
   "outputs": [
    {
     "data": {
      "text/plain": [
       "array([4, 5, 6])"
      ]
     },
     "execution_count": 9,
     "metadata": {},
     "output_type": "execute_result"
    }
   ],
   "source": [
    "b = a[3:]\n",
    "b"
   ]
  },
  {
   "cell_type": "code",
   "execution_count": 10,
   "id": "a15b9031",
   "metadata": {},
   "outputs": [
    {
     "data": {
      "text/plain": [
       "array([10,  2,  3, 40,  5,  6])"
      ]
     },
     "execution_count": 10,
     "metadata": {},
     "output_type": "execute_result"
    }
   ],
   "source": [
    "b[0] = 40\n",
    "a"
   ]
  },
  {
   "cell_type": "markdown",
   "id": "20ee61b8",
   "metadata": {},
   "source": [
    "Two- and higher-dimensional arrays can be initialized from nested Python\n",
    "sequences:"
   ]
  },
  {
   "cell_type": "code",
   "execution_count": 11,
   "id": "02f13bd4",
   "metadata": {},
   "outputs": [
    {
     "data": {
      "text/plain": [
       "array([[ 1,  2,  3,  4],\n",
       "       [ 5,  6,  7,  8],\n",
       "       [ 9, 10, 11, 12]])"
      ]
     },
     "execution_count": 11,
     "metadata": {},
     "output_type": "execute_result"
    }
   ],
   "source": [
    "a = np.array([[1, 2, 3, 4], [5, 6, 7, 8], [9, 10, 11, 12]])\n",
    "a"
   ]
  },
  {
   "cell_type": "markdown",
   "id": "92ebe674",
   "metadata": {},
   "source": [
    "In NumPy, a dimension of an array is sometimes referred to as an \"axis\".\n",
    "This terminology may be useful to disambiguate between the\n",
    "dimensionality of an array and the dimensionality of the data\n",
    "represented by the array. For instance, the array `a` could represent\n",
    "three points, each lying within a four-dimensional space, but `a` has\n",
    "only two \"axes\".\n",
    "\n",
    "Another difference between an array and a list of lists is that an\n",
    "element of the array can be accessed by specifying the index along each\n",
    "axis within a *single* set of square brackets, separated by commas. For\n",
    "instance, the element `8` is in row `1` and column `3`:"
   ]
  },
  {
   "cell_type": "code",
   "execution_count": 12,
   "id": "dd209e19",
   "metadata": {},
   "outputs": [
    {
     "data": {
      "text/plain": [
       "8"
      ]
     },
     "execution_count": 12,
     "metadata": {},
     "output_type": "execute_result"
    }
   ],
   "source": [
    "a[1, 3]"
   ]
  },
  {
   "cell_type": "markdown",
   "id": "fba84a26",
   "metadata": {},
   "source": [
    "```{note}\n",
    "You might hear of a 0-D (zero-dimensional) array referred to as a\n",
    "\"scalar\", a 1-D (one-dimensional) array as a \"vector\", a 2-D\n",
    "(two-dimensional) array as a \"matrix\", or an N-D (N-dimensional, where\n",
    "\"N\" is typically an integer greater than 2) array as a \"tensor\". For\n",
    "clarity, it is best to avoid the mathematical terms when referring to an\n",
    "array because the mathematical objects with these names behave\n",
    "differently than arrays (e.g. \"matrix\" multiplication is fundamentally\n",
    "different from \"array\" multiplication), and there are other objects in\n",
    "the scientific Python ecosystem that have these names (e.g. the\n",
    "fundamental data structure of PyTorch is the \"tensor\").\n",
    "```"
   ]
  },
  {
   "cell_type": "markdown",
   "id": "441c80c4",
   "metadata": {},
   "source": [
    "## Array attributes\n",
    "\n",
    "The number of dimensions of an array is contained in the `ndim`\n",
    "attribute."
   ]
  },
  {
   "cell_type": "code",
   "execution_count": 13,
   "id": "ba6ebd54",
   "metadata": {},
   "outputs": [
    {
     "data": {
      "text/plain": [
       "2"
      ]
     },
     "execution_count": 13,
     "metadata": {},
     "output_type": "execute_result"
    }
   ],
   "source": [
    "a.ndim"
   ]
  },
  {
   "cell_type": "markdown",
   "id": "4e8149f4",
   "metadata": {},
   "source": [
    "The shape of an array is a tuple of non-negative integers that specify\n",
    "the number of elements along each dimension."
   ]
  },
  {
   "cell_type": "code",
   "execution_count": 14,
   "id": "d0cd2279",
   "metadata": {},
   "outputs": [
    {
     "data": {
      "text/plain": [
       "(3, 4)"
      ]
     },
     "execution_count": 14,
     "metadata": {},
     "output_type": "execute_result"
    }
   ],
   "source": [
    "a.shape"
   ]
  },
  {
   "cell_type": "markdown",
   "id": "6d6b25ad",
   "metadata": {},
   "source": [
    "The fixed, total number of elements in array is contained in the `size`\n",
    "attribute."
   ]
  },
  {
   "cell_type": "code",
   "execution_count": 15,
   "id": "2a9b050e",
   "metadata": {},
   "outputs": [
    {
     "data": {
      "text/plain": [
       "12"
      ]
     },
     "execution_count": 15,
     "metadata": {},
     "output_type": "execute_result"
    }
   ],
   "source": [
    "a.size"
   ]
  },
  {
   "cell_type": "markdown",
   "id": "91679e3b",
   "metadata": {},
   "source": [
    "\n",
    "Arrays are typically \"homogeneous\", meaning that they contain elements\n",
    "of only one \"data type\". The data type is recorded in the `dtype`\n",
    "attribute."
   ]
  },
  {
   "cell_type": "code",
   "execution_count": 16,
   "id": "16d3efcc",
   "metadata": {},
   "outputs": [
    {
     "data": {
      "text/plain": [
       "dtype('int64')"
      ]
     },
     "execution_count": 16,
     "metadata": {},
     "output_type": "execute_result"
    }
   ],
   "source": [
    "a.dtype"
   ]
  },
  {
   "cell_type": "markdown",
   "id": "9006981d",
   "metadata": {},
   "source": [
    "## How to create a basic array"
   ]
  },
  {
   "cell_type": "markdown",
   "id": "d26c9d1b",
   "metadata": {},
   "source": [
    "Besides creating an array from a sequence of elements, you can easily\n",
    "create an array filled with `0`'s:"
   ]
  },
  {
   "cell_type": "code",
   "execution_count": 17,
   "id": "4f69ffbe",
   "metadata": {},
   "outputs": [
    {
     "data": {
      "text/plain": [
       "array([0., 0.])"
      ]
     },
     "execution_count": 17,
     "metadata": {},
     "output_type": "execute_result"
    }
   ],
   "source": [
    "np.zeros(2)"
   ]
  },
  {
   "cell_type": "markdown",
   "id": "e6fe84ec",
   "metadata": {},
   "source": [
    "Or an array filled with `1`'s:"
   ]
  },
  {
   "cell_type": "code",
   "execution_count": 18,
   "id": "85ec33dc",
   "metadata": {},
   "outputs": [
    {
     "data": {
      "text/plain": [
       "array([1., 1.])"
      ]
     },
     "execution_count": 18,
     "metadata": {},
     "output_type": "execute_result"
    }
   ],
   "source": [
    "np.ones(2)"
   ]
  },
  {
   "cell_type": "markdown",
   "id": "58c5b57e",
   "metadata": {},
   "source": [
    "While the default data type is floating point (`np.float64`), you can\n",
    "explicitly specify which data type you want using the `dtype` keyword. :"
   ]
  },
  {
   "cell_type": "code",
   "execution_count": 19,
   "id": "e15b1668",
   "metadata": {},
   "outputs": [
    {
     "data": {
      "text/plain": [
       "array([1, 1])"
      ]
     },
     "execution_count": 19,
     "metadata": {},
     "output_type": "execute_result"
    }
   ],
   "source": [
    "x = np.ones(2, dtype=np.int64)\n",
    "x"
   ]
  },
  {
   "cell_type": "markdown",
   "id": "19a4eb18",
   "metadata": {},
   "source": [
    "You can also create an array filled with a specific value, using `np.full()`:"
   ]
  },
  {
   "cell_type": "code",
   "execution_count": 20,
   "id": "37a99d8f",
   "metadata": {},
   "outputs": [
    {
     "data": {
      "text/plain": [
       "array([[42, 42, 42],\n",
       "       [42, 42, 42]])"
      ]
     },
     "execution_count": 20,
     "metadata": {},
     "output_type": "execute_result"
    }
   ],
   "source": [
    "np.full((2, 3), 42)"
   ]
  },
  {
   "cell_type": "markdown",
   "id": "3f244c51",
   "metadata": {},
   "source": [
    "You can also create an array with a range of elements:"
   ]
  },
  {
   "cell_type": "code",
   "execution_count": 21,
   "id": "ce233034",
   "metadata": {},
   "outputs": [
    {
     "data": {
      "text/plain": [
       "array([0, 1, 2, 3])"
      ]
     },
     "execution_count": 21,
     "metadata": {},
     "output_type": "execute_result"
    }
   ],
   "source": [
    "np.arange(4)"
   ]
  },
  {
   "cell_type": "markdown",
   "id": "0777f796",
   "metadata": {},
   "source": [
    "And even an array that contains a range of evenly spaced intervals. To\n",
    "do this, you will specify the **first number**, **last number**, and the\n",
    "**step size**. :"
   ]
  },
  {
   "cell_type": "code",
   "execution_count": 22,
   "id": "b321b7a7",
   "metadata": {},
   "outputs": [
    {
     "data": {
      "text/plain": [
       "array([2, 4, 6, 8])"
      ]
     },
     "execution_count": 22,
     "metadata": {},
     "output_type": "execute_result"
    }
   ],
   "source": [
    "np.arange(2, 9, 2)"
   ]
  },
  {
   "cell_type": "markdown",
   "id": "a76a2f76",
   "metadata": {},
   "source": [
    "**Exercise**: how would you create the equivalent list, in a single line?"
   ]
  },
  {
   "cell_type": "code",
   "execution_count": 23,
   "id": "9f0dfd5f",
   "metadata": {
    "tags": [
     "answer",
     "hide-input"
    ]
   },
   "outputs": [
    {
     "data": {
      "text/plain": [
       "[2, 4, 6, 8]"
      ]
     },
     "execution_count": 23,
     "metadata": {},
     "output_type": "execute_result"
    }
   ],
   "source": [
    "# Instead of creation an a(rray)range, simply create a list from a range!\n",
    "list(range(2, 9, 2))"
   ]
  },
  {
   "cell_type": "markdown",
   "id": "82a8353e",
   "metadata": {},
   "source": [
    "You can also use `np.linspace()` to create an array with `num` values\n",
    "spaced linearly in a specified interval:"
   ]
  },
  {
   "cell_type": "code",
   "execution_count": 24,
   "id": "99111d29",
   "metadata": {},
   "outputs": [
    {
     "data": {
      "text/plain": [
       "array([ 0. ,  2.5,  5. ,  7.5, 10. ])"
      ]
     },
     "execution_count": 24,
     "metadata": {},
     "output_type": "execute_result"
    }
   ],
   "source": [
    "np.linspace(0, 10, num=5)"
   ]
  },
  {
   "cell_type": "markdown",
   "id": "41d3375d",
   "metadata": {},
   "source": [
    "## Basic array operations"
   ]
  },
  {
   "cell_type": "markdown",
   "id": "11c9bb9f",
   "metadata": {},
   "source": [
    "Once you've created your arrays, you can start to work with them. Let's\n",
    "say, for example, that you've created two arrays, one called \"data\" and\n",
    "one called \"ones\"\n",
    "\n",
    "![image](img/np_array_dataones.png)"
   ]
  },
  {
   "cell_type": "markdown",
   "id": "d6ba6608",
   "metadata": {},
   "source": [
    "You can add the arrays together with the plus sign."
   ]
  },
  {
   "cell_type": "code",
   "execution_count": null,
   "id": "026cc4d4",
   "metadata": {},
   "outputs": [
    {
     "data": {
      "text/plain": [
       "array([2, 3])"
      ]
     },
     "metadata": {},
     "output_type": "display_data"
    }
   ],
   "source": [
    "data = np.array([1, 2])\n",
    "ones = np.ones(2, dtype=int)\n",
    "data + ones"
   ]
  },
  {
   "cell_type": "markdown",
   "id": "34b5aa4f",
   "metadata": {},
   "source": [
    "![image](img/np_data_plus_ones.png)"
   ]
  },
  {
   "cell_type": "markdown",
   "id": "a6c9f4d0",
   "metadata": {},
   "source": [
    "You can, of course, do more than just addition!"
   ]
  },
  {
   "cell_type": "code",
   "execution_count": null,
   "id": "051f4b88",
   "metadata": {},
   "outputs": [
    {
     "data": {
      "text/plain": [
       "(array([0, 1]), array([1, 4]), array([1., 1.]))"
      ]
     },
     "metadata": {},
     "output_type": "display_data"
    }
   ],
   "source": [
    "data - ones, data * data, data / data"
   ]
  },
  {
   "cell_type": "markdown",
   "id": "45de8c53",
   "metadata": {},
   "source": [
    "![image](img/np_sub_mult_divide.png)"
   ]
  },
  {
   "cell_type": "markdown",
   "id": "ca62cbf8",
   "metadata": {},
   "source": [
    "## How to create an array from existing data\n",
    "\n",
    "You can easily create a new array from a section of an existing array.\n",
    "\n",
    "Let's say you have this array:"
   ]
  },
  {
   "cell_type": "code",
   "execution_count": 123,
   "id": "8b4d9cd2",
   "metadata": {},
   "outputs": [],
   "source": [
    "a = np.array([1, 2, 3, 4, 5, 6, 7, 8, 9, 10])"
   ]
  },
  {
   "cell_type": "markdown",
   "id": "d0991235",
   "metadata": {},
   "source": [
    "You can concatenate it to another, to add new entries:"
   ]
  },
  {
   "cell_type": "code",
   "execution_count": 125,
   "id": "50c55653",
   "metadata": {},
   "outputs": [
    {
     "data": {
      "text/plain": [
       "array([ 1,  2,  3,  4,  5,  6,  7,  8,  9, 10, 11, 12])"
      ]
     },
     "execution_count": 125,
     "metadata": {},
     "output_type": "execute_result"
    }
   ],
   "source": [
    "np.concatenate([a, np.array([11, 12])])"
   ]
  },
  {
   "cell_type": "markdown",
   "id": "12d5d5fb",
   "metadata": {},
   "source": [
    "You can stack two existing arrays, both vertically and\n",
    "horizontally. Let's say you have two arrays, `a1` and `a2`:"
   ]
  },
  {
   "cell_type": "code",
   "execution_count": 27,
   "id": "dff42f55",
   "metadata": {},
   "outputs": [],
   "source": [
    "a1 = np.array(\n",
    "    [\n",
    "        [1, 1],\n",
    "        [2, 2],\n",
    "    ]\n",
    ")\n",
    "a2 = np.array(\n",
    "    [\n",
    "        [3, 3],\n",
    "        [4, 4],\n",
    "    ]\n",
    ")"
   ]
  },
  {
   "cell_type": "markdown",
   "id": "64447480",
   "metadata": {},
   "source": [
    "You can stack them vertically with `vstack`:"
   ]
  },
  {
   "cell_type": "code",
   "execution_count": 28,
   "id": "901fd114",
   "metadata": {},
   "outputs": [
    {
     "data": {
      "text/plain": [
       "array([[1, 1],\n",
       "       [2, 2],\n",
       "       [3, 3],\n",
       "       [4, 4]])"
      ]
     },
     "execution_count": 28,
     "metadata": {},
     "output_type": "execute_result"
    }
   ],
   "source": [
    "np.vstack([a1, a2])"
   ]
  },
  {
   "cell_type": "markdown",
   "id": "2df585d9",
   "metadata": {},
   "source": [
    "or, equivalently, concatenating them together along the rows, by passing `axis=0` to `np.concatenate()`:"
   ]
  },
  {
   "cell_type": "code",
   "execution_count": 29,
   "id": "e8e2fdc1",
   "metadata": {},
   "outputs": [
    {
     "data": {
      "text/plain": [
       "array([[1, 1],\n",
       "       [2, 2],\n",
       "       [3, 3],\n",
       "       [4, 4]])"
      ]
     },
     "execution_count": 29,
     "metadata": {},
     "output_type": "execute_result"
    }
   ],
   "source": [
    "np.concatenate([a1, a2], axis=0)"
   ]
  },
  {
   "cell_type": "markdown",
   "id": "50ac330a",
   "metadata": {},
   "source": [
    "Or stack them horizontally with `hstack`:"
   ]
  },
  {
   "cell_type": "code",
   "execution_count": 30,
   "id": "d38b196a",
   "metadata": {},
   "outputs": [
    {
     "data": {
      "text/plain": [
       "array([[1, 1, 3, 3],\n",
       "       [2, 2, 4, 4]])"
      ]
     },
     "execution_count": 30,
     "metadata": {},
     "output_type": "execute_result"
    }
   ],
   "source": [
    "np.hstack([a1, a2])"
   ]
  },
  {
   "cell_type": "markdown",
   "id": "585cef22",
   "metadata": {},
   "source": [
    "or, again, equivalently, concatenating them together along the columns, by passing `axis=1` to `np.concatenate()`:"
   ]
  },
  {
   "cell_type": "code",
   "execution_count": 31,
   "id": "c1075e0a",
   "metadata": {},
   "outputs": [
    {
     "data": {
      "text/plain": [
       "array([[1, 1, 3, 3],\n",
       "       [2, 2, 4, 4]])"
      ]
     },
     "execution_count": 31,
     "metadata": {},
     "output_type": "execute_result"
    }
   ],
   "source": [
    "np.concatenate([a1, a2], axis=1)"
   ]
  },
  {
   "cell_type": "markdown",
   "id": "4dd54afe",
   "metadata": {},
   "source": [
    "## Transposing and reshaping a matrix"
   ]
  },
  {
   "cell_type": "code",
   "execution_count": null,
   "id": "dea2ef0e",
   "metadata": {},
   "outputs": [],
   "source": [
    "data = np.arange(1, 7)"
   ]
  },
  {
   "cell_type": "markdown",
   "id": "0938d0d8",
   "metadata": {},
   "source": [
    "You may also need to switch the dimensions of a matrix. This can happen\n",
    "when, for example, you have a model that expects a certain input shape\n",
    "that is different from your dataset. This is where the `reshape` method\n",
    "can be useful. You simply need to pass in the new dimensions that you\n",
    "want for the matrix. :"
   ]
  },
  {
   "cell_type": "code",
   "execution_count": null,
   "id": "7cf9bd02",
   "metadata": {},
   "outputs": [
    {
     "data": {
      "text/plain": [
       "array([[1, 2, 3],\n",
       "       [4, 5, 6]])"
      ]
     },
     "metadata": {},
     "output_type": "display_data"
    }
   ],
   "source": [
    "data = data.reshape((2, 3))\n",
    "data"
   ]
  },
  {
   "cell_type": "code",
   "execution_count": null,
   "id": "fa8b86c1",
   "metadata": {},
   "outputs": [
    {
     "data": {
      "text/plain": [
       "array([[1, 2],\n",
       "       [3, 4],\n",
       "       [5, 6]])"
      ]
     },
     "metadata": {},
     "output_type": "display_data"
    }
   ],
   "source": [
    "data = data.reshape((3, 2))\n",
    "data"
   ]
  },
  {
   "cell_type": "markdown",
   "id": "2fb5a604",
   "metadata": {},
   "source": [
    "![image](img/np_reshape.png)"
   ]
  },
  {
   "cell_type": "markdown",
   "id": "05f10e31",
   "metadata": {},
   "source": [
    "You can transpose your array with `arr.transpose()`. :"
   ]
  },
  {
   "cell_type": "code",
   "execution_count": null,
   "id": "85486038",
   "metadata": {},
   "outputs": [
    {
     "data": {
      "text/plain": [
       "array([[1, 3, 5],\n",
       "       [2, 4, 6]])"
      ]
     },
     "metadata": {},
     "output_type": "display_data"
    }
   ],
   "source": [
    "data.transpose()"
   ]
  },
  {
   "cell_type": "markdown",
   "id": "2a9e8a08",
   "metadata": {},
   "source": [
    "You can also use `data.T`:"
   ]
  },
  {
   "cell_type": "code",
   "execution_count": null,
   "id": "4080c936",
   "metadata": {},
   "outputs": [
    {
     "data": {
      "text/plain": [
       "array([[1, 3, 5],\n",
       "       [2, 4, 6]])"
      ]
     },
     "metadata": {},
     "output_type": "display_data"
    }
   ],
   "source": [
    "data.T"
   ]
  },
  {
   "cell_type": "markdown",
   "id": "d109a375",
   "metadata": {},
   "source": [
    "![image](img/np_transposing_reshaping.png)"
   ]
  },
  {
   "cell_type": "markdown",
   "id": "86c3c7e3",
   "metadata": {},
   "source": [
    "```{admonition} Question\n",
    "Is the following code going to work? Why, or why not?\n",
    "```"
   ]
  },
  {
   "cell_type": "code",
   "execution_count": null,
   "id": "811c1275",
   "metadata": {
    "tags": [
     "hide-output",
     "raises-exception"
    ]
   },
   "outputs": [
    {
     "ename": "ValueError",
     "evalue": "cannot reshape array of size 6 into shape (3,3)",
     "output_type": "error",
     "traceback": [
      "\u001b[0;31m---------------------------------------------------------------------------\u001b[0m\n",
      "\u001b[0;31mValueError\u001b[0m                                Traceback (most recent call last)\n",
      "Cell \u001b[0;32mIn[68], line 1\u001b[0m\n",
      "\u001b[0;32m----> 1\u001b[0m \u001b[43mdata\u001b[49m\u001b[38;5;241;43m.\u001b[39;49m\u001b[43mreshape\u001b[49m\u001b[43m(\u001b[49m\u001b[43m(\u001b[49m\u001b[38;5;241;43m3\u001b[39;49m\u001b[43m,\u001b[49m\u001b[38;5;241;43m3\u001b[39;49m\u001b[43m)\u001b[49m\u001b[43m)\u001b[49m\n",
      "\n",
      "\u001b[0;31mValueError\u001b[0m: cannot reshape array of size 6 into shape (3,3)"
     ]
    }
   ],
   "source": [
    "data.reshape((3,3))"
   ]
  },
  {
   "cell_type": "markdown",
   "id": "81959530",
   "metadata": {},
   "source": [
    "```{admonition} Answer\n",
    ":class: tip dropdown\n",
    "No, because `data` has a shape `(3, 2)`, so `3 * 2 = 6` elements, while the shape `(3, 3)` would require `3 * 3 = 9` elements\n",
    "```"
   ]
  },
  {
   "cell_type": "markdown",
   "id": "57b52eed",
   "metadata": {},
   "source": [
    "## Broadcasting\n",
    "\n",
    "There are times when you might want to carry out an operation between an\n",
    "array and a single number (also called *an operation between a vector\n",
    "and a scalar*) or between arrays of two different sizes. For example,\n",
    "your array (we'll call it \"data\") might contain information about\n",
    "distance in miles but you want to convert the information to kilometers.\n",
    "You can perform this operation with:"
   ]
  },
  {
   "cell_type": "code",
   "execution_count": null,
   "id": "0289f4a1",
   "metadata": {},
   "outputs": [
    {
     "data": {
      "text/plain": [
       "array([1.6, 3.2])"
      ]
     },
     "metadata": {},
     "output_type": "display_data"
    }
   ],
   "source": [
    "data = np.array([1.0, 2.0])\n",
    "data * 1.6"
   ]
  },
  {
   "cell_type": "markdown",
   "id": "80885541",
   "metadata": {},
   "source": [
    "![image](img/np_multiply_broadcasting.png)"
   ]
  },
  {
   "cell_type": "markdown",
   "id": "3fb202bb",
   "metadata": {},
   "source": [
    "NumPy understands that the multiplication should happen with each cell.\n",
    "That concept is called **broadcasting**. Broadcasting is a mechanism\n",
    "that allows NumPy to perform operations on arrays of different shapes.\n",
    "The dimensions of your array must be compatible, for example, when the\n",
    "dimensions of both arrays are equal or when one of them is 1. If the\n",
    "dimensions are not compatible, you will get a `ValueError`.\n"
   ]
  },
  {
   "cell_type": "markdown",
   "id": "8ca38883",
   "metadata": {},
   "source": [
    "This works with scalars, but not only! For matrices, you can do these arithmetic operations on matrices of different sizes,\n",
    "but only if one matrix has only one column or one row. In this case,\n",
    "NumPy will use its broadcast rules for the operation. :"
   ]
  },
  {
   "cell_type": "code",
   "execution_count": null,
   "id": "b527404d",
   "metadata": {},
   "outputs": [
    {
     "data": {
      "text/plain": [
       "array([[2, 3],\n",
       "       [4, 5],\n",
       "       [6, 7]])"
      ]
     },
     "metadata": {},
     "output_type": "display_data"
    }
   ],
   "source": [
    "data = np.array([[1, 2], [3, 4], [5, 6]])\n",
    "ones_row = np.array([[1, 1]])\n",
    "data + ones_row"
   ]
  },
  {
   "cell_type": "markdown",
   "id": "af430897",
   "metadata": {},
   "source": [
    "![image](img/np_matrix_broadcasting.png)"
   ]
  },
  {
   "cell_type": "markdown",
   "id": "fe196d08",
   "metadata": {},
   "source": [
    "```{admonition} Question\n",
    "What would be the result of the following sum?\n",
    "```"
   ]
  },
  {
   "cell_type": "code",
   "execution_count": null,
   "id": "2e43a8fc",
   "metadata": {
    "tags": [
     "hide-output"
    ]
   },
   "outputs": [
    {
     "data": {
      "text/plain": [
       "array([[1, 2],\n",
       "       [4, 5],\n",
       "       [7, 8]])"
      ]
     },
     "metadata": {},
     "output_type": "display_data"
    }
   ],
   "source": [
    "range_col = np.arange(3).reshape((3, 1))\n",
    "data + range_col"
   ]
  },
  {
   "cell_type": "markdown",
   "id": "f828a90e",
   "metadata": {},
   "source": [
    "## Selecting part of an array "
   ]
  },
  {
   "cell_type": "markdown",
   "id": "47ba619a",
   "metadata": {},
   "source": [
    "### By index"
   ]
  },
  {
   "cell_type": "markdown",
   "id": "321bc944",
   "metadata": {},
   "source": [
    "You can index and slice NumPy arrays in the same ways you can slice\n",
    "Python lists. :"
   ]
  },
  {
   "cell_type": "code",
   "execution_count": 32,
   "id": "3a3370b8",
   "metadata": {},
   "outputs": [
    {
     "data": {
      "text/plain": [
       "2"
      ]
     },
     "execution_count": 32,
     "metadata": {},
     "output_type": "execute_result"
    }
   ],
   "source": [
    "data = np.array([1, 2, 3])\n",
    "data[1]"
   ]
  },
  {
   "cell_type": "code",
   "execution_count": 33,
   "id": "13c810d7",
   "metadata": {},
   "outputs": [
    {
     "data": {
      "text/plain": [
       "array([1, 2])"
      ]
     },
     "execution_count": 33,
     "metadata": {},
     "output_type": "execute_result"
    }
   ],
   "source": [
    "data[0:2]"
   ]
  },
  {
   "cell_type": "code",
   "execution_count": 34,
   "id": "0bd827de",
   "metadata": {},
   "outputs": [
    {
     "data": {
      "text/plain": [
       "array([2, 3])"
      ]
     },
     "execution_count": 34,
     "metadata": {},
     "output_type": "execute_result"
    }
   ],
   "source": [
    "data[1:]"
   ]
  },
  {
   "cell_type": "code",
   "execution_count": 35,
   "id": "e4a24ee0",
   "metadata": {},
   "outputs": [
    {
     "data": {
      "text/plain": [
       "array([2, 3])"
      ]
     },
     "execution_count": 35,
     "metadata": {},
     "output_type": "execute_result"
    }
   ],
   "source": [
    "data[-2:]"
   ]
  },
  {
   "cell_type": "markdown",
   "id": "ab27db6b",
   "metadata": {},
   "source": [
    "You can visualize it this way:\n",
    "\n",
    "![image](img/np_indexing.png)\n",
    "\n",
    "You may want to take a section of your array or specific array elements\n",
    "to use in further analysis or additional operations. To do that, you'll\n",
    "need to subset, slice, and/or index your arrays."
   ]
  },
  {
   "cell_type": "markdown",
   "id": "f5710a19",
   "metadata": {},
   "source": [
    "Same goes in more than one dimension, you may specify an index or slice along each dimension."
   ]
  },
  {
   "cell_type": "code",
   "execution_count": 94,
   "id": "f79b6451",
   "metadata": {},
   "outputs": [],
   "source": [
    "data = np.array([[1, 2], [3, 4], [5, 6]])"
   ]
  },
  {
   "cell_type": "markdown",
   "id": "7525deae",
   "metadata": {},
   "source": [
    "Like for instance, to select a single element:"
   ]
  },
  {
   "cell_type": "code",
   "execution_count": 96,
   "id": "20eebae5",
   "metadata": {},
   "outputs": [
    {
     "data": {
      "text/plain": [
       "(2,\n",
       " array([[3, 4],\n",
       "        [5, 6]]),\n",
       " array([1, 3]))"
      ]
     },
     "execution_count": 96,
     "metadata": {},
     "output_type": "execute_result"
    }
   ],
   "source": [
    "data[0, 1]"
   ]
  },
  {
   "cell_type": "markdown",
   "id": "a6c75405",
   "metadata": {},
   "source": [
    "Slicing over the rows only:"
   ]
  },
  {
   "cell_type": "code",
   "execution_count": 98,
   "id": "c103e9a8",
   "metadata": {},
   "outputs": [
    {
     "data": {
      "text/plain": [
       "array([[3, 4],\n",
       "       [5, 6]])"
      ]
     },
     "execution_count": 98,
     "metadata": {},
     "output_type": "execute_result"
    }
   ],
   "source": [
    "data[1:3]"
   ]
  },
  {
   "cell_type": "markdown",
   "id": "e1416709",
   "metadata": {},
   "source": [
    "Or taking a single column, and a slice of rows:"
   ]
  },
  {
   "cell_type": "code",
   "execution_count": 97,
   "id": "85a86b13",
   "metadata": {},
   "outputs": [
    {
     "data": {
      "text/plain": [
       "array([1, 3])"
      ]
     },
     "execution_count": 97,
     "metadata": {},
     "output_type": "execute_result"
    }
   ],
   "source": [
    "data[0:2, 0]"
   ]
  },
  {
   "cell_type": "markdown",
   "id": "c87ff8b5",
   "metadata": {},
   "source": [
    "![image](img/np_matrix_indexing.png)"
   ]
  },
  {
   "cell_type": "markdown",
   "id": "13157da5",
   "metadata": {},
   "source": [
    "### By array of indices"
   ]
  },
  {
   "cell_type": "markdown",
   "id": "52810fe9",
   "metadata": {},
   "source": [
    "You may also provide arrays of indices to select from:"
   ]
  },
  {
   "cell_type": "code",
   "execution_count": 103,
   "id": "d2447147",
   "metadata": {},
   "outputs": [
    {
     "data": {
      "text/plain": [
       "array([[3, 4],\n",
       "       [5, 6]])"
      ]
     },
     "execution_count": 103,
     "metadata": {},
     "output_type": "execute_result"
    }
   ],
   "source": [
    "data[np.array([1, 2])]"
   ]
  },
  {
   "cell_type": "markdown",
   "id": "68a4e0a2",
   "metadata": {},
   "source": [
    "```{admonition} Question\n",
    "Since `data[1:3]` is equivalent to `data[1:3, 0:2]`, what would you expect the following to return?\n",
    "```"
   ]
  },
  {
   "cell_type": "code",
   "execution_count": 106,
   "id": "bdf61686",
   "metadata": {
    "tags": [
     "hide-output"
    ]
   },
   "outputs": [
    {
     "data": {
      "text/plain": [
       "array([3, 6])"
      ]
     },
     "execution_count": 106,
     "metadata": {},
     "output_type": "execute_result"
    }
   ],
   "source": [
    "data[np.arange(1, 3), np.arange(0, 2)]"
   ]
  },
  {
   "cell_type": "markdown",
   "id": "6e2c1583",
   "metadata": {},
   "source": [
    "Probably not what you expected, uh? Why so? To answer that, let's see what happens if we write what we'd naively think the equivalent of `data[0:3, 0:2]` to be:"
   ]
  },
  {
   "cell_type": "code",
   "execution_count": 114,
   "id": "d234cbf1",
   "metadata": {
    "tags": [
     "raises-exception"
    ]
   },
   "outputs": [
    {
     "ename": "IndexError",
     "evalue": "shape mismatch: indexing arrays could not be broadcast together with shapes (3,) (1,2) ",
     "output_type": "error",
     "traceback": [
      "\u001b[0;31m---------------------------------------------------------------------------\u001b[0m",
      "\u001b[0;31mIndexError\u001b[0m                                Traceback (most recent call last)",
      "Cell \u001b[0;32mIn[114], line 1\u001b[0m\n\u001b[0;32m----> 1\u001b[0m \u001b[43mdata\u001b[49m\u001b[43m[\u001b[49m\u001b[43mnp\u001b[49m\u001b[38;5;241;43m.\u001b[39;49m\u001b[43marange\u001b[49m\u001b[43m(\u001b[49m\u001b[38;5;241;43m0\u001b[39;49m\u001b[43m,\u001b[49m\u001b[43m \u001b[49m\u001b[38;5;241;43m3\u001b[39;49m\u001b[43m)\u001b[49m\u001b[43m,\u001b[49m\u001b[43m \u001b[49m\u001b[43mnp\u001b[49m\u001b[38;5;241;43m.\u001b[39;49m\u001b[43marange\u001b[49m\u001b[43m(\u001b[49m\u001b[38;5;241;43m0\u001b[39;49m\u001b[43m,\u001b[49m\u001b[43m \u001b[49m\u001b[38;5;241;43m2\u001b[39;49m\u001b[43m)\u001b[49m\u001b[38;5;241;43m.\u001b[39;49m\u001b[43mreshape\u001b[49m\u001b[43m(\u001b[49m\u001b[38;5;241;43m1\u001b[39;49m\u001b[43m,\u001b[49m\u001b[43m \u001b[49m\u001b[38;5;241;43m2\u001b[39;49m\u001b[43m)\u001b[49m\u001b[43m]\u001b[49m\n",
      "\u001b[0;31mIndexError\u001b[0m: shape mismatch: indexing arrays could not be broadcast together with shapes (3,) (1,2) "
     ]
    }
   ],
   "source": [
    "data[np.arange(0, 3), np.arange(0, 2)]"
   ]
  },
  {
   "cell_type": "markdown",
   "id": "f6261c68",
   "metadata": {},
   "source": [
    "This does not just have an unexpected behaviour, it doesn't even work! But what's the problem? Inspecting the error, we see that the source of the problem is a broadcasting error. And when can a broadcasting error come up? This is a hard one but you may have guessed it: when we... try to broadcast.\n",
    "\n",
    "In fact, NumPy first takes the two arrays we pass it, and tries to broadcast them to a common shape, as can for instance be done successfully for the two following arrays:"
   ]
  },
  {
   "cell_type": "code",
   "execution_count": 128,
   "id": "dc637593",
   "metadata": {},
   "outputs": [
    {
     "data": {
      "text/plain": [
       "[array([[1, 2],\n",
       "        [1, 2]]),\n",
       " array([[0, 1],\n",
       "        [0, 1]])]"
      ]
     },
     "execution_count": 128,
     "metadata": {},
     "output_type": "execute_result"
    }
   ],
   "source": [
    "rows = np.arange(1, 3)\n",
    "cols = np.array([[0, 1], [0, 1]])\n",
    "np.broadcast_arrays(rows, cols)"
   ]
  },
  {
   "cell_type": "markdown",
   "id": "00dc6053",
   "metadata": {},
   "source": [
    "Then, since they are broadcastable, the following does work:"
   ]
  },
  {
   "cell_type": "code",
   "execution_count": 127,
   "id": "5f71dec2",
   "metadata": {},
   "outputs": [
    {
     "data": {
      "text/plain": [
       "array([[3, 6],\n",
       "       [3, 6]])"
      ]
     },
     "execution_count": 127,
     "metadata": {},
     "output_type": "execute_result"
    }
   ],
   "source": [
    "data[rows, cols]"
   ]
  },
  {
   "cell_type": "markdown",
   "id": "0fc631f6",
   "metadata": {},
   "source": [
    "As you can see, the result has the same shape as each output of the broadcasting. So, actually, in each broadcasted input, each element corresponds to the index to select from `data` along the dimension they represent. So for instance, the top left element will be taken from the second row (index=1) and the first column (index=0). "
   ]
  },
  {
   "cell_type": "markdown",
   "id": "b36aa81c",
   "metadata": {},
   "source": [
    "```{admonition} Question\n",
    "So what happened when we ran `data[np.arange(1, 3), np.arange(0, 2)]` above?\n",
    "```"
   ]
  },
  {
   "cell_type": "markdown",
   "id": "e7fd6772",
   "metadata": {},
   "source": [
    "```{admonition} Answer\n",
    ":class: tip dropdown\n",
    "This is a simpler example than what we just saw: here the broadcasting doesn't do anything, since the two input arrays have the same shape, equal to `(2,)`. So this just created an array of shape `(2,)`, in which the first element is taken from `data[1, 0]` (= 3), and the second from `data[2, 1]` (= 6).\n",
    "```"
   ]
  },
  {
   "cell_type": "markdown",
   "id": "60b2e275",
   "metadata": {},
   "source": [
    "### By condition"
   ]
  },
  {
   "cell_type": "markdown",
   "id": "db7c729a",
   "metadata": {},
   "source": [
    "If you want to select values from your array that fulfill certain\n",
    "conditions, it's straightforward with NumPy.\n",
    "\n",
    "For example, if you start with this array:"
   ]
  },
  {
   "cell_type": "code",
   "execution_count": 36,
   "id": "bd68067c",
   "metadata": {},
   "outputs": [],
   "source": [
    "a = np.array([[1 , 2, 3, 4], [5, 6, 7, 8], [9, 10, 11, 12]])"
   ]
  },
  {
   "cell_type": "markdown",
   "id": "667d3f63",
   "metadata": {},
   "source": [
    "You can easily print all of the values in the array that are less than\n",
    "5:"
   ]
  },
  {
   "cell_type": "code",
   "execution_count": 37,
   "id": "1aab1f45",
   "metadata": {},
   "outputs": [
    {
     "data": {
      "text/plain": [
       "array([1, 2, 3, 4])"
      ]
     },
     "execution_count": 37,
     "metadata": {},
     "output_type": "execute_result"
    }
   ],
   "source": [
    "a[a < 5]"
   ]
  },
  {
   "cell_type": "markdown",
   "id": "b0e10187",
   "metadata": {},
   "source": [
    "You can also select, for example, numbers that are equal to or greater\n",
    "than 5, and use that condition to index an array. :"
   ]
  },
  {
   "cell_type": "code",
   "execution_count": 38,
   "id": "8f4dde31",
   "metadata": {},
   "outputs": [
    {
     "data": {
      "text/plain": [
       "array([[False, False, False, False],\n",
       "       [ True,  True,  True,  True],\n",
       "       [ True,  True,  True,  True]])"
      ]
     },
     "execution_count": 38,
     "metadata": {},
     "output_type": "execute_result"
    }
   ],
   "source": [
    "five_up = (a >= 5)\n",
    "five_up"
   ]
  },
  {
   "cell_type": "markdown",
   "id": "896d2114",
   "metadata": {},
   "source": [
    "The variable `five_up` is what is known as a *boolean mask*: you can use it to mask part of an array to select only part of it, but also to modify part of it!"
   ]
  },
  {
   "cell_type": "markdown",
   "id": "af026e61",
   "metadata": {},
   "source": [
    "You can also select elements that satisfy two conditions using the `&` and\n",
    "`|` operators:"
   ]
  },
  {
   "cell_type": "code",
   "execution_count": 39,
   "id": "2e74dfb0",
   "metadata": {},
   "outputs": [
    {
     "data": {
      "text/plain": [
       "array([ 3,  4,  5,  6,  7,  8,  9, 10])"
      ]
     },
     "execution_count": 39,
     "metadata": {},
     "output_type": "execute_result"
    }
   ],
   "source": [
    "c = a[(a > 2) & (a < 11)]\n",
    "c"
   ]
  },
  {
   "cell_type": "markdown",
   "id": "c1c57680",
   "metadata": {},
   "source": [
    "You can also make use of the logical operators **&** and **\\|** in order\n",
    "to return boolean values that specify whether or not the values in an\n",
    "array fulfill a certain condition. This can be useful with arrays that\n",
    "contain names or other categorical values. :"
   ]
  },
  {
   "cell_type": "code",
   "execution_count": 40,
   "id": "68139edd",
   "metadata": {},
   "outputs": [
    {
     "data": {
      "text/plain": [
       "array([[False, False, False, False],\n",
       "       [ True,  True,  True,  True],\n",
       "       [ True,  True,  True,  True]])"
      ]
     },
     "execution_count": 40,
     "metadata": {},
     "output_type": "execute_result"
    }
   ],
   "source": [
    "five_up = (a > 5) | (a == 5)\n",
    "five_up"
   ]
  },
  {
   "cell_type": "markdown",
   "id": "a55f7a73",
   "metadata": {},
   "source": [
    "You can also use `np.nonzero()` to select elements or indices from an\n",
    "array.\n",
    "\n",
    "Starting with this array:"
   ]
  },
  {
   "cell_type": "code",
   "execution_count": 41,
   "id": "f386aec4",
   "metadata": {},
   "outputs": [],
   "source": [
    "a = np.array([[1, 2, 3, 4], [5, 6, 7, 8], [9, 10, 11, 12]])"
   ]
  },
  {
   "cell_type": "markdown",
   "id": "0fc81e5f",
   "metadata": {},
   "source": [
    "You can use `np.nonzero()` to print the indices of elements that are,\n",
    "for example, less than 5:"
   ]
  },
  {
   "cell_type": "code",
   "execution_count": 42,
   "id": "e42be1df",
   "metadata": {},
   "outputs": [
    {
     "data": {
      "text/plain": [
       "(array([0, 0, 0, 0]), array([0, 1, 2, 3]))"
      ]
     },
     "execution_count": 42,
     "metadata": {},
     "output_type": "execute_result"
    }
   ],
   "source": [
    "b = np.nonzero(a < 5)\n",
    "b"
   ]
  },
  {
   "cell_type": "markdown",
   "id": "1f4abeb2",
   "metadata": {},
   "source": [
    "In this example, a tuple of arrays was returned: one for each dimension.\n",
    "The first array represents the row indices where these values are found,\n",
    "and the second array represents the column indices where the values are\n",
    "found.\n",
    "\n",
    "If you want to generate a list of coordinates where the elements exist,\n",
    "you can zip the arrays, iterate over the list of coordinates, and print\n",
    "them. For example:"
   ]
  },
  {
   "cell_type": "code",
   "execution_count": 43,
   "id": "0c07fb10",
   "metadata": {},
   "outputs": [
    {
     "name": "stdout",
     "output_type": "stream",
     "text": [
      "(0, 0)\n",
      "(0, 1)\n",
      "(0, 2)\n",
      "(0, 3)\n"
     ]
    }
   ],
   "source": [
    "list_of_coordinates = list(zip(b[0], b[1]))\n",
    "for row, col in list_of_coordinates:\n",
    "    print((row, col))"
   ]
  },
  {
   "cell_type": "markdown",
   "id": "3e5d39cb",
   "metadata": {},
   "source": [
    "You can also use `np.nonzero()` to print the elements in an array that\n",
    "are less than 5 with:"
   ]
  },
  {
   "cell_type": "code",
   "execution_count": 44,
   "id": "590c73ac",
   "metadata": {},
   "outputs": [
    {
     "name": "stdout",
     "output_type": "stream",
     "text": [
      "[1 2 3 4]\n"
     ]
    }
   ],
   "source": [
    "print(a[b])"
   ]
  },
  {
   "cell_type": "markdown",
   "id": "67764a19",
   "metadata": {},
   "source": [
    "If the element you're looking for doesn't exist in the array, then the\n",
    "returned array of indices will be empty. For example:"
   ]
  },
  {
   "cell_type": "code",
   "execution_count": 45,
   "id": "34b47eb3",
   "metadata": {},
   "outputs": [
    {
     "name": "stdout",
     "output_type": "stream",
     "text": [
      "(array([], dtype=int64), array([], dtype=int64))\n"
     ]
    }
   ],
   "source": [
    "not_there = np.nonzero(a == 42)\n",
    "print(not_there)"
   ]
  },
  {
   "cell_type": "markdown",
   "id": "d8e401b6",
   "metadata": {},
   "source": [
    "**Exercise**: modify the arrays `floored1` and `floored2` so that their minimum value is 5, in two ways:\n",
    "- using a boolean mask directly\n",
    "- using `np.nonzero()`"
   ]
  },
  {
   "cell_type": "code",
   "execution_count": 46,
   "id": "02e4d7da",
   "metadata": {},
   "outputs": [],
   "source": [
    "floored1 = a.copy()\n",
    "floored2 = a.copy()"
   ]
  },
  {
   "cell_type": "code",
   "execution_count": 47,
   "id": "2bf3279e",
   "metadata": {
    "tags": [
     "answer",
     "hide-input"
    ]
   },
   "outputs": [
    {
     "data": {
      "text/plain": [
       "array([[ 5,  5,  5,  5],\n",
       "       [ 5,  6,  7,  8],\n",
       "       [ 9, 10, 11, 12]])"
      ]
     },
     "execution_count": 47,
     "metadata": {},
     "output_type": "execute_result"
    }
   ],
   "source": [
    "floored1[floored1 < 5] = 5\n",
    "floored1"
   ]
  },
  {
   "cell_type": "code",
   "execution_count": 48,
   "id": "c127ee2f",
   "metadata": {
    "tags": [
     "answer",
     "hide-input"
    ]
   },
   "outputs": [
    {
     "data": {
      "text/plain": [
       "array([[ 5,  5,  5,  5],\n",
       "       [ 5,  6,  7,  8],\n",
       "       [ 9, 10, 11, 12]])"
      ]
     },
     "execution_count": 48,
     "metadata": {},
     "output_type": "execute_result"
    }
   ],
   "source": [
    "floored2[np.nonzero(floored2 < 5)] = 5\n",
    "floored2"
   ]
  },
  {
   "cell_type": "markdown",
   "id": "fe794abb",
   "metadata": {},
   "source": [
    "## Array aggregation"
   ]
  },
  {
   "cell_type": "markdown",
   "id": "c5757feb",
   "metadata": {},
   "source": [
    "NumPy also performs aggregation functions, such as `min`, `max`, `sum`, `mean` to get the average, `prod` to get\n",
    "the result of multiplying the elements together, `std` to get the\n",
    "standard deviation, and more. :"
   ]
  },
  {
   "cell_type": "code",
   "execution_count": 212,
   "id": "e48d0cb5",
   "metadata": {},
   "outputs": [
    {
     "data": {
      "text/plain": [
       "array([[1, 2],\n",
       "       [5, 3],\n",
       "       [4, 6]])"
      ]
     },
     "execution_count": 212,
     "metadata": {},
     "output_type": "execute_result"
    }
   ],
   "source": [
    "data = np.array([[1, 2], [5, 3], [4, 6]])\n",
    "data"
   ]
  },
  {
   "cell_type": "code",
   "execution_count": 133,
   "id": "fb527bb1",
   "metadata": {},
   "outputs": [
    {
     "data": {
      "text/plain": [
       "(6, 1, 21)"
      ]
     },
     "execution_count": 133,
     "metadata": {},
     "output_type": "execute_result"
    }
   ],
   "source": [
    "data.max(), data.min(), data.sum()"
   ]
  },
  {
   "cell_type": "markdown",
   "id": "26669780",
   "metadata": {},
   "source": [
    "![](img/np_matrix_aggregation.png)"
   ]
  },
  {
   "cell_type": "markdown",
   "id": "f71a21a5",
   "metadata": {},
   "source": [
    "As you can see, by default, every NumPy aggregation function will return the aggregate of the entire array. But it's very common to want to aggregate along a row or column. For that, you need to say explicitly over which `axis` you wish your aggregation to run."
   ]
  },
  {
   "cell_type": "markdown",
   "id": "a263fcb0",
   "metadata": {},
   "source": [
    "For instance, you can get the maxmimum over the axis of rows with:"
   ]
  },
  {
   "cell_type": "code",
   "execution_count": 216,
   "id": "f564bcc7",
   "metadata": {},
   "outputs": [
    {
     "data": {
      "text/plain": [
       "array([5, 6])"
      ]
     },
     "execution_count": 216,
     "metadata": {},
     "output_type": "execute_result"
    }
   ],
   "source": [
    "data.max(axis=0)"
   ]
  },
  {
   "cell_type": "markdown",
   "id": "acdc4c52",
   "metadata": {},
   "source": [
    "You can get it over the axis of columns with:"
   ]
  },
  {
   "cell_type": "code",
   "execution_count": 217,
   "id": "48f05d43",
   "metadata": {},
   "outputs": [
    {
     "data": {
      "text/plain": [
       "array([2, 5, 6])"
      ]
     },
     "execution_count": 217,
     "metadata": {},
     "output_type": "execute_result"
    }
   ],
   "source": [
    "data.max(axis=1)"
   ]
  },
  {
   "cell_type": "markdown",
   "id": "079f0554",
   "metadata": {},
   "source": [
    "![image](img/np_matrix_aggregation_row.png)"
   ]
  },
  {
   "cell_type": "markdown",
   "id": "37bc28a1",
   "metadata": {},
   "source": [
    "## Working with mathematical formulas\n",
    "\n",
    "The ease of implementing mathematical formulas that work on arrays is\n",
    "one of the things that make NumPy so widely used in the scientific\n",
    "Python community.\n",
    "\n",
    "For example, this is the mean square error formula (a central formula\n",
    "used in supervised machine learning models that deal with regression):\n",
    "\n",
    "![image](img/np_MSE_formula.png)\n",
    "\n",
    "Implementing this formula is simple and straightforward in NumPy:\n",
    "\n",
    "![image](img/np_MSE_implementation.png)\n",
    "\n",
    "What makes this work so well is that `predictions` and `labels` can\n",
    "contain one or a thousand values. They only need to be the same size.\n",
    "\n",
    "You can visualize it this way:\n",
    "\n",
    "![image](img/np_mse_viz1.png)\n",
    "\n",
    "In this example, both the predictions and labels vectors contain three\n",
    "values, meaning `n` has a value of three. After we carry out\n",
    "subtractions the values in the vector are squared. Then NumPy sums the\n",
    "values, and your result is the error value for that prediction and a\n",
    "score for the quality of the model.\n",
    "\n",
    "![image](img/np_mse_viz2.png)\n",
    "\n",
    "![image](img/np_MSE_explanation2.png)"
   ]
  },
  {
   "cell_type": "markdown",
   "id": "0530640f",
   "metadata": {},
   "source": [
    "## NaNs and infinites"
   ]
  },
  {
   "cell_type": "markdown",
   "id": "e84227f1",
   "metadata": {},
   "source": [
    "Some operations may lead to situations that are not mathematically defined, or that yield infinite results. Let's have a brief overview of these two situations. "
   ]
  },
  {
   "cell_type": "markdown",
   "id": "70676d18",
   "metadata": {},
   "source": [
    "### NaNs"
   ]
  },
  {
   "cell_type": "markdown",
   "id": "a6b3ab46",
   "metadata": {},
   "source": [
    "A NaN is Not a Number, that you can get from NumPy simply as:"
   ]
  },
  {
   "cell_type": "code",
   "execution_count": 74,
   "id": "35c5813e",
   "metadata": {},
   "outputs": [
    {
     "data": {
      "text/plain": [
       "nan"
      ]
     },
     "execution_count": 74,
     "metadata": {},
     "output_type": "execute_result"
    }
   ],
   "source": [
    "np.nan"
   ]
  },
  {
   "cell_type": "markdown",
   "id": "32e439aa",
   "metadata": {},
   "source": [
    "But it is actually considered a float:"
   ]
  },
  {
   "cell_type": "code",
   "execution_count": 75,
   "id": "897789e4",
   "metadata": {},
   "outputs": [
    {
     "data": {
      "text/plain": [
       "float"
      ]
     },
     "execution_count": 75,
     "metadata": {},
     "output_type": "execute_result"
    }
   ],
   "source": [
    "type(np.nan)"
   ]
  },
  {
   "cell_type": "markdown",
   "id": "de269dc3",
   "metadata": {},
   "source": [
    "So it's a float number that is not a number, and more interesting even, that's not equal to itself:"
   ]
  },
  {
   "cell_type": "code",
   "execution_count": 77,
   "id": "537cd632",
   "metadata": {},
   "outputs": [
    {
     "data": {
      "text/plain": [
       "False"
      ]
     },
     "execution_count": 77,
     "metadata": {},
     "output_type": "execute_result"
    }
   ],
   "source": [
    "np.nan == np.nan"
   ]
  },
  {
   "cell_type": "markdown",
   "id": "f26b9b13",
   "metadata": {},
   "source": [
    "In reality, `np.nan` is not equal to _anything_, and further, any test that involves it on one side or the other of the test will return `False`. So for instance, as shown below, it is neither positive, nor negative or equal to 0:"
   ]
  },
  {
   "cell_type": "code",
   "execution_count": 78,
   "id": "75fdb9b5",
   "metadata": {},
   "outputs": [
    {
     "data": {
      "text/plain": [
       "True"
      ]
     },
     "execution_count": 78,
     "metadata": {},
     "output_type": "execute_result"
    }
   ],
   "source": [
    "not (np.nan > 0) and not (np.nan < 0) and not (np.nan == 0)"
   ]
  },
  {
   "cell_type": "markdown",
   "id": "514f0d9f",
   "metadata": {},
   "source": [
    "Further, (almost) any operation involving it will return `np.nan` as well:"
   ]
  },
  {
   "cell_type": "code",
   "execution_count": 80,
   "id": "b0a2638f",
   "metadata": {},
   "outputs": [
    {
     "data": {
      "text/plain": [
       "nan"
      ]
     },
     "execution_count": 80,
     "metadata": {},
     "output_type": "execute_result"
    }
   ],
   "source": [
    "0 * np.nan"
   ]
  },
  {
   "cell_type": "markdown",
   "id": "d2e6e9be",
   "metadata": {},
   "source": [
    "But so, what's the point of having this number? To answer that, let's talk a bit about maths."
   ]
  },
  {
   "cell_type": "markdown",
   "id": "36a0035a",
   "metadata": {},
   "source": [
    "In maths, some functions are not defined for a certain range of values. For instance, the logarithm `log(x)` has the following behaviour:\n",
    "\n",
    "* $x < 0$: not defined \n",
    "* $x = 0$: tends to minus infinity \n",
    "* $x > 0$: defined\n",
    "\n",
    "![log function](img/log.png)"
   ]
  },
  {
   "cell_type": "markdown",
   "id": "917d2176",
   "metadata": {},
   "source": [
    "So to define a `log` function in NumPy, what do we do when users pass values that are inferior to 0? One option could have been to raise an error. But if one single negative value is passed in a large array, this would discard the whole result of some computations. So, instead, the [standard defining floating point numbers](https://en.wikipedia.org/wiki/IEEE_754#NaNs) created this particular float to represent an undefined result. Therefore, the `log` function in NumPy returns `nan` when passed a negative number:"
   ]
  },
  {
   "cell_type": "code",
   "execution_count": 84,
   "id": "63e8e2a8",
   "metadata": {},
   "outputs": [
    {
     "name": "stderr",
     "output_type": "stream",
     "text": [
      "/tmp/ipykernel_296202/2474035747.py:1: RuntimeWarning: invalid value encountered in log\n",
      "  np.log([-1, 2, 3])\n"
     ]
    },
    {
     "data": {
      "text/plain": [
       "array([       nan, 0.69314718, 1.09861229])"
      ]
     },
     "execution_count": 84,
     "metadata": {},
     "output_type": "execute_result"
    }
   ],
   "source": [
    "np.log([-1, 2, 3])"
   ]
  },
  {
   "cell_type": "markdown",
   "id": "11b18b2d",
   "metadata": {},
   "source": [
    "and raises a warning, instead of an error. Thankfully, a special function `np.isnan()` is provided to detect their presence:"
   ]
  },
  {
   "cell_type": "code",
   "execution_count": 87,
   "id": "c7ce01e6",
   "metadata": {},
   "outputs": [
    {
     "name": "stderr",
     "output_type": "stream",
     "text": [
      "/tmp/ipykernel_296202/1668739231.py:1: RuntimeWarning: invalid value encountered in log\n",
      "  np.isnan(np.log([-1, 2, 3]))\n"
     ]
    },
    {
     "data": {
      "text/plain": [
       "array([ True, False, False])"
      ]
     },
     "execution_count": 87,
     "metadata": {},
     "output_type": "execute_result"
    }
   ],
   "source": [
    "np.isnan(np.log([-1, 2, 3]))"
   ]
  },
  {
   "cell_type": "markdown",
   "id": "3e9611b6",
   "metadata": {},
   "source": [
    "### Infinite"
   ]
  },
  {
   "cell_type": "markdown",
   "id": "dc0b6000",
   "metadata": {},
   "source": [
    "More straightforward are infinite numbers. Since they are infinitely large, it's not safe to represent the infinite by an arbitrarily large number, so, instead, a special floating-point number is used to represent it:"
   ]
  },
  {
   "cell_type": "code",
   "execution_count": 85,
   "id": "55dc5c92",
   "metadata": {},
   "outputs": [
    {
     "name": "stderr",
     "output_type": "stream",
     "text": [
      "/tmp/ipykernel_296202/2933082444.py:1: RuntimeWarning: divide by zero encountered in log\n",
      "  np.log(0)\n"
     ]
    },
    {
     "data": {
      "text/plain": [
       "-inf"
      ]
     },
     "execution_count": 85,
     "metadata": {},
     "output_type": "execute_result"
    }
   ],
   "source": [
    "np.log(0)"
   ]
  },
  {
   "cell_type": "markdown",
   "id": "d049e3d7",
   "metadata": {},
   "source": [
    "Which, similarly to `nan`, can be identified with:"
   ]
  },
  {
   "cell_type": "code",
   "execution_count": 86,
   "id": "38f8fae6",
   "metadata": {},
   "outputs": [
    {
     "name": "stderr",
     "output_type": "stream",
     "text": [
      "/tmp/ipykernel_296202/1630574277.py:1: RuntimeWarning: divide by zero encountered in log\n",
      "  np.isinf(np.log([0, 1, 2]))\n"
     ]
    },
    {
     "data": {
      "text/plain": [
       "array([ True, False, False])"
      ]
     },
     "execution_count": 86,
     "metadata": {},
     "output_type": "execute_result"
    }
   ],
   "source": [
    "np.isinf(np.log([0, 1, 2]))"
   ]
  },
  {
   "cell_type": "markdown",
   "id": "f9133117",
   "metadata": {},
   "source": [
    "### What to do with them?"
   ]
  },
  {
   "cell_type": "markdown",
   "id": "dec4889b",
   "metadata": {},
   "source": [
    "So, given an array which might have values leading to these behaviours, what do we do? Suppose we have the following example array:"
   ]
  },
  {
   "cell_type": "code",
   "execution_count": 91,
   "id": "640085ed",
   "metadata": {},
   "outputs": [],
   "source": [
    "arr = np.array([-1, 0, 1, 2])"
   ]
  },
  {
   "cell_type": "markdown",
   "id": "43712b1d",
   "metadata": {},
   "source": [
    "And a fucntion with some undefined domain, like `log`.\n",
    "\n",
    "Either you filter the array passed to `np.log()`, ensuring that whatever you pass it is within the range of values for which the function is properly defined:"
   ]
  },
  {
   "cell_type": "code",
   "execution_count": 92,
   "id": "ed7223fa",
   "metadata": {},
   "outputs": [
    {
     "data": {
      "text/plain": [
       "array([0.        , 0.69314718])"
      ]
     },
     "execution_count": 92,
     "metadata": {},
     "output_type": "execute_result"
    }
   ],
   "source": [
    "np.log(arr[arr > 0])"
   ]
  },
  {
   "cell_type": "markdown",
   "id": "b261950c",
   "metadata": {},
   "source": [
    "Or you filter values a posteriori:"
   ]
  },
  {
   "cell_type": "code",
   "execution_count": 93,
   "id": "e0c38f2c",
   "metadata": {},
   "outputs": [
    {
     "name": "stderr",
     "output_type": "stream",
     "text": [
      "/tmp/ipykernel_296202/3078605770.py:1: RuntimeWarning: divide by zero encountered in log\n",
      "  res = np.log(arr)\n",
      "/tmp/ipykernel_296202/3078605770.py:1: RuntimeWarning: invalid value encountered in log\n",
      "  res = np.log(arr)\n"
     ]
    },
    {
     "data": {
      "text/plain": [
       "array([0.        , 0.69314718])"
      ]
     },
     "execution_count": 93,
     "metadata": {},
     "output_type": "execute_result"
    }
   ],
   "source": [
    "res = np.log(arr)\n",
    "res[~np.isnan(res) & (~np.isinf(res))]"
   ]
  },
  {
   "cell_type": "markdown",
   "id": "7c39e04c",
   "metadata": {},
   "source": [
    "Note that in this example, the latter is more cumbersome. However, sometimes you might get an array with NaNs from another source, or they might be used to represent missing data, so it's good to be able to handle them."
   ]
  },
  {
   "cell_type": "markdown",
   "id": "23d62bf3",
   "metadata": {
    "vscode": {
     "languageId": "plaintext"
    }
   },
   "source": [
    "## How to save and load NumPy objects\n",
    "\n",
    "\n",
    "You will, at some point, want to save your arrays to disk and load them\n",
    "back without having to re-run the code. Fortunately, there are several\n",
    "ways to save and load objects with NumPy. The ndarray objects can be\n",
    "saved to and loaded from the disk files with `loadtxt` and `savetxt`\n",
    "functions that handle normal text files, `load` and `save` functions\n",
    "that handle NumPy binary files with a **.npy** file extension, and a\n",
    "`savez` function that handles NumPy files with a **.npz** file\n",
    "extension.\n",
    "\n",
    "```{note}\n",
    "The **.npy** and **.npz** files store data, shape, dtype, and other\n",
    "information required to reconstruct the ndarray in a way that allows the\n",
    "array to be correctly retrieved, even when the file is on another\n",
    "machine with different architecture.\n",
    "```\n",
    "\n",
    "Here, we will only cover `loadtxt` and `savetxt` though, as they'll also allow us to refresh your memory on reading and writing text files."
   ]
  },
  {
   "cell_type": "markdown",
   "id": "95a6742d",
   "metadata": {},
   "source": [
    "You can save a NumPy array as a plain text file like a **.csv** or\n",
    "**.txt** file with `np.savetxt`.\n",
    "\n",
    "For example, if you create this array:"
   ]
  },
  {
   "cell_type": "code",
   "execution_count": 130,
   "id": "53bf981d",
   "metadata": {},
   "outputs": [],
   "source": [
    "csv_arr = np.array([1, 2, 3, 4, 5, 6, 7, 8])"
   ]
  },
  {
   "cell_type": "markdown",
   "id": "ed0644ef",
   "metadata": {},
   "source": [
    "You can easily save it as a .csv file with the name \"new_file.csv\" like\n",
    "this:"
   ]
  },
  {
   "cell_type": "code",
   "execution_count": 131,
   "id": "53bbbebd",
   "metadata": {},
   "outputs": [],
   "source": [
    "np.savetxt('new_file.csv', csv_arr)"
   ]
  },
  {
   "cell_type": "markdown",
   "id": "6bb1a5e0",
   "metadata": {},
   "source": [
    "You can quickly and easily load your saved text file using `loadtxt()`:"
   ]
  },
  {
   "cell_type": "code",
   "execution_count": null,
   "id": "8d1c0936",
   "metadata": {},
   "outputs": [],
   "source": [
    "np.loadtxt('new_file.csv')"
   ]
  },
  {
   "cell_type": "markdown",
   "id": "b662a7ab",
   "metadata": {},
   "source": [
    "The ``savetxt()`` and ``loadtxt()`` functions accept additional optional\n",
    "parameters such as header, footer, and delimiter."
   ]
  }
 ],
 "metadata": {
  "kernelspec": {
   "display_name": "Python 3",
   "language": "python",
   "name": "python3"
  },
  "language_info": {
   "codemirror_mode": {
    "name": "ipython",
    "version": 3
   },
   "file_extension": ".py",
   "mimetype": "text/x-python",
   "name": "python",
   "nbconvert_exporter": "python",
   "pygments_lexer": "ipython3",
   "version": "3.10.14"
  }
 },
 "nbformat": 4,
 "nbformat_minor": 5
}
